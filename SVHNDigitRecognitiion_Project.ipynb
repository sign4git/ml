{
 "cells": [
  {
   "cell_type": "code",
   "execution_count": 6,
   "metadata": {
    "colab": {
     "base_uri": "https://localhost:8080/"
    },
    "id": "blajgroBCh8D",
    "outputId": "fde42313-b622-4c4f-fcf4-68337d9d3380"
   },
   "outputs": [
    {
     "name": "stdout",
     "output_type": "stream",
     "text": [
      "Drive already mounted at /content/drive; to attempt to forcibly remount, call drive.mount(\"/content/drive\", force_remount=True).\n"
     ]
    }
   ],
   "source": [
    "from google.colab import drive\n",
    "drive.mount(\"/content/drive\")"
   ]
  },
  {
   "cell_type": "code",
   "execution_count": 7,
   "metadata": {
    "colab": {
     "base_uri": "https://localhost:8080/",
     "height": 35
    },
    "id": "qRhO9fqDEU0x",
    "outputId": "1bd83844-513b-477f-a364-d23a38b2a01b"
   },
   "outputs": [
    {
     "data": {
      "application/vnd.google.colaboratory.intrinsic+json": {
       "type": "string"
      },
      "text/plain": [
       "'/content'"
      ]
     },
     "execution_count": 7,
     "metadata": {
      "tags": []
     },
     "output_type": "execute_result"
    }
   ],
   "source": [
    "pwd"
   ]
  },
  {
   "cell_type": "code",
   "execution_count": 34,
   "metadata": {
    "colab": {
     "base_uri": "https://localhost:8080/"
    },
    "id": "4EyVQqI3CwiQ",
    "outputId": "c98c9132-c43c-4b78-c34d-84f9b43f6d2a"
   },
   "outputs": [
    {
     "data": {
      "text/plain": [
       "<KeysViewHDF5 ['X_test', 'X_train', 'X_val', 'y_test', 'y_train', 'y_val']>"
      ]
     },
     "execution_count": 34,
     "metadata": {
      "tags": []
     },
     "output_type": "execute_result"
    }
   ],
   "source": [
    "import h5py\n",
    "h5f=h5py.File(\"/content/drive/MyDrive/Colab Notebooks/SVHN_single_grey1.h5\",'r')\n",
    "h5f.keys()"
   ]
  },
  {
   "cell_type": "code",
   "execution_count": 35,
   "metadata": {
    "id": "PYHVx-L0L-pm"
   },
   "outputs": [],
   "source": [
    "X_train=h5f[\"X_train\"][:]\n",
    "y_train=h5f[\"y_train\"][:]\n",
    "X_test=h5f[\"X_test\"][:]\n",
    "y_test=h5f[\"y_test\"][:]"
   ]
  },
  {
   "cell_type": "code",
   "execution_count": 36,
   "metadata": {
    "colab": {
     "base_uri": "https://localhost:8080/"
    },
    "id": "Frsg69HTMDlu",
    "outputId": "2abf1476-6eaa-4257-89f7-87fcfdf0de31"
   },
   "outputs": [
    {
     "name": "stdout",
     "output_type": "stream",
     "text": [
      "(42000, 32, 32)\n",
      "(42000,)\n",
      "(18000, 32, 32)\n",
      "(18000,)\n"
     ]
    }
   ],
   "source": [
    "print(X_train.shape)\n",
    "print(y_train.shape)\n",
    "print(X_test.shape)\n",
    "print(y_test.shape)"
   ]
  },
  {
   "cell_type": "code",
   "execution_count": 37,
   "metadata": {
    "colab": {
     "base_uri": "https://localhost:8080/"
    },
    "id": "x8HNUj_YMHF2",
    "outputId": "1cc0a171-bc0d-4c02-8fab-7f58d8aa1bfa"
   },
   "outputs": [
    {
     "data": {
      "text/plain": [
       "array([[[ 33.0704,  30.2601,  26.852 , ...,  71.4471,  58.2204,\n",
       "          42.9939],\n",
       "        [ 25.2283,  25.5533,  29.9765, ..., 113.0209, 103.3639,\n",
       "          84.2949],\n",
       "        [ 26.2775,  22.6137,  40.4763, ..., 113.3028, 121.775 ,\n",
       "         115.4228],\n",
       "        ...,\n",
       "        [ 28.5502,  36.212 ,  45.0801, ...,  24.1359,  25.0927,\n",
       "          26.0603],\n",
       "        [ 38.4352,  26.4733,  23.2717, ...,  28.1094,  29.4683,\n",
       "          30.0661],\n",
       "        [ 50.2984,  26.0773,  24.0389, ...,  49.6682,  50.853 ,\n",
       "          53.0377]],\n",
       "\n",
       "       [[ 86.9591,  87.0685,  88.3735, ...,  91.8014,  89.7477,\n",
       "          92.5302],\n",
       "        [ 86.688 ,  86.9114,  87.4337, ...,  90.7306,  87.204 ,\n",
       "          88.5629],\n",
       "        [ 85.9654,  85.8145,  85.9239, ...,  63.8626,  59.8199,\n",
       "          54.8805],\n",
       "        ...,\n",
       "        [ 90.2236,  91.0448,  93.4637, ...,  55.3535,  48.5822,\n",
       "          44.0557],\n",
       "        [ 90.6427,  90.4039,  90.937 , ...,  78.2696,  77.4977,\n",
       "          74.27  ],\n",
       "        [ 88.0236,  88.1977,  86.6709, ...,  75.2206,  76.6396,\n",
       "          79.2865]],\n",
       "\n",
       "       [[123.125 , 125.8581, 122.0757, ..., 123.5747, 124.1186,\n",
       "         123.3144],\n",
       "        [121.1683, 124.1294, 117.4613, ..., 115.6078, 119.5751,\n",
       "         122.8306],\n",
       "        [124.6132, 121.1019, 109.6623, ..., 111.1783, 119.7923,\n",
       "         124.7595],\n",
       "        ...,\n",
       "        [135.1391, 127.3679, 117.754 , ...,  95.0919, 105.5917,\n",
       "         114.9283],\n",
       "        [134.8402, 131.9545, 124.0415, ...,  93.864 , 105.3036,\n",
       "         115.1132],\n",
       "        [134.8402, 132.0685, 128.34  , ...,  93.9349, 104.7875,\n",
       "         113.8252]],\n",
       "\n",
       "       ...,\n",
       "\n",
       "       [[154.094 , 155.8057, 156.8164, ..., 138.9322, 136.1605,\n",
       "         133.0468],\n",
       "        [145.725 , 147.4367, 150.0343, ..., 145.4477, 140.9751,\n",
       "         136.9647],\n",
       "        [144.9531, 144.8391, 143.85  , ..., 143.263 , 143.263 ,\n",
       "         146.4799],\n",
       "        ...,\n",
       "        [150.2237, 150.8107, 150.1097, ...,  96.8207,  96.9239,\n",
       "          97.2228],\n",
       "        [151.6365, 152.2235, 151.1096, ..., 120.8892, 121.8891,\n",
       "         123.1771],\n",
       "        [146.5769, 147.9358, 147.9358, ..., 135.1328, 136.6596,\n",
       "         137.6595]],\n",
       "\n",
       "       [[207.4954, 208.4953, 213.0218, ..., 210.1361, 208.4244,\n",
       "         203.4357],\n",
       "        [204.4957, 207.6094, 213.6088, ..., 209.4243, 207.8374,\n",
       "         202.5498],\n",
       "        [204.3216, 208.3212, 212.9078, ..., 209.0222, 207.1364,\n",
       "         201.4359],\n",
       "        ...,\n",
       "        [199.1372, 202.083 , 207.4523, ..., 212.8477, 211.8478,\n",
       "         209.5491],\n",
       "        [201.137 , 201.61  , 205.2676, ..., 213.9616, 213.5487,\n",
       "         209.1362],\n",
       "        [202.9088, 202.9088, 206.9084, ..., 214.1357, 212.1359,\n",
       "         209.1362]],\n",
       "\n",
       "       [[ 95.0784,  96.0783, 100.0779, ..., 122.7551, 122.8691,\n",
       "         122.8691],\n",
       "        [ 95.0784,  96.0783, 100.0779, ..., 122.8691, 122.9831,\n",
       "         122.9831],\n",
       "        [ 95.0784,  96.0783, 101.0778, ..., 126.5698, 126.9827,\n",
       "         126.9827],\n",
       "        ...,\n",
       "        [ 98.833 ,  99.8329, 103.8325, ..., 129.8962, 131.896 ,\n",
       "         131.896 ],\n",
       "        [ 98.833 ,  99.8329, 103.8325, ..., 136.0805, 138.1943,\n",
       "         138.1943],\n",
       "        [ 98.833 ,  99.8329, 103.8325, ..., 138.0803, 140.493 ,\n",
       "         140.493 ]]], dtype=float32)"
      ]
     },
     "execution_count": 37,
     "metadata": {
      "tags": []
     },
     "output_type": "execute_result"
    }
   ],
   "source": [
    "X_train"
   ]
  },
  {
   "cell_type": "code",
   "execution_count": 38,
   "metadata": {
    "colab": {
     "base_uri": "https://localhost:8080/"
    },
    "id": "93viL9NRMI5t",
    "outputId": "513e577e-6fd1-40ae-c9a0-13e4bfd71838"
   },
   "outputs": [
    {
     "data": {
      "text/plain": [
       "array([2, 6, 7, ..., 7, 0, 4], dtype=uint8)"
      ]
     },
     "execution_count": 38,
     "metadata": {
      "tags": []
     },
     "output_type": "execute_result"
    }
   ],
   "source": [
    "y_train"
   ]
  },
  {
   "cell_type": "code",
   "execution_count": 39,
   "metadata": {
    "colab": {
     "base_uri": "https://localhost:8080/"
    },
    "id": "zMmQb9z8MNJx",
    "outputId": "6a5c28ea-6032-41f1-b477-bd05c8aaed8d"
   },
   "outputs": [
    {
     "data": {
      "text/plain": [
       "array([1, 7, 2, ..., 7, 9, 2], dtype=uint8)"
      ]
     },
     "execution_count": 39,
     "metadata": {
      "tags": []
     },
     "output_type": "execute_result"
    }
   ],
   "source": [
    "y_test"
   ]
  },
  {
   "cell_type": "code",
   "execution_count": 40,
   "metadata": {
    "colab": {
     "base_uri": "https://localhost:8080/"
    },
    "id": "1aN_ZtRyMP0A",
    "outputId": "47984dd7-00b5-412b-ffe2-b8ddbd81a159"
   },
   "outputs": [
    {
     "data": {
      "text/plain": [
       "array([[[ 40.558 ,  46.7917,  48.9764, ..., 112.1153, 112.9904,\n",
       "         112.1646],\n",
       "        [ 39.4379,  44.2911,  47.1768, ..., 111.0122, 110.9475,\n",
       "         109.9368],\n",
       "        [ 38.4488,  43.6394,  48.7098, ..., 109.8921, 109.9414,\n",
       "         109.1048],\n",
       "        ...,\n",
       "        [ 34.9869,  35.4707,  39.6676, ..., 109.211 , 109.9074,\n",
       "         112.7346],\n",
       "        [ 35.6602,  35.5462,  40.3193, ..., 110.9998, 112.049 ,\n",
       "         114.3431],\n",
       "        [ 36.1871,  35.4214,  40.6998, ..., 110.0169, 111.2017,\n",
       "         114.1906]],\n",
       "\n",
       "       [[115.1609, 114.161 , 113.1611, ..., 112.0302, 112.6711,\n",
       "         112.7851],\n",
       "        [110.5743, 110.2754, 108.9766, ..., 106.1448, 106.7857,\n",
       "         107.0137],\n",
       "        [102.8031, 102.5042, 101.7924, ...,  95.776 ,  95.531 ,\n",
       "          95.645 ],\n",
       "        ...,\n",
       "        [169.8457, 170.6176, 167.8028, ...,  45.1708,  55.6967,\n",
       "          62.81  ],\n",
       "        [157.7329, 157.6189, 153.8042, ...,  42.9538,  50.1811,\n",
       "          56.1805],\n",
       "        [150.3207, 149.2068, 144.8051, ...,  42.1388,  48.2522,\n",
       "          53.2517]],\n",
       "\n",
       "       [[133.255 , 134.7279, 136.3148, ..., 103.7248, 100.8391,\n",
       "         100.6111],\n",
       "        [134.2549, 135.8418, 138.3146, ..., 117.1965, 114.1968,\n",
       "         114.0828],\n",
       "        [136.2547, 135.9558, 137.4287, ..., 126.8535, 123.7398,\n",
       "         123.4409],\n",
       "        ...,\n",
       "        [135.4136, 133.4847, 131.2569, ..., 129.0552, 131.642 ,\n",
       "         133.4569],\n",
       "        [129.3972, 128.7671, 127.8381, ..., 128.5822, 129.2832,\n",
       "         129.9842],\n",
       "        [119.0823, 120.8649, 123.0496, ..., 128.1801, 127.8103,\n",
       "         128.2124]],\n",
       "\n",
       "       ...,\n",
       "\n",
       "       [[166.1898, 164.7169, 162.8311, ...,  92.9414,  97.3431,\n",
       "          97.9301],\n",
       "        [164.6029, 163.717 , 162.1301, ...,  93.0554,  97.3431,\n",
       "          97.0442],\n",
       "        [161.9021, 161.9021, 161.1302, ...,  94.1693,  97.5711,\n",
       "          97.1582],\n",
       "        ...,\n",
       "        [ 75.0679,  84.8219,  96.8638, ..., 163.9019, 163.7879,\n",
       "         163.6739],\n",
       "        [ 81.0673,  87.2947,  93.935 , ..., 163.016 , 162.788 ,\n",
       "         162.674 ],\n",
       "        [ 86.7247,  89.4794,  92.8211, ..., 162.902 , 162.788 ,\n",
       "         162.674 ]],\n",
       "\n",
       "       [[137.5778, 136.6919, 134.8061, ..., 111.1397, 109.314 ,\n",
       "         108.0152],\n",
       "        [131.5784, 130.6925, 127.9208, ..., 107.1401, 105.5424,\n",
       "         104.2436],\n",
       "        [119.8076, 118.8077, 115.0361, ..., 101.2547,  99.771 ,\n",
       "          98.8851],\n",
       "        ...,\n",
       "        [130.0238, 129.0239, 125.1383, ..., 141.3755, 141.3755,\n",
       "         140.3756],\n",
       "        [134.0234, 134.0234, 133.1375, ..., 144.4892, 143.3753,\n",
       "         142.3754],\n",
       "        [136.0232, 137.0231, 138.137 , ..., 144.7881, 142.7883,\n",
       "         141.7884]],\n",
       "\n",
       "       [[ 30.182 ,  30.182 ,  30.182 , ...,  41.1208,  42.1207,\n",
       "          42.8217],\n",
       "        [ 30.182 ,  30.182 ,  29.595 , ...,  40.1209,  41.1208,\n",
       "          41.8218],\n",
       "        [ 29.8939,  29.8939,  28.894 , ...,  39.121 ,  40.1209,\n",
       "          40.1209],\n",
       "        ...,\n",
       "        [ 31.9431,  31.9431,  31.9431, ...,  51.4958,  50.9088,\n",
       "          49.9089],\n",
       "        [ 31.1712,  31.1712,  32.0571, ...,  40.2627,  39.9638,\n",
       "          39.2628],\n",
       "        [ 31.1712,  31.1712,  32.1711, ...,  35.0891,  34.6762,\n",
       "          34.0892]]], dtype=float32)"
      ]
     },
     "execution_count": 40,
     "metadata": {
      "tags": []
     },
     "output_type": "execute_result"
    }
   ],
   "source": [
    "X_test"
   ]
  },
  {
   "cell_type": "code",
   "execution_count": 41,
   "metadata": {
    "id": "I5cSLOutgHpi"
   },
   "outputs": [],
   "source": [
    "from tensorflow.keras.utils import to_categorical\n",
    "y_test=to_categorical(y_test,num_classes=10)\n",
    "y_train=to_categorical(y_train,num_classes=10)"
   ]
  },
  {
   "cell_type": "code",
   "execution_count": 42,
   "metadata": {
    "colab": {
     "base_uri": "https://localhost:8080/"
    },
    "id": "B8wJ7oEXkRua",
    "outputId": "bdd85092-3805-4127-ccd6-a785d7c73542"
   },
   "outputs": [
    {
     "data": {
      "text/plain": [
       "array([[0., 1., 0., ..., 0., 0., 0.],\n",
       "       [0., 0., 0., ..., 1., 0., 0.],\n",
       "       [0., 0., 1., ..., 0., 0., 0.],\n",
       "       ...,\n",
       "       [0., 0., 0., ..., 1., 0., 0.],\n",
       "       [0., 0., 0., ..., 0., 0., 1.],\n",
       "       [0., 0., 1., ..., 0., 0., 0.]], dtype=float32)"
      ]
     },
     "execution_count": 42,
     "metadata": {
      "tags": []
     },
     "output_type": "execute_result"
    }
   ],
   "source": [
    "y_test"
   ]
  },
  {
   "cell_type": "code",
   "execution_count": 43,
   "metadata": {
    "colab": {
     "base_uri": "https://localhost:8080/"
    },
    "id": "JV64bjFTkZkS",
    "outputId": "0269214e-69bc-499f-cbc4-6fb998b96a8c"
   },
   "outputs": [
    {
     "data": {
      "text/plain": [
       "array([[0., 0., 1., ..., 0., 0., 0.],\n",
       "       [0., 0., 0., ..., 0., 0., 0.],\n",
       "       [0., 0., 0., ..., 1., 0., 0.],\n",
       "       ...,\n",
       "       [0., 0., 0., ..., 1., 0., 0.],\n",
       "       [1., 0., 0., ..., 0., 0., 0.],\n",
       "       [0., 0., 0., ..., 0., 0., 0.]], dtype=float32)"
      ]
     },
     "execution_count": 43,
     "metadata": {
      "tags": []
     },
     "output_type": "execute_result"
    }
   ],
   "source": [
    "y_train"
   ]
  },
  {
   "cell_type": "code",
   "execution_count": 128,
   "metadata": {
    "colab": {
     "base_uri": "https://localhost:8080/"
    },
    "id": "NVi82AVyMT5j",
    "outputId": "b71bf465-b0a9-4801-9a76-b5afeebb8427"
   },
   "outputs": [
    {
     "data": {
      "text/plain": [
       "(None, 1024)"
      ]
     },
     "execution_count": 128,
     "metadata": {
      "tags": []
     },
     "output_type": "execute_result"
    }
   ],
   "source": [
    "from tensorflow.keras.models import Sequential\n",
    "from tensorflow.keras.layers import Dense,Flatten\n",
    "model=tf.keras.models.Sequential()\n",
    "model.add(tf.keras.layers.Reshape((1024,),input_shape=(32,32)))\n",
    "model.add(tf.keras.layers.BatchNormalization())\n",
    "model.output_shape"
   ]
  },
  {
   "cell_type": "code",
   "execution_count": 129,
   "metadata": {
    "id": "R3o3rT2TrQzI"
   },
   "outputs": [],
   "source": [
    "model.add(Dense(300,activation=\"relu\"))\n",
    "model.add(tf.keras.layers.Dropout(0.25))"
   ]
  },
  {
   "cell_type": "code",
   "execution_count": 130,
   "metadata": {
    "id": "jvxrfLEryzcW"
   },
   "outputs": [],
   "source": [
    "model.add(Dense(200,activation=\"relu\"))\n",
    "model.add(tf.keras.layers.Dropout(0.25))"
   ]
  },
  {
   "cell_type": "code",
   "execution_count": 131,
   "metadata": {
    "id": "kICWP0mBr-Kn"
   },
   "outputs": [],
   "source": [
    "model.add(tf.keras.layers.Dense(10,activation='softmax'))\n",
    "model.compile(optimizer='adam',loss='categorical_crossentropy',metrics=[\"accuracy\"])"
   ]
  },
  {
   "cell_type": "code",
   "execution_count": 132,
   "metadata": {
    "colab": {
     "base_uri": "https://localhost:8080/"
    },
    "id": "e3vOrxGCpUzC",
    "outputId": "18d13bb3-9ebd-4acb-ce32-87b4ac72e7a7"
   },
   "outputs": [
    {
     "name": "stdout",
     "output_type": "stream",
     "text": [
      "Model: \"sequential_12\"\n",
      "_________________________________________________________________\n",
      "Layer (type)                 Output Shape              Param #   \n",
      "=================================================================\n",
      "reshape_5 (Reshape)          (None, 1024)              0         \n",
      "_________________________________________________________________\n",
      "batch_normalization_5 (Batch (None, 1024)              4096      \n",
      "_________________________________________________________________\n",
      "dense_22 (Dense)             (None, 300)               307500    \n",
      "_________________________________________________________________\n",
      "dropout_5 (Dropout)          (None, 300)               0         \n",
      "_________________________________________________________________\n",
      "dense_23 (Dense)             (None, 200)               60200     \n",
      "_________________________________________________________________\n",
      "dropout_6 (Dropout)          (None, 200)               0         \n",
      "_________________________________________________________________\n",
      "dense_24 (Dense)             (None, 10)                2010      \n",
      "=================================================================\n",
      "Total params: 373,806\n",
      "Trainable params: 371,758\n",
      "Non-trainable params: 2,048\n",
      "_________________________________________________________________\n"
     ]
    }
   ],
   "source": [
    "model.summary()"
   ]
  },
  {
   "cell_type": "code",
   "execution_count": 133,
   "metadata": {
    "colab": {
     "base_uri": "https://localhost:8080/"
    },
    "id": "pIHoQrCEpusr",
    "outputId": "b03519b3-e566-4e7b-df6b-95b2a528f4c5"
   },
   "outputs": [
    {
     "name": "stdout",
     "output_type": "stream",
     "text": [
      "Epoch 1/50\n",
      "210/210 [==============================] - 4s 19ms/step - loss: 1.5855 - accuracy: 0.4708 - val_loss: 0.9936 - val_accuracy: 0.6982\n",
      "Epoch 2/50\n",
      "210/210 [==============================] - 4s 19ms/step - loss: 1.0811 - accuracy: 0.6621 - val_loss: 0.8535 - val_accuracy: 0.7406\n",
      "Epoch 3/50\n",
      "210/210 [==============================] - 4s 19ms/step - loss: 0.9391 - accuracy: 0.7065 - val_loss: 0.7838 - val_accuracy: 0.7705\n",
      "Epoch 4/50\n",
      "210/210 [==============================] - 4s 18ms/step - loss: 0.8556 - accuracy: 0.7345 - val_loss: 0.7186 - val_accuracy: 0.7913\n",
      "Epoch 5/50\n",
      "210/210 [==============================] - 4s 19ms/step - loss: 0.7976 - accuracy: 0.7546 - val_loss: 0.6737 - val_accuracy: 0.7995\n",
      "Epoch 6/50\n",
      "210/210 [==============================] - 4s 19ms/step - loss: 0.7499 - accuracy: 0.7678 - val_loss: 0.6570 - val_accuracy: 0.8063\n",
      "Epoch 7/50\n",
      "210/210 [==============================] - 4s 19ms/step - loss: 0.7165 - accuracy: 0.7784 - val_loss: 0.6221 - val_accuracy: 0.8163\n",
      "Epoch 8/50\n",
      "210/210 [==============================] - 4s 19ms/step - loss: 0.6829 - accuracy: 0.7859 - val_loss: 0.6172 - val_accuracy: 0.8181\n",
      "Epoch 9/50\n",
      "210/210 [==============================] - 4s 19ms/step - loss: 0.6656 - accuracy: 0.7932 - val_loss: 0.6018 - val_accuracy: 0.8264\n",
      "Epoch 10/50\n",
      "210/210 [==============================] - 4s 19ms/step - loss: 0.6382 - accuracy: 0.7995 - val_loss: 0.5927 - val_accuracy: 0.8279\n",
      "Epoch 11/50\n",
      "210/210 [==============================] - 4s 19ms/step - loss: 0.6187 - accuracy: 0.8060 - val_loss: 0.5626 - val_accuracy: 0.8361\n",
      "Epoch 12/50\n",
      "210/210 [==============================] - 4s 19ms/step - loss: 0.5961 - accuracy: 0.8119 - val_loss: 0.5645 - val_accuracy: 0.8354\n",
      "Epoch 13/50\n",
      "210/210 [==============================] - 4s 19ms/step - loss: 0.5819 - accuracy: 0.8145 - val_loss: 0.5346 - val_accuracy: 0.8452\n",
      "Epoch 14/50\n",
      "210/210 [==============================] - 4s 19ms/step - loss: 0.5716 - accuracy: 0.8208 - val_loss: 0.5317 - val_accuracy: 0.8457\n",
      "Epoch 15/50\n",
      "210/210 [==============================] - 4s 18ms/step - loss: 0.5609 - accuracy: 0.8248 - val_loss: 0.5327 - val_accuracy: 0.8441\n",
      "Epoch 16/50\n",
      "210/210 [==============================] - 4s 18ms/step - loss: 0.5458 - accuracy: 0.8268 - val_loss: 0.5416 - val_accuracy: 0.8442\n",
      "Epoch 17/50\n",
      "210/210 [==============================] - 4s 18ms/step - loss: 0.5334 - accuracy: 0.8309 - val_loss: 0.5172 - val_accuracy: 0.8471\n",
      "Epoch 18/50\n",
      "210/210 [==============================] - 4s 18ms/step - loss: 0.5277 - accuracy: 0.8335 - val_loss: 0.5206 - val_accuracy: 0.8501\n",
      "Epoch 19/50\n",
      "210/210 [==============================] - 4s 18ms/step - loss: 0.5149 - accuracy: 0.8377 - val_loss: 0.5278 - val_accuracy: 0.8431\n",
      "Epoch 20/50\n",
      "210/210 [==============================] - 4s 18ms/step - loss: 0.5031 - accuracy: 0.8394 - val_loss: 0.5163 - val_accuracy: 0.8489\n",
      "Epoch 21/50\n",
      "210/210 [==============================] - 4s 18ms/step - loss: 0.5065 - accuracy: 0.8361 - val_loss: 0.5163 - val_accuracy: 0.8481\n",
      "Epoch 22/50\n",
      "210/210 [==============================] - 4s 18ms/step - loss: 0.5002 - accuracy: 0.8412 - val_loss: 0.5035 - val_accuracy: 0.8538\n",
      "Epoch 23/50\n",
      "210/210 [==============================] - 4s 18ms/step - loss: 0.4883 - accuracy: 0.8430 - val_loss: 0.5079 - val_accuracy: 0.8568\n",
      "Epoch 24/50\n",
      "210/210 [==============================] - 4s 18ms/step - loss: 0.4813 - accuracy: 0.8456 - val_loss: 0.4968 - val_accuracy: 0.8596\n",
      "Epoch 25/50\n",
      "210/210 [==============================] - 4s 18ms/step - loss: 0.4765 - accuracy: 0.8474 - val_loss: 0.5057 - val_accuracy: 0.8548\n",
      "Epoch 26/50\n",
      "210/210 [==============================] - 4s 18ms/step - loss: 0.4731 - accuracy: 0.8478 - val_loss: 0.5036 - val_accuracy: 0.8541\n",
      "Epoch 27/50\n",
      "210/210 [==============================] - 4s 18ms/step - loss: 0.4632 - accuracy: 0.8533 - val_loss: 0.5021 - val_accuracy: 0.8533\n",
      "Epoch 28/50\n",
      "210/210 [==============================] - 4s 18ms/step - loss: 0.4624 - accuracy: 0.8506 - val_loss: 0.5001 - val_accuracy: 0.8526\n",
      "Epoch 29/50\n",
      "210/210 [==============================] - 4s 18ms/step - loss: 0.4524 - accuracy: 0.8544 - val_loss: 0.5005 - val_accuracy: 0.8568\n",
      "Epoch 30/50\n",
      "210/210 [==============================] - 4s 18ms/step - loss: 0.4452 - accuracy: 0.8569 - val_loss: 0.4865 - val_accuracy: 0.8609\n",
      "Epoch 31/50\n",
      "210/210 [==============================] - 4s 18ms/step - loss: 0.4398 - accuracy: 0.8582 - val_loss: 0.4816 - val_accuracy: 0.8596\n",
      "Epoch 32/50\n",
      "210/210 [==============================] - 4s 18ms/step - loss: 0.4398 - accuracy: 0.8586 - val_loss: 0.4924 - val_accuracy: 0.8570\n",
      "Epoch 33/50\n",
      "210/210 [==============================] - 4s 18ms/step - loss: 0.4370 - accuracy: 0.8598 - val_loss: 0.4950 - val_accuracy: 0.8562\n",
      "Epoch 34/50\n",
      "210/210 [==============================] - 4s 18ms/step - loss: 0.4295 - accuracy: 0.8602 - val_loss: 0.4917 - val_accuracy: 0.8605\n",
      "Epoch 35/50\n",
      "210/210 [==============================] - 4s 18ms/step - loss: 0.4317 - accuracy: 0.8621 - val_loss: 0.4908 - val_accuracy: 0.8588\n",
      "Epoch 36/50\n",
      "210/210 [==============================] - 4s 18ms/step - loss: 0.4194 - accuracy: 0.8645 - val_loss: 0.4775 - val_accuracy: 0.8608\n",
      "Epoch 37/50\n",
      "210/210 [==============================] - 4s 18ms/step - loss: 0.4163 - accuracy: 0.8661 - val_loss: 0.4869 - val_accuracy: 0.8605\n",
      "Epoch 38/50\n",
      "210/210 [==============================] - 4s 18ms/step - loss: 0.4215 - accuracy: 0.8643 - val_loss: 0.4890 - val_accuracy: 0.8601\n",
      "Epoch 39/50\n",
      "210/210 [==============================] - 4s 19ms/step - loss: 0.4152 - accuracy: 0.8640 - val_loss: 0.4812 - val_accuracy: 0.8627\n",
      "Epoch 40/50\n",
      "210/210 [==============================] - 4s 18ms/step - loss: 0.4067 - accuracy: 0.8680 - val_loss: 0.4802 - val_accuracy: 0.8622\n",
      "Epoch 41/50\n",
      "210/210 [==============================] - 4s 19ms/step - loss: 0.4106 - accuracy: 0.8664 - val_loss: 0.4759 - val_accuracy: 0.8663\n",
      "Epoch 42/50\n",
      "210/210 [==============================] - 4s 19ms/step - loss: 0.4036 - accuracy: 0.8707 - val_loss: 0.4756 - val_accuracy: 0.8653\n",
      "Epoch 43/50\n",
      "210/210 [==============================] - 4s 19ms/step - loss: 0.4014 - accuracy: 0.8675 - val_loss: 0.4750 - val_accuracy: 0.8635\n",
      "Epoch 44/50\n",
      "210/210 [==============================] - 4s 18ms/step - loss: 0.3952 - accuracy: 0.8732 - val_loss: 0.4786 - val_accuracy: 0.8630\n",
      "Epoch 45/50\n",
      "210/210 [==============================] - 4s 18ms/step - loss: 0.3981 - accuracy: 0.8705 - val_loss: 0.4805 - val_accuracy: 0.8624\n",
      "Epoch 46/50\n",
      "210/210 [==============================] - 4s 19ms/step - loss: 0.3953 - accuracy: 0.8702 - val_loss: 0.4787 - val_accuracy: 0.8622\n",
      "Epoch 47/50\n",
      "210/210 [==============================] - 4s 20ms/step - loss: 0.3852 - accuracy: 0.8748 - val_loss: 0.4843 - val_accuracy: 0.8631\n",
      "Epoch 48/50\n",
      "210/210 [==============================] - 4s 19ms/step - loss: 0.3893 - accuracy: 0.8748 - val_loss: 0.4772 - val_accuracy: 0.8625\n",
      "Epoch 49/50\n",
      "210/210 [==============================] - 4s 18ms/step - loss: 0.3857 - accuracy: 0.8751 - val_loss: 0.4789 - val_accuracy: 0.8649\n",
      "Epoch 50/50\n",
      "210/210 [==============================] - 4s 18ms/step - loss: 0.3808 - accuracy: 0.8781 - val_loss: 0.4776 - val_accuracy: 0.8667\n"
     ]
    },
    {
     "data": {
      "text/plain": [
       "<tensorflow.python.keras.callbacks.History at 0x7fb3027a96d8>"
      ]
     },
     "execution_count": 133,
     "metadata": {
      "tags": []
     },
     "output_type": "execute_result"
    }
   ],
   "source": [
    "model.fit(X_train,y_train,epochs=50,batch_size=200,validation_data=(X_test,y_test))"
   ]
  },
  {
   "cell_type": "code",
   "execution_count": 134,
   "metadata": {
    "colab": {
     "base_uri": "https://localhost:8080/"
    },
    "id": "sGrrKc6auDvS",
    "outputId": "ad601943-e8cf-4de2-f318-5948ed2ee6d9"
   },
   "outputs": [
    {
     "name": "stdout",
     "output_type": "stream",
     "text": [
      "563/563 [==============================] - 1s 2ms/step - loss: 0.4776 - accuracy: 0.8667\n"
     ]
    }
   ],
   "source": [
    "test_loss,test_accuracy=model.evaluate(X_test,y_test)"
   ]
  },
  {
   "cell_type": "code",
   "execution_count": 135,
   "metadata": {
    "id": "nEYwj5PGusmI"
   },
   "outputs": [],
   "source": [
    "pred=model.predict(X_test)"
   ]
  },
  {
   "cell_type": "code",
   "execution_count": 145,
   "metadata": {
    "colab": {
     "base_uri": "https://localhost:8080/"
    },
    "id": "VWt1nn-Iu0De",
    "outputId": "459d7ff7-c61b-4ef3-fb7f-7079eed1daca"
   },
   "outputs": [
    {
     "data": {
      "text/plain": [
       "array([2.9941509e-07, 1.3285261e-05, 9.9990153e-01, 1.1997518e-05,\n",
       "       6.7673786e-06, 7.7062549e-07, 5.8007352e-08, 3.7014142e-05,\n",
       "       1.7801191e-05, 1.0587481e-05], dtype=float32)"
      ]
     },
     "execution_count": 145,
     "metadata": {
      "tags": []
     },
     "output_type": "execute_result"
    }
   ],
   "source": [
    "pred[2]"
   ]
  },
  {
   "cell_type": "code",
   "execution_count": 144,
   "metadata": {
    "colab": {
     "base_uri": "https://localhost:8080/"
    },
    "id": "aRfTgGVdu5Xq",
    "outputId": "870adaa8-8dee-4f00-e767-e4567a5808eb"
   },
   "outputs": [
    {
     "data": {
      "text/plain": [
       "2"
      ]
     },
     "execution_count": 144,
     "metadata": {
      "tags": []
     },
     "output_type": "execute_result"
    }
   ],
   "source": [
    "import numpy as np\n",
    "np.argmax(pred[2])"
   ]
  },
  {
   "cell_type": "code",
   "execution_count": 143,
   "metadata": {
    "colab": {
     "base_uri": "https://localhost:8080/"
    },
    "id": "IXH0j0N4vKcq",
    "outputId": "a329df12-4b07-4e5b-f33a-a12b70aff346"
   },
   "outputs": [
    {
     "data": {
      "text/plain": [
       "array([[133.255 , 134.7279, 136.3148, ..., 103.7248, 100.8391, 100.6111],\n",
       "       [134.2549, 135.8418, 138.3146, ..., 117.1965, 114.1968, 114.0828],\n",
       "       [136.2547, 135.9558, 137.4287, ..., 126.8535, 123.7398, 123.4409],\n",
       "       ...,\n",
       "       [135.4136, 133.4847, 131.2569, ..., 129.0552, 131.642 , 133.4569],\n",
       "       [129.3972, 128.7671, 127.8381, ..., 128.5822, 129.2832, 129.9842],\n",
       "       [119.0823, 120.8649, 123.0496, ..., 128.1801, 127.8103, 128.2124]],\n",
       "      dtype=float32)"
      ]
     },
     "execution_count": 143,
     "metadata": {
      "tags": []
     },
     "output_type": "execute_result"
    }
   ],
   "source": [
    "X_test[2]"
   ]
  },
  {
   "cell_type": "code",
   "execution_count": 142,
   "metadata": {
    "colab": {
     "base_uri": "https://localhost:8080/"
    },
    "id": "aZAQRn0vyEBJ",
    "outputId": "b04f475e-bebf-44ab-fc37-19e763559020"
   },
   "outputs": [
    {
     "data": {
      "text/plain": [
       "array([0., 0., 1., 0., 0., 0., 0., 0., 0., 0.], dtype=float32)"
      ]
     },
     "execution_count": 142,
     "metadata": {
      "tags": []
     },
     "output_type": "execute_result"
    }
   ],
   "source": [
    "y_test[2]"
   ]
  },
  {
   "cell_type": "code",
   "execution_count": 141,
   "metadata": {
    "colab": {
     "base_uri": "https://localhost:8080/",
     "height": 266
    },
    "id": "MclUbVRqvUo2",
    "outputId": "c78730a4-9468-4d29-8b3f-10d3ede53c45"
   },
   "outputs": [
    {
     "data": {
      "image/png": "[encoded data removed]",
      "text/plain": [
       "<Figure size 432x288 with 2 Axes>"
      ]
     },
     "metadata": {
      "needs_background": "light",
      "tags": []
     },
     "output_type": "display_data"
    }
   ],
   "source": [
    "import matplotlib.pyplot as plt\n",
    "plt.figure()\n",
    "plt.imshow(X_test[2])\n",
    "plt.colorbar()\n",
    "plt.grid(False)\n",
    "plt.show()"
   ]
  }
 ],
 "metadata": {
  "colab": {
   "collapsed_sections": [],
   "name": "INND_R7_Project_SVHNDigitRecognitiion_Project.ipynb",
   "provenance": [],
   "toc_visible": true
  },
  "kernelspec": {
   "display_name": "Python 3",
   "language": "python",
   "name": "python3"
  },
  "language_info": {
   "codemirror_mode": {
    "name": "ipython",
    "version": 3
   },
   "file_extension": ".py",
   "mimetype": "text/x-python",
   "name": "python",
   "nbconvert_exporter": "python",
   "pygments_lexer": "ipython3",
   "version": "3.7.4"
  }
 },
 "nbformat": 4,
 "nbformat_minor": 1
}

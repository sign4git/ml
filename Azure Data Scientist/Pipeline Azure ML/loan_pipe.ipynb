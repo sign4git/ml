{
  "cells": [
    {
      "cell_type": "code",
      "source": [
        "from azureml.core import Workspace\r\n",
        "ws=Workspace.from_config(path='./Azure Data Scientist')\r\n",
        "print(ws.datastores.keys())"
      ],
      "outputs": [
        {
          "output_type": "stream",
          "name": "stdout",
          "text": "dict_keys(['azureml_globaldatasets', 'business_datastore', 'workspacefilestore', 'workspaceblobstore', 'workspaceworkingdirectory', 'workspaceartifactstore'])\n"
        }
      ],
      "execution_count": 53,
      "metadata": {
        "gather": {
          "logged": 1659972608923
        }
      }
    },
    {
      "cell_type": "code",
      "source": [
        "from azureml.core.compute import ComputeTarget,AmlCompute\r\n",
        "compute_config=AmlCompute.provisioning_configuration(vm_size='STANDARD_DS11_V2',\r\n",
        "max_nodes=1,location='eastus2')\r\n",
        "compute_target=ComputeTarget.create(workspace=ws,name='azurecomputecluster',provisioning_configuration=compute_config)\r\n",
        "compute_target.wait_for_completion()"
      ],
      "outputs": [
        {
          "output_type": "stream",
          "name": "stdout",
          "text": "Provisioning operation finished, operation \"Succeeded\"\n"
        }
      ],
      "execution_count": 54,
      "metadata": {
        "jupyter": {
          "source_hidden": false,
          "outputs_hidden": false
        },
        "nteract": {
          "transient": {
            "deleting": false
          }
        },
        "gather": {
          "logged": 1659972617299
        }
      }
    },
    {
      "cell_type": "code",
      "source": [
        "from azureml.core.conda_dependencies import CondaDependencies\r\n",
        "from azureml.core import Environment\r\n",
        "myenv=Environment(name=\"My nb environment\")\r\n",
        "mydependencies=CondaDependencies.create(conda_packages=['pandas','scikit-learn','xgboost'])\r\n",
        "myenv.python.conda_dependencies=mydependencies\r\n",
        "myenv.register(ws)"
      ],
      "outputs": [
        {
          "output_type": "execute_result",
          "execution_count": 55,
          "data": {
            "text/plain": "{\n    \"databricks\": {\n        \"eggLibraries\": [],\n        \"jarLibraries\": [],\n        \"mavenLibraries\": [],\n        \"pypiLibraries\": [],\n        \"rcranLibraries\": []\n    },\n    \"docker\": {\n        \"arguments\": [],\n        \"baseDockerfile\": null,\n        \"baseImage\": \"mcr.microsoft.com/azureml/openmpi4.1.0-ubuntu20.04:20220504.v1\",\n        \"baseImageRegistry\": {\n            \"address\": null,\n            \"password\": null,\n            \"registryIdentity\": null,\n            \"username\": null\n        },\n        \"enabled\": false,\n        \"platform\": {\n            \"architecture\": \"amd64\",\n            \"os\": \"Linux\"\n        },\n        \"sharedVolumes\": true,\n        \"shmSize\": null\n    },\n    \"environmentVariables\": {\n        \"EXAMPLE_ENV_VAR\": \"EXAMPLE_VALUE\"\n    },\n    \"inferencingStackVersion\": null,\n    \"name\": \"My nb environment\",\n    \"python\": {\n        \"baseCondaEnvironment\": null,\n        \"condaDependencies\": {\n            \"channels\": [\n                \"anaconda\",\n                \"conda-forge\"\n            ],\n            \"dependencies\": [\n                \"python=3.8.12\",\n                {\n                    \"pip\": [\n                        \"azureml-defaults~=1.42.0\"\n                    ]\n                },\n                \"pandas\",\n                \"scikit-learn\",\n                \"xgboost\"\n            ],\n            \"name\": \"project_environment\"\n        },\n        \"condaDependenciesFile\": null,\n        \"interpreterPath\": \"python\",\n        \"userManagedDependencies\": false\n    },\n    \"r\": null,\n    \"spark\": {\n        \"packages\": [],\n        \"precachePackages\": true,\n        \"repositories\": []\n    },\n    \"version\": \"1\"\n}"
          },
          "metadata": {}
        }
      ],
      "execution_count": 55,
      "metadata": {
        "jupyter": {
          "source_hidden": false,
          "outputs_hidden": false
        },
        "nteract": {
          "transient": {
            "deleting": false
          }
        },
        "gather": {
          "logged": 1659972619799
        }
      }
    },
    {
      "cell_type": "code",
      "source": [
        "from azureml.core.runconfig import RunConfiguration\r\n",
        "run_config=RunConfiguration()\r\n",
        "run_config.target=compute_target\r\n",
        "run_config.environment=myenv"
      ],
      "outputs": [],
      "execution_count": 56,
      "metadata": {
        "jupyter": {
          "source_hidden": false,
          "outputs_hidden": false
        },
        "nteract": {
          "transient": {
            "deleting": false
          }
        },
        "gather": {
          "logged": 1659972623690
        }
      }
    },
    {
      "cell_type": "code",
      "source": [
        "from azureml.core import Dataset,Datastore\r\n",
        "my_datastore=Datastore.get(workspace=ws,datastore_name='business_datastore')\r\n",
        "my_dataset=Dataset.Tabular.from_delimited_files(path=(my_datastore,'./Loan Data/loan_prediction_updated.csv'))\r\n",
        "my_dataset.register(workspace=ws,name=\"Loan Data NB\")"
      ],
      "outputs": [
        {
          "output_type": "execute_result",
          "execution_count": 57,
          "data": {
            "text/plain": "{\n  \"source\": [\n    \"('business_datastore', './Loan Data/loan_prediction_updated.csv')\"\n  ],\n  \"definition\": [\n    \"GetDatastoreFiles\",\n    \"ParseDelimited\",\n    \"DropColumns\",\n    \"SetColumnTypes\"\n  ],\n  \"registration\": {\n    \"id\": \"ef2bdaf3-a31c-48c4-b6b3-afecca232459\",\n    \"name\": \"Loan Data NB\",\n    \"version\": 1,\n    \"workspace\": \"Workspace.create(name='MLWorkspace', subscription_id='3291212d-f305-40a5-a60c-2bf6825d4013', resource_group='MachineLearningRG')\"\n  }\n}"
          },
          "metadata": {}
        }
      ],
      "execution_count": 57,
      "metadata": {
        "jupyter": {
          "source_hidden": false,
          "outputs_hidden": false
        },
        "nteract": {
          "transient": {
            "deleting": false
          }
        },
        "gather": {
          "logged": 1659972632714
        }
      }
    },
    {
      "cell_type": "code",
      "source": [
        "from azureml.pipeline.steps import PythonScriptStep\r\n",
        "from azureml.pipeline.core import PipelineData\r\n",
        "inputData=Dataset.get_by_name(workspace=ws, name='Loan Data NB')\r\n",
        "outputDataFolder=PipelineData(name='outputdatafolder',\r\n",
        "datastore=ws.get_default_datastore())\r\n",
        "data_preparation_step=PythonScriptStep(script_name=\"loan_eda.py\",\r\n",
        "name='EDA STEP',\r\n",
        "source_directory='.',\r\n",
        "inputs=[inputData.as_named_input('raw_data')],\r\n",
        "outputs=[outputDataFolder],\r\n",
        "runconfig=run_config,\r\n",
        "arguments=['--datafolder',outputDataFolder])"
      ],
      "outputs": [],
      "execution_count": 64,
      "metadata": {
        "jupyter": {
          "source_hidden": false,
          "outputs_hidden": false
        },
        "nteract": {
          "transient": {
            "deleting": false
          }
        },
        "gather": {
          "logged": 1659975185300
        }
      }
    },
    {
      "cell_type": "code",
      "source": [
        "training_step=PythonScriptStep(source_directory='.',\r\n",
        "name='XGBOOST PIPELINE',\r\n",
        "inputs=[outputDataFolder],\r\n",
        "runconfig=run_config,\r\n",
        "script_name='xgboost_train.py',\r\n",
        "arguments=['--datafolder',outputDataFolder]\r\n",
        ")"
      ],
      "outputs": [],
      "execution_count": 65,
      "metadata": {
        "jupyter": {
          "source_hidden": false,
          "outputs_hidden": false
        },
        "nteract": {
          "transient": {
            "deleting": false
          }
        },
        "gather": {
          "logged": 1659975187453
        }
      }
    },
    {
      "cell_type": "code",
      "source": [
        "from azureml.pipeline.core import Pipeline\r\n",
        "my_pipeline_steps=[data_preparation_step,training_step]\r\n",
        "my_pipeline= Pipeline(workspace=ws,steps=my_pipeline_steps)"
      ],
      "outputs": [],
      "execution_count": 66,
      "metadata": {
        "jupyter": {
          "source_hidden": false,
          "outputs_hidden": false
        },
        "nteract": {
          "transient": {
            "deleting": false
          }
        },
        "gather": {
          "logged": 1659975190343
        }
      }
    },
    {
      "cell_type": "code",
      "source": [
        "from azureml.core import Experiment\r\n",
        "\r\n",
        "new_experiment = Experiment(workspace=ws, name='pipeline-experiment')\r\n",
        "new_pipeline_run = new_experiment.submit(my_pipeline)\r\n",
        "\r\n",
        "new_pipeline_run.wait_for_completion(show_output=True)"
      ],
      "outputs": [
        {
          "output_type": "stream",
          "name": "stdout",
          "text": "Submitted PipelineRun 1f8be1f1-6c52-4023-b303-e606d7b73ebc\nLink to Azure Machine Learning Portal: https://ml.azure.com/runs/1f8be1f1-6c52-4023-b303-e606d7b73ebc?wsid=/subscriptions/3291212d-f305-40a5-a60c-2bf6825d4013/resourcegroups/MachineLearningRG/workspaces/MLWorkspace&tid=6bba74c5-e2b0-4111-98e8-d1056e7abd65\nPipelineRunId: 1f8be1f1-6c52-4023-b303-e606d7b73ebc\nLink to Azure Machine Learning Portal: https://ml.azure.com/runs/1f8be1f1-6c52-4023-b303-e606d7b73ebc?wsid=/subscriptions/3291212d-f305-40a5-a60c-2bf6825d4013/resourcegroups/MachineLearningRG/workspaces/MLWorkspace&tid=6bba74c5-e2b0-4111-98e8-d1056e7abd65\nPipelineRun Status: NotStarted\nPipelineRun Status: Running\n\n\nStepRunId: b13dacd6-0e2b-4c12-b00c-7aee0e13f621\nLink to Azure Machine Learning Portal: https://ml.azure.com/runs/b13dacd6-0e2b-4c12-b00c-7aee0e13f621?wsid=/subscriptions/3291212d-f305-40a5-a60c-2bf6825d4013/resourcegroups/MachineLearningRG/workspaces/MLWorkspace&tid=6bba74c5-e2b0-4111-98e8-d1056e7abd65\nStepRun( EDA STEP ) Status: Running\n\nStepRun(EDA STEP) Execution Summary\n====================================\nStepRun( EDA STEP ) Status: Failed\n\nWarnings:\n{\n  \"error\": {\n    \"code\": \"UserError\",\n    \"severity\": null,\n    \"message\": \"AzureMLCompute job failed.\\nExecutionFailed: [REDACTED]\\n\\texit_codes: 1\",\n    \"messageFormat\": \"{Message}\",\n    \"messageParameters\": {\n      \"Message\": \"AzureMLCompute job failed.\\nExecutionFailed: [REDACTED]\\n\\texit_codes: 1\"\n    },\n    \"referenceCode\": null,\n    \"detailsUri\": null,\n    \"target\": null,\n    \"details\": [],\n    \"innerError\": {\n      \"code\": \"UserTrainingScriptFailed\",\n      \"innerError\": null\n    },\n    \"debugInfo\": null,\n    \"additionalInfo\": null\n  },\n  \"correlation\": {\n    \"operation\": \"ebad857e750dd0084785b1d7f6385ee9\",\n    \"request\": \"d24f219b4ce94b45\"\n  },\n  \"environment\": \"eastus2\",\n  \"location\": \"eastus2\",\n  \"time\": \"2022-08-08T16:30:37.2624632+00:00\",\n  \"componentName\": \"globaljobdispatcher\"\n}\n{\n  \"error\": {\n    \"code\": \"UserError\",\n    \"severity\": null,\n    \"message\": \"{\\\"NonCompliant\\\":\\\"Process '/azureml-envs/azureml_7747c226095ff3524f0e15cb2ba10e6f/bin/python' exited with code 1 and error message 'Execution failed. Process exited with status code 1. Error: Traceback (most recent call last):\\\\n  File \\\\\\\"loan_edaa.py\\\\\\\", lin\",\n    \"messageFormat\": null,\n    \"messageParameters\": {},\n    \"referenceCode\": null,\n    \"detailsUri\": null,\n    \"target\": null,\n    \"details\": [],\n    \"innerError\": null,\n    \"debugInfo\": null,\n    \"additionalInfo\": null\n  },\n  \"correlation\": null,\n  \"environment\": null,\n  \"location\": null,\n  \"time\": \"0001-01-01T00:00:00+00:00\",\n  \"componentName\": null\n}\n"
        },
        {
          "output_type": "error",
          "ename": "ActivityFailedException",
          "evalue": "ActivityFailedException:\n\tMessage: Activity Failed:\n{\n    \"error\": {\n        \"code\": \"UserError\",\n        \"message\": \"{\\\"NonCompliant\\\":\\\"Process '/azureml-envs/azureml_7747c226095ff3524f0e15cb2ba10e6f/bin/python' exited with code 1 and error message 'Execution failed. Process exited with status code 1. Error: Traceback (most recent call last):\\\\n  File \\\\\\\"loan_edaa.py\\\\\\\", line 44, in <module>\\\\n    non_numerical_columns.drop(columns=[\\\\\\\"Loan_Status\\\\\\\"], inplace=True)\\\\n  File \\\\\\\"/azureml-envs/azureml_7747c226095ff3524f0e15cb2ba10e6f/lib/python3.8/site-packages/pandas/util/_decorators.py\\\\\\\", line 311, in wrapper\\\\n    return func(*args, **kwargs)\\\\n  File \\\\\\\"/azureml-envs/azureml_7747c226095ff3524f0e15cb2ba10e6f/lib/python3.8/site-packages/pandas/core/frame.py\\\\\\\", line 4954, in drop\\\\n    return super().drop(\\\\n  File \\\\\\\"/azureml-envs/azureml_7747c226095ff3524f0e15cb2ba10e6f/lib/python3.8/site-packages/pandas/core/generic.py\\\\\\\", line 4267, in drop\\\\n    obj = obj._drop_axis(labels, axis, level=level, errors=errors)\\\\n  File \\\\\\\"/azureml-envs/azureml_7747c226095ff3524f0e15cb2ba10e6f/lib/python3.8/site-packages/pandas/core/generic.py\\\\\\\", line 4311, in _drop_axis\\\\n    new_axis = axis.drop(labels, errors=errors)\\\\n  File \\\\\\\"/azureml-envs/azureml_7747c226095ff3524f0e15cb2ba10e6f/lib/python3.8/site-packages/pandas/core/indexes/base.py\\\\\\\", line 6644, in drop\\\\n    raise KeyError(f\\\\\\\"{list(labels[mask])} not found in axis\\\\\\\")\\\\nKeyError: \\\\\\\"['Loan_Status'] not found in axis\\\\\\\"\\\\n\\\\n'. Please check the log file 'user_logs/std_log.txt' for more details.\\\"}\\n{\\n  \\\"code\\\": \\\"ExecutionFailed\\\",\\n  \\\"target\\\": \\\"\\\",\\n  \\\"category\\\": \\\"UserError\\\",\\n  \\\"error_details\\\": [\\n    {\\n      \\\"key\\\": \\\"exit_codes\\\",\\n      \\\"value\\\": \\\"1\\\"\\n    }\\n  ]\\n}\",\n        \"messageParameters\": {},\n        \"details\": []\n    },\n    \"time\": \"0001-01-01T00:00:00.000Z\"\n}\n\tInnerException None\n\tErrorResponse \n{\n    \"error\": {\n        \"message\": \"Activity Failed:\\n{\\n    \\\"error\\\": {\\n        \\\"code\\\": \\\"UserError\\\",\\n        \\\"message\\\": \\\"{\\\\\\\"NonCompliant\\\\\\\":\\\\\\\"Process '/azureml-envs/azureml_7747c226095ff3524f0e15cb2ba10e6f/bin/python' exited with code 1 and error message 'Execution failed. Process exited with status code 1. Error: Traceback (most recent call last):\\\\\\\\n  File \\\\\\\\\\\\\\\"loan_edaa.py\\\\\\\\\\\\\\\", line 44, in <module>\\\\\\\\n    non_numerical_columns.drop(columns=[\\\\\\\\\\\\\\\"Loan_Status\\\\\\\\\\\\\\\"], inplace=True)\\\\\\\\n  File \\\\\\\\\\\\\\\"/azureml-envs/azureml_7747c226095ff3524f0e15cb2ba10e6f/lib/python3.8/site-packages/pandas/util/_decorators.py\\\\\\\\\\\\\\\", line 311, in wrapper\\\\\\\\n    return func(*args, **kwargs)\\\\\\\\n  File \\\\\\\\\\\\\\\"/azureml-envs/azureml_7747c226095ff3524f0e15cb2ba10e6f/lib/python3.8/site-packages/pandas/core/frame.py\\\\\\\\\\\\\\\", line 4954, in drop\\\\\\\\n    return super().drop(\\\\\\\\n  File \\\\\\\\\\\\\\\"/azureml-envs/azureml_7747c226095ff3524f0e15cb2ba10e6f/lib/python3.8/site-packages/pandas/core/generic.py\\\\\\\\\\\\\\\", line 4267, in drop\\\\\\\\n    obj = obj._drop_axis(labels, axis, level=level, errors=errors)\\\\\\\\n  File \\\\\\\\\\\\\\\"/azureml-envs/azureml_7747c226095ff3524f0e15cb2ba10e6f/lib/python3.8/site-packages/pandas/core/generic.py\\\\\\\\\\\\\\\", line 4311, in _drop_axis\\\\\\\\n    new_axis = axis.drop(labels, errors=errors)\\\\\\\\n  File \\\\\\\\\\\\\\\"/azureml-envs/azureml_7747c226095ff3524f0e15cb2ba10e6f/lib/python3.8/site-packages/pandas/core/indexes/base.py\\\\\\\\\\\\\\\", line 6644, in drop\\\\\\\\n    raise KeyError(f\\\\\\\\\\\\\\\"{list(labels[mask])} not found in axis\\\\\\\\\\\\\\\")\\\\\\\\nKeyError: \\\\\\\\\\\\\\\"['Loan_Status'] not found in axis\\\\\\\\\\\\\\\"\\\\\\\\n\\\\\\\\n'. Please check the log file 'user_logs/std_log.txt' for more details.\\\\\\\"}\\\\n{\\\\n  \\\\\\\"code\\\\\\\": \\\\\\\"ExecutionFailed\\\\\\\",\\\\n  \\\\\\\"target\\\\\\\": \\\\\\\"\\\\\\\",\\\\n  \\\\\\\"category\\\\\\\": \\\\\\\"UserError\\\\\\\",\\\\n  \\\\\\\"error_details\\\\\\\": [\\\\n    {\\\\n      \\\\\\\"key\\\\\\\": \\\\\\\"exit_codes\\\\\\\",\\\\n      \\\\\\\"value\\\\\\\": \\\\\\\"1\\\\\\\"\\\\n    }\\\\n  ]\\\\n}\\\",\\n        \\\"messageParameters\\\": {},\\n        \\\"details\\\": []\\n    },\\n    \\\"time\\\": \\\"0001-01-01T00:00:00.000Z\\\"\\n}\"\n    }\n}",
          "traceback": [
            "\u001b[0;31m---------------------------------------------------------------------------\u001b[0m",
            "\u001b[0;31mActivityFailedException\u001b[0m                   Traceback (most recent call last)",
            "Input \u001b[0;32mIn [68]\u001b[0m, in \u001b[0;36m<cell line: 6>\u001b[0;34m()\u001b[0m\n\u001b[1;32m      3\u001b[0m new_experiment \u001b[38;5;241m=\u001b[39m Experiment(workspace\u001b[38;5;241m=\u001b[39mws, name\u001b[38;5;241m=\u001b[39m\u001b[38;5;124m'\u001b[39m\u001b[38;5;124mpipeline-experiment\u001b[39m\u001b[38;5;124m'\u001b[39m)\n\u001b[1;32m      4\u001b[0m new_pipeline_run \u001b[38;5;241m=\u001b[39m new_experiment\u001b[38;5;241m.\u001b[39msubmit(my_pipeline)\n\u001b[0;32m----> 6\u001b[0m \u001b[43mnew_pipeline_run\u001b[49m\u001b[38;5;241;43m.\u001b[39;49m\u001b[43mwait_for_completion\u001b[49m\u001b[43m(\u001b[49m\u001b[43mshow_output\u001b[49m\u001b[38;5;241;43m=\u001b[39;49m\u001b[38;5;28;43;01mTrue\u001b[39;49;00m\u001b[43m)\u001b[49m\n",
            "File \u001b[0;32m/anaconda/envs/azureml_py38/lib/python3.8/site-packages/azureml/pipeline/core/run.py:295\u001b[0m, in \u001b[0;36mPipelineRun.wait_for_completion\u001b[0;34m(self, show_output, timeout_seconds, raise_on_error)\u001b[0m\n\u001b[1;32m    293\u001b[0m \u001b[38;5;28mprint\u001b[39m(\u001b[38;5;124m'\u001b[39m\u001b[38;5;130;01m\\n\u001b[39;00m\u001b[38;5;124m'\u001b[39m)\n\u001b[1;32m    294\u001b[0m \u001b[38;5;28;01mtry\u001b[39;00m:\n\u001b[0;32m--> 295\u001b[0m     \u001b[43mstep_run\u001b[49m\u001b[38;5;241;43m.\u001b[39;49m\u001b[43mwait_for_completion\u001b[49m\u001b[43m(\u001b[49m\u001b[43mtimeout_seconds\u001b[49m\u001b[38;5;241;43m=\u001b[39;49m\u001b[43mtimeout_seconds\u001b[49m\u001b[43m \u001b[49m\u001b[38;5;241;43m-\u001b[39;49m\u001b[43m \u001b[49m\u001b[43mtime_elapsed\u001b[49m\u001b[43m,\u001b[49m\n\u001b[1;32m    296\u001b[0m \u001b[43m                                 \u001b[49m\u001b[43mraise_on_error\u001b[49m\u001b[38;5;241;43m=\u001b[39;49m\u001b[43mraise_on_error\u001b[49m\u001b[43m)\u001b[49m\n\u001b[1;32m    297\u001b[0m \u001b[38;5;28;01mexcept\u001b[39;00m \u001b[38;5;167;01mTypeError\u001b[39;00m \u001b[38;5;28;01mas\u001b[39;00m e:\n\u001b[1;32m    298\u001b[0m     \u001b[38;5;66;03m# If there are package conflicts in the user's environment, the run rehydration\u001b[39;00m\n\u001b[1;32m    299\u001b[0m     \u001b[38;5;66;03m# will not work and we will receive a Run object instead of StepRun.\u001b[39;00m\n\u001b[1;32m    300\u001b[0m     \u001b[38;5;66;03m# Run.wait_for_completion() does not have a parameter timeout_seconds, which\u001b[39;00m\n\u001b[1;32m    301\u001b[0m     \u001b[38;5;66;03m# will generate a TypeError here.  As a workaround, call the method without\u001b[39;00m\n\u001b[1;32m    302\u001b[0m     \u001b[38;5;66;03m# this parameter.\u001b[39;00m\n\u001b[1;32m    303\u001b[0m     \u001b[38;5;28;01mif\u001b[39;00m \u001b[38;5;129;01mnot\u001b[39;00m \u001b[38;5;28misinstance\u001b[39m(step_run, StepRun):\n",
            "File \u001b[0;32m/anaconda/envs/azureml_py38/lib/python3.8/site-packages/azureml/pipeline/core/run.py:738\u001b[0m, in \u001b[0;36mStepRun.wait_for_completion\u001b[0;34m(self, show_output, timeout_seconds, raise_on_error)\u001b[0m\n\u001b[1;32m    736\u001b[0m \u001b[38;5;28;01mif\u001b[39;00m show_output:\n\u001b[1;32m    737\u001b[0m     \u001b[38;5;28;01mtry\u001b[39;00m:\n\u001b[0;32m--> 738\u001b[0m         \u001b[38;5;28;01mreturn\u001b[39;00m \u001b[38;5;28;43mself\u001b[39;49m\u001b[38;5;241;43m.\u001b[39;49m\u001b[43m_stream_run_output\u001b[49m\u001b[43m(\u001b[49m\u001b[43mtimeout_seconds\u001b[49m\u001b[38;5;241;43m=\u001b[39;49m\u001b[43mtimeout_seconds\u001b[49m\u001b[43m,\u001b[49m\n\u001b[1;32m    739\u001b[0m \u001b[43m                                       \u001b[49m\u001b[43mraise_on_error\u001b[49m\u001b[38;5;241;43m=\u001b[39;49m\u001b[43mraise_on_error\u001b[49m\u001b[43m)\u001b[49m\n\u001b[1;32m    740\u001b[0m     \u001b[38;5;28;01mexcept\u001b[39;00m \u001b[38;5;167;01mKeyboardInterrupt\u001b[39;00m:\n\u001b[1;32m    741\u001b[0m         error_message \u001b[38;5;241m=\u001b[39m \u001b[38;5;124m\"\u001b[39m\u001b[38;5;124mThe output streaming for the run interrupted.\u001b[39m\u001b[38;5;130;01m\\n\u001b[39;00m\u001b[38;5;124m\"\u001b[39m \\\n\u001b[1;32m    742\u001b[0m                         \u001b[38;5;124m\"\u001b[39m\u001b[38;5;124mBut the run is still executing on the compute target. \u001b[39m\u001b[38;5;130;01m\\n\u001b[39;00m\u001b[38;5;124m\"\u001b[39m \\\n\u001b[1;32m    743\u001b[0m                         \u001b[38;5;124m\"\u001b[39m\u001b[38;5;124mDetails for canceling the run can be found here: \u001b[39m\u001b[38;5;124m\"\u001b[39m \\\n\u001b[1;32m    744\u001b[0m                         \u001b[38;5;124m\"\u001b[39m\u001b[38;5;124mhttps://aka.ms/aml-docs-cancel-run\u001b[39m\u001b[38;5;124m\"\u001b[39m\n",
            "File \u001b[0;32m/anaconda/envs/azureml_py38/lib/python3.8/site-packages/azureml/pipeline/core/run.py:831\u001b[0m, in \u001b[0;36mStepRun._stream_run_output\u001b[0;34m(self, timeout_seconds, raise_on_error)\u001b[0m\n\u001b[1;32m    829\u001b[0m     \u001b[38;5;28mprint\u001b[39m(json\u001b[38;5;241m.\u001b[39mdumps(error, indent\u001b[38;5;241m=\u001b[39m\u001b[38;5;241m4\u001b[39m))\n\u001b[1;32m    830\u001b[0m \u001b[38;5;28;01mif\u001b[39;00m error \u001b[38;5;129;01mand\u001b[39;00m raise_on_error:\n\u001b[0;32m--> 831\u001b[0m     \u001b[38;5;28;01mraise\u001b[39;00m ActivityFailedException(error_details\u001b[38;5;241m=\u001b[39mjson\u001b[38;5;241m.\u001b[39mdumps(error, indent\u001b[38;5;241m=\u001b[39m\u001b[38;5;241m4\u001b[39m))\n\u001b[1;32m    833\u001b[0m \u001b[38;5;28mprint\u001b[39m(final_details)\n\u001b[1;32m    834\u001b[0m \u001b[38;5;28mprint\u001b[39m(\u001b[38;5;124m'\u001b[39m\u001b[38;5;124m'\u001b[39m, flush\u001b[38;5;241m=\u001b[39m\u001b[38;5;28;01mTrue\u001b[39;00m)\n",
            "\u001b[0;31mActivityFailedException\u001b[0m: ActivityFailedException:\n\tMessage: Activity Failed:\n{\n    \"error\": {\n        \"code\": \"UserError\",\n        \"message\": \"{\\\"NonCompliant\\\":\\\"Process '/azureml-envs/azureml_7747c226095ff3524f0e15cb2ba10e6f/bin/python' exited with code 1 and error message 'Execution failed. Process exited with status code 1. Error: Traceback (most recent call last):\\\\n  File \\\\\\\"loan_edaa.py\\\\\\\", line 44, in <module>\\\\n    non_numerical_columns.drop(columns=[\\\\\\\"Loan_Status\\\\\\\"], inplace=True)\\\\n  File \\\\\\\"/azureml-envs/azureml_7747c226095ff3524f0e15cb2ba10e6f/lib/python3.8/site-packages/pandas/util/_decorators.py\\\\\\\", line 311, in wrapper\\\\n    return func(*args, **kwargs)\\\\n  File \\\\\\\"/azureml-envs/azureml_7747c226095ff3524f0e15cb2ba10e6f/lib/python3.8/site-packages/pandas/core/frame.py\\\\\\\", line 4954, in drop\\\\n    return super().drop(\\\\n  File \\\\\\\"/azureml-envs/azureml_7747c226095ff3524f0e15cb2ba10e6f/lib/python3.8/site-packages/pandas/core/generic.py\\\\\\\", line 4267, in drop\\\\n    obj = obj._drop_axis(labels, axis, level=level, errors=errors)\\\\n  File \\\\\\\"/azureml-envs/azureml_7747c226095ff3524f0e15cb2ba10e6f/lib/python3.8/site-packages/pandas/core/generic.py\\\\\\\", line 4311, in _drop_axis\\\\n    new_axis = axis.drop(labels, errors=errors)\\\\n  File \\\\\\\"/azureml-envs/azureml_7747c226095ff3524f0e15cb2ba10e6f/lib/python3.8/site-packages/pandas/core/indexes/base.py\\\\\\\", line 6644, in drop\\\\n    raise KeyError(f\\\\\\\"{list(labels[mask])} not found in axis\\\\\\\")\\\\nKeyError: \\\\\\\"['Loan_Status'] not found in axis\\\\\\\"\\\\n\\\\n'. Please check the log file 'user_logs/std_log.txt' for more details.\\\"}\\n{\\n  \\\"code\\\": \\\"ExecutionFailed\\\",\\n  \\\"target\\\": \\\"\\\",\\n  \\\"category\\\": \\\"UserError\\\",\\n  \\\"error_details\\\": [\\n    {\\n      \\\"key\\\": \\\"exit_codes\\\",\\n      \\\"value\\\": \\\"1\\\"\\n    }\\n  ]\\n}\",\n        \"messageParameters\": {},\n        \"details\": []\n    },\n    \"time\": \"0001-01-01T00:00:00.000Z\"\n}\n\tInnerException None\n\tErrorResponse \n{\n    \"error\": {\n        \"message\": \"Activity Failed:\\n{\\n    \\\"error\\\": {\\n        \\\"code\\\": \\\"UserError\\\",\\n        \\\"message\\\": \\\"{\\\\\\\"NonCompliant\\\\\\\":\\\\\\\"Process '/azureml-envs/azureml_7747c226095ff3524f0e15cb2ba10e6f/bin/python' exited with code 1 and error message 'Execution failed. Process exited with status code 1. Error: Traceback (most recent call last):\\\\\\\\n  File \\\\\\\\\\\\\\\"loan_edaa.py\\\\\\\\\\\\\\\", line 44, in <module>\\\\\\\\n    non_numerical_columns.drop(columns=[\\\\\\\\\\\\\\\"Loan_Status\\\\\\\\\\\\\\\"], inplace=True)\\\\\\\\n  File \\\\\\\\\\\\\\\"/azureml-envs/azureml_7747c226095ff3524f0e15cb2ba10e6f/lib/python3.8/site-packages/pandas/util/_decorators.py\\\\\\\\\\\\\\\", line 311, in wrapper\\\\\\\\n    return func(*args, **kwargs)\\\\\\\\n  File \\\\\\\\\\\\\\\"/azureml-envs/azureml_7747c226095ff3524f0e15cb2ba10e6f/lib/python3.8/site-packages/pandas/core/frame.py\\\\\\\\\\\\\\\", line 4954, in drop\\\\\\\\n    return super().drop(\\\\\\\\n  File \\\\\\\\\\\\\\\"/azureml-envs/azureml_7747c226095ff3524f0e15cb2ba10e6f/lib/python3.8/site-packages/pandas/core/generic.py\\\\\\\\\\\\\\\", line 4267, in drop\\\\\\\\n    obj = obj._drop_axis(labels, axis, level=level, errors=errors)\\\\\\\\n  File \\\\\\\\\\\\\\\"/azureml-envs/azureml_7747c226095ff3524f0e15cb2ba10e6f/lib/python3.8/site-packages/pandas/core/generic.py\\\\\\\\\\\\\\\", line 4311, in _drop_axis\\\\\\\\n    new_axis = axis.drop(labels, errors=errors)\\\\\\\\n  File \\\\\\\\\\\\\\\"/azureml-envs/azureml_7747c226095ff3524f0e15cb2ba10e6f/lib/python3.8/site-packages/pandas/core/indexes/base.py\\\\\\\\\\\\\\\", line 6644, in drop\\\\\\\\n    raise KeyError(f\\\\\\\\\\\\\\\"{list(labels[mask])} not found in axis\\\\\\\\\\\\\\\")\\\\\\\\nKeyError: \\\\\\\\\\\\\\\"['Loan_Status'] not found in axis\\\\\\\\\\\\\\\"\\\\\\\\n\\\\\\\\n'. Please check the log file 'user_logs/std_log.txt' for more details.\\\\\\\"}\\\\n{\\\\n  \\\\\\\"code\\\\\\\": \\\\\\\"ExecutionFailed\\\\\\\",\\\\n  \\\\\\\"target\\\\\\\": \\\\\\\"\\\\\\\",\\\\n  \\\\\\\"category\\\\\\\": \\\\\\\"UserError\\\\\\\",\\\\n  \\\\\\\"error_details\\\\\\\": [\\\\n    {\\\\n      \\\\\\\"key\\\\\\\": \\\\\\\"exit_codes\\\\\\\",\\\\n      \\\\\\\"value\\\\\\\": \\\\\\\"1\\\\\\\"\\\\n    }\\\\n  ]\\\\n}\\\",\\n        \\\"messageParameters\\\": {},\\n        \\\"details\\\": []\\n    },\\n    \\\"time\\\": \\\"0001-01-01T00:00:00.000Z\\\"\\n}\"\n    }\n}"
          ]
        }
      ],
      "execution_count": 68,
      "metadata": {
        "jupyter": {
          "source_hidden": false,
          "outputs_hidden": false
        },
        "nteract": {
          "transient": {
            "deleting": false
          }
        },
        "gather": {
          "logged": 1659976238503
        }
      }
    }
  ],
  "metadata": {
    "kernelspec": {
      "name": "python38-azureml",
      "language": "python",
      "display_name": "Python 3.8 - AzureML"
    },
    "language_info": {
      "name": "python",
      "version": "3.8.5",
      "mimetype": "text/x-python",
      "codemirror_mode": {
        "name": "ipython",
        "version": 3
      },
      "pygments_lexer": "ipython3",
      "nbconvert_exporter": "python",
      "file_extension": ".py"
    },
    "kernel_info": {
      "name": "python38-azureml"
    },
    "microsoft": {
      "host": {
        "AzureML": {
          "notebookHasBeenCompleted": true
        }
      }
    },
    "nteract": {
      "version": "nteract-front-end@1.0.0"
    }
  },
  "nbformat": 4,
  "nbformat_minor": 2
}
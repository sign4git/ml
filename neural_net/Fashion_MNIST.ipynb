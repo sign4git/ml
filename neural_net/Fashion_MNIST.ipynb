{
  "nbformat": 4,
  "nbformat_minor": 0,
  "metadata": {
    "colab": {
      "name": "Fashion MNIST.ipynb",
      "provenance": [],
      "collapsed_sections": []
    },
    "kernelspec": {
      "name": "python3",
      "display_name": "Python 3"
    },
    "language_info": {
      "name": "python"
    }
  },
  "cells": [
    {
      "cell_type": "code",
      "metadata": {
        "id": "lkQF4bFweq6H"
      },
      "source": [
        "import tensorflow as tf\n",
        "import pandas as pd\n",
        "import numpy as np\n",
        "import seaborn as sns\n",
        "import matplotlib.pyplot as plt\n",
        "import keras\n",
        "import warnings\n",
        "warnings.filterwarnings(\"ignore\")\n",
        "from tensorflow.keras.models import Sequential\n",
        "from tensorflow.keras.layers import Dense,Input,Reshape\n",
        " "
      ],
      "execution_count": 1,
      "outputs": []
    },
    {
      "cell_type": "code",
      "metadata": {
        "colab": {
          "base_uri": "https://localhost:8080/"
        },
        "id": "8HwazWwQgWKN",
        "outputId": "04225972-66cf-4e86-cbda-3073d1888031"
      },
      "source": [
        "(x_train, y_train), (x_test, y_test)=tf.keras.datasets.fashion_mnist.load_data()"
      ],
      "execution_count": 2,
      "outputs": [
        {
          "output_type": "stream",
          "text": [
            "Downloading data from https://storage.googleapis.com/tensorflow/tf-keras-datasets/train-labels-idx1-ubyte.gz\n",
            "32768/29515 [=================================] - 0s 0us/step\n",
            "Downloading data from https://storage.googleapis.com/tensorflow/tf-keras-datasets/train-images-idx3-ubyte.gz\n",
            "26427392/26421880 [==============================] - 1s 0us/step\n",
            "Downloading data from https://storage.googleapis.com/tensorflow/tf-keras-datasets/t10k-labels-idx1-ubyte.gz\n",
            "8192/5148 [===============================================] - 0s 0us/step\n",
            "Downloading data from https://storage.googleapis.com/tensorflow/tf-keras-datasets/t10k-images-idx3-ubyte.gz\n",
            "4423680/4422102 [==============================] - 0s 0us/step\n"
          ],
          "name": "stdout"
        }
      ]
    },
    {
      "cell_type": "code",
      "metadata": {
        "colab": {
          "base_uri": "https://localhost:8080/"
        },
        "id": "RkfsvIxlgxYF",
        "outputId": "bc54f3ea-6e13-4999-942c-1889842ea2d1"
      },
      "source": [
        "x_train.shape"
      ],
      "execution_count": 3,
      "outputs": [
        {
          "output_type": "execute_result",
          "data": {
            "text/plain": [
              "(60000, 28, 28)"
            ]
          },
          "metadata": {
            "tags": []
          },
          "execution_count": 3
        }
      ]
    },
    {
      "cell_type": "code",
      "metadata": {
        "colab": {
          "base_uri": "https://localhost:8080/"
        },
        "id": "ZZI-GZdegzYl",
        "outputId": "b8d92423-d3da-4110-ed34-9dc9cc9ba6cb"
      },
      "source": [
        "y_train.shape"
      ],
      "execution_count": 4,
      "outputs": [
        {
          "output_type": "execute_result",
          "data": {
            "text/plain": [
              "(60000,)"
            ]
          },
          "metadata": {
            "tags": []
          },
          "execution_count": 4
        }
      ]
    },
    {
      "cell_type": "code",
      "metadata": {
        "colab": {
          "base_uri": "https://localhost:8080/"
        },
        "id": "BU7UhHxYg1tT",
        "outputId": "de556212-9137-44ab-9ff1-46e798c42887"
      },
      "source": [
        "len(np.unique(y_train))"
      ],
      "execution_count": 5,
      "outputs": [
        {
          "output_type": "execute_result",
          "data": {
            "text/plain": [
              "10"
            ]
          },
          "metadata": {
            "tags": []
          },
          "execution_count": 5
        }
      ]
    },
    {
      "cell_type": "code",
      "metadata": {
        "colab": {
          "base_uri": "https://localhost:8080/"
        },
        "id": "BGnQrC90hNY-",
        "outputId": "03dbdb15-6e13-472c-f70a-ecc6573b1d17"
      },
      "source": [
        "x_test.shape"
      ],
      "execution_count": 6,
      "outputs": [
        {
          "output_type": "execute_result",
          "data": {
            "text/plain": [
              "(10000, 28, 28)"
            ]
          },
          "metadata": {
            "tags": []
          },
          "execution_count": 6
        }
      ]
    },
    {
      "cell_type": "code",
      "metadata": {
        "colab": {
          "base_uri": "https://localhost:8080/"
        },
        "id": "Oq3L-gXAhPsa",
        "outputId": "0d41601c-b125-4e30-9ab2-fdd65162f735"
      },
      "source": [
        "y_test.shape"
      ],
      "execution_count": 7,
      "outputs": [
        {
          "output_type": "execute_result",
          "data": {
            "text/plain": [
              "(10000,)"
            ]
          },
          "metadata": {
            "tags": []
          },
          "execution_count": 7
        }
      ]
    },
    {
      "cell_type": "code",
      "metadata": {
        "id": "kOKpx6hbhR9K"
      },
      "source": [
        "x_train=x_train.astype(\"float32\")\n",
        "y_train=y_train.astype(\"float32\")\n",
        "x_test=x_test.astype(\"float32\")\n",
        "y_test=y_test.astype(\"float32\")"
      ],
      "execution_count": 8,
      "outputs": []
    },
    {
      "cell_type": "code",
      "metadata": {
        "colab": {
          "base_uri": "https://localhost:8080/"
        },
        "id": "514s61dwhuTf",
        "outputId": "11bde5b2-0276-46cf-cd94-5f1604b4d61b"
      },
      "source": [
        "x_train.dtype"
      ],
      "execution_count": 9,
      "outputs": [
        {
          "output_type": "execute_result",
          "data": {
            "text/plain": [
              "dtype('float32')"
            ]
          },
          "metadata": {
            "tags": []
          },
          "execution_count": 9
        }
      ]
    },
    {
      "cell_type": "code",
      "metadata": {
        "colab": {
          "base_uri": "https://localhost:8080/",
          "height": 115
        },
        "id": "6_EzsMKIhw1m",
        "outputId": "8a20a843-a278-47d9-8993-e6b236c0bc62"
      },
      "source": [
        "plt.figure(figsize=(10,10))\n",
        "for i in range(0,10):\n",
        "  plt.subplot(1,10,i+1)\n",
        "  plt.imshow(x_train[i])\n",
        "plt.show()\n",
        "\n",
        "print(y_train[0:10])"
      ],
      "execution_count": 10,
      "outputs": [
        {
          "output_type": "display_data",
          "data": {
            "image/png": "[encoded data removed]",
            "text/plain": [
              "<Figure size 720x720 with 10 Axes>"
            ]
          },
          "metadata": {
            "tags": [],
            "needs_background": "light"
          }
        },
        {
          "output_type": "stream",
          "text": [
            "[9. 0. 0. 3. 0. 2. 7. 2. 5. 5.]\n"
          ],
          "name": "stdout"
        }
      ]
    },
    {
      "cell_type": "code",
      "metadata": {
        "id": "4LVkhDVG39xg"
      },
      "source": [
        "y_train=tf.keras.utils.to_categorical(y_train)\n",
        "y_test=tf.keras.utils.to_categorical(y_test)"
      ],
      "execution_count": 11,
      "outputs": []
    },
    {
      "cell_type": "code",
      "metadata": {
        "colab": {
          "base_uri": "https://localhost:8080/"
        },
        "id": "RmDINW8AAY54",
        "outputId": "f8e801cb-6466-46ea-8bc4-2bbf42e0176d"
      },
      "source": [
        "y_train[0]"
      ],
      "execution_count": 12,
      "outputs": [
        {
          "output_type": "execute_result",
          "data": {
            "text/plain": [
              "array([0., 0., 0., 0., 0., 0., 0., 0., 0., 1.], dtype=float32)"
            ]
          },
          "metadata": {
            "tags": []
          },
          "execution_count": 12
        }
      ]
    },
    {
      "cell_type": "code",
      "metadata": {
        "colab": {
          "base_uri": "https://localhost:8080/"
        },
        "id": "Vsq8lZYo4ObK",
        "outputId": "e5277e7d-6b2d-467a-ec81-b3c7f3b88b73"
      },
      "source": [
        "tf.keras.backend.clear_session()\n",
        "model=Sequential()\n",
        "\n",
        "model.add(Reshape((784,),input_shape=(28,28,)))\n",
        "model.add(tf.keras.layers.BatchNormalization())\n",
        "\n",
        "model.add(Dense(500))\n",
        "model.add(tf.keras.layers.LeakyReLU())\n",
        "model.add(tf.keras.layers.BatchNormalization())\n",
        "\n",
        "model.add(Dense(300))\n",
        "model.add(tf.keras.layers.LeakyReLU())\n",
        "model.add(tf.keras.layers.BatchNormalization())\n",
        "\n",
        "model.add(Dense(100))\n",
        "model.add(tf.keras.layers.LeakyReLU())\n",
        "model.add(tf.keras.layers.BatchNormalization())\n",
        "\n",
        "model.add(Dense(50))\n",
        "model.add(tf.keras.layers.LeakyReLU())\n",
        "model.add(tf.keras.layers.BatchNormalization())\n",
        "\n",
        "model.add(Dense(10,activation=\"softmax\"))\n",
        "\n",
        "model.compile(optimizer=\"adam\",loss=\"categorical_crossentropy\",metrics=[\"accuracy\"])\n",
        "model.summary()\n"
      ],
      "execution_count": 17,
      "outputs": [
        {
          "output_type": "stream",
          "text": [
            "Model: \"sequential\"\n",
            "_________________________________________________________________\n",
            "Layer (type)                 Output Shape              Param #   \n",
            "=================================================================\n",
            "reshape (Reshape)            (None, 784)               0         \n",
            "_________________________________________________________________\n",
            "batch_normalization (BatchNo (None, 784)               3136      \n",
            "_________________________________________________________________\n",
            "dense (Dense)                (None, 500)               392500    \n",
            "_________________________________________________________________\n",
            "leaky_re_lu (LeakyReLU)      (None, 500)               0         \n",
            "_________________________________________________________________\n",
            "batch_normalization_1 (Batch (None, 500)               2000      \n",
            "_________________________________________________________________\n",
            "dense_1 (Dense)              (None, 300)               150300    \n",
            "_________________________________________________________________\n",
            "leaky_re_lu_1 (LeakyReLU)    (None, 300)               0         \n",
            "_________________________________________________________________\n",
            "batch_normalization_2 (Batch (None, 300)               1200      \n",
            "_________________________________________________________________\n",
            "dense_2 (Dense)              (None, 100)               30100     \n",
            "_________________________________________________________________\n",
            "leaky_re_lu_2 (LeakyReLU)    (None, 100)               0         \n",
            "_________________________________________________________________\n",
            "batch_normalization_3 (Batch (None, 100)               400       \n",
            "_________________________________________________________________\n",
            "dense_3 (Dense)              (None, 50)                5050      \n",
            "_________________________________________________________________\n",
            "leaky_re_lu_3 (LeakyReLU)    (None, 50)                0         \n",
            "_________________________________________________________________\n",
            "batch_normalization_4 (Batch (None, 50)                200       \n",
            "_________________________________________________________________\n",
            "dense_4 (Dense)              (None, 10)                510       \n",
            "=================================================================\n",
            "Total params: 585,396\n",
            "Trainable params: 581,928\n",
            "Non-trainable params: 3,468\n",
            "_________________________________________________________________\n"
          ],
          "name": "stdout"
        }
      ]
    },
    {
      "cell_type": "code",
      "metadata": {
        "colab": {
          "base_uri": "https://localhost:8080/"
        },
        "id": "-Vs5zsgN9re2",
        "outputId": "45bebf0c-fa99-414b-e2c5-1e4b945acc87"
      },
      "source": [
        "model.fit(x_train,y_train,validation_data=(x_test,y_test),batch_size=32,epochs=10)"
      ],
      "execution_count": 18,
      "outputs": [
        {
          "output_type": "stream",
          "text": [
            "Epoch 1/10\n",
            "1875/1875 [==============================] - 21s 10ms/step - loss: 0.4952 - accuracy: 0.8223 - val_loss: 0.4197 - val_accuracy: 0.8518\n",
            "Epoch 2/10\n",
            "1875/1875 [==============================] - 19s 10ms/step - loss: 0.3967 - accuracy: 0.8554 - val_loss: 0.4219 - val_accuracy: 0.8484\n",
            "Epoch 3/10\n",
            "1875/1875 [==============================] - 19s 10ms/step - loss: 0.3667 - accuracy: 0.8661 - val_loss: 0.3842 - val_accuracy: 0.8674\n",
            "Epoch 4/10\n",
            "1875/1875 [==============================] - 18s 9ms/step - loss: 0.3429 - accuracy: 0.8735 - val_loss: 0.3687 - val_accuracy: 0.8721\n",
            "Epoch 5/10\n",
            "1875/1875 [==============================] - 18s 9ms/step - loss: 0.3252 - accuracy: 0.8795 - val_loss: 0.3627 - val_accuracy: 0.8755\n",
            "Epoch 6/10\n",
            "1875/1875 [==============================] - 18s 9ms/step - loss: 0.3096 - accuracy: 0.8861 - val_loss: 0.3705 - val_accuracy: 0.8787\n",
            "Epoch 7/10\n",
            "1875/1875 [==============================] - 18s 10ms/step - loss: 0.2925 - accuracy: 0.8911 - val_loss: 0.3497 - val_accuracy: 0.8816\n",
            "Epoch 8/10\n",
            "1875/1875 [==============================] - 18s 9ms/step - loss: 0.2854 - accuracy: 0.8940 - val_loss: 0.3556 - val_accuracy: 0.8820\n",
            "Epoch 9/10\n",
            "1875/1875 [==============================] - 18s 10ms/step - loss: 0.2754 - accuracy: 0.8972 - val_loss: 0.3573 - val_accuracy: 0.8822\n",
            "Epoch 10/10\n",
            "1875/1875 [==============================] - 19s 10ms/step - loss: 0.2643 - accuracy: 0.9007 - val_loss: 0.3482 - val_accuracy: 0.8828\n"
          ],
          "name": "stdout"
        },
        {
          "output_type": "execute_result",
          "data": {
            "text/plain": [
              "<tensorflow.python.keras.callbacks.History at 0x7f875401bed0>"
            ]
          },
          "metadata": {
            "tags": []
          },
          "execution_count": 18
        }
      ]
    },
    {
      "cell_type": "code",
      "metadata": {
        "colab": {
          "base_uri": "https://localhost:8080/"
        },
        "id": "2UA-hDAN8JGC",
        "outputId": "4e34aed0-b9e6-4872-c56a-5cfa514f11ed"
      },
      "source": [
        "y_pred=model.predict(x_test)\n",
        "y_pred"
      ],
      "execution_count": 20,
      "outputs": [
        {
          "output_type": "execute_result",
          "data": {
            "text/plain": [
              "array([[8.3868338e-07, 2.2832820e-07, 1.1940563e-06, ..., 6.8026916e-03,\n",
              "        1.4583422e-05, 9.8466229e-01],\n",
              "       [2.7056006e-04, 6.9812934e-08, 9.9264091e-01, ..., 1.1939119e-08,\n",
              "        4.6035993e-09, 3.6977343e-09],\n",
              "       [1.6428090e-05, 9.9996448e-01, 9.4575306e-08, ..., 1.1337783e-06,\n",
              "        3.8168396e-06, 4.8187196e-08],\n",
              "       ...,\n",
              "       [1.2096969e-04, 5.0875520e-10, 7.9217016e-06, ..., 1.9201641e-06,\n",
              "        9.9983346e-01, 5.9686090e-07],\n",
              "       [2.3678799e-06, 9.9994314e-01, 1.0186533e-06, ..., 9.1496111e-07,\n",
              "        1.9704801e-06, 9.7974794e-07],\n",
              "       [1.0718511e-06, 5.7916566e-07, 1.1896052e-05, ..., 1.1085564e-02,\n",
              "        6.0739562e-06, 1.8948884e-04]], dtype=float32)"
            ]
          },
          "metadata": {
            "tags": []
          },
          "execution_count": 20
        }
      ]
    },
    {
      "cell_type": "code",
      "metadata": {
        "colab": {
          "base_uri": "https://localhost:8080/",
          "height": 133
        },
        "id": "iJfezXJo8Yh9",
        "outputId": "4ac59f0c-cd8d-454c-b6ee-5e4d0bf81039"
      },
      "source": [
        "actual_values=[]\n",
        "pred_values=[]\n",
        "plt.figure(figsize=(10,10))\n",
        "for i in range(0,10):\n",
        "  plt.subplot(1,10,i+1)\n",
        "  plt.imshow(x_test[i])\n",
        "  actual_values.append(np.argmax(y_test[i]))\n",
        "  pred_values.append(np.argmax(y_test[i]))\n",
        "plt.show()\n",
        "print(\"Actual values: \",actual_values)\n",
        "print(\"Predicted values: \",pred_values)"
      ],
      "execution_count": 28,
      "outputs": [
        {
          "output_type": "display_data",
          "data": {
            "image/png": "[encoded data removed]",
            "text/plain": [
              "<Figure size 720x720 with 10 Axes>"
            ]
          },
          "metadata": {
            "tags": [],
            "needs_background": "light"
          }
        },
        {
          "output_type": "stream",
          "text": [
            "Actual values:  [9, 2, 1, 1, 6, 1, 4, 6, 5, 7]\n",
            "Predicted values:  [9, 2, 1, 1, 6, 1, 4, 6, 5, 7]\n"
          ],
          "name": "stdout"
        }
      ]
    }
  ]
}
{
  "nbformat": 4,
  "nbformat_minor": 0,
  "metadata": {
    "colab": {
      "name": "Fashion MNIST.ipynb",
      "provenance": [],
      "collapsed_sections": []
    },
    "kernelspec": {
      "name": "python3",
      "display_name": "Python 3"
    },
    "language_info": {
      "name": "python"
    }
  },
  "cells": [
    {
      "cell_type": "code",
      "metadata": {
        "id": "lkQF4bFweq6H"
      },
      "source": [
        "import tensorflow as tf\n",
        "import pandas as pd\n",
        "import numpy as np\n",
        "import seaborn as sns\n",
        "import matplotlib.pyplot as plt\n",
        "import keras\n",
        "import warnings\n",
        "warnings.filterwarnings(\"ignore\")\n",
        "from tensorflow.keras.models import Sequential\n",
        "from tensorflow.keras.layers import Dense,Input,Reshape\n",
        " "
      ],
      "execution_count": 41,
      "outputs": []
    },
    {
      "cell_type": "code",
      "metadata": {
        "id": "8HwazWwQgWKN"
      },
      "source": [
        "(x_train, y_train), (x_test, y_test)=tf.keras.datasets.fashion_mnist.load_data()"
      ],
      "execution_count": 28,
      "outputs": []
    },
    {
      "cell_type": "code",
      "metadata": {
        "colab": {
          "base_uri": "https://localhost:8080/"
        },
        "id": "RkfsvIxlgxYF",
        "outputId": "8955ddb7-3ac8-44b5-c2bd-064c768011b6"
      },
      "source": [
        "x_train.shape"
      ],
      "execution_count": 29,
      "outputs": [
        {
          "output_type": "execute_result",
          "data": {
            "text/plain": [
              "(60000, 28, 28)"
            ]
          },
          "metadata": {
            "tags": []
          },
          "execution_count": 29
        }
      ]
    },
    {
      "cell_type": "code",
      "metadata": {
        "colab": {
          "base_uri": "https://localhost:8080/"
        },
        "id": "ZZI-GZdegzYl",
        "outputId": "300bf708-e368-4dd0-c1d1-71a7244d93ab"
      },
      "source": [
        "y_train.shape"
      ],
      "execution_count": 30,
      "outputs": [
        {
          "output_type": "execute_result",
          "data": {
            "text/plain": [
              "(60000,)"
            ]
          },
          "metadata": {
            "tags": []
          },
          "execution_count": 30
        }
      ]
    },
    {
      "cell_type": "code",
      "metadata": {
        "colab": {
          "base_uri": "https://localhost:8080/"
        },
        "id": "BU7UhHxYg1tT",
        "outputId": "4f1c5338-b653-4d7d-a607-eb4afbcd8c68"
      },
      "source": [
        "len(np.unique(y_train))"
      ],
      "execution_count": 31,
      "outputs": [
        {
          "output_type": "execute_result",
          "data": {
            "text/plain": [
              "10"
            ]
          },
          "metadata": {
            "tags": []
          },
          "execution_count": 31
        }
      ]
    },
    {
      "cell_type": "code",
      "metadata": {
        "colab": {
          "base_uri": "https://localhost:8080/"
        },
        "id": "BGnQrC90hNY-",
        "outputId": "83fc0347-bb74-4ef7-932a-4518e430ffc6"
      },
      "source": [
        "x_test.shape"
      ],
      "execution_count": 32,
      "outputs": [
        {
          "output_type": "execute_result",
          "data": {
            "text/plain": [
              "(10000, 28, 28)"
            ]
          },
          "metadata": {
            "tags": []
          },
          "execution_count": 32
        }
      ]
    },
    {
      "cell_type": "code",
      "metadata": {
        "colab": {
          "base_uri": "https://localhost:8080/"
        },
        "id": "Oq3L-gXAhPsa",
        "outputId": "f1e02d20-d30e-4311-e542-c8dd005d5bf0"
      },
      "source": [
        "y_test.shape"
      ],
      "execution_count": 33,
      "outputs": [
        {
          "output_type": "execute_result",
          "data": {
            "text/plain": [
              "(10000,)"
            ]
          },
          "metadata": {
            "tags": []
          },
          "execution_count": 33
        }
      ]
    },
    {
      "cell_type": "code",
      "metadata": {
        "id": "kOKpx6hbhR9K"
      },
      "source": [
        "x_train=x_train.astype(\"float32\")\n",
        "y_train=y_train.astype(\"float32\")\n",
        "x_test=x_test.astype(\"float32\")\n",
        "y_test=y_test.astype(\"float32\")"
      ],
      "execution_count": 34,
      "outputs": []
    },
    {
      "cell_type": "code",
      "metadata": {
        "colab": {
          "base_uri": "https://localhost:8080/"
        },
        "id": "514s61dwhuTf",
        "outputId": "bd1717f7-3398-48b0-ef4c-fd2bd9b8df81"
      },
      "source": [
        "x_train.dtype"
      ],
      "execution_count": 35,
      "outputs": [
        {
          "output_type": "execute_result",
          "data": {
            "text/plain": [
              "dtype('float32')"
            ]
          },
          "metadata": {
            "tags": []
          },
          "execution_count": 35
        }
      ]
    },
    {
      "cell_type": "code",
      "metadata": {
        "colab": {
          "base_uri": "https://localhost:8080/",
          "height": 115
        },
        "id": "6_EzsMKIhw1m",
        "outputId": "dd296b03-9e6d-4f04-9e2e-000514ed4663"
      },
      "source": [
        "plt.figure(figsize=(10,10))\n",
        "for i in range(0,10):\n",
        "  plt.subplot(1,10,i+1)\n",
        "  plt.imshow(x_train[i])\n",
        "plt.show()\n",
        "\n",
        "print(y_train[0:10])"
      ],
      "execution_count": 36,
      "outputs": [
        {
          "output_type": "display_data",
          "data": {
            "image/png": "[encoded data removed]",
            "text/plain": [
              "<Figure size 720x720 with 10 Axes>"
            ]
          },
          "metadata": {
            "tags": [],
            "needs_background": "light"
          }
        },
        {
          "output_type": "stream",
          "text": [
            "[9. 0. 0. 3. 0. 2. 7. 2. 5. 5.]\n"
          ],
          "name": "stdout"
        }
      ]
    },
    {
      "cell_type": "code",
      "metadata": {
        "id": "4LVkhDVG39xg"
      },
      "source": [
        "y_train=tf.keras.utils.to_categorical(y_train)\n",
        "y_test=tf.keras.utils.to_categorical(y_test)"
      ],
      "execution_count": 37,
      "outputs": []
    },
    {
      "cell_type": "code",
      "metadata": {
        "colab": {
          "base_uri": "https://localhost:8080/"
        },
        "id": "RmDINW8AAY54",
        "outputId": "d9cec17e-7daf-48c9-bed1-1b25c73b93eb"
      },
      "source": [
        "y_train[0]"
      ],
      "execution_count": 55,
      "outputs": [
        {
          "output_type": "execute_result",
          "data": {
            "text/plain": [
              "array([0., 0., 0., 0., 0., 0., 0., 0., 0., 1.], dtype=float32)"
            ]
          },
          "metadata": {
            "tags": []
          },
          "execution_count": 55
        }
      ]
    },
    {
      "cell_type": "code",
      "metadata": {
        "colab": {
          "base_uri": "https://localhost:8080/"
        },
        "id": "Vsq8lZYo4ObK",
        "outputId": "7f0b231a-7b9a-4ef8-815e-a97e9f10bbcf"
      },
      "source": [
        "tf.keras.backend.clear_session()\n",
        "model=Sequential()\n",
        "\n",
        "model.add(Reshape((784,),input_shape=(28,28,)))\n",
        "model.add(tf.keras.layers.BatchNormalization())\n",
        "\n",
        "model.add(Dense(500))\n",
        "model.add(tf.keras.layers.LeakyReLU())\n",
        "\n",
        "model.add(Dense(300))\n",
        "model.add(tf.keras.layers.LeakyReLU())\n",
        "\n",
        "model.add(Dense(200))\n",
        "model.add(tf.keras.layers.LeakyReLU())\n",
        "\n",
        "model.add(Dense(100))\n",
        "model.add(tf.keras.layers.LeakyReLU())\n",
        "\n",
        "model.add(Dense(10,activation=\"softmax\"))\n",
        "\n",
        "model.compile(optimizer=\"adam\",loss=\"categorical_crossentropy\",metrics=[\"accuracy\"])\n",
        "model.summary()\n"
      ],
      "execution_count": 57,
      "outputs": [
        {
          "output_type": "stream",
          "text": [
            "Model: \"sequential\"\n",
            "_________________________________________________________________\n",
            "Layer (type)                 Output Shape              Param #   \n",
            "=================================================================\n",
            "reshape (Reshape)            (None, 784)               0         \n",
            "_________________________________________________________________\n",
            "batch_normalization (BatchNo (None, 784)               3136      \n",
            "_________________________________________________________________\n",
            "dense (Dense)                (None, 500)               392500    \n",
            "_________________________________________________________________\n",
            "leaky_re_lu (LeakyReLU)      (None, 500)               0         \n",
            "_________________________________________________________________\n",
            "dense_1 (Dense)              (None, 300)               150300    \n",
            "_________________________________________________________________\n",
            "leaky_re_lu_1 (LeakyReLU)    (None, 300)               0         \n",
            "_________________________________________________________________\n",
            "dense_2 (Dense)              (None, 200)               60200     \n",
            "_________________________________________________________________\n",
            "leaky_re_lu_2 (LeakyReLU)    (None, 200)               0         \n",
            "_________________________________________________________________\n",
            "dense_3 (Dense)              (None, 100)               20100     \n",
            "_________________________________________________________________\n",
            "leaky_re_lu_3 (LeakyReLU)    (None, 100)               0         \n",
            "_________________________________________________________________\n",
            "dense_4 (Dense)              (None, 10)                1010      \n",
            "=================================================================\n",
            "Total params: 627,246\n",
            "Trainable params: 625,678\n",
            "Non-trainable params: 1,568\n",
            "_________________________________________________________________\n"
          ],
          "name": "stdout"
        }
      ]
    },
    {
      "cell_type": "code",
      "metadata": {
        "colab": {
          "base_uri": "https://localhost:8080/"
        },
        "id": "-Vs5zsgN9re2",
        "outputId": "7012310d-978e-4ae2-b259-a4676ebaf034"
      },
      "source": [
        "model.fit(x_train,y_train,validation_data=(x_test,y_test),batch_size=32,epochs=20)"
      ],
      "execution_count": 58,
      "outputs": [
        {
          "output_type": "stream",
          "text": [
            "Epoch 1/20\n",
            "1875/1875 [==============================] - 19s 10ms/step - loss: 0.5112 - accuracy: 0.8181 - val_loss: 0.4434 - val_accuracy: 0.8428\n",
            "Epoch 2/20\n",
            "1875/1875 [==============================] - 19s 10ms/step - loss: 0.4065 - accuracy: 0.8533 - val_loss: 0.4512 - val_accuracy: 0.8373\n",
            "Epoch 3/20\n",
            "1875/1875 [==============================] - 19s 10ms/step - loss: 0.3773 - accuracy: 0.8625 - val_loss: 0.4003 - val_accuracy: 0.8537\n",
            "Epoch 4/20\n",
            "1875/1875 [==============================] - 19s 10ms/step - loss: 0.3521 - accuracy: 0.8695 - val_loss: 0.3868 - val_accuracy: 0.8626\n",
            "Epoch 5/20\n",
            "1875/1875 [==============================] - 19s 10ms/step - loss: 0.3365 - accuracy: 0.8763 - val_loss: 0.3802 - val_accuracy: 0.8645\n",
            "Epoch 6/20\n",
            "1875/1875 [==============================] - 19s 10ms/step - loss: 0.3220 - accuracy: 0.8805 - val_loss: 0.3823 - val_accuracy: 0.8664\n",
            "Epoch 7/20\n",
            "1875/1875 [==============================] - 19s 10ms/step - loss: 0.3070 - accuracy: 0.8865 - val_loss: 0.4025 - val_accuracy: 0.8697\n",
            "Epoch 8/20\n",
            "1875/1875 [==============================] - 20s 10ms/step - loss: 0.3021 - accuracy: 0.8885 - val_loss: 0.4547 - val_accuracy: 0.8751\n",
            "Epoch 9/20\n",
            "1875/1875 [==============================] - 20s 10ms/step - loss: 0.2867 - accuracy: 0.8943 - val_loss: 0.3592 - val_accuracy: 0.8826\n",
            "Epoch 10/20\n",
            "1875/1875 [==============================] - 19s 10ms/step - loss: 0.2779 - accuracy: 0.8974 - val_loss: 0.4342 - val_accuracy: 0.8720\n",
            "Epoch 11/20\n",
            "1875/1875 [==============================] - 19s 10ms/step - loss: 0.2723 - accuracy: 0.8989 - val_loss: 0.4383 - val_accuracy: 0.8590\n",
            "Epoch 12/20\n",
            "1875/1875 [==============================] - 19s 10ms/step - loss: 0.2653 - accuracy: 0.9014 - val_loss: 0.4115 - val_accuracy: 0.8801\n",
            "Epoch 13/20\n",
            "1875/1875 [==============================] - 19s 10ms/step - loss: 0.2523 - accuracy: 0.9056 - val_loss: 0.4454 - val_accuracy: 0.8846\n",
            "Epoch 14/20\n",
            "1875/1875 [==============================] - 19s 10ms/step - loss: 0.2472 - accuracy: 0.9079 - val_loss: 0.4435 - val_accuracy: 0.8743\n",
            "Epoch 15/20\n",
            "1875/1875 [==============================] - 19s 10ms/step - loss: 0.2428 - accuracy: 0.9077 - val_loss: 0.4444 - val_accuracy: 0.8680\n",
            "Epoch 16/20\n",
            "1875/1875 [==============================] - 20s 11ms/step - loss: 0.2370 - accuracy: 0.9107 - val_loss: 0.4184 - val_accuracy: 0.8758\n",
            "Epoch 17/20\n",
            "1875/1875 [==============================] - 19s 10ms/step - loss: 0.2296 - accuracy: 0.9137 - val_loss: 0.5031 - val_accuracy: 0.8737\n",
            "Epoch 18/20\n",
            "1875/1875 [==============================] - 19s 10ms/step - loss: 0.2250 - accuracy: 0.9158 - val_loss: 0.3977 - val_accuracy: 0.8825\n",
            "Epoch 19/20\n",
            "1875/1875 [==============================] - 19s 10ms/step - loss: 0.2229 - accuracy: 0.9151 - val_loss: 0.4244 - val_accuracy: 0.8838\n",
            "Epoch 20/20\n",
            "1875/1875 [==============================] - 19s 10ms/step - loss: 0.2140 - accuracy: 0.9189 - val_loss: 0.4300 - val_accuracy: 0.8788\n"
          ],
          "name": "stdout"
        },
        {
          "output_type": "execute_result",
          "data": {
            "text/plain": [
              "<tensorflow.python.keras.callbacks.History at 0x7f81ee558b10>"
            ]
          },
          "metadata": {
            "tags": []
          },
          "execution_count": 58
        }
      ]
    },
    {
      "cell_type": "code",
      "metadata": {
        "id": "2UA-hDAN8JGC"
      },
      "source": [
        ""
      ],
      "execution_count": 44,
      "outputs": []
    }
  ]
}
{
  "nbformat": 4,
  "nbformat_minor": 0,
  "metadata": {
    "colab": {
      "name": "Boston Housing Price.ipynb",
      "provenance": [],
      "collapsed_sections": []
    },
    "kernelspec": {
      "name": "python3",
      "display_name": "Python 3"
    },
    "language_info": {
      "name": "python"
    },
    "accelerator": "GPU"
  },
  "cells": [
    {
      "cell_type": "code",
      "metadata": {
        "id": "mHW8qbcMHXcA"
      },
      "source": [
        "import tensorflow as tf\n",
        "import pandas as pd\n",
        "import numpy as np\n",
        "from tensorflow.keras import models,layers,Sequential\n",
        "from tensorflow.keras.layers import Dense"
      ],
      "execution_count": 28,
      "outputs": []
    },
    {
      "cell_type": "code",
      "metadata": {
        "colab": {
          "base_uri": "https://localhost:8080/"
        },
        "id": "-BYHN8WiHxQT",
        "outputId": "49107c2d-5c55-495c-d035-af9c4bc380e6"
      },
      "source": [
        "(x_train, y_train), (x_test, y_test)=tf.keras.datasets.boston_housing.load_data()"
      ],
      "execution_count": 8,
      "outputs": [
        {
          "output_type": "stream",
          "text": [
            "Downloading data from https://storage.googleapis.com/tensorflow/tf-keras-datasets/boston_housing.npz\n",
            "57344/57026 [==============================] - 0s 0us/step\n"
          ],
          "name": "stdout"
        }
      ]
    },
    {
      "cell_type": "code",
      "metadata": {
        "colab": {
          "base_uri": "https://localhost:8080/"
        },
        "id": "xQoSBLghH89B",
        "outputId": "99fea332-1d96-4bb6-b8c8-e1637f9e7fd8"
      },
      "source": [
        "print(x_train.shape)\n",
        "print(y_train.shape)"
      ],
      "execution_count": 9,
      "outputs": [
        {
          "output_type": "stream",
          "text": [
            "(404, 13)\n",
            "(404,)\n"
          ],
          "name": "stdout"
        }
      ]
    },
    {
      "cell_type": "code",
      "metadata": {
        "colab": {
          "base_uri": "https://localhost:8080/"
        },
        "id": "zlDxA7KJH_CA",
        "outputId": "43cd7c21-37ce-4b74-b9d3-b21e9cb00d5c"
      },
      "source": [
        "print(x_test.shape)\n",
        "print(y_test.shape)"
      ],
      "execution_count": 10,
      "outputs": [
        {
          "output_type": "stream",
          "text": [
            "(102, 13)\n",
            "(102,)\n"
          ],
          "name": "stdout"
        }
      ]
    },
    {
      "cell_type": "code",
      "metadata": {
        "colab": {
          "base_uri": "https://localhost:8080/"
        },
        "id": "4NEcao9BILe6",
        "outputId": "dc5d247e-fe3d-4930-db21-13fe7f1ec86b"
      },
      "source": [
        "x_train[0]"
      ],
      "execution_count": 11,
      "outputs": [
        {
          "output_type": "execute_result",
          "data": {
            "text/plain": [
              "array([  1.23247,   0.     ,   8.14   ,   0.     ,   0.538  ,   6.142  ,\n",
              "        91.7    ,   3.9769 ,   4.     , 307.     ,  21.     , 396.9    ,\n",
              "        18.72   ])"
            ]
          },
          "metadata": {
            "tags": []
          },
          "execution_count": 11
        }
      ]
    },
    {
      "cell_type": "code",
      "metadata": {
        "colab": {
          "base_uri": "https://localhost:8080/"
        },
        "id": "-jRW8ym_IZT8",
        "outputId": "ef374286-5d54-4901-dc98-646b54484863"
      },
      "source": [
        "y_train[0]"
      ],
      "execution_count": 12,
      "outputs": [
        {
          "output_type": "execute_result",
          "data": {
            "text/plain": [
              "15.2"
            ]
          },
          "metadata": {
            "tags": []
          },
          "execution_count": 12
        }
      ]
    },
    {
      "cell_type": "code",
      "metadata": {
        "colab": {
          "base_uri": "https://localhost:8080/"
        },
        "id": "gGN5y2scIbhm",
        "outputId": "ddeff033-aebd-472e-ece7-6cd031c668c5"
      },
      "source": [
        "type(x_train)"
      ],
      "execution_count": 13,
      "outputs": [
        {
          "output_type": "execute_result",
          "data": {
            "text/plain": [
              "numpy.ndarray"
            ]
          },
          "metadata": {
            "tags": []
          },
          "execution_count": 13
        }
      ]
    },
    {
      "cell_type": "code",
      "metadata": {
        "colab": {
          "base_uri": "https://localhost:8080/"
        },
        "id": "GLnyjn-8jEIC",
        "outputId": "1df16b51-8242-4792-d748-ebcba8a7601c"
      },
      "source": [
        "x_train.dtype"
      ],
      "execution_count": 14,
      "outputs": [
        {
          "output_type": "execute_result",
          "data": {
            "text/plain": [
              "dtype('float64')"
            ]
          },
          "metadata": {
            "tags": []
          },
          "execution_count": 14
        }
      ]
    },
    {
      "cell_type": "code",
      "metadata": {
        "colab": {
          "base_uri": "https://localhost:8080/"
        },
        "id": "FTkK_MspjIce",
        "outputId": "ce6cd905-84bf-4435-c46d-2bd5038691f9"
      },
      "source": [
        "y_train.dtype"
      ],
      "execution_count": 15,
      "outputs": [
        {
          "output_type": "execute_result",
          "data": {
            "text/plain": [
              "dtype('float64')"
            ]
          },
          "metadata": {
            "tags": []
          },
          "execution_count": 15
        }
      ]
    },
    {
      "cell_type": "code",
      "metadata": {
        "colab": {
          "base_uri": "https://localhost:8080/"
        },
        "id": "Xu1kjRYOjKaK",
        "outputId": "cb0120d4-e279-41f3-8209-9738d208235a"
      },
      "source": [
        "x_train=x_train.astype(\"float32\")\n",
        "x_train.dtype"
      ],
      "execution_count": 16,
      "outputs": [
        {
          "output_type": "execute_result",
          "data": {
            "text/plain": [
              "dtype('float32')"
            ]
          },
          "metadata": {
            "tags": []
          },
          "execution_count": 16
        }
      ]
    },
    {
      "cell_type": "code",
      "metadata": {
        "colab": {
          "base_uri": "https://localhost:8080/"
        },
        "id": "RvyxZ2HKjPuK",
        "outputId": "18468292-ac1c-4ff1-e30b-4c9710dd779a"
      },
      "source": [
        "y_train=y_train.astype(\"float32\")\n",
        "y_train.dtype"
      ],
      "execution_count": 17,
      "outputs": [
        {
          "output_type": "execute_result",
          "data": {
            "text/plain": [
              "dtype('float32')"
            ]
          },
          "metadata": {
            "tags": []
          },
          "execution_count": 17
        }
      ]
    },
    {
      "cell_type": "code",
      "metadata": {
        "colab": {
          "base_uri": "https://localhost:8080/"
        },
        "id": "eef2sTC2jS1s",
        "outputId": "182c2252-b065-4a8f-b912-ce6aedb1b915"
      },
      "source": [
        "x_test=x_test.astype(\"float32\")\n",
        "x_test.dtype"
      ],
      "execution_count": 18,
      "outputs": [
        {
          "output_type": "execute_result",
          "data": {
            "text/plain": [
              "dtype('float32')"
            ]
          },
          "metadata": {
            "tags": []
          },
          "execution_count": 18
        }
      ]
    },
    {
      "cell_type": "code",
      "metadata": {
        "colab": {
          "base_uri": "https://localhost:8080/"
        },
        "id": "gfKToPI1jW3Q",
        "outputId": "5ce4be7e-bd80-49ce-d08b-e519b4822514"
      },
      "source": [
        "y_test=y_test.astype(\"float32\")\n",
        "y_test.dtype"
      ],
      "execution_count": 19,
      "outputs": [
        {
          "output_type": "execute_result",
          "data": {
            "text/plain": [
              "dtype('float32')"
            ]
          },
          "metadata": {
            "tags": []
          },
          "execution_count": 19
        }
      ]
    },
    {
      "cell_type": "code",
      "metadata": {
        "colab": {
          "base_uri": "https://localhost:8080/"
        },
        "id": "wiraoE_7jv1A",
        "outputId": "bd8d7f87-1021-4d82-b63a-74c678842a44"
      },
      "source": [
        "tf.keras.backend.clear_session()\n",
        "model=Sequential()\n",
        "\n",
        "model.add(Dense(1,input_shape=(13,)))\n",
        "model.add(tf.keras.layers.BatchNormalization())\n",
        "model.compile(optimizer=\"adam\",loss=\"mse\")\n",
        "\n",
        "model.summary()"
      ],
      "execution_count": 39,
      "outputs": [
        {
          "output_type": "stream",
          "text": [
            "Model: \"sequential\"\n",
            "_________________________________________________________________\n",
            "Layer (type)                 Output Shape              Param #   \n",
            "=================================================================\n",
            "dense (Dense)                (None, 1)                 14        \n",
            "_________________________________________________________________\n",
            "batch_normalization (BatchNo (None, 1)                 4         \n",
            "=================================================================\n",
            "Total params: 18\n",
            "Trainable params: 16\n",
            "Non-trainable params: 2\n",
            "_________________________________________________________________\n"
          ],
          "name": "stdout"
        }
      ]
    },
    {
      "cell_type": "code",
      "metadata": {
        "colab": {
          "base_uri": "https://localhost:8080/"
        },
        "id": "gm02HGXtrKXE",
        "outputId": "8d09d256-5fa0-4c5c-d7ab-8c23cc8832a4"
      },
      "source": [
        "model.fit(x_train,y_train,epochs=100,validation_data=(x_test,y_test))"
      ],
      "execution_count": 41,
      "outputs": [
        {
          "output_type": "stream",
          "text": [
            "Epoch 1/100\n",
            "13/13 [==============================] - 0s 5ms/step - loss: 563.9197 - val_loss: 558.5405\n",
            "Epoch 2/100\n",
            "13/13 [==============================] - 0s 3ms/step - loss: 563.2268 - val_loss: 555.5170\n",
            "Epoch 3/100\n",
            "13/13 [==============================] - 0s 3ms/step - loss: 562.5460 - val_loss: 551.6909\n",
            "Epoch 4/100\n",
            "13/13 [==============================] - 0s 3ms/step - loss: 561.3704 - val_loss: 547.7485\n",
            "Epoch 5/100\n",
            "13/13 [==============================] - 0s 3ms/step - loss: 560.8370 - val_loss: 543.8711\n",
            "Epoch 6/100\n",
            "13/13 [==============================] - 0s 3ms/step - loss: 560.0464 - val_loss: 541.1807\n",
            "Epoch 7/100\n",
            "13/13 [==============================] - 0s 3ms/step - loss: 558.8854 - val_loss: 537.8587\n",
            "Epoch 8/100\n",
            "13/13 [==============================] - 0s 4ms/step - loss: 558.0762 - val_loss: 535.4521\n",
            "Epoch 9/100\n",
            "13/13 [==============================] - 0s 4ms/step - loss: 557.2106 - val_loss: 534.8489\n",
            "Epoch 10/100\n",
            "13/13 [==============================] - 0s 4ms/step - loss: 556.8176 - val_loss: 533.4417\n",
            "Epoch 11/100\n",
            "13/13 [==============================] - 0s 3ms/step - loss: 556.0012 - val_loss: 532.3389\n",
            "Epoch 12/100\n",
            "13/13 [==============================] - 0s 3ms/step - loss: 554.1498 - val_loss: 531.8475\n",
            "Epoch 13/100\n",
            "13/13 [==============================] - 0s 3ms/step - loss: 553.8492 - val_loss: 533.5441\n",
            "Epoch 14/100\n",
            "13/13 [==============================] - 0s 3ms/step - loss: 552.1558 - val_loss: 535.0793\n",
            "Epoch 15/100\n",
            "13/13 [==============================] - 0s 3ms/step - loss: 551.3788 - val_loss: 537.6335\n",
            "Epoch 16/100\n",
            "13/13 [==============================] - 0s 4ms/step - loss: 550.0600 - val_loss: 536.7122\n",
            "Epoch 17/100\n",
            "13/13 [==============================] - 0s 3ms/step - loss: 548.7574 - val_loss: 535.0927\n",
            "Epoch 18/100\n",
            "13/13 [==============================] - 0s 3ms/step - loss: 547.4470 - val_loss: 539.2175\n",
            "Epoch 19/100\n",
            "13/13 [==============================] - 0s 3ms/step - loss: 546.7660 - val_loss: 535.7293\n",
            "Epoch 20/100\n",
            "13/13 [==============================] - 0s 4ms/step - loss: 545.4841 - val_loss: 545.2089\n",
            "Epoch 21/100\n",
            "13/13 [==============================] - 0s 3ms/step - loss: 544.6705 - val_loss: 549.7678\n",
            "Epoch 22/100\n",
            "13/13 [==============================] - 0s 3ms/step - loss: 543.3625 - val_loss: 544.2104\n",
            "Epoch 23/100\n",
            "13/13 [==============================] - 0s 3ms/step - loss: 542.3182 - val_loss: 544.0908\n",
            "Epoch 24/100\n",
            "13/13 [==============================] - 0s 3ms/step - loss: 541.1035 - val_loss: 544.6824\n",
            "Epoch 25/100\n",
            "13/13 [==============================] - 0s 3ms/step - loss: 540.8123 - val_loss: 551.5862\n",
            "Epoch 26/100\n",
            "13/13 [==============================] - 0s 3ms/step - loss: 539.7194 - val_loss: 547.0995\n",
            "Epoch 27/100\n",
            "13/13 [==============================] - 0s 3ms/step - loss: 538.9312 - val_loss: 550.7666\n",
            "Epoch 28/100\n",
            "13/13 [==============================] - 0s 3ms/step - loss: 538.0207 - val_loss: 557.4366\n",
            "Epoch 29/100\n",
            "13/13 [==============================] - 0s 4ms/step - loss: 537.7473 - val_loss: 556.8376\n",
            "Epoch 30/100\n",
            "13/13 [==============================] - 0s 3ms/step - loss: 536.4548 - val_loss: 554.1218\n",
            "Epoch 31/100\n",
            "13/13 [==============================] - 0s 3ms/step - loss: 536.2050 - val_loss: 552.0163\n",
            "Epoch 32/100\n",
            "13/13 [==============================] - 0s 4ms/step - loss: 535.3788 - val_loss: 554.7497\n",
            "Epoch 33/100\n",
            "13/13 [==============================] - 0s 3ms/step - loss: 533.9924 - val_loss: 554.4951\n",
            "Epoch 34/100\n",
            "13/13 [==============================] - 0s 3ms/step - loss: 533.3608 - val_loss: 559.5712\n",
            "Epoch 35/100\n",
            "13/13 [==============================] - 0s 4ms/step - loss: 532.7021 - val_loss: 558.6131\n",
            "Epoch 36/100\n",
            "13/13 [==============================] - 0s 4ms/step - loss: 532.6470 - val_loss: 549.1236\n",
            "Epoch 37/100\n",
            "13/13 [==============================] - 0s 3ms/step - loss: 531.0591 - val_loss: 553.2626\n",
            "Epoch 38/100\n",
            "13/13 [==============================] - 0s 3ms/step - loss: 530.5889 - val_loss: 561.0049\n",
            "Epoch 39/100\n",
            "13/13 [==============================] - 0s 3ms/step - loss: 529.3521 - val_loss: 556.1180\n",
            "Epoch 40/100\n",
            "13/13 [==============================] - 0s 3ms/step - loss: 528.8512 - val_loss: 557.2512\n",
            "Epoch 41/100\n",
            "13/13 [==============================] - 0s 3ms/step - loss: 527.9123 - val_loss: 561.7237\n",
            "Epoch 42/100\n",
            "13/13 [==============================] - 0s 3ms/step - loss: 527.1456 - val_loss: 558.2003\n",
            "Epoch 43/100\n",
            "13/13 [==============================] - 0s 4ms/step - loss: 527.0182 - val_loss: 550.8655\n",
            "Epoch 44/100\n",
            "13/13 [==============================] - 0s 4ms/step - loss: 526.1759 - val_loss: 560.6284\n",
            "Epoch 45/100\n",
            "13/13 [==============================] - 0s 3ms/step - loss: 525.3708 - val_loss: 566.0024\n",
            "Epoch 46/100\n",
            "13/13 [==============================] - 0s 3ms/step - loss: 525.1664 - val_loss: 549.8497\n",
            "Epoch 47/100\n",
            "13/13 [==============================] - 0s 3ms/step - loss: 524.5118 - val_loss: 550.6678\n",
            "Epoch 48/100\n",
            "13/13 [==============================] - 0s 3ms/step - loss: 522.9869 - val_loss: 565.0297\n",
            "Epoch 49/100\n",
            "13/13 [==============================] - 0s 5ms/step - loss: 522.6333 - val_loss: 562.9971\n",
            "Epoch 50/100\n",
            "13/13 [==============================] - 0s 3ms/step - loss: 521.7321 - val_loss: 555.8488\n",
            "Epoch 51/100\n",
            "13/13 [==============================] - 0s 3ms/step - loss: 520.8377 - val_loss: 557.1987\n",
            "Epoch 52/100\n",
            "13/13 [==============================] - 0s 3ms/step - loss: 520.5651 - val_loss: 552.1564\n",
            "Epoch 53/100\n",
            "13/13 [==============================] - 0s 3ms/step - loss: 519.1260 - val_loss: 549.9750\n",
            "Epoch 54/100\n",
            "13/13 [==============================] - 0s 4ms/step - loss: 518.3965 - val_loss: 554.2806\n",
            "Epoch 55/100\n",
            "13/13 [==============================] - 0s 4ms/step - loss: 518.6630 - val_loss: 547.0312\n",
            "Epoch 56/100\n",
            "13/13 [==============================] - 0s 3ms/step - loss: 518.2885 - val_loss: 555.1644\n",
            "Epoch 57/100\n",
            "13/13 [==============================] - 0s 4ms/step - loss: 516.8552 - val_loss: 537.2493\n",
            "Epoch 58/100\n",
            "13/13 [==============================] - 0s 3ms/step - loss: 515.9496 - val_loss: 550.1379\n",
            "Epoch 59/100\n",
            "13/13 [==============================] - 0s 4ms/step - loss: 514.8861 - val_loss: 554.6047\n",
            "Epoch 60/100\n",
            "13/13 [==============================] - 0s 4ms/step - loss: 514.6638 - val_loss: 554.7695\n",
            "Epoch 61/100\n",
            "13/13 [==============================] - 0s 4ms/step - loss: 514.1145 - val_loss: 542.3573\n",
            "Epoch 62/100\n",
            "13/13 [==============================] - 0s 3ms/step - loss: 512.8068 - val_loss: 535.8068\n",
            "Epoch 63/100\n",
            "13/13 [==============================] - 0s 3ms/step - loss: 512.2210 - val_loss: 536.4763\n",
            "Epoch 64/100\n",
            "13/13 [==============================] - 0s 4ms/step - loss: 511.5244 - val_loss: 549.1344\n",
            "Epoch 65/100\n",
            "13/13 [==============================] - 0s 3ms/step - loss: 511.3588 - val_loss: 541.0498\n",
            "Epoch 66/100\n",
            "13/13 [==============================] - 0s 3ms/step - loss: 510.1137 - val_loss: 534.5313\n",
            "Epoch 67/100\n",
            "13/13 [==============================] - 0s 3ms/step - loss: 508.8168 - val_loss: 535.0807\n",
            "Epoch 68/100\n",
            "13/13 [==============================] - 0s 3ms/step - loss: 508.6024 - val_loss: 529.2746\n",
            "Epoch 69/100\n",
            "13/13 [==============================] - 0s 3ms/step - loss: 508.2344 - val_loss: 561.1189\n",
            "Epoch 70/100\n",
            "13/13 [==============================] - 0s 4ms/step - loss: 508.0739 - val_loss: 542.6293\n",
            "Epoch 71/100\n",
            "13/13 [==============================] - 0s 3ms/step - loss: 506.4671 - val_loss: 519.4348\n",
            "Epoch 72/100\n",
            "13/13 [==============================] - 0s 3ms/step - loss: 506.5039 - val_loss: 525.0908\n",
            "Epoch 73/100\n",
            "13/13 [==============================] - 0s 3ms/step - loss: 505.6143 - val_loss: 542.0186\n",
            "Epoch 74/100\n",
            "13/13 [==============================] - 0s 5ms/step - loss: 505.6407 - val_loss: 534.7978\n",
            "Epoch 75/100\n",
            "13/13 [==============================] - 0s 3ms/step - loss: 503.8769 - val_loss: 533.5733\n",
            "Epoch 76/100\n",
            "13/13 [==============================] - 0s 4ms/step - loss: 503.3068 - val_loss: 535.5737\n",
            "Epoch 77/100\n",
            "13/13 [==============================] - 0s 3ms/step - loss: 502.1401 - val_loss: 529.6769\n",
            "Epoch 78/100\n",
            "13/13 [==============================] - 0s 3ms/step - loss: 502.2894 - val_loss: 527.3221\n",
            "Epoch 79/100\n",
            "13/13 [==============================] - 0s 3ms/step - loss: 501.4969 - val_loss: 530.6147\n",
            "Epoch 80/100\n",
            "13/13 [==============================] - 0s 3ms/step - loss: 501.0104 - val_loss: 519.4425\n",
            "Epoch 81/100\n",
            "13/13 [==============================] - 0s 3ms/step - loss: 499.9575 - val_loss: 521.8173\n",
            "Epoch 82/100\n",
            "13/13 [==============================] - 0s 3ms/step - loss: 499.1696 - val_loss: 529.2547\n",
            "Epoch 83/100\n",
            "13/13 [==============================] - 0s 3ms/step - loss: 498.5825 - val_loss: 527.0712\n",
            "Epoch 84/100\n",
            "13/13 [==============================] - 0s 4ms/step - loss: 497.7286 - val_loss: 526.2014\n",
            "Epoch 85/100\n",
            "13/13 [==============================] - 0s 3ms/step - loss: 497.1978 - val_loss: 512.6996\n",
            "Epoch 86/100\n",
            "13/13 [==============================] - 0s 4ms/step - loss: 496.2856 - val_loss: 522.2915\n",
            "Epoch 87/100\n",
            "13/13 [==============================] - 0s 4ms/step - loss: 495.1784 - val_loss: 507.8485\n",
            "Epoch 88/100\n",
            "13/13 [==============================] - 0s 3ms/step - loss: 495.2366 - val_loss: 515.3204\n",
            "Epoch 89/100\n",
            "13/13 [==============================] - 0s 4ms/step - loss: 494.7888 - val_loss: 517.2483\n",
            "Epoch 90/100\n",
            "13/13 [==============================] - 0s 4ms/step - loss: 493.4344 - val_loss: 516.3228\n",
            "Epoch 91/100\n",
            "13/13 [==============================] - 0s 3ms/step - loss: 493.9406 - val_loss: 519.5076\n",
            "Epoch 92/100\n",
            "13/13 [==============================] - 0s 3ms/step - loss: 492.8106 - val_loss: 512.8083\n",
            "Epoch 93/100\n",
            "13/13 [==============================] - 0s 5ms/step - loss: 492.0905 - val_loss: 506.6825\n",
            "Epoch 94/100\n",
            "13/13 [==============================] - 0s 4ms/step - loss: 491.3070 - val_loss: 498.3072\n",
            "Epoch 95/100\n",
            "13/13 [==============================] - 0s 4ms/step - loss: 490.6121 - val_loss: 513.1138\n",
            "Epoch 96/100\n",
            "13/13 [==============================] - 0s 4ms/step - loss: 490.7228 - val_loss: 501.2573\n",
            "Epoch 97/100\n",
            "13/13 [==============================] - 0s 4ms/step - loss: 488.7938 - val_loss: 516.9402\n",
            "Epoch 98/100\n",
            "13/13 [==============================] - 0s 3ms/step - loss: 489.2776 - val_loss: 505.6372\n",
            "Epoch 99/100\n",
            "13/13 [==============================] - 0s 3ms/step - loss: 487.7408 - val_loss: 514.7919\n",
            "Epoch 100/100\n",
            "13/13 [==============================] - 0s 3ms/step - loss: 487.5915 - val_loss: 504.8021\n"
          ],
          "name": "stdout"
        },
        {
          "output_type": "execute_result",
          "data": {
            "text/plain": [
              "<tensorflow.python.keras.callbacks.History at 0x7f716831d1d0>"
            ]
          },
          "metadata": {
            "tags": []
          },
          "execution_count": 41
        }
      ]
    }
  ]
}
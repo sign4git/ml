{
 "cells": [
  {
   "cell_type": "markdown",
   "metadata": {
    "colab_type": "text",
    "id": "ne9YyMvuH86J"
   },
   "source": [
    "# Bank dataset\n",
    "\n",
    "We have a transaction details of 515 banks which include number of DD taken, Withdrawals, Deposits, Area of the branch and Average Walk-Ins. Profile the banks into segments and come up with recommendations for each segment."
   ]
  },
  {
   "cell_type": "markdown",
   "metadata": {
    "colab_type": "text",
    "id": "l2kJFIqaH86O"
   },
   "source": [
    "# Import libraries and load data"
   ]
  },
  {
   "cell_type": "code",
   "execution_count": 222,
   "metadata": {
    "colab": {},
    "colab_type": "code",
    "id": "-CNfRN3cH86Q"
   },
   "outputs": [],
   "source": [
    "import pandas as pd\n",
    "from sklearn.cluster import KMeans \n",
    "import matplotlib.pyplot as plt"
   ]
  },
  {
   "cell_type": "code",
   "execution_count": 223,
   "metadata": {
    "colab": {},
    "colab_type": "code",
    "id": "Uh9SSdCAH86X"
   },
   "outputs": [],
   "source": [
    "data_df = pd.read_csv(\"bank.csv\")"
   ]
  },
  {
   "cell_type": "markdown",
   "metadata": {
    "colab_type": "text",
    "id": "6oz-zsF1H86c"
   },
   "source": [
    "# Check the data. Check shape, data type, and info"
   ]
  },
  {
   "cell_type": "code",
   "execution_count": 224,
   "metadata": {
    "colab": {},
    "colab_type": "code",
    "id": "IiwL5lQvKOUA"
   },
   "outputs": [
    {
     "data": {
      "text/plain": [
       "(515, 6)"
      ]
     },
     "execution_count": 224,
     "metadata": {},
     "output_type": "execute_result"
    }
   ],
   "source": [
    "data_df.shape"
   ]
  },
  {
   "cell_type": "code",
   "execution_count": 225,
   "metadata": {
    "colab": {},
    "colab_type": "code",
    "id": "-sIFhkHkKOW-"
   },
   "outputs": [
    {
     "data": {
      "text/plain": [
       "Bank                   int64\n",
       "DD                     int64\n",
       "Withdrawals            int64\n",
       "Deposits               int64\n",
       "Branch Area in sqft    int64\n",
       "avg daily walkins      int64\n",
       "dtype: object"
      ]
     },
     "execution_count": 225,
     "metadata": {},
     "output_type": "execute_result"
    }
   ],
   "source": [
    "data_df.dtypes"
   ]
  },
  {
   "cell_type": "code",
   "execution_count": 226,
   "metadata": {},
   "outputs": [
    {
     "name": "stdout",
     "output_type": "stream",
     "text": [
      "<class 'pandas.core.frame.DataFrame'>\n",
      "RangeIndex: 515 entries, 0 to 514\n",
      "Data columns (total 6 columns):\n",
      "Bank                   515 non-null int64\n",
      "DD                     515 non-null int64\n",
      "Withdrawals            515 non-null int64\n",
      "Deposits               515 non-null int64\n",
      "Branch Area in sqft    515 non-null int64\n",
      "avg daily walkins      515 non-null int64\n",
      "dtypes: int64(6)\n",
      "memory usage: 24.3 KB\n"
     ]
    }
   ],
   "source": [
    "data_df.info()"
   ]
  },
  {
   "cell_type": "code",
   "execution_count": 227,
   "metadata": {},
   "outputs": [
    {
     "data": {
      "text/html": [
       "<div>\n",
       "<style scoped>\n",
       "    .dataframe tbody tr th:only-of-type {\n",
       "        vertical-align: middle;\n",
       "    }\n",
       "\n",
       "    .dataframe tbody tr th {\n",
       "        vertical-align: top;\n",
       "    }\n",
       "\n",
       "    .dataframe thead th {\n",
       "        text-align: right;\n",
       "    }\n",
       "</style>\n",
       "<table border=\"1\" class=\"dataframe\">\n",
       "  <thead>\n",
       "    <tr style=\"text-align: right;\">\n",
       "      <th></th>\n",
       "      <th>Bank</th>\n",
       "      <th>DD</th>\n",
       "      <th>Withdrawals</th>\n",
       "      <th>Deposits</th>\n",
       "      <th>Branch Area in sqft</th>\n",
       "      <th>avg daily walkins</th>\n",
       "    </tr>\n",
       "  </thead>\n",
       "  <tbody>\n",
       "    <tr>\n",
       "      <td>0</td>\n",
       "      <td>1</td>\n",
       "      <td>227</td>\n",
       "      <td>147</td>\n",
       "      <td>111</td>\n",
       "      <td>2460</td>\n",
       "      <td>639</td>\n",
       "    </tr>\n",
       "    <tr>\n",
       "      <td>1</td>\n",
       "      <td>2</td>\n",
       "      <td>123</td>\n",
       "      <td>86</td>\n",
       "      <td>65</td>\n",
       "      <td>3510</td>\n",
       "      <td>436</td>\n",
       "    </tr>\n",
       "    <tr>\n",
       "      <td>2</td>\n",
       "      <td>3</td>\n",
       "      <td>306</td>\n",
       "      <td>149</td>\n",
       "      <td>76</td>\n",
       "      <td>2570</td>\n",
       "      <td>669</td>\n",
       "    </tr>\n",
       "    <tr>\n",
       "      <td>3</td>\n",
       "      <td>4</td>\n",
       "      <td>251</td>\n",
       "      <td>112</td>\n",
       "      <td>129</td>\n",
       "      <td>3650</td>\n",
       "      <td>623</td>\n",
       "    </tr>\n",
       "    <tr>\n",
       "      <td>4</td>\n",
       "      <td>5</td>\n",
       "      <td>174</td>\n",
       "      <td>135</td>\n",
       "      <td>128</td>\n",
       "      <td>3400</td>\n",
       "      <td>579</td>\n",
       "    </tr>\n",
       "  </tbody>\n",
       "</table>\n",
       "</div>"
      ],
      "text/plain": [
       "   Bank   DD  Withdrawals  Deposits  Branch Area in sqft  avg daily walkins\n",
       "0     1  227          147       111                 2460                639\n",
       "1     2  123           86        65                 3510                436\n",
       "2     3  306          149        76                 2570                669\n",
       "3     4  251          112       129                 3650                623\n",
       "4     5  174          135       128                 3400                579"
      ]
     },
     "execution_count": 227,
     "metadata": {},
     "output_type": "execute_result"
    }
   ],
   "source": [
    "data_df.head()"
   ]
  },
  {
   "cell_type": "code",
   "execution_count": 228,
   "metadata": {},
   "outputs": [
    {
     "data": {
      "text/html": [
       "<div>\n",
       "<style scoped>\n",
       "    .dataframe tbody tr th:only-of-type {\n",
       "        vertical-align: middle;\n",
       "    }\n",
       "\n",
       "    .dataframe tbody tr th {\n",
       "        vertical-align: top;\n",
       "    }\n",
       "\n",
       "    .dataframe thead th {\n",
       "        text-align: right;\n",
       "    }\n",
       "</style>\n",
       "<table border=\"1\" class=\"dataframe\">\n",
       "  <thead>\n",
       "    <tr style=\"text-align: right;\">\n",
       "      <th></th>\n",
       "      <th>Bank</th>\n",
       "      <th>DD</th>\n",
       "      <th>Withdrawals</th>\n",
       "      <th>Deposits</th>\n",
       "      <th>Branch Area in sqft</th>\n",
       "      <th>avg daily walkins</th>\n",
       "    </tr>\n",
       "  </thead>\n",
       "  <tbody>\n",
       "    <tr>\n",
       "      <td>510</td>\n",
       "      <td>511</td>\n",
       "      <td>337</td>\n",
       "      <td>140</td>\n",
       "      <td>111</td>\n",
       "      <td>2640</td>\n",
       "      <td>694</td>\n",
       "    </tr>\n",
       "    <tr>\n",
       "      <td>511</td>\n",
       "      <td>512</td>\n",
       "      <td>168</td>\n",
       "      <td>131</td>\n",
       "      <td>60</td>\n",
       "      <td>2640</td>\n",
       "      <td>524</td>\n",
       "    </tr>\n",
       "    <tr>\n",
       "      <td>512</td>\n",
       "      <td>513</td>\n",
       "      <td>333</td>\n",
       "      <td>86</td>\n",
       "      <td>108</td>\n",
       "      <td>2850</td>\n",
       "      <td>676</td>\n",
       "    </tr>\n",
       "    <tr>\n",
       "      <td>513</td>\n",
       "      <td>514</td>\n",
       "      <td>192</td>\n",
       "      <td>176</td>\n",
       "      <td>34</td>\n",
       "      <td>2760</td>\n",
       "      <td>505</td>\n",
       "    </tr>\n",
       "    <tr>\n",
       "      <td>514</td>\n",
       "      <td>515</td>\n",
       "      <td>331</td>\n",
       "      <td>186</td>\n",
       "      <td>97</td>\n",
       "      <td>2700</td>\n",
       "      <td>767</td>\n",
       "    </tr>\n",
       "  </tbody>\n",
       "</table>\n",
       "</div>"
      ],
      "text/plain": [
       "     Bank   DD  Withdrawals  Deposits  Branch Area in sqft  avg daily walkins\n",
       "510   511  337          140       111                 2640                694\n",
       "511   512  168          131        60                 2640                524\n",
       "512   513  333           86       108                 2850                676\n",
       "513   514  192          176        34                 2760                505\n",
       "514   515  331          186        97                 2700                767"
      ]
     },
     "execution_count": 228,
     "metadata": {},
     "output_type": "execute_result"
    }
   ],
   "source": [
    "data_df.tail()"
   ]
  },
  {
   "cell_type": "markdown",
   "metadata": {
    "colab_type": "text",
    "id": "4o5a7sxKH86u"
   },
   "source": [
    "# Checking Summary Statistic"
   ]
  },
  {
   "cell_type": "code",
   "execution_count": 229,
   "metadata": {
    "colab": {},
    "colab_type": "code",
    "id": "P6AeKBuMKcAZ"
   },
   "outputs": [
    {
     "data": {
      "text/html": [
       "<div>\n",
       "<style scoped>\n",
       "    .dataframe tbody tr th:only-of-type {\n",
       "        vertical-align: middle;\n",
       "    }\n",
       "\n",
       "    .dataframe tbody tr th {\n",
       "        vertical-align: top;\n",
       "    }\n",
       "\n",
       "    .dataframe thead th {\n",
       "        text-align: right;\n",
       "    }\n",
       "</style>\n",
       "<table border=\"1\" class=\"dataframe\">\n",
       "  <thead>\n",
       "    <tr style=\"text-align: right;\">\n",
       "      <th></th>\n",
       "      <th>count</th>\n",
       "      <th>mean</th>\n",
       "      <th>std</th>\n",
       "      <th>min</th>\n",
       "      <th>25%</th>\n",
       "      <th>50%</th>\n",
       "      <th>75%</th>\n",
       "      <th>max</th>\n",
       "    </tr>\n",
       "  </thead>\n",
       "  <tbody>\n",
       "    <tr>\n",
       "      <td>Bank</td>\n",
       "      <td>515.0</td>\n",
       "      <td>258.000000</td>\n",
       "      <td>148.811962</td>\n",
       "      <td>1.0</td>\n",
       "      <td>129.5</td>\n",
       "      <td>258.0</td>\n",
       "      <td>386.5</td>\n",
       "      <td>515.0</td>\n",
       "    </tr>\n",
       "    <tr>\n",
       "      <td>DD</td>\n",
       "      <td>515.0</td>\n",
       "      <td>232.252427</td>\n",
       "      <td>66.648815</td>\n",
       "      <td>120.0</td>\n",
       "      <td>169.5</td>\n",
       "      <td>237.0</td>\n",
       "      <td>291.0</td>\n",
       "      <td>350.0</td>\n",
       "    </tr>\n",
       "    <tr>\n",
       "      <td>Withdrawals</td>\n",
       "      <td>515.0</td>\n",
       "      <td>150.693204</td>\n",
       "      <td>56.897777</td>\n",
       "      <td>10.0</td>\n",
       "      <td>103.0</td>\n",
       "      <td>152.0</td>\n",
       "      <td>200.0</td>\n",
       "      <td>247.0</td>\n",
       "    </tr>\n",
       "    <tr>\n",
       "      <td>Deposits</td>\n",
       "      <td>515.0</td>\n",
       "      <td>81.687379</td>\n",
       "      <td>28.596912</td>\n",
       "      <td>33.0</td>\n",
       "      <td>58.0</td>\n",
       "      <td>80.0</td>\n",
       "      <td>105.0</td>\n",
       "      <td>212.0</td>\n",
       "    </tr>\n",
       "    <tr>\n",
       "      <td>Branch Area in sqft</td>\n",
       "      <td>515.0</td>\n",
       "      <td>2934.669903</td>\n",
       "      <td>437.062831</td>\n",
       "      <td>1200.0</td>\n",
       "      <td>2675.0</td>\n",
       "      <td>2960.0</td>\n",
       "      <td>3300.0</td>\n",
       "      <td>3650.0</td>\n",
       "    </tr>\n",
       "    <tr>\n",
       "      <td>avg daily walkins</td>\n",
       "      <td>515.0</td>\n",
       "      <td>598.603883</td>\n",
       "      <td>83.487891</td>\n",
       "      <td>380.0</td>\n",
       "      <td>537.5</td>\n",
       "      <td>601.0</td>\n",
       "      <td>657.5</td>\n",
       "      <td>838.0</td>\n",
       "    </tr>\n",
       "  </tbody>\n",
       "</table>\n",
       "</div>"
      ],
      "text/plain": [
       "                     count         mean         std     min     25%     50%  \\\n",
       "Bank                 515.0   258.000000  148.811962     1.0   129.5   258.0   \n",
       "DD                   515.0   232.252427   66.648815   120.0   169.5   237.0   \n",
       "Withdrawals          515.0   150.693204   56.897777    10.0   103.0   152.0   \n",
       "Deposits             515.0    81.687379   28.596912    33.0    58.0    80.0   \n",
       "Branch Area in sqft  515.0  2934.669903  437.062831  1200.0  2675.0  2960.0   \n",
       "avg daily walkins    515.0   598.603883   83.487891   380.0   537.5   601.0   \n",
       "\n",
       "                        75%     max  \n",
       "Bank                  386.5   515.0  \n",
       "DD                    291.0   350.0  \n",
       "Withdrawals           200.0   247.0  \n",
       "Deposits              105.0   212.0  \n",
       "Branch Area in sqft  3300.0  3650.0  \n",
       "avg daily walkins     657.5   838.0  "
      ]
     },
     "execution_count": 229,
     "metadata": {},
     "output_type": "execute_result"
    }
   ],
   "source": [
    "data_df.describe().transpose()"
   ]
  },
  {
   "cell_type": "markdown",
   "metadata": {
    "colab_type": "text",
    "id": "iATavmNBH860"
   },
   "source": [
    "# Checking for Duplicates"
   ]
  },
  {
   "cell_type": "code",
   "execution_count": 230,
   "metadata": {
    "colab": {},
    "colab_type": "code",
    "id": "K_hiUqA5H862"
   },
   "outputs": [
    {
     "data": {
      "text/plain": [
       "0"
      ]
     },
     "execution_count": 230,
     "metadata": {},
     "output_type": "execute_result"
    }
   ],
   "source": [
    "data_df[data_df.duplicated()==True].size"
   ]
  },
  {
   "cell_type": "code",
   "execution_count": 231,
   "metadata": {},
   "outputs": [
    {
     "data": {
      "text/plain": [
       "0"
      ]
     },
     "execution_count": 231,
     "metadata": {},
     "output_type": "execute_result"
    }
   ],
   "source": [
    "data_df[data_df.duplicated(subset='Bank')==True].size"
   ]
  },
  {
   "cell_type": "markdown",
   "metadata": {
    "colab_type": "text",
    "id": "LkN5YAaNH868"
   },
   "source": [
    "# Scaling the data"
   ]
  },
  {
   "cell_type": "code",
   "execution_count": 232,
   "metadata": {
    "colab": {},
    "colab_type": "code",
    "id": "LFDOtt8mH869"
   },
   "outputs": [],
   "source": [
    "# importing the StandardScaler Module\n",
    "from sklearn.preprocessing import StandardScaler"
   ]
  },
  {
   "cell_type": "code",
   "execution_count": 233,
   "metadata": {
    "colab": {},
    "colab_type": "code",
    "id": "o2lmCLC_H87C"
   },
   "outputs": [
    {
     "data": {
      "text/plain": [
       "array([[-1.72869086, -0.07888413, -0.06497257,  1.02602411, -1.08710095,\n",
       "         0.48432644],\n",
       "       [-1.72196444, -1.64081915, -1.13811308, -0.58410514,  1.31763546,\n",
       "        -1.949528  ],\n",
       "       [-1.71523801,  1.10758573, -0.02978763, -0.19907423, -0.83517619,\n",
       "         0.84400936],\n",
       "       ...,\n",
       "       [ 1.71523801,  1.51308809, -1.13811308,  0.92101568, -0.19391314,\n",
       "         0.92793538],\n",
       "       [ 1.72196444, -0.60453534,  0.44520899, -1.66919225, -0.40003341,\n",
       "        -1.12225728],\n",
       "       [ 1.72869086,  1.48305088,  0.62113366,  0.53598477, -0.53744692,\n",
       "         2.01897357]])"
      ]
     },
     "execution_count": 233,
     "metadata": {},
     "output_type": "execute_result"
    }
   ],
   "source": [
    "# Creating an object for the StandardScaler function\n",
    "scale=StandardScaler()\n",
    "scaled_df=scale.fit_transform(data_df)\n",
    "scaled_df"
   ]
  },
  {
   "cell_type": "markdown",
   "metadata": {
    "colab_type": "text",
    "id": "1e8-9mZtH87S"
   },
   "source": [
    "# Creating Clusters using KMeans"
   ]
  },
  {
   "cell_type": "markdown",
   "metadata": {
    "colab_type": "text",
    "id": "T_v7tb_HH87T"
   },
   "source": [
    "### Build a KMeans model having 2 Clusters"
   ]
  },
  {
   "cell_type": "code",
   "execution_count": 234,
   "metadata": {
    "colab": {},
    "colab_type": "code",
    "id": "oaSkIC0qH87V"
   },
   "outputs": [
    {
     "data": {
      "text/plain": [
       "KMeans(algorithm='auto', copy_x=True, init='k-means++', max_iter=300,\n",
       "       n_clusters=2, n_init=10, n_jobs=None, precompute_distances='auto',\n",
       "       random_state=None, tol=0.0001, verbose=0)"
      ]
     },
     "execution_count": 234,
     "metadata": {},
     "output_type": "execute_result"
    }
   ],
   "source": [
    "# Create K Means cluster and store the result in the object k_means\n",
    "from sklearn.cluster import KMeans\n",
    "k_means=KMeans(n_clusters=2)\n",
    "k_means"
   ]
  },
  {
   "cell_type": "code",
   "execution_count": 235,
   "metadata": {
    "colab": {},
    "colab_type": "code",
    "id": "9o7sb5RHH87a"
   },
   "outputs": [
    {
     "data": {
      "text/plain": [
       "KMeans(algorithm='auto', copy_x=True, init='k-means++', max_iter=300,\n",
       "       n_clusters=2, n_init=10, n_jobs=None, precompute_distances='auto',\n",
       "       random_state=None, tol=0.0001, verbose=0)"
      ]
     },
     "execution_count": 235,
     "metadata": {},
     "output_type": "execute_result"
    }
   ],
   "source": [
    "# Fit K means on the scaled_df\n",
    "k_means=k_means.fit(scaled_df)\n",
    "k_means"
   ]
  },
  {
   "cell_type": "markdown",
   "metadata": {
    "colab_type": "text",
    "id": "h4Wbu5a1H87g"
   },
   "source": [
    "### Check cluster Output for all the observations"
   ]
  },
  {
   "cell_type": "code",
   "execution_count": 236,
   "metadata": {
    "colab": {},
    "colab_type": "code",
    "id": "uhIFz7UYH87h"
   },
   "outputs": [
    {
     "data": {
      "text/plain": [
       "array([1, 0, 1, 1, 0, 1, 0, 1, 1, 1, 1, 1, 1, 0, 1, 1, 1, 0, 1, 1, 0, 0,\n",
       "       1, 1, 0, 0, 1, 0, 1, 1, 1, 1, 0, 0, 1, 1, 0, 1, 1, 0, 0, 1, 1, 1,\n",
       "       1, 1, 1, 1, 1, 1, 0, 1, 1, 1, 0, 1, 1, 1, 1, 1, 0, 1, 1, 1, 1, 0,\n",
       "       1, 0, 0, 1, 1, 1, 0, 0, 1, 1, 1, 0, 1, 1, 1, 0, 0, 0, 1, 1, 1, 1,\n",
       "       0, 1, 1, 1, 1, 1, 1, 0, 0, 1, 0, 1, 1, 1, 1, 1, 1, 1, 1, 1, 1, 1,\n",
       "       1, 0, 1, 1, 1, 0, 0, 1, 1, 1, 1, 1, 1, 1, 1, 0, 1, 1, 0, 1, 0, 1,\n",
       "       0, 1, 1, 1, 0, 0, 1, 1, 1, 1, 0, 1, 1, 0, 1, 0, 1, 1, 0, 1, 1, 1,\n",
       "       1, 0, 1, 0, 1, 0, 1, 1, 1, 1, 1, 0, 0, 0, 1, 0, 0, 1, 1, 1, 1, 1,\n",
       "       0, 1, 1, 0, 0, 0, 1, 0, 1, 0, 1, 0, 0, 0, 0, 0, 0, 0, 1, 0, 0, 0,\n",
       "       1, 1, 0, 1, 0, 0, 1, 0, 0, 1, 1, 1, 0, 0, 0, 0, 0, 1, 1, 0, 0, 1,\n",
       "       1, 0, 0, 1, 1, 0, 1, 1, 1, 1, 1, 1, 1, 1, 0, 1, 0, 0, 1, 1, 1, 1,\n",
       "       1, 1, 1, 1, 1, 0, 1, 0, 0, 1, 0, 1, 0, 0, 0, 0, 1, 1, 1, 0, 0, 0,\n",
       "       1, 1, 0, 0, 1, 1, 1, 0, 1, 1, 1, 1, 0, 1, 1, 1, 1, 1, 1, 1, 1, 1,\n",
       "       1, 1, 1, 0, 1, 1, 0, 0, 0, 0, 1, 0, 1, 1, 1, 0, 1, 0, 1, 1, 1, 0,\n",
       "       0, 0, 1, 1, 0, 0, 1, 0, 0, 1, 1, 0, 1, 0, 0, 1, 0, 1, 1, 0, 0, 0,\n",
       "       1, 1, 1, 1, 1, 1, 0, 1, 0, 0, 0, 0, 1, 0, 0, 1, 0, 1, 0, 0, 0, 0,\n",
       "       0, 1, 0, 0, 0, 1, 0, 1, 1, 0, 1, 0, 1, 1, 1, 1, 0, 0, 0, 1, 0, 0,\n",
       "       0, 1, 0, 1, 1, 0, 0, 1, 1, 0, 0, 0, 0, 0, 1, 1, 0, 0, 0, 0, 1, 0,\n",
       "       0, 0, 1, 0, 0, 0, 1, 0, 0, 1, 0, 0, 0, 0, 1, 0, 1, 0, 0, 0, 0, 0,\n",
       "       0, 0, 1, 1, 1, 1, 0, 1, 1, 0, 0, 1, 0, 0, 1, 0, 0, 0, 0, 0, 0, 1,\n",
       "       0, 0, 0, 0, 1, 0, 0, 0, 0, 0, 1, 0, 0, 0, 0, 0, 0, 1, 1, 0, 0, 0,\n",
       "       1, 1, 1, 0, 1, 1, 0, 0, 1, 0, 0, 0, 0, 0, 0, 0, 0, 0, 0, 1, 1, 0,\n",
       "       1, 1, 0, 1, 0, 1, 0, 0, 0, 0, 0, 0, 1, 0, 0, 0, 0, 1, 0, 1, 0, 0,\n",
       "       0, 1, 1, 0, 1, 0, 1, 0, 1])"
      ]
     },
     "execution_count": 236,
     "metadata": {},
     "output_type": "execute_result"
    }
   ],
   "source": [
    "# Get the labels\n",
    "k_means.labels_"
   ]
  },
  {
   "cell_type": "markdown",
   "metadata": {
    "colab_type": "text",
    "id": "yjBXWVfxH87p"
   },
   "source": [
    "### Calculate within Cluster Sum of Squares"
   ]
  },
  {
   "cell_type": "code",
   "execution_count": 237,
   "metadata": {
    "colab": {},
    "colab_type": "code",
    "id": "1ItpiR0IKgqh"
   },
   "outputs": [
    {
     "data": {
      "text/plain": [
       "2447.950426054663"
      ]
     },
     "execution_count": 237,
     "metadata": {},
     "output_type": "execute_result"
    }
   ],
   "source": [
    "k_means.inertia_"
   ]
  },
  {
   "cell_type": "markdown",
   "metadata": {
    "colab_type": "text",
    "id": "W8cmXIIMH87v"
   },
   "source": [
    "### Form clusters with K = 1,3,4,5,6 and compare the WSS ( within cluster sum of squares)"
   ]
  },
  {
   "cell_type": "code",
   "execution_count": 249,
   "metadata": {
    "colab": {},
    "colab_type": "code",
    "id": "wyHczMATKhOL"
   },
   "outputs": [
    {
     "name": "stdout",
     "output_type": "stream",
     "text": [
      "No. of Clusters: 1 WSS: 3090.0\n",
      "No. of Clusters: 3 WSS: 2101.905282734829\n",
      "No. of Clusters: 4 WSS: 1852.0266511394784\n",
      "No. of Clusters: 5 WSS: 1700.6763019844943\n",
      "No. of Clusters: 6 WSS: 1567.9937552976226\n"
     ]
    }
   ],
   "source": [
    "wss=[]\n",
    "K=[1,3,4,5,6]\n",
    "for k in K:\n",
    "    k_means=KMeans(n_clusters=k)\n",
    "    k_means=k_means.fit(scaled_df)\n",
    "    wss.append(k_means.inertia_)\n",
    "    print(\"No. of Clusters:\",k ,\"WSS:\",k_means.inertia_)"
   ]
  },
  {
   "cell_type": "markdown",
   "metadata": {
    "colab_type": "text",
    "id": "JMhH8huIH88L"
   },
   "source": [
    "### Calculate WSS for other values of K ( can use range of K = 1 to 20) - Elbow Method"
   ]
  },
  {
   "cell_type": "code",
   "execution_count": 239,
   "metadata": {
    "colab": {},
    "colab_type": "code",
    "id": "2CB7hiFZH88M"
   },
   "outputs": [
    {
     "data": {
      "text/plain": [
       "array([ 1,  2,  3,  4,  5,  6,  7,  8,  9, 10, 11, 12, 13, 14, 15, 16, 17,\n",
       "       18, 19, 20])"
      ]
     },
     "execution_count": 239,
     "metadata": {},
     "output_type": "execute_result"
    }
   ],
   "source": [
    "wss =[] \n",
    "import numpy as np\n",
    "K=np.arange(1,21)\n",
    "K"
   ]
  },
  {
   "cell_type": "code",
   "execution_count": 240,
   "metadata": {},
   "outputs": [
    {
     "name": "stdout",
     "output_type": "stream",
     "text": [
      "No. of Clusters: 1 WSS: 3090.0\n",
      "No. of Clusters: 2 WSS: 2447.950426054663\n",
      "No. of Clusters: 3 WSS: 2101.882515528786\n",
      "No. of Clusters: 4 WSS: 1852.024523120691\n",
      "No. of Clusters: 5 WSS: 1702.8576021598756\n",
      "No. of Clusters: 6 WSS: 1570.346833002534\n",
      "No. of Clusters: 7 WSS: 1470.285047017252\n",
      "No. of Clusters: 8 WSS: 1391.040646011624\n",
      "No. of Clusters: 9 WSS: 1314.0396858085219\n",
      "No. of Clusters: 10 WSS: 1259.9939039161359\n",
      "No. of Clusters: 11 WSS: 1202.363876214834\n",
      "No. of Clusters: 12 WSS: 1140.217278385519\n",
      "No. of Clusters: 13 WSS: 1098.3626068948129\n",
      "No. of Clusters: 14 WSS: 1050.3946790900873\n",
      "No. of Clusters: 15 WSS: 1022.611481717016\n",
      "No. of Clusters: 16 WSS: 992.9581058296026\n",
      "No. of Clusters: 17 WSS: 959.674591301678\n",
      "No. of Clusters: 18 WSS: 931.0560898069857\n",
      "No. of Clusters: 19 WSS: 900.045292196381\n",
      "No. of Clusters: 20 WSS: 879.22396290437\n"
     ]
    }
   ],
   "source": [
    "for k in K:\n",
    "    k_means=KMeans(n_clusters=k)\n",
    "    k_means=k_means.fit(scaled_df)\n",
    "    wss.append(k_means.inertia_)\n",
    "    print(\"No. of Clusters:\",k ,\"WSS:\",k_means.inertia_)"
   ]
  },
  {
   "cell_type": "code",
   "execution_count": 241,
   "metadata": {},
   "outputs": [
    {
     "data": {
      "text/plain": [
       "Text(0, 0.5, 'Sum of Squares')"
      ]
     },
     "execution_count": 241,
     "metadata": {},
     "output_type": "execute_result"
    },
    {
     "data": {
      "image/png": "[encoded data removed]",
      "text/plain": [
       "<Figure size 720x360 with 1 Axes>"
      ]
     },
     "metadata": {
      "needs_background": "light"
     },
     "output_type": "display_data"
    }
   ],
   "source": [
    "plt.figure(figsize=(10, 5))\n",
    "plt.plot(K,wss,'bx-')\n",
    "plt.xlabel(\"No.Of Clusters\")\n",
    "plt.ylabel('Sum of Squares')"
   ]
  },
  {
   "cell_type": "markdown",
   "metadata": {
    "colab_type": "text",
    "id": "JnECTBNLH88e"
   },
   "source": [
    "## Build a KMeans model with K=3"
   ]
  },
  {
   "cell_type": "code",
   "execution_count": 242,
   "metadata": {
    "colab": {},
    "colab_type": "code",
    "id": "3Lw2CoSdH88g"
   },
   "outputs": [
    {
     "name": "stdout",
     "output_type": "stream",
     "text": [
      "2101.882515528786\n"
     ]
    }
   ],
   "source": [
    "k_means=KMeans(n_clusters=3)\n",
    "k_means=k_means.fit(scaled_df)\n",
    "print(k_means.inertia_)\n"
   ]
  },
  {
   "cell_type": "markdown",
   "metadata": {
    "colab_type": "text",
    "id": "zPP2jEChH88m"
   },
   "source": [
    "### Use silhouette score to evaluate the above model ( 3 clusters)"
   ]
  },
  {
   "cell_type": "code",
   "execution_count": 243,
   "metadata": {
    "colab": {},
    "colab_type": "code",
    "id": "E--MaATcH88n"
   },
   "outputs": [],
   "source": [
    "from sklearn.metrics import silhouette_samples, silhouette_score"
   ]
  },
  {
   "cell_type": "code",
   "execution_count": 244,
   "metadata": {
    "colab": {},
    "colab_type": "code",
    "id": "ug3i1lGmH88s"
   },
   "outputs": [
    {
     "data": {
      "text/plain": [
       "0.17805387367814587"
      ]
     },
     "execution_count": 244,
     "metadata": {},
     "output_type": "execute_result"
    }
   ],
   "source": [
    "# Calculating silhouette_score\n",
    "silhouette_score(scaled_df, labels=k_means.labels_)"
   ]
  },
  {
   "cell_type": "markdown",
   "metadata": {
    "colab_type": "text",
    "id": "Y3Mx7S1bH88w"
   },
   "source": [
    "# Build a KMeans model with K=4"
   ]
  },
  {
   "cell_type": "markdown",
   "metadata": {
    "colab_type": "text",
    "id": "ERvm3lxZH881"
   },
   "source": [
    "### Use silhouette score to evaluate the above model ( 4 clusters)"
   ]
  },
  {
   "cell_type": "code",
   "execution_count": 245,
   "metadata": {
    "colab": {},
    "colab_type": "code",
    "id": "eTCjQyeyH883"
   },
   "outputs": [
    {
     "name": "stdout",
     "output_type": "stream",
     "text": [
      "1852.5176979398875\n",
      "0.18601645296883526\n"
     ]
    },
    {
     "data": {
      "text/plain": [
       "array([2, 3, 0, 1, 2, 2, 3, 2, 0, 0, 2, 2, 2, 1, 1, 1, 2, 1, 2, 1, 2, 2,\n",
       "       2, 0, 1, 1, 2, 2, 2, 0, 0, 2, 2, 2, 1, 2, 2, 1, 0, 2, 3, 0, 1, 2,\n",
       "       2, 2, 0, 1, 2, 2, 3, 0, 2, 0, 3, 0, 2, 1, 2, 1, 1, 1, 1, 2, 2, 2,\n",
       "       2, 2, 2, 0, 2, 2, 2, 2, 0, 1, 1, 3, 1, 2, 0, 2, 1, 1, 1, 2, 0, 2,\n",
       "       3, 1, 1, 2, 0, 2, 2, 2, 2, 2, 3, 2, 2, 2, 1, 2, 0, 2, 2, 2, 0, 1,\n",
       "       2, 3, 1, 1, 2, 2, 1, 1, 1, 2, 1, 2, 2, 2, 2, 2, 1, 2, 1, 1, 3, 1,\n",
       "       1, 0, 0, 2, 3, 2, 0, 2, 0, 2, 1, 0, 2, 3, 0, 1, 0, 2, 3, 0, 0, 0,\n",
       "       2, 2, 1, 1, 2, 2, 2, 2, 2, 0, 0, 1, 3, 3, 0, 1, 1, 1, 1, 2, 2, 0,\n",
       "       3, 0, 0, 3, 3, 3, 2, 2, 2, 1, 0, 3, 1, 3, 2, 2, 1, 1, 0, 3, 3, 2,\n",
       "       2, 1, 3, 1, 1, 3, 0, 1, 3, 2, 2, 1, 1, 1, 1, 3, 1, 1, 2, 2, 1, 0,\n",
       "       0, 1, 1, 1, 0, 3, 2, 2, 0, 2, 0, 2, 2, 1, 3, 2, 2, 2, 2, 1, 0, 2,\n",
       "       2, 1, 2, 1, 2, 3, 2, 3, 3, 2, 3, 0, 1, 1, 3, 1, 2, 2, 0, 3, 1, 3,\n",
       "       2, 1, 3, 3, 0, 0, 1, 1, 2, 2, 2, 2, 2, 0, 0, 2, 2, 2, 0, 0, 2, 0,\n",
       "       0, 0, 0, 1, 1, 0, 1, 3, 1, 1, 0, 3, 2, 0, 0, 1, 1, 2, 2, 0, 0, 1,\n",
       "       1, 1, 0, 2, 3, 3, 1, 3, 3, 2, 0, 1, 1, 3, 1, 0, 1, 0, 1, 3, 3, 1,\n",
       "       0, 0, 2, 1, 0, 1, 1, 2, 3, 1, 2, 1, 0, 3, 3, 2, 2, 0, 3, 3, 3, 1,\n",
       "       3, 0, 3, 2, 1, 0, 3, 0, 0, 3, 0, 1, 0, 0, 0, 0, 3, 3, 3, 0, 3, 3,\n",
       "       3, 0, 1, 0, 0, 2, 2, 0, 0, 1, 1, 3, 1, 3, 0, 0, 1, 3, 3, 1, 0, 3,\n",
       "       3, 1, 0, 3, 3, 3, 0, 3, 3, 0, 3, 3, 1, 3, 0, 1, 0, 1, 3, 3, 1, 3,\n",
       "       2, 3, 2, 0, 0, 0, 1, 0, 0, 1, 1, 0, 3, 3, 0, 1, 1, 1, 3, 3, 1, 0,\n",
       "       3, 1, 1, 3, 0, 1, 1, 3, 3, 3, 0, 1, 1, 3, 1, 1, 3, 0, 0, 1, 3, 3,\n",
       "       0, 0, 0, 3, 0, 0, 1, 3, 1, 3, 1, 3, 3, 3, 1, 3, 3, 1, 1, 0, 0, 1,\n",
       "       0, 1, 1, 0, 3, 2, 3, 3, 1, 3, 3, 3, 0, 1, 3, 3, 3, 1, 3, 0, 1, 3,\n",
       "       3, 0, 0, 1, 0, 3, 1, 3, 0])"
      ]
     },
     "execution_count": 245,
     "metadata": {},
     "output_type": "execute_result"
    }
   ],
   "source": [
    "#from sklearn.metrics import silhouette_samples, silhouette_score\n",
    "k_means=KMeans(n_clusters=4)\n",
    "k_means=k_means.fit(scaled_df)\n",
    "print(k_means.inertia_)\n",
    "print(silhouette_score(scaled_df, labels=k_means.labels_))\n",
    "k_means.labels_"
   ]
  },
  {
   "cell_type": "markdown",
   "metadata": {
    "colab_type": "text",
    "id": "chyNZMquH89B"
   },
   "source": [
    "Appending Clusters to the original dataset"
   ]
  },
  {
   "cell_type": "code",
   "execution_count": 246,
   "metadata": {},
   "outputs": [
    {
     "data": {
      "text/html": [
       "<div>\n",
       "<style scoped>\n",
       "    .dataframe tbody tr th:only-of-type {\n",
       "        vertical-align: middle;\n",
       "    }\n",
       "\n",
       "    .dataframe tbody tr th {\n",
       "        vertical-align: top;\n",
       "    }\n",
       "\n",
       "    .dataframe thead th {\n",
       "        text-align: right;\n",
       "    }\n",
       "</style>\n",
       "<table border=\"1\" class=\"dataframe\">\n",
       "  <thead>\n",
       "    <tr style=\"text-align: right;\">\n",
       "      <th></th>\n",
       "      <th>Bank</th>\n",
       "      <th>DD</th>\n",
       "      <th>Withdrawals</th>\n",
       "      <th>Deposits</th>\n",
       "      <th>Branch Area in sqft</th>\n",
       "      <th>avg daily walkins</th>\n",
       "      <th>Clus_kmeans4</th>\n",
       "    </tr>\n",
       "  </thead>\n",
       "  <tbody>\n",
       "    <tr>\n",
       "      <td>0</td>\n",
       "      <td>1</td>\n",
       "      <td>227</td>\n",
       "      <td>147</td>\n",
       "      <td>111</td>\n",
       "      <td>2460</td>\n",
       "      <td>639</td>\n",
       "      <td>2</td>\n",
       "    </tr>\n",
       "    <tr>\n",
       "      <td>1</td>\n",
       "      <td>2</td>\n",
       "      <td>123</td>\n",
       "      <td>86</td>\n",
       "      <td>65</td>\n",
       "      <td>3510</td>\n",
       "      <td>436</td>\n",
       "      <td>3</td>\n",
       "    </tr>\n",
       "    <tr>\n",
       "      <td>2</td>\n",
       "      <td>3</td>\n",
       "      <td>306</td>\n",
       "      <td>149</td>\n",
       "      <td>76</td>\n",
       "      <td>2570</td>\n",
       "      <td>669</td>\n",
       "      <td>0</td>\n",
       "    </tr>\n",
       "    <tr>\n",
       "      <td>3</td>\n",
       "      <td>4</td>\n",
       "      <td>251</td>\n",
       "      <td>112</td>\n",
       "      <td>129</td>\n",
       "      <td>3650</td>\n",
       "      <td>623</td>\n",
       "      <td>1</td>\n",
       "    </tr>\n",
       "    <tr>\n",
       "      <td>4</td>\n",
       "      <td>5</td>\n",
       "      <td>174</td>\n",
       "      <td>135</td>\n",
       "      <td>128</td>\n",
       "      <td>3400</td>\n",
       "      <td>579</td>\n",
       "      <td>2</td>\n",
       "    </tr>\n",
       "    <tr>\n",
       "      <td>...</td>\n",
       "      <td>...</td>\n",
       "      <td>...</td>\n",
       "      <td>...</td>\n",
       "      <td>...</td>\n",
       "      <td>...</td>\n",
       "      <td>...</td>\n",
       "      <td>...</td>\n",
       "    </tr>\n",
       "    <tr>\n",
       "      <td>510</td>\n",
       "      <td>511</td>\n",
       "      <td>337</td>\n",
       "      <td>140</td>\n",
       "      <td>111</td>\n",
       "      <td>2640</td>\n",
       "      <td>694</td>\n",
       "      <td>0</td>\n",
       "    </tr>\n",
       "    <tr>\n",
       "      <td>511</td>\n",
       "      <td>512</td>\n",
       "      <td>168</td>\n",
       "      <td>131</td>\n",
       "      <td>60</td>\n",
       "      <td>2640</td>\n",
       "      <td>524</td>\n",
       "      <td>3</td>\n",
       "    </tr>\n",
       "    <tr>\n",
       "      <td>512</td>\n",
       "      <td>513</td>\n",
       "      <td>333</td>\n",
       "      <td>86</td>\n",
       "      <td>108</td>\n",
       "      <td>2850</td>\n",
       "      <td>676</td>\n",
       "      <td>1</td>\n",
       "    </tr>\n",
       "    <tr>\n",
       "      <td>513</td>\n",
       "      <td>514</td>\n",
       "      <td>192</td>\n",
       "      <td>176</td>\n",
       "      <td>34</td>\n",
       "      <td>2760</td>\n",
       "      <td>505</td>\n",
       "      <td>3</td>\n",
       "    </tr>\n",
       "    <tr>\n",
       "      <td>514</td>\n",
       "      <td>515</td>\n",
       "      <td>331</td>\n",
       "      <td>186</td>\n",
       "      <td>97</td>\n",
       "      <td>2700</td>\n",
       "      <td>767</td>\n",
       "      <td>0</td>\n",
       "    </tr>\n",
       "  </tbody>\n",
       "</table>\n",
       "<p>515 rows × 7 columns</p>\n",
       "</div>"
      ],
      "text/plain": [
       "     Bank   DD  Withdrawals  Deposits  Branch Area in sqft  avg daily walkins  \\\n",
       "0       1  227          147       111                 2460                639   \n",
       "1       2  123           86        65                 3510                436   \n",
       "2       3  306          149        76                 2570                669   \n",
       "3       4  251          112       129                 3650                623   \n",
       "4       5  174          135       128                 3400                579   \n",
       "..    ...  ...          ...       ...                  ...                ...   \n",
       "510   511  337          140       111                 2640                694   \n",
       "511   512  168          131        60                 2640                524   \n",
       "512   513  333           86       108                 2850                676   \n",
       "513   514  192          176        34                 2760                505   \n",
       "514   515  331          186        97                 2700                767   \n",
       "\n",
       "     Clus_kmeans4  \n",
       "0               2  \n",
       "1               3  \n",
       "2               0  \n",
       "3               1  \n",
       "4               2  \n",
       "..            ...  \n",
       "510             0  \n",
       "511             3  \n",
       "512             1  \n",
       "513             3  \n",
       "514             0  \n",
       "\n",
       "[515 rows x 7 columns]"
      ]
     },
     "execution_count": 246,
     "metadata": {},
     "output_type": "execute_result"
    }
   ],
   "source": [
    "labels=pd.Series(k_means.labels_)\n",
    "labels\n",
    "data_df[\"Clus_kmeans4\"]=k_means.labels_\n",
    "data_df"
   ]
  },
  {
   "cell_type": "markdown",
   "metadata": {
    "colab_type": "text",
    "id": "VZpPTeRjH89J"
   },
   "source": [
    "# Cluster Profiling"
   ]
  },
  {
   "cell_type": "code",
   "execution_count": 247,
   "metadata": {
    "colab": {},
    "colab_type": "code",
    "id": "TzBQV5ZfH89K"
   },
   "outputs": [
    {
     "data": {
      "text/plain": [
       "0    121\n",
       "1    143\n",
       "2    135\n",
       "3    116\n",
       "Name: Clus_kmeans4, dtype: int64"
      ]
     },
     "execution_count": 247,
     "metadata": {},
     "output_type": "execute_result"
    }
   ],
   "source": [
    "data_df.Clus_kmeans4.value_counts().sort_index()"
   ]
  },
  {
   "cell_type": "code",
   "execution_count": 248,
   "metadata": {
    "colab": {},
    "colab_type": "code",
    "id": "anzKOs0nH89N"
   },
   "outputs": [
    {
     "data": {
      "text/html": [
       "<div>\n",
       "<style scoped>\n",
       "    .dataframe tbody tr th:only-of-type {\n",
       "        vertical-align: middle;\n",
       "    }\n",
       "\n",
       "    .dataframe tbody tr th {\n",
       "        vertical-align: top;\n",
       "    }\n",
       "\n",
       "    .dataframe thead th {\n",
       "        text-align: right;\n",
       "    }\n",
       "</style>\n",
       "<table border=\"1\" class=\"dataframe\">\n",
       "  <thead>\n",
       "    <tr style=\"text-align: right;\">\n",
       "      <th></th>\n",
       "      <th>DD</th>\n",
       "      <th>Withdrawals</th>\n",
       "      <th>Deposits</th>\n",
       "      <th>Branch Area in sqft</th>\n",
       "      <th>avg daily walkins</th>\n",
       "      <th>freq</th>\n",
       "    </tr>\n",
       "    <tr>\n",
       "      <th>Clus_kmeans4</th>\n",
       "      <th></th>\n",
       "      <th></th>\n",
       "      <th></th>\n",
       "      <th></th>\n",
       "      <th></th>\n",
       "      <th></th>\n",
       "    </tr>\n",
       "  </thead>\n",
       "  <tbody>\n",
       "    <tr>\n",
       "      <td>0</td>\n",
       "      <td>286.380165</td>\n",
       "      <td>193.504132</td>\n",
       "      <td>84.933884</td>\n",
       "      <td>2622.066116</td>\n",
       "      <td>698.264463</td>\n",
       "      <td>121</td>\n",
       "    </tr>\n",
       "    <tr>\n",
       "      <td>1</td>\n",
       "      <td>289.000000</td>\n",
       "      <td>102.713287</td>\n",
       "      <td>76.363636</td>\n",
       "      <td>3116.993007</td>\n",
       "      <td>598.489510</td>\n",
       "      <td>143</td>\n",
       "    </tr>\n",
       "    <tr>\n",
       "      <td>2</td>\n",
       "      <td>182.592593</td>\n",
       "      <td>192.022222</td>\n",
       "      <td>89.607407</td>\n",
       "      <td>2936.074074</td>\n",
       "      <td>600.666667</td>\n",
       "      <td>135</td>\n",
       "    </tr>\n",
       "    <tr>\n",
       "      <td>3</td>\n",
       "      <td>163.629310</td>\n",
       "      <td>117.086207</td>\n",
       "      <td>75.646552</td>\n",
       "      <td>3034.353448</td>\n",
       "      <td>492.387931</td>\n",
       "      <td>116</td>\n",
       "    </tr>\n",
       "  </tbody>\n",
       "</table>\n",
       "</div>"
      ],
      "text/plain": [
       "                      DD  Withdrawals   Deposits  Branch Area in sqft  \\\n",
       "Clus_kmeans4                                                            \n",
       "0             286.380165   193.504132  84.933884          2622.066116   \n",
       "1             289.000000   102.713287  76.363636          3116.993007   \n",
       "2             182.592593   192.022222  89.607407          2936.074074   \n",
       "3             163.629310   117.086207  75.646552          3034.353448   \n",
       "\n",
       "              avg daily walkins  freq  \n",
       "Clus_kmeans4                           \n",
       "0                    698.264463   121  \n",
       "1                    598.489510   143  \n",
       "2                    600.666667   135  \n",
       "3                    492.387931   116  "
      ]
     },
     "execution_count": 248,
     "metadata": {},
     "output_type": "execute_result"
    }
   ],
   "source": [
    "clust_profile=data_df.drop(['Bank'],axis=1)\n",
    "clust_profile=clust_profile.groupby('Clus_kmeans4').mean()\n",
    "clust_profile['freq']=data_df.Clus_kmeans4.value_counts().sort_index()\n",
    "clust_profile"
   ]
  },
  {
   "cell_type": "markdown",
   "metadata": {
    "colab_type": "text",
    "id": "BxU50Li8H89S"
   },
   "source": [
    "# Mention your insights"
   ]
  },
  {
   "cell_type": "markdown",
   "metadata": {
    "colab": {},
    "colab_type": "code",
    "id": "yR8-JDdNH89U"
   },
   "source": [
    "Cluster 0- Small size bank with highest walkins and withdrawals, and a relatively large DD and deposits\n",
    "\n",
    "Cluster 1- Large size Bank with highest DD and lowest withdrawals, and a relatively lower deposits.\n",
    "\n",
    "Cluster 2- Medium size bank with highest deposits and a higher number of withdrawals and with a relatively lower DD.\n",
    "\n",
    "Cluster 3- Medium size bank with lowest walkins,deposits and DD and a relatively lower withdrawals."
   ]
  },
  {
   "cell_type": "markdown",
   "metadata": {
    "colab": {},
    "colab_type": "code",
    "id": "lkccygPnH89e"
   },
   "source": [
    "Consequently, banks with lowest walkins,deposit,DD and lower withdrwals imply activity in these banks are very less. Banks in cluster 3 can be considered as banks with less activities.\n",
    "\n",
    "Branch Area in sqft can be reduced for the banks in cluster 3 ,whereas Cluster 0 with highest number of average walkins can be expanded(Area expansion) as it has higher number of activities in terms of walkins,deposit,withdrawals,DD but are not spacious."
   ]
  }
 ],
 "metadata": {
  "colab": {
   "collapsed_sections": [],
   "name": "R4_External_Lab_Question_file.ipynb",
   "provenance": []
  },
  "kernelspec": {
   "display_name": "Python 3",
   "language": "python",
   "name": "python3"
  },
  "language_info": {
   "codemirror_mode": {
    "name": "ipython",
    "version": 3
   },
   "file_extension": ".py",
   "mimetype": "text/x-python",
   "name": "python",
   "nbconvert_exporter": "python",
   "pygments_lexer": "ipython3",
   "version": "3.7.4"
  }
 },
 "nbformat": 4,
 "nbformat_minor": 1
}

{
  "nbformat": 4,
  "nbformat_minor": 0,
  "metadata": {
    "colab": {
      "name": "Questions - Lab on NNDL-2.ipynb",
      "provenance": [],
      "collapsed_sections": []
    },
    "kernelspec": {
      "display_name": "Python 3",
      "language": "python",
      "name": "python3"
    },
    "language_info": {
      "codemirror_mode": {
        "name": "ipython",
        "version": 3
      },
      "file_extension": ".py",
      "mimetype": "text/x-python",
      "name": "python",
      "nbconvert_exporter": "python",
      "pygments_lexer": "ipython3",
      "version": "3.7.4"
    }
  },
  "cells": [
    {
      "cell_type": "markdown",
      "metadata": {
        "id": "YeoiMbH7djEv"
      },
      "source": [
        "# Stock prices dataset\n",
        "The data is of tock exchange's stock listings for each trading day of 2010 to 2016.\n",
        "\n",
        "## Description\n",
        "A brief description of columns.\n",
        "- open: The opening market price of the equity symbol on the date\n",
        "- high: The highest market price of the equity symbol on the date\n",
        "- low: The lowest recorded market price of the equity symbol on the date\n",
        "- close: The closing recorded price of the equity symbol on the date\n",
        "- symbol: Symbol of the listed company\n",
        "- volume: Total traded volume of the equity symbol on the date\n",
        "- date: Date of record"
      ]
    },
    {
      "cell_type": "markdown",
      "metadata": {
        "id": "RSoYY2nII_UW"
      },
      "source": [
        "In this assignment, we will work on the stock prices dataset named \"prices.csv\". Task is to create a Neural Network to classify closing price for a stock based on some parameters."
      ]
    },
    {
      "cell_type": "code",
      "metadata": {
        "id": "PGqq9f8VdLba"
      },
      "source": [
        "# Initialize the random number generator\n",
        "import random\n",
        "random.seed(0)\n",
        "\n",
        "# Ignore the warnings\n",
        "import warnings\n",
        "warnings.filterwarnings(\"ignore\")"
      ],
      "execution_count": 1,
      "outputs": []
    },
    {
      "cell_type": "markdown",
      "metadata": {
        "id": "_88voqAH-O6J"
      },
      "source": [
        "## Question 1"
      ]
    },
    {
      "cell_type": "markdown",
      "metadata": {
        "id": "dRHCeJqP-evf"
      },
      "source": [
        "### Load the data\n",
        "- load the csv file and read it using pandas\n",
        "- file name is prices.csv"
      ]
    },
    {
      "cell_type": "code",
      "metadata": {
        "colab": {
          "resources": {
            "http://localhost:8080/nbextensions/google.colab/files.js": {
              "data": "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",
              "ok": true,
              "headers": [
                [
                  "content-type",
                  "application/javascript"
                ]
              ],
              "status": 200,
              "status_text": ""
            }
          },
          "base_uri": "https://localhost:8080/",
          "height": 73
        },
        "id": "cKVH5v7r-RmC",
        "outputId": "dedfa6a7-405b-4e66-9f87-ed80d9dff435"
      },
      "source": [
        "# run this cell to upload file using GUI if you are using google colab\n",
        "\n",
        "from google.colab import files\n",
        "files.upload()"
      ],
      "execution_count": 6,
      "outputs": [
        {
          "output_type": "display_data",
          "data": {
            "text/html": [
              "\n",
              "     <input type=\"file\" id=\"files-5feadd93-c254-449e-aa4e-7452e1292ef7\" name=\"files[]\" multiple disabled\n",
              "        style=\"border:none\" />\n",
              "     <output id=\"result-5feadd93-c254-449e-aa4e-7452e1292ef7\">\n",
              "      Upload widget is only available when the cell has been executed in the\n",
              "      current browser session. Please rerun this cell to enable.\n",
              "      </output>\n",
              "      <script src=\"/nbextensions/google.colab/files.js\"></script> "
            ],
            "text/plain": [
              "<IPython.core.display.HTML object>"
            ]
          },
          "metadata": {
            "tags": []
          }
        },
        {
          "output_type": "stream",
          "text": [
            "Saving prices.csv to prices.csv\n"
          ],
          "name": "stdout"
        }
      ]
    },
    {
      "cell_type": "code",
      "metadata": {
        "colab": {
          "base_uri": "https://localhost:8080/"
        },
        "id": "Gr4YcffYd1FQ",
        "outputId": "cc7a9423-b25c-47c5-ac24-28bd18a92db9"
      },
      "source": [
        "# run this cell to to mount the google drive if you are using google colab\n",
        "\n",
        "from google.colab import drive\n",
        "drive.mount('/content/drive/')"
      ],
      "execution_count": 4,
      "outputs": [
        {
          "output_type": "stream",
          "text": [
            "Mounted at /content/drive/\n"
          ],
          "name": "stdout"
        }
      ]
    },
    {
      "cell_type": "code",
      "metadata": {
        "id": "QIUpPZpFD14_"
      },
      "source": [
        "import pandas as pd\n",
        "df=pd.read_csv(\"/content/prices.csv\")"
      ],
      "execution_count": 8,
      "outputs": []
    },
    {
      "cell_type": "code",
      "metadata": {
        "colab": {
          "base_uri": "https://localhost:8080/",
          "height": 355
        },
        "id": "XcTFt_e9I22U",
        "outputId": "54061870-f791-410b-dd38-903d9c66acc4"
      },
      "source": [
        "df.sample(10)"
      ],
      "execution_count": 11,
      "outputs": [
        {
          "output_type": "execute_result",
          "data": {
            "text/html": [
              "<div>\n",
              "<style scoped>\n",
              "    .dataframe tbody tr th:only-of-type {\n",
              "        vertical-align: middle;\n",
              "    }\n",
              "\n",
              "    .dataframe tbody tr th {\n",
              "        vertical-align: top;\n",
              "    }\n",
              "\n",
              "    .dataframe thead th {\n",
              "        text-align: right;\n",
              "    }\n",
              "</style>\n",
              "<table border=\"1\" class=\"dataframe\">\n",
              "  <thead>\n",
              "    <tr style=\"text-align: right;\">\n",
              "      <th></th>\n",
              "      <th>date</th>\n",
              "      <th>symbol</th>\n",
              "      <th>open</th>\n",
              "      <th>close</th>\n",
              "      <th>low</th>\n",
              "      <th>high</th>\n",
              "      <th>volume</th>\n",
              "    </tr>\n",
              "  </thead>\n",
              "  <tbody>\n",
              "    <tr>\n",
              "      <th>255194</th>\n",
              "      <td>2012-02-29</td>\n",
              "      <td>ANTM</td>\n",
              "      <td>65.570000</td>\n",
              "      <td>65.629997</td>\n",
              "      <td>65.089996</td>\n",
              "      <td>65.879997</td>\n",
              "      <td>3079600.0</td>\n",
              "    </tr>\n",
              "    <tr>\n",
              "      <th>637728</th>\n",
              "      <td>2015-04-22</td>\n",
              "      <td>JCI</td>\n",
              "      <td>42.400002</td>\n",
              "      <td>42.599998</td>\n",
              "      <td>42.119999</td>\n",
              "      <td>42.680000</td>\n",
              "      <td>1551300.0</td>\n",
              "    </tr>\n",
              "    <tr>\n",
              "      <th>264615</th>\n",
              "      <td>2012-03-28</td>\n",
              "      <td>BCR</td>\n",
              "      <td>98.839996</td>\n",
              "      <td>99.000000</td>\n",
              "      <td>98.400002</td>\n",
              "      <td>99.050003</td>\n",
              "      <td>435200.0</td>\n",
              "    </tr>\n",
              "    <tr>\n",
              "      <th>537986</th>\n",
              "      <td>2014-07-01</td>\n",
              "      <td>LNT</td>\n",
              "      <td>60.849998</td>\n",
              "      <td>60.070000</td>\n",
              "      <td>60.009998</td>\n",
              "      <td>60.889999</td>\n",
              "      <td>1450800.0</td>\n",
              "    </tr>\n",
              "    <tr>\n",
              "      <th>520825</th>\n",
              "      <td>2014-05-12</td>\n",
              "      <td>L</td>\n",
              "      <td>43.540001</td>\n",
              "      <td>43.310001</td>\n",
              "      <td>43.169998</td>\n",
              "      <td>43.580002</td>\n",
              "      <td>1180500.0</td>\n",
              "    </tr>\n",
              "    <tr>\n",
              "      <th>552082</th>\n",
              "      <td>2014-08-12</td>\n",
              "      <td>ETFC</td>\n",
              "      <td>21.450001</td>\n",
              "      <td>21.280001</td>\n",
              "      <td>21.180000</td>\n",
              "      <td>21.629999</td>\n",
              "      <td>1918900.0</td>\n",
              "    </tr>\n",
              "    <tr>\n",
              "      <th>572569</th>\n",
              "      <td>2014-10-10</td>\n",
              "      <td>BMY</td>\n",
              "      <td>49.770000</td>\n",
              "      <td>50.279999</td>\n",
              "      <td>49.770000</td>\n",
              "      <td>51.009998</td>\n",
              "      <td>8427700.0</td>\n",
              "    </tr>\n",
              "    <tr>\n",
              "      <th>520156</th>\n",
              "      <td>2014-05-09</td>\n",
              "      <td>CHD</td>\n",
              "      <td>67.660004</td>\n",
              "      <td>68.099998</td>\n",
              "      <td>67.589996</td>\n",
              "      <td>68.120003</td>\n",
              "      <td>1293400.0</td>\n",
              "    </tr>\n",
              "    <tr>\n",
              "      <th>815595</th>\n",
              "      <td>2016-09-20</td>\n",
              "      <td>NRG</td>\n",
              "      <td>11.270000</td>\n",
              "      <td>11.430000</td>\n",
              "      <td>11.160000</td>\n",
              "      <td>11.530000</td>\n",
              "      <td>5937700.0</td>\n",
              "    </tr>\n",
              "    <tr>\n",
              "      <th>659126</th>\n",
              "      <td>2015-06-23</td>\n",
              "      <td>SNA</td>\n",
              "      <td>161.160004</td>\n",
              "      <td>160.509995</td>\n",
              "      <td>160.240005</td>\n",
              "      <td>161.740005</td>\n",
              "      <td>253900.0</td>\n",
              "    </tr>\n",
              "  </tbody>\n",
              "</table>\n",
              "</div>"
            ],
            "text/plain": [
              "              date symbol        open  ...         low        high     volume\n",
              "255194  2012-02-29   ANTM   65.570000  ...   65.089996   65.879997  3079600.0\n",
              "637728  2015-04-22    JCI   42.400002  ...   42.119999   42.680000  1551300.0\n",
              "264615  2012-03-28    BCR   98.839996  ...   98.400002   99.050003   435200.0\n",
              "537986  2014-07-01    LNT   60.849998  ...   60.009998   60.889999  1450800.0\n",
              "520825  2014-05-12      L   43.540001  ...   43.169998   43.580002  1180500.0\n",
              "552082  2014-08-12   ETFC   21.450001  ...   21.180000   21.629999  1918900.0\n",
              "572569  2014-10-10    BMY   49.770000  ...   49.770000   51.009998  8427700.0\n",
              "520156  2014-05-09    CHD   67.660004  ...   67.589996   68.120003  1293400.0\n",
              "815595  2016-09-20    NRG   11.270000  ...   11.160000   11.530000  5937700.0\n",
              "659126  2015-06-23    SNA  161.160004  ...  160.240005  161.740005   253900.0\n",
              "\n",
              "[10 rows x 7 columns]"
            ]
          },
          "metadata": {
            "tags": []
          },
          "execution_count": 11
        }
      ]
    },
    {
      "cell_type": "markdown",
      "metadata": {
        "id": "HlLKVPVH_BCT"
      },
      "source": [
        "## Question 2"
      ]
    },
    {
      "cell_type": "markdown",
      "metadata": {
        "id": "ZxoGynuBeO4t"
      },
      "source": [
        "### Drop null\n",
        "- Drop null values if any"
      ]
    },
    {
      "cell_type": "code",
      "metadata": {
        "colab": {
          "base_uri": "https://localhost:8080/"
        },
        "id": "_yuwJJIeeUaD",
        "outputId": "00cf9c64-bca9-40c7-aa86-8765cd73ca00"
      },
      "source": [
        "df.isna().sum()"
      ],
      "execution_count": 12,
      "outputs": [
        {
          "output_type": "execute_result",
          "data": {
            "text/plain": [
              "date      0\n",
              "symbol    0\n",
              "open      0\n",
              "close     0\n",
              "low       0\n",
              "high      0\n",
              "volume    0\n",
              "dtype: int64"
            ]
          },
          "metadata": {
            "tags": []
          },
          "execution_count": 12
        }
      ]
    },
    {
      "cell_type": "code",
      "metadata": {
        "colab": {
          "base_uri": "https://localhost:8080/"
        },
        "id": "TXdvwgpsJMqY",
        "outputId": "1cc813ac-3baa-4239-cf9d-795ddcfea3d2"
      },
      "source": [
        "df.isnull().sum()"
      ],
      "execution_count": 13,
      "outputs": [
        {
          "output_type": "execute_result",
          "data": {
            "text/plain": [
              "date      0\n",
              "symbol    0\n",
              "open      0\n",
              "close     0\n",
              "low       0\n",
              "high      0\n",
              "volume    0\n",
              "dtype: int64"
            ]
          },
          "metadata": {
            "tags": []
          },
          "execution_count": 13
        }
      ]
    },
    {
      "cell_type": "code",
      "metadata": {
        "id": "NiqzCzPsJQBK"
      },
      "source": [
        "#No null values found in the dataset"
      ],
      "execution_count": 15,
      "outputs": []
    },
    {
      "cell_type": "markdown",
      "metadata": {
        "id": "9J4BlzVA_gZd"
      },
      "source": [
        "### Drop columns\n",
        "- Now, we don't need \"date\", \"volume\" and \"symbol\" column\n",
        "- drop \"date\", \"volume\" and \"symbol\" column from the data\n"
      ]
    },
    {
      "cell_type": "code",
      "metadata": {
        "id": "IKEK8aEE_Csx"
      },
      "source": [
        "df.drop(columns=[\"date\",\"volume\",\"symbol\"],inplace=True)"
      ],
      "execution_count": 16,
      "outputs": []
    },
    {
      "cell_type": "code",
      "metadata": {
        "colab": {
          "base_uri": "https://localhost:8080/",
          "height": 202
        },
        "id": "eosiV0tVJlP3",
        "outputId": "ef7310b6-dfd0-4751-8f51-5cf55fa0b4b2"
      },
      "source": [
        "df.sample(5)"
      ],
      "execution_count": 17,
      "outputs": [
        {
          "output_type": "execute_result",
          "data": {
            "text/html": [
              "<div>\n",
              "<style scoped>\n",
              "    .dataframe tbody tr th:only-of-type {\n",
              "        vertical-align: middle;\n",
              "    }\n",
              "\n",
              "    .dataframe tbody tr th {\n",
              "        vertical-align: top;\n",
              "    }\n",
              "\n",
              "    .dataframe thead th {\n",
              "        text-align: right;\n",
              "    }\n",
              "</style>\n",
              "<table border=\"1\" class=\"dataframe\">\n",
              "  <thead>\n",
              "    <tr style=\"text-align: right;\">\n",
              "      <th></th>\n",
              "      <th>open</th>\n",
              "      <th>close</th>\n",
              "      <th>low</th>\n",
              "      <th>high</th>\n",
              "    </tr>\n",
              "  </thead>\n",
              "  <tbody>\n",
              "    <tr>\n",
              "      <th>583672</th>\n",
              "      <td>56.759998</td>\n",
              "      <td>57.009998</td>\n",
              "      <td>56.619999</td>\n",
              "      <td>57.110001</td>\n",
              "    </tr>\n",
              "    <tr>\n",
              "      <th>574366</th>\n",
              "      <td>202.570007</td>\n",
              "      <td>210.520004</td>\n",
              "      <td>202.009995</td>\n",
              "      <td>211.279999</td>\n",
              "    </tr>\n",
              "    <tr>\n",
              "      <th>425818</th>\n",
              "      <td>23.180000</td>\n",
              "      <td>23.219999</td>\n",
              "      <td>23.000000</td>\n",
              "      <td>23.219999</td>\n",
              "    </tr>\n",
              "    <tr>\n",
              "      <th>764326</th>\n",
              "      <td>47.029999</td>\n",
              "      <td>46.810001</td>\n",
              "      <td>46.630001</td>\n",
              "      <td>47.189999</td>\n",
              "    </tr>\n",
              "    <tr>\n",
              "      <th>116147</th>\n",
              "      <td>28.209999</td>\n",
              "      <td>27.910000</td>\n",
              "      <td>27.870001</td>\n",
              "      <td>28.209999</td>\n",
              "    </tr>\n",
              "  </tbody>\n",
              "</table>\n",
              "</div>"
            ],
            "text/plain": [
              "              open       close         low        high\n",
              "583672   56.759998   57.009998   56.619999   57.110001\n",
              "574366  202.570007  210.520004  202.009995  211.279999\n",
              "425818   23.180000   23.219999   23.000000   23.219999\n",
              "764326   47.029999   46.810001   46.630001   47.189999\n",
              "116147   28.209999   27.910000   27.870001   28.209999"
            ]
          },
          "metadata": {
            "tags": []
          },
          "execution_count": 17
        }
      ]
    },
    {
      "cell_type": "markdown",
      "metadata": {
        "id": "cTPhO6v-AiZt"
      },
      "source": [
        "## Question 3"
      ]
    },
    {
      "cell_type": "markdown",
      "metadata": {
        "id": "SsZXmF3NAkna"
      },
      "source": [
        "### Print the dataframe\n",
        "- print the modified dataframe"
      ]
    },
    {
      "cell_type": "code",
      "metadata": {
        "colab": {
          "base_uri": "https://localhost:8080/"
        },
        "id": "aKs04iIHAjxN",
        "outputId": "eecb1d13-5134-4588-a330-b0b02dba7077"
      },
      "source": [
        "print(df.head())"
      ],
      "execution_count": 18,
      "outputs": [
        {
          "output_type": "stream",
          "text": [
            "         open       close         low        high\n",
            "0  123.430000  125.839996  122.309998  126.250000\n",
            "1  125.239998  119.980003  119.940002  125.540001\n",
            "2  116.379997  114.949997  114.930000  119.739998\n",
            "3  115.480003  116.620003  113.500000  117.440002\n",
            "4  117.010002  114.970001  114.089996  117.330002\n"
          ],
          "name": "stdout"
        }
      ]
    },
    {
      "cell_type": "markdown",
      "metadata": {
        "id": "C8u_jlbABTip"
      },
      "source": [
        "### Get features and label from the dataset in separate variable\n",
        "- Let's separate labels and features now. We are going to predict the value for \"close\" column so that will be our label. Our features will be \"open\", \"low\", \"high\"\n",
        "- Take \"open\" \"low\", \"high\" columns as features\n",
        "- Take \"close\" column as label"
      ]
    },
    {
      "cell_type": "code",
      "metadata": {
        "id": "xQjCMzUXBJbg"
      },
      "source": [
        "X=df.drop(columns=[\"close\"])\n",
        "Y=df[\"close\"]"
      ],
      "execution_count": 21,
      "outputs": []
    },
    {
      "cell_type": "code",
      "metadata": {
        "colab": {
          "base_uri": "https://localhost:8080/"
        },
        "id": "R8ZeSFafKFHB",
        "outputId": "0f0723d3-7ef3-4c50-a3c5-4d1048658e2f"
      },
      "source": [
        "print(X.head())\n",
        "print(Y.head())"
      ],
      "execution_count": 24,
      "outputs": [
        {
          "output_type": "stream",
          "text": [
            "         open         low        high\n",
            "0  123.430000  122.309998  126.250000\n",
            "1  125.239998  119.940002  125.540001\n",
            "2  116.379997  114.930000  119.739998\n",
            "3  115.480003  113.500000  117.440002\n",
            "4  117.010002  114.089996  117.330002\n",
            "0    125.839996\n",
            "1    119.980003\n",
            "2    114.949997\n",
            "3    116.620003\n",
            "4    114.970001\n",
            "Name: close, dtype: float64\n"
          ],
          "name": "stdout"
        }
      ]
    },
    {
      "cell_type": "markdown",
      "metadata": {
        "id": "6vGtnapgBIJm"
      },
      "source": [
        "## Question 4"
      ]
    },
    {
      "cell_type": "markdown",
      "metadata": {
        "id": "8pZAKdJ5gcrm"
      },
      "source": [
        "### Create train and test sets\n",
        "- Split the data into training and testing"
      ]
    },
    {
      "cell_type": "code",
      "metadata": {
        "id": "KalRqA6Rgqsn"
      },
      "source": [
        "from sklearn.model_selection import train_test_split\n",
        "X_train, X_test, y_train, y_test = train_test_split(X, Y, test_size=0.25, random_state=42)"
      ],
      "execution_count": 64,
      "outputs": []
    },
    {
      "cell_type": "markdown",
      "metadata": {
        "id": "aTAKzlxZBz0z"
      },
      "source": [
        "## Question 5"
      ]
    },
    {
      "cell_type": "markdown",
      "metadata": {
        "id": "O7BU2qxEg0Ki"
      },
      "source": [
        "### Scaling\n",
        "- Scale the data (features only)\n",
        "- Use StandarScaler"
      ]
    },
    {
      "cell_type": "code",
      "metadata": {
        "id": "AcO8SlhPhBkR"
      },
      "source": [
        "from sklearn.preprocessing import StandardScaler\n",
        "scale=StandardScaler()\n",
        "X_train=scale.fit_transform(X_train)\n",
        "X_test=scale.transform(X_test)\n"
      ],
      "execution_count": 65,
      "outputs": []
    },
    {
      "cell_type": "code",
      "metadata": {
        "colab": {
          "base_uri": "https://localhost:8080/"
        },
        "id": "k3iy-rwuNCBU",
        "outputId": "c2526971-578b-4878-f631-4586893d1faf"
      },
      "source": [
        "X_test"
      ],
      "execution_count": 66,
      "outputs": [
        {
          "output_type": "execute_result",
          "data": {
            "text/plain": [
              "array([[-0.16888595, -0.16261727, -0.16907706],\n",
              "       [-0.7014618 , -0.70141597, -0.69834077],\n",
              "       [-0.7145853 , -0.71442811, -0.71453669],\n",
              "       ...,\n",
              "       [-0.64383767, -0.64623489, -0.64585181],\n",
              "       [-0.39651919, -0.39478747, -0.39948468],\n",
              "       [ 0.16194576,  0.17220421,  0.18806074]])"
            ]
          },
          "metadata": {
            "tags": []
          },
          "execution_count": 66
        }
      ]
    },
    {
      "cell_type": "code",
      "metadata": {
        "colab": {
          "base_uri": "https://localhost:8080/"
        },
        "id": "zab56fx_Nzwf",
        "outputId": "458e4e18-9a74-4b9d-848d-efcc180792ec"
      },
      "source": [
        "X_train"
      ],
      "execution_count": 67,
      "outputs": [
        {
          "output_type": "execute_result",
          "data": {
            "text/plain": [
              "array([[ 0.05051519,  0.05497449,  0.05577433],\n",
              "       [ 0.05278202,  0.05654083,  0.06014845],\n",
              "       [-0.14049144, -0.13550866, -0.14271431],\n",
              "       ...,\n",
              "       [-0.25120616, -0.24683466, -0.23173279],\n",
              "       [-0.2831798 , -0.27731682, -0.27535537],\n",
              "       [ 0.04860637,  0.04352867,  0.04040599]])"
            ]
          },
          "metadata": {
            "tags": []
          },
          "execution_count": 67
        }
      ]
    },
    {
      "cell_type": "markdown",
      "metadata": {
        "id": "3TWpN0nVTpUx"
      },
      "source": [
        "## Question 6"
      ]
    },
    {
      "cell_type": "markdown",
      "metadata": {
        "id": "_sj0LYNkhR-L"
      },
      "source": [
        "### Convert data to NumPy array\n",
        "- Convert features and labels to numpy array"
      ]
    },
    {
      "cell_type": "code",
      "metadata": {
        "id": "X6mIfuTxhbTT"
      },
      "source": [
        "import numpy as np\n",
        "y_train=np.array(y_train)\n",
        "y_test=np.array(y_test)"
      ],
      "execution_count": 68,
      "outputs": []
    },
    {
      "cell_type": "code",
      "metadata": {
        "colab": {
          "base_uri": "https://localhost:8080/"
        },
        "id": "I_e51BKUUK4u",
        "outputId": "ecf7dabf-6892-431c-ed44-935da5480e0a"
      },
      "source": [
        "print(type(y_train))\n",
        "print(type(y_test))\n",
        "print(type(X_test))\n",
        "print(type(X_train))"
      ],
      "execution_count": 69,
      "outputs": [
        {
          "output_type": "stream",
          "text": [
            "<class 'numpy.ndarray'>\n",
            "<class 'numpy.ndarray'>\n",
            "<class 'numpy.ndarray'>\n",
            "<class 'numpy.ndarray'>\n"
          ],
          "name": "stdout"
        }
      ]
    },
    {
      "cell_type": "code",
      "metadata": {
        "colab": {
          "base_uri": "https://localhost:8080/"
        },
        "id": "ne79z5uLdwze",
        "outputId": "c7b4a899-affa-48ff-c77a-35682b2eebf6"
      },
      "source": [
        "X_train.shape"
      ],
      "execution_count": 70,
      "outputs": [
        {
          "output_type": "execute_result",
          "data": {
            "text/plain": [
              "(638448, 3)"
            ]
          },
          "metadata": {
            "tags": []
          },
          "execution_count": 70
        }
      ]
    },
    {
      "cell_type": "markdown",
      "metadata": {
        "id": "wmXUGc2oTspa"
      },
      "source": [
        "## Question 7"
      ]
    },
    {
      "cell_type": "markdown",
      "metadata": {
        "id": "cl2M9whFh6mh"
      },
      "source": [
        "### Define Model\n",
        "- Initialize a Sequential model\n",
        "- Add a Flatten layer\n",
        "- Add a Dense layer with one neuron as output\n",
        "  - add 'linear' as activation function\n"
      ]
    },
    {
      "cell_type": "code",
      "metadata": {
        "colab": {
          "base_uri": "https://localhost:8080/"
        },
        "id": "TkiBpORmiegL",
        "outputId": "da972012-80f4-42ae-d5b9-218a5ea5c811"
      },
      "source": [
        "import tensorflow as tf\n",
        "from tensorflow.keras.models import Sequential\n",
        "from tensorflow.keras.layers import Dense,Flatten,Input\n",
        "\n",
        "model=tf.keras.models.Sequential()\n",
        "model.add(tf.keras.layers.Dense(1,input_shape=(3,),activation='linear'))\n",
        "model.output_shape"
      ],
      "execution_count": 78,
      "outputs": [
        {
          "output_type": "execute_result",
          "data": {
            "text/plain": [
              "(None, 1)"
            ]
          },
          "metadata": {
            "tags": []
          },
          "execution_count": 78
        }
      ]
    },
    {
      "cell_type": "code",
      "metadata": {
        "colab": {
          "base_uri": "https://localhost:8080/"
        },
        "id": "VXpFaZ-of2pG",
        "outputId": "cde546a5-599f-462e-d09d-373d279a6b37"
      },
      "source": [
        "model1=Sequential([Input(shape=(3,)),Flatten(),Dense(1,activation='linear')])\n",
        "model1.output_shape"
      ],
      "execution_count": 80,
      "outputs": [
        {
          "output_type": "execute_result",
          "data": {
            "text/plain": [
              "(None, 1)"
            ]
          },
          "metadata": {
            "tags": []
          },
          "execution_count": 80
        }
      ]
    },
    {
      "cell_type": "markdown",
      "metadata": {
        "id": "8a0wr94aTyjg"
      },
      "source": [
        "## Question 8"
      ]
    },
    {
      "cell_type": "markdown",
      "metadata": {
        "id": "BNZPb5lKioX0"
      },
      "source": [
        "### Compile the model\n",
        "- Compile the model\n",
        "- Use \"sgd\" optimizer\n",
        "- for calculating loss, use mean squared error"
      ]
    },
    {
      "cell_type": "code",
      "metadata": {
        "id": "ZEQUP3VaiuT2"
      },
      "source": [
        "model.compile(optimizer='sgd',loss='mean_squared_error')"
      ],
      "execution_count": 84,
      "outputs": []
    },
    {
      "cell_type": "code",
      "metadata": {
        "colab": {
          "base_uri": "https://localhost:8080/"
        },
        "id": "FM5Lj51LjXRN",
        "outputId": "91a83ade-17f1-45d6-e774-ca5eb116b648"
      },
      "source": [
        "model.summary()"
      ],
      "execution_count": 85,
      "outputs": [
        {
          "output_type": "stream",
          "text": [
            "Model: \"sequential_8\"\n",
            "_________________________________________________________________\n",
            "Layer (type)                 Output Shape              Param #   \n",
            "=================================================================\n",
            "dense_7 (Dense)              (None, 1)                 4         \n",
            "=================================================================\n",
            "Total params: 4\n",
            "Trainable params: 4\n",
            "Non-trainable params: 0\n",
            "_________________________________________________________________\n"
          ],
          "name": "stdout"
        }
      ]
    },
    {
      "cell_type": "markdown",
      "metadata": {
        "id": "ZbBpnOtfT0wd"
      },
      "source": [
        "## Question 9"
      ]
    },
    {
      "cell_type": "markdown",
      "metadata": {
        "id": "n9o45OHdjDhA"
      },
      "source": [
        "### Fit the model\n",
        "- epochs: 50\n",
        "- batch size: 128\n",
        "- specify validation data"
      ]
    },
    {
      "cell_type": "code",
      "metadata": {
        "colab": {
          "base_uri": "https://localhost:8080/"
        },
        "id": "-Y6tA30XjOH2",
        "outputId": "31891115-31c5-467b-cc4b-76f14222dfe0"
      },
      "source": [
        "model.fit(X_train,y_train,epochs=50,batch_size=128,validation_data=(X_test,y_test))"
      ],
      "execution_count": 90,
      "outputs": [
        {
          "output_type": "stream",
          "text": [
            "Epoch 1/50\n",
            "4988/4988 [==============================] - 5s 1ms/step - loss: 39.7603 - val_loss: 0.9599\n",
            "Epoch 2/50\n",
            "4988/4988 [==============================] - 5s 1000us/step - loss: 0.9645 - val_loss: 0.9510\n",
            "Epoch 3/50\n",
            "4988/4988 [==============================] - 5s 1ms/step - loss: 0.9579 - val_loss: 0.9683\n",
            "Epoch 4/50\n",
            "4988/4988 [==============================] - 5s 1ms/step - loss: 0.9508 - val_loss: 0.9495\n",
            "Epoch 5/50\n",
            "4988/4988 [==============================] - 5s 1ms/step - loss: 0.9447 - val_loss: 0.9331\n",
            "Epoch 6/50\n",
            "4988/4988 [==============================] - 5s 1ms/step - loss: 0.9364 - val_loss: 0.9336\n",
            "Epoch 7/50\n",
            "4988/4988 [==============================] - 5s 1ms/step - loss: 0.9300 - val_loss: 0.9167\n",
            "Epoch 8/50\n",
            "4988/4988 [==============================] - 5s 1ms/step - loss: 0.9229 - val_loss: 0.9095\n",
            "Epoch 9/50\n",
            "4988/4988 [==============================] - 5s 1ms/step - loss: 0.9150 - val_loss: 0.9038\n",
            "Epoch 10/50\n",
            "4988/4988 [==============================] - 5s 1ms/step - loss: 0.9096 - val_loss: 0.9017\n",
            "Epoch 11/50\n",
            "4988/4988 [==============================] - 5s 1ms/step - loss: 0.9032 - val_loss: 0.8914\n",
            "Epoch 12/50\n",
            "4988/4988 [==============================] - 5s 1ms/step - loss: 0.8964 - val_loss: 0.8869\n",
            "Epoch 13/50\n",
            "4988/4988 [==============================] - 5s 1ms/step - loss: 0.8897 - val_loss: 0.8781\n",
            "Epoch 14/50\n",
            "4988/4988 [==============================] - 5s 1000us/step - loss: 0.8846 - val_loss: 0.8763\n",
            "Epoch 15/50\n",
            "4988/4988 [==============================] - 5s 1ms/step - loss: 0.8771 - val_loss: 0.8776\n",
            "Epoch 16/50\n",
            "4988/4988 [==============================] - 5s 1ms/step - loss: 0.8723 - val_loss: 0.8643\n",
            "Epoch 17/50\n",
            "4988/4988 [==============================] - 5s 1ms/step - loss: 0.8661 - val_loss: 0.8540\n",
            "Epoch 18/50\n",
            "4988/4988 [==============================] - 6s 1ms/step - loss: 0.8591 - val_loss: 0.8567\n",
            "Epoch 19/50\n",
            "4988/4988 [==============================] - 6s 1ms/step - loss: 0.8533 - val_loss: 0.9531\n",
            "Epoch 20/50\n",
            "4988/4988 [==============================] - 6s 1ms/step - loss: 0.8492 - val_loss: 0.8443\n",
            "Epoch 21/50\n",
            "4988/4988 [==============================] - 6s 1ms/step - loss: 0.8436 - val_loss: 0.8571\n",
            "Epoch 22/50\n",
            "4988/4988 [==============================] - 5s 1ms/step - loss: 0.8376 - val_loss: 0.8294\n",
            "Epoch 23/50\n",
            "4988/4988 [==============================] - 5s 1ms/step - loss: 0.8308 - val_loss: 0.8245\n",
            "Epoch 24/50\n",
            "4988/4988 [==============================] - 5s 1ms/step - loss: 0.8258 - val_loss: 0.8150\n",
            "Epoch 25/50\n",
            "4988/4988 [==============================] - 5s 1ms/step - loss: 0.8204 - val_loss: 0.8098\n",
            "Epoch 26/50\n",
            "4988/4988 [==============================] - 5s 1ms/step - loss: 0.8161 - val_loss: 0.8306\n",
            "Epoch 27/50\n",
            "4988/4988 [==============================] - 5s 1ms/step - loss: 0.8093 - val_loss: 0.7995\n",
            "Epoch 28/50\n",
            "4988/4988 [==============================] - 5s 1ms/step - loss: 0.8048 - val_loss: 0.7985\n",
            "Epoch 29/50\n",
            "4988/4988 [==============================] - 5s 1ms/step - loss: 0.7986 - val_loss: 0.7932\n",
            "Epoch 30/50\n",
            "4988/4988 [==============================] - 5s 1ms/step - loss: 0.7945 - val_loss: 0.7942\n",
            "Epoch 31/50\n",
            "4988/4988 [==============================] - 5s 1ms/step - loss: 0.7902 - val_loss: 0.7796\n",
            "Epoch 32/50\n",
            "4988/4988 [==============================] - 5s 993us/step - loss: 0.7849 - val_loss: 0.7988\n",
            "Epoch 33/50\n",
            "4988/4988 [==============================] - 5s 1ms/step - loss: 0.7807 - val_loss: 0.7754\n",
            "Epoch 34/50\n",
            "4988/4988 [==============================] - 5s 1ms/step - loss: 0.7756 - val_loss: 0.7904\n",
            "Epoch 35/50\n",
            "4988/4988 [==============================] - 5s 1ms/step - loss: 0.7708 - val_loss: 0.7663\n",
            "Epoch 36/50\n",
            "4988/4988 [==============================] - 5s 1ms/step - loss: 0.7653 - val_loss: 0.7720\n",
            "Epoch 37/50\n",
            "4988/4988 [==============================] - 5s 1ms/step - loss: 0.7607 - val_loss: 0.7519\n",
            "Epoch 38/50\n",
            "4988/4988 [==============================] - 5s 1ms/step - loss: 0.7559 - val_loss: 0.7489\n",
            "Epoch 39/50\n",
            "4988/4988 [==============================] - 5s 1ms/step - loss: 0.7517 - val_loss: 0.7440\n",
            "Epoch 40/50\n",
            "4988/4988 [==============================] - 5s 1ms/step - loss: 0.7481 - val_loss: 0.7414\n",
            "Epoch 41/50\n",
            "4988/4988 [==============================] - 6s 1ms/step - loss: 0.7433 - val_loss: 0.7418\n",
            "Epoch 42/50\n",
            "4988/4988 [==============================] - 5s 1ms/step - loss: 0.7379 - val_loss: 0.7318\n",
            "Epoch 43/50\n",
            "4988/4988 [==============================] - 5s 1ms/step - loss: 0.7350 - val_loss: 0.7270\n",
            "Epoch 44/50\n",
            "4988/4988 [==============================] - 5s 1ms/step - loss: 0.7309 - val_loss: 0.7228\n",
            "Epoch 45/50\n",
            "4988/4988 [==============================] - 5s 1ms/step - loss: 0.7267 - val_loss: 0.7304\n",
            "Epoch 46/50\n",
            "4988/4988 [==============================] - 5s 1ms/step - loss: 0.7223 - val_loss: 0.7173\n",
            "Epoch 47/50\n",
            "4988/4988 [==============================] - 5s 1ms/step - loss: 0.7187 - val_loss: 0.7547\n",
            "Epoch 48/50\n",
            "4988/4988 [==============================] - 5s 1ms/step - loss: 0.7147 - val_loss: 0.7437\n",
            "Epoch 49/50\n",
            "4988/4988 [==============================] - 5s 1ms/step - loss: 0.7110 - val_loss: 0.7113\n",
            "Epoch 50/50\n",
            "4988/4988 [==============================] - 5s 1ms/step - loss: 0.7071 - val_loss: 0.7088\n"
          ],
          "name": "stdout"
        },
        {
          "output_type": "execute_result",
          "data": {
            "text/plain": [
              "<tensorflow.python.keras.callbacks.History at 0x7f775aa30b38>"
            ]
          },
          "metadata": {
            "tags": []
          },
          "execution_count": 90
        }
      ]
    },
    {
      "cell_type": "markdown",
      "metadata": {
        "id": "AW4SEP8kT2ls"
      },
      "source": [
        "## Question 10"
      ]
    },
    {
      "cell_type": "markdown",
      "metadata": {
        "id": "EJDoix_7JU61"
      },
      "source": [
        "### Evaluate the model\n",
        "- Evaluate the model on test data"
      ]
    },
    {
      "cell_type": "code",
      "metadata": {
        "colab": {
          "base_uri": "https://localhost:8080/"
        },
        "id": "HdH8pYBIjHGL",
        "outputId": "0e812565-bd8c-4a43-a581-b3a30d92d98a"
      },
      "source": [
        "model.evaluate(X_test,y_test)"
      ],
      "execution_count": 93,
      "outputs": [
        {
          "output_type": "stream",
          "text": [
            "6651/6651 [==============================] - 5s 688us/step - loss: 0.7088\n"
          ],
          "name": "stdout"
        },
        {
          "output_type": "execute_result",
          "data": {
            "text/plain": [
              "0.7087876200675964"
            ]
          },
          "metadata": {
            "tags": []
          },
          "execution_count": 93
        }
      ]
    },
    {
      "cell_type": "markdown",
      "metadata": {
        "id": "hUpDD74Xjh01"
      },
      "source": [
        "### Manual predictions\n",
        "- Test the predictions on manual inputs\n",
        "- We have scaled out training data, so we need to transform our custom inputs using the object of the scaler\n",
        "- Example of manual input: [123.430000,\t122.30999, 116.250000]"
      ]
    },
    {
      "cell_type": "code",
      "metadata": {
        "colab": {
          "base_uri": "https://localhost:8080/"
        },
        "id": "fvuH-c31lLiJ",
        "outputId": "0fffce7e-5f7a-43eb-de26-c93534007967"
      },
      "source": [
        "manual_data=scale.transform([[123.430000, 122.30999, 116.250000]])\n",
        "model.predict(manual_data)"
      ],
      "execution_count": 98,
      "outputs": [
        {
          "output_type": "execute_result",
          "data": {
            "text/plain": [
              "array([[119.635284]], dtype=float32)"
            ]
          },
          "metadata": {
            "tags": []
          },
          "execution_count": 98
        }
      ]
    },
    {
      "cell_type": "markdown",
      "metadata": {
        "id": "4WH1Pr4KQlCh"
      },
      "source": [
        "# Build a DNN"
      ]
    },
    {
      "cell_type": "markdown",
      "metadata": {
        "id": "74cQBsi5QlCw"
      },
      "source": [
        "### Collect Fashion mnist data from tf.keras.datasets "
      ]
    },
    {
      "cell_type": "code",
      "metadata": {
        "id": "wVWy0oDTr2Kj"
      },
      "source": [
        "(trainX,trainY),(testX,testY)=tf.keras.datasets.fashion_mnist.load_data()"
      ],
      "execution_count": 102,
      "outputs": []
    },
    {
      "cell_type": "code",
      "metadata": {
        "colab": {
          "base_uri": "https://localhost:8080/"
        },
        "id": "W8-6kf3ot8Es",
        "outputId": "1c445e8e-dfc8-4736-a478-3597a9e99686"
      },
      "source": [
        "print(trainX.shape)\n",
        "print(trainY.shape)\n",
        "print(testX.shape)\n",
        "print(testY.shape)"
      ],
      "execution_count": 104,
      "outputs": [
        {
          "output_type": "stream",
          "text": [
            "(60000, 28, 28)\n",
            "(60000,)\n",
            "(10000, 28, 28)\n",
            "(10000,)\n"
          ],
          "name": "stdout"
        }
      ]
    },
    {
      "cell_type": "markdown",
      "metadata": {
        "id": "no7aWYZyQlC1"
      },
      "source": [
        "### Change train and test labels into one-hot vectors"
      ]
    },
    {
      "cell_type": "code",
      "metadata": {
        "id": "UX6otc4wQlC2"
      },
      "source": [
        "trainY=tf.keras.utils.to_categorical(trainY,num_classes=10)\n",
        "testY=tf.keras.utils.to_categorical(testY,num_classes=10)"
      ],
      "execution_count": 105,
      "outputs": []
    },
    {
      "cell_type": "markdown",
      "metadata": {
        "id": "QjNrRTdoQlC5"
      },
      "source": [
        "### Build the Graph"
      ]
    },
    {
      "cell_type": "markdown",
      "metadata": {
        "id": "CDJ9DHVNQlC7"
      },
      "source": [
        "### Initialize model, reshape & normalize data"
      ]
    },
    {
      "cell_type": "code",
      "metadata": {
        "id": "pCDQs_g1QlC8"
      },
      "source": [
        "fashion_model=tf.keras.models.Sequential()\n",
        "fashion_model.add(tf.keras.layers.Reshape((784,),input_shape=(28,28)))\n",
        "fashion_model.add(tf.keras.layers.BatchNormalization())"
      ],
      "execution_count": 110,
      "outputs": []
    },
    {
      "cell_type": "code",
      "metadata": {
        "colab": {
          "base_uri": "https://localhost:8080/"
        },
        "id": "QjbZjwLPv5fV",
        "outputId": "06ea8117-9acb-40a9-c91d-fb22654d3ae9"
      },
      "source": [
        "fashion_model.summary()"
      ],
      "execution_count": 111,
      "outputs": [
        {
          "output_type": "stream",
          "text": [
            "Model: \"sequential_12\"\n",
            "_________________________________________________________________\n",
            "Layer (type)                 Output Shape              Param #   \n",
            "=================================================================\n",
            "reshape_1 (Reshape)          (None, 784)               0         \n",
            "_________________________________________________________________\n",
            "batch_normalization_1 (Batch (None, 784)               3136      \n",
            "=================================================================\n",
            "Total params: 3,136\n",
            "Trainable params: 1,568\n",
            "Non-trainable params: 1,568\n",
            "_________________________________________________________________\n"
          ],
          "name": "stdout"
        }
      ]
    },
    {
      "cell_type": "markdown",
      "metadata": {
        "id": "kBGwTTilQlDD"
      },
      "source": [
        "### Add two fully connected layers with 200 and 100 neurons respectively with `relu` activations. Add a dropout layer with `p=0.25`"
      ]
    },
    {
      "cell_type": "code",
      "metadata": {
        "id": "IXbfpfOzQlDF"
      },
      "source": [
        "fashion_model.add(tf.keras.layers.Dense(200,activation='relu'))\n",
        "fashion_model.add(tf.keras.layers.Dense(100,activation='relu'))\n",
        "\n",
        "fashion_model.add(tf.keras.layers.Dropout(0.25))"
      ],
      "execution_count": 112,
      "outputs": []
    },
    {
      "cell_type": "markdown",
      "metadata": {
        "id": "5I8f5otcQlDJ"
      },
      "source": [
        "### Add the output layer with a fully connected layer with 10 neurons with `softmax` activation. Use `categorical_crossentropy` loss and `adam` optimizer and train the network. And, report the final validation."
      ]
    },
    {
      "cell_type": "code",
      "metadata": {
        "id": "JZkvKymSd0Sr"
      },
      "source": [
        "fashion_model.add(tf.keras.layers.Dense(10,activation='softmax'))\n",
        "fashion_model.compile(optimizer='adam',loss='categorical_crossentropy',metrics=[\"accuracy\"])"
      ],
      "execution_count": 113,
      "outputs": []
    },
    {
      "cell_type": "code",
      "metadata": {
        "colab": {
          "base_uri": "https://localhost:8080/"
        },
        "id": "tO6BEaaZD15A",
        "outputId": "56fbd51b-29d9-40b6-b13f-60728854c115"
      },
      "source": [
        "fashion_model.summary()"
      ],
      "execution_count": 114,
      "outputs": [
        {
          "output_type": "stream",
          "text": [
            "Model: \"sequential_12\"\n",
            "_________________________________________________________________\n",
            "Layer (type)                 Output Shape              Param #   \n",
            "=================================================================\n",
            "reshape_1 (Reshape)          (None, 784)               0         \n",
            "_________________________________________________________________\n",
            "batch_normalization_1 (Batch (None, 784)               3136      \n",
            "_________________________________________________________________\n",
            "dense_14 (Dense)             (None, 200)               157000    \n",
            "_________________________________________________________________\n",
            "dense_15 (Dense)             (None, 100)               20100     \n",
            "_________________________________________________________________\n",
            "dropout_2 (Dropout)          (None, 100)               0         \n",
            "_________________________________________________________________\n",
            "dense_16 (Dense)             (None, 10)                1010      \n",
            "=================================================================\n",
            "Total params: 181,246\n",
            "Trainable params: 179,678\n",
            "Non-trainable params: 1,568\n",
            "_________________________________________________________________\n"
          ],
          "name": "stdout"
        }
      ]
    },
    {
      "cell_type": "code",
      "metadata": {
        "colab": {
          "base_uri": "https://localhost:8080/"
        },
        "id": "WSiMhJPpk3GO",
        "outputId": "1972e000-218f-4dfb-ac5b-3143e4ad490e"
      },
      "source": [
        "fashion_model.fit(trainX,trainY,epochs=10,batch_size=32,validation_data=(testX,testY))"
      ],
      "execution_count": 116,
      "outputs": [
        {
          "output_type": "stream",
          "text": [
            "Epoch 1/10\n",
            "1875/1875 [==============================] - 8s 4ms/step - loss: 0.5089 - accuracy: 0.8185 - val_loss: 0.4138 - val_accuracy: 0.8527\n",
            "Epoch 2/10\n",
            "1875/1875 [==============================] - 8s 4ms/step - loss: 0.3924 - accuracy: 0.8557 - val_loss: 0.3906 - val_accuracy: 0.8645\n",
            "Epoch 3/10\n",
            "1875/1875 [==============================] - 11s 6ms/step - loss: 0.3586 - accuracy: 0.8685 - val_loss: 0.3735 - val_accuracy: 0.8708\n",
            "Epoch 4/10\n",
            "1875/1875 [==============================] - 9s 5ms/step - loss: 0.3322 - accuracy: 0.8776 - val_loss: 0.3495 - val_accuracy: 0.8739\n",
            "Epoch 5/10\n",
            "1875/1875 [==============================] - 8s 4ms/step - loss: 0.3164 - accuracy: 0.8842 - val_loss: 0.3683 - val_accuracy: 0.8776\n",
            "Epoch 6/10\n",
            "1875/1875 [==============================] - 8s 4ms/step - loss: 0.3017 - accuracy: 0.8872 - val_loss: 0.3459 - val_accuracy: 0.8804\n",
            "Epoch 7/10\n",
            "1875/1875 [==============================] - 8s 4ms/step - loss: 0.2878 - accuracy: 0.8916 - val_loss: 0.3523 - val_accuracy: 0.8808\n",
            "Epoch 8/10\n",
            "1875/1875 [==============================] - 8s 4ms/step - loss: 0.2740 - accuracy: 0.8975 - val_loss: 0.3561 - val_accuracy: 0.8835\n",
            "Epoch 9/10\n",
            "1875/1875 [==============================] - 8s 4ms/step - loss: 0.2628 - accuracy: 0.9008 - val_loss: 0.3644 - val_accuracy: 0.8844\n",
            "Epoch 10/10\n",
            "1875/1875 [==============================] - 8s 4ms/step - loss: 0.2551 - accuracy: 0.9038 - val_loss: 0.3571 - val_accuracy: 0.8844\n"
          ],
          "name": "stdout"
        },
        {
          "output_type": "execute_result",
          "data": {
            "text/plain": [
              "<tensorflow.python.keras.callbacks.History at 0x7f77533adf98>"
            ]
          },
          "metadata": {
            "tags": []
          },
          "execution_count": 116
        }
      ]
    },
    {
      "cell_type": "code",
      "metadata": {
        "colab": {
          "base_uri": "https://localhost:8080/"
        },
        "id": "ekkGt1eY1ek-",
        "outputId": "d8085ee7-04bc-4e12-e099-030d709b8cff"
      },
      "source": [
        "test_loss,test_accuracy=fashion_model.evaluate(testX,testY)"
      ],
      "execution_count": 117,
      "outputs": [
        {
          "output_type": "stream",
          "text": [
            "313/313 [==============================] - 0s 1ms/step - loss: 0.3571 - accuracy: 0.8844\n"
          ],
          "name": "stdout"
        }
      ]
    },
    {
      "cell_type": "code",
      "metadata": {
        "id": "S6i1JUhB2VZO"
      },
      "source": [
        "pred=fashion_model.predict(testX)"
      ],
      "execution_count": 118,
      "outputs": []
    },
    {
      "cell_type": "code",
      "metadata": {
        "colab": {
          "base_uri": "https://localhost:8080/"
        },
        "id": "tmvRavo_2Zw6",
        "outputId": "fe526739-4e09-4ca8-96c1-8b1a2a7a6cdd"
      },
      "source": [
        "pred[0]"
      ],
      "execution_count": 119,
      "outputs": [
        {
          "output_type": "execute_result",
          "data": {
            "text/plain": [
              "array([1.1434783e-14, 3.6060232e-18, 2.8461254e-15, 3.6767063e-13,\n",
              "       1.6717536e-15, 3.1573734e-05, 7.3699666e-14, 2.2670876e-03,\n",
              "       2.0664368e-14, 9.9770135e-01], dtype=float32)"
            ]
          },
          "metadata": {
            "tags": []
          },
          "execution_count": 119
        }
      ]
    },
    {
      "cell_type": "code",
      "metadata": {
        "colab": {
          "base_uri": "https://localhost:8080/"
        },
        "id": "YH-tqn2m2eRO",
        "outputId": "c0ccd6a9-f663-4fc2-d3cb-bc8e7f7ba4a8"
      },
      "source": [
        "np.argmax(pred[0])"
      ],
      "execution_count": 120,
      "outputs": [
        {
          "output_type": "execute_result",
          "data": {
            "text/plain": [
              "9"
            ]
          },
          "metadata": {
            "tags": []
          },
          "execution_count": 120
        }
      ]
    },
    {
      "cell_type": "code",
      "metadata": {
        "colab": {
          "base_uri": "https://localhost:8080/"
        },
        "id": "joNNt3vR2jgo",
        "outputId": "20f916bb-254e-4e77-99a0-21ec65afb528"
      },
      "source": [
        "testY[0]"
      ],
      "execution_count": 121,
      "outputs": [
        {
          "output_type": "execute_result",
          "data": {
            "text/plain": [
              "array([0., 0., 0., 0., 0., 0., 0., 0., 0., 1.], dtype=float32)"
            ]
          },
          "metadata": {
            "tags": []
          },
          "execution_count": 121
        }
      ]
    },
    {
      "cell_type": "code",
      "metadata": {
        "colab": {
          "base_uri": "https://localhost:8080/",
          "height": 265
        },
        "id": "mB7RDCkK2nnW",
        "outputId": "3b4f720f-4fa1-4ed2-9824-fdccfcedf78d"
      },
      "source": [
        "import matplotlib.pyplot as plt\n",
        "plt.figure()\n",
        "plt.imshow(testX[0])\n",
        "plt.colorbar()\n",
        "plt.grid(False)\n",
        "plt.show()"
      ],
      "execution_count": 122,
      "outputs": [
        {
          "output_type": "display_data",
          "data": {
            "image/png": "[encoded data removed]",
            "text/plain": [
              "<Figure size 432x288 with 2 Axes>"
            ]
          },
          "metadata": {
            "tags": [],
            "needs_background": "light"
          }
        }
      ]
    }
  ]
}
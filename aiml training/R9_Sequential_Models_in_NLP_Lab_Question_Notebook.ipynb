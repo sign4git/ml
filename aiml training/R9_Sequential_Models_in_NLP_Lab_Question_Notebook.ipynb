{
 "cells": [
  {
   "cell_type": "markdown",
   "metadata": {
    "id": "PHYs6Z84xV8E"
   },
   "source": [
    "<img src=\"http://drive.google.com/uc?export=view&id=1tpOCamr9aWz817atPnyXus8w5gJ3mIts\" width=500px>\n",
    "\n",
    "Proprietary content. © Great Learning. All Rights Reserved. Unauthorized use or distribution prohibited."
   ]
  },
  {
   "cell_type": "markdown",
   "metadata": {
    "id": "FbwHYUXhxaqD"
   },
   "source": [
    "## Problem Statement\n",
    "\n"
   ]
  },
  {
   "cell_type": "markdown",
   "metadata": {
    "id": "5QQxgAmWzSye"
   },
   "source": [
    "# Samsung Internal SSD Reviews prediction\n",
    "\n",
    "Rating predictions using reviews written by users can be a useful problem statement in E-commerce domain and can be used for recommending similar products that may interest users. The dataset in this problem statement comprises reviews pertaining to Samsung Internal SSD product specifically SAMSUNG 850 EVO 2.5\" 250GB SATA III 3D NAND Internal Solid State Drive (SSD) MZ-75E250B/AM from the NewEgg Store website.  We will build a Natural Language processing model using Glove embeddings which is trained on reviews given by customers that have used the product and try to predict ratings given a new rating.\n",
    "\n",
    "\n",
    "\n",
    "\n",
    "### Objective:\n",
    "Given the reviews provided by customers, can you train a model that accurately predicts the corresponding rating of a review?"
   ]
  },
  {
   "cell_type": "markdown",
   "metadata": {
    "id": "CI7usguRzeox"
   },
   "source": [
    "### Package version\n",
    "\n",
    "- tensorflow==2.3.0\n",
    "- scikit-learn==0.22.2.post1\n",
    "- pandas==1.0.5\n",
    "- numpy==1.18.5\n",
    "- matplotlib==3.2.2\n",
    "- google==2.0.3"
   ]
  },
  {
   "cell_type": "markdown",
   "metadata": {
    "id": "aiMdVjHRH7NR"
   },
   "source": [
    "### Data Dictionary \n",
    "\n",
    "- review_title : The Title for the customer review\n",
    "\n",
    "- overall_review: The whole customer review details\n",
    "\n",
    "- pros: The customer opinion about the good things in this product\n",
    "\n",
    "- cons: The customer opinion about the bad things in this product\n",
    "\n",
    "- ownership_pariod: How long the customer owned this product\n",
    "\n",
    "- date: When the review was written\n",
    "\n",
    "- rating_stars: The product rating from 1 to 5\n",
    "\n",
    "- year: In which year the review was written\n",
    "\n",
    "- month: In which month the review was written\n",
    "\n",
    "- day: In which day the review was written"
   ]
  },
  {
   "cell_type": "markdown",
   "metadata": {
    "id": "cEn52o8jznJK"
   },
   "source": [
    "## Table of Content\n",
    "\n",
    "1. Import Libraries\n",
    "\n",
    "2. Setting options\n",
    "\n",
    "3. Read Data\n",
    "\n",
    "4. Data Analysis and Preparation\n",
    "\n",
    "5. Model Building\n",
    "\n",
    "6. Conclusion and Interpretation\n",
    "\n",
    "7. Food for thought"
   ]
  },
  {
   "cell_type": "markdown",
   "metadata": {
    "id": "x_Lom6cXzqn7"
   },
   "source": [
    "## 1. Import Libraries"
   ]
  },
  {
   "cell_type": "markdown",
   "metadata": {
    "id": "FZtVstH8zre2"
   },
   "source": [
    "Let us start by mounting the drive"
   ]
  },
  {
   "cell_type": "code",
   "execution_count": 197,
   "metadata": {
    "colab": {
     "base_uri": "https://localhost:8080/"
    },
    "id": "jSsg8JHkIh2k",
    "outputId": "0bc90194-c5b7-4481-b67c-770f4c8202c0"
   },
   "outputs": [
    {
     "name": "stdout",
     "output_type": "stream",
     "text": [
      "Drive already mounted at /content/drive; to attempt to forcibly remount, call drive.mount(\"/content/drive\", force_remount=True).\n"
     ]
    }
   ],
   "source": [
    "from google.colab import drive\n",
    "drive.mount('/content/drive')"
   ]
  },
  {
   "cell_type": "markdown",
   "metadata": {
    "id": "Gv-tZoFjz2WD"
   },
   "source": [
    "Let us check for the version of installed tensorflow."
   ]
  },
  {
   "cell_type": "code",
   "execution_count": 198,
   "metadata": {
    "colab": {
     "base_uri": "https://localhost:8080/"
    },
    "id": "eiuUVBuDzzn9",
    "outputId": "19eecfd6-c614-4c85-8893-48772f719bee"
   },
   "outputs": [
    {
     "name": "stdout",
     "output_type": "stream",
     "text": [
      "2.6.0\n"
     ]
    }
   ],
   "source": [
    "# used to supress display of warnings\n",
    "import warnings\n",
    "\n",
    "# os is used to provide a way of using operating system dependent functionality\n",
    "# We use it for setting working folder\n",
    "import os\n",
    "\n",
    "# Pandas is used for data manipulation and analysis\n",
    "import pandas as pd \n",
    "\n",
    "# Numpy is used for large, multi-dimensional arrays and matrices, along with mathematical operators on these arrays\n",
    "import numpy as np\n",
    "\n",
    "# Matplotlib is a data visualization library for 2D plots of arrays, built on NumPy arrays \n",
    "# and designed to work with the broader SciPy stack\n",
    "import matplotlib.pyplot as plt\n",
    "%matplotlib inline\n",
    "from matplotlib import pyplot\n",
    "\n",
    "# Seaborn is based on matplotlib, which aids in drawing attractive and informative statistical graphics.\n",
    "import seaborn as sns\n",
    "import tensorflow \n",
    "print(tensorflow.__version__)"
   ]
  },
  {
   "cell_type": "markdown",
   "metadata": {
    "id": "fze-aokU0ukH"
   },
   "source": [
    "## 2. Setting Options"
   ]
  },
  {
   "cell_type": "code",
   "execution_count": 199,
   "metadata": {
    "id": "T3FALggG0xXa"
   },
   "outputs": [],
   "source": [
    "# suppress display of warnings\n",
    "warnings.filterwarnings('ignore')\n",
    "\n",
    "# display all dataframe columns\n",
    "pd.options.display.max_columns = None\n",
    "\n",
    "# to set the limit to 3 decimals\n",
    "pd.options.display.float_format = '{:.7f}'.format\n",
    "\n",
    "# display all dataframe rows\n",
    "pd.options.display.max_rows = None"
   ]
  },
  {
   "cell_type": "markdown",
   "metadata": {
    "id": "ZT1P1WdK1vfZ"
   },
   "source": [
    "## 3. Read Data"
   ]
  },
  {
   "cell_type": "markdown",
   "metadata": {
    "id": "NnnvF56gfwav"
   },
   "source": [
    "### Read the dataset and check top 5 rows"
   ]
  },
  {
   "cell_type": "code",
   "execution_count": 200,
   "metadata": {
    "colab": {
     "base_uri": "https://localhost:8080/",
     "height": 573
    },
    "id": "imj2VbNpf383",
    "outputId": "960265ab-fce8-4dc6-bf1c-1825564586e0"
   },
   "outputs": [
    {
     "data": {
      "text/html": [
       "<div>\n",
       "<style scoped>\n",
       "    .dataframe tbody tr th:only-of-type {\n",
       "        vertical-align: middle;\n",
       "    }\n",
       "\n",
       "    .dataframe tbody tr th {\n",
       "        vertical-align: top;\n",
       "    }\n",
       "\n",
       "    .dataframe thead th {\n",
       "        text-align: right;\n",
       "    }\n",
       "</style>\n",
       "<table border=\"1\" class=\"dataframe\">\n",
       "  <thead>\n",
       "    <tr style=\"text-align: right;\">\n",
       "      <th></th>\n",
       "      <th>Unnamed: 0</th>\n",
       "      <th>review_title</th>\n",
       "      <th>overall_review</th>\n",
       "      <th>pros</th>\n",
       "      <th>cons</th>\n",
       "      <th>ownership_pariod</th>\n",
       "      <th>date</th>\n",
       "      <th>rating_stars</th>\n",
       "      <th>year</th>\n",
       "      <th>month</th>\n",
       "      <th>day</th>\n",
       "    </tr>\n",
       "  </thead>\n",
       "  <tbody>\n",
       "    <tr>\n",
       "      <th>0</th>\n",
       "      <td>0</td>\n",
       "      <td>solid</td>\n",
       "      <td>buy it you will not regret this purchase</td>\n",
       "      <td>reliable fast silent cool running drive highly...</td>\n",
       "      <td>NaN</td>\n",
       "      <td>years</td>\n",
       "      <td>2019-12-05 12:58:58</td>\n",
       "      <td>5</td>\n",
       "      <td>2019</td>\n",
       "      <td>12</td>\n",
       "      <td>5</td>\n",
       "    </tr>\n",
       "    <tr>\n",
       "      <th>1</th>\n",
       "      <td>1</td>\n",
       "      <td>nice drive for price even cheaper by todays costs</td>\n",
       "      <td>good drive price</td>\n",
       "      <td>been running almost constantly since when i pu...</td>\n",
       "      <td>NaN</td>\n",
       "      <td>years</td>\n",
       "      <td>2019-11-01 08:25:45</td>\n",
       "      <td>5</td>\n",
       "      <td>2019</td>\n",
       "      <td>11</td>\n",
       "      <td>1</td>\n",
       "    </tr>\n",
       "    <tr>\n",
       "      <th>2</th>\n",
       "      <td>2</td>\n",
       "      <td>perfect</td>\n",
       "      <td>used this drive as my boot drive and only data...</td>\n",
       "      <td>good value decently fast good longevity</td>\n",
       "      <td>none so far</td>\n",
       "      <td>years</td>\n",
       "      <td>2019-10-27 17:05:49</td>\n",
       "      <td>5</td>\n",
       "      <td>2019</td>\n",
       "      <td>10</td>\n",
       "      <td>27</td>\n",
       "    </tr>\n",
       "    <tr>\n",
       "      <th>3</th>\n",
       "      <td>3</td>\n",
       "      <td>very snappy</td>\n",
       "      <td>os boots quicker os menus pop up quicker gamin...</td>\n",
       "      <td>noticeable improvement in os performance over ...</td>\n",
       "      <td>samsung magician software causes some games to...</td>\n",
       "      <td>years</td>\n",
       "      <td>2019-10-24 18:29:43</td>\n",
       "      <td>5</td>\n",
       "      <td>2019</td>\n",
       "      <td>10</td>\n",
       "      <td>24</td>\n",
       "    </tr>\n",
       "    <tr>\n",
       "      <th>4</th>\n",
       "      <td>4</td>\n",
       "      <td>worth the hype</td>\n",
       "      <td>this was the sdd that everyone said to get and...</td>\n",
       "      <td>NaN</td>\n",
       "      <td>NaN</td>\n",
       "      <td>years</td>\n",
       "      <td>2019-09-11 19:21:03</td>\n",
       "      <td>5</td>\n",
       "      <td>2019</td>\n",
       "      <td>9</td>\n",
       "      <td>11</td>\n",
       "    </tr>\n",
       "  </tbody>\n",
       "</table>\n",
       "</div>"
      ],
      "text/plain": [
       "   Unnamed: 0                                       review_title  \\\n",
       "0           0                                              solid   \n",
       "1           1  nice drive for price even cheaper by todays costs   \n",
       "2           2                                            perfect   \n",
       "3           3                                        very snappy   \n",
       "4           4                                     worth the hype   \n",
       "\n",
       "                                      overall_review  \\\n",
       "0           buy it you will not regret this purchase   \n",
       "1                                   good drive price   \n",
       "2  used this drive as my boot drive and only data...   \n",
       "3  os boots quicker os menus pop up quicker gamin...   \n",
       "4  this was the sdd that everyone said to get and...   \n",
       "\n",
       "                                                pros  \\\n",
       "0  reliable fast silent cool running drive highly...   \n",
       "1  been running almost constantly since when i pu...   \n",
       "2            good value decently fast good longevity   \n",
       "3  noticeable improvement in os performance over ...   \n",
       "4                                                NaN   \n",
       "\n",
       "                                                cons ownership_pariod  \\\n",
       "0                                                NaN            years   \n",
       "1                                                NaN            years   \n",
       "2                                        none so far            years   \n",
       "3  samsung magician software causes some games to...            years   \n",
       "4                                                NaN            years   \n",
       "\n",
       "                  date  rating_stars  year  month  day  \n",
       "0  2019-12-05 12:58:58             5  2019     12    5  \n",
       "1  2019-11-01 08:25:45             5  2019     11    1  \n",
       "2  2019-10-27 17:05:49             5  2019     10   27  \n",
       "3  2019-10-24 18:29:43             5  2019     10   24  \n",
       "4  2019-09-11 19:21:03             5  2019      9   11  "
      ]
     },
     "execution_count": 200,
     "metadata": {},
     "output_type": "execute_result"
    }
   ],
   "source": [
    "data=pd.read_csv(\"/content/drive/MyDrive/Sequential NLP/ssd_reviews.csv\")\n",
    "data.head()"
   ]
  },
  {
   "cell_type": "markdown",
   "metadata": {
    "id": "RGluIi5Sf5Rp"
   },
   "source": [
    "### Check info of the dataset and write your findings"
   ]
  },
  {
   "cell_type": "code",
   "execution_count": 201,
   "metadata": {
    "colab": {
     "base_uri": "https://localhost:8080/"
    },
    "id": "Pldlew5Mf9gA",
    "outputId": "bfba5f3b-9905-4558-ac1e-f8ea18e8143d"
   },
   "outputs": [
    {
     "name": "stdout",
     "output_type": "stream",
     "text": [
      "<class 'pandas.core.frame.DataFrame'>\n",
      "RangeIndex: 2227 entries, 0 to 2226\n",
      "Data columns (total 11 columns):\n",
      " #   Column            Non-Null Count  Dtype \n",
      "---  ------            --------------  ----- \n",
      " 0   Unnamed: 0        2227 non-null   int64 \n",
      " 1   review_title      2131 non-null   object\n",
      " 2   overall_review    1448 non-null   object\n",
      " 3   pros              2205 non-null   object\n",
      " 4   cons              2216 non-null   object\n",
      " 5   ownership_pariod  2159 non-null   object\n",
      " 6   date              2227 non-null   object\n",
      " 7   rating_stars      2227 non-null   int64 \n",
      " 8   year              2227 non-null   int64 \n",
      " 9   month             2227 non-null   int64 \n",
      " 10  day               2227 non-null   int64 \n",
      "dtypes: int64(5), object(6)\n",
      "memory usage: 191.5+ KB\n"
     ]
    }
   ],
   "source": [
    "data.info()"
   ]
  },
  {
   "cell_type": "code",
   "execution_count": 202,
   "metadata": {
    "id": "BWFUgH6u40Y9"
   },
   "outputs": [],
   "source": [
    "#FINDING: There are some null values in some of the columns(review_title,overall_review,pros,cons,ownership_pariod)."
   ]
  },
  {
   "cell_type": "markdown",
   "metadata": {
    "id": "rED6DbDBKTjM"
   },
   "source": [
    "## 4.  Data Analysis and Preparation"
   ]
  },
  {
   "cell_type": "markdown",
   "metadata": {
    "id": "7VSqr0Seiy7g"
   },
   "source": [
    "### 4.1 Checking missing values\n",
    "#### Check for missing values (along with the percentage of null values)"
   ]
  },
  {
   "cell_type": "code",
   "execution_count": 203,
   "metadata": {
    "colab": {
     "base_uri": "https://localhost:8080/"
    },
    "id": "Il4yi7kdmnYQ",
    "outputId": "9cf5c13e-6378-44ca-f541-43e09e827895"
   },
   "outputs": [
    {
     "data": {
      "text/plain": [
       "Unnamed: 0            0\n",
       "review_title         96\n",
       "overall_review      779\n",
       "pros                 22\n",
       "cons                 11\n",
       "ownership_pariod     68\n",
       "date                  0\n",
       "rating_stars          0\n",
       "year                  0\n",
       "month                 0\n",
       "day                   0\n",
       "dtype: int64"
      ]
     },
     "execution_count": 203,
     "metadata": {},
     "output_type": "execute_result"
    }
   ],
   "source": [
    "data.isna().sum()"
   ]
  },
  {
   "cell_type": "code",
   "execution_count": 204,
   "metadata": {
    "colab": {
     "base_uri": "https://localhost:8080/"
    },
    "id": "59c1DP9f5R46",
    "outputId": "19220929-2db3-4011-ddb7-4b5b50fe2cfe"
   },
   "outputs": [
    {
     "data": {
      "text/plain": [
       "Unnamed: 0          0.0000000\n",
       "review_title        4.3107319\n",
       "overall_review     34.9797934\n",
       "pros                0.9878761\n",
       "cons                0.4939380\n",
       "ownership_pariod    3.0534351\n",
       "date                0.0000000\n",
       "rating_stars        0.0000000\n",
       "year                0.0000000\n",
       "month               0.0000000\n",
       "day                 0.0000000\n",
       "dtype: float64"
      ]
     },
     "execution_count": 204,
     "metadata": {},
     "output_type": "execute_result"
    }
   ],
   "source": [
    "data.isna().sum()*100/data.shape[0]"
   ]
  },
  {
   "cell_type": "markdown",
   "metadata": {
    "id": "SB40EGirmVjo"
   },
   "source": [
    "### 4.2 Analyzing the target column (Rating_stars)"
   ]
  },
  {
   "cell_type": "markdown",
   "metadata": {
    "id": "MoRvWVk-is6Y"
   },
   "source": [
    "#### Check the value counts of 'rating_stars' and write your comments"
   ]
  },
  {
   "cell_type": "code",
   "execution_count": 205,
   "metadata": {
    "colab": {
     "base_uri": "https://localhost:8080/"
    },
    "id": "LOVFp6Diiy0n",
    "outputId": "1bed05ed-4163-41f0-e663-884ade5557b7"
   },
   "outputs": [
    {
     "data": {
      "text/plain": [
       "5    1756\n",
       "4     181\n",
       "1     153\n",
       "3      77\n",
       "2      60\n",
       "Name: rating_stars, dtype: int64"
      ]
     },
     "execution_count": 205,
     "metadata": {},
     "output_type": "execute_result"
    }
   ],
   "source": [
    "data[\"rating_stars\"].value_counts()"
   ]
  },
  {
   "cell_type": "code",
   "execution_count": 206,
   "metadata": {
    "colab": {
     "base_uri": "https://localhost:8080/",
     "height": 279
    },
    "id": "Rhr2gnY2lc9h",
    "outputId": "4094951d-a865-4451-916e-a5206d017473"
   },
   "outputs": [
    {
     "data": {
      "text/plain": [
       "<matplotlib.axes._subplots.AxesSubplot at 0x7feca624ea50>"
      ]
     },
     "execution_count": 206,
     "metadata": {},
     "output_type": "execute_result"
    },
    {
     "data": {
      "image/png": "[encoded data removed]",
      "text/plain": [
       "<Figure size 432x288 with 1 Axes>"
      ]
     },
     "metadata": {
      "needs_background": "light"
     },
     "output_type": "display_data"
    }
   ],
   "source": [
    "data[\"rating_stars\"].value_counts().plot(kind=\"bar\")"
   ]
  },
  {
   "cell_type": "code",
   "execution_count": 207,
   "metadata": {
    "id": "0Ny97Lkd55Ua"
   },
   "outputs": [],
   "source": [
    "#FINDINGS: Clearly, the rating is biased towards the highest rating(5)"
   ]
  },
  {
   "cell_type": "markdown",
   "metadata": {
    "id": "ZL_BQlb5mE4O"
   },
   "source": [
    "### 4.3 Let's analyze other features like year, month, and day etc.\n",
    "#### Check value counts of 'year' and write your observations., Comment on the range of years, frequency of ratings in each year."
   ]
  },
  {
   "cell_type": "code",
   "execution_count": 208,
   "metadata": {
    "colab": {
     "base_uri": "https://localhost:8080/"
    },
    "id": "YAtEigKEmM-Z",
    "outputId": "23cc87dd-bb1c-452c-8fcb-45652803447b"
   },
   "outputs": [
    {
     "data": {
      "text/plain": [
       "2015    1006\n",
       "2016     605\n",
       "2017     370\n",
       "2018     187\n",
       "2019      46\n",
       "2014      13\n",
       "Name: year, dtype: int64"
      ]
     },
     "execution_count": 208,
     "metadata": {},
     "output_type": "execute_result"
    }
   ],
   "source": [
    "data[\"year\"].value_counts()"
   ]
  },
  {
   "cell_type": "code",
   "execution_count": 209,
   "metadata": {
    "colab": {
     "base_uri": "https://localhost:8080/",
     "height": 299
    },
    "id": "OM6Ro-OJ8BpW",
    "outputId": "c4c3945d-b0df-4e28-d89b-8ee3fd7aeb71"
   },
   "outputs": [
    {
     "data": {
      "text/plain": [
       "<matplotlib.axes._subplots.AxesSubplot at 0x7feca5fb6190>"
      ]
     },
     "execution_count": 209,
     "metadata": {},
     "output_type": "execute_result"
    },
    {
     "data": {
      "image/png": "[encoded data removed]",
      "text/plain": [
       "<Figure size 432x288 with 1 Axes>"
      ]
     },
     "metadata": {
      "needs_background": "light"
     },
     "output_type": "display_data"
    }
   ],
   "source": [
    "data[\"year\"].value_counts().plot(kind=\"bar\")"
   ]
  },
  {
   "cell_type": "code",
   "execution_count": 210,
   "metadata": {
    "id": "Lqlf7iGC8fXj"
   },
   "outputs": [],
   "source": [
    "#OBSERVATION: Reviews are between 2014 & 2019"
   ]
  },
  {
   "cell_type": "code",
   "execution_count": 211,
   "metadata": {
    "colab": {
     "base_uri": "https://localhost:8080/",
     "height": 927
    },
    "id": "cDObQtQT8oTd",
    "outputId": "cb132696-eba6-4fac-fc2e-178e870c150b"
   },
   "outputs": [
    {
     "data": {
      "text/html": [
       "<div>\n",
       "<style scoped>\n",
       "    .dataframe tbody tr th:only-of-type {\n",
       "        vertical-align: middle;\n",
       "    }\n",
       "\n",
       "    .dataframe tbody tr th {\n",
       "        vertical-align: top;\n",
       "    }\n",
       "\n",
       "    .dataframe thead th {\n",
       "        text-align: right;\n",
       "    }\n",
       "</style>\n",
       "<table border=\"1\" class=\"dataframe\">\n",
       "  <thead>\n",
       "    <tr style=\"text-align: right;\">\n",
       "      <th></th>\n",
       "      <th></th>\n",
       "      <th>rating_stars</th>\n",
       "    </tr>\n",
       "    <tr>\n",
       "      <th>year</th>\n",
       "      <th>rating_stars</th>\n",
       "      <th></th>\n",
       "    </tr>\n",
       "  </thead>\n",
       "  <tbody>\n",
       "    <tr>\n",
       "      <th rowspan=\"2\" valign=\"top\">2014</th>\n",
       "      <th>4</th>\n",
       "      <td>1</td>\n",
       "    </tr>\n",
       "    <tr>\n",
       "      <th>5</th>\n",
       "      <td>12</td>\n",
       "    </tr>\n",
       "    <tr>\n",
       "      <th rowspan=\"5\" valign=\"top\">2015</th>\n",
       "      <th>1</th>\n",
       "      <td>65</td>\n",
       "    </tr>\n",
       "    <tr>\n",
       "      <th>2</th>\n",
       "      <td>31</td>\n",
       "    </tr>\n",
       "    <tr>\n",
       "      <th>3</th>\n",
       "      <td>45</td>\n",
       "    </tr>\n",
       "    <tr>\n",
       "      <th>4</th>\n",
       "      <td>102</td>\n",
       "    </tr>\n",
       "    <tr>\n",
       "      <th>5</th>\n",
       "      <td>763</td>\n",
       "    </tr>\n",
       "    <tr>\n",
       "      <th rowspan=\"5\" valign=\"top\">2016</th>\n",
       "      <th>1</th>\n",
       "      <td>37</td>\n",
       "    </tr>\n",
       "    <tr>\n",
       "      <th>2</th>\n",
       "      <td>10</td>\n",
       "    </tr>\n",
       "    <tr>\n",
       "      <th>3</th>\n",
       "      <td>17</td>\n",
       "    </tr>\n",
       "    <tr>\n",
       "      <th>4</th>\n",
       "      <td>36</td>\n",
       "    </tr>\n",
       "    <tr>\n",
       "      <th>5</th>\n",
       "      <td>505</td>\n",
       "    </tr>\n",
       "    <tr>\n",
       "      <th rowspan=\"5\" valign=\"top\">2017</th>\n",
       "      <th>1</th>\n",
       "      <td>25</td>\n",
       "    </tr>\n",
       "    <tr>\n",
       "      <th>2</th>\n",
       "      <td>13</td>\n",
       "    </tr>\n",
       "    <tr>\n",
       "      <th>3</th>\n",
       "      <td>8</td>\n",
       "    </tr>\n",
       "    <tr>\n",
       "      <th>4</th>\n",
       "      <td>26</td>\n",
       "    </tr>\n",
       "    <tr>\n",
       "      <th>5</th>\n",
       "      <td>298</td>\n",
       "    </tr>\n",
       "    <tr>\n",
       "      <th rowspan=\"5\" valign=\"top\">2018</th>\n",
       "      <th>1</th>\n",
       "      <td>22</td>\n",
       "    </tr>\n",
       "    <tr>\n",
       "      <th>2</th>\n",
       "      <td>4</td>\n",
       "    </tr>\n",
       "    <tr>\n",
       "      <th>3</th>\n",
       "      <td>5</td>\n",
       "    </tr>\n",
       "    <tr>\n",
       "      <th>4</th>\n",
       "      <td>12</td>\n",
       "    </tr>\n",
       "    <tr>\n",
       "      <th>5</th>\n",
       "      <td>144</td>\n",
       "    </tr>\n",
       "    <tr>\n",
       "      <th rowspan=\"5\" valign=\"top\">2019</th>\n",
       "      <th>1</th>\n",
       "      <td>4</td>\n",
       "    </tr>\n",
       "    <tr>\n",
       "      <th>2</th>\n",
       "      <td>2</td>\n",
       "    </tr>\n",
       "    <tr>\n",
       "      <th>3</th>\n",
       "      <td>2</td>\n",
       "    </tr>\n",
       "    <tr>\n",
       "      <th>4</th>\n",
       "      <td>4</td>\n",
       "    </tr>\n",
       "    <tr>\n",
       "      <th>5</th>\n",
       "      <td>34</td>\n",
       "    </tr>\n",
       "  </tbody>\n",
       "</table>\n",
       "</div>"
      ],
      "text/plain": [
       "                   rating_stars\n",
       "year rating_stars              \n",
       "2014 4                        1\n",
       "     5                       12\n",
       "2015 1                       65\n",
       "     2                       31\n",
       "     3                       45\n",
       "     4                      102\n",
       "     5                      763\n",
       "2016 1                       37\n",
       "     2                       10\n",
       "     3                       17\n",
       "     4                       36\n",
       "     5                      505\n",
       "2017 1                       25\n",
       "     2                       13\n",
       "     3                        8\n",
       "     4                       26\n",
       "     5                      298\n",
       "2018 1                       22\n",
       "     2                        4\n",
       "     3                        5\n",
       "     4                       12\n",
       "     5                      144\n",
       "2019 1                        4\n",
       "     2                        2\n",
       "     3                        2\n",
       "     4                        4\n",
       "     5                       34"
      ]
     },
     "execution_count": 211,
     "metadata": {},
     "output_type": "execute_result"
    }
   ],
   "source": [
    "pd.DataFrame(data.groupby([\"year\",\"rating_stars\"])[\"rating_stars\"].count())"
   ]
  },
  {
   "cell_type": "code",
   "execution_count": 212,
   "metadata": {
    "colab": {
     "base_uri": "https://localhost:8080/",
     "height": 1000
    },
    "id": "LpkYS-mq_0R9",
    "outputId": "c942d200-376f-47b3-bcdb-bdfe534b6ca3"
   },
   "outputs": [
    {
     "data": {
      "text/html": [
       "<div>\n",
       "<style scoped>\n",
       "    .dataframe tbody tr th:only-of-type {\n",
       "        vertical-align: middle;\n",
       "    }\n",
       "\n",
       "    .dataframe tbody tr th {\n",
       "        vertical-align: top;\n",
       "    }\n",
       "\n",
       "    .dataframe thead th {\n",
       "        text-align: right;\n",
       "    }\n",
       "</style>\n",
       "<table border=\"1\" class=\"dataframe\">\n",
       "  <thead>\n",
       "    <tr style=\"text-align: right;\">\n",
       "      <th></th>\n",
       "      <th>day</th>\n",
       "    </tr>\n",
       "  </thead>\n",
       "  <tbody>\n",
       "    <tr>\n",
       "      <th>1</th>\n",
       "      <td>65</td>\n",
       "    </tr>\n",
       "    <tr>\n",
       "      <th>2</th>\n",
       "      <td>58</td>\n",
       "    </tr>\n",
       "    <tr>\n",
       "      <th>3</th>\n",
       "      <td>87</td>\n",
       "    </tr>\n",
       "    <tr>\n",
       "      <th>4</th>\n",
       "      <td>88</td>\n",
       "    </tr>\n",
       "    <tr>\n",
       "      <th>5</th>\n",
       "      <td>58</td>\n",
       "    </tr>\n",
       "    <tr>\n",
       "      <th>6</th>\n",
       "      <td>65</td>\n",
       "    </tr>\n",
       "    <tr>\n",
       "      <th>7</th>\n",
       "      <td>75</td>\n",
       "    </tr>\n",
       "    <tr>\n",
       "      <th>8</th>\n",
       "      <td>82</td>\n",
       "    </tr>\n",
       "    <tr>\n",
       "      <th>9</th>\n",
       "      <td>64</td>\n",
       "    </tr>\n",
       "    <tr>\n",
       "      <th>10</th>\n",
       "      <td>84</td>\n",
       "    </tr>\n",
       "    <tr>\n",
       "      <th>11</th>\n",
       "      <td>53</td>\n",
       "    </tr>\n",
       "    <tr>\n",
       "      <th>12</th>\n",
       "      <td>88</td>\n",
       "    </tr>\n",
       "    <tr>\n",
       "      <th>13</th>\n",
       "      <td>84</td>\n",
       "    </tr>\n",
       "    <tr>\n",
       "      <th>14</th>\n",
       "      <td>57</td>\n",
       "    </tr>\n",
       "    <tr>\n",
       "      <th>15</th>\n",
       "      <td>71</td>\n",
       "    </tr>\n",
       "    <tr>\n",
       "      <th>16</th>\n",
       "      <td>75</td>\n",
       "    </tr>\n",
       "    <tr>\n",
       "      <th>17</th>\n",
       "      <td>71</td>\n",
       "    </tr>\n",
       "    <tr>\n",
       "      <th>18</th>\n",
       "      <td>69</td>\n",
       "    </tr>\n",
       "    <tr>\n",
       "      <th>19</th>\n",
       "      <td>70</td>\n",
       "    </tr>\n",
       "    <tr>\n",
       "      <th>20</th>\n",
       "      <td>84</td>\n",
       "    </tr>\n",
       "    <tr>\n",
       "      <th>21</th>\n",
       "      <td>77</td>\n",
       "    </tr>\n",
       "    <tr>\n",
       "      <th>22</th>\n",
       "      <td>69</td>\n",
       "    </tr>\n",
       "    <tr>\n",
       "      <th>23</th>\n",
       "      <td>75</td>\n",
       "    </tr>\n",
       "    <tr>\n",
       "      <th>24</th>\n",
       "      <td>70</td>\n",
       "    </tr>\n",
       "    <tr>\n",
       "      <th>25</th>\n",
       "      <td>58</td>\n",
       "    </tr>\n",
       "    <tr>\n",
       "      <th>26</th>\n",
       "      <td>77</td>\n",
       "    </tr>\n",
       "    <tr>\n",
       "      <th>27</th>\n",
       "      <td>88</td>\n",
       "    </tr>\n",
       "    <tr>\n",
       "      <th>28</th>\n",
       "      <td>70</td>\n",
       "    </tr>\n",
       "    <tr>\n",
       "      <th>29</th>\n",
       "      <td>80</td>\n",
       "    </tr>\n",
       "    <tr>\n",
       "      <th>30</th>\n",
       "      <td>76</td>\n",
       "    </tr>\n",
       "    <tr>\n",
       "      <th>31</th>\n",
       "      <td>39</td>\n",
       "    </tr>\n",
       "  </tbody>\n",
       "</table>\n",
       "</div>"
      ],
      "text/plain": [
       "    day\n",
       "1    65\n",
       "2    58\n",
       "3    87\n",
       "4    88\n",
       "5    58\n",
       "6    65\n",
       "7    75\n",
       "8    82\n",
       "9    64\n",
       "10   84\n",
       "11   53\n",
       "12   88\n",
       "13   84\n",
       "14   57\n",
       "15   71\n",
       "16   75\n",
       "17   71\n",
       "18   69\n",
       "19   70\n",
       "20   84\n",
       "21   77\n",
       "22   69\n",
       "23   75\n",
       "24   70\n",
       "25   58\n",
       "26   77\n",
       "27   88\n",
       "28   70\n",
       "29   80\n",
       "30   76\n",
       "31   39"
      ]
     },
     "execution_count": 212,
     "metadata": {},
     "output_type": "execute_result"
    }
   ],
   "source": [
    "pd.DataFrame(data['day'].value_counts()).sort_index()"
   ]
  },
  {
   "cell_type": "markdown",
   "metadata": {
    "id": "M-pWwPhRmsAz"
   },
   "source": [
    "#### Check mean rating for each year and write your findings"
   ]
  },
  {
   "cell_type": "code",
   "execution_count": 213,
   "metadata": {
    "colab": {
     "base_uri": "https://localhost:8080/",
     "height": 269
    },
    "id": "sqWWhlLemwG8",
    "outputId": "539fabfb-4ade-4e7c-e174-c4674baaccc3"
   },
   "outputs": [
    {
     "data": {
      "text/html": [
       "<div>\n",
       "<style scoped>\n",
       "    .dataframe tbody tr th:only-of-type {\n",
       "        vertical-align: middle;\n",
       "    }\n",
       "\n",
       "    .dataframe tbody tr th {\n",
       "        vertical-align: top;\n",
       "    }\n",
       "\n",
       "    .dataframe thead th {\n",
       "        text-align: right;\n",
       "    }\n",
       "</style>\n",
       "<table border=\"1\" class=\"dataframe\">\n",
       "  <thead>\n",
       "    <tr style=\"text-align: right;\">\n",
       "      <th></th>\n",
       "      <th>rating_stars</th>\n",
       "    </tr>\n",
       "    <tr>\n",
       "      <th>year</th>\n",
       "      <th></th>\n",
       "    </tr>\n",
       "  </thead>\n",
       "  <tbody>\n",
       "    <tr>\n",
       "      <th>2014</th>\n",
       "      <td>4.9230769</td>\n",
       "    </tr>\n",
       "    <tr>\n",
       "      <th>2015</th>\n",
       "      <td>4.4582505</td>\n",
       "    </tr>\n",
       "    <tr>\n",
       "      <th>2016</th>\n",
       "      <td>4.5900826</td>\n",
       "    </tr>\n",
       "    <tr>\n",
       "      <th>2017</th>\n",
       "      <td>4.5108108</td>\n",
       "    </tr>\n",
       "    <tr>\n",
       "      <th>2018</th>\n",
       "      <td>4.3475936</td>\n",
       "    </tr>\n",
       "    <tr>\n",
       "      <th>2019</th>\n",
       "      <td>4.3478261</td>\n",
       "    </tr>\n",
       "  </tbody>\n",
       "</table>\n",
       "</div>"
      ],
      "text/plain": [
       "      rating_stars\n",
       "year              \n",
       "2014     4.9230769\n",
       "2015     4.4582505\n",
       "2016     4.5900826\n",
       "2017     4.5108108\n",
       "2018     4.3475936\n",
       "2019     4.3478261"
      ]
     },
     "execution_count": 213,
     "metadata": {},
     "output_type": "execute_result"
    }
   ],
   "source": [
    "pd.DataFrame(data.groupby([\"year\"]).mean()[\"rating_stars\"])"
   ]
  },
  {
   "cell_type": "code",
   "execution_count": 214,
   "metadata": {
    "colab": {
     "base_uri": "https://localhost:8080/",
     "height": 313
    },
    "id": "KM8MZ9HLBZqe",
    "outputId": "84dca026-639a-4940-fa18-03c6fc226b45"
   },
   "outputs": [
    {
     "data": {
      "text/plain": [
       "<matplotlib.axes._subplots.AxesSubplot at 0x7feca5f9ff90>"
      ]
     },
     "execution_count": 214,
     "metadata": {},
     "output_type": "execute_result"
    },
    {
     "data": {
      "image/png": "[encoded data removed]",
      "text/plain": [
       "<Figure size 432x288 with 1 Axes>"
      ]
     },
     "metadata": {
      "needs_background": "light"
     },
     "output_type": "display_data"
    }
   ],
   "source": [
    "data.groupby([\"year\"]).mean()[\"rating_stars\"].plot(kind=\"bar\")"
   ]
  },
  {
   "cell_type": "markdown",
   "metadata": {
    "id": "enoYYTDunPsT"
   },
   "source": [
    "#### Check value counts of 'month' and write your observations. Comment on the frequency of ratings and discuss if the rating count and mean rating is higher/low on certain months."
   ]
  },
  {
   "cell_type": "code",
   "execution_count": 215,
   "metadata": {
    "colab": {
     "base_uri": "https://localhost:8080/",
     "height": 425
    },
    "id": "T0yhG8s1pTZD",
    "outputId": "cc6d7aad-5065-4e98-b679-444b240de5df"
   },
   "outputs": [
    {
     "data": {
      "text/html": [
       "<div>\n",
       "<style scoped>\n",
       "    .dataframe tbody tr th:only-of-type {\n",
       "        vertical-align: middle;\n",
       "    }\n",
       "\n",
       "    .dataframe tbody tr th {\n",
       "        vertical-align: top;\n",
       "    }\n",
       "\n",
       "    .dataframe thead th {\n",
       "        text-align: right;\n",
       "    }\n",
       "</style>\n",
       "<table border=\"1\" class=\"dataframe\">\n",
       "  <thead>\n",
       "    <tr style=\"text-align: right;\">\n",
       "      <th></th>\n",
       "      <th>month</th>\n",
       "    </tr>\n",
       "  </thead>\n",
       "  <tbody>\n",
       "    <tr>\n",
       "      <th>1</th>\n",
       "      <td>221</td>\n",
       "    </tr>\n",
       "    <tr>\n",
       "      <th>2</th>\n",
       "      <td>239</td>\n",
       "    </tr>\n",
       "    <tr>\n",
       "      <th>3</th>\n",
       "      <td>234</td>\n",
       "    </tr>\n",
       "    <tr>\n",
       "      <th>4</th>\n",
       "      <td>205</td>\n",
       "    </tr>\n",
       "    <tr>\n",
       "      <th>5</th>\n",
       "      <td>158</td>\n",
       "    </tr>\n",
       "    <tr>\n",
       "      <th>6</th>\n",
       "      <td>140</td>\n",
       "    </tr>\n",
       "    <tr>\n",
       "      <th>7</th>\n",
       "      <td>144</td>\n",
       "    </tr>\n",
       "    <tr>\n",
       "      <th>8</th>\n",
       "      <td>119</td>\n",
       "    </tr>\n",
       "    <tr>\n",
       "      <th>9</th>\n",
       "      <td>157</td>\n",
       "    </tr>\n",
       "    <tr>\n",
       "      <th>10</th>\n",
       "      <td>141</td>\n",
       "    </tr>\n",
       "    <tr>\n",
       "      <th>11</th>\n",
       "      <td>191</td>\n",
       "    </tr>\n",
       "    <tr>\n",
       "      <th>12</th>\n",
       "      <td>278</td>\n",
       "    </tr>\n",
       "  </tbody>\n",
       "</table>\n",
       "</div>"
      ],
      "text/plain": [
       "    month\n",
       "1     221\n",
       "2     239\n",
       "3     234\n",
       "4     205\n",
       "5     158\n",
       "6     140\n",
       "7     144\n",
       "8     119\n",
       "9     157\n",
       "10    141\n",
       "11    191\n",
       "12    278"
      ]
     },
     "execution_count": 215,
     "metadata": {},
     "output_type": "execute_result"
    }
   ],
   "source": [
    "pd.DataFrame(data['month'].value_counts()).sort_index()"
   ]
  },
  {
   "cell_type": "code",
   "execution_count": 216,
   "metadata": {
    "colab": {
     "base_uri": "https://localhost:8080/"
    },
    "id": "GaKPXDCKBoxJ",
    "outputId": "c1574436-4274-4c5e-d677-418f57ddc065"
   },
   "outputs": [
    {
     "data": {
      "text/plain": [
       "1     221\n",
       "2     239\n",
       "3     234\n",
       "4     205\n",
       "5     158\n",
       "6     140\n",
       "7     144\n",
       "8     119\n",
       "9     157\n",
       "10    141\n",
       "11    191\n",
       "12    278\n",
       "Name: month, dtype: int64"
      ]
     },
     "execution_count": 216,
     "metadata": {},
     "output_type": "execute_result"
    }
   ],
   "source": [
    "data['month'].value_counts().sort_index()"
   ]
  },
  {
   "cell_type": "code",
   "execution_count": 217,
   "metadata": {
    "colab": {
     "base_uri": "https://localhost:8080/",
     "height": 285
    },
    "id": "ZYlPEii6Bxxl",
    "outputId": "00a0510d-67ef-45a5-be28-26737c83e118"
   },
   "outputs": [
    {
     "data": {
      "text/plain": [
       "<matplotlib.axes._subplots.AxesSubplot at 0x7feca5f15690>"
      ]
     },
     "execution_count": 217,
     "metadata": {},
     "output_type": "execute_result"
    },
    {
     "data": {
      "image/png": "[encoded data removed]",
      "text/plain": [
       "<Figure size 432x288 with 1 Axes>"
      ]
     },
     "metadata": {
      "needs_background": "light"
     },
     "output_type": "display_data"
    }
   ],
   "source": [
    "data['month'].value_counts().sort_index().plot(kind='bar')"
   ]
  },
  {
   "cell_type": "code",
   "execution_count": 218,
   "metadata": {
    "id": "tPPAiCYOCI31"
   },
   "outputs": [],
   "source": [
    "#FINDINGS: Number of ratings are relatively fewer between the months 5 and 10"
   ]
  },
  {
   "cell_type": "code",
   "execution_count": 219,
   "metadata": {
    "colab": {
     "base_uri": "https://localhost:8080/",
     "height": 1000
    },
    "id": "-RDXkWvACa1j",
    "outputId": "3af6a2fe-dee6-4e6f-9f33-ab596a858b5d"
   },
   "outputs": [
    {
     "data": {
      "text/html": [
       "<div>\n",
       "<style scoped>\n",
       "    .dataframe tbody tr th:only-of-type {\n",
       "        vertical-align: middle;\n",
       "    }\n",
       "\n",
       "    .dataframe tbody tr th {\n",
       "        vertical-align: top;\n",
       "    }\n",
       "\n",
       "    .dataframe thead th {\n",
       "        text-align: right;\n",
       "    }\n",
       "</style>\n",
       "<table border=\"1\" class=\"dataframe\">\n",
       "  <thead>\n",
       "    <tr style=\"text-align: right;\">\n",
       "      <th></th>\n",
       "      <th></th>\n",
       "      <th>rating_stars</th>\n",
       "    </tr>\n",
       "    <tr>\n",
       "      <th>month</th>\n",
       "      <th>rating_stars</th>\n",
       "      <th></th>\n",
       "    </tr>\n",
       "  </thead>\n",
       "  <tbody>\n",
       "    <tr>\n",
       "      <th rowspan=\"5\" valign=\"top\">1</th>\n",
       "      <th>1</th>\n",
       "      <td>6</td>\n",
       "    </tr>\n",
       "    <tr>\n",
       "      <th>2</th>\n",
       "      <td>7</td>\n",
       "    </tr>\n",
       "    <tr>\n",
       "      <th>3</th>\n",
       "      <td>8</td>\n",
       "    </tr>\n",
       "    <tr>\n",
       "      <th>4</th>\n",
       "      <td>18</td>\n",
       "    </tr>\n",
       "    <tr>\n",
       "      <th>5</th>\n",
       "      <td>182</td>\n",
       "    </tr>\n",
       "    <tr>\n",
       "      <th rowspan=\"5\" valign=\"top\">2</th>\n",
       "      <th>1</th>\n",
       "      <td>20</td>\n",
       "    </tr>\n",
       "    <tr>\n",
       "      <th>2</th>\n",
       "      <td>9</td>\n",
       "    </tr>\n",
       "    <tr>\n",
       "      <th>3</th>\n",
       "      <td>6</td>\n",
       "    </tr>\n",
       "    <tr>\n",
       "      <th>4</th>\n",
       "      <td>23</td>\n",
       "    </tr>\n",
       "    <tr>\n",
       "      <th>5</th>\n",
       "      <td>181</td>\n",
       "    </tr>\n",
       "    <tr>\n",
       "      <th rowspan=\"5\" valign=\"top\">3</th>\n",
       "      <th>1</th>\n",
       "      <td>12</td>\n",
       "    </tr>\n",
       "    <tr>\n",
       "      <th>2</th>\n",
       "      <td>3</td>\n",
       "    </tr>\n",
       "    <tr>\n",
       "      <th>3</th>\n",
       "      <td>9</td>\n",
       "    </tr>\n",
       "    <tr>\n",
       "      <th>4</th>\n",
       "      <td>16</td>\n",
       "    </tr>\n",
       "    <tr>\n",
       "      <th>5</th>\n",
       "      <td>194</td>\n",
       "    </tr>\n",
       "    <tr>\n",
       "      <th rowspan=\"5\" valign=\"top\">4</th>\n",
       "      <th>1</th>\n",
       "      <td>17</td>\n",
       "    </tr>\n",
       "    <tr>\n",
       "      <th>2</th>\n",
       "      <td>6</td>\n",
       "    </tr>\n",
       "    <tr>\n",
       "      <th>3</th>\n",
       "      <td>8</td>\n",
       "    </tr>\n",
       "    <tr>\n",
       "      <th>4</th>\n",
       "      <td>17</td>\n",
       "    </tr>\n",
       "    <tr>\n",
       "      <th>5</th>\n",
       "      <td>157</td>\n",
       "    </tr>\n",
       "    <tr>\n",
       "      <th rowspan=\"5\" valign=\"top\">5</th>\n",
       "      <th>1</th>\n",
       "      <td>13</td>\n",
       "    </tr>\n",
       "    <tr>\n",
       "      <th>2</th>\n",
       "      <td>5</td>\n",
       "    </tr>\n",
       "    <tr>\n",
       "      <th>3</th>\n",
       "      <td>4</td>\n",
       "    </tr>\n",
       "    <tr>\n",
       "      <th>4</th>\n",
       "      <td>12</td>\n",
       "    </tr>\n",
       "    <tr>\n",
       "      <th>5</th>\n",
       "      <td>124</td>\n",
       "    </tr>\n",
       "    <tr>\n",
       "      <th rowspan=\"5\" valign=\"top\">6</th>\n",
       "      <th>1</th>\n",
       "      <td>5</td>\n",
       "    </tr>\n",
       "    <tr>\n",
       "      <th>2</th>\n",
       "      <td>7</td>\n",
       "    </tr>\n",
       "    <tr>\n",
       "      <th>3</th>\n",
       "      <td>3</td>\n",
       "    </tr>\n",
       "    <tr>\n",
       "      <th>4</th>\n",
       "      <td>15</td>\n",
       "    </tr>\n",
       "    <tr>\n",
       "      <th>5</th>\n",
       "      <td>110</td>\n",
       "    </tr>\n",
       "    <tr>\n",
       "      <th rowspan=\"5\" valign=\"top\">7</th>\n",
       "      <th>1</th>\n",
       "      <td>4</td>\n",
       "    </tr>\n",
       "    <tr>\n",
       "      <th>2</th>\n",
       "      <td>1</td>\n",
       "    </tr>\n",
       "    <tr>\n",
       "      <th>3</th>\n",
       "      <td>4</td>\n",
       "    </tr>\n",
       "    <tr>\n",
       "      <th>4</th>\n",
       "      <td>7</td>\n",
       "    </tr>\n",
       "    <tr>\n",
       "      <th>5</th>\n",
       "      <td>128</td>\n",
       "    </tr>\n",
       "    <tr>\n",
       "      <th rowspan=\"4\" valign=\"top\">8</th>\n",
       "      <th>1</th>\n",
       "      <td>10</td>\n",
       "    </tr>\n",
       "    <tr>\n",
       "      <th>3</th>\n",
       "      <td>5</td>\n",
       "    </tr>\n",
       "    <tr>\n",
       "      <th>4</th>\n",
       "      <td>12</td>\n",
       "    </tr>\n",
       "    <tr>\n",
       "      <th>5</th>\n",
       "      <td>92</td>\n",
       "    </tr>\n",
       "    <tr>\n",
       "      <th rowspan=\"5\" valign=\"top\">9</th>\n",
       "      <th>1</th>\n",
       "      <td>5</td>\n",
       "    </tr>\n",
       "    <tr>\n",
       "      <th>2</th>\n",
       "      <td>6</td>\n",
       "    </tr>\n",
       "    <tr>\n",
       "      <th>3</th>\n",
       "      <td>9</td>\n",
       "    </tr>\n",
       "    <tr>\n",
       "      <th>4</th>\n",
       "      <td>16</td>\n",
       "    </tr>\n",
       "    <tr>\n",
       "      <th>5</th>\n",
       "      <td>121</td>\n",
       "    </tr>\n",
       "    <tr>\n",
       "      <th rowspan=\"5\" valign=\"top\">10</th>\n",
       "      <th>1</th>\n",
       "      <td>14</td>\n",
       "    </tr>\n",
       "    <tr>\n",
       "      <th>2</th>\n",
       "      <td>7</td>\n",
       "    </tr>\n",
       "    <tr>\n",
       "      <th>3</th>\n",
       "      <td>4</td>\n",
       "    </tr>\n",
       "    <tr>\n",
       "      <th>4</th>\n",
       "      <td>13</td>\n",
       "    </tr>\n",
       "    <tr>\n",
       "      <th>5</th>\n",
       "      <td>103</td>\n",
       "    </tr>\n",
       "    <tr>\n",
       "      <th rowspan=\"5\" valign=\"top\">11</th>\n",
       "      <th>1</th>\n",
       "      <td>18</td>\n",
       "    </tr>\n",
       "    <tr>\n",
       "      <th>2</th>\n",
       "      <td>3</td>\n",
       "    </tr>\n",
       "    <tr>\n",
       "      <th>3</th>\n",
       "      <td>6</td>\n",
       "    </tr>\n",
       "    <tr>\n",
       "      <th>4</th>\n",
       "      <td>10</td>\n",
       "    </tr>\n",
       "    <tr>\n",
       "      <th>5</th>\n",
       "      <td>154</td>\n",
       "    </tr>\n",
       "    <tr>\n",
       "      <th rowspan=\"5\" valign=\"top\">12</th>\n",
       "      <th>1</th>\n",
       "      <td>29</td>\n",
       "    </tr>\n",
       "    <tr>\n",
       "      <th>2</th>\n",
       "      <td>6</td>\n",
       "    </tr>\n",
       "    <tr>\n",
       "      <th>3</th>\n",
       "      <td>11</td>\n",
       "    </tr>\n",
       "    <tr>\n",
       "      <th>4</th>\n",
       "      <td>22</td>\n",
       "    </tr>\n",
       "    <tr>\n",
       "      <th>5</th>\n",
       "      <td>210</td>\n",
       "    </tr>\n",
       "  </tbody>\n",
       "</table>\n",
       "</div>"
      ],
      "text/plain": [
       "                    rating_stars\n",
       "month rating_stars              \n",
       "1     1                        6\n",
       "      2                        7\n",
       "      3                        8\n",
       "      4                       18\n",
       "      5                      182\n",
       "2     1                       20\n",
       "      2                        9\n",
       "      3                        6\n",
       "      4                       23\n",
       "      5                      181\n",
       "3     1                       12\n",
       "      2                        3\n",
       "      3                        9\n",
       "      4                       16\n",
       "      5                      194\n",
       "4     1                       17\n",
       "      2                        6\n",
       "      3                        8\n",
       "      4                       17\n",
       "      5                      157\n",
       "5     1                       13\n",
       "      2                        5\n",
       "      3                        4\n",
       "      4                       12\n",
       "      5                      124\n",
       "6     1                        5\n",
       "      2                        7\n",
       "      3                        3\n",
       "      4                       15\n",
       "      5                      110\n",
       "7     1                        4\n",
       "      2                        1\n",
       "      3                        4\n",
       "      4                        7\n",
       "      5                      128\n",
       "8     1                       10\n",
       "      3                        5\n",
       "      4                       12\n",
       "      5                       92\n",
       "9     1                        5\n",
       "      2                        6\n",
       "      3                        9\n",
       "      4                       16\n",
       "      5                      121\n",
       "10    1                       14\n",
       "      2                        7\n",
       "      3                        4\n",
       "      4                       13\n",
       "      5                      103\n",
       "11    1                       18\n",
       "      2                        3\n",
       "      3                        6\n",
       "      4                       10\n",
       "      5                      154\n",
       "12    1                       29\n",
       "      2                        6\n",
       "      3                       11\n",
       "      4                       22\n",
       "      5                      210"
      ]
     },
     "execution_count": 219,
     "metadata": {},
     "output_type": "execute_result"
    }
   ],
   "source": [
    "pd.DataFrame(data.groupby([\"month\",\"rating_stars\"])[\"rating_stars\"].count())"
   ]
  },
  {
   "cell_type": "code",
   "execution_count": 220,
   "metadata": {
    "colab": {
     "base_uri": "https://localhost:8080/",
     "height": 457
    },
    "id": "JGiEhBbmCggI",
    "outputId": "88f054aa-6d90-46ee-e276-6ebfca644ce9"
   },
   "outputs": [
    {
     "data": {
      "text/html": [
       "<div>\n",
       "<style scoped>\n",
       "    .dataframe tbody tr th:only-of-type {\n",
       "        vertical-align: middle;\n",
       "    }\n",
       "\n",
       "    .dataframe tbody tr th {\n",
       "        vertical-align: top;\n",
       "    }\n",
       "\n",
       "    .dataframe thead th {\n",
       "        text-align: right;\n",
       "    }\n",
       "</style>\n",
       "<table border=\"1\" class=\"dataframe\">\n",
       "  <thead>\n",
       "    <tr style=\"text-align: right;\">\n",
       "      <th>rating_stars</th>\n",
       "      <th>1</th>\n",
       "      <th>2</th>\n",
       "      <th>3</th>\n",
       "      <th>4</th>\n",
       "      <th>5</th>\n",
       "    </tr>\n",
       "    <tr>\n",
       "      <th>month</th>\n",
       "      <th></th>\n",
       "      <th></th>\n",
       "      <th></th>\n",
       "      <th></th>\n",
       "      <th></th>\n",
       "    </tr>\n",
       "  </thead>\n",
       "  <tbody>\n",
       "    <tr>\n",
       "      <th>1</th>\n",
       "      <td>6</td>\n",
       "      <td>7</td>\n",
       "      <td>8</td>\n",
       "      <td>18</td>\n",
       "      <td>182</td>\n",
       "    </tr>\n",
       "    <tr>\n",
       "      <th>2</th>\n",
       "      <td>20</td>\n",
       "      <td>9</td>\n",
       "      <td>6</td>\n",
       "      <td>23</td>\n",
       "      <td>181</td>\n",
       "    </tr>\n",
       "    <tr>\n",
       "      <th>3</th>\n",
       "      <td>12</td>\n",
       "      <td>3</td>\n",
       "      <td>9</td>\n",
       "      <td>16</td>\n",
       "      <td>194</td>\n",
       "    </tr>\n",
       "    <tr>\n",
       "      <th>4</th>\n",
       "      <td>17</td>\n",
       "      <td>6</td>\n",
       "      <td>8</td>\n",
       "      <td>17</td>\n",
       "      <td>157</td>\n",
       "    </tr>\n",
       "    <tr>\n",
       "      <th>5</th>\n",
       "      <td>13</td>\n",
       "      <td>5</td>\n",
       "      <td>4</td>\n",
       "      <td>12</td>\n",
       "      <td>124</td>\n",
       "    </tr>\n",
       "    <tr>\n",
       "      <th>6</th>\n",
       "      <td>5</td>\n",
       "      <td>7</td>\n",
       "      <td>3</td>\n",
       "      <td>15</td>\n",
       "      <td>110</td>\n",
       "    </tr>\n",
       "    <tr>\n",
       "      <th>7</th>\n",
       "      <td>4</td>\n",
       "      <td>1</td>\n",
       "      <td>4</td>\n",
       "      <td>7</td>\n",
       "      <td>128</td>\n",
       "    </tr>\n",
       "    <tr>\n",
       "      <th>8</th>\n",
       "      <td>10</td>\n",
       "      <td>0</td>\n",
       "      <td>5</td>\n",
       "      <td>12</td>\n",
       "      <td>92</td>\n",
       "    </tr>\n",
       "    <tr>\n",
       "      <th>9</th>\n",
       "      <td>5</td>\n",
       "      <td>6</td>\n",
       "      <td>9</td>\n",
       "      <td>16</td>\n",
       "      <td>121</td>\n",
       "    </tr>\n",
       "    <tr>\n",
       "      <th>10</th>\n",
       "      <td>14</td>\n",
       "      <td>7</td>\n",
       "      <td>4</td>\n",
       "      <td>13</td>\n",
       "      <td>103</td>\n",
       "    </tr>\n",
       "    <tr>\n",
       "      <th>11</th>\n",
       "      <td>18</td>\n",
       "      <td>3</td>\n",
       "      <td>6</td>\n",
       "      <td>10</td>\n",
       "      <td>154</td>\n",
       "    </tr>\n",
       "    <tr>\n",
       "      <th>12</th>\n",
       "      <td>29</td>\n",
       "      <td>6</td>\n",
       "      <td>11</td>\n",
       "      <td>22</td>\n",
       "      <td>210</td>\n",
       "    </tr>\n",
       "  </tbody>\n",
       "</table>\n",
       "</div>"
      ],
      "text/plain": [
       "rating_stars   1  2   3   4    5\n",
       "month                           \n",
       "1              6  7   8  18  182\n",
       "2             20  9   6  23  181\n",
       "3             12  3   9  16  194\n",
       "4             17  6   8  17  157\n",
       "5             13  5   4  12  124\n",
       "6              5  7   3  15  110\n",
       "7              4  1   4   7  128\n",
       "8             10  0   5  12   92\n",
       "9              5  6   9  16  121\n",
       "10            14  7   4  13  103\n",
       "11            18  3   6  10  154\n",
       "12            29  6  11  22  210"
      ]
     },
     "execution_count": 220,
     "metadata": {},
     "output_type": "execute_result"
    }
   ],
   "source": [
    "pd.crosstab(data['month'],data['rating_stars'])"
   ]
  },
  {
   "cell_type": "code",
   "execution_count": 221,
   "metadata": {
    "id": "rVkI21Y9Cxut"
   },
   "outputs": [],
   "source": [
    "#FINDINGS: There are more ratings with 5. And the ratings for 2 & 3 are lower than 1, 4& 5"
   ]
  },
  {
   "cell_type": "code",
   "execution_count": 222,
   "metadata": {
    "colab": {
     "base_uri": "https://localhost:8080/",
     "height": 457
    },
    "id": "bNmiDTQeDDmI",
    "outputId": "9aee133d-7c8b-4637-c72d-b87879d1648e"
   },
   "outputs": [
    {
     "data": {
      "text/html": [
       "<div>\n",
       "<style scoped>\n",
       "    .dataframe tbody tr th:only-of-type {\n",
       "        vertical-align: middle;\n",
       "    }\n",
       "\n",
       "    .dataframe tbody tr th {\n",
       "        vertical-align: top;\n",
       "    }\n",
       "\n",
       "    .dataframe thead th {\n",
       "        text-align: right;\n",
       "    }\n",
       "</style>\n",
       "<table border=\"1\" class=\"dataframe\">\n",
       "  <thead>\n",
       "    <tr style=\"text-align: right;\">\n",
       "      <th></th>\n",
       "      <th>rating_stars</th>\n",
       "    </tr>\n",
       "    <tr>\n",
       "      <th>month</th>\n",
       "      <th></th>\n",
       "    </tr>\n",
       "  </thead>\n",
       "  <tbody>\n",
       "    <tr>\n",
       "      <th>1</th>\n",
       "      <td>4.6425339</td>\n",
       "    </tr>\n",
       "    <tr>\n",
       "      <th>2</th>\n",
       "      <td>4.4058577</td>\n",
       "    </tr>\n",
       "    <tr>\n",
       "      <th>3</th>\n",
       "      <td>4.6111111</td>\n",
       "    </tr>\n",
       "    <tr>\n",
       "      <th>4</th>\n",
       "      <td>4.4195122</td>\n",
       "    </tr>\n",
       "    <tr>\n",
       "      <th>5</th>\n",
       "      <td>4.4493671</td>\n",
       "    </tr>\n",
       "    <tr>\n",
       "      <th>6</th>\n",
       "      <td>4.5571429</td>\n",
       "    </tr>\n",
       "    <tr>\n",
       "      <th>7</th>\n",
       "      <td>4.7638889</td>\n",
       "    </tr>\n",
       "    <tr>\n",
       "      <th>8</th>\n",
       "      <td>4.4789916</td>\n",
       "    </tr>\n",
       "    <tr>\n",
       "      <th>9</th>\n",
       "      <td>4.5414013</td>\n",
       "    </tr>\n",
       "    <tr>\n",
       "      <th>10</th>\n",
       "      <td>4.3049645</td>\n",
       "    </tr>\n",
       "    <tr>\n",
       "      <th>11</th>\n",
       "      <td>4.4607330</td>\n",
       "    </tr>\n",
       "    <tr>\n",
       "      <th>12</th>\n",
       "      <td>4.3597122</td>\n",
       "    </tr>\n",
       "  </tbody>\n",
       "</table>\n",
       "</div>"
      ],
      "text/plain": [
       "       rating_stars\n",
       "month              \n",
       "1         4.6425339\n",
       "2         4.4058577\n",
       "3         4.6111111\n",
       "4         4.4195122\n",
       "5         4.4493671\n",
       "6         4.5571429\n",
       "7         4.7638889\n",
       "8         4.4789916\n",
       "9         4.5414013\n",
       "10        4.3049645\n",
       "11        4.4607330\n",
       "12        4.3597122"
      ]
     },
     "execution_count": 222,
     "metadata": {},
     "output_type": "execute_result"
    }
   ],
   "source": [
    "pd.DataFrame(data.groupby('month').mean()['rating_stars'])"
   ]
  },
  {
   "cell_type": "code",
   "execution_count": 223,
   "metadata": {
    "colab": {
     "base_uri": "https://localhost:8080/",
     "height": 303
    },
    "id": "vRGsU9BoDMiP",
    "outputId": "a3be23e0-5ab5-4381-f06f-9a7e98edc1a9"
   },
   "outputs": [
    {
     "data": {
      "text/plain": [
       "<matplotlib.axes._subplots.AxesSubplot at 0x7feca5e51750>"
      ]
     },
     "execution_count": 223,
     "metadata": {},
     "output_type": "execute_result"
    },
    {
     "data": {
      "image/png": "[encoded data removed]",
      "text/plain": [
       "<Figure size 432x288 with 1 Axes>"
      ]
     },
     "metadata": {
      "needs_background": "light"
     },
     "output_type": "display_data"
    }
   ],
   "source": [
    "data.groupby('month').mean()['rating_stars'].plot(kind=\"bar\")"
   ]
  },
  {
   "cell_type": "markdown",
   "metadata": {
    "id": "lWofLqeJpTtI"
   },
   "source": [
    "### 4.4 Combine text features\n",
    "#### Drop all the numerical features ['Unnamed: 0','date', 'year', 'month', 'day', 'ownership_pariod'] and ['rating_stars']"
   ]
  },
  {
   "cell_type": "code",
   "execution_count": 224,
   "metadata": {
    "colab": {
     "base_uri": "https://localhost:8080/",
     "height": 293
    },
    "id": "8VAMgNJkqn0h",
    "outputId": "bbf84eac-ae8c-4f5a-e8ae-6d7e1e850042"
   },
   "outputs": [
    {
     "data": {
      "text/html": [
       "<div>\n",
       "<style scoped>\n",
       "    .dataframe tbody tr th:only-of-type {\n",
       "        vertical-align: middle;\n",
       "    }\n",
       "\n",
       "    .dataframe tbody tr th {\n",
       "        vertical-align: top;\n",
       "    }\n",
       "\n",
       "    .dataframe thead th {\n",
       "        text-align: right;\n",
       "    }\n",
       "</style>\n",
       "<table border=\"1\" class=\"dataframe\">\n",
       "  <thead>\n",
       "    <tr style=\"text-align: right;\">\n",
       "      <th></th>\n",
       "      <th>review_title</th>\n",
       "      <th>overall_review</th>\n",
       "      <th>pros</th>\n",
       "      <th>cons</th>\n",
       "    </tr>\n",
       "  </thead>\n",
       "  <tbody>\n",
       "    <tr>\n",
       "      <th>0</th>\n",
       "      <td>solid</td>\n",
       "      <td>buy it you will not regret this purchase</td>\n",
       "      <td>reliable fast silent cool running drive highly...</td>\n",
       "      <td>NaN</td>\n",
       "    </tr>\n",
       "    <tr>\n",
       "      <th>1</th>\n",
       "      <td>nice drive for price even cheaper by todays costs</td>\n",
       "      <td>good drive price</td>\n",
       "      <td>been running almost constantly since when i pu...</td>\n",
       "      <td>NaN</td>\n",
       "    </tr>\n",
       "    <tr>\n",
       "      <th>2</th>\n",
       "      <td>perfect</td>\n",
       "      <td>used this drive as my boot drive and only data...</td>\n",
       "      <td>good value decently fast good longevity</td>\n",
       "      <td>none so far</td>\n",
       "    </tr>\n",
       "    <tr>\n",
       "      <th>3</th>\n",
       "      <td>very snappy</td>\n",
       "      <td>os boots quicker os menus pop up quicker gamin...</td>\n",
       "      <td>noticeable improvement in os performance over ...</td>\n",
       "      <td>samsung magician software causes some games to...</td>\n",
       "    </tr>\n",
       "    <tr>\n",
       "      <th>4</th>\n",
       "      <td>worth the hype</td>\n",
       "      <td>this was the sdd that everyone said to get and...</td>\n",
       "      <td>NaN</td>\n",
       "      <td>NaN</td>\n",
       "    </tr>\n",
       "  </tbody>\n",
       "</table>\n",
       "</div>"
      ],
      "text/plain": [
       "                                        review_title  \\\n",
       "0                                              solid   \n",
       "1  nice drive for price even cheaper by todays costs   \n",
       "2                                            perfect   \n",
       "3                                        very snappy   \n",
       "4                                     worth the hype   \n",
       "\n",
       "                                      overall_review  \\\n",
       "0           buy it you will not regret this purchase   \n",
       "1                                   good drive price   \n",
       "2  used this drive as my boot drive and only data...   \n",
       "3  os boots quicker os menus pop up quicker gamin...   \n",
       "4  this was the sdd that everyone said to get and...   \n",
       "\n",
       "                                                pros  \\\n",
       "0  reliable fast silent cool running drive highly...   \n",
       "1  been running almost constantly since when i pu...   \n",
       "2            good value decently fast good longevity   \n",
       "3  noticeable improvement in os performance over ...   \n",
       "4                                                NaN   \n",
       "\n",
       "                                                cons  \n",
       "0                                                NaN  \n",
       "1                                                NaN  \n",
       "2                                        none so far  \n",
       "3  samsung magician software causes some games to...  \n",
       "4                                                NaN  "
      ]
     },
     "execution_count": 224,
     "metadata": {},
     "output_type": "execute_result"
    }
   ],
   "source": [
    "text_data=data.drop(columns=['Unnamed: 0','date', 'year', 'month', 'day', 'ownership_pariod','rating_stars'])\n",
    "text_data.head()"
   ]
  },
  {
   "cell_type": "code",
   "execution_count": 225,
   "metadata": {
    "colab": {
     "base_uri": "https://localhost:8080/"
    },
    "id": "jFs7C5QRE9XZ",
    "outputId": "6a3140cb-909d-4cc9-b52c-0e0e4766bb0e"
   },
   "outputs": [
    {
     "data": {
      "text/plain": [
       "(2227, 4)"
      ]
     },
     "execution_count": 225,
     "metadata": {},
     "output_type": "execute_result"
    }
   ],
   "source": [
    "text_data.shape"
   ]
  },
  {
   "cell_type": "markdown",
   "metadata": {
    "id": "HjRp0SgEqn9Z"
   },
   "source": [
    "#### Replace null values (NaN) with blanks"
   ]
  },
  {
   "cell_type": "code",
   "execution_count": 226,
   "metadata": {
    "colab": {
     "base_uri": "https://localhost:8080/"
    },
    "id": "CZr_sR_Tqs1x",
    "outputId": "006292b8-d753-4aa7-8e50-76f5ed0be9c4"
   },
   "outputs": [
    {
     "data": {
      "text/plain": [
       "review_title       96\n",
       "overall_review    779\n",
       "pros               22\n",
       "cons               11\n",
       "dtype: int64"
      ]
     },
     "execution_count": 226,
     "metadata": {},
     "output_type": "execute_result"
    }
   ],
   "source": [
    "text_data.isna().sum()"
   ]
  },
  {
   "cell_type": "code",
   "execution_count": 227,
   "metadata": {
    "id": "YAKmvdNzFP4w"
   },
   "outputs": [],
   "source": [
    "text_data.fillna(\" \",inplace=True)"
   ]
  },
  {
   "cell_type": "code",
   "execution_count": 228,
   "metadata": {
    "colab": {
     "base_uri": "https://localhost:8080/"
    },
    "id": "jnCepNpIFUdo",
    "outputId": "8a9ab67b-7a31-49b9-fc8a-ad4592bb8011"
   },
   "outputs": [
    {
     "data": {
      "text/plain": [
       "review_title      0\n",
       "overall_review    0\n",
       "pros              0\n",
       "cons              0\n",
       "dtype: int64"
      ]
     },
     "execution_count": 228,
     "metadata": {},
     "output_type": "execute_result"
    }
   ],
   "source": [
    "text_data.isna().sum()"
   ]
  },
  {
   "cell_type": "markdown",
   "metadata": {
    "id": "ykjSdW1tqs-z"
   },
   "source": [
    "#### Join all text items in a row that have a space in between and Add a new column (with the newly created combined reviews) to the dataframe."
   ]
  },
  {
   "cell_type": "code",
   "execution_count": 229,
   "metadata": {
    "id": "9fJpSb-ZuSTr"
   },
   "outputs": [],
   "source": [
    "transformed_data = text_data.apply(lambda x :\"\".join(x),axis =1)"
   ]
  },
  {
   "cell_type": "code",
   "execution_count": 230,
   "metadata": {
    "colab": {
     "base_uri": "https://localhost:8080/",
     "height": 206
    },
    "id": "0VHzRd1gq1lY",
    "outputId": "e0da388f-96b6-402d-aa4c-9f0b4b471c1e"
   },
   "outputs": [
    {
     "data": {
      "text/html": [
       "<div>\n",
       "<style scoped>\n",
       "    .dataframe tbody tr th:only-of-type {\n",
       "        vertical-align: middle;\n",
       "    }\n",
       "\n",
       "    .dataframe tbody tr th {\n",
       "        vertical-align: top;\n",
       "    }\n",
       "\n",
       "    .dataframe thead th {\n",
       "        text-align: right;\n",
       "    }\n",
       "</style>\n",
       "<table border=\"1\" class=\"dataframe\">\n",
       "  <thead>\n",
       "    <tr style=\"text-align: right;\">\n",
       "      <th></th>\n",
       "      <th>combined_review</th>\n",
       "    </tr>\n",
       "  </thead>\n",
       "  <tbody>\n",
       "    <tr>\n",
       "      <th>0</th>\n",
       "      <td>solidbuy it you will not regret this purchaser...</td>\n",
       "    </tr>\n",
       "    <tr>\n",
       "      <th>1</th>\n",
       "      <td>nice drive for price even cheaper by todays co...</td>\n",
       "    </tr>\n",
       "    <tr>\n",
       "      <th>2</th>\n",
       "      <td>perfectused this drive as my boot drive and on...</td>\n",
       "    </tr>\n",
       "    <tr>\n",
       "      <th>3</th>\n",
       "      <td>very snappyos boots quicker os menus pop up qu...</td>\n",
       "    </tr>\n",
       "    <tr>\n",
       "      <th>4</th>\n",
       "      <td>worth the hypethis was the sdd that everyone s...</td>\n",
       "    </tr>\n",
       "  </tbody>\n",
       "</table>\n",
       "</div>"
      ],
      "text/plain": [
       "                                     combined_review\n",
       "0  solidbuy it you will not regret this purchaser...\n",
       "1  nice drive for price even cheaper by todays co...\n",
       "2  perfectused this drive as my boot drive and on...\n",
       "3  very snappyos boots quicker os menus pop up qu...\n",
       "4  worth the hypethis was the sdd that everyone s..."
      ]
     },
     "execution_count": 230,
     "metadata": {},
     "output_type": "execute_result"
    }
   ],
   "source": [
    "combined_data = pd.DataFrame(transformed_data,columns=['combined_review'])\n",
    "combined_data.head()"
   ]
  },
  {
   "cell_type": "markdown",
   "metadata": {
    "id": "QLnNIq2iJQBn"
   },
   "source": [
    "#### Check if there are any null values and drop NaN values if any"
   ]
  },
  {
   "cell_type": "code",
   "execution_count": 231,
   "metadata": {
    "colab": {
     "base_uri": "https://localhost:8080/"
    },
    "id": "QOf3hTpcszKC",
    "outputId": "d5748f29-e580-426d-fda9-724425cb79c3"
   },
   "outputs": [
    {
     "data": {
      "text/plain": [
       "combined_review    0\n",
       "dtype: int64"
      ]
     },
     "execution_count": 231,
     "metadata": {},
     "output_type": "execute_result"
    }
   ],
   "source": [
    "combined_data.isna().sum()"
   ]
  },
  {
   "cell_type": "markdown",
   "metadata": {
    "id": "qS5NmyvzHMws"
   },
   "source": [
    "#### Calculate the length of each review and add it to the dataframe"
   ]
  },
  {
   "cell_type": "code",
   "execution_count": 232,
   "metadata": {
    "colab": {
     "base_uri": "https://localhost:8080/",
     "height": 206
    },
    "id": "TdMWM0jBHNzO",
    "outputId": "e85e6dc5-019b-4de5-d640-7704d8b10787"
   },
   "outputs": [
    {
     "data": {
      "text/html": [
       "<div>\n",
       "<style scoped>\n",
       "    .dataframe tbody tr th:only-of-type {\n",
       "        vertical-align: middle;\n",
       "    }\n",
       "\n",
       "    .dataframe tbody tr th {\n",
       "        vertical-align: top;\n",
       "    }\n",
       "\n",
       "    .dataframe thead th {\n",
       "        text-align: right;\n",
       "    }\n",
       "</style>\n",
       "<table border=\"1\" class=\"dataframe\">\n",
       "  <thead>\n",
       "    <tr style=\"text-align: right;\">\n",
       "      <th></th>\n",
       "      <th>combined_review</th>\n",
       "      <th>length</th>\n",
       "    </tr>\n",
       "  </thead>\n",
       "  <tbody>\n",
       "    <tr>\n",
       "      <th>0</th>\n",
       "      <td>solidbuy it you will not regret this purchaser...</td>\n",
       "      <td>16</td>\n",
       "    </tr>\n",
       "    <tr>\n",
       "      <th>1</th>\n",
       "      <td>nice drive for price even cheaper by todays co...</td>\n",
       "      <td>39</td>\n",
       "    </tr>\n",
       "    <tr>\n",
       "      <th>2</th>\n",
       "      <td>perfectused this drive as my boot drive and on...</td>\n",
       "      <td>62</td>\n",
       "    </tr>\n",
       "    <tr>\n",
       "      <th>3</th>\n",
       "      <td>very snappyos boots quicker os menus pop up qu...</td>\n",
       "      <td>39</td>\n",
       "    </tr>\n",
       "    <tr>\n",
       "      <th>4</th>\n",
       "      <td>worth the hypethis was the sdd that everyone s...</td>\n",
       "      <td>29</td>\n",
       "    </tr>\n",
       "  </tbody>\n",
       "</table>\n",
       "</div>"
      ],
      "text/plain": [
       "                                     combined_review  length\n",
       "0  solidbuy it you will not regret this purchaser...      16\n",
       "1  nice drive for price even cheaper by todays co...      39\n",
       "2  perfectused this drive as my boot drive and on...      62\n",
       "3  very snappyos boots quicker os menus pop up qu...      39\n",
       "4  worth the hypethis was the sdd that everyone s...      29"
      ]
     },
     "execution_count": 232,
     "metadata": {},
     "output_type": "execute_result"
    }
   ],
   "source": [
    "combined_data['length'] = combined_data['combined_review'].apply(lambda x:len(x.split(\" \")))\n",
    "combined_data.head()"
   ]
  },
  {
   "cell_type": "markdown",
   "metadata": {
    "id": "8FyfpsW4uNN-"
   },
   "source": [
    "#### Check summary stats of the length column"
   ]
  },
  {
   "cell_type": "code",
   "execution_count": 233,
   "metadata": {
    "colab": {
     "base_uri": "https://localhost:8080/",
     "height": 300
    },
    "id": "cMEp309bHPSm",
    "outputId": "1565b773-87be-4651-dde7-3819cb3d589d"
   },
   "outputs": [
    {
     "data": {
      "text/html": [
       "<div>\n",
       "<style scoped>\n",
       "    .dataframe tbody tr th:only-of-type {\n",
       "        vertical-align: middle;\n",
       "    }\n",
       "\n",
       "    .dataframe tbody tr th {\n",
       "        vertical-align: top;\n",
       "    }\n",
       "\n",
       "    .dataframe thead th {\n",
       "        text-align: right;\n",
       "    }\n",
       "</style>\n",
       "<table border=\"1\" class=\"dataframe\">\n",
       "  <thead>\n",
       "    <tr style=\"text-align: right;\">\n",
       "      <th></th>\n",
       "      <th>length</th>\n",
       "    </tr>\n",
       "  </thead>\n",
       "  <tbody>\n",
       "    <tr>\n",
       "      <th>count</th>\n",
       "      <td>2227.0000000</td>\n",
       "    </tr>\n",
       "    <tr>\n",
       "      <th>mean</th>\n",
       "      <td>82.2752582</td>\n",
       "    </tr>\n",
       "    <tr>\n",
       "      <th>std</th>\n",
       "      <td>87.3063671</td>\n",
       "    </tr>\n",
       "    <tr>\n",
       "      <th>min</th>\n",
       "      <td>3.0000000</td>\n",
       "    </tr>\n",
       "    <tr>\n",
       "      <th>25%</th>\n",
       "      <td>28.0000000</td>\n",
       "    </tr>\n",
       "    <tr>\n",
       "      <th>50%</th>\n",
       "      <td>57.0000000</td>\n",
       "    </tr>\n",
       "    <tr>\n",
       "      <th>75%</th>\n",
       "      <td>106.0000000</td>\n",
       "    </tr>\n",
       "    <tr>\n",
       "      <th>max</th>\n",
       "      <td>1612.0000000</td>\n",
       "    </tr>\n",
       "  </tbody>\n",
       "</table>\n",
       "</div>"
      ],
      "text/plain": [
       "            length\n",
       "count 2227.0000000\n",
       "mean    82.2752582\n",
       "std     87.3063671\n",
       "min      3.0000000\n",
       "25%     28.0000000\n",
       "50%     57.0000000\n",
       "75%    106.0000000\n",
       "max   1612.0000000"
      ]
     },
     "execution_count": 233,
     "metadata": {},
     "output_type": "execute_result"
    }
   ],
   "source": [
    "combined_data.describe()"
   ]
  },
  {
   "cell_type": "markdown",
   "metadata": {
    "id": "JtFWZfZjJSJY"
   },
   "source": [
    "### 4.5 Analyzing and preparing the text data\n"
   ]
  },
  {
   "cell_type": "markdown",
   "metadata": {
    "id": "FL0mW8oPJVyq"
   },
   "source": [
    "#### Set the max length of each review to 25 since it results in faster training (however, you are free to change this)\n",
    "#### Set max_features to 10000 and embedding size to 50"
   ]
  },
  {
   "cell_type": "code",
   "execution_count": 234,
   "metadata": {
    "id": "T7Ma4u3kSOD3"
   },
   "outputs": [],
   "source": [
    "max_features = 10000\n",
    "maxlen = 25\n",
    "embedding_size = 50"
   ]
  },
  {
   "cell_type": "markdown",
   "metadata": {
    "id": "qph71mXtJyWM"
   },
   "source": [
    "#### Tokenize the cobined text data. You can use the Tokenizer from tensorflow.keras.preprocessing.text. Check the number of samples post tokenization."
   ]
  },
  {
   "cell_type": "code",
   "execution_count": 235,
   "metadata": {
    "id": "hvn5Bssu6MoQ"
   },
   "outputs": [],
   "source": [
    "tokenizer = tensorflow.keras.preprocessing.text.Tokenizer(num_words=max_features)"
   ]
  },
  {
   "cell_type": "code",
   "execution_count": 236,
   "metadata": {
    "id": "NGJnjJ2wJT7q"
   },
   "outputs": [],
   "source": [
    "tokenizer.fit_on_texts(list(combined_data['combined_review']))\n",
    "X=tokenizer.texts_to_sequences(combined_data['combined_review'])"
   ]
  },
  {
   "cell_type": "code",
   "execution_count": 237,
   "metadata": {
    "colab": {
     "base_uri": "https://localhost:8080/"
    },
    "id": "EoFiyc8BJZqS",
    "outputId": "95c4be5e-f52a-42b9-ad87-18c6c6f2630a"
   },
   "outputs": [
    {
     "data": {
      "text/plain": [
       "[3483, 2393, 708, 2, 68, 32, 1432, 98, 745, 27, 1629]"
      ]
     },
     "execution_count": 237,
     "metadata": {},
     "output_type": "execute_result"
    }
   ],
   "source": [
    "X[19]"
   ]
  },
  {
   "cell_type": "code",
   "execution_count": 238,
   "metadata": {
    "colab": {
     "base_uri": "https://localhost:8080/"
    },
    "id": "8Eg_BIfcJgFJ",
    "outputId": "44a07e2d-7040-4512-b8ae-51afff1778c2"
   },
   "outputs": [
    {
     "data": {
      "text/plain": [
       "2227"
      ]
     },
     "execution_count": 238,
     "metadata": {},
     "output_type": "execute_result"
    }
   ],
   "source": [
    "len(X)"
   ]
  },
  {
   "cell_type": "markdown",
   "metadata": {
    "id": "HXy2gZrkJ0f_"
   },
   "source": [
    "#### Pad the above tokenized reviews data save it as independent features. Use max_len for the same."
   ]
  },
  {
   "cell_type": "code",
   "execution_count": 239,
   "metadata": {
    "id": "mV-KtcR06OAr"
   },
   "outputs": [],
   "source": [
    "X=tensorflow.keras.preprocessing.sequence.pad_sequences(X,maxlen=maxlen)"
   ]
  },
  {
   "cell_type": "code",
   "execution_count": 240,
   "metadata": {
    "id": "QEHXUuyvJpu5"
   },
   "outputs": [],
   "source": [
    "y=np.asarray(data['rating_stars'])"
   ]
  },
  {
   "cell_type": "markdown",
   "metadata": {
    "id": "XVT7dRRUHsgR"
   },
   "source": [
    "#### Check the shape of X (padded tokenized review data) and y (rating_stars) data."
   ]
  },
  {
   "cell_type": "code",
   "execution_count": 241,
   "metadata": {
    "colab": {
     "base_uri": "https://localhost:8080/"
    },
    "id": "SXc3DOi9Hz6O",
    "outputId": "8f0c1397-b49c-4fdb-cd16-342dd3874521"
   },
   "outputs": [
    {
     "data": {
      "text/plain": [
       "(2227, 25)"
      ]
     },
     "execution_count": 241,
     "metadata": {},
     "output_type": "execute_result"
    }
   ],
   "source": [
    "X.shape"
   ]
  },
  {
   "cell_type": "code",
   "execution_count": 242,
   "metadata": {
    "colab": {
     "base_uri": "https://localhost:8080/"
    },
    "id": "cqfDfPLxJ5_K",
    "outputId": "aa62bff0-381f-4f08-a668-286f625dd3ae"
   },
   "outputs": [
    {
     "data": {
      "text/plain": [
       "(2227,)"
      ]
     },
     "execution_count": 242,
     "metadata": {},
     "output_type": "execute_result"
    }
   ],
   "source": [
    "y.shape"
   ]
  },
  {
   "cell_type": "markdown",
   "metadata": {
    "id": "A5GlWwKnJ7ie"
   },
   "source": [
    "#### Check the total number of words in the dictionary (of tekenizer)"
   ]
  },
  {
   "cell_type": "code",
   "execution_count": 243,
   "metadata": {
    "colab": {
     "base_uri": "https://localhost:8080/"
    },
    "id": "oR0W8MdX6V3A",
    "outputId": "c17fe7a0-337a-48c2-879e-469f61ff7919"
   },
   "outputs": [
    {
     "data": {
      "text/plain": [
       "12194"
      ]
     },
     "execution_count": 243,
     "metadata": {},
     "output_type": "execute_result"
    }
   ],
   "source": [
    "num_words= len(tokenizer.word_index) + 1\n",
    "num_words"
   ]
  },
  {
   "cell_type": "markdown",
   "metadata": {
    "id": "RKa3eYLDJ_yO"
   },
   "source": [
    "### 4.6 Compute the glove embeddings. Use the provided txt file for the same."
   ]
  },
  {
   "cell_type": "markdown",
   "metadata": {
    "id": "WNwPD9EmIbMt"
   },
   "source": [
    "#### Read the glove embeddings from the file provided titled ‘glove.6B.50d.txt’. And save it to a dictotionary having word and corresponding embedding vector."
   ]
  },
  {
   "cell_type": "code",
   "execution_count": 244,
   "metadata": {
    "id": "bNd9ZFjuIp3g"
   },
   "outputs": [],
   "source": [
    "path = '/content/drive/MyDrive/Sequential NLP'\n",
    "EMBEDDING_FILE = path + '/glove.6B.50d.txt'\n",
    "embeddings = {}\n",
    "for o in open(EMBEDDING_FILE):\n",
    "    word = o.split(\" \")[0]\n",
    "    # print(word)\n",
    "    embd = o.split(\" \")[1:]\n",
    "    embd = np.asarray(embd, dtype='float32')\n",
    "    # print(embd)\n",
    "    embeddings[word] = embd"
   ]
  },
  {
   "cell_type": "markdown",
   "metadata": {
    "id": "EuolWkfmIqCJ"
   },
   "source": [
    "#### Create a weight matrix for words in the training docs"
   ]
  },
  {
   "cell_type": "code",
   "execution_count": 245,
   "metadata": {
    "id": "BGHZ0nIaI0Ar"
   },
   "outputs": [],
   "source": [
    "embedding_matrix = np.zeros((num_words, 50))\n",
    "\n",
    "for word, i in tokenizer.word_index.items():\n",
    "\tembedding_vector = embeddings.get(word)\n",
    "\tif embedding_vector is not None:\n",
    "\t\tembedding_matrix[i] = embedding_vector"
   ]
  },
  {
   "cell_type": "markdown",
   "metadata": {
    "id": "-DdpiQZ9_Fiq"
   },
   "source": [
    "#### Check length of the embedding"
   ]
  },
  {
   "cell_type": "code",
   "execution_count": 246,
   "metadata": {
    "colab": {
     "base_uri": "https://localhost:8080/"
    },
    "id": "8bcs-LtYILlO",
    "outputId": "64e61f1f-1bfa-41ff-d498-b754d83c3dc3"
   },
   "outputs": [
    {
     "data": {
      "text/plain": [
       "400000"
      ]
     },
     "execution_count": 246,
     "metadata": {},
     "output_type": "execute_result"
    }
   ],
   "source": [
    "len(embeddings.values())"
   ]
  },
  {
   "cell_type": "markdown",
   "metadata": {
    "id": "xVPf3X5MKGpm"
   },
   "source": [
    "### 4.7 Target Feature:- One hot encode the target variable (rating_stars)"
   ]
  },
  {
   "cell_type": "code",
   "execution_count": 247,
   "metadata": {
    "id": "7PVDBmkjJC4n"
   },
   "outputs": [],
   "source": [
    "from sklearn.preprocessing import OneHotEncoder\n",
    "ohe = OneHotEncoder()\n",
    "y_encoded=ohe.fit_transform(y.reshape(-1,1))"
   ]
  },
  {
   "cell_type": "code",
   "execution_count": 248,
   "metadata": {
    "colab": {
     "base_uri": "https://localhost:8080/"
    },
    "id": "PY3z8zejKzLk",
    "outputId": "44970da0-e9de-4521-9c74-bc98706fe850"
   },
   "outputs": [
    {
     "data": {
      "text/plain": [
       "matrix([[0., 0., 0., 0., 1.],\n",
       "        [0., 0., 0., 0., 1.],\n",
       "        [0., 0., 0., 0., 1.],\n",
       "        ...,\n",
       "        [0., 0., 0., 0., 1.],\n",
       "        [0., 0., 0., 0., 1.],\n",
       "        [0., 0., 0., 0., 1.]])"
      ]
     },
     "execution_count": 248,
     "metadata": {},
     "output_type": "execute_result"
    }
   ],
   "source": [
    "y_encoded=y_encoded.todense()\n",
    "y_encoded"
   ]
  },
  {
   "cell_type": "markdown",
   "metadata": {
    "id": "5dqPXETLKN0h"
   },
   "source": [
    "### 4.8 Split the data into Train & Test sets"
   ]
  },
  {
   "cell_type": "code",
   "execution_count": 249,
   "metadata": {
    "id": "FFJ1oEUmJEEW"
   },
   "outputs": [],
   "source": [
    "from sklearn.model_selection import train_test_split\n",
    "X_train,X_test,y_train,y_test = train_test_split(X, y_encoded, test_size = 0.3, stratify = y_encoded)"
   ]
  },
  {
   "cell_type": "markdown",
   "metadata": {
    "id": "rhD1a-beKvE7"
   },
   "source": [
    "## 5. Model building"
   ]
  },
  {
   "cell_type": "markdown",
   "metadata": {
    "id": "bRmxklYnKvxk"
   },
   "source": [
    "### 5.1 Construct a neural network architecture using embedding and LSTM layers for building the rating prediction model.\n",
    "- Use the num_words, embedding_size from the above tokenizer and embeddings respectively\n",
    "- Use weights from the above embedding matrix\n",
    "- Use input length as the maxlen\n",
    "- Add LSTM layers"
   ]
  },
  {
   "cell_type": "code",
   "execution_count": 250,
   "metadata": {
    "id": "gSGsebsiNA78"
   },
   "outputs": [],
   "source": [
    "import tensorflow as tf\n",
    "from tensorflow.keras.models import Sequential\n",
    "from tensorflow.keras.layers import Embedding, Bidirectional, LSTM, Dense, Dropout, Flatten,BatchNormalization\n",
    "from functools import partial\n",
    "\n",
    "tf.keras.backend.clear_session()\n",
    "model = Sequential()\n",
    "model.add(Embedding(num_words, embedding_size, weights = [embedding_matrix], input_length=maxlen))\n",
    "model.add(LSTM(128, return_sequences = True))\n",
    "model.add(Flatten())\n",
    "model.add(BatchNormalization())\n",
    "model.add(Dense(512, activation='relu'))\n",
    "model.add(BatchNormalization())\n",
    "model.add(Dense(256, activation = 'relu'))\n",
    "model.add(BatchNormalization())\n",
    "model.add(Dense(128, activation = 'relu'))\n",
    "model.add(BatchNormalization())\n",
    "model.add(Dense(64, activation= 'relu'))\n",
    "model.add(Dropout(0.5))\n",
    "model.add(BatchNormalization())\n",
    "model.add(Dense(5, activation=\"softmax\"))\n"
   ]
  },
  {
   "cell_type": "markdown",
   "metadata": {
    "id": "iN0P-a6X_jAb"
   },
   "source": [
    "### 5.2 Compile the model using appropriate loss, optimizer, and accuracy metric"
   ]
  },
  {
   "cell_type": "code",
   "execution_count": 251,
   "metadata": {
    "id": "8Kyk9kPxNCMb"
   },
   "outputs": [],
   "source": [
    "model.compile(loss='categorical_crossentropy', optimizer='adam', metrics=['accuracy'])"
   ]
  },
  {
   "cell_type": "code",
   "execution_count": 252,
   "metadata": {
    "colab": {
     "base_uri": "https://localhost:8080/"
    },
    "id": "k8x0CtB9LMPe",
    "outputId": "173e66c6-2128-4386-fca0-e5af236bbbdf"
   },
   "outputs": [
    {
     "name": "stdout",
     "output_type": "stream",
     "text": [
      "Model: \"sequential\"\n",
      "_________________________________________________________________\n",
      "Layer (type)                 Output Shape              Param #   \n",
      "=================================================================\n",
      "embedding (Embedding)        (None, 25, 50)            609700    \n",
      "_________________________________________________________________\n",
      "lstm (LSTM)                  (None, 25, 128)           91648     \n",
      "_________________________________________________________________\n",
      "flatten (Flatten)            (None, 3200)              0         \n",
      "_________________________________________________________________\n",
      "batch_normalization (BatchNo (None, 3200)              12800     \n",
      "_________________________________________________________________\n",
      "dense (Dense)                (None, 512)               1638912   \n",
      "_________________________________________________________________\n",
      "batch_normalization_1 (Batch (None, 512)               2048      \n",
      "_________________________________________________________________\n",
      "dense_1 (Dense)              (None, 256)               131328    \n",
      "_________________________________________________________________\n",
      "batch_normalization_2 (Batch (None, 256)               1024      \n",
      "_________________________________________________________________\n",
      "dense_2 (Dense)              (None, 128)               32896     \n",
      "_________________________________________________________________\n",
      "batch_normalization_3 (Batch (None, 128)               512       \n",
      "_________________________________________________________________\n",
      "dense_3 (Dense)              (None, 64)                8256      \n",
      "_________________________________________________________________\n",
      "dropout (Dropout)            (None, 64)                0         \n",
      "_________________________________________________________________\n",
      "batch_normalization_4 (Batch (None, 64)                256       \n",
      "_________________________________________________________________\n",
      "dense_4 (Dense)              (None, 5)                 325       \n",
      "=================================================================\n",
      "Total params: 2,529,705\n",
      "Trainable params: 2,521,385\n",
      "Non-trainable params: 8,320\n",
      "_________________________________________________________________\n"
     ]
    }
   ],
   "source": [
    "model.summary()"
   ]
  },
  {
   "cell_type": "markdown",
   "metadata": {
    "id": "tIODqXJK_qrQ"
   },
   "source": [
    "### 5.3 Fit the model"
   ]
  },
  {
   "cell_type": "code",
   "execution_count": 253,
   "metadata": {
    "colab": {
     "base_uri": "https://localhost:8080/"
    },
    "id": "fEX-_bd2NDPW",
    "outputId": "e740a33f-89a3-4d5e-d9b4-6c7f2ed31c90"
   },
   "outputs": [
    {
     "name": "stdout",
     "output_type": "stream",
     "text": [
      "Epoch 1/20\n",
      "13/13 [==============================] - 6s 196ms/step - loss: 2.1180 - accuracy: 0.2599 - val_loss: 2.2146 - val_accuracy: 0.1450\n",
      "Epoch 2/20\n",
      "13/13 [==============================] - 2s 150ms/step - loss: 1.6024 - accuracy: 0.4031 - val_loss: 1.5519 - val_accuracy: 0.3318\n",
      "Epoch 3/20\n",
      "13/13 [==============================] - 2s 151ms/step - loss: 1.3016 - accuracy: 0.5533 - val_loss: 1.1519 - val_accuracy: 0.7922\n",
      "Epoch 4/20\n",
      "13/13 [==============================] - 2s 152ms/step - loss: 1.0920 - accuracy: 0.6412 - val_loss: 0.9680 - val_accuracy: 0.7892\n",
      "Epoch 5/20\n",
      "13/13 [==============================] - 2s 151ms/step - loss: 0.8311 - accuracy: 0.7715 - val_loss: 0.8798 - val_accuracy: 0.7892\n",
      "Epoch 6/20\n",
      "13/13 [==============================] - 2s 150ms/step - loss: 0.6517 - accuracy: 0.8306 - val_loss: 0.8323 - val_accuracy: 0.7892\n",
      "Epoch 7/20\n",
      "13/13 [==============================] - 2s 153ms/step - loss: 0.5321 - accuracy: 0.8703 - val_loss: 0.8187 - val_accuracy: 0.7892\n",
      "Epoch 8/20\n",
      "13/13 [==============================] - 2s 153ms/step - loss: 0.4475 - accuracy: 0.8986 - val_loss: 0.8347 - val_accuracy: 0.7892\n",
      "Epoch 9/20\n",
      "13/13 [==============================] - 2s 154ms/step - loss: 0.3576 - accuracy: 0.9300 - val_loss: 0.8643 - val_accuracy: 0.7892\n",
      "Epoch 10/20\n",
      "13/13 [==============================] - 2s 150ms/step - loss: 0.2742 - accuracy: 0.9487 - val_loss: 0.9002 - val_accuracy: 0.7892\n",
      "Epoch 11/20\n",
      "13/13 [==============================] - 2s 148ms/step - loss: 0.2496 - accuracy: 0.9442 - val_loss: 0.9472 - val_accuracy: 0.7892\n",
      "Epoch 12/20\n",
      "13/13 [==============================] - 2s 149ms/step - loss: 0.2048 - accuracy: 0.9602 - val_loss: 0.9930 - val_accuracy: 0.7892\n",
      "Epoch 13/20\n",
      "13/13 [==============================] - 2s 152ms/step - loss: 0.2630 - accuracy: 0.9448 - val_loss: 0.9918 - val_accuracy: 0.7892\n",
      "Epoch 14/20\n",
      "13/13 [==============================] - 2s 152ms/step - loss: 0.1949 - accuracy: 0.9570 - val_loss: 1.0204 - val_accuracy: 0.7892\n",
      "Epoch 15/20\n",
      "13/13 [==============================] - 2s 155ms/step - loss: 0.1777 - accuracy: 0.9634 - val_loss: 1.0592 - val_accuracy: 0.7892\n",
      "Epoch 16/20\n",
      "13/13 [==============================] - 2s 151ms/step - loss: 0.1668 - accuracy: 0.9634 - val_loss: 1.1112 - val_accuracy: 0.7892\n",
      "Epoch 17/20\n",
      "13/13 [==============================] - 2s 151ms/step - loss: 0.1274 - accuracy: 0.9743 - val_loss: 1.1305 - val_accuracy: 0.7892\n",
      "Epoch 18/20\n",
      "13/13 [==============================] - 2s 154ms/step - loss: 0.1105 - accuracy: 0.9782 - val_loss: 1.1474 - val_accuracy: 0.7907\n",
      "Epoch 19/20\n",
      "13/13 [==============================] - 2s 151ms/step - loss: 0.0865 - accuracy: 0.9872 - val_loss: 1.1774 - val_accuracy: 0.7907\n",
      "Epoch 20/20\n",
      "13/13 [==============================] - 2s 149ms/step - loss: 0.0868 - accuracy: 0.9827 - val_loss: 1.1769 - val_accuracy: 0.7892\n"
     ]
    }
   ],
   "source": [
    "training_history = model.fit(X_train, y_train, batch_size=128, epochs=20, validation_data=(X_test, y_test))"
   ]
  },
  {
   "cell_type": "markdown",
   "metadata": {
    "id": "1iakHzMFNDsz"
   },
   "source": [
    "### 5.4 Predict ratings for test data and check accuracy and confusion matrix"
   ]
  },
  {
   "cell_type": "code",
   "execution_count": 254,
   "metadata": {
    "id": "erNFghTpNK-j"
   },
   "outputs": [],
   "source": [
    "pred = model.predict(X_test.reshape(len(X_test),25))"
   ]
  },
  {
   "cell_type": "code",
   "execution_count": 255,
   "metadata": {
    "id": "glNaXRZqNLBN"
   },
   "outputs": [],
   "source": [
    "y_test_inv = ohe.inverse_transform(y_test)\n",
    "y_pred_inv = ohe.inverse_transform(np.around(pred))"
   ]
  },
  {
   "cell_type": "code",
   "execution_count": 256,
   "metadata": {
    "colab": {
     "base_uri": "https://localhost:8080/"
    },
    "id": "R_F7dbvRL0Kz",
    "outputId": "4b230d92-d919-4f37-ad69-ded16416f145"
   },
   "outputs": [
    {
     "data": {
      "text/plain": [
       "array([[  0,   0,   0,   0,  46],\n",
       "       [  0,   0,   0,   0,  18],\n",
       "       [  0,   0,   0,   0,  23],\n",
       "       [  0,   0,   0,   0,  54],\n",
       "       [  0,   0,   0,   0, 528]])"
      ]
     },
     "execution_count": 256,
     "metadata": {},
     "output_type": "execute_result"
    }
   ],
   "source": [
    "from sklearn.metrics import confusion_matrix,accuracy_score,classification_report\n",
    "confusion_matrix(y_test_inv, y_pred_inv)"
   ]
  },
  {
   "cell_type": "code",
   "execution_count": 257,
   "metadata": {
    "colab": {
     "base_uri": "https://localhost:8080/"
    },
    "id": "u-acVw_sL4T6",
    "outputId": "92ffb450-bad6-41cc-ae0c-2d7800bffee4"
   },
   "outputs": [
    {
     "data": {
      "text/plain": [
       "0.7892376681614349"
      ]
     },
     "execution_count": 257,
     "metadata": {},
     "output_type": "execute_result"
    }
   ],
   "source": [
    "accuracy_score(y_test_inv, y_pred_inv)"
   ]
  },
  {
   "cell_type": "code",
   "execution_count": 258,
   "metadata": {
    "colab": {
     "base_uri": "https://localhost:8080/"
    },
    "id": "pjoaHbl4L-74",
    "outputId": "95cf8179-767d-4b60-fa2d-548f1402f365"
   },
   "outputs": [
    {
     "name": "stdout",
     "output_type": "stream",
     "text": [
      "              precision    recall  f1-score   support\n",
      "\n",
      "           1       0.00      0.00      0.00        46\n",
      "           2       0.00      0.00      0.00        18\n",
      "           3       0.00      0.00      0.00        23\n",
      "           4       0.00      0.00      0.00        54\n",
      "           5       0.79      1.00      0.88       528\n",
      "\n",
      "    accuracy                           0.79       669\n",
      "   macro avg       0.16      0.20      0.18       669\n",
      "weighted avg       0.62      0.79      0.70       669\n",
      "\n"
     ]
    }
   ],
   "source": [
    "print(classification_report(y_test_inv, y_pred_inv))"
   ]
  },
  {
   "cell_type": "markdown",
   "metadata": {
    "id": "lHyQA-RsNOXT"
   },
   "source": [
    "### 5.5 Display plot of training and validation loss/accuracy wrt to epochs"
   ]
  },
  {
   "cell_type": "code",
   "execution_count": 259,
   "metadata": {
    "colab": {
     "base_uri": "https://localhost:8080/",
     "height": 563
    },
    "id": "gC7Lb0eSNawO",
    "outputId": "92b6404c-55b8-47c6-c3f7-f21a96c17f93"
   },
   "outputs": [
    {
     "data": {
      "text/plain": [
       "Text(0.5, 1.0, 'Training and validation loss')"
      ]
     },
     "execution_count": 259,
     "metadata": {},
     "output_type": "execute_result"
    },
    {
     "data": {
      "image/png": "[encoded data removed]",
      "text/plain": [
       "<Figure size 432x288 with 1 Axes>"
      ]
     },
     "metadata": {
      "needs_background": "light"
     },
     "output_type": "display_data"
    },
    {
     "data": {
      "image/png": "[encoded data removed]",
      "text/plain": [
       "<Figure size 432x288 with 1 Axes>"
      ]
     },
     "metadata": {
      "needs_background": "light"
     },
     "output_type": "display_data"
    }
   ],
   "source": [
    "import matplotlib.pyplot as plt\n",
    "accuracy      = training_history.history['accuracy']\n",
    "val_accuracy  = training_history.history['val_accuracy']\n",
    "loss     = training_history.history['loss']\n",
    "val_loss = training_history.history['val_loss']\n",
    "\n",
    "epochs   = range(len(accuracy)) # Get number of epochs\n",
    "\n",
    "plt.plot  ( epochs, accuracy, label = 'training accuracy')\n",
    "plt.plot  ( epochs, val_accuracy, label = 'validation accuracy')\n",
    "plt.title ('Training and validation accuracy')\n",
    "plt.legend(loc = 'lower right')\n",
    "plt.figure()\n",
    "\n",
    "plt.plot  ( epochs, loss, label = 'training loss')\n",
    "plt.plot  ( epochs, val_loss, label = 'validation loss')\n",
    "plt.legend(loc = 'upper right')\n",
    "plt.title ('Training and validation loss')"
   ]
  },
  {
   "cell_type": "markdown",
   "metadata": {
    "id": "Ey7an7ukLxWB"
   },
   "source": [
    "## 6. Conclusion and Interpretation"
   ]
  },
  {
   "cell_type": "code",
   "execution_count": 260,
   "metadata": {
    "id": "3b2eLAk9NeNz"
   },
   "outputs": [],
   "source": [
    "#Precision is high for rating 5 which clearly says the data has learnt data with rating 5 as it has more data compared to other ratings. However the model is unreliable for predicting other ratings.\n",
    "#The model clearly overfits as validation accuracy is much lesser than train accuracy."
   ]
  },
  {
   "cell_type": "markdown",
   "metadata": {
    "id": "9nwOCcvqxVCH"
   },
   "source": [
    "## 7. Food for thought:\n",
    "\n",
    "1.) Change activation function (try leaky_relu or tanh) and see if it helps in improving model performance with the dataset that is highly imbalanced\n",
    "\n",
    "2.) Try with only the overall review feature and see if it leads to improvement in model performace\n",
    "\n",
    "3.) Change the hyperparameters of the model and compare the results "
   ]
  },
  {
   "cell_type": "code",
   "execution_count": 261,
   "metadata": {
    "colab": {
     "base_uri": "https://localhost:8080/"
    },
    "id": "VCylm4X8Nfik",
    "outputId": "db75e173-16b6-4291-d0d6-559899308e41"
   },
   "outputs": [
    {
     "name": "stdout",
     "output_type": "stream",
     "text": [
      "Model: \"sequential\"\n",
      "_________________________________________________________________\n",
      "Layer (type)                 Output Shape              Param #   \n",
      "=================================================================\n",
      "embedding (Embedding)        (None, 25, 50)            609700    \n",
      "_________________________________________________________________\n",
      "lstm (LSTM)                  (None, 25, 128)           91648     \n",
      "_________________________________________________________________\n",
      "flatten (Flatten)            (None, 3200)              0         \n",
      "_________________________________________________________________\n",
      "batch_normalization (BatchNo (None, 3200)              12800     \n",
      "_________________________________________________________________\n",
      "dense (Dense)                (None, 512)               1638912   \n",
      "_________________________________________________________________\n",
      "leaky_re_lu (LeakyReLU)      (None, 512)               0         \n",
      "_________________________________________________________________\n",
      "batch_normalization_1 (Batch (None, 512)               2048      \n",
      "_________________________________________________________________\n",
      "dense_1 (Dense)              (None, 256)               131328    \n",
      "_________________________________________________________________\n",
      "leaky_re_lu_1 (LeakyReLU)    (None, 256)               0         \n",
      "_________________________________________________________________\n",
      "batch_normalization_2 (Batch (None, 256)               1024      \n",
      "_________________________________________________________________\n",
      "dense_2 (Dense)              (None, 128)               32896     \n",
      "_________________________________________________________________\n",
      "leaky_re_lu_2 (LeakyReLU)    (None, 128)               0         \n",
      "_________________________________________________________________\n",
      "batch_normalization_3 (Batch (None, 128)               512       \n",
      "_________________________________________________________________\n",
      "dense_3 (Dense)              (None, 64)                8256      \n",
      "_________________________________________________________________\n",
      "leaky_re_lu_3 (LeakyReLU)    (None, 64)                0         \n",
      "_________________________________________________________________\n",
      "dropout (Dropout)            (None, 64)                0         \n",
      "_________________________________________________________________\n",
      "batch_normalization_4 (Batch (None, 64)                256       \n",
      "_________________________________________________________________\n",
      "dense_4 (Dense)              (None, 5)                 325       \n",
      "=================================================================\n",
      "Total params: 2,529,705\n",
      "Trainable params: 2,521,385\n",
      "Non-trainable params: 8,320\n",
      "_________________________________________________________________\n",
      "Epoch 1/20\n",
      "13/13 [==============================] - 6s 204ms/step - loss: 1.9760 - accuracy: 0.2696 - val_loss: 2.1335 - val_accuracy: 0.0897\n",
      "Epoch 2/20\n",
      "13/13 [==============================] - 2s 153ms/step - loss: 1.6327 - accuracy: 0.4198 - val_loss: 1.2313 - val_accuracy: 0.7414\n",
      "Epoch 3/20\n",
      "13/13 [==============================] - 2s 153ms/step - loss: 1.3899 - accuracy: 0.5116 - val_loss: 1.0919 - val_accuracy: 0.7848\n",
      "Epoch 4/20\n",
      "13/13 [==============================] - 2s 148ms/step - loss: 1.1865 - accuracy: 0.6194 - val_loss: 0.9188 - val_accuracy: 0.7892\n",
      "Epoch 5/20\n",
      "13/13 [==============================] - 2s 150ms/step - loss: 0.9482 - accuracy: 0.7240 - val_loss: 0.8349 - val_accuracy: 0.7892\n",
      "Epoch 6/20\n",
      "13/13 [==============================] - 2s 152ms/step - loss: 0.7059 - accuracy: 0.8113 - val_loss: 0.8060 - val_accuracy: 0.7892\n",
      "Epoch 7/20\n",
      "13/13 [==============================] - 2s 152ms/step - loss: 0.5264 - accuracy: 0.8607 - val_loss: 0.8672 - val_accuracy: 0.7892\n",
      "Epoch 8/20\n",
      "13/13 [==============================] - 2s 153ms/step - loss: 0.3814 - accuracy: 0.9101 - val_loss: 0.9370 - val_accuracy: 0.7892\n",
      "Epoch 9/20\n",
      "13/13 [==============================] - 2s 149ms/step - loss: 0.3286 - accuracy: 0.9236 - val_loss: 0.9761 - val_accuracy: 0.7892\n",
      "Epoch 10/20\n",
      "13/13 [==============================] - 2s 150ms/step - loss: 0.2645 - accuracy: 0.9358 - val_loss: 0.9846 - val_accuracy: 0.7892\n",
      "Epoch 11/20\n",
      "13/13 [==============================] - 2s 151ms/step - loss: 0.1861 - accuracy: 0.9666 - val_loss: 1.0446 - val_accuracy: 0.7892\n",
      "Epoch 12/20\n",
      "13/13 [==============================] - 2s 150ms/step - loss: 0.1533 - accuracy: 0.9685 - val_loss: 1.0834 - val_accuracy: 0.7892\n",
      "Epoch 13/20\n",
      "13/13 [==============================] - 2s 151ms/step - loss: 0.1051 - accuracy: 0.9872 - val_loss: 1.1386 - val_accuracy: 0.7892\n",
      "Epoch 14/20\n",
      "13/13 [==============================] - 2s 149ms/step - loss: 0.0857 - accuracy: 0.9865 - val_loss: 1.1636 - val_accuracy: 0.7892\n",
      "Epoch 15/20\n",
      "13/13 [==============================] - 2s 150ms/step - loss: 0.0569 - accuracy: 0.9949 - val_loss: 1.2120 - val_accuracy: 0.7892\n",
      "Epoch 16/20\n",
      "13/13 [==============================] - 2s 157ms/step - loss: 0.0602 - accuracy: 0.9936 - val_loss: 1.1793 - val_accuracy: 0.7892\n",
      "Epoch 17/20\n",
      "13/13 [==============================] - 2s 153ms/step - loss: 0.1571 - accuracy: 0.9673 - val_loss: 1.1660 - val_accuracy: 0.7892\n",
      "Epoch 18/20\n",
      "13/13 [==============================] - 2s 152ms/step - loss: 0.2058 - accuracy: 0.9538 - val_loss: 1.1407 - val_accuracy: 0.7892\n",
      "Epoch 19/20\n",
      "13/13 [==============================] - 2s 151ms/step - loss: 0.2128 - accuracy: 0.9442 - val_loss: 1.1099 - val_accuracy: 0.7892\n",
      "Epoch 20/20\n",
      "13/13 [==============================] - 2s 150ms/step - loss: 0.1382 - accuracy: 0.9705 - val_loss: 1.2046 - val_accuracy: 0.7892\n"
     ]
    },
    {
     "data": {
      "text/plain": [
       "<keras.callbacks.History at 0x7fecb295b050>"
      ]
     },
     "execution_count": 261,
     "metadata": {},
     "output_type": "execute_result"
    }
   ],
   "source": [
    "from keras.layers import LeakyReLU,BatchNormalization\n",
    "tf.keras.backend.clear_session()\n",
    "model1 = Sequential()\n",
    "model1.add(Embedding(num_words, embedding_size, weights = [embedding_matrix], input_length=maxlen))\n",
    "model1.add(LSTM(128, return_sequences = True))\n",
    "model1.add(Flatten())\n",
    "model1.add(BatchNormalization())\n",
    "model1.add(Dense(512))\n",
    "model1.add(LeakyReLU())\n",
    "model1.add(BatchNormalization())\n",
    "model1.add(Dense(256))\n",
    "model1.add(LeakyReLU())\n",
    "model1.add(BatchNormalization())\n",
    "model1.add(Dense(128))\n",
    "model1.add(LeakyReLU())\n",
    "model1.add(BatchNormalization())\n",
    "model1.add(Dense(64))\n",
    "model1.add(LeakyReLU())\n",
    "model1.add(Dropout(0.5))\n",
    "model1.add(BatchNormalization())\n",
    "model1.add(Dense(5, activation=\"softmax\"))\n",
    "\n",
    "model1.compile(loss='categorical_crossentropy', optimizer='adam', metrics=['accuracy'])\n",
    "model1.summary()\n",
    "\n",
    "model1.fit(X_train, y_train, batch_size=128, epochs=20, validation_data=(X_test, y_test))"
   ]
  }
 ],
 "metadata": {
  "colab": {
   "collapsed_sections": [],
   "name": "R9 Sequential Models in NLP Lab Question Notebook.ipynb",
   "provenance": []
  },
  "kernelspec": {
   "display_name": "Python 3",
   "language": "python",
   "name": "python3"
  },
  "language_info": {
   "codemirror_mode": {
    "name": "ipython",
    "version": 3
   },
   "file_extension": ".py",
   "mimetype": "text/x-python",
   "name": "python",
   "nbconvert_exporter": "python",
   "pygments_lexer": "ipython3",
   "version": "3.8.3"
  }
 },
 "nbformat": 4,
 "nbformat_minor": 1
}

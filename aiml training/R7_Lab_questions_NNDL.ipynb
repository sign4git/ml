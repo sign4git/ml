{
  "nbformat": 4,
  "nbformat_minor": 0,
  "metadata": {
    "accelerator": "GPU",
    "colab": {
      "name": "R7 Lab questions NNDL.ipynb",
      "provenance": [],
      "collapsed_sections": [],
      "toc_visible": true
    },
    "kernelspec": {
      "display_name": "Python 3",
      "language": "python",
      "name": "python3"
    },
    "language_info": {
      "codemirror_mode": {
        "name": "ipython",
        "version": 3
      },
      "file_extension": ".py",
      "mimetype": "text/x-python",
      "name": "python",
      "nbconvert_exporter": "python",
      "pygments_lexer": "ipython3",
      "version": "3.6.8"
    }
  },
  "cells": [
    {
      "cell_type": "markdown",
      "metadata": {
        "id": "3ukwOXvX_EV1"
      },
      "source": [
        "<img src=\"http://drive.google.com/uc?export=view&id=1tpOCamr9aWz817atPnyXus8w5gJ3mIts\" width=500px>"
      ]
    },
    {
      "cell_type": "markdown",
      "metadata": {
        "id": "j9QC42UQq5Lk"
      },
      "source": [
        "## Lab on NNDL Part 1: Tensorflow Basic"
      ]
    },
    {
      "cell_type": "markdown",
      "metadata": {
        "id": "g_vbQDYan7_7"
      },
      "source": [
        "### Tensors\n",
        "\n",
        "Tensors are multi-dimensional arrays with a uniform type"
      ]
    },
    {
      "cell_type": "markdown",
      "metadata": {
        "id": "tCkxkFqIoUIR"
      },
      "source": [
        "##Question 1\n"
      ]
    },
    {
      "cell_type": "markdown",
      "metadata": {
        "id": "7V8C8aa0rGgN"
      },
      "source": [
        "### Create a rank-0 tensor\n",
        "- A \"scalar\" is called \"rank-0\" tensor\n",
        "- the tensor should contain value 99.99"
      ]
    },
    {
      "cell_type": "code",
      "metadata": {
        "id": "CmKTQCizra4b"
      },
      "source": [
        "import tensorflow as tf"
      ],
      "execution_count": null,
      "outputs": []
    },
    {
      "cell_type": "code",
      "metadata": {
        "id": "B6H2X7SinZbZ",
        "colab": {
          "base_uri": "https://localhost:8080/"
        },
        "outputId": "13809650-3393-465e-f1e3-776207297a39"
      },
      "source": [
        "rank_0=tf.constant(99.99)\n",
        "print(rank_0)"
      ],
      "execution_count": null,
      "outputs": [
        {
          "output_type": "stream",
          "text": [
            "tf.Tensor(99.99, shape=(), dtype=float32)\n"
          ],
          "name": "stdout"
        }
      ]
    },
    {
      "cell_type": "markdown",
      "metadata": {
        "id": "xRm8MfpVrkyz"
      },
      "source": [
        "### Create a rank-1 tensor\n",
        "\n",
        "- A \"vector\" (list) is called \"rank-1\" tensor [9,8,7,6,5]\n",
        "- A vector has one axis"
      ]
    },
    {
      "cell_type": "code",
      "metadata": {
        "id": "_TvWoaBOnZXX",
        "colab": {
          "base_uri": "https://localhost:8080/"
        },
        "outputId": "ab2c64a4-7e3d-4eda-8f76-bf20b4917694"
      },
      "source": [
        "rank_1=tf.constant([9,8,7,6,5])\n",
        "print(rank_1)"
      ],
      "execution_count": null,
      "outputs": [
        {
          "output_type": "stream",
          "text": [
            "tf.Tensor([9 8 7 6 5], shape=(5,), dtype=int32)\n"
          ],
          "name": "stdout"
        }
      ]
    },
    {
      "cell_type": "markdown",
      "metadata": {
        "id": "KtiVmuAAsJjP"
      },
      "source": [
        "### Add 7 to all the elements of the above created tensor\n",
        "- Use Broadcasting"
      ]
    },
    {
      "cell_type": "code",
      "metadata": {
        "id": "lENBbpfIsskl",
        "colab": {
          "base_uri": "https://localhost:8080/"
        },
        "outputId": "6aca9b9a-10bb-4c13-ae81-d724e0991bab"
      },
      "source": [
        "tf.add(rank_1,7)"
      ],
      "execution_count": null,
      "outputs": [
        {
          "output_type": "execute_result",
          "data": {
            "text/plain": [
              "<tf.Tensor: shape=(5,), dtype=int32, numpy=array([16, 15, 14, 13, 12], dtype=int32)>"
            ]
          },
          "metadata": {
            "tags": []
          },
          "execution_count": 19
        }
      ]
    },
    {
      "cell_type": "code",
      "metadata": {
        "colab": {
          "base_uri": "https://localhost:8080/"
        },
        "id": "fUq-14_1QCbu",
        "outputId": "a38055f3-3e84-40e3-9785-3d93692499b4"
      },
      "source": [
        "tf.broadcast_to(rank_1+7,[5])"
      ],
      "execution_count": null,
      "outputs": [
        {
          "output_type": "execute_result",
          "data": {
            "text/plain": [
              "<tf.Tensor: shape=(5,), dtype=int32, numpy=array([16, 15, 14, 13, 12], dtype=int32)>"
            ]
          },
          "metadata": {
            "tags": []
          },
          "execution_count": 20
        }
      ]
    },
    {
      "cell_type": "markdown",
      "metadata": {
        "id": "U9QVsYQwtR9u"
      },
      "source": [
        "### Create a rank-2 tensor\n",
        "[[1, 2, 3], [ 4,5,6]]\n",
        "- A \"matrix\"  \"is called rank-2\" tensor\n",
        "- It has 2 axes"
      ]
    },
    {
      "cell_type": "code",
      "metadata": {
        "id": "IZx8BooXnZUr",
        "colab": {
          "base_uri": "https://localhost:8080/"
        },
        "outputId": "7216c40f-a7de-4bfe-f17f-a32524fe33cf"
      },
      "source": [
        "rank_2=tf.constant([[1,2,3],[4,5,6]])\n",
        "rank_2"
      ],
      "execution_count": null,
      "outputs": [
        {
          "output_type": "execute_result",
          "data": {
            "text/plain": [
              "<tf.Tensor: shape=(2, 3), dtype=int32, numpy=\n",
              "array([[1, 2, 3],\n",
              "       [4, 5, 6]], dtype=int32)>"
            ]
          },
          "metadata": {
            "tags": []
          },
          "execution_count": 21
        }
      ]
    },
    {
      "cell_type": "markdown",
      "metadata": {
        "id": "mrnIxOUmvX_M"
      },
      "source": [
        "### Change the shape of the above created tensor to shape (3,2)"
      ]
    },
    {
      "cell_type": "code",
      "metadata": {
        "id": "YdSy6RQLvXbi",
        "colab": {
          "base_uri": "https://localhost:8080/"
        },
        "outputId": "8f9cd9f3-2690-47d3-b544-9d6470d03d58"
      },
      "source": [
        "tf.reshape(rank_2,[3,2])"
      ],
      "execution_count": null,
      "outputs": [
        {
          "output_type": "execute_result",
          "data": {
            "text/plain": [
              "<tf.Tensor: shape=(3, 2), dtype=int32, numpy=\n",
              "array([[1, 2],\n",
              "       [3, 4],\n",
              "       [5, 6]], dtype=int32)>"
            ]
          },
          "metadata": {
            "tags": []
          },
          "execution_count": 22
        }
      ]
    },
    {
      "cell_type": "code",
      "metadata": {
        "id": "IZfvYZ_8wH4S",
        "colab": {
          "base_uri": "https://localhost:8080/"
        },
        "outputId": "7c110754-d03a-48ad-f551-8d3939e9c24a"
      },
      "source": [
        "tf.reshape(rank_2,[-1,2])"
      ],
      "execution_count": null,
      "outputs": [
        {
          "output_type": "execute_result",
          "data": {
            "text/plain": [
              "<tf.Tensor: shape=(3, 2), dtype=int32, numpy=\n",
              "array([[1, 2],\n",
              "       [3, 4],\n",
              "       [5, 6]], dtype=int32)>"
            ]
          },
          "metadata": {
            "tags": []
          },
          "execution_count": 23
        }
      ]
    },
    {
      "cell_type": "markdown",
      "metadata": {
        "id": "1ZXjABdNuWAT"
      },
      "source": [
        "### Check the dtype, number of axes and the shape of tensor"
      ]
    },
    {
      "cell_type": "code",
      "metadata": {
        "id": "vXj5xnbEuUwz",
        "colab": {
          "base_uri": "https://localhost:8080/"
        },
        "outputId": "5e753e39-acbd-4048-bd37-200b851c0db3"
      },
      "source": [
        "rank_2.dtype"
      ],
      "execution_count": null,
      "outputs": [
        {
          "output_type": "execute_result",
          "data": {
            "text/plain": [
              "tf.int32"
            ]
          },
          "metadata": {
            "tags": []
          },
          "execution_count": 24
        }
      ]
    },
    {
      "cell_type": "code",
      "metadata": {
        "colab": {
          "base_uri": "https://localhost:8080/"
        },
        "id": "NnL3btEqSTL3",
        "outputId": "b92aaed6-b5ac-44b1-ee30-05a6550924e0"
      },
      "source": [
        "rank_2.shape"
      ],
      "execution_count": null,
      "outputs": [
        {
          "output_type": "execute_result",
          "data": {
            "text/plain": [
              "TensorShape([2, 3])"
            ]
          },
          "metadata": {
            "tags": []
          },
          "execution_count": 25
        }
      ]
    },
    {
      "cell_type": "code",
      "metadata": {
        "colab": {
          "base_uri": "https://localhost:8080/"
        },
        "id": "PurIQHG3Tjt9",
        "outputId": "26e6aa77-d94b-496c-ae79-2448d133dc52"
      },
      "source": [
        "rank_2.ndim"
      ],
      "execution_count": null,
      "outputs": [
        {
          "output_type": "execute_result",
          "data": {
            "text/plain": [
              "2"
            ]
          },
          "metadata": {
            "tags": []
          },
          "execution_count": 26
        }
      ]
    },
    {
      "cell_type": "markdown",
      "metadata": {
        "id": "yGsgzedZvB54"
      },
      "source": [
        "- Tensors can have more axes, like rank-3 or rank-4 tensor"
      ]
    },
    {
      "cell_type": "markdown",
      "metadata": {
        "id": "qYvGihNn_D2K"
      },
      "source": [
        "##Lab on NNDL Part 2: Cars selling price prediction"
      ]
    },
    {
      "cell_type": "markdown",
      "metadata": {
        "id": "S7nm5pOt_DkP"
      },
      "source": [
        "### Data Set -\n",
        "Domain: Finance, Business \n",
        "Data: https://www.kaggle.com/nehalbirla/vehicle-dataset-from-cardekho?select=Car+details+v3.csv\n",
        "\n",
        "The data contains various features of used cars.\n",
        "\n",
        "#### Features\n",
        "\n",
        "1. year\n",
        "\n",
        "2. selling_price: Price at which it was sold (**Target Feature**)\n",
        "\n",
        "3. km_driven\n",
        "\n",
        "4. fuel\n",
        "\n",
        "5. seller_type\n",
        "\n",
        "6. transmission\n",
        "\n",
        "7. Owner\n",
        "\n",
        "8. mileage\n",
        "\n",
        "9. engine\n",
        "\n",
        "10. max_power\n",
        "\n",
        "11. seats\n",
        "\n",
        " - - - - - - - - - - - - - - - - - - - - - - - - - - - - - - - - - - - - - - - - - - - - - - - "
      ]
    },
    {
      "cell_type": "markdown",
      "metadata": {
        "id": "YeoiMbH7djEv"
      },
      "source": [
        "##Objective\n",
        "\n",
        "Predict the selling price of used cars based on the given features"
      ]
    },
    {
      "cell_type": "markdown",
      "metadata": {
        "id": "sZXp-T3-xRNN"
      },
      "source": [
        "## Steps to perform:\n",
        "\n",
        "#### 1. Import important Libraries\n",
        "#### 2. Import Dataset and exploration\n",
        "#### 3. Data Pre-processing\n",
        "#### 4. Training a Neural Network Model\n",
        "#### 5. Evaluating the model\n",
        "#### 6. Conclusion\n",
        "\n",
        "\n",
        "- - - - - - - - - - - - - - - - - - - - - - - - - - - - - - - - - - - - - - - - - - - - - - - - - - -\n",
        "\n",
        "\n",
        "- - - - - - - - - - - - - - - - - - - - - - - - - - - - - - - - - - - - - - - - - - - - - - - - - - -\n"
      ]
    },
    {
      "cell_type": "markdown",
      "metadata": {
        "id": "pvJ1pMTuzUkv"
      },
      "source": [
        "### Import important libraries"
      ]
    },
    {
      "cell_type": "code",
      "metadata": {
        "id": "PGqq9f8VdLba"
      },
      "source": [
        "import pandas as pd\n",
        "import numpy as np"
      ],
      "execution_count": null,
      "outputs": []
    },
    {
      "cell_type": "code",
      "metadata": {
        "colab": {
          "base_uri": "https://localhost:8080/"
        },
        "id": "taoGEmsFVztI",
        "outputId": "dcec37c9-3a6d-4318-9983-14f2d7ef9dd2"
      },
      "source": [
        "from google.colab import drive\n",
        "drive.mount('/content/drive')"
      ],
      "execution_count": null,
      "outputs": [
        {
          "output_type": "stream",
          "text": [
            "Drive already mounted at /content/drive; to attempt to forcibly remount, call drive.mount(\"/content/drive\", force_remount=True).\n"
          ],
          "name": "stdout"
        }
      ]
    },
    {
      "cell_type": "code",
      "metadata": {
        "colab": {
          "base_uri": "https://localhost:8080/",
          "height": 35
        },
        "id": "4hICkJktWHzE",
        "outputId": "1c07b336-7419-402a-fdb2-d84ea2e3430d"
      },
      "source": [
        "pwd"
      ],
      "execution_count": null,
      "outputs": [
        {
          "output_type": "execute_result",
          "data": {
            "application/vnd.google.colaboratory.intrinsic+json": {
              "type": "string"
            },
            "text/plain": [
              "'/content'"
            ]
          },
          "metadata": {
            "tags": []
          },
          "execution_count": 29
        }
      ]
    },
    {
      "cell_type": "markdown",
      "metadata": {
        "id": "_88voqAH-O6J"
      },
      "source": [
        "## Question 1"
      ]
    },
    {
      "cell_type": "markdown",
      "metadata": {
        "id": "dRHCeJqP-evf"
      },
      "source": [
        "### Load the data\n",
        "- Load the data, check the shape of data"
      ]
    },
    {
      "cell_type": "code",
      "metadata": {
        "colab": {
          "base_uri": "https://localhost:8080/",
          "height": 643
        },
        "id": "fkZfjEn-Wjhv",
        "outputId": "1629cc16-7496-4a79-89fd-97b7b4ca882e"
      },
      "source": [
        "data=pd.read_csv(\"/content/sample_data/car_data-1.csv\")\n",
        "data"
      ],
      "execution_count": null,
      "outputs": [
        {
          "output_type": "execute_result",
          "data": {
            "text/html": [
              "<div>\n",
              "<style scoped>\n",
              "    .dataframe tbody tr th:only-of-type {\n",
              "        vertical-align: middle;\n",
              "    }\n",
              "\n",
              "    .dataframe tbody tr th {\n",
              "        vertical-align: top;\n",
              "    }\n",
              "\n",
              "    .dataframe thead th {\n",
              "        text-align: right;\n",
              "    }\n",
              "</style>\n",
              "<table border=\"1\" class=\"dataframe\">\n",
              "  <thead>\n",
              "    <tr style=\"text-align: right;\">\n",
              "      <th></th>\n",
              "      <th>year</th>\n",
              "      <th>selling_price</th>\n",
              "      <th>km_driven</th>\n",
              "      <th>fuel</th>\n",
              "      <th>seller_type</th>\n",
              "      <th>transmission</th>\n",
              "      <th>owner</th>\n",
              "      <th>mileage</th>\n",
              "      <th>engine</th>\n",
              "      <th>max_power</th>\n",
              "      <th>seats</th>\n",
              "    </tr>\n",
              "  </thead>\n",
              "  <tbody>\n",
              "    <tr>\n",
              "      <th>0</th>\n",
              "      <td>2014</td>\n",
              "      <td>450000</td>\n",
              "      <td>145500</td>\n",
              "      <td>Diesel</td>\n",
              "      <td>Individual</td>\n",
              "      <td>Manual</td>\n",
              "      <td>First Owner</td>\n",
              "      <td>23.4 kmpl</td>\n",
              "      <td>1248 CC</td>\n",
              "      <td>74 bhp</td>\n",
              "      <td>5.0</td>\n",
              "    </tr>\n",
              "    <tr>\n",
              "      <th>1</th>\n",
              "      <td>2014</td>\n",
              "      <td>370000</td>\n",
              "      <td>120000</td>\n",
              "      <td>Diesel</td>\n",
              "      <td>Individual</td>\n",
              "      <td>Manual</td>\n",
              "      <td>Second Owner</td>\n",
              "      <td>21.14 kmpl</td>\n",
              "      <td>1498 CC</td>\n",
              "      <td>103.52 bhp</td>\n",
              "      <td>5.0</td>\n",
              "    </tr>\n",
              "    <tr>\n",
              "      <th>2</th>\n",
              "      <td>2006</td>\n",
              "      <td>158000</td>\n",
              "      <td>140000</td>\n",
              "      <td>Petrol</td>\n",
              "      <td>Individual</td>\n",
              "      <td>Manual</td>\n",
              "      <td>Third Owner</td>\n",
              "      <td>17.7 kmpl</td>\n",
              "      <td>1497 CC</td>\n",
              "      <td>78 bhp</td>\n",
              "      <td>5.0</td>\n",
              "    </tr>\n",
              "    <tr>\n",
              "      <th>3</th>\n",
              "      <td>2010</td>\n",
              "      <td>225000</td>\n",
              "      <td>127000</td>\n",
              "      <td>Diesel</td>\n",
              "      <td>Individual</td>\n",
              "      <td>Manual</td>\n",
              "      <td>First Owner</td>\n",
              "      <td>23.0 kmpl</td>\n",
              "      <td>1396 CC</td>\n",
              "      <td>90 bhp</td>\n",
              "      <td>5.0</td>\n",
              "    </tr>\n",
              "    <tr>\n",
              "      <th>4</th>\n",
              "      <td>2007</td>\n",
              "      <td>130000</td>\n",
              "      <td>120000</td>\n",
              "      <td>Petrol</td>\n",
              "      <td>Individual</td>\n",
              "      <td>Manual</td>\n",
              "      <td>First Owner</td>\n",
              "      <td>16.1 kmpl</td>\n",
              "      <td>1298 CC</td>\n",
              "      <td>88.2 bhp</td>\n",
              "      <td>5.0</td>\n",
              "    </tr>\n",
              "    <tr>\n",
              "      <th>...</th>\n",
              "      <td>...</td>\n",
              "      <td>...</td>\n",
              "      <td>...</td>\n",
              "      <td>...</td>\n",
              "      <td>...</td>\n",
              "      <td>...</td>\n",
              "      <td>...</td>\n",
              "      <td>...</td>\n",
              "      <td>...</td>\n",
              "      <td>...</td>\n",
              "      <td>...</td>\n",
              "    </tr>\n",
              "    <tr>\n",
              "      <th>8123</th>\n",
              "      <td>2013</td>\n",
              "      <td>320000</td>\n",
              "      <td>110000</td>\n",
              "      <td>Petrol</td>\n",
              "      <td>Individual</td>\n",
              "      <td>Manual</td>\n",
              "      <td>First Owner</td>\n",
              "      <td>18.5 kmpl</td>\n",
              "      <td>1197 CC</td>\n",
              "      <td>82.85 bhp</td>\n",
              "      <td>5.0</td>\n",
              "    </tr>\n",
              "    <tr>\n",
              "      <th>8124</th>\n",
              "      <td>2007</td>\n",
              "      <td>135000</td>\n",
              "      <td>119000</td>\n",
              "      <td>Diesel</td>\n",
              "      <td>Individual</td>\n",
              "      <td>Manual</td>\n",
              "      <td>Fourth &amp; Above Owner</td>\n",
              "      <td>16.8 kmpl</td>\n",
              "      <td>1493 CC</td>\n",
              "      <td>110 bhp</td>\n",
              "      <td>5.0</td>\n",
              "    </tr>\n",
              "    <tr>\n",
              "      <th>8125</th>\n",
              "      <td>2009</td>\n",
              "      <td>382000</td>\n",
              "      <td>120000</td>\n",
              "      <td>Diesel</td>\n",
              "      <td>Individual</td>\n",
              "      <td>Manual</td>\n",
              "      <td>First Owner</td>\n",
              "      <td>19.3 kmpl</td>\n",
              "      <td>1248 CC</td>\n",
              "      <td>73.9 bhp</td>\n",
              "      <td>5.0</td>\n",
              "    </tr>\n",
              "    <tr>\n",
              "      <th>8126</th>\n",
              "      <td>2013</td>\n",
              "      <td>290000</td>\n",
              "      <td>25000</td>\n",
              "      <td>Diesel</td>\n",
              "      <td>Individual</td>\n",
              "      <td>Manual</td>\n",
              "      <td>First Owner</td>\n",
              "      <td>23.57 kmpl</td>\n",
              "      <td>1396 CC</td>\n",
              "      <td>70 bhp</td>\n",
              "      <td>5.0</td>\n",
              "    </tr>\n",
              "    <tr>\n",
              "      <th>8127</th>\n",
              "      <td>2013</td>\n",
              "      <td>290000</td>\n",
              "      <td>25000</td>\n",
              "      <td>Diesel</td>\n",
              "      <td>Individual</td>\n",
              "      <td>Manual</td>\n",
              "      <td>First Owner</td>\n",
              "      <td>23.57 kmpl</td>\n",
              "      <td>1396 CC</td>\n",
              "      <td>70 bhp</td>\n",
              "      <td>5.0</td>\n",
              "    </tr>\n",
              "  </tbody>\n",
              "</table>\n",
              "<p>8128 rows × 11 columns</p>\n",
              "</div>"
            ],
            "text/plain": [
              "      year  selling_price  km_driven  ...   engine   max_power seats\n",
              "0     2014         450000     145500  ...  1248 CC      74 bhp   5.0\n",
              "1     2014         370000     120000  ...  1498 CC  103.52 bhp   5.0\n",
              "2     2006         158000     140000  ...  1497 CC      78 bhp   5.0\n",
              "3     2010         225000     127000  ...  1396 CC      90 bhp   5.0\n",
              "4     2007         130000     120000  ...  1298 CC    88.2 bhp   5.0\n",
              "...    ...            ...        ...  ...      ...         ...   ...\n",
              "8123  2013         320000     110000  ...  1197 CC   82.85 bhp   5.0\n",
              "8124  2007         135000     119000  ...  1493 CC     110 bhp   5.0\n",
              "8125  2009         382000     120000  ...  1248 CC    73.9 bhp   5.0\n",
              "8126  2013         290000      25000  ...  1396 CC      70 bhp   5.0\n",
              "8127  2013         290000      25000  ...  1396 CC      70 bhp   5.0\n",
              "\n",
              "[8128 rows x 11 columns]"
            ]
          },
          "metadata": {
            "tags": []
          },
          "execution_count": 30
        }
      ]
    },
    {
      "cell_type": "code",
      "metadata": {
        "id": "Gr4YcffYd1FQ",
        "colab": {
          "base_uri": "https://localhost:8080/"
        },
        "outputId": "b3b5b892-e75e-41f9-8be4-b48b6b40d36e"
      },
      "source": [
        "data.shape"
      ],
      "execution_count": null,
      "outputs": [
        {
          "output_type": "execute_result",
          "data": {
            "text/plain": [
              "(8128, 11)"
            ]
          },
          "metadata": {
            "tags": []
          },
          "execution_count": 31
        }
      ]
    },
    {
      "cell_type": "markdown",
      "metadata": {
        "id": "HlLKVPVH_BCT"
      },
      "source": [
        "## Question 2"
      ]
    },
    {
      "cell_type": "markdown",
      "metadata": {
        "id": "ZxoGynuBeO4t"
      },
      "source": [
        "### Preprocess the data\n",
        "- Convert mileage, engine and max_power to numerical by extract numerical values from the strings\n",
        "- Label Encode: 'owner' column\n",
        "- One Hot Encode: 'fuel','seller_type','transmission' columns\n",
        "- Drop all the instances with null values"
      ]
    },
    {
      "cell_type": "code",
      "metadata": {
        "id": "WMsPLgUw4XED"
      },
      "source": [
        "def map_num(num):\n",
        "  try:\n",
        "    if type(num) == str:\n",
        "      return float(num.split()[0])\n",
        "    else:\n",
        "      return num\n",
        "  except:\n",
        "    return np.nan"
      ],
      "execution_count": null,
      "outputs": []
    },
    {
      "cell_type": "code",
      "metadata": {
        "id": "X_FaEocL4X4h"
      },
      "source": [
        "data[[\"mileage\",\"engine\",\"max_power\"]]=data[[\"mileage\",\"engine\",\"max_power\"]].applymap(map_num)"
      ],
      "execution_count": null,
      "outputs": []
    },
    {
      "cell_type": "code",
      "metadata": {
        "id": "FPAQ-IBf4Z9k",
        "colab": {
          "base_uri": "https://localhost:8080/",
          "height": 289
        },
        "outputId": "fe2c7d7c-be5b-4175-d9c6-654a2b400dda"
      },
      "source": [
        "data.head()"
      ],
      "execution_count": null,
      "outputs": [
        {
          "output_type": "execute_result",
          "data": {
            "text/html": [
              "<div>\n",
              "<style scoped>\n",
              "    .dataframe tbody tr th:only-of-type {\n",
              "        vertical-align: middle;\n",
              "    }\n",
              "\n",
              "    .dataframe tbody tr th {\n",
              "        vertical-align: top;\n",
              "    }\n",
              "\n",
              "    .dataframe thead th {\n",
              "        text-align: right;\n",
              "    }\n",
              "</style>\n",
              "<table border=\"1\" class=\"dataframe\">\n",
              "  <thead>\n",
              "    <tr style=\"text-align: right;\">\n",
              "      <th></th>\n",
              "      <th>year</th>\n",
              "      <th>selling_price</th>\n",
              "      <th>km_driven</th>\n",
              "      <th>fuel</th>\n",
              "      <th>seller_type</th>\n",
              "      <th>transmission</th>\n",
              "      <th>owner</th>\n",
              "      <th>mileage</th>\n",
              "      <th>engine</th>\n",
              "      <th>max_power</th>\n",
              "      <th>seats</th>\n",
              "    </tr>\n",
              "  </thead>\n",
              "  <tbody>\n",
              "    <tr>\n",
              "      <th>0</th>\n",
              "      <td>2014</td>\n",
              "      <td>450000</td>\n",
              "      <td>145500</td>\n",
              "      <td>Diesel</td>\n",
              "      <td>Individual</td>\n",
              "      <td>Manual</td>\n",
              "      <td>First Owner</td>\n",
              "      <td>23.40</td>\n",
              "      <td>1248.0</td>\n",
              "      <td>74.00</td>\n",
              "      <td>5.0</td>\n",
              "    </tr>\n",
              "    <tr>\n",
              "      <th>1</th>\n",
              "      <td>2014</td>\n",
              "      <td>370000</td>\n",
              "      <td>120000</td>\n",
              "      <td>Diesel</td>\n",
              "      <td>Individual</td>\n",
              "      <td>Manual</td>\n",
              "      <td>Second Owner</td>\n",
              "      <td>21.14</td>\n",
              "      <td>1498.0</td>\n",
              "      <td>103.52</td>\n",
              "      <td>5.0</td>\n",
              "    </tr>\n",
              "    <tr>\n",
              "      <th>2</th>\n",
              "      <td>2006</td>\n",
              "      <td>158000</td>\n",
              "      <td>140000</td>\n",
              "      <td>Petrol</td>\n",
              "      <td>Individual</td>\n",
              "      <td>Manual</td>\n",
              "      <td>Third Owner</td>\n",
              "      <td>17.70</td>\n",
              "      <td>1497.0</td>\n",
              "      <td>78.00</td>\n",
              "      <td>5.0</td>\n",
              "    </tr>\n",
              "    <tr>\n",
              "      <th>3</th>\n",
              "      <td>2010</td>\n",
              "      <td>225000</td>\n",
              "      <td>127000</td>\n",
              "      <td>Diesel</td>\n",
              "      <td>Individual</td>\n",
              "      <td>Manual</td>\n",
              "      <td>First Owner</td>\n",
              "      <td>23.00</td>\n",
              "      <td>1396.0</td>\n",
              "      <td>90.00</td>\n",
              "      <td>5.0</td>\n",
              "    </tr>\n",
              "    <tr>\n",
              "      <th>4</th>\n",
              "      <td>2007</td>\n",
              "      <td>130000</td>\n",
              "      <td>120000</td>\n",
              "      <td>Petrol</td>\n",
              "      <td>Individual</td>\n",
              "      <td>Manual</td>\n",
              "      <td>First Owner</td>\n",
              "      <td>16.10</td>\n",
              "      <td>1298.0</td>\n",
              "      <td>88.20</td>\n",
              "      <td>5.0</td>\n",
              "    </tr>\n",
              "  </tbody>\n",
              "</table>\n",
              "</div>"
            ],
            "text/plain": [
              "   year  selling_price  km_driven    fuel  ... mileage  engine max_power  seats\n",
              "0  2014         450000     145500  Diesel  ...   23.40  1248.0     74.00    5.0\n",
              "1  2014         370000     120000  Diesel  ...   21.14  1498.0    103.52    5.0\n",
              "2  2006         158000     140000  Petrol  ...   17.70  1497.0     78.00    5.0\n",
              "3  2010         225000     127000  Diesel  ...   23.00  1396.0     90.00    5.0\n",
              "4  2007         130000     120000  Petrol  ...   16.10  1298.0     88.20    5.0\n",
              "\n",
              "[5 rows x 11 columns]"
            ]
          },
          "metadata": {
            "tags": []
          },
          "execution_count": 34
        }
      ]
    },
    {
      "cell_type": "code",
      "metadata": {
        "id": "aXweg7mb4gMo"
      },
      "source": [
        "from sklearn.preprocessing import LabelEncoder,OneHotEncoder\n",
        "le=LabelEncoder()\n",
        "ohe=OneHotEncoder()"
      ],
      "execution_count": null,
      "outputs": []
    },
    {
      "cell_type": "code",
      "metadata": {
        "id": "nVjmsyJc4kpO"
      },
      "source": [
        "data[\"owner\"]=le.fit_transform(data[\"owner\"])"
      ],
      "execution_count": null,
      "outputs": []
    },
    {
      "cell_type": "code",
      "metadata": {
        "id": "q7fwyFQn4qD2",
        "colab": {
          "base_uri": "https://localhost:8080/",
          "height": 202
        },
        "outputId": "eb010365-61ea-4185-92cf-646870d0425e"
      },
      "source": [
        "data.head()"
      ],
      "execution_count": null,
      "outputs": [
        {
          "output_type": "execute_result",
          "data": {
            "text/html": [
              "<div>\n",
              "<style scoped>\n",
              "    .dataframe tbody tr th:only-of-type {\n",
              "        vertical-align: middle;\n",
              "    }\n",
              "\n",
              "    .dataframe tbody tr th {\n",
              "        vertical-align: top;\n",
              "    }\n",
              "\n",
              "    .dataframe thead th {\n",
              "        text-align: right;\n",
              "    }\n",
              "</style>\n",
              "<table border=\"1\" class=\"dataframe\">\n",
              "  <thead>\n",
              "    <tr style=\"text-align: right;\">\n",
              "      <th></th>\n",
              "      <th>year</th>\n",
              "      <th>selling_price</th>\n",
              "      <th>km_driven</th>\n",
              "      <th>fuel</th>\n",
              "      <th>seller_type</th>\n",
              "      <th>transmission</th>\n",
              "      <th>owner</th>\n",
              "      <th>mileage</th>\n",
              "      <th>engine</th>\n",
              "      <th>max_power</th>\n",
              "      <th>seats</th>\n",
              "    </tr>\n",
              "  </thead>\n",
              "  <tbody>\n",
              "    <tr>\n",
              "      <th>0</th>\n",
              "      <td>2014</td>\n",
              "      <td>450000</td>\n",
              "      <td>145500</td>\n",
              "      <td>Diesel</td>\n",
              "      <td>Individual</td>\n",
              "      <td>Manual</td>\n",
              "      <td>0</td>\n",
              "      <td>23.40</td>\n",
              "      <td>1248.0</td>\n",
              "      <td>74.00</td>\n",
              "      <td>5.0</td>\n",
              "    </tr>\n",
              "    <tr>\n",
              "      <th>1</th>\n",
              "      <td>2014</td>\n",
              "      <td>370000</td>\n",
              "      <td>120000</td>\n",
              "      <td>Diesel</td>\n",
              "      <td>Individual</td>\n",
              "      <td>Manual</td>\n",
              "      <td>2</td>\n",
              "      <td>21.14</td>\n",
              "      <td>1498.0</td>\n",
              "      <td>103.52</td>\n",
              "      <td>5.0</td>\n",
              "    </tr>\n",
              "    <tr>\n",
              "      <th>2</th>\n",
              "      <td>2006</td>\n",
              "      <td>158000</td>\n",
              "      <td>140000</td>\n",
              "      <td>Petrol</td>\n",
              "      <td>Individual</td>\n",
              "      <td>Manual</td>\n",
              "      <td>4</td>\n",
              "      <td>17.70</td>\n",
              "      <td>1497.0</td>\n",
              "      <td>78.00</td>\n",
              "      <td>5.0</td>\n",
              "    </tr>\n",
              "    <tr>\n",
              "      <th>3</th>\n",
              "      <td>2010</td>\n",
              "      <td>225000</td>\n",
              "      <td>127000</td>\n",
              "      <td>Diesel</td>\n",
              "      <td>Individual</td>\n",
              "      <td>Manual</td>\n",
              "      <td>0</td>\n",
              "      <td>23.00</td>\n",
              "      <td>1396.0</td>\n",
              "      <td>90.00</td>\n",
              "      <td>5.0</td>\n",
              "    </tr>\n",
              "    <tr>\n",
              "      <th>4</th>\n",
              "      <td>2007</td>\n",
              "      <td>130000</td>\n",
              "      <td>120000</td>\n",
              "      <td>Petrol</td>\n",
              "      <td>Individual</td>\n",
              "      <td>Manual</td>\n",
              "      <td>0</td>\n",
              "      <td>16.10</td>\n",
              "      <td>1298.0</td>\n",
              "      <td>88.20</td>\n",
              "      <td>5.0</td>\n",
              "    </tr>\n",
              "  </tbody>\n",
              "</table>\n",
              "</div>"
            ],
            "text/plain": [
              "   year  selling_price  km_driven    fuel  ... mileage  engine  max_power  seats\n",
              "0  2014         450000     145500  Diesel  ...   23.40  1248.0      74.00    5.0\n",
              "1  2014         370000     120000  Diesel  ...   21.14  1498.0     103.52    5.0\n",
              "2  2006         158000     140000  Petrol  ...   17.70  1497.0      78.00    5.0\n",
              "3  2010         225000     127000  Diesel  ...   23.00  1396.0      90.00    5.0\n",
              "4  2007         130000     120000  Petrol  ...   16.10  1298.0      88.20    5.0\n",
              "\n",
              "[5 rows x 11 columns]"
            ]
          },
          "metadata": {
            "tags": []
          },
          "execution_count": 37
        }
      ]
    },
    {
      "cell_type": "code",
      "metadata": {
        "id": "btbL2MeO4wTs"
      },
      "source": [
        "cat_columns=['fuel','seller_type','transmission']\n",
        "for category in cat_columns:\n",
        "  z=pd.get_dummies(data[category])\n",
        "  data=pd.concat([data,z],axis=1)\n",
        "  data.drop(columns=[category],inplace=True)\n",
        "\n"
      ],
      "execution_count": null,
      "outputs": []
    },
    {
      "cell_type": "code",
      "metadata": {
        "colab": {
          "base_uri": "https://localhost:8080/",
          "height": 239
        },
        "id": "KrFkoGGqlKZR",
        "outputId": "1f946bd3-9150-4a6a-e120-a34a1107f2bc"
      },
      "source": [
        "data.head()"
      ],
      "execution_count": null,
      "outputs": [
        {
          "output_type": "execute_result",
          "data": {
            "text/html": [
              "<div>\n",
              "<style scoped>\n",
              "    .dataframe tbody tr th:only-of-type {\n",
              "        vertical-align: middle;\n",
              "    }\n",
              "\n",
              "    .dataframe tbody tr th {\n",
              "        vertical-align: top;\n",
              "    }\n",
              "\n",
              "    .dataframe thead th {\n",
              "        text-align: right;\n",
              "    }\n",
              "</style>\n",
              "<table border=\"1\" class=\"dataframe\">\n",
              "  <thead>\n",
              "    <tr style=\"text-align: right;\">\n",
              "      <th></th>\n",
              "      <th>year</th>\n",
              "      <th>selling_price</th>\n",
              "      <th>km_driven</th>\n",
              "      <th>owner</th>\n",
              "      <th>mileage</th>\n",
              "      <th>engine</th>\n",
              "      <th>max_power</th>\n",
              "      <th>seats</th>\n",
              "      <th>CNG</th>\n",
              "      <th>Diesel</th>\n",
              "      <th>LPG</th>\n",
              "      <th>Petrol</th>\n",
              "      <th>Dealer</th>\n",
              "      <th>Individual</th>\n",
              "      <th>Trustmark Dealer</th>\n",
              "      <th>Automatic</th>\n",
              "      <th>Manual</th>\n",
              "    </tr>\n",
              "  </thead>\n",
              "  <tbody>\n",
              "    <tr>\n",
              "      <th>0</th>\n",
              "      <td>2014</td>\n",
              "      <td>450000</td>\n",
              "      <td>145500</td>\n",
              "      <td>0</td>\n",
              "      <td>23.40</td>\n",
              "      <td>1248.0</td>\n",
              "      <td>74.00</td>\n",
              "      <td>5.0</td>\n",
              "      <td>0</td>\n",
              "      <td>1</td>\n",
              "      <td>0</td>\n",
              "      <td>0</td>\n",
              "      <td>0</td>\n",
              "      <td>1</td>\n",
              "      <td>0</td>\n",
              "      <td>0</td>\n",
              "      <td>1</td>\n",
              "    </tr>\n",
              "    <tr>\n",
              "      <th>1</th>\n",
              "      <td>2014</td>\n",
              "      <td>370000</td>\n",
              "      <td>120000</td>\n",
              "      <td>2</td>\n",
              "      <td>21.14</td>\n",
              "      <td>1498.0</td>\n",
              "      <td>103.52</td>\n",
              "      <td>5.0</td>\n",
              "      <td>0</td>\n",
              "      <td>1</td>\n",
              "      <td>0</td>\n",
              "      <td>0</td>\n",
              "      <td>0</td>\n",
              "      <td>1</td>\n",
              "      <td>0</td>\n",
              "      <td>0</td>\n",
              "      <td>1</td>\n",
              "    </tr>\n",
              "    <tr>\n",
              "      <th>2</th>\n",
              "      <td>2006</td>\n",
              "      <td>158000</td>\n",
              "      <td>140000</td>\n",
              "      <td>4</td>\n",
              "      <td>17.70</td>\n",
              "      <td>1497.0</td>\n",
              "      <td>78.00</td>\n",
              "      <td>5.0</td>\n",
              "      <td>0</td>\n",
              "      <td>0</td>\n",
              "      <td>0</td>\n",
              "      <td>1</td>\n",
              "      <td>0</td>\n",
              "      <td>1</td>\n",
              "      <td>0</td>\n",
              "      <td>0</td>\n",
              "      <td>1</td>\n",
              "    </tr>\n",
              "    <tr>\n",
              "      <th>3</th>\n",
              "      <td>2010</td>\n",
              "      <td>225000</td>\n",
              "      <td>127000</td>\n",
              "      <td>0</td>\n",
              "      <td>23.00</td>\n",
              "      <td>1396.0</td>\n",
              "      <td>90.00</td>\n",
              "      <td>5.0</td>\n",
              "      <td>0</td>\n",
              "      <td>1</td>\n",
              "      <td>0</td>\n",
              "      <td>0</td>\n",
              "      <td>0</td>\n",
              "      <td>1</td>\n",
              "      <td>0</td>\n",
              "      <td>0</td>\n",
              "      <td>1</td>\n",
              "    </tr>\n",
              "    <tr>\n",
              "      <th>4</th>\n",
              "      <td>2007</td>\n",
              "      <td>130000</td>\n",
              "      <td>120000</td>\n",
              "      <td>0</td>\n",
              "      <td>16.10</td>\n",
              "      <td>1298.0</td>\n",
              "      <td>88.20</td>\n",
              "      <td>5.0</td>\n",
              "      <td>0</td>\n",
              "      <td>0</td>\n",
              "      <td>0</td>\n",
              "      <td>1</td>\n",
              "      <td>0</td>\n",
              "      <td>1</td>\n",
              "      <td>0</td>\n",
              "      <td>0</td>\n",
              "      <td>1</td>\n",
              "    </tr>\n",
              "  </tbody>\n",
              "</table>\n",
              "</div>"
            ],
            "text/plain": [
              "   year  selling_price  km_driven  ...  Trustmark Dealer  Automatic  Manual\n",
              "0  2014         450000     145500  ...                 0          0       1\n",
              "1  2014         370000     120000  ...                 0          0       1\n",
              "2  2006         158000     140000  ...                 0          0       1\n",
              "3  2010         225000     127000  ...                 0          0       1\n",
              "4  2007         130000     120000  ...                 0          0       1\n",
              "\n",
              "[5 rows x 17 columns]"
            ]
          },
          "metadata": {
            "tags": []
          },
          "execution_count": 39
        }
      ]
    },
    {
      "cell_type": "code",
      "metadata": {
        "colab": {
          "base_uri": "https://localhost:8080/"
        },
        "id": "2UQeJ1CTmLNB",
        "outputId": "a96c45a5-51b0-42bc-d04e-24ed70175291"
      },
      "source": [
        "data.isna().sum()"
      ],
      "execution_count": null,
      "outputs": [
        {
          "output_type": "execute_result",
          "data": {
            "text/plain": [
              "year                  0\n",
              "selling_price         0\n",
              "km_driven             0\n",
              "owner                 0\n",
              "mileage             221\n",
              "engine              221\n",
              "max_power           216\n",
              "seats               221\n",
              "CNG                   0\n",
              "Diesel                0\n",
              "LPG                   0\n",
              "Petrol                0\n",
              "Dealer                0\n",
              "Individual            0\n",
              "Trustmark Dealer      0\n",
              "Automatic             0\n",
              "Manual                0\n",
              "dtype: int64"
            ]
          },
          "metadata": {
            "tags": []
          },
          "execution_count": 40
        }
      ]
    },
    {
      "cell_type": "code",
      "metadata": {
        "id": "ql-h4bx6mUZk"
      },
      "source": [
        "data=data.dropna(axis=0)"
      ],
      "execution_count": null,
      "outputs": []
    },
    {
      "cell_type": "code",
      "metadata": {
        "colab": {
          "base_uri": "https://localhost:8080/"
        },
        "id": "XU3XpWx5msU4",
        "outputId": "c3aff893-df37-442c-e0b2-956b48a74f6f"
      },
      "source": [
        "data.shape"
      ],
      "execution_count": null,
      "outputs": [
        {
          "output_type": "execute_result",
          "data": {
            "text/plain": [
              "(7906, 17)"
            ]
          },
          "metadata": {
            "tags": []
          },
          "execution_count": 42
        }
      ]
    },
    {
      "cell_type": "markdown",
      "metadata": {
        "id": "ez91ID6AEgPm"
      },
      "source": [
        "## Question 3"
      ]
    },
    {
      "cell_type": "markdown",
      "metadata": {
        "id": "9J4BlzVA_gZd"
      },
      "source": [
        "### Split the data and then scale the data\n",
        "- Split the data into ratio of 75:25 with random state=12\n",
        "- Perform standard scaling on X_train and X_test data\n"
      ]
    },
    {
      "cell_type": "code",
      "metadata": {
        "id": "IKEK8aEE_Csx"
      },
      "source": [
        "from sklearn.model_selection import train_test_split\n",
        "x=data.drop(\"selling_price\",axis=1)\n",
        "y=data[\"selling_price\"]"
      ],
      "execution_count": null,
      "outputs": []
    },
    {
      "cell_type": "code",
      "metadata": {
        "id": "59F0lA4z8SH-"
      },
      "source": [
        "X_train, X_test, y_train, y_test = train_test_split(x, y, test_size=0.25, random_state=12)"
      ],
      "execution_count": null,
      "outputs": []
    },
    {
      "cell_type": "code",
      "metadata": {
        "id": "ECHyGwHPnCmu"
      },
      "source": [
        "from sklearn.preprocessing import StandardScaler\n",
        "sc=StandardScaler()\n",
        "X_train=sc.fit_transform(X_train)\n",
        "X_test=sc.transform(X_test)"
      ],
      "execution_count": null,
      "outputs": []
    },
    {
      "cell_type": "markdown",
      "metadata": {
        "id": "cTPhO6v-AiZt"
      },
      "source": [
        "## Question 4"
      ]
    },
    {
      "cell_type": "markdown",
      "metadata": {
        "id": "SsZXmF3NAkna"
      },
      "source": [
        "### Create a Deep Neural Network Model for Regression\n",
        "- Initialize a Sequential model\n",
        "- Add 3 hidden layer with activation relu (Number of neurons = 64,128,32 respectively)\n",
        "- Add dropout layer after each hidden layer\n",
        "- Add a Dense layer with one neuron as output, use activation linear\n",
        "  \n"
      ]
    },
    {
      "cell_type": "code",
      "metadata": {
        "id": "aKs04iIHAjxN"
      },
      "source": [
        "from tensorflow.keras.models import Sequential\n",
        "from tensorflow.keras.layers import Dense,ReLU,Dropout,Input,LeakyReLU\n",
        "from keras.utils.vis_utils import plot_model\n",
        "from tensorflow.keras.optimizers import Adam,SGD"
      ],
      "execution_count": null,
      "outputs": []
    },
    {
      "cell_type": "code",
      "metadata": {
        "id": "xQjCMzUXBJbg"
      },
      "source": [
        "model=Sequential()\n",
        "\n",
        "model.add(tf.keras.Input(shape=16))\n",
        "\n",
        "model.add(Dense(64,activation='relu'))\n",
        "model.add(Dropout(0.20))\n",
        "\n",
        "model.add(Dense(128,activation='relu'))\n",
        "model.add(Dropout(0.15))\n",
        "\n",
        "model.add(Dense(32,activation='relu'))\n",
        "model.add(Dropout(0.15))\n",
        "\n",
        "model.add(Dense(1,activation=\"linear\"))"
      ],
      "execution_count": null,
      "outputs": []
    },
    {
      "cell_type": "markdown",
      "metadata": {
        "id": "aHstM0fX_-kI"
      },
      "source": [
        "### Check model summary and visualize the model"
      ]
    },
    {
      "cell_type": "code",
      "metadata": {
        "id": "Ksap6Rx0BNIw",
        "colab": {
          "base_uri": "https://localhost:8080/"
        },
        "outputId": "eb70514a-3cbe-40b6-ee0e-97ef320799ca"
      },
      "source": [
        "model.summary(  )"
      ],
      "execution_count": null,
      "outputs": [
        {
          "output_type": "stream",
          "text": [
            "Model: \"sequential\"\n",
            "_________________________________________________________________\n",
            "Layer (type)                 Output Shape              Param #   \n",
            "=================================================================\n",
            "dense (Dense)                (None, 64)                1088      \n",
            "_________________________________________________________________\n",
            "dropout (Dropout)            (None, 64)                0         \n",
            "_________________________________________________________________\n",
            "dense_1 (Dense)              (None, 128)               8320      \n",
            "_________________________________________________________________\n",
            "dropout_1 (Dropout)          (None, 128)               0         \n",
            "_________________________________________________________________\n",
            "dense_2 (Dense)              (None, 32)                4128      \n",
            "_________________________________________________________________\n",
            "dropout_2 (Dropout)          (None, 32)                0         \n",
            "_________________________________________________________________\n",
            "dense_3 (Dense)              (None, 1)                 33        \n",
            "=================================================================\n",
            "Total params: 13,569\n",
            "Trainable params: 13,569\n",
            "Non-trainable params: 0\n",
            "_________________________________________________________________\n"
          ],
          "name": "stdout"
        }
      ]
    },
    {
      "cell_type": "code",
      "metadata": {
        "colab": {
          "base_uri": "https://localhost:8080/",
          "height": 865
        },
        "id": "ni9ZwuC2uU1S",
        "outputId": "2acbffa3-0b51-47db-dc4e-d78673622761"
      },
      "source": [
        "plot_model(model,show_layer_names=True,show_shapes=True)"
      ],
      "execution_count": null,
      "outputs": [
        {
          "output_type": "execute_result",
          "data": {
            "image/png": "[encoded data removed]",
            "text/plain": [
              "<IPython.core.display.Image object>"
            ]
          },
          "metadata": {
            "tags": []
          },
          "execution_count": 49
        }
      ]
    },
    {
      "cell_type": "markdown",
      "metadata": {
        "id": "y7WTmUI-Ey95"
      },
      "source": [
        "## Question 5"
      ]
    },
    {
      "cell_type": "markdown",
      "metadata": {
        "id": "C8u_jlbABTip"
      },
      "source": [
        "### Compile the model\n",
        "\n",
        "- Compile the model\n",
        "- Use \"adam\" optimizer\n",
        "- for calculating loss, use mean absolute error\n",
        "- use R2 score (coefficient of determination) as the metric"
      ]
    },
    {
      "cell_type": "code",
      "metadata": {
        "id": "_bxtG5P9-5BP"
      },
      "source": [
        "from keras import backend as K\n",
        "def r_2_score(y_true, y_pred):\n",
        "    SS_resid =  K.sum(K.square( y_true-y_pred )) \n",
        "    SS_total = K.sum(K.square( y_true - K.mean(y_true) ) ) \n",
        "    return ( 1 - SS_resid/(SS_total + K.epsilon()))\n"
      ],
      "execution_count": null,
      "outputs": []
    },
    {
      "cell_type": "code",
      "metadata": {
        "id": "0aDDAcT7xHB0"
      },
      "source": [
        "from sklearn.metrics import r2_score\n",
        "model.compile(optimizer='adam',loss='mean_absolute_error',metrics=[r_2_score])"
      ],
      "execution_count": null,
      "outputs": []
    },
    {
      "cell_type": "markdown",
      "metadata": {
        "id": "s-ntyk6k_EmT"
      },
      "source": [
        "Other metrics can also be used to track the learning of the model:\n",
        "\n",
        "To learn different metrics for classification and regression visit the following link:\n",
        "\n",
        "Link: https://keras.io/api/metrics/#usage-with-compile-amp-fit"
      ]
    },
    {
      "cell_type": "markdown",
      "metadata": {
        "id": "n9o45OHdjDhA"
      },
      "source": [
        "### Train your model\n",
        "\n",
        "- epochs: 1000\n",
        "- batch size: 32\n",
        "- Use test data as validation data\n",
        "- Also add callback, such that if validation loss doesn't decreases consecutively 10 times, stop the training and return the weights for the previous best model"
      ]
    },
    {
      "cell_type": "code",
      "metadata": {
        "colab": {
          "base_uri": "https://localhost:8080/"
        },
        "id": "P2pK_jhPxZ3H",
        "outputId": "9ab1f279-1768-446e-cbe8-c8db7f251fd9"
      },
      "source": [
        "callback=tf.keras.callbacks.EarlyStopping(monitor='val_loss',patience=5,restore_best_weights=True,mode='min')\n",
        "history=model.fit(X_train,y_train,epochs=200,batch_size=32,callbacks=[callback],verbose=1,validation_data=(X_test,y_test))"
      ],
      "execution_count": null,
      "outputs": [
        {
          "output_type": "stream",
          "text": [
            "Epoch 1/200\n",
            "186/186 [==============================] - 1s 3ms/step - loss: 647914.6207 - r_2_score: -1.2122 - val_loss: 647976.8125 - val_r_2_score: -1.0112\n",
            "Epoch 2/200\n",
            "186/186 [==============================] - 0s 2ms/step - loss: 633009.3783 - r_2_score: -1.0432 - val_loss: 524059.3438 - val_r_2_score: -0.5671\n",
            "Epoch 3/200\n",
            "186/186 [==============================] - 0s 2ms/step - loss: 448716.4611 - r_2_score: -0.4002 - val_loss: 305459.4062 - val_r_2_score: 0.3026\n",
            "Epoch 4/200\n",
            "186/186 [==============================] - 0s 2ms/step - loss: 280074.0786 - r_2_score: 0.3887 - val_loss: 246370.5312 - val_r_2_score: 0.5530\n",
            "Epoch 5/200\n",
            "186/186 [==============================] - 0s 2ms/step - loss: 234687.5339 - r_2_score: 0.5434 - val_loss: 223128.3906 - val_r_2_score: 0.6232\n",
            "Epoch 6/200\n",
            "186/186 [==============================] - 0s 2ms/step - loss: 222405.5563 - r_2_score: 0.6111 - val_loss: 210084.1875 - val_r_2_score: 0.6584\n",
            "Epoch 7/200\n",
            "186/186 [==============================] - 0s 2ms/step - loss: 201522.5596 - r_2_score: 0.6732 - val_loss: 201592.7969 - val_r_2_score: 0.6797\n",
            "Epoch 8/200\n",
            "186/186 [==============================] - 0s 2ms/step - loss: 211853.5519 - r_2_score: 0.6685 - val_loss: 196216.9844 - val_r_2_score: 0.6935\n",
            "Epoch 9/200\n",
            "186/186 [==============================] - 0s 2ms/step - loss: 205639.1914 - r_2_score: 0.6475 - val_loss: 193550.4219 - val_r_2_score: 0.7003\n",
            "Epoch 10/200\n",
            "186/186 [==============================] - 0s 2ms/step - loss: 199179.2896 - r_2_score: 0.6629 - val_loss: 191388.2500 - val_r_2_score: 0.7070\n",
            "Epoch 11/200\n",
            "186/186 [==============================] - 0s 2ms/step - loss: 189898.9555 - r_2_score: 0.6788 - val_loss: 188678.6719 - val_r_2_score: 0.7154\n",
            "Epoch 12/200\n",
            "186/186 [==============================] - 0s 2ms/step - loss: 184999.3723 - r_2_score: 0.6736 - val_loss: 187314.2188 - val_r_2_score: 0.7195\n",
            "Epoch 13/200\n",
            "186/186 [==============================] - 0s 2ms/step - loss: 198982.0606 - r_2_score: 0.7000 - val_loss: 186122.2344 - val_r_2_score: 0.7236\n",
            "Epoch 14/200\n",
            "186/186 [==============================] - 0s 2ms/step - loss: 191299.3256 - r_2_score: 0.6515 - val_loss: 184849.9219 - val_r_2_score: 0.7270\n",
            "Epoch 15/200\n",
            "186/186 [==============================] - 0s 2ms/step - loss: 194724.5312 - r_2_score: 0.7061 - val_loss: 184955.5625 - val_r_2_score: 0.7274\n",
            "Epoch 16/200\n",
            "186/186 [==============================] - 0s 2ms/step - loss: 188044.8707 - r_2_score: 0.7170 - val_loss: 182983.0938 - val_r_2_score: 0.7329\n",
            "Epoch 17/200\n",
            "186/186 [==============================] - 0s 2ms/step - loss: 184095.7018 - r_2_score: 0.7154 - val_loss: 181515.9531 - val_r_2_score: 0.7372\n",
            "Epoch 18/200\n",
            "186/186 [==============================] - 0s 2ms/step - loss: 186937.8902 - r_2_score: 0.7160 - val_loss: 181205.0469 - val_r_2_score: 0.7375\n",
            "Epoch 19/200\n",
            "186/186 [==============================] - 0s 2ms/step - loss: 178500.9294 - r_2_score: 0.7345 - val_loss: 179321.0938 - val_r_2_score: 0.7427\n",
            "Epoch 20/200\n",
            "186/186 [==============================] - 0s 2ms/step - loss: 192360.8018 - r_2_score: 0.6848 - val_loss: 178335.7656 - val_r_2_score: 0.7452\n",
            "Epoch 21/200\n",
            "186/186 [==============================] - 0s 2ms/step - loss: 188287.6717 - r_2_score: 0.7222 - val_loss: 176809.5625 - val_r_2_score: 0.7498\n",
            "Epoch 22/200\n",
            "186/186 [==============================] - 0s 2ms/step - loss: 183951.9538 - r_2_score: 0.7313 - val_loss: 176696.1406 - val_r_2_score: 0.7497\n",
            "Epoch 23/200\n",
            "186/186 [==============================] - 0s 2ms/step - loss: 186621.9207 - r_2_score: 0.7081 - val_loss: 175531.1406 - val_r_2_score: 0.7525\n",
            "Epoch 24/200\n",
            "186/186 [==============================] - 0s 2ms/step - loss: 191113.2396 - r_2_score: 0.7311 - val_loss: 174604.8594 - val_r_2_score: 0.7557\n",
            "Epoch 25/200\n",
            "186/186 [==============================] - 0s 2ms/step - loss: 174569.6909 - r_2_score: 0.7158 - val_loss: 173709.9375 - val_r_2_score: 0.7575\n",
            "Epoch 26/200\n",
            "186/186 [==============================] - 0s 2ms/step - loss: 185517.0130 - r_2_score: 0.7236 - val_loss: 172957.0000 - val_r_2_score: 0.7590\n",
            "Epoch 27/200\n",
            "186/186 [==============================] - 0s 2ms/step - loss: 182641.3472 - r_2_score: 0.7071 - val_loss: 171813.8125 - val_r_2_score: 0.7616\n",
            "Epoch 28/200\n",
            "186/186 [==============================] - 0s 2ms/step - loss: 183289.4107 - r_2_score: 0.7264 - val_loss: 170959.2500 - val_r_2_score: 0.7643\n",
            "Epoch 29/200\n",
            "186/186 [==============================] - 0s 2ms/step - loss: 175652.3707 - r_2_score: 0.7400 - val_loss: 169825.9844 - val_r_2_score: 0.7660\n",
            "Epoch 30/200\n",
            "186/186 [==============================] - 0s 2ms/step - loss: 179102.3808 - r_2_score: 0.7524 - val_loss: 169723.1250 - val_r_2_score: 0.7669\n",
            "Epoch 31/200\n",
            "186/186 [==============================] - 0s 2ms/step - loss: 169830.6216 - r_2_score: 0.7484 - val_loss: 168669.1094 - val_r_2_score: 0.7690\n",
            "Epoch 32/200\n",
            "186/186 [==============================] - 0s 2ms/step - loss: 181370.1695 - r_2_score: 0.7613 - val_loss: 168078.7500 - val_r_2_score: 0.7700\n",
            "Epoch 33/200\n",
            "186/186 [==============================] - 0s 2ms/step - loss: 170835.7678 - r_2_score: 0.7349 - val_loss: 167230.1094 - val_r_2_score: 0.7720\n",
            "Epoch 34/200\n",
            "186/186 [==============================] - 0s 2ms/step - loss: 182301.2107 - r_2_score: 0.7560 - val_loss: 166298.6719 - val_r_2_score: 0.7743\n",
            "Epoch 35/200\n",
            "186/186 [==============================] - 0s 2ms/step - loss: 175271.6863 - r_2_score: 0.7352 - val_loss: 165357.4375 - val_r_2_score: 0.7753\n",
            "Epoch 36/200\n",
            "186/186 [==============================] - 0s 2ms/step - loss: 181397.8739 - r_2_score: 0.7377 - val_loss: 165204.0469 - val_r_2_score: 0.7762\n",
            "Epoch 37/200\n",
            "186/186 [==============================] - 0s 2ms/step - loss: 178053.4169 - r_2_score: 0.7429 - val_loss: 164283.0781 - val_r_2_score: 0.7778\n",
            "Epoch 38/200\n",
            "186/186 [==============================] - 0s 2ms/step - loss: 174907.3750 - r_2_score: 0.7425 - val_loss: 163205.9375 - val_r_2_score: 0.7804\n",
            "Epoch 39/200\n",
            "186/186 [==============================] - 0s 2ms/step - loss: 175925.9083 - r_2_score: 0.7316 - val_loss: 162630.8594 - val_r_2_score: 0.7810\n",
            "Epoch 40/200\n",
            "186/186 [==============================] - 0s 2ms/step - loss: 168496.3341 - r_2_score: 0.7542 - val_loss: 162273.1562 - val_r_2_score: 0.7812\n",
            "Epoch 41/200\n",
            "186/186 [==============================] - 0s 2ms/step - loss: 161973.6782 - r_2_score: 0.7661 - val_loss: 161682.4688 - val_r_2_score: 0.7813\n",
            "Epoch 42/200\n",
            "186/186 [==============================] - 0s 2ms/step - loss: 174183.5978 - r_2_score: 0.7473 - val_loss: 161896.6875 - val_r_2_score: 0.7811\n",
            "Epoch 43/200\n",
            "186/186 [==============================] - 0s 2ms/step - loss: 175889.9220 - r_2_score: 0.7545 - val_loss: 160638.3125 - val_r_2_score: 0.7840\n",
            "Epoch 44/200\n",
            "186/186 [==============================] - 0s 2ms/step - loss: 164898.4916 - r_2_score: 0.7316 - val_loss: 159241.0469 - val_r_2_score: 0.7864\n",
            "Epoch 45/200\n",
            "186/186 [==============================] - 0s 2ms/step - loss: 173338.7394 - r_2_score: 0.7348 - val_loss: 159839.9688 - val_r_2_score: 0.7860\n",
            "Epoch 46/200\n",
            "186/186 [==============================] - 0s 2ms/step - loss: 162766.3510 - r_2_score: 0.7682 - val_loss: 159848.1875 - val_r_2_score: 0.7864\n",
            "Epoch 47/200\n",
            "186/186 [==============================] - 0s 2ms/step - loss: 172698.4810 - r_2_score: 0.7506 - val_loss: 158147.5469 - val_r_2_score: 0.7877\n",
            "Epoch 48/200\n",
            "186/186 [==============================] - 0s 2ms/step - loss: 168315.3603 - r_2_score: 0.7628 - val_loss: 158183.4062 - val_r_2_score: 0.7892\n",
            "Epoch 49/200\n",
            "186/186 [==============================] - 0s 2ms/step - loss: 165256.0862 - r_2_score: 0.7292 - val_loss: 157043.1406 - val_r_2_score: 0.7904\n",
            "Epoch 50/200\n",
            "186/186 [==============================] - 0s 2ms/step - loss: 171826.5270 - r_2_score: 0.7868 - val_loss: 156846.6562 - val_r_2_score: 0.7906\n",
            "Epoch 51/200\n",
            "186/186 [==============================] - 0s 2ms/step - loss: 171544.0747 - r_2_score: 0.7704 - val_loss: 157210.7656 - val_r_2_score: 0.7902\n",
            "Epoch 52/200\n",
            "186/186 [==============================] - 0s 2ms/step - loss: 174108.5762 - r_2_score: 0.7487 - val_loss: 155543.7812 - val_r_2_score: 0.7916\n",
            "Epoch 53/200\n",
            "186/186 [==============================] - 0s 2ms/step - loss: 163039.9391 - r_2_score: 0.7889 - val_loss: 155082.7969 - val_r_2_score: 0.7930\n",
            "Epoch 54/200\n",
            "186/186 [==============================] - 0s 2ms/step - loss: 165909.8965 - r_2_score: 0.7700 - val_loss: 154726.9062 - val_r_2_score: 0.7931\n",
            "Epoch 55/200\n",
            "186/186 [==============================] - 0s 2ms/step - loss: 162982.6192 - r_2_score: 0.7286 - val_loss: 154693.3750 - val_r_2_score: 0.7947\n",
            "Epoch 56/200\n",
            "186/186 [==============================] - 0s 2ms/step - loss: 173990.3864 - r_2_score: 0.7668 - val_loss: 154649.9531 - val_r_2_score: 0.7957\n",
            "Epoch 57/200\n",
            "186/186 [==============================] - 0s 2ms/step - loss: 165837.2464 - r_2_score: 0.7549 - val_loss: 153650.1406 - val_r_2_score: 0.7969\n",
            "Epoch 58/200\n",
            "186/186 [==============================] - 0s 2ms/step - loss: 162811.8803 - r_2_score: 0.7530 - val_loss: 153439.7344 - val_r_2_score: 0.7968\n",
            "Epoch 59/200\n",
            "186/186 [==============================] - 0s 2ms/step - loss: 168232.4803 - r_2_score: 0.7400 - val_loss: 153002.3125 - val_r_2_score: 0.7982\n",
            "Epoch 60/200\n",
            "186/186 [==============================] - 0s 2ms/step - loss: 164558.2757 - r_2_score: 0.7705 - val_loss: 152827.0312 - val_r_2_score: 0.7992\n",
            "Epoch 61/200\n",
            "186/186 [==============================] - 0s 2ms/step - loss: 160293.4251 - r_2_score: 0.7594 - val_loss: 151911.4219 - val_r_2_score: 0.7995\n",
            "Epoch 62/200\n",
            "186/186 [==============================] - 0s 2ms/step - loss: 162563.5709 - r_2_score: 0.7769 - val_loss: 152498.1406 - val_r_2_score: 0.7989\n",
            "Epoch 63/200\n",
            "186/186 [==============================] - 0s 2ms/step - loss: 164001.8688 - r_2_score: 0.7931 - val_loss: 152413.6562 - val_r_2_score: 0.7989\n",
            "Epoch 64/200\n",
            "186/186 [==============================] - 0s 2ms/step - loss: 159114.6934 - r_2_score: 0.7861 - val_loss: 150778.9531 - val_r_2_score: 0.8022\n",
            "Epoch 65/200\n",
            "186/186 [==============================] - 0s 2ms/step - loss: 165473.2796 - r_2_score: 0.7897 - val_loss: 150177.0938 - val_r_2_score: 0.8016\n",
            "Epoch 66/200\n",
            "186/186 [==============================] - 0s 2ms/step - loss: 161749.2630 - r_2_score: 0.8001 - val_loss: 151524.6562 - val_r_2_score: 0.8026\n",
            "Epoch 67/200\n",
            "186/186 [==============================] - 0s 2ms/step - loss: 166573.2497 - r_2_score: 0.7855 - val_loss: 149723.2500 - val_r_2_score: 0.8043\n",
            "Epoch 68/200\n",
            "186/186 [==============================] - 0s 2ms/step - loss: 158596.7059 - r_2_score: 0.7962 - val_loss: 149566.4375 - val_r_2_score: 0.8047\n",
            "Epoch 69/200\n",
            "186/186 [==============================] - 0s 2ms/step - loss: 168971.7131 - r_2_score: 0.7912 - val_loss: 150580.1094 - val_r_2_score: 0.8038\n",
            "Epoch 70/200\n",
            "186/186 [==============================] - 0s 2ms/step - loss: 166818.1520 - r_2_score: 0.7598 - val_loss: 148432.3125 - val_r_2_score: 0.8044\n",
            "Epoch 71/200\n",
            "186/186 [==============================] - 0s 2ms/step - loss: 168517.5007 - r_2_score: 0.7899 - val_loss: 148103.7344 - val_r_2_score: 0.8047\n",
            "Epoch 72/200\n",
            "186/186 [==============================] - 0s 2ms/step - loss: 160701.0827 - r_2_score: 0.7778 - val_loss: 147616.5781 - val_r_2_score: 0.8041\n",
            "Epoch 73/200\n",
            "186/186 [==============================] - 0s 2ms/step - loss: 160465.2465 - r_2_score: 0.7798 - val_loss: 148187.5000 - val_r_2_score: 0.8065\n",
            "Epoch 74/200\n",
            "186/186 [==============================] - 0s 2ms/step - loss: 163712.6184 - r_2_score: 0.7667 - val_loss: 147571.8438 - val_r_2_score: 0.8071\n",
            "Epoch 75/200\n",
            "186/186 [==============================] - 0s 2ms/step - loss: 163999.4745 - r_2_score: 0.7768 - val_loss: 147330.8281 - val_r_2_score: 0.8069\n",
            "Epoch 76/200\n",
            "186/186 [==============================] - 0s 2ms/step - loss: 161065.2332 - r_2_score: 0.7674 - val_loss: 147424.0938 - val_r_2_score: 0.8084\n",
            "Epoch 77/200\n",
            "186/186 [==============================] - 0s 2ms/step - loss: 160983.4421 - r_2_score: 0.7904 - val_loss: 146936.9688 - val_r_2_score: 0.8091\n",
            "Epoch 78/200\n",
            "186/186 [==============================] - 0s 2ms/step - loss: 153233.7220 - r_2_score: 0.8011 - val_loss: 145965.9375 - val_r_2_score: 0.8085\n",
            "Epoch 79/200\n",
            "186/186 [==============================] - 0s 2ms/step - loss: 158202.4662 - r_2_score: 0.7837 - val_loss: 145894.6875 - val_r_2_score: 0.8090\n",
            "Epoch 80/200\n",
            "186/186 [==============================] - 0s 2ms/step - loss: 160491.0799 - r_2_score: 0.7929 - val_loss: 145801.6719 - val_r_2_score: 0.8090\n",
            "Epoch 81/200\n",
            "186/186 [==============================] - 0s 2ms/step - loss: 160881.5547 - r_2_score: 0.7484 - val_loss: 145452.7188 - val_r_2_score: 0.8090\n",
            "Epoch 82/200\n",
            "186/186 [==============================] - 0s 2ms/step - loss: 155965.9070 - r_2_score: 0.7772 - val_loss: 145176.2812 - val_r_2_score: 0.8107\n",
            "Epoch 83/200\n",
            "186/186 [==============================] - 0s 2ms/step - loss: 151476.7775 - r_2_score: 0.7951 - val_loss: 144868.5625 - val_r_2_score: 0.8113\n",
            "Epoch 84/200\n",
            "186/186 [==============================] - 0s 2ms/step - loss: 161016.8792 - r_2_score: 0.7985 - val_loss: 144602.0312 - val_r_2_score: 0.8128\n",
            "Epoch 85/200\n",
            "186/186 [==============================] - 0s 2ms/step - loss: 153550.0594 - r_2_score: 0.7297 - val_loss: 144707.2031 - val_r_2_score: 0.8140\n",
            "Epoch 86/200\n",
            "186/186 [==============================] - 0s 2ms/step - loss: 154413.9317 - r_2_score: 0.7628 - val_loss: 144362.6875 - val_r_2_score: 0.8140\n",
            "Epoch 87/200\n",
            "186/186 [==============================] - 0s 2ms/step - loss: 162126.1408 - r_2_score: 0.7959 - val_loss: 143892.5938 - val_r_2_score: 0.8152\n",
            "Epoch 88/200\n",
            "186/186 [==============================] - 0s 2ms/step - loss: 148628.6414 - r_2_score: 0.7633 - val_loss: 143665.4688 - val_r_2_score: 0.8145\n",
            "Epoch 89/200\n",
            "186/186 [==============================] - 0s 2ms/step - loss: 161244.4305 - r_2_score: 0.8135 - val_loss: 143294.6250 - val_r_2_score: 0.8145\n",
            "Epoch 90/200\n",
            "186/186 [==============================] - 0s 2ms/step - loss: 156446.9676 - r_2_score: 0.7897 - val_loss: 144121.6094 - val_r_2_score: 0.8153\n",
            "Epoch 91/200\n",
            "186/186 [==============================] - 0s 2ms/step - loss: 154543.6607 - r_2_score: 0.8100 - val_loss: 142859.8906 - val_r_2_score: 0.8147\n",
            "Epoch 92/200\n",
            "186/186 [==============================] - 0s 2ms/step - loss: 157239.7391 - r_2_score: 0.8075 - val_loss: 143715.2656 - val_r_2_score: 0.8160\n",
            "Epoch 93/200\n",
            "186/186 [==============================] - 0s 2ms/step - loss: 151749.1340 - r_2_score: 0.7954 - val_loss: 142364.2812 - val_r_2_score: 0.8179\n",
            "Epoch 94/200\n",
            "186/186 [==============================] - 0s 2ms/step - loss: 158394.8023 - r_2_score: 0.8005 - val_loss: 141752.0781 - val_r_2_score: 0.8178\n",
            "Epoch 95/200\n",
            "186/186 [==============================] - 0s 2ms/step - loss: 159001.1623 - r_2_score: 0.7968 - val_loss: 141680.4688 - val_r_2_score: 0.8171\n",
            "Epoch 96/200\n",
            "186/186 [==============================] - 0s 2ms/step - loss: 157586.9802 - r_2_score: 0.7859 - val_loss: 141079.5469 - val_r_2_score: 0.8187\n",
            "Epoch 97/200\n",
            "186/186 [==============================] - 0s 2ms/step - loss: 142469.0290 - r_2_score: 0.7936 - val_loss: 140556.6562 - val_r_2_score: 0.8187\n",
            "Epoch 98/200\n",
            "186/186 [==============================] - 0s 2ms/step - loss: 157735.0554 - r_2_score: 0.7940 - val_loss: 140396.5156 - val_r_2_score: 0.8191\n",
            "Epoch 99/200\n",
            "186/186 [==============================] - 0s 2ms/step - loss: 153769.4115 - r_2_score: 0.8081 - val_loss: 140041.3125 - val_r_2_score: 0.8200\n",
            "Epoch 100/200\n",
            "186/186 [==============================] - 0s 2ms/step - loss: 155097.1599 - r_2_score: 0.7768 - val_loss: 139525.7656 - val_r_2_score: 0.8209\n",
            "Epoch 101/200\n",
            "186/186 [==============================] - 0s 2ms/step - loss: 152940.4416 - r_2_score: 0.8167 - val_loss: 139325.6250 - val_r_2_score: 0.8216\n",
            "Epoch 102/200\n",
            "186/186 [==============================] - 0s 2ms/step - loss: 158684.0030 - r_2_score: 0.7835 - val_loss: 140722.3750 - val_r_2_score: 0.8220\n",
            "Epoch 103/200\n",
            "186/186 [==============================] - 0s 2ms/step - loss: 150524.0797 - r_2_score: 0.7747 - val_loss: 138856.9062 - val_r_2_score: 0.8228\n",
            "Epoch 104/200\n",
            "186/186 [==============================] - 0s 2ms/step - loss: 148733.5229 - r_2_score: 0.8119 - val_loss: 138555.3594 - val_r_2_score: 0.8225\n",
            "Epoch 105/200\n",
            "186/186 [==============================] - 0s 2ms/step - loss: 153064.6949 - r_2_score: 0.8243 - val_loss: 138527.1094 - val_r_2_score: 0.8251\n",
            "Epoch 106/200\n",
            "186/186 [==============================] - 0s 2ms/step - loss: 154040.7105 - r_2_score: 0.7789 - val_loss: 137842.7344 - val_r_2_score: 0.8247\n",
            "Epoch 107/200\n",
            "186/186 [==============================] - 0s 2ms/step - loss: 146975.5391 - r_2_score: 0.8006 - val_loss: 137480.0938 - val_r_2_score: 0.8225\n",
            "Epoch 108/200\n",
            "186/186 [==============================] - 0s 2ms/step - loss: 148081.0259 - r_2_score: 0.8050 - val_loss: 137312.3281 - val_r_2_score: 0.8265\n",
            "Epoch 109/200\n",
            "186/186 [==============================] - 0s 2ms/step - loss: 150410.3433 - r_2_score: 0.7684 - val_loss: 136813.2344 - val_r_2_score: 0.8269\n",
            "Epoch 110/200\n",
            "186/186 [==============================] - 0s 2ms/step - loss: 153266.0721 - r_2_score: 0.7847 - val_loss: 136900.8906 - val_r_2_score: 0.8289\n",
            "Epoch 111/200\n",
            "186/186 [==============================] - 0s 2ms/step - loss: 148346.4920 - r_2_score: 0.7562 - val_loss: 136744.5312 - val_r_2_score: 0.8297\n",
            "Epoch 112/200\n",
            "186/186 [==============================] - 0s 2ms/step - loss: 152163.1536 - r_2_score: 0.8155 - val_loss: 136161.5469 - val_r_2_score: 0.8298\n",
            "Epoch 113/200\n",
            "186/186 [==============================] - 0s 2ms/step - loss: 151228.0770 - r_2_score: 0.8189 - val_loss: 136421.0156 - val_r_2_score: 0.8325\n",
            "Epoch 114/200\n",
            "186/186 [==============================] - 0s 2ms/step - loss: 145297.8517 - r_2_score: 0.8069 - val_loss: 135857.7188 - val_r_2_score: 0.8319\n",
            "Epoch 115/200\n",
            "186/186 [==============================] - 0s 2ms/step - loss: 146122.4062 - r_2_score: 0.8156 - val_loss: 136186.5469 - val_r_2_score: 0.8323\n",
            "Epoch 116/200\n",
            "186/186 [==============================] - 0s 2ms/step - loss: 153177.5039 - r_2_score: 0.8062 - val_loss: 135332.7500 - val_r_2_score: 0.8321\n",
            "Epoch 117/200\n",
            "186/186 [==============================] - 0s 2ms/step - loss: 146624.4544 - r_2_score: 0.7858 - val_loss: 135084.4531 - val_r_2_score: 0.8344\n",
            "Epoch 118/200\n",
            "186/186 [==============================] - 0s 2ms/step - loss: 148070.5465 - r_2_score: 0.8009 - val_loss: 135355.5625 - val_r_2_score: 0.8339\n",
            "Epoch 119/200\n",
            "186/186 [==============================] - 0s 2ms/step - loss: 144572.8218 - r_2_score: 0.8031 - val_loss: 134396.1406 - val_r_2_score: 0.8328\n",
            "Epoch 120/200\n",
            "186/186 [==============================] - 0s 2ms/step - loss: 150891.2588 - r_2_score: 0.8021 - val_loss: 134727.2656 - val_r_2_score: 0.8350\n",
            "Epoch 121/200\n",
            "186/186 [==============================] - 0s 2ms/step - loss: 150303.7721 - r_2_score: 0.7948 - val_loss: 133831.4219 - val_r_2_score: 0.8339\n",
            "Epoch 122/200\n",
            "186/186 [==============================] - 0s 2ms/step - loss: 143055.4405 - r_2_score: 0.7718 - val_loss: 133986.0469 - val_r_2_score: 0.8357\n",
            "Epoch 123/200\n",
            "186/186 [==============================] - 0s 2ms/step - loss: 145066.5088 - r_2_score: 0.8099 - val_loss: 133276.2656 - val_r_2_score: 0.8356\n",
            "Epoch 124/200\n",
            "186/186 [==============================] - 0s 2ms/step - loss: 147124.2240 - r_2_score: 0.8025 - val_loss: 133503.3906 - val_r_2_score: 0.8377\n",
            "Epoch 125/200\n",
            "186/186 [==============================] - 0s 2ms/step - loss: 147664.6919 - r_2_score: 0.8276 - val_loss: 133408.9531 - val_r_2_score: 0.8379\n",
            "Epoch 126/200\n",
            "186/186 [==============================] - 0s 2ms/step - loss: 147617.6693 - r_2_score: 0.8269 - val_loss: 132859.4688 - val_r_2_score: 0.8386\n",
            "Epoch 127/200\n",
            "186/186 [==============================] - 0s 2ms/step - loss: 145635.5414 - r_2_score: 0.7828 - val_loss: 133262.1719 - val_r_2_score: 0.8403\n",
            "Epoch 128/200\n",
            "186/186 [==============================] - 0s 2ms/step - loss: 152981.6240 - r_2_score: 0.8199 - val_loss: 133215.5312 - val_r_2_score: 0.8414\n",
            "Epoch 129/200\n",
            "186/186 [==============================] - 0s 2ms/step - loss: 148540.9557 - r_2_score: 0.7985 - val_loss: 132405.0469 - val_r_2_score: 0.8410\n",
            "Epoch 130/200\n",
            "186/186 [==============================] - 0s 2ms/step - loss: 146317.9419 - r_2_score: 0.7967 - val_loss: 132332.1875 - val_r_2_score: 0.8398\n",
            "Epoch 131/200\n",
            "186/186 [==============================] - 0s 2ms/step - loss: 141902.0407 - r_2_score: 0.8058 - val_loss: 132651.3125 - val_r_2_score: 0.8413\n",
            "Epoch 132/200\n",
            "186/186 [==============================] - 0s 2ms/step - loss: 148824.6981 - r_2_score: 0.8136 - val_loss: 132027.0781 - val_r_2_score: 0.8419\n",
            "Epoch 133/200\n",
            "186/186 [==============================] - 0s 2ms/step - loss: 147901.2217 - r_2_score: 0.7875 - val_loss: 131477.8281 - val_r_2_score: 0.8404\n",
            "Epoch 134/200\n",
            "186/186 [==============================] - 0s 2ms/step - loss: 137973.8626 - r_2_score: 0.8033 - val_loss: 130936.3359 - val_r_2_score: 0.8401\n",
            "Epoch 135/200\n",
            "186/186 [==============================] - 0s 2ms/step - loss: 144298.0814 - r_2_score: 0.8144 - val_loss: 131668.4375 - val_r_2_score: 0.8444\n",
            "Epoch 136/200\n",
            "186/186 [==============================] - 0s 2ms/step - loss: 145455.7341 - r_2_score: 0.8337 - val_loss: 131512.7344 - val_r_2_score: 0.8445\n",
            "Epoch 137/200\n",
            "186/186 [==============================] - 0s 2ms/step - loss: 139691.5976 - r_2_score: 0.8254 - val_loss: 130703.6953 - val_r_2_score: 0.8433\n",
            "Epoch 138/200\n",
            "186/186 [==============================] - 0s 2ms/step - loss: 148042.5611 - r_2_score: 0.7966 - val_loss: 130632.6250 - val_r_2_score: 0.8449\n",
            "Epoch 139/200\n",
            "186/186 [==============================] - 0s 2ms/step - loss: 140421.7237 - r_2_score: 0.8255 - val_loss: 130703.1250 - val_r_2_score: 0.8455\n",
            "Epoch 140/200\n",
            "186/186 [==============================] - 0s 2ms/step - loss: 148835.4019 - r_2_score: 0.7952 - val_loss: 130412.7031 - val_r_2_score: 0.8461\n",
            "Epoch 141/200\n",
            "186/186 [==============================] - 0s 2ms/step - loss: 147246.7923 - r_2_score: 0.8255 - val_loss: 130678.8125 - val_r_2_score: 0.8481\n",
            "Epoch 142/200\n",
            "186/186 [==============================] - 0s 2ms/step - loss: 141183.5485 - r_2_score: 0.8111 - val_loss: 129951.9297 - val_r_2_score: 0.8467\n",
            "Epoch 143/200\n",
            "186/186 [==============================] - 0s 2ms/step - loss: 146300.9520 - r_2_score: 0.8183 - val_loss: 130535.7656 - val_r_2_score: 0.8492\n",
            "Epoch 144/200\n",
            "186/186 [==============================] - 0s 2ms/step - loss: 152398.9812 - r_2_score: 0.8168 - val_loss: 130489.0469 - val_r_2_score: 0.8499\n",
            "Epoch 145/200\n",
            "186/186 [==============================] - 0s 2ms/step - loss: 143845.4379 - r_2_score: 0.7986 - val_loss: 129962.2422 - val_r_2_score: 0.8494\n",
            "Epoch 146/200\n",
            "186/186 [==============================] - 0s 2ms/step - loss: 143133.5902 - r_2_score: 0.7870 - val_loss: 129666.8750 - val_r_2_score: 0.8492\n",
            "Epoch 147/200\n",
            "186/186 [==============================] - 0s 2ms/step - loss: 149609.8897 - r_2_score: 0.7808 - val_loss: 129820.5312 - val_r_2_score: 0.8488\n",
            "Epoch 148/200\n",
            "186/186 [==============================] - 0s 2ms/step - loss: 150134.4804 - r_2_score: 0.8144 - val_loss: 130131.1172 - val_r_2_score: 0.8526\n",
            "Epoch 149/200\n",
            "186/186 [==============================] - 0s 2ms/step - loss: 146467.7665 - r_2_score: 0.8190 - val_loss: 129333.0938 - val_r_2_score: 0.8531\n",
            "Epoch 150/200\n",
            "186/186 [==============================] - 0s 2ms/step - loss: 149246.2019 - r_2_score: 0.8179 - val_loss: 129732.6250 - val_r_2_score: 0.8529\n",
            "Epoch 151/200\n",
            "186/186 [==============================] - 0s 2ms/step - loss: 145266.4355 - r_2_score: 0.8329 - val_loss: 129156.0781 - val_r_2_score: 0.8536\n",
            "Epoch 152/200\n",
            "186/186 [==============================] - 0s 2ms/step - loss: 142804.1259 - r_2_score: 0.8179 - val_loss: 128821.8984 - val_r_2_score: 0.8536\n",
            "Epoch 153/200\n",
            "186/186 [==============================] - 0s 2ms/step - loss: 145367.5544 - r_2_score: 0.8042 - val_loss: 128502.1406 - val_r_2_score: 0.8546\n",
            "Epoch 154/200\n",
            "186/186 [==============================] - 0s 2ms/step - loss: 150616.6883 - r_2_score: 0.8299 - val_loss: 129250.0078 - val_r_2_score: 0.8557\n",
            "Epoch 155/200\n",
            "186/186 [==============================] - 0s 2ms/step - loss: 144633.4002 - r_2_score: 0.8271 - val_loss: 127726.3359 - val_r_2_score: 0.8552\n",
            "Epoch 156/200\n",
            "186/186 [==============================] - 0s 2ms/step - loss: 142403.0062 - r_2_score: 0.8160 - val_loss: 127817.2812 - val_r_2_score: 0.8561\n",
            "Epoch 157/200\n",
            "186/186 [==============================] - 0s 2ms/step - loss: 147763.0364 - r_2_score: 0.7664 - val_loss: 127724.0625 - val_r_2_score: 0.8577\n",
            "Epoch 158/200\n",
            "186/186 [==============================] - 0s 2ms/step - loss: 142734.3451 - r_2_score: 0.8287 - val_loss: 128364.4531 - val_r_2_score: 0.8572\n",
            "Epoch 159/200\n",
            "186/186 [==============================] - 0s 2ms/step - loss: 147667.3828 - r_2_score: 0.8273 - val_loss: 127013.9531 - val_r_2_score: 0.8559\n",
            "Epoch 160/200\n",
            "186/186 [==============================] - 0s 2ms/step - loss: 142886.9025 - r_2_score: 0.8217 - val_loss: 127245.1562 - val_r_2_score: 0.8581\n",
            "Epoch 161/200\n",
            "186/186 [==============================] - 0s 2ms/step - loss: 142273.3927 - r_2_score: 0.8327 - val_loss: 127251.5859 - val_r_2_score: 0.8586\n",
            "Epoch 162/200\n",
            "186/186 [==============================] - 0s 2ms/step - loss: 138271.6566 - r_2_score: 0.8232 - val_loss: 126861.5078 - val_r_2_score: 0.8597\n",
            "Epoch 163/200\n",
            "186/186 [==============================] - 0s 2ms/step - loss: 144551.2353 - r_2_score: 0.8203 - val_loss: 127806.8750 - val_r_2_score: 0.8615\n",
            "Epoch 164/200\n",
            "186/186 [==============================] - 0s 2ms/step - loss: 145823.4062 - r_2_score: 0.8253 - val_loss: 127729.4297 - val_r_2_score: 0.8603\n",
            "Epoch 165/200\n",
            "186/186 [==============================] - 0s 2ms/step - loss: 145430.9386 - r_2_score: 0.8200 - val_loss: 127263.9922 - val_r_2_score: 0.8609\n",
            "Epoch 166/200\n",
            "186/186 [==============================] - 0s 2ms/step - loss: 144600.3519 - r_2_score: 0.8534 - val_loss: 126995.2188 - val_r_2_score: 0.8620\n",
            "Epoch 167/200\n",
            "186/186 [==============================] - 0s 2ms/step - loss: 134397.5503 - r_2_score: 0.8209 - val_loss: 126640.5469 - val_r_2_score: 0.8611\n",
            "Epoch 168/200\n",
            "186/186 [==============================] - 0s 2ms/step - loss: 142198.9228 - r_2_score: 0.7883 - val_loss: 126401.3281 - val_r_2_score: 0.8618\n",
            "Epoch 169/200\n",
            "186/186 [==============================] - 0s 2ms/step - loss: 139245.9142 - r_2_score: 0.8325 - val_loss: 126232.9375 - val_r_2_score: 0.8629\n",
            "Epoch 170/200\n",
            "186/186 [==============================] - 0s 2ms/step - loss: 140556.0621 - r_2_score: 0.8184 - val_loss: 126414.0781 - val_r_2_score: 0.8635\n",
            "Epoch 171/200\n",
            "186/186 [==============================] - 0s 2ms/step - loss: 142403.6711 - r_2_score: 0.8141 - val_loss: 125841.9922 - val_r_2_score: 0.8619\n",
            "Epoch 172/200\n",
            "186/186 [==============================] - 0s 2ms/step - loss: 142165.4692 - r_2_score: 0.8229 - val_loss: 125632.2812 - val_r_2_score: 0.8633\n",
            "Epoch 173/200\n",
            "186/186 [==============================] - 0s 2ms/step - loss: 142836.1964 - r_2_score: 0.8115 - val_loss: 125790.3750 - val_r_2_score: 0.8649\n",
            "Epoch 174/200\n",
            "186/186 [==============================] - 0s 2ms/step - loss: 142071.2508 - r_2_score: 0.8294 - val_loss: 126011.9766 - val_r_2_score: 0.8642\n",
            "Epoch 175/200\n",
            "186/186 [==============================] - 0s 2ms/step - loss: 144135.8461 - r_2_score: 0.8252 - val_loss: 125392.1562 - val_r_2_score: 0.8643\n",
            "Epoch 176/200\n",
            "186/186 [==============================] - 0s 2ms/step - loss: 145639.0491 - r_2_score: 0.8135 - val_loss: 125705.8203 - val_r_2_score: 0.8649\n",
            "Epoch 177/200\n",
            "186/186 [==============================] - 0s 2ms/step - loss: 147159.2966 - r_2_score: 0.8251 - val_loss: 125146.5938 - val_r_2_score: 0.8640\n",
            "Epoch 178/200\n",
            "186/186 [==============================] - 0s 2ms/step - loss: 143358.2719 - r_2_score: 0.8110 - val_loss: 125612.3203 - val_r_2_score: 0.8658\n",
            "Epoch 179/200\n",
            "186/186 [==============================] - 0s 2ms/step - loss: 148629.8443 - r_2_score: 0.8274 - val_loss: 124703.3594 - val_r_2_score: 0.8659\n",
            "Epoch 180/200\n",
            "186/186 [==============================] - 0s 2ms/step - loss: 144891.3609 - r_2_score: 0.8147 - val_loss: 125567.9453 - val_r_2_score: 0.8675\n",
            "Epoch 181/200\n",
            "186/186 [==============================] - 0s 2ms/step - loss: 140655.9829 - r_2_score: 0.8297 - val_loss: 125009.2109 - val_r_2_score: 0.8669\n",
            "Epoch 182/200\n",
            "186/186 [==============================] - 0s 2ms/step - loss: 140921.6108 - r_2_score: 0.8499 - val_loss: 124734.6094 - val_r_2_score: 0.8673\n",
            "Epoch 183/200\n",
            "186/186 [==============================] - 0s 2ms/step - loss: 139664.3776 - r_2_score: 0.8354 - val_loss: 124204.8359 - val_r_2_score: 0.8670\n",
            "Epoch 184/200\n",
            "186/186 [==============================] - 0s 2ms/step - loss: 138286.6494 - r_2_score: 0.8141 - val_loss: 124445.5234 - val_r_2_score: 0.8676\n",
            "Epoch 185/200\n",
            "186/186 [==============================] - 0s 2ms/step - loss: 144331.9859 - r_2_score: 0.7902 - val_loss: 125079.4766 - val_r_2_score: 0.8662\n",
            "Epoch 186/200\n",
            "186/186 [==============================] - 0s 2ms/step - loss: 142573.8679 - r_2_score: 0.8288 - val_loss: 124540.6875 - val_r_2_score: 0.8660\n",
            "Epoch 187/200\n",
            "186/186 [==============================] - 0s 2ms/step - loss: 144372.5214 - r_2_score: 0.8349 - val_loss: 124792.9609 - val_r_2_score: 0.8686\n",
            "Epoch 188/200\n",
            "186/186 [==============================] - 0s 2ms/step - loss: 136675.7837 - r_2_score: 0.8275 - val_loss: 123745.4141 - val_r_2_score: 0.8668\n",
            "Epoch 189/200\n",
            "186/186 [==============================] - 0s 2ms/step - loss: 146456.0701 - r_2_score: 0.7989 - val_loss: 124584.4766 - val_r_2_score: 0.8696\n",
            "Epoch 190/200\n",
            "186/186 [==============================] - 0s 2ms/step - loss: 142281.9715 - r_2_score: 0.8437 - val_loss: 124358.0078 - val_r_2_score: 0.8703\n",
            "Epoch 191/200\n",
            "186/186 [==============================] - 0s 2ms/step - loss: 145542.2813 - r_2_score: 0.8128 - val_loss: 124022.5469 - val_r_2_score: 0.8699\n",
            "Epoch 192/200\n",
            "186/186 [==============================] - 0s 2ms/step - loss: 138337.2336 - r_2_score: 0.8444 - val_loss: 124328.0391 - val_r_2_score: 0.8732\n",
            "Epoch 193/200\n",
            "186/186 [==============================] - 0s 2ms/step - loss: 142565.1821 - r_2_score: 0.8162 - val_loss: 123691.1641 - val_r_2_score: 0.8720\n",
            "Epoch 194/200\n",
            "186/186 [==============================] - 0s 2ms/step - loss: 149185.7473 - r_2_score: 0.8279 - val_loss: 123796.7812 - val_r_2_score: 0.8720\n",
            "Epoch 195/200\n",
            "186/186 [==============================] - 0s 2ms/step - loss: 141621.6805 - r_2_score: 0.8206 - val_loss: 123678.2891 - val_r_2_score: 0.8734\n",
            "Epoch 196/200\n",
            "186/186 [==============================] - 0s 2ms/step - loss: 142458.7314 - r_2_score: 0.8266 - val_loss: 123673.0391 - val_r_2_score: 0.8727\n",
            "Epoch 197/200\n",
            "186/186 [==============================] - 0s 2ms/step - loss: 142855.4062 - r_2_score: 0.8276 - val_loss: 123264.1641 - val_r_2_score: 0.8720\n",
            "Epoch 198/200\n",
            "186/186 [==============================] - 0s 2ms/step - loss: 137586.1888 - r_2_score: 0.8265 - val_loss: 123462.8203 - val_r_2_score: 0.8719\n",
            "Epoch 199/200\n",
            "186/186 [==============================] - 0s 2ms/step - loss: 135369.9602 - r_2_score: 0.8614 - val_loss: 123503.5703 - val_r_2_score: 0.8730\n",
            "Epoch 200/200\n",
            "186/186 [==============================] - 0s 2ms/step - loss: 135588.4966 - r_2_score: 0.8415 - val_loss: 123419.1094 - val_r_2_score: 0.8728\n"
          ],
          "name": "stdout"
        }
      ]
    },
    {
      "cell_type": "markdown",
      "metadata": {
        "id": "AW4SEP8kT2ls"
      },
      "source": [
        "## Question 6"
      ]
    },
    {
      "cell_type": "markdown",
      "metadata": {
        "id": "EJDoix_7JU61"
      },
      "source": [
        "### Evaluate the model\n",
        "- Evaluate the model on test data\n",
        "- Visualize the model's learning"
      ]
    },
    {
      "cell_type": "code",
      "metadata": {
        "id": "HdH8pYBIjHGL",
        "colab": {
          "base_uri": "https://localhost:8080/"
        },
        "outputId": "e784b5a0-d8a2-420a-927b-4149ad959432"
      },
      "source": [
        "model.evaluate(X_test,y_test,batch_size=64)"
      ],
      "execution_count": null,
      "outputs": [
        {
          "output_type": "stream",
          "text": [
            "31/31 [==============================] - 0s 958us/step - loss: 123419.0859 - r_2_score: 0.9067\n"
          ],
          "name": "stdout"
        },
        {
          "output_type": "execute_result",
          "data": {
            "text/plain": [
              "[123419.0859375, 0.9067304134368896]"
            ]
          },
          "metadata": {
            "tags": []
          },
          "execution_count": 53
        }
      ]
    },
    {
      "cell_type": "markdown",
      "metadata": {
        "id": "E4-3G8h0KPS_"
      },
      "source": [
        "- Hint: The R2 score will get affected by batch size. \n",
        "\n",
        "**Batch Size**: Number of samples considered in one iteration"
      ]
    },
    {
      "cell_type": "markdown",
      "metadata": {
        "id": "MHmWkGM9E61i"
      },
      "source": [
        "### Check the R2 score on complete test data"
      ]
    },
    {
      "cell_type": "code",
      "metadata": {
        "id": "5Ts_powwDqdK",
        "colab": {
          "base_uri": "https://localhost:8080/"
        },
        "outputId": "768553fb-609e-4a1b-f902-91284a7348cd"
      },
      "source": [
        "y_pred=model.predict(X_test)\n",
        "r2_score(y_test,y_pred)"
      ],
      "execution_count": null,
      "outputs": [
        {
          "output_type": "execute_result",
          "data": {
            "text/plain": [
              "0.9109843236712468"
            ]
          },
          "metadata": {
            "tags": []
          },
          "execution_count": 54
        }
      ]
    },
    {
      "cell_type": "markdown",
      "metadata": {
        "id": "hUpDD74Xjh01"
      },
      "source": [
        "### Visualize model learning\n",
        "- Visualize model learning using train and test r2 score\n",
        "- Visualize model learning using train and test loss"
      ]
    },
    {
      "cell_type": "code",
      "metadata": {
        "id": "WSiMhJPpk3GO",
        "colab": {
          "base_uri": "https://localhost:8080/",
          "height": 573
        },
        "outputId": "19d9d548-a898-4691-9cac-92b6eb5c5693"
      },
      "source": [
        "import matplotlib.pyplot as plt\n",
        "\n",
        "plt.plot(history.history['r_2_score'])\n",
        "plt.plot(history.history['val_r_2_score'])\n",
        "plt.title('model r2_score')\n",
        "plt.ylabel('r2_score')\n",
        "plt.xlabel('epoch')\n",
        "plt.legend(['train', 'test'], loc='upper left')\n",
        "plt.show()\n",
        "# summarize history for loss\n",
        "plt.plot(history.history['loss'])\n",
        "plt.plot(history.history['val_loss'])\n",
        "plt.title('model loss')\n",
        "plt.ylabel('loss')\n",
        "plt.xlabel('epoch')\n",
        "plt.legend(['train', 'test'], loc='upper left')\n",
        "plt.show()\n"
      ],
      "execution_count": null,
      "outputs": [
        {
          "output_type": "display_data",
          "data": {
            "image/png": "[encoded data removed]",
            "text/plain": [
              "<Figure size 432x288 with 1 Axes>"
            ]
          },
          "metadata": {
            "tags": [],
            "needs_background": "light"
          }
        },
        {
          "output_type": "display_data",
          "data": {
            "image/png": "[encoded data removed]",
            "text/plain": [
              "<Figure size 432x288 with 1 Axes>"
            ]
          },
          "metadata": {
            "tags": [],
            "needs_background": "light"
          }
        }
      ]
    },
    {
      "cell_type": "markdown",
      "metadata": {
        "id": "mLyDSOeh6KKc"
      },
      "source": [
        "##  Model tuning and Hyperparameter Tuning\n",
        "## Question 7 (Optional)"
      ]
    },
    {
      "cell_type": "markdown",
      "metadata": {
        "id": "U9_FYXve6TPD"
      },
      "source": [
        "### Create another Deep Neural Network Model for Regression to experiment with other hyper-parameters\n",
        "- Initialize a Sequential model\n",
        "- Add a batch normalization layer\n",
        "- Add 3 hidden layer with activation leaky-relu (Number of neurons = 64,128,32 respectively)\n",
        "- Add dropout layer after each hidden layer\n",
        "- Add a Dense layer with one neuron as output, use activation linear\n",
        "  \n"
      ]
    },
    {
      "cell_type": "code",
      "metadata": {
        "id": "smKhJZSx2EZk"
      },
      "source": [
        "tf.keras.backend.clear_session()\n",
        "model2=Sequential()"
      ],
      "execution_count": null,
      "outputs": []
    },
    {
      "cell_type": "code",
      "metadata": {
        "id": "k3YL1YQB2Fau"
      },
      "source": [
        "model2.add(tf.keras.Input(shape=16))\n",
        "#model2.add(tf.keras.layers.BatchNormalization(input_shape=(16,)))\n",
        "\n",
        "model2.add(Dense(64,activation=tf.keras.layers.LeakyReLU()))\n",
        "model2.add(Dropout(0.20))\n",
        "#model2.add(tf.keras.layers.BatchNormalization())\n",
        "\n",
        "model2.add(Dense(128,activation=tf.keras.layers.LeakyReLU()))\n",
        "model2.add(Dropout(0.20))\n",
        "#model2.add(tf.keras.layers.BatchNormalization())\n",
        "\n",
        "model2.add(Dense(32,activation=tf.keras.layers.LeakyReLU()))\n",
        "model2.add(Dropout(0.15))\n",
        "#model2.add(tf.keras.layers.BatchNormalization())\n",
        "\n",
        "model2.add(Dense(1,activation=\"linear\"))"
      ],
      "execution_count": null,
      "outputs": []
    },
    {
      "cell_type": "code",
      "metadata": {
        "colab": {
          "base_uri": "https://localhost:8080/"
        },
        "id": "U4O9lPF63iec",
        "outputId": "215a2f53-70de-4c2a-fe22-24195d113f70"
      },
      "source": [
        "model2.summary()"
      ],
      "execution_count": null,
      "outputs": [
        {
          "output_type": "stream",
          "text": [
            "Model: \"sequential\"\n",
            "_________________________________________________________________\n",
            "Layer (type)                 Output Shape              Param #   \n",
            "=================================================================\n",
            "dense (Dense)                (None, 64)                1088      \n",
            "_________________________________________________________________\n",
            "dropout (Dropout)            (None, 64)                0         \n",
            "_________________________________________________________________\n",
            "dense_1 (Dense)              (None, 128)               8320      \n",
            "_________________________________________________________________\n",
            "dropout_1 (Dropout)          (None, 128)               0         \n",
            "_________________________________________________________________\n",
            "dense_2 (Dense)              (None, 32)                4128      \n",
            "_________________________________________________________________\n",
            "dropout_2 (Dropout)          (None, 32)                0         \n",
            "_________________________________________________________________\n",
            "dense_3 (Dense)              (None, 1)                 33        \n",
            "=================================================================\n",
            "Total params: 13,569\n",
            "Trainable params: 13,569\n",
            "Non-trainable params: 0\n",
            "_________________________________________________________________\n"
          ],
          "name": "stdout"
        }
      ]
    },
    {
      "cell_type": "code",
      "metadata": {
        "colab": {
          "base_uri": "https://localhost:8080/",
          "height": 865
        },
        "id": "uyO9ADGZ3kki",
        "outputId": "090e3d62-a2e4-40bf-f60b-983f8b67d9f9"
      },
      "source": [
        "plot_model(model2,show_shapes=True)"
      ],
      "execution_count": null,
      "outputs": [
        {
          "output_type": "execute_result",
          "data": {
            "image/png": "[encoded data removed]",
            "text/plain": [
              "<IPython.core.display.Image object>"
            ]
          },
          "metadata": {
            "tags": []
          },
          "execution_count": 59
        }
      ]
    },
    {
      "cell_type": "markdown",
      "metadata": {
        "id": "d-5tN-Wx8_8X"
      },
      "source": [
        "### Compile the model\n",
        "\n",
        "- Compile the model\n",
        "- Use \"adam\" optimizer \n",
        "- for calculating loss, use mean absolute error\n",
        "- use R2 score (coefficient of determination) as the metric"
      ]
    },
    {
      "cell_type": "code",
      "metadata": {
        "id": "v3RAGJxN8vq6"
      },
      "source": [
        "model2.compile(optimizer='adam',loss='mean_absolute_error',metrics=[r_2_score])"
      ],
      "execution_count": null,
      "outputs": []
    },
    {
      "cell_type": "markdown",
      "metadata": {
        "id": "QjDCS5gy91KU"
      },
      "source": [
        "### Train your model\n",
        "\n",
        "- epochs: 1000\n",
        "- batch size: 16\n",
        "- Use test data as validation data\n",
        "- Also add callback, such that if validation loss doesn't decreases consecutively 10 times, stop the training and return the weights for the previous best model\n",
        "- Add checkpoints to save the model after every epoch\n"
      ]
    },
    {
      "cell_type": "code",
      "metadata": {
        "id": "amNM6S2w90So",
        "colab": {
          "base_uri": "https://localhost:8080/"
        },
        "outputId": "ef4f3ec6-f0a8-4aed-fcb0-0b515278e0c9"
      },
      "source": [
        "check_point = tf.keras.callbacks.ModelCheckpoint('./checkpoint/model2.h5', monitor='val_loss',save_best_only=True,save_freq='epoch')\n",
        "callback2=tf.keras.callbacks.EarlyStopping(mode=\"min\",monitor=\"val_loss\",patience=10,restore_best_weights=True)\n",
        "history2=model2.fit(X_train,y_train,batch_size=16,validation_data=(X_test,y_test),epochs=200,callbacks=[callback2,check_point],verbose=1)"
      ],
      "execution_count": null,
      "outputs": [
        {
          "output_type": "stream",
          "text": [
            "Epoch 1/200\n",
            "371/371 [==============================] - 1s 2ms/step - loss: 661278.4908 - r_2_score: -1.8711 - val_loss: 566458.6250 - val_r_2_score: -1.2737\n",
            "Epoch 2/200\n",
            "371/371 [==============================] - 1s 2ms/step - loss: 438695.5601 - r_2_score: -0.7381 - val_loss: 238960.9219 - val_r_2_score: 0.5476\n",
            "Epoch 3/200\n",
            "371/371 [==============================] - 1s 2ms/step - loss: 232927.0076 - r_2_score: 0.5251 - val_loss: 210498.4375 - val_r_2_score: 0.6308\n",
            "Epoch 4/200\n",
            "371/371 [==============================] - 1s 2ms/step - loss: 220937.4013 - r_2_score: 0.5892 - val_loss: 200848.2344 - val_r_2_score: 0.6521\n",
            "Epoch 5/200\n",
            "371/371 [==============================] - 1s 2ms/step - loss: 201324.5669 - r_2_score: 0.6351 - val_loss: 195837.9531 - val_r_2_score: 0.6661\n",
            "Epoch 6/200\n",
            "371/371 [==============================] - 1s 2ms/step - loss: 200096.5891 - r_2_score: 0.6147 - val_loss: 192879.3750 - val_r_2_score: 0.6715\n",
            "Epoch 7/200\n",
            "371/371 [==============================] - 1s 2ms/step - loss: 202029.0437 - r_2_score: 0.6213 - val_loss: 190900.7031 - val_r_2_score: 0.6795\n",
            "Epoch 8/200\n",
            "371/371 [==============================] - 1s 2ms/step - loss: 198032.7078 - r_2_score: 0.6714 - val_loss: 188473.2344 - val_r_2_score: 0.6819\n",
            "Epoch 9/200\n",
            "371/371 [==============================] - 1s 2ms/step - loss: 195368.7392 - r_2_score: 0.6616 - val_loss: 186567.1406 - val_r_2_score: 0.6877\n",
            "Epoch 10/200\n",
            "371/371 [==============================] - 1s 2ms/step - loss: 191232.7639 - r_2_score: 0.6359 - val_loss: 184805.8438 - val_r_2_score: 0.6887\n",
            "Epoch 11/200\n",
            "371/371 [==============================] - 1s 2ms/step - loss: 187686.4368 - r_2_score: 0.6831 - val_loss: 184144.2812 - val_r_2_score: 0.6950\n",
            "Epoch 12/200\n",
            "371/371 [==============================] - 1s 2ms/step - loss: 194635.6040 - r_2_score: 0.6487 - val_loss: 181911.3438 - val_r_2_score: 0.6936\n",
            "Epoch 13/200\n",
            "371/371 [==============================] - 1s 2ms/step - loss: 191253.4043 - r_2_score: 0.6467 - val_loss: 181598.4531 - val_r_2_score: 0.6997\n",
            "Epoch 14/200\n",
            "371/371 [==============================] - 1s 2ms/step - loss: 188445.1956 - r_2_score: 0.6229 - val_loss: 179227.8125 - val_r_2_score: 0.6986\n",
            "Epoch 15/200\n",
            "371/371 [==============================] - 1s 2ms/step - loss: 192508.7485 - r_2_score: 0.6923 - val_loss: 178600.1562 - val_r_2_score: 0.7024\n",
            "Epoch 16/200\n",
            "371/371 [==============================] - 1s 2ms/step - loss: 187933.3584 - r_2_score: 0.6711 - val_loss: 177580.9844 - val_r_2_score: 0.7019\n",
            "Epoch 17/200\n",
            "371/371 [==============================] - 1s 2ms/step - loss: 183657.4183 - r_2_score: 0.6721 - val_loss: 176130.3750 - val_r_2_score: 0.7030\n",
            "Epoch 18/200\n",
            "371/371 [==============================] - 1s 2ms/step - loss: 183935.5604 - r_2_score: 0.6755 - val_loss: 174876.2188 - val_r_2_score: 0.7059\n",
            "Epoch 19/200\n",
            "371/371 [==============================] - 1s 2ms/step - loss: 187425.9132 - r_2_score: 0.6715 - val_loss: 174045.7188 - val_r_2_score: 0.7072\n",
            "Epoch 20/200\n",
            "371/371 [==============================] - 1s 2ms/step - loss: 190010.0233 - r_2_score: 0.5828 - val_loss: 174608.3906 - val_r_2_score: 0.7136\n",
            "Epoch 21/200\n",
            "371/371 [==============================] - 1s 2ms/step - loss: 194323.8483 - r_2_score: 0.6821 - val_loss: 172951.0000 - val_r_2_score: 0.7128\n",
            "Epoch 22/200\n",
            "371/371 [==============================] - 1s 2ms/step - loss: 184288.0908 - r_2_score: 0.6745 - val_loss: 171747.6094 - val_r_2_score: 0.7114\n",
            "Epoch 23/200\n",
            "371/371 [==============================] - 1s 2ms/step - loss: 180916.5723 - r_2_score: 0.6992 - val_loss: 171261.7812 - val_r_2_score: 0.7140\n",
            "Epoch 24/200\n",
            "371/371 [==============================] - 1s 2ms/step - loss: 177640.5746 - r_2_score: 0.7055 - val_loss: 171061.9062 - val_r_2_score: 0.7181\n",
            "Epoch 25/200\n",
            "371/371 [==============================] - 1s 2ms/step - loss: 184957.1373 - r_2_score: 0.6800 - val_loss: 169745.3125 - val_r_2_score: 0.7168\n",
            "Epoch 26/200\n",
            "371/371 [==============================] - 1s 2ms/step - loss: 175441.1964 - r_2_score: 0.6765 - val_loss: 169341.8281 - val_r_2_score: 0.7202\n",
            "Epoch 27/200\n",
            "371/371 [==============================] - 1s 2ms/step - loss: 175243.9978 - r_2_score: 0.7109 - val_loss: 168418.8750 - val_r_2_score: 0.7198\n",
            "Epoch 28/200\n",
            "371/371 [==============================] - 1s 2ms/step - loss: 171901.4274 - r_2_score: 0.6590 - val_loss: 167056.0312 - val_r_2_score: 0.7154\n",
            "Epoch 29/200\n",
            "371/371 [==============================] - 1s 2ms/step - loss: 174879.6975 - r_2_score: 0.6388 - val_loss: 165852.2344 - val_r_2_score: 0.7061\n",
            "Epoch 30/200\n",
            "371/371 [==============================] - 1s 2ms/step - loss: 178861.7564 - r_2_score: 0.6475 - val_loss: 165250.3125 - val_r_2_score: 0.7144\n",
            "Epoch 31/200\n",
            "371/371 [==============================] - 1s 2ms/step - loss: 184864.7264 - r_2_score: 0.6060 - val_loss: 164466.3125 - val_r_2_score: 0.7133\n",
            "Epoch 32/200\n",
            "371/371 [==============================] - 1s 2ms/step - loss: 178031.6245 - r_2_score: 0.6812 - val_loss: 164308.7969 - val_r_2_score: 0.7186\n",
            "Epoch 33/200\n",
            "371/371 [==============================] - 1s 2ms/step - loss: 182007.2803 - r_2_score: 0.7023 - val_loss: 164098.1719 - val_r_2_score: 0.7224\n",
            "Epoch 34/200\n",
            "371/371 [==============================] - 1s 2ms/step - loss: 175610.0981 - r_2_score: 0.6834 - val_loss: 162314.8281 - val_r_2_score: 0.7165\n",
            "Epoch 35/200\n",
            "371/371 [==============================] - 1s 2ms/step - loss: 170642.5490 - r_2_score: 0.7219 - val_loss: 162005.7188 - val_r_2_score: 0.7199\n",
            "Epoch 36/200\n",
            "371/371 [==============================] - 1s 2ms/step - loss: 173962.4406 - r_2_score: 0.6569 - val_loss: 161980.8438 - val_r_2_score: 0.7222\n",
            "Epoch 37/200\n",
            "371/371 [==============================] - 1s 2ms/step - loss: 172196.6058 - r_2_score: 0.6574 - val_loss: 161612.7188 - val_r_2_score: 0.7246\n",
            "Epoch 38/200\n",
            "371/371 [==============================] - 1s 2ms/step - loss: 170357.0808 - r_2_score: 0.6345 - val_loss: 160754.9062 - val_r_2_score: 0.7238\n",
            "Epoch 39/200\n",
            "371/371 [==============================] - 1s 2ms/step - loss: 175359.7479 - r_2_score: 0.6947 - val_loss: 160884.1562 - val_r_2_score: 0.7282\n",
            "Epoch 40/200\n",
            "371/371 [==============================] - 1s 2ms/step - loss: 176299.0147 - r_2_score: 0.6319 - val_loss: 161417.1875 - val_r_2_score: 0.7292\n",
            "Epoch 41/200\n",
            "371/371 [==============================] - 1s 2ms/step - loss: 171364.3392 - r_2_score: 0.6984 - val_loss: 160353.6719 - val_r_2_score: 0.7308\n",
            "Epoch 42/200\n",
            "371/371 [==============================] - 1s 2ms/step - loss: 173015.6545 - r_2_score: 0.7367 - val_loss: 159973.5625 - val_r_2_score: 0.7274\n",
            "Epoch 43/200\n",
            "371/371 [==============================] - 1s 2ms/step - loss: 172444.1762 - r_2_score: 0.6627 - val_loss: 158129.3125 - val_r_2_score: 0.7190\n",
            "Epoch 44/200\n",
            "371/371 [==============================] - 1s 2ms/step - loss: 172538.9997 - r_2_score: 0.6788 - val_loss: 158224.6875 - val_r_2_score: 0.7236\n",
            "Epoch 45/200\n",
            "371/371 [==============================] - 1s 2ms/step - loss: 168505.2747 - r_2_score: 0.7083 - val_loss: 158941.0469 - val_r_2_score: 0.7308\n",
            "Epoch 46/200\n",
            "371/371 [==============================] - 1s 2ms/step - loss: 167083.5152 - r_2_score: 0.7014 - val_loss: 158026.2969 - val_r_2_score: 0.7287\n",
            "Epoch 47/200\n",
            "371/371 [==============================] - 1s 2ms/step - loss: 173071.9463 - r_2_score: 0.6874 - val_loss: 157823.2344 - val_r_2_score: 0.7273\n",
            "Epoch 48/200\n",
            "371/371 [==============================] - 1s 2ms/step - loss: 175631.7237 - r_2_score: 0.6804 - val_loss: 157084.8281 - val_r_2_score: 0.7277\n",
            "Epoch 49/200\n",
            "371/371 [==============================] - 1s 2ms/step - loss: 166544.1919 - r_2_score: 0.7066 - val_loss: 156323.0625 - val_r_2_score: 0.7260\n",
            "Epoch 50/200\n",
            "371/371 [==============================] - 1s 2ms/step - loss: 169410.6563 - r_2_score: 0.7052 - val_loss: 157590.2188 - val_r_2_score: 0.7311\n",
            "Epoch 51/200\n",
            "371/371 [==============================] - 1s 2ms/step - loss: 176454.6825 - r_2_score: 0.6987 - val_loss: 156092.7500 - val_r_2_score: 0.7264\n",
            "Epoch 52/200\n",
            "371/371 [==============================] - 1s 2ms/step - loss: 164787.0242 - r_2_score: 0.7252 - val_loss: 155951.5625 - val_r_2_score: 0.7324\n",
            "Epoch 53/200\n",
            "371/371 [==============================] - 1s 2ms/step - loss: 166554.9377 - r_2_score: 0.7059 - val_loss: 154852.0312 - val_r_2_score: 0.7269\n",
            "Epoch 54/200\n",
            "371/371 [==============================] - 1s 2ms/step - loss: 175031.8692 - r_2_score: 0.7091 - val_loss: 154855.4219 - val_r_2_score: 0.7317\n",
            "Epoch 55/200\n",
            "371/371 [==============================] - 1s 2ms/step - loss: 166781.2941 - r_2_score: 0.7164 - val_loss: 155591.7031 - val_r_2_score: 0.7356\n",
            "Epoch 56/200\n",
            "371/371 [==============================] - 1s 2ms/step - loss: 166896.7310 - r_2_score: 0.6839 - val_loss: 154472.3594 - val_r_2_score: 0.7296\n",
            "Epoch 57/200\n",
            "371/371 [==============================] - 1s 2ms/step - loss: 170547.6705 - r_2_score: 0.6802 - val_loss: 154332.8594 - val_r_2_score: 0.7330\n",
            "Epoch 58/200\n",
            "371/371 [==============================] - 1s 2ms/step - loss: 166825.4514 - r_2_score: 0.7002 - val_loss: 155091.7969 - val_r_2_score: 0.7354\n",
            "Epoch 59/200\n",
            "371/371 [==============================] - 1s 2ms/step - loss: 173031.5590 - r_2_score: 0.6930 - val_loss: 153913.5312 - val_r_2_score: 0.7355\n",
            "Epoch 60/200\n",
            "371/371 [==============================] - 1s 2ms/step - loss: 169847.9234 - r_2_score: 0.7116 - val_loss: 153048.3281 - val_r_2_score: 0.7277\n",
            "Epoch 61/200\n",
            "371/371 [==============================] - 1s 2ms/step - loss: 166517.2658 - r_2_score: 0.7057 - val_loss: 153045.0156 - val_r_2_score: 0.7243\n",
            "Epoch 62/200\n",
            "371/371 [==============================] - 1s 2ms/step - loss: 170099.0125 - r_2_score: 0.6864 - val_loss: 153551.4219 - val_r_2_score: 0.7346\n",
            "Epoch 63/200\n",
            "371/371 [==============================] - 1s 2ms/step - loss: 175345.4038 - r_2_score: 0.6346 - val_loss: 151905.5625 - val_r_2_score: 0.7311\n",
            "Epoch 64/200\n",
            "371/371 [==============================] - 1s 2ms/step - loss: 168989.9198 - r_2_score: 0.7248 - val_loss: 153631.7969 - val_r_2_score: 0.7402\n",
            "Epoch 65/200\n",
            "371/371 [==============================] - 1s 2ms/step - loss: 172699.4538 - r_2_score: 0.7203 - val_loss: 153143.2812 - val_r_2_score: 0.7367\n",
            "Epoch 66/200\n",
            "371/371 [==============================] - 1s 2ms/step - loss: 166194.0754 - r_2_score: 0.7005 - val_loss: 151945.6562 - val_r_2_score: 0.7324\n",
            "Epoch 67/200\n",
            "371/371 [==============================] - 1s 2ms/step - loss: 170419.9105 - r_2_score: 0.6809 - val_loss: 152029.4531 - val_r_2_score: 0.7387\n",
            "Epoch 68/200\n",
            "371/371 [==============================] - 1s 2ms/step - loss: 171093.5445 - r_2_score: 0.6697 - val_loss: 151317.1562 - val_r_2_score: 0.7348\n",
            "Epoch 69/200\n",
            "371/371 [==============================] - 1s 2ms/step - loss: 163496.6496 - r_2_score: 0.7259 - val_loss: 151533.2812 - val_r_2_score: 0.7371\n",
            "Epoch 70/200\n",
            "371/371 [==============================] - 1s 2ms/step - loss: 171990.1548 - r_2_score: 0.7174 - val_loss: 153547.7031 - val_r_2_score: 0.7431\n",
            "Epoch 71/200\n",
            "371/371 [==============================] - 1s 2ms/step - loss: 165787.1314 - r_2_score: 0.7428 - val_loss: 152918.4531 - val_r_2_score: 0.7463\n",
            "Epoch 72/200\n",
            "371/371 [==============================] - 1s 2ms/step - loss: 165841.7674 - r_2_score: 0.7282 - val_loss: 152864.3906 - val_r_2_score: 0.7461\n",
            "Epoch 73/200\n",
            "371/371 [==============================] - 1s 2ms/step - loss: 167529.6686 - r_2_score: 0.6970 - val_loss: 151599.1094 - val_r_2_score: 0.7426\n",
            "Epoch 74/200\n",
            "371/371 [==============================] - 1s 2ms/step - loss: 172810.6988 - r_2_score: 0.7174 - val_loss: 150368.1562 - val_r_2_score: 0.7387\n",
            "Epoch 75/200\n",
            "371/371 [==============================] - 1s 2ms/step - loss: 162097.0247 - r_2_score: 0.6880 - val_loss: 150744.8750 - val_r_2_score: 0.7403\n",
            "Epoch 76/200\n",
            "371/371 [==============================] - 1s 2ms/step - loss: 167095.2276 - r_2_score: 0.6954 - val_loss: 149678.7656 - val_r_2_score: 0.7320\n",
            "Epoch 77/200\n",
            "371/371 [==============================] - 1s 2ms/step - loss: 173087.0974 - r_2_score: 0.6722 - val_loss: 151368.0938 - val_r_2_score: 0.7445\n",
            "Epoch 78/200\n",
            "371/371 [==============================] - 1s 2ms/step - loss: 164021.2929 - r_2_score: 0.7021 - val_loss: 148537.1250 - val_r_2_score: 0.7305\n",
            "Epoch 79/200\n",
            "371/371 [==============================] - 1s 2ms/step - loss: 169998.9154 - r_2_score: 0.7098 - val_loss: 149444.3906 - val_r_2_score: 0.7395\n",
            "Epoch 80/200\n",
            "371/371 [==============================] - 1s 2ms/step - loss: 172631.1941 - r_2_score: 0.7103 - val_loss: 149215.8438 - val_r_2_score: 0.7384\n",
            "Epoch 81/200\n",
            "371/371 [==============================] - 1s 2ms/step - loss: 162010.7113 - r_2_score: 0.7153 - val_loss: 149310.1094 - val_r_2_score: 0.7442\n",
            "Epoch 82/200\n",
            "371/371 [==============================] - 1s 2ms/step - loss: 160820.2899 - r_2_score: 0.7282 - val_loss: 148857.5469 - val_r_2_score: 0.7426\n",
            "Epoch 83/200\n",
            "371/371 [==============================] - 1s 2ms/step - loss: 157551.0144 - r_2_score: 0.7452 - val_loss: 148268.5781 - val_r_2_score: 0.7415\n",
            "Epoch 84/200\n",
            "371/371 [==============================] - 1s 2ms/step - loss: 155010.3771 - r_2_score: 0.7190 - val_loss: 148009.0625 - val_r_2_score: 0.7376\n",
            "Epoch 85/200\n",
            "371/371 [==============================] - 1s 2ms/step - loss: 164885.9856 - r_2_score: 0.6761 - val_loss: 147872.4375 - val_r_2_score: 0.7351\n",
            "Epoch 86/200\n",
            "371/371 [==============================] - 1s 2ms/step - loss: 165680.8917 - r_2_score: 0.7155 - val_loss: 149046.4219 - val_r_2_score: 0.7447\n",
            "Epoch 87/200\n",
            "371/371 [==============================] - 1s 2ms/step - loss: 161717.7167 - r_2_score: 0.7007 - val_loss: 147913.3594 - val_r_2_score: 0.7422\n",
            "Epoch 88/200\n",
            "371/371 [==============================] - 1s 2ms/step - loss: 171298.3931 - r_2_score: 0.6562 - val_loss: 148072.8594 - val_r_2_score: 0.7429\n",
            "Epoch 89/200\n",
            "371/371 [==============================] - 1s 2ms/step - loss: 167691.4772 - r_2_score: 0.7008 - val_loss: 148623.2031 - val_r_2_score: 0.7460\n",
            "Epoch 90/200\n",
            "371/371 [==============================] - 1s 2ms/step - loss: 168618.3505 - r_2_score: 0.7356 - val_loss: 147357.9062 - val_r_2_score: 0.7427\n",
            "Epoch 91/200\n",
            "371/371 [==============================] - 1s 2ms/step - loss: 164183.4406 - r_2_score: 0.6923 - val_loss: 147940.6094 - val_r_2_score: 0.7455\n",
            "Epoch 92/200\n",
            "371/371 [==============================] - 1s 2ms/step - loss: 158371.6468 - r_2_score: 0.7261 - val_loss: 147016.2812 - val_r_2_score: 0.7424\n",
            "Epoch 93/200\n",
            "371/371 [==============================] - 1s 2ms/step - loss: 163939.5434 - r_2_score: 0.6988 - val_loss: 147117.0625 - val_r_2_score: 0.7441\n",
            "Epoch 94/200\n",
            "371/371 [==============================] - 1s 2ms/step - loss: 151078.2320 - r_2_score: 0.7374 - val_loss: 147142.4531 - val_r_2_score: 0.7464\n",
            "Epoch 95/200\n",
            "371/371 [==============================] - 1s 2ms/step - loss: 164835.1954 - r_2_score: 0.7242 - val_loss: 147069.0469 - val_r_2_score: 0.7399\n",
            "Epoch 96/200\n",
            "371/371 [==============================] - 1s 2ms/step - loss: 158820.0585 - r_2_score: 0.7203 - val_loss: 147245.6875 - val_r_2_score: 0.7354\n",
            "Epoch 97/200\n",
            "371/371 [==============================] - 1s 2ms/step - loss: 161519.5098 - r_2_score: 0.6211 - val_loss: 145966.9219 - val_r_2_score: 0.7373\n",
            "Epoch 98/200\n",
            "371/371 [==============================] - 1s 2ms/step - loss: 163087.3481 - r_2_score: 0.7098 - val_loss: 145697.1875 - val_r_2_score: 0.7445\n",
            "Epoch 99/200\n",
            "371/371 [==============================] - 1s 2ms/step - loss: 159823.1495 - r_2_score: 0.7211 - val_loss: 145727.5781 - val_r_2_score: 0.7437\n",
            "Epoch 100/200\n",
            "371/371 [==============================] - 1s 2ms/step - loss: 163206.4650 - r_2_score: 0.7198 - val_loss: 146105.5625 - val_r_2_score: 0.7423\n",
            "Epoch 101/200\n",
            "371/371 [==============================] - 1s 2ms/step - loss: 156995.2894 - r_2_score: 0.7056 - val_loss: 145035.7656 - val_r_2_score: 0.7357\n",
            "Epoch 102/200\n",
            "371/371 [==============================] - 1s 2ms/step - loss: 159212.6196 - r_2_score: 0.6867 - val_loss: 145882.6562 - val_r_2_score: 0.7429\n",
            "Epoch 103/200\n",
            "371/371 [==============================] - 1s 2ms/step - loss: 163367.4869 - r_2_score: 0.7272 - val_loss: 144850.3594 - val_r_2_score: 0.7399\n",
            "Epoch 104/200\n",
            "371/371 [==============================] - 1s 2ms/step - loss: 159561.7671 - r_2_score: 0.6950 - val_loss: 144916.3906 - val_r_2_score: 0.7430\n",
            "Epoch 105/200\n",
            "371/371 [==============================] - 1s 2ms/step - loss: 160551.6934 - r_2_score: 0.6940 - val_loss: 145982.2188 - val_r_2_score: 0.7537\n",
            "Epoch 106/200\n",
            "371/371 [==============================] - 1s 2ms/step - loss: 159926.6152 - r_2_score: 0.7600 - val_loss: 144383.1875 - val_r_2_score: 0.7361\n",
            "Epoch 107/200\n",
            "371/371 [==============================] - 1s 2ms/step - loss: 149882.3016 - r_2_score: 0.6985 - val_loss: 144665.2656 - val_r_2_score: 0.7444\n",
            "Epoch 108/200\n",
            "371/371 [==============================] - 1s 2ms/step - loss: 167105.5451 - r_2_score: 0.6749 - val_loss: 144962.3125 - val_r_2_score: 0.7499\n",
            "Epoch 109/200\n",
            "371/371 [==============================] - 1s 2ms/step - loss: 160707.1337 - r_2_score: 0.7138 - val_loss: 145028.4688 - val_r_2_score: 0.7535\n",
            "Epoch 110/200\n",
            "371/371 [==============================] - 1s 2ms/step - loss: 155542.5725 - r_2_score: 0.7181 - val_loss: 144820.1719 - val_r_2_score: 0.7514\n",
            "Epoch 111/200\n",
            "371/371 [==============================] - 1s 2ms/step - loss: 165178.5977 - r_2_score: 0.7190 - val_loss: 144538.0938 - val_r_2_score: 0.7515\n",
            "Epoch 112/200\n",
            "371/371 [==============================] - 1s 2ms/step - loss: 162135.4881 - r_2_score: 0.7355 - val_loss: 143409.2656 - val_r_2_score: 0.7442\n",
            "Epoch 113/200\n",
            "371/371 [==============================] - 1s 2ms/step - loss: 163292.1916 - r_2_score: 0.7161 - val_loss: 144219.5000 - val_r_2_score: 0.7514\n",
            "Epoch 114/200\n",
            "371/371 [==============================] - 1s 2ms/step - loss: 163234.6699 - r_2_score: 0.7056 - val_loss: 143685.6719 - val_r_2_score: 0.7467\n",
            "Epoch 115/200\n",
            "371/371 [==============================] - 1s 2ms/step - loss: 158530.4908 - r_2_score: 0.7070 - val_loss: 144807.6250 - val_r_2_score: 0.7538\n",
            "Epoch 116/200\n",
            "371/371 [==============================] - 1s 2ms/step - loss: 164876.7001 - r_2_score: 0.7640 - val_loss: 144924.8906 - val_r_2_score: 0.7539\n",
            "Epoch 117/200\n",
            "371/371 [==============================] - 1s 2ms/step - loss: 159117.4951 - r_2_score: 0.7664 - val_loss: 143657.5312 - val_r_2_score: 0.7517\n",
            "Epoch 118/200\n",
            "371/371 [==============================] - 1s 2ms/step - loss: 157219.9173 - r_2_score: 0.7380 - val_loss: 143488.8438 - val_r_2_score: 0.7548\n",
            "Epoch 119/200\n",
            "371/371 [==============================] - 1s 2ms/step - loss: 159123.0475 - r_2_score: 0.7330 - val_loss: 143615.4219 - val_r_2_score: 0.7552\n",
            "Epoch 120/200\n",
            "371/371 [==============================] - 1s 2ms/step - loss: 160986.7166 - r_2_score: 0.7263 - val_loss: 143583.7500 - val_r_2_score: 0.7553\n",
            "Epoch 121/200\n",
            "371/371 [==============================] - 1s 2ms/step - loss: 156928.1386 - r_2_score: 0.6595 - val_loss: 143047.7812 - val_r_2_score: 0.7494\n",
            "Epoch 122/200\n",
            "371/371 [==============================] - 1s 2ms/step - loss: 156661.5623 - r_2_score: 0.7488 - val_loss: 142268.6094 - val_r_2_score: 0.7472\n",
            "Epoch 123/200\n",
            "371/371 [==============================] - 1s 2ms/step - loss: 163876.9219 - r_2_score: 0.7445 - val_loss: 143779.4688 - val_r_2_score: 0.7563\n",
            "Epoch 124/200\n",
            "371/371 [==============================] - 1s 2ms/step - loss: 160976.8160 - r_2_score: 0.7003 - val_loss: 143295.9062 - val_r_2_score: 0.7535\n",
            "Epoch 125/200\n",
            "371/371 [==============================] - 1s 2ms/step - loss: 157151.5777 - r_2_score: 0.7200 - val_loss: 141838.6875 - val_r_2_score: 0.7506\n",
            "Epoch 126/200\n",
            "371/371 [==============================] - 1s 2ms/step - loss: 161600.8851 - r_2_score: 0.7366 - val_loss: 141782.1406 - val_r_2_score: 0.7470\n",
            "Epoch 127/200\n",
            "371/371 [==============================] - 1s 2ms/step - loss: 160808.3574 - r_2_score: 0.7041 - val_loss: 141617.5781 - val_r_2_score: 0.7477\n",
            "Epoch 128/200\n",
            "371/371 [==============================] - 1s 2ms/step - loss: 165354.8319 - r_2_score: 0.6311 - val_loss: 142987.5312 - val_r_2_score: 0.7532\n",
            "Epoch 129/200\n",
            "371/371 [==============================] - 1s 2ms/step - loss: 159131.9579 - r_2_score: 0.7123 - val_loss: 142880.0938 - val_r_2_score: 0.7531\n",
            "Epoch 130/200\n",
            "371/371 [==============================] - 1s 2ms/step - loss: 163919.3365 - r_2_score: 0.6834 - val_loss: 142047.2969 - val_r_2_score: 0.7530\n",
            "Epoch 131/200\n",
            "371/371 [==============================] - 1s 2ms/step - loss: 159994.9807 - r_2_score: 0.7151 - val_loss: 141822.7500 - val_r_2_score: 0.7524\n",
            "Epoch 132/200\n",
            "371/371 [==============================] - 1s 2ms/step - loss: 162158.7489 - r_2_score: 0.7127 - val_loss: 141282.3438 - val_r_2_score: 0.7507\n",
            "Epoch 133/200\n",
            "371/371 [==============================] - 1s 2ms/step - loss: 157533.8338 - r_2_score: 0.7379 - val_loss: 142225.2500 - val_r_2_score: 0.7519\n",
            "Epoch 134/200\n",
            "371/371 [==============================] - 1s 2ms/step - loss: 159594.6938 - r_2_score: 0.7230 - val_loss: 141370.5156 - val_r_2_score: 0.7493\n",
            "Epoch 135/200\n",
            "371/371 [==============================] - 1s 2ms/step - loss: 164490.7416 - r_2_score: 0.7119 - val_loss: 141670.2969 - val_r_2_score: 0.7535\n",
            "Epoch 136/200\n",
            "371/371 [==============================] - 1s 2ms/step - loss: 160643.5484 - r_2_score: 0.7165 - val_loss: 141638.6562 - val_r_2_score: 0.7545\n",
            "Epoch 137/200\n",
            "371/371 [==============================] - 1s 2ms/step - loss: 158345.0921 - r_2_score: 0.7492 - val_loss: 142164.6719 - val_r_2_score: 0.7579\n",
            "Epoch 138/200\n",
            "371/371 [==============================] - 1s 2ms/step - loss: 165262.5570 - r_2_score: 0.7226 - val_loss: 141517.1250 - val_r_2_score: 0.7557\n",
            "Epoch 139/200\n",
            "371/371 [==============================] - 1s 2ms/step - loss: 161827.4752 - r_2_score: 0.7317 - val_loss: 140762.3125 - val_r_2_score: 0.7567\n",
            "Epoch 140/200\n",
            "371/371 [==============================] - 1s 2ms/step - loss: 165605.8758 - r_2_score: 0.7006 - val_loss: 141048.4844 - val_r_2_score: 0.7532\n",
            "Epoch 141/200\n",
            "371/371 [==============================] - 1s 2ms/step - loss: 151355.9263 - r_2_score: 0.7254 - val_loss: 142257.1250 - val_r_2_score: 0.7565\n",
            "Epoch 142/200\n",
            "371/371 [==============================] - 1s 2ms/step - loss: 161647.8998 - r_2_score: 0.7401 - val_loss: 140769.2656 - val_r_2_score: 0.7547\n",
            "Epoch 143/200\n",
            "371/371 [==============================] - 1s 2ms/step - loss: 158289.3194 - r_2_score: 0.7327 - val_loss: 140004.5312 - val_r_2_score: 0.7535\n",
            "Epoch 144/200\n",
            "371/371 [==============================] - 1s 2ms/step - loss: 155160.1969 - r_2_score: 0.6974 - val_loss: 140252.6875 - val_r_2_score: 0.7556\n",
            "Epoch 145/200\n",
            "371/371 [==============================] - 1s 2ms/step - loss: 161249.7878 - r_2_score: 0.7104 - val_loss: 140575.1250 - val_r_2_score: 0.7428\n",
            "Epoch 146/200\n",
            "371/371 [==============================] - 1s 2ms/step - loss: 158734.1898 - r_2_score: 0.7449 - val_loss: 140224.5469 - val_r_2_score: 0.7485\n",
            "Epoch 147/200\n",
            "371/371 [==============================] - 1s 2ms/step - loss: 157418.0517 - r_2_score: 0.7160 - val_loss: 142125.8750 - val_r_2_score: 0.7599\n",
            "Epoch 148/200\n",
            "371/371 [==============================] - 1s 2ms/step - loss: 158933.5922 - r_2_score: 0.7213 - val_loss: 140560.7188 - val_r_2_score: 0.7597\n",
            "Epoch 149/200\n",
            "371/371 [==============================] - 1s 2ms/step - loss: 167738.9327 - r_2_score: 0.6572 - val_loss: 140732.0312 - val_r_2_score: 0.7579\n",
            "Epoch 150/200\n",
            "371/371 [==============================] - 1s 2ms/step - loss: 157503.4678 - r_2_score: 0.7166 - val_loss: 141433.9062 - val_r_2_score: 0.7606\n",
            "Epoch 151/200\n",
            "371/371 [==============================] - 1s 2ms/step - loss: 163469.2613 - r_2_score: 0.7056 - val_loss: 139185.6562 - val_r_2_score: 0.7500\n",
            "Epoch 152/200\n",
            "371/371 [==============================] - 1s 2ms/step - loss: 156946.8136 - r_2_score: 0.7199 - val_loss: 141429.8438 - val_r_2_score: 0.7567\n",
            "Epoch 153/200\n",
            "371/371 [==============================] - 1s 2ms/step - loss: 166874.4785 - r_2_score: 0.6978 - val_loss: 140656.6875 - val_r_2_score: 0.7592\n",
            "Epoch 154/200\n",
            "371/371 [==============================] - 1s 2ms/step - loss: 156186.3126 - r_2_score: 0.7448 - val_loss: 141123.2344 - val_r_2_score: 0.7619\n",
            "Epoch 155/200\n",
            "371/371 [==============================] - 1s 2ms/step - loss: 167062.7345 - r_2_score: 0.7270 - val_loss: 139329.1719 - val_r_2_score: 0.7505\n",
            "Epoch 156/200\n",
            "371/371 [==============================] - 1s 2ms/step - loss: 163109.7781 - r_2_score: 0.7374 - val_loss: 139233.1719 - val_r_2_score: 0.7518\n",
            "Epoch 157/200\n",
            "371/371 [==============================] - 1s 2ms/step - loss: 155445.9928 - r_2_score: 0.7213 - val_loss: 140107.0156 - val_r_2_score: 0.7561\n",
            "Epoch 158/200\n",
            "371/371 [==============================] - 1s 2ms/step - loss: 154310.2909 - r_2_score: 0.7287 - val_loss: 139266.1406 - val_r_2_score: 0.7546\n",
            "Epoch 159/200\n",
            "371/371 [==============================] - 1s 2ms/step - loss: 157078.0614 - r_2_score: 0.7369 - val_loss: 139575.5781 - val_r_2_score: 0.7573\n",
            "Epoch 160/200\n",
            "371/371 [==============================] - 1s 2ms/step - loss: 158443.7626 - r_2_score: 0.7139 - val_loss: 139448.7344 - val_r_2_score: 0.7596\n",
            "Epoch 161/200\n",
            "371/371 [==============================] - 1s 2ms/step - loss: 166617.2901 - r_2_score: 0.7122 - val_loss: 138783.5312 - val_r_2_score: 0.7574\n",
            "Epoch 162/200\n",
            "371/371 [==============================] - 1s 2ms/step - loss: 156750.5452 - r_2_score: 0.7063 - val_loss: 140058.0938 - val_r_2_score: 0.7609\n",
            "Epoch 163/200\n",
            "371/371 [==============================] - 1s 2ms/step - loss: 159709.0295 - r_2_score: 0.7231 - val_loss: 139254.1562 - val_r_2_score: 0.7605\n",
            "Epoch 164/200\n",
            "371/371 [==============================] - 1s 2ms/step - loss: 159881.2498 - r_2_score: 0.7232 - val_loss: 138584.2344 - val_r_2_score: 0.7538\n",
            "Epoch 165/200\n",
            "371/371 [==============================] - 1s 2ms/step - loss: 151888.4492 - r_2_score: 0.7197 - val_loss: 138612.1875 - val_r_2_score: 0.7555\n",
            "Epoch 166/200\n",
            "371/371 [==============================] - 1s 2ms/step - loss: 156469.6904 - r_2_score: 0.6896 - val_loss: 140049.3125 - val_r_2_score: 0.7634\n",
            "Epoch 167/200\n",
            "371/371 [==============================] - 1s 2ms/step - loss: 159285.0231 - r_2_score: 0.7247 - val_loss: 139036.1406 - val_r_2_score: 0.7606\n",
            "Epoch 168/200\n",
            "371/371 [==============================] - 1s 2ms/step - loss: 160629.2618 - r_2_score: 0.7239 - val_loss: 139719.9219 - val_r_2_score: 0.7619\n",
            "Epoch 169/200\n",
            "371/371 [==============================] - 1s 2ms/step - loss: 154186.3629 - r_2_score: 0.7190 - val_loss: 138601.9375 - val_r_2_score: 0.7542\n",
            "Epoch 170/200\n",
            "371/371 [==============================] - 1s 2ms/step - loss: 158368.0734 - r_2_score: 0.6822 - val_loss: 138582.9531 - val_r_2_score: 0.7594\n",
            "Epoch 171/200\n",
            "371/371 [==============================] - 1s 2ms/step - loss: 153715.4966 - r_2_score: 0.7397 - val_loss: 138494.2969 - val_r_2_score: 0.7532\n",
            "Epoch 172/200\n",
            "371/371 [==============================] - 1s 2ms/step - loss: 153631.9896 - r_2_score: 0.6970 - val_loss: 138177.3594 - val_r_2_score: 0.7577\n",
            "Epoch 173/200\n",
            "371/371 [==============================] - 1s 2ms/step - loss: 156456.6950 - r_2_score: 0.7288 - val_loss: 138695.5781 - val_r_2_score: 0.7615\n",
            "Epoch 174/200\n",
            "371/371 [==============================] - 1s 2ms/step - loss: 160016.0123 - r_2_score: 0.7348 - val_loss: 138701.3125 - val_r_2_score: 0.7614\n",
            "Epoch 175/200\n",
            "371/371 [==============================] - 1s 2ms/step - loss: 158615.1670 - r_2_score: 0.7416 - val_loss: 137872.5781 - val_r_2_score: 0.7540\n",
            "Epoch 176/200\n",
            "371/371 [==============================] - 1s 2ms/step - loss: 157587.8526 - r_2_score: 0.7013 - val_loss: 137591.4062 - val_r_2_score: 0.7584\n",
            "Epoch 177/200\n",
            "371/371 [==============================] - 1s 2ms/step - loss: 158720.3931 - r_2_score: 0.6874 - val_loss: 137686.2188 - val_r_2_score: 0.7561\n",
            "Epoch 178/200\n",
            "371/371 [==============================] - 1s 2ms/step - loss: 161108.9591 - r_2_score: 0.7027 - val_loss: 137926.1094 - val_r_2_score: 0.7612\n",
            "Epoch 179/200\n",
            "371/371 [==============================] - 1s 2ms/step - loss: 154226.0734 - r_2_score: 0.7409 - val_loss: 138273.5938 - val_r_2_score: 0.7587\n",
            "Epoch 180/200\n",
            "371/371 [==============================] - 1s 2ms/step - loss: 156758.3049 - r_2_score: 0.6962 - val_loss: 139064.0938 - val_r_2_score: 0.7662\n",
            "Epoch 181/200\n",
            "371/371 [==============================] - 1s 2ms/step - loss: 163124.1686 - r_2_score: 0.7422 - val_loss: 138863.8125 - val_r_2_score: 0.7670\n",
            "Epoch 182/200\n",
            "371/371 [==============================] - 1s 2ms/step - loss: 156268.1185 - r_2_score: 0.7667 - val_loss: 138242.6875 - val_r_2_score: 0.7648\n",
            "Epoch 183/200\n",
            "371/371 [==============================] - 1s 2ms/step - loss: 153010.9696 - r_2_score: 0.7243 - val_loss: 137569.3125 - val_r_2_score: 0.7600\n",
            "Epoch 184/200\n",
            "371/371 [==============================] - 1s 2ms/step - loss: 157303.8675 - r_2_score: 0.7084 - val_loss: 139410.1406 - val_r_2_score: 0.7667\n",
            "Epoch 185/200\n",
            "371/371 [==============================] - 1s 2ms/step - loss: 149882.3908 - r_2_score: 0.7747 - val_loss: 140081.6875 - val_r_2_score: 0.7704\n",
            "Epoch 186/200\n",
            "371/371 [==============================] - 1s 2ms/step - loss: 148178.8699 - r_2_score: 0.7548 - val_loss: 137744.1562 - val_r_2_score: 0.7609\n",
            "Epoch 187/200\n",
            "371/371 [==============================] - 1s 2ms/step - loss: 155169.1342 - r_2_score: 0.7221 - val_loss: 137484.0156 - val_r_2_score: 0.7646\n",
            "Epoch 188/200\n",
            "371/371 [==============================] - 1s 2ms/step - loss: 158202.1478 - r_2_score: 0.7447 - val_loss: 137369.6875 - val_r_2_score: 0.7632\n",
            "Epoch 189/200\n",
            "371/371 [==============================] - 1s 2ms/step - loss: 150407.3571 - r_2_score: 0.7357 - val_loss: 136765.5625 - val_r_2_score: 0.7617\n",
            "Epoch 190/200\n",
            "371/371 [==============================] - 1s 2ms/step - loss: 155306.9911 - r_2_score: 0.7207 - val_loss: 136957.8906 - val_r_2_score: 0.7597\n",
            "Epoch 191/200\n",
            "371/371 [==============================] - 1s 2ms/step - loss: 152747.4657 - r_2_score: 0.7104 - val_loss: 137078.9219 - val_r_2_score: 0.7607\n",
            "Epoch 192/200\n",
            "371/371 [==============================] - 1s 2ms/step - loss: 157751.1618 - r_2_score: 0.7716 - val_loss: 136842.6719 - val_r_2_score: 0.7644\n",
            "Epoch 193/200\n",
            "371/371 [==============================] - 1s 2ms/step - loss: 154315.6683 - r_2_score: 0.7198 - val_loss: 137227.2812 - val_r_2_score: 0.7664\n",
            "Epoch 194/200\n",
            "371/371 [==============================] - 1s 2ms/step - loss: 156805.5787 - r_2_score: 0.7295 - val_loss: 137361.9531 - val_r_2_score: 0.7685\n",
            "Epoch 195/200\n",
            "371/371 [==============================] - 1s 2ms/step - loss: 159452.1791 - r_2_score: 0.7018 - val_loss: 136499.5781 - val_r_2_score: 0.7624\n",
            "Epoch 196/200\n",
            "371/371 [==============================] - 1s 2ms/step - loss: 157347.7012 - r_2_score: 0.7155 - val_loss: 135850.5000 - val_r_2_score: 0.7650\n",
            "Epoch 197/200\n",
            "371/371 [==============================] - 1s 2ms/step - loss: 155368.7776 - r_2_score: 0.7162 - val_loss: 136816.4844 - val_r_2_score: 0.7690\n",
            "Epoch 198/200\n",
            "371/371 [==============================] - 1s 2ms/step - loss: 152199.9262 - r_2_score: 0.6887 - val_loss: 135340.8594 - val_r_2_score: 0.7589\n",
            "Epoch 199/200\n",
            "371/371 [==============================] - 1s 2ms/step - loss: 158274.1463 - r_2_score: 0.7022 - val_loss: 135574.8281 - val_r_2_score: 0.7636\n",
            "Epoch 200/200\n",
            "371/371 [==============================] - 1s 2ms/step - loss: 160355.0436 - r_2_score: 0.7433 - val_loss: 136555.0625 - val_r_2_score: 0.7688\n"
          ],
          "name": "stdout"
        }
      ]
    },
    {
      "cell_type": "markdown",
      "metadata": {
        "id": "GHbYwXdgDQhs"
      },
      "source": [
        "### Check the R2 score on complete test data"
      ]
    },
    {
      "cell_type": "code",
      "metadata": {
        "id": "p7Ly-csS90PM",
        "colab": {
          "base_uri": "https://localhost:8080/"
        },
        "outputId": "172612d4-f5fa-4887-9c5d-52b9423ad5eb"
      },
      "source": [
        "y_pred=model2.predict(X_test)\n",
        "r2_score(y_test,y_pred)"
      ],
      "execution_count": null,
      "outputs": [
        {
          "output_type": "execute_result",
          "data": {
            "text/plain": [
              "0.876512703599146"
            ]
          },
          "metadata": {
            "tags": []
          },
          "execution_count": 62
        }
      ]
    },
    {
      "cell_type": "markdown",
      "metadata": {
        "id": "mcZazFM7DiVr"
      },
      "source": [
        "### Visualize model learning\n",
        "- Visualize model learning using train and test r2 score\n",
        "- Visualize model learning using train and test loss"
      ]
    },
    {
      "cell_type": "code",
      "metadata": {
        "id": "cH-8qHgp90Jv",
        "colab": {
          "base_uri": "https://localhost:8080/",
          "height": 573
        },
        "outputId": "c2e69a6b-f495-4d37-fdcf-633181c475af"
      },
      "source": [
        "import matplotlib.pyplot as plt\n",
        "\n",
        "plt.plot(history2.history['r_2_score'])\n",
        "plt.plot(history2.history['val_r_2_score'])\n",
        "plt.title('model2 r2_score')\n",
        "plt.ylabel('r2_score')\n",
        "plt.xlabel('epoch')\n",
        "plt.legend(['train', 'test'], loc='upper left')\n",
        "plt.show()\n",
        "# summarize history for loss\n",
        "plt.plot(history2.history['loss'])\n",
        "plt.plot(history2.history['val_loss'])\n",
        "plt.title('model2 loss')\n",
        "plt.ylabel('loss')\n",
        "plt.xlabel('epoch')\n",
        "plt.legend(['train', 'test'], loc='upper left')\n",
        "plt.show()"
      ],
      "execution_count": null,
      "outputs": [
        {
          "output_type": "display_data",
          "data": {
            "image/png": "[encoded data removed]",
            "text/plain": [
              "<Figure size 432x288 with 1 Axes>"
            ]
          },
          "metadata": {
            "tags": [],
            "needs_background": "light"
          }
        },
        {
          "output_type": "display_data",
          "data": {
            "image/png": "[encoded data removed]",
            "text/plain": [
              "<Figure size 432x288 with 1 Axes>"
            ]
          },
          "metadata": {
            "tags": [],
            "needs_background": "light"
          }
        }
      ]
    },
    {
      "cell_type": "markdown",
      "metadata": {
        "id": "POU_v9owFLWp"
      },
      "source": [
        "### Create another Deep Neural Network Model for Regression to experiment with other hyper-parameters\n",
        "- Initialize a Sequential model\n",
        "- Add a batch normalization layer\n",
        "- Intialize weights using HeUniform with seed = 7\n",
        "- Add 4 hidden layer with activation relu (Number of neurons = 256,128,64,32 in each layer respectively)\n",
        "- Add dropout layer after each hidden layer\n",
        "- Add a Dense layer with one neuron as output, use activation linear\n",
        "  \n"
      ]
    },
    {
      "cell_type": "code",
      "metadata": {
        "id": "EJiZ1JZZECpm"
      },
      "source": [
        "tf.keras.backend.clear_session()\n",
        "model3=Sequential()\n",
        "\n",
        "initializer = tf.keras.initializers.HeUniform(seed=7)\n",
        "\n",
        "model3.add(tf.keras.Input(shape=16))\n",
        "#model2.add(tf.keras.layers.BatchNormalization(input_shape=(16,)))\n",
        "\n",
        "model3.add(Dense(256,activation='relu',kernel_initializer=initializer))\n",
        "model3.add(Dropout(0.20))\n",
        "#model2.add(tf.keras.layers.BatchNormalization())\n",
        "\n",
        "model3.add(Dense(128,activation='relu',kernel_initializer=initializer))\n",
        "model3.add(Dropout(0.20))\n",
        "#model2.add(tf.keras.layers.BatchNormalization())\n",
        "\n",
        "model3.add(Dense(64,activation='relu',kernel_initializer=initializer))\n",
        "model3.add(Dropout(0.20))\n",
        "#model2.add(tf.keras.layers.BatchNormalization())\n",
        "\n",
        "model3.add(Dense(32,activation='relu',kernel_initializer=initializer))\n",
        "model3.add(Dropout(0.20))\n",
        "\n",
        "model3.add(Dense(1,activation=\"linear\"))"
      ],
      "execution_count": null,
      "outputs": []
    },
    {
      "cell_type": "markdown",
      "metadata": {
        "id": "yNoD20dGHKNk"
      },
      "source": [
        "### Compile the model\n",
        "\n",
        "- Compile the model\n",
        "- Use \"adam\" optimizer with learning rate = 0.002\n",
        "- for calculating loss, use mean squared error\n",
        "- use R2 score (coefficient of determination) as the metric"
      ]
    },
    {
      "cell_type": "code",
      "metadata": {
        "id": "EL--zAmbECm3"
      },
      "source": [
        "adam_opt=tf.keras.optimizers.Adam(learning_rate=0.002)\n",
        "model3.compile(optimizer=adam_opt,loss='mean_squared_error',metrics=[r_2_score])"
      ],
      "execution_count": null,
      "outputs": []
    },
    {
      "cell_type": "markdown",
      "metadata": {
        "id": "TNhawruvHgLR"
      },
      "source": [
        "### Train your model\n",
        "\n",
        "- epochs: 1000\n",
        "- batch size: 64\n",
        "- Use test data as validation data\n",
        "- Also add callback, such that if validation loss doesn't decreases consecutively 10 times, stop the training and return the weights for the previous best model\n",
        "\n"
      ]
    },
    {
      "cell_type": "code",
      "metadata": {
        "id": "rf_Y0p7yECiz",
        "colab": {
          "base_uri": "https://localhost:8080/"
        },
        "outputId": "d2b24d96-e0bf-44d0-c868-0e095c6fdec7"
      },
      "source": [
        "callback3=tf.keras.callbacks.EarlyStopping(mode=\"min\",monitor=\"val_loss\",patience=10,restore_best_weights=True)\n",
        "history3=model3.fit(X_train,y_train,batch_size=64,validation_data=(X_test,y_test),epochs=200,callbacks=[callback3],verbose=1)"
      ],
      "execution_count": null,
      "outputs": [
        {
          "output_type": "stream",
          "text": [
            "Epoch 1/200\n",
            "93/93 [==============================] - 1s 5ms/step - loss: 1099052190436.7660 - r_2_score: -0.8851 - val_loss: 806253166592.0000 - val_r_2_score: -0.2095\n",
            "Epoch 2/200\n",
            "93/93 [==============================] - 0s 3ms/step - loss: 426795249576.8511 - r_2_score: 0.2584 - val_loss: 186680180736.0000 - val_r_2_score: 0.7026\n",
            "Epoch 3/200\n",
            "93/93 [==============================] - 0s 3ms/step - loss: 184124692087.8298 - r_2_score: 0.6178 - val_loss: 161910210560.0000 - val_r_2_score: 0.7575\n",
            "Epoch 4/200\n",
            "93/93 [==============================] - 0s 3ms/step - loss: 173675228225.3617 - r_2_score: 0.6382 - val_loss: 145605181440.0000 - val_r_2_score: 0.7836\n",
            "Epoch 5/200\n",
            "93/93 [==============================] - 0s 3ms/step - loss: 179908754758.8085 - r_2_score: 0.6957 - val_loss: 136305451008.0000 - val_r_2_score: 0.8020\n",
            "Epoch 6/200\n",
            "93/93 [==============================] - 0s 3ms/step - loss: 145362708872.1702 - r_2_score: 0.7174 - val_loss: 122770096128.0000 - val_r_2_score: 0.8160\n",
            "Epoch 7/200\n",
            "93/93 [==============================] - 0s 3ms/step - loss: 138315267398.8085 - r_2_score: 0.7357 - val_loss: 112291700736.0000 - val_r_2_score: 0.8211\n",
            "Epoch 8/200\n",
            "93/93 [==============================] - 0s 3ms/step - loss: 157760153730.7234 - r_2_score: 0.7345 - val_loss: 105255976960.0000 - val_r_2_score: 0.8394\n",
            "Epoch 9/200\n",
            "93/93 [==============================] - 0s 3ms/step - loss: 114065611841.3617 - r_2_score: 0.7556 - val_loss: 102740107264.0000 - val_r_2_score: 0.8493\n",
            "Epoch 10/200\n",
            "93/93 [==============================] - 0s 3ms/step - loss: 115998441210.5532 - r_2_score: 0.7443 - val_loss: 96445194240.0000 - val_r_2_score: 0.8566\n",
            "Epoch 11/200\n",
            "93/93 [==============================] - 0s 3ms/step - loss: 101754122741.1064 - r_2_score: 0.7790 - val_loss: 90256957440.0000 - val_r_2_score: 0.8630\n",
            "Epoch 12/200\n",
            "93/93 [==============================] - 0s 3ms/step - loss: 101233905053.9574 - r_2_score: 0.8082 - val_loss: 86550642688.0000 - val_r_2_score: 0.8683\n",
            "Epoch 13/200\n",
            "93/93 [==============================] - 0s 3ms/step - loss: 94820734322.3830 - r_2_score: 0.7950 - val_loss: 83594887168.0000 - val_r_2_score: 0.8720\n",
            "Epoch 14/200\n",
            "93/93 [==============================] - 0s 3ms/step - loss: 97166492432.3404 - r_2_score: 0.8158 - val_loss: 81861320704.0000 - val_r_2_score: 0.8777\n",
            "Epoch 15/200\n",
            "93/93 [==============================] - 0s 3ms/step - loss: 97145725973.7872 - r_2_score: 0.8341 - val_loss: 78203953152.0000 - val_r_2_score: 0.8815\n",
            "Epoch 16/200\n",
            "93/93 [==============================] - 0s 3ms/step - loss: 89878185330.3830 - r_2_score: 0.8415 - val_loss: 73263497216.0000 - val_r_2_score: 0.8867\n",
            "Epoch 17/200\n",
            "93/93 [==============================] - 0s 3ms/step - loss: 99438437310.6383 - r_2_score: 0.8149 - val_loss: 70269714432.0000 - val_r_2_score: 0.8896\n",
            "Epoch 18/200\n",
            "93/93 [==============================] - 0s 3ms/step - loss: 87444425793.3617 - r_2_score: 0.8314 - val_loss: 66382561280.0000 - val_r_2_score: 0.8882\n",
            "Epoch 19/200\n",
            "93/93 [==============================] - 0s 3ms/step - loss: 79823085459.0638 - r_2_score: 0.8385 - val_loss: 64167596032.0000 - val_r_2_score: 0.8956\n",
            "Epoch 20/200\n",
            "93/93 [==============================] - 0s 3ms/step - loss: 86787950461.2766 - r_2_score: 0.8468 - val_loss: 67780567040.0000 - val_r_2_score: 0.8978\n",
            "Epoch 21/200\n",
            "93/93 [==============================] - 0s 3ms/step - loss: 82408126856.1702 - r_2_score: 0.8445 - val_loss: 60736520192.0000 - val_r_2_score: 0.9012\n",
            "Epoch 22/200\n",
            "93/93 [==============================] - 0s 3ms/step - loss: 81690831065.8723 - r_2_score: 0.8484 - val_loss: 65821835264.0000 - val_r_2_score: 0.9003\n",
            "Epoch 23/200\n",
            "93/93 [==============================] - 0s 3ms/step - loss: 86480230269.2766 - r_2_score: 0.8357 - val_loss: 65962356736.0000 - val_r_2_score: 0.9009\n",
            "Epoch 24/200\n",
            "93/93 [==============================] - 0s 3ms/step - loss: 73958956097.3617 - r_2_score: 0.8589 - val_loss: 57965928448.0000 - val_r_2_score: 0.9064\n",
            "Epoch 25/200\n",
            "93/93 [==============================] - 0s 3ms/step - loss: 84292050944.0000 - r_2_score: 0.8696 - val_loss: 55753502720.0000 - val_r_2_score: 0.9088\n",
            "Epoch 26/200\n",
            "93/93 [==============================] - 0s 3ms/step - loss: 77893751350.4681 - r_2_score: 0.8344 - val_loss: 57286881280.0000 - val_r_2_score: 0.9086\n",
            "Epoch 27/200\n",
            "93/93 [==============================] - 0s 3ms/step - loss: 68547649318.1277 - r_2_score: 0.8738 - val_loss: 73398616064.0000 - val_r_2_score: 0.8933\n",
            "Epoch 28/200\n",
            "93/93 [==============================] - 0s 3ms/step - loss: 89242317497.1915 - r_2_score: 0.8330 - val_loss: 51510054912.0000 - val_r_2_score: 0.9130\n",
            "Epoch 29/200\n",
            "93/93 [==============================] - 0s 3ms/step - loss: 73847992668.5957 - r_2_score: 0.8489 - val_loss: 53176971264.0000 - val_r_2_score: 0.9148\n",
            "Epoch 30/200\n",
            "93/93 [==============================] - 0s 3ms/step - loss: 73320617766.1277 - r_2_score: 0.8527 - val_loss: 50090491904.0000 - val_r_2_score: 0.9162\n",
            "Epoch 31/200\n",
            "93/93 [==============================] - 0s 3ms/step - loss: 76165479489.3617 - r_2_score: 0.8488 - val_loss: 49060556800.0000 - val_r_2_score: 0.9166\n",
            "Epoch 32/200\n",
            "93/93 [==============================] - 0s 3ms/step - loss: 71770789212.5957 - r_2_score: 0.8347 - val_loss: 48652013568.0000 - val_r_2_score: 0.9127\n",
            "Epoch 33/200\n",
            "93/93 [==============================] - 0s 3ms/step - loss: 72715959361.3617 - r_2_score: 0.8270 - val_loss: 48010371072.0000 - val_r_2_score: 0.9181\n",
            "Epoch 34/200\n",
            "93/93 [==============================] - 0s 3ms/step - loss: 75317672153.8723 - r_2_score: 0.8622 - val_loss: 52325507072.0000 - val_r_2_score: 0.9168\n",
            "Epoch 35/200\n",
            "93/93 [==============================] - 0s 3ms/step - loss: 68680510986.8936 - r_2_score: 0.8675 - val_loss: 54271197184.0000 - val_r_2_score: 0.9139\n",
            "Epoch 36/200\n",
            "93/93 [==============================] - 0s 4ms/step - loss: 69116478050.0426 - r_2_score: 0.8589 - val_loss: 45392101376.0000 - val_r_2_score: 0.9180\n",
            "Epoch 37/200\n",
            "93/93 [==============================] - 0s 3ms/step - loss: 62682934250.2128 - r_2_score: 0.8665 - val_loss: 44549500928.0000 - val_r_2_score: 0.9225\n",
            "Epoch 38/200\n",
            "93/93 [==============================] - 0s 3ms/step - loss: 71943457116.5957 - r_2_score: 0.8747 - val_loss: 44636737536.0000 - val_r_2_score: 0.9233\n",
            "Epoch 39/200\n",
            "93/93 [==============================] - 0s 3ms/step - loss: 72824103217.0213 - r_2_score: 0.8600 - val_loss: 43607785472.0000 - val_r_2_score: 0.9222\n",
            "Epoch 40/200\n",
            "93/93 [==============================] - 0s 3ms/step - loss: 61569417891.4043 - r_2_score: 0.8578 - val_loss: 43232219136.0000 - val_r_2_score: 0.9238\n",
            "Epoch 41/200\n",
            "93/93 [==============================] - 0s 3ms/step - loss: 66537921448.8511 - r_2_score: 0.8612 - val_loss: 43602403328.0000 - val_r_2_score: 0.9244\n",
            "Epoch 42/200\n",
            "93/93 [==============================] - 0s 3ms/step - loss: 59756247933.2766 - r_2_score: 0.8779 - val_loss: 40935559168.0000 - val_r_2_score: 0.9264\n",
            "Epoch 43/200\n",
            "93/93 [==============================] - 0s 3ms/step - loss: 63684747176.8511 - r_2_score: 0.8537 - val_loss: 41956536320.0000 - val_r_2_score: 0.9255\n",
            "Epoch 44/200\n",
            "93/93 [==============================] - 0s 3ms/step - loss: 64883920503.8298 - r_2_score: 0.8789 - val_loss: 43788840960.0000 - val_r_2_score: 0.9266\n",
            "Epoch 45/200\n",
            "93/93 [==============================] - 0s 3ms/step - loss: 67355975157.1064 - r_2_score: 0.8665 - val_loss: 40608739328.0000 - val_r_2_score: 0.9250\n",
            "Epoch 46/200\n",
            "93/93 [==============================] - 0s 3ms/step - loss: 72381952152.5106 - r_2_score: 0.8712 - val_loss: 46243135488.0000 - val_r_2_score: 0.9239\n",
            "Epoch 47/200\n",
            "93/93 [==============================] - 0s 3ms/step - loss: 66406686720.0000 - r_2_score: 0.8586 - val_loss: 40523145216.0000 - val_r_2_score: 0.9223\n",
            "Epoch 48/200\n",
            "93/93 [==============================] - 0s 3ms/step - loss: 68600858580.4255 - r_2_score: 0.8738 - val_loss: 41221574656.0000 - val_r_2_score: 0.9276\n",
            "Epoch 49/200\n",
            "93/93 [==============================] - 0s 3ms/step - loss: 65612174052.7660 - r_2_score: 0.8847 - val_loss: 39782256640.0000 - val_r_2_score: 0.9274\n",
            "Epoch 50/200\n",
            "93/93 [==============================] - 0s 3ms/step - loss: 64881454929.7021 - r_2_score: 0.8567 - val_loss: 40530788352.0000 - val_r_2_score: 0.9280\n",
            "Epoch 51/200\n",
            "93/93 [==============================] - 0s 3ms/step - loss: 64645967087.6596 - r_2_score: 0.8874 - val_loss: 38316781568.0000 - val_r_2_score: 0.9272\n",
            "Epoch 52/200\n",
            "93/93 [==============================] - 0s 3ms/step - loss: 61786866622.6383 - r_2_score: 0.8563 - val_loss: 38340194304.0000 - val_r_2_score: 0.9248\n",
            "Epoch 53/200\n",
            "93/93 [==============================] - 0s 3ms/step - loss: 63270136984.5106 - r_2_score: 0.8624 - val_loss: 38397734912.0000 - val_r_2_score: 0.9306\n",
            "Epoch 54/200\n",
            "93/93 [==============================] - 0s 3ms/step - loss: 61744502043.2340 - r_2_score: 0.8637 - val_loss: 37403189248.0000 - val_r_2_score: 0.9292\n",
            "Epoch 55/200\n",
            "93/93 [==============================] - 0s 3ms/step - loss: 67606309038.2979 - r_2_score: 0.8665 - val_loss: 37224583168.0000 - val_r_2_score: 0.9322\n",
            "Epoch 56/200\n",
            "93/93 [==============================] - 0s 3ms/step - loss: 62656808742.1277 - r_2_score: 0.8885 - val_loss: 37088890880.0000 - val_r_2_score: 0.9296\n",
            "Epoch 57/200\n",
            "93/93 [==============================] - 0s 3ms/step - loss: 56713252036.0851 - r_2_score: 0.8769 - val_loss: 36708990976.0000 - val_r_2_score: 0.9281\n",
            "Epoch 58/200\n",
            "93/93 [==============================] - 0s 3ms/step - loss: 62222636402.3830 - r_2_score: 0.8765 - val_loss: 35696549888.0000 - val_r_2_score: 0.9339\n",
            "Epoch 59/200\n",
            "93/93 [==============================] - 0s 3ms/step - loss: 60493925746.3830 - r_2_score: 0.8953 - val_loss: 35904077824.0000 - val_r_2_score: 0.9333\n",
            "Epoch 60/200\n",
            "93/93 [==============================] - 0s 3ms/step - loss: 57369549627.9149 - r_2_score: 0.8832 - val_loss: 36967391232.0000 - val_r_2_score: 0.9328\n",
            "Epoch 61/200\n",
            "93/93 [==============================] - 0s 3ms/step - loss: 65868403472.3404 - r_2_score: 0.8818 - val_loss: 35940651008.0000 - val_r_2_score: 0.9335\n",
            "Epoch 62/200\n",
            "93/93 [==============================] - 0s 3ms/step - loss: 61663954159.6596 - r_2_score: 0.8786 - val_loss: 36090564608.0000 - val_r_2_score: 0.9281\n",
            "Epoch 63/200\n",
            "93/93 [==============================] - 0s 3ms/step - loss: 66269217378.0426 - r_2_score: 0.8883 - val_loss: 38757244928.0000 - val_r_2_score: 0.9331\n",
            "Epoch 64/200\n",
            "93/93 [==============================] - 0s 3ms/step - loss: 59309246376.8511 - r_2_score: 0.8715 - val_loss: 36736512000.0000 - val_r_2_score: 0.9337\n",
            "Epoch 65/200\n",
            "93/93 [==============================] - 0s 3ms/step - loss: 51558596564.4255 - r_2_score: 0.8748 - val_loss: 34585481216.0000 - val_r_2_score: 0.9348\n",
            "Epoch 66/200\n",
            "93/93 [==============================] - 0s 3ms/step - loss: 59916076707.4043 - r_2_score: 0.8775 - val_loss: 44543827968.0000 - val_r_2_score: 0.9252\n",
            "Epoch 67/200\n",
            "93/93 [==============================] - 0s 3ms/step - loss: 62360862545.7021 - r_2_score: 0.8898 - val_loss: 35446312960.0000 - val_r_2_score: 0.9323\n",
            "Epoch 68/200\n",
            "93/93 [==============================] - 0s 3ms/step - loss: 57815163577.1915 - r_2_score: 0.8893 - val_loss: 33905991680.0000 - val_r_2_score: 0.9336\n",
            "Epoch 69/200\n",
            "93/93 [==============================] - 0s 3ms/step - loss: 61853422940.5957 - r_2_score: 0.8610 - val_loss: 36212129792.0000 - val_r_2_score: 0.9346\n",
            "Epoch 70/200\n",
            "93/93 [==============================] - 0s 3ms/step - loss: 68929918409.5319 - r_2_score: 0.8768 - val_loss: 35287945216.0000 - val_r_2_score: 0.9326\n",
            "Epoch 71/200\n",
            "93/93 [==============================] - 0s 3ms/step - loss: 55499239424.0000 - r_2_score: 0.8791 - val_loss: 33353728000.0000 - val_r_2_score: 0.9359\n",
            "Epoch 72/200\n",
            "93/93 [==============================] - 0s 3ms/step - loss: 55798098791.4894 - r_2_score: 0.9008 - val_loss: 33934229504.0000 - val_r_2_score: 0.9340\n",
            "Epoch 73/200\n",
            "93/93 [==============================] - 0s 3ms/step - loss: 55044237965.6170 - r_2_score: 0.8779 - val_loss: 37228032000.0000 - val_r_2_score: 0.9360\n",
            "Epoch 74/200\n",
            "93/93 [==============================] - 0s 3ms/step - loss: 54975611054.2979 - r_2_score: 0.8999 - val_loss: 34975748096.0000 - val_r_2_score: 0.9366\n",
            "Epoch 75/200\n",
            "93/93 [==============================] - 0s 3ms/step - loss: 55339209444.7660 - r_2_score: 0.8883 - val_loss: 34623975424.0000 - val_r_2_score: 0.9368\n",
            "Epoch 76/200\n",
            "93/93 [==============================] - 0s 3ms/step - loss: 64575853371.9149 - r_2_score: 0.8680 - val_loss: 32779700224.0000 - val_r_2_score: 0.9364\n",
            "Epoch 77/200\n",
            "93/93 [==============================] - 0s 3ms/step - loss: 54439293102.2979 - r_2_score: 0.9012 - val_loss: 35365531648.0000 - val_r_2_score: 0.9357\n",
            "Epoch 78/200\n",
            "93/93 [==============================] - 0s 3ms/step - loss: 60088869779.0638 - r_2_score: 0.8885 - val_loss: 35571773440.0000 - val_r_2_score: 0.9360\n",
            "Epoch 79/200\n",
            "93/93 [==============================] - 0s 3ms/step - loss: 59295831148.9362 - r_2_score: 0.8787 - val_loss: 32354310144.0000 - val_r_2_score: 0.9361\n",
            "Epoch 80/200\n",
            "93/93 [==============================] - 0s 3ms/step - loss: 52111329105.7021 - r_2_score: 0.8801 - val_loss: 33146165248.0000 - val_r_2_score: 0.9363\n",
            "Epoch 81/200\n",
            "93/93 [==============================] - 0s 3ms/step - loss: 56977463034.5532 - r_2_score: 0.8834 - val_loss: 32993374208.0000 - val_r_2_score: 0.9341\n",
            "Epoch 82/200\n",
            "93/93 [==============================] - 0s 3ms/step - loss: 56137354610.3830 - r_2_score: 0.8846 - val_loss: 33689903104.0000 - val_r_2_score: 0.9385\n",
            "Epoch 83/200\n",
            "93/93 [==============================] - 0s 4ms/step - loss: 56164367425.3617 - r_2_score: 0.8782 - val_loss: 32159512576.0000 - val_r_2_score: 0.9381\n",
            "Epoch 84/200\n",
            "93/93 [==============================] - 0s 3ms/step - loss: 51190455949.6170 - r_2_score: 0.9072 - val_loss: 36266803200.0000 - val_r_2_score: 0.9359\n",
            "Epoch 85/200\n",
            "93/93 [==============================] - 0s 3ms/step - loss: 54282823549.2766 - r_2_score: 0.8887 - val_loss: 32698009600.0000 - val_r_2_score: 0.9398\n",
            "Epoch 86/200\n",
            "93/93 [==============================] - 0s 3ms/step - loss: 55158254940.5957 - r_2_score: 0.8781 - val_loss: 33403191296.0000 - val_r_2_score: 0.9332\n",
            "Epoch 87/200\n",
            "93/93 [==============================] - 0s 3ms/step - loss: 54992342822.1277 - r_2_score: 0.8854 - val_loss: 33568514048.0000 - val_r_2_score: 0.9394\n",
            "Epoch 88/200\n",
            "93/93 [==============================] - 0s 3ms/step - loss: 57192279453.9574 - r_2_score: 0.8818 - val_loss: 31754037248.0000 - val_r_2_score: 0.9388\n",
            "Epoch 89/200\n",
            "93/93 [==============================] - 0s 3ms/step - loss: 53487359607.8298 - r_2_score: 0.8921 - val_loss: 34035787776.0000 - val_r_2_score: 0.9362\n",
            "Epoch 90/200\n",
            "93/93 [==============================] - 0s 3ms/step - loss: 54959111059.0638 - r_2_score: 0.8916 - val_loss: 31431546880.0000 - val_r_2_score: 0.9413\n",
            "Epoch 91/200\n",
            "93/93 [==============================] - 0s 3ms/step - loss: 54413762603.5745 - r_2_score: 0.8944 - val_loss: 32410771456.0000 - val_r_2_score: 0.9348\n",
            "Epoch 92/200\n",
            "93/93 [==============================] - 0s 3ms/step - loss: 57721347878.1277 - r_2_score: 0.8933 - val_loss: 32806076416.0000 - val_r_2_score: 0.9403\n",
            "Epoch 93/200\n",
            "93/93 [==============================] - 0s 3ms/step - loss: 56587714276.7660 - r_2_score: 0.8899 - val_loss: 31967227904.0000 - val_r_2_score: 0.9392\n",
            "Epoch 94/200\n",
            "93/93 [==============================] - 0s 3ms/step - loss: 45228715095.1489 - r_2_score: 0.8862 - val_loss: 30602485760.0000 - val_r_2_score: 0.9414\n",
            "Epoch 95/200\n",
            "93/93 [==============================] - 0s 3ms/step - loss: 50361201533.2766 - r_2_score: 0.9004 - val_loss: 30637420544.0000 - val_r_2_score: 0.9403\n",
            "Epoch 96/200\n",
            "93/93 [==============================] - 0s 3ms/step - loss: 57800342114.0426 - r_2_score: 0.8866 - val_loss: 33360840704.0000 - val_r_2_score: 0.9407\n",
            "Epoch 97/200\n",
            "93/93 [==============================] - 0s 3ms/step - loss: 55807516366.9787 - r_2_score: 0.8935 - val_loss: 34030438400.0000 - val_r_2_score: 0.9393\n",
            "Epoch 98/200\n",
            "93/93 [==============================] - 0s 3ms/step - loss: 52720839135.3191 - r_2_score: 0.8777 - val_loss: 31155003392.0000 - val_r_2_score: 0.9403\n",
            "Epoch 99/200\n",
            "93/93 [==============================] - 0s 3ms/step - loss: 52367735982.2979 - r_2_score: 0.8980 - val_loss: 31625287680.0000 - val_r_2_score: 0.9416\n",
            "Epoch 100/200\n",
            "93/93 [==============================] - 0s 3ms/step - loss: 60901295125.7872 - r_2_score: 0.8870 - val_loss: 36643008512.0000 - val_r_2_score: 0.9369\n",
            "Epoch 101/200\n",
            "93/93 [==============================] - 0s 3ms/step - loss: 53748766371.4043 - r_2_score: 0.9014 - val_loss: 35277000704.0000 - val_r_2_score: 0.9263\n",
            "Epoch 102/200\n",
            "93/93 [==============================] - 0s 3ms/step - loss: 55314012421.4468 - r_2_score: 0.8712 - val_loss: 31332003840.0000 - val_r_2_score: 0.9397\n",
            "Epoch 103/200\n",
            "93/93 [==============================] - 0s 3ms/step - loss: 50842892810.8936 - r_2_score: 0.9037 - val_loss: 30539446272.0000 - val_r_2_score: 0.9404\n",
            "Epoch 104/200\n",
            "93/93 [==============================] - 0s 3ms/step - loss: 61481954892.2553 - r_2_score: 0.8776 - val_loss: 31373316096.0000 - val_r_2_score: 0.9397\n",
            "Epoch 105/200\n",
            "93/93 [==============================] - 0s 3ms/step - loss: 55425212895.3191 - r_2_score: 0.8927 - val_loss: 30729099264.0000 - val_r_2_score: 0.9415\n",
            "Epoch 106/200\n",
            "93/93 [==============================] - 0s 3ms/step - loss: 52636607008.6809 - r_2_score: 0.9033 - val_loss: 36232978432.0000 - val_r_2_score: 0.9362\n",
            "Epoch 107/200\n",
            "93/93 [==============================] - 0s 3ms/step - loss: 61003596952.5106 - r_2_score: 0.8762 - val_loss: 30779738112.0000 - val_r_2_score: 0.9386\n",
            "Epoch 108/200\n",
            "93/93 [==============================] - 0s 3ms/step - loss: 53248062790.8085 - r_2_score: 0.8736 - val_loss: 33700415488.0000 - val_r_2_score: 0.9383\n",
            "Epoch 109/200\n",
            "93/93 [==============================] - 0s 3ms/step - loss: 51707721640.8511 - r_2_score: 0.8946 - val_loss: 31486265344.0000 - val_r_2_score: 0.9408\n",
            "Epoch 110/200\n",
            "93/93 [==============================] - 0s 3ms/step - loss: 59737861098.2128 - r_2_score: 0.8845 - val_loss: 29632954368.0000 - val_r_2_score: 0.9421\n",
            "Epoch 111/200\n",
            "93/93 [==============================] - 0s 4ms/step - loss: 60696622232.5106 - r_2_score: 0.8871 - val_loss: 32982075392.0000 - val_r_2_score: 0.9403\n",
            "Epoch 112/200\n",
            "93/93 [==============================] - 0s 3ms/step - loss: 54199878285.6170 - r_2_score: 0.8751 - val_loss: 31078379520.0000 - val_r_2_score: 0.9419\n",
            "Epoch 113/200\n",
            "93/93 [==============================] - 0s 3ms/step - loss: 49136120374.4681 - r_2_score: 0.8889 - val_loss: 29739954176.0000 - val_r_2_score: 0.9421\n",
            "Epoch 114/200\n",
            "93/93 [==============================] - 0s 3ms/step - loss: 58006806528.0000 - r_2_score: 0.8861 - val_loss: 31978559488.0000 - val_r_2_score: 0.9420\n",
            "Epoch 115/200\n",
            "93/93 [==============================] - 0s 3ms/step - loss: 51615623821.6170 - r_2_score: 0.9032 - val_loss: 30980825088.0000 - val_r_2_score: 0.9404\n",
            "Epoch 116/200\n",
            "93/93 [==============================] - 0s 3ms/step - loss: 63605064595.0638 - r_2_score: 0.8927 - val_loss: 30533879808.0000 - val_r_2_score: 0.9394\n",
            "Epoch 117/200\n",
            "93/93 [==============================] - 0s 3ms/step - loss: 55691634252.2553 - r_2_score: 0.8789 - val_loss: 31815591936.0000 - val_r_2_score: 0.9411\n",
            "Epoch 118/200\n",
            "93/93 [==============================] - 0s 3ms/step - loss: 56405744356.7660 - r_2_score: 0.9087 - val_loss: 30529488896.0000 - val_r_2_score: 0.9408\n",
            "Epoch 119/200\n",
            "93/93 [==============================] - 0s 3ms/step - loss: 52082997030.1277 - r_2_score: 0.8934 - val_loss: 34577584128.0000 - val_r_2_score: 0.9389\n",
            "Epoch 120/200\n",
            "93/93 [==============================] - 0s 3ms/step - loss: 51777292070.1277 - r_2_score: 0.8767 - val_loss: 30197465088.0000 - val_r_2_score: 0.9404\n"
          ],
          "name": "stdout"
        }
      ]
    },
    {
      "cell_type": "markdown",
      "metadata": {
        "id": "MR6_a6QxICXv"
      },
      "source": [
        "### Check the R2 score on complete test data"
      ]
    },
    {
      "cell_type": "code",
      "metadata": {
        "id": "eSNJsVwnECf-",
        "colab": {
          "base_uri": "https://localhost:8080/"
        },
        "outputId": "26474fc4-4676-45a5-e2c5-3c6accb6fb36"
      },
      "source": [
        "y_pred=model3.predict(X_test)\n",
        "r2_score(y_test,y_pred)"
      ],
      "execution_count": null,
      "outputs": [
        {
          "output_type": "execute_result",
          "data": {
            "text/plain": [
              "0.9580997416263386"
            ]
          },
          "metadata": {
            "tags": []
          },
          "execution_count": 68
        }
      ]
    },
    {
      "cell_type": "markdown",
      "metadata": {
        "id": "xWZIMT2rIYDc"
      },
      "source": [
        "### Visualize model learning\n",
        "- Visualize model learning using train and test r2 score\n",
        "- Visualize model learning using train and test loss"
      ]
    },
    {
      "cell_type": "code",
      "metadata": {
        "id": "uDMefTaLECdK",
        "colab": {
          "base_uri": "https://localhost:8080/",
          "height": 573
        },
        "outputId": "c7003a33-ce92-46bb-f6fd-71339ab39efc"
      },
      "source": [
        "import matplotlib.pyplot as plt\n",
        "\n",
        "plt.plot(history3.history['r_2_score'])\n",
        "plt.plot(history3.history['val_r_2_score'])\n",
        "plt.title('model3 r2_score')\n",
        "plt.ylabel('r2_score')\n",
        "plt.xlabel('epoch')\n",
        "plt.legend(['train', 'test'], loc='upper left')\n",
        "plt.show()\n",
        "# summarize history for loss\n",
        "plt.plot(history3.history['loss'])\n",
        "plt.plot(history3.history['val_loss'])\n",
        "plt.title('model3 loss')\n",
        "plt.ylabel('loss')\n",
        "plt.xlabel('epoch')\n",
        "plt.legend(['train', 'test'], loc='upper left')\n",
        "plt.show()"
      ],
      "execution_count": null,
      "outputs": [
        {
          "output_type": "display_data",
          "data": {
            "image/png": "[encoded data removed]",
            "text/plain": [
              "<Figure size 432x288 with 1 Axes>"
            ]
          },
          "metadata": {
            "tags": [],
            "needs_background": "light"
          }
        },
        {
          "output_type": "display_data",
          "data": {
            "image/png": "[encoded data removed]",
            "text/plain": [
              "<Figure size 432x288 with 1 Axes>"
            ]
          },
          "metadata": {
            "tags": [],
            "needs_background": "light"
          }
        }
      ]
    }
  ]
}
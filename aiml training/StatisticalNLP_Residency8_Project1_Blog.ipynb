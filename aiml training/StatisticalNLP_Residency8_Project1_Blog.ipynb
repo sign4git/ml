{
 "cells": [
  {
   "cell_type": "code",
   "execution_count": 108,
   "metadata": {
    "id": "FxSnTin-fSCJ"
   },
   "outputs": [],
   "source": [
    "import pandas as pd\n",
    "import numpy as np\n",
    "import seaborn as sns\n",
    "import matplotlib.pyplot as plt\n",
    "import warnings\n",
    "warnings.filterwarnings(\"ignore\")"
   ]
  },
  {
   "cell_type": "code",
   "execution_count": 109,
   "metadata": {
    "colab": {
     "base_uri": "https://localhost:8080/",
     "height": 109
    },
    "id": "LMcyRXY_gpB3",
    "outputId": "c1b8bbf6-eee0-49f1-c9c1-5ca7419bb946"
   },
   "outputs": [
    {
     "data": {
      "text/html": [
       "<div>\n",
       "<style scoped>\n",
       "    .dataframe tbody tr th:only-of-type {\n",
       "        vertical-align: middle;\n",
       "    }\n",
       "\n",
       "    .dataframe tbody tr th {\n",
       "        vertical-align: top;\n",
       "    }\n",
       "\n",
       "    .dataframe thead th {\n",
       "        text-align: right;\n",
       "    }\n",
       "</style>\n",
       "<table border=\"1\" class=\"dataframe\">\n",
       "  <thead>\n",
       "    <tr style=\"text-align: right;\">\n",
       "      <th></th>\n",
       "      <th>id</th>\n",
       "      <th>gender</th>\n",
       "      <th>age</th>\n",
       "      <th>topic</th>\n",
       "      <th>sign</th>\n",
       "      <th>date</th>\n",
       "      <th>text</th>\n",
       "    </tr>\n",
       "  </thead>\n",
       "  <tbody>\n",
       "    <tr>\n",
       "      <th>0</th>\n",
       "      <td>2059027</td>\n",
       "      <td>male</td>\n",
       "      <td>15</td>\n",
       "      <td>Student</td>\n",
       "      <td>Leo</td>\n",
       "      <td>14,May,2004</td>\n",
       "      <td>Info has been found (+/- 100 pages,...</td>\n",
       "    </tr>\n",
       "    <tr>\n",
       "      <th>1</th>\n",
       "      <td>2059027</td>\n",
       "      <td>male</td>\n",
       "      <td>15</td>\n",
       "      <td>Student</td>\n",
       "      <td>Leo</td>\n",
       "      <td>13,May,2004</td>\n",
       "      <td>These are the team members:   Drewe...</td>\n",
       "    </tr>\n",
       "  </tbody>\n",
       "</table>\n",
       "</div>"
      ],
      "text/plain": [
       "        id  ...                                               text\n",
       "0  2059027  ...             Info has been found (+/- 100 pages,...\n",
       "1  2059027  ...             These are the team members:   Drewe...\n",
       "\n",
       "[2 rows x 7 columns]"
      ]
     },
     "execution_count": 109,
     "metadata": {
      "tags": []
     },
     "output_type": "execute_result"
    }
   ],
   "source": [
    "blog_data=pd.read_csv(\"/content/drive/MyDrive/blogtext.csv\")\n",
    "blog_data.head(2)"
   ]
  },
  {
   "cell_type": "code",
   "execution_count": 110,
   "metadata": {
    "colab": {
     "base_uri": "https://localhost:8080/",
     "height": 200
    },
    "id": "Pv4BTzZCg5k_",
    "outputId": "b6360cc2-7775-4ea9-cc65-57a514c4c757"
   },
   "outputs": [
    {
     "data": {
      "text/html": [
       "<div>\n",
       "<style scoped>\n",
       "    .dataframe tbody tr th:only-of-type {\n",
       "        vertical-align: middle;\n",
       "    }\n",
       "\n",
       "    .dataframe tbody tr th {\n",
       "        vertical-align: top;\n",
       "    }\n",
       "\n",
       "    .dataframe thead th {\n",
       "        text-align: right;\n",
       "    }\n",
       "</style>\n",
       "<table border=\"1\" class=\"dataframe\">\n",
       "  <thead>\n",
       "    <tr style=\"text-align: right;\">\n",
       "      <th></th>\n",
       "      <th>id</th>\n",
       "      <th>gender</th>\n",
       "      <th>age</th>\n",
       "      <th>topic</th>\n",
       "      <th>sign</th>\n",
       "      <th>date</th>\n",
       "      <th>text</th>\n",
       "    </tr>\n",
       "  </thead>\n",
       "  <tbody>\n",
       "    <tr>\n",
       "      <th>0</th>\n",
       "      <td>2059027</td>\n",
       "      <td>male</td>\n",
       "      <td>15</td>\n",
       "      <td>Student</td>\n",
       "      <td>Leo</td>\n",
       "      <td>14,May,2004</td>\n",
       "      <td>Info has been found (+/- 100 pages,...</td>\n",
       "    </tr>\n",
       "    <tr>\n",
       "      <th>1</th>\n",
       "      <td>2059027</td>\n",
       "      <td>male</td>\n",
       "      <td>15</td>\n",
       "      <td>Student</td>\n",
       "      <td>Leo</td>\n",
       "      <td>13,May,2004</td>\n",
       "      <td>These are the team members:   Drewe...</td>\n",
       "    </tr>\n",
       "    <tr>\n",
       "      <th>2</th>\n",
       "      <td>2059027</td>\n",
       "      <td>male</td>\n",
       "      <td>15</td>\n",
       "      <td>Student</td>\n",
       "      <td>Leo</td>\n",
       "      <td>12,May,2004</td>\n",
       "      <td>In het kader van kernfusie op aarde...</td>\n",
       "    </tr>\n",
       "    <tr>\n",
       "      <th>3</th>\n",
       "      <td>2059027</td>\n",
       "      <td>male</td>\n",
       "      <td>15</td>\n",
       "      <td>Student</td>\n",
       "      <td>Leo</td>\n",
       "      <td>12,May,2004</td>\n",
       "      <td>testing!!!  testing!!!</td>\n",
       "    </tr>\n",
       "    <tr>\n",
       "      <th>4</th>\n",
       "      <td>3581210</td>\n",
       "      <td>male</td>\n",
       "      <td>33</td>\n",
       "      <td>InvestmentBanking</td>\n",
       "      <td>Aquarius</td>\n",
       "      <td>11,June,2004</td>\n",
       "      <td>Thanks to Yahoo!'s Toolbar I can ...</td>\n",
       "    </tr>\n",
       "  </tbody>\n",
       "</table>\n",
       "</div>"
      ],
      "text/plain": [
       "        id  ...                                               text\n",
       "0  2059027  ...             Info has been found (+/- 100 pages,...\n",
       "1  2059027  ...             These are the team members:   Drewe...\n",
       "2  2059027  ...             In het kader van kernfusie op aarde...\n",
       "3  2059027  ...                   testing!!!  testing!!!          \n",
       "4  3581210  ...               Thanks to Yahoo!'s Toolbar I can ...\n",
       "\n",
       "[5 rows x 7 columns]"
      ]
     },
     "execution_count": 110,
     "metadata": {
      "tags": []
     },
     "output_type": "execute_result"
    }
   ],
   "source": [
    "backup_data=blog_data.copy()\n",
    "backup_data.head()"
   ]
  },
  {
   "cell_type": "code",
   "execution_count": 111,
   "metadata": {
    "colab": {
     "base_uri": "https://localhost:8080/"
    },
    "id": "jczAbVArhDSe",
    "outputId": "cdef51f9-f91c-4c4e-e670-22e6adfccabe"
   },
   "outputs": [
    {
     "data": {
      "text/plain": [
       "(681284, 7)"
      ]
     },
     "execution_count": 111,
     "metadata": {
      "tags": []
     },
     "output_type": "execute_result"
    }
   ],
   "source": [
    "blog_data.shape"
   ]
  },
  {
   "cell_type": "code",
   "execution_count": 112,
   "metadata": {
    "colab": {
     "base_uri": "https://localhost:8080/"
    },
    "id": "BThBElH8hWeA",
    "outputId": "c9062ebc-4387-4c0b-bcbb-0834699658fa"
   },
   "outputs": [
    {
     "name": "stdout",
     "output_type": "stream",
     "text": [
      "<class 'pandas.core.frame.DataFrame'>\n",
      "RangeIndex: 681284 entries, 0 to 681283\n",
      "Data columns (total 7 columns):\n",
      " #   Column  Non-Null Count   Dtype \n",
      "---  ------  --------------   ----- \n",
      " 0   id      681284 non-null  int64 \n",
      " 1   gender  681284 non-null  object\n",
      " 2   age     681284 non-null  int64 \n",
      " 3   topic   681284 non-null  object\n",
      " 4   sign    681284 non-null  object\n",
      " 5   date    681284 non-null  object\n",
      " 6   text    681284 non-null  object\n",
      "dtypes: int64(2), object(5)\n",
      "memory usage: 36.4+ MB\n"
     ]
    }
   ],
   "source": [
    "blog_data.info()"
   ]
  },
  {
   "cell_type": "code",
   "execution_count": 113,
   "metadata": {
    "colab": {
     "base_uri": "https://localhost:8080/"
    },
    "id": "7wCbUxF2hc9f",
    "outputId": "1c71df0f-402b-4e5f-bcb2-abe393116e8f"
   },
   "outputs": [
    {
     "data": {
      "text/plain": [
       "19320"
      ]
     },
     "execution_count": 113,
     "metadata": {
      "tags": []
     },
     "output_type": "execute_result"
    }
   ],
   "source": [
    "blog_data.id.unique().size"
   ]
  },
  {
   "cell_type": "code",
   "execution_count": 114,
   "metadata": {
    "colab": {
     "base_uri": "https://localhost:8080/"
    },
    "id": "h9wos_5Hhla-",
    "outputId": "0197d36f-439e-40da-f6ac-47903af1a793"
   },
   "outputs": [
    {
     "data": {
      "text/plain": [
       "male      345193\n",
       "female    336091\n",
       "Name: gender, dtype: int64"
      ]
     },
     "execution_count": 114,
     "metadata": {
      "tags": []
     },
     "output_type": "execute_result"
    }
   ],
   "source": [
    "blog_data.gender.value_counts()"
   ]
  },
  {
   "cell_type": "code",
   "execution_count": 115,
   "metadata": {
    "colab": {
     "base_uri": "https://localhost:8080/",
     "height": 297
    },
    "id": "AaGyIBZ6hql0",
    "outputId": "1447c5e0-c9a4-4235-cf87-cabf536e6d84"
   },
   "outputs": [
    {
     "data": {
      "text/plain": [
       "<matplotlib.axes._subplots.AxesSubplot at 0x7f6162537950>"
      ]
     },
     "execution_count": 115,
     "metadata": {
      "tags": []
     },
     "output_type": "execute_result"
    },
    {
     "data": {
      "image/png": "[encoded data removed]",
      "text/plain": [
       "<Figure size 432x288 with 1 Axes>"
      ]
     },
     "metadata": {
      "needs_background": "light",
      "tags": []
     },
     "output_type": "display_data"
    }
   ],
   "source": [
    "sns.distplot(blog_data[\"age\"])"
   ]
  },
  {
   "cell_type": "code",
   "execution_count": 116,
   "metadata": {
    "colab": {
     "base_uri": "https://localhost:8080/"
    },
    "id": "9JHgo617h010",
    "outputId": "068c44e2-3883-45ee-9096-44e4f06bd259"
   },
   "outputs": [
    {
     "data": {
      "text/plain": [
       "indUnk                     251015\n",
       "Student                    153903\n",
       "Technology                  42055\n",
       "Arts                        32449\n",
       "Education                   29633\n",
       "Communications-Media        20140\n",
       "Internet                    16006\n",
       "Non-Profit                  14700\n",
       "Engineering                 11653\n",
       "Law                          9040\n",
       "Publishing                   7753\n",
       "Science                      7269\n",
       "Government                   6907\n",
       "Consulting                   5862\n",
       "Religion                     5235\n",
       "Fashion                      4851\n",
       "Marketing                    4769\n",
       "Advertising                  4676\n",
       "BusinessServices             4500\n",
       "Banking                      4049\n",
       "Chemicals                    3928\n",
       "Telecommunications           3891\n",
       "Accounting                   3832\n",
       "Military                     3128\n",
       "Museums-Libraries            3096\n",
       "Sports-Recreation            3038\n",
       "HumanResources               3010\n",
       "RealEstate                   2870\n",
       "Transportation               2326\n",
       "Manufacturing                2272\n",
       "Biotech                      2234\n",
       "Tourism                      1942\n",
       "LawEnforcement-Security      1878\n",
       "Architecture                 1638\n",
       "InvestmentBanking            1292\n",
       "Automotive                   1244\n",
       "Agriculture                  1235\n",
       "Construction                 1093\n",
       "Environment                   592\n",
       "Maritime                      280\n",
       "Name: topic, dtype: int64"
      ]
     },
     "execution_count": 116,
     "metadata": {
      "tags": []
     },
     "output_type": "execute_result"
    }
   ],
   "source": [
    "blog_data.topic.value_counts()"
   ]
  },
  {
   "cell_type": "code",
   "execution_count": 117,
   "metadata": {
    "colab": {
     "base_uri": "https://localhost:8080/"
    },
    "id": "yG2EZya6iSYi",
    "outputId": "91b0c669-6081-4be2-fa17-53b058f1a0b6"
   },
   "outputs": [
    {
     "data": {
      "text/plain": [
       "Cancer         65048\n",
       "Aries          64979\n",
       "Taurus         62561\n",
       "Libra          62363\n",
       "Virgo          60399\n",
       "Scorpio        57161\n",
       "Pisces         54053\n",
       "Leo            53811\n",
       "Gemini         51985\n",
       "Sagittarius    50036\n",
       "Aquarius       49687\n",
       "Capricorn      49201\n",
       "Name: sign, dtype: int64"
      ]
     },
     "execution_count": 117,
     "metadata": {
      "tags": []
     },
     "output_type": "execute_result"
    }
   ],
   "source": [
    "blog_data.sign.value_counts()"
   ]
  },
  {
   "cell_type": "code",
   "execution_count": 118,
   "metadata": {
    "id": "Z8mUIwxUu1z7"
   },
   "outputs": [],
   "source": [
    "blog_data.drop(columns=[\"date\",\"id\"],inplace=True)"
   ]
  },
  {
   "cell_type": "code",
   "execution_count": 119,
   "metadata": {
    "colab": {
     "base_uri": "https://localhost:8080/",
     "height": 200
    },
    "id": "r-Rrf-VylLsq",
    "outputId": "a3507e80-32a8-4946-e0aa-3af370ed7e00"
   },
   "outputs": [
    {
     "data": {
      "text/html": [
       "<div>\n",
       "<style scoped>\n",
       "    .dataframe tbody tr th:only-of-type {\n",
       "        vertical-align: middle;\n",
       "    }\n",
       "\n",
       "    .dataframe tbody tr th {\n",
       "        vertical-align: top;\n",
       "    }\n",
       "\n",
       "    .dataframe thead th {\n",
       "        text-align: right;\n",
       "    }\n",
       "</style>\n",
       "<table border=\"1\" class=\"dataframe\">\n",
       "  <thead>\n",
       "    <tr style=\"text-align: right;\">\n",
       "      <th></th>\n",
       "      <th>gender</th>\n",
       "      <th>age</th>\n",
       "      <th>topic</th>\n",
       "      <th>sign</th>\n",
       "      <th>text</th>\n",
       "    </tr>\n",
       "  </thead>\n",
       "  <tbody>\n",
       "    <tr>\n",
       "      <th>0</th>\n",
       "      <td>male</td>\n",
       "      <td>15</td>\n",
       "      <td>Student</td>\n",
       "      <td>Leo</td>\n",
       "      <td>Info has been found (+/- 100 pages,...</td>\n",
       "    </tr>\n",
       "    <tr>\n",
       "      <th>1</th>\n",
       "      <td>male</td>\n",
       "      <td>15</td>\n",
       "      <td>Student</td>\n",
       "      <td>Leo</td>\n",
       "      <td>These are the team members:   Drewe...</td>\n",
       "    </tr>\n",
       "    <tr>\n",
       "      <th>2</th>\n",
       "      <td>male</td>\n",
       "      <td>15</td>\n",
       "      <td>Student</td>\n",
       "      <td>Leo</td>\n",
       "      <td>In het kader van kernfusie op aarde...</td>\n",
       "    </tr>\n",
       "    <tr>\n",
       "      <th>3</th>\n",
       "      <td>male</td>\n",
       "      <td>15</td>\n",
       "      <td>Student</td>\n",
       "      <td>Leo</td>\n",
       "      <td>testing!!!  testing!!!</td>\n",
       "    </tr>\n",
       "    <tr>\n",
       "      <th>4</th>\n",
       "      <td>male</td>\n",
       "      <td>33</td>\n",
       "      <td>InvestmentBanking</td>\n",
       "      <td>Aquarius</td>\n",
       "      <td>Thanks to Yahoo!'s Toolbar I can ...</td>\n",
       "    </tr>\n",
       "  </tbody>\n",
       "</table>\n",
       "</div>"
      ],
      "text/plain": [
       "  gender  age  ...      sign                                               text\n",
       "0   male   15  ...       Leo             Info has been found (+/- 100 pages,...\n",
       "1   male   15  ...       Leo             These are the team members:   Drewe...\n",
       "2   male   15  ...       Leo             In het kader van kernfusie op aarde...\n",
       "3   male   15  ...       Leo                   testing!!!  testing!!!          \n",
       "4   male   33  ...  Aquarius               Thanks to Yahoo!'s Toolbar I can ...\n",
       "\n",
       "[5 rows x 5 columns]"
      ]
     },
     "execution_count": 119,
     "metadata": {
      "tags": []
     },
     "output_type": "execute_result"
    }
   ],
   "source": [
    "blog_data.head()"
   ]
  },
  {
   "cell_type": "code",
   "execution_count": 120,
   "metadata": {
    "colab": {
     "base_uri": "https://localhost:8080/",
     "height": 382
    },
    "id": "euJ19XqhlVbZ",
    "outputId": "18a630ab-e016-443b-d504-3fc6534cfe5b"
   },
   "outputs": [
    {
     "data": {
      "text/html": [
       "<div>\n",
       "<style scoped>\n",
       "    .dataframe tbody tr th:only-of-type {\n",
       "        vertical-align: middle;\n",
       "    }\n",
       "\n",
       "    .dataframe tbody tr th {\n",
       "        vertical-align: top;\n",
       "    }\n",
       "\n",
       "    .dataframe thead th {\n",
       "        text-align: right;\n",
       "    }\n",
       "</style>\n",
       "<table border=\"1\" class=\"dataframe\">\n",
       "  <thead>\n",
       "    <tr style=\"text-align: right;\">\n",
       "      <th></th>\n",
       "      <th>gender</th>\n",
       "      <th>age</th>\n",
       "      <th>topic</th>\n",
       "      <th>sign</th>\n",
       "      <th>text</th>\n",
       "    </tr>\n",
       "  </thead>\n",
       "  <tbody>\n",
       "    <tr>\n",
       "      <th>count</th>\n",
       "      <td>681284</td>\n",
       "      <td>681284.000000</td>\n",
       "      <td>681284</td>\n",
       "      <td>681284</td>\n",
       "      <td>681284</td>\n",
       "    </tr>\n",
       "    <tr>\n",
       "      <th>unique</th>\n",
       "      <td>2</td>\n",
       "      <td>NaN</td>\n",
       "      <td>40</td>\n",
       "      <td>12</td>\n",
       "      <td>611652</td>\n",
       "    </tr>\n",
       "    <tr>\n",
       "      <th>top</th>\n",
       "      <td>male</td>\n",
       "      <td>NaN</td>\n",
       "      <td>indUnk</td>\n",
       "      <td>Cancer</td>\n",
       "      <td>urlLink</td>\n",
       "    </tr>\n",
       "    <tr>\n",
       "      <th>freq</th>\n",
       "      <td>345193</td>\n",
       "      <td>NaN</td>\n",
       "      <td>251015</td>\n",
       "      <td>65048</td>\n",
       "      <td>445</td>\n",
       "    </tr>\n",
       "    <tr>\n",
       "      <th>mean</th>\n",
       "      <td>NaN</td>\n",
       "      <td>23.932326</td>\n",
       "      <td>NaN</td>\n",
       "      <td>NaN</td>\n",
       "      <td>NaN</td>\n",
       "    </tr>\n",
       "    <tr>\n",
       "      <th>std</th>\n",
       "      <td>NaN</td>\n",
       "      <td>7.786009</td>\n",
       "      <td>NaN</td>\n",
       "      <td>NaN</td>\n",
       "      <td>NaN</td>\n",
       "    </tr>\n",
       "    <tr>\n",
       "      <th>min</th>\n",
       "      <td>NaN</td>\n",
       "      <td>13.000000</td>\n",
       "      <td>NaN</td>\n",
       "      <td>NaN</td>\n",
       "      <td>NaN</td>\n",
       "    </tr>\n",
       "    <tr>\n",
       "      <th>25%</th>\n",
       "      <td>NaN</td>\n",
       "      <td>17.000000</td>\n",
       "      <td>NaN</td>\n",
       "      <td>NaN</td>\n",
       "      <td>NaN</td>\n",
       "    </tr>\n",
       "    <tr>\n",
       "      <th>50%</th>\n",
       "      <td>NaN</td>\n",
       "      <td>24.000000</td>\n",
       "      <td>NaN</td>\n",
       "      <td>NaN</td>\n",
       "      <td>NaN</td>\n",
       "    </tr>\n",
       "    <tr>\n",
       "      <th>75%</th>\n",
       "      <td>NaN</td>\n",
       "      <td>26.000000</td>\n",
       "      <td>NaN</td>\n",
       "      <td>NaN</td>\n",
       "      <td>NaN</td>\n",
       "    </tr>\n",
       "    <tr>\n",
       "      <th>max</th>\n",
       "      <td>NaN</td>\n",
       "      <td>48.000000</td>\n",
       "      <td>NaN</td>\n",
       "      <td>NaN</td>\n",
       "      <td>NaN</td>\n",
       "    </tr>\n",
       "  </tbody>\n",
       "</table>\n",
       "</div>"
      ],
      "text/plain": [
       "        gender            age   topic    sign                 text\n",
       "count   681284  681284.000000  681284  681284               681284\n",
       "unique       2            NaN      40      12               611652\n",
       "top       male            NaN  indUnk  Cancer           urlLink   \n",
       "freq    345193            NaN  251015   65048                  445\n",
       "mean       NaN      23.932326     NaN     NaN                  NaN\n",
       "std        NaN       7.786009     NaN     NaN                  NaN\n",
       "min        NaN      13.000000     NaN     NaN                  NaN\n",
       "25%        NaN      17.000000     NaN     NaN                  NaN\n",
       "50%        NaN      24.000000     NaN     NaN                  NaN\n",
       "75%        NaN      26.000000     NaN     NaN                  NaN\n",
       "max        NaN      48.000000     NaN     NaN                  NaN"
      ]
     },
     "execution_count": 120,
     "metadata": {
      "tags": []
     },
     "output_type": "execute_result"
    }
   ],
   "source": [
    "blog_data.describe(include=\"all\")"
   ]
  },
  {
   "cell_type": "code",
   "execution_count": 121,
   "metadata": {
    "id": "oTVUBR4cuSjL"
   },
   "outputs": [],
   "source": [
    "# def age_mapping(x):\n",
    "#   if (x>=13 and x<=17):\n",
    "#     return 1\n",
    "#   if (x>=23 and x<=27):\n",
    "#     return 2\n",
    "#   if (x>=33 and x<=47):\n",
    "#     return 3"
   ]
  },
  {
   "cell_type": "code",
   "execution_count": 122,
   "metadata": {
    "id": "rMpTfOKtu_tN"
   },
   "outputs": [],
   "source": [
    "# blog_data[\"age\"].map(age_mapping).value_counts().plot(kind=\"bar\")"
   ]
  },
  {
   "cell_type": "code",
   "execution_count": 123,
   "metadata": {
    "id": "sL1Nty6HYR5I"
   },
   "outputs": [],
   "source": [
    "# blog_data[\"age\"]=blog_data[\"age\"].map(age_mapping)"
   ]
  },
  {
   "cell_type": "code",
   "execution_count": 124,
   "metadata": {
    "id": "jbvTsWScYKbR"
   },
   "outputs": [],
   "source": [
    "# blog_data.head()"
   ]
  },
  {
   "cell_type": "code",
   "execution_count": 125,
   "metadata": {
    "colab": {
     "base_uri": "https://localhost:8080/",
     "height": 200
    },
    "id": "PCW7kNtyq5bR",
    "outputId": "32eaccf1-5987-440b-f69b-836fb253099c"
   },
   "outputs": [
    {
     "data": {
      "text/html": [
       "<div>\n",
       "<style scoped>\n",
       "    .dataframe tbody tr th:only-of-type {\n",
       "        vertical-align: middle;\n",
       "    }\n",
       "\n",
       "    .dataframe tbody tr th {\n",
       "        vertical-align: top;\n",
       "    }\n",
       "\n",
       "    .dataframe thead th {\n",
       "        text-align: right;\n",
       "    }\n",
       "</style>\n",
       "<table border=\"1\" class=\"dataframe\">\n",
       "  <thead>\n",
       "    <tr style=\"text-align: right;\">\n",
       "      <th></th>\n",
       "      <th>gender</th>\n",
       "      <th>age</th>\n",
       "      <th>topic</th>\n",
       "      <th>sign</th>\n",
       "      <th>text</th>\n",
       "      <th>transformed_text</th>\n",
       "    </tr>\n",
       "  </thead>\n",
       "  <tbody>\n",
       "    <tr>\n",
       "      <th>0</th>\n",
       "      <td>male</td>\n",
       "      <td>15</td>\n",
       "      <td>Student</td>\n",
       "      <td>Leo</td>\n",
       "      <td>Info has been found (+/- 100 pages,...</td>\n",
       "      <td>info has been found (+/- 100 pages,...</td>\n",
       "    </tr>\n",
       "    <tr>\n",
       "      <th>1</th>\n",
       "      <td>male</td>\n",
       "      <td>15</td>\n",
       "      <td>Student</td>\n",
       "      <td>Leo</td>\n",
       "      <td>These are the team members:   Drewe...</td>\n",
       "      <td>these are the team members:   drewe...</td>\n",
       "    </tr>\n",
       "    <tr>\n",
       "      <th>2</th>\n",
       "      <td>male</td>\n",
       "      <td>15</td>\n",
       "      <td>Student</td>\n",
       "      <td>Leo</td>\n",
       "      <td>In het kader van kernfusie op aarde...</td>\n",
       "      <td>in het kader van kernfusie op aarde...</td>\n",
       "    </tr>\n",
       "    <tr>\n",
       "      <th>3</th>\n",
       "      <td>male</td>\n",
       "      <td>15</td>\n",
       "      <td>Student</td>\n",
       "      <td>Leo</td>\n",
       "      <td>testing!!!  testing!!!</td>\n",
       "      <td>testing!!!  testing!!!</td>\n",
       "    </tr>\n",
       "    <tr>\n",
       "      <th>4</th>\n",
       "      <td>male</td>\n",
       "      <td>33</td>\n",
       "      <td>InvestmentBanking</td>\n",
       "      <td>Aquarius</td>\n",
       "      <td>Thanks to Yahoo!'s Toolbar I can ...</td>\n",
       "      <td>thanks to yahoo!'s toolbar i can ...</td>\n",
       "    </tr>\n",
       "  </tbody>\n",
       "</table>\n",
       "</div>"
      ],
      "text/plain": [
       "  gender  ...                                   transformed_text\n",
       "0   male  ...             info has been found (+/- 100 pages,...\n",
       "1   male  ...             these are the team members:   drewe...\n",
       "2   male  ...             in het kader van kernfusie op aarde...\n",
       "3   male  ...                   testing!!!  testing!!!          \n",
       "4   male  ...               thanks to yahoo!'s toolbar i can ...\n",
       "\n",
       "[5 rows x 6 columns]"
      ]
     },
     "execution_count": 125,
     "metadata": {
      "tags": []
     },
     "output_type": "execute_result"
    }
   ],
   "source": [
    "blog_data['text'] = blog_data['text'].astype('str')\n",
    "blog_data['transformed_text'] = blog_data['text'].apply(lambda x: x.lower())\n",
    "blog_data.head()"
   ]
  },
  {
   "cell_type": "code",
   "execution_count": 126,
   "metadata": {
    "colab": {
     "base_uri": "https://localhost:8080/",
     "height": 200
    },
    "id": "nYL0KjQ9-0vP",
    "outputId": "e3686dba-dff1-437f-8c98-d90b311a3e41"
   },
   "outputs": [
    {
     "data": {
      "text/html": [
       "<div>\n",
       "<style scoped>\n",
       "    .dataframe tbody tr th:only-of-type {\n",
       "        vertical-align: middle;\n",
       "    }\n",
       "\n",
       "    .dataframe tbody tr th {\n",
       "        vertical-align: top;\n",
       "    }\n",
       "\n",
       "    .dataframe thead th {\n",
       "        text-align: right;\n",
       "    }\n",
       "</style>\n",
       "<table border=\"1\" class=\"dataframe\">\n",
       "  <thead>\n",
       "    <tr style=\"text-align: right;\">\n",
       "      <th></th>\n",
       "      <th>gender</th>\n",
       "      <th>age</th>\n",
       "      <th>topic</th>\n",
       "      <th>sign</th>\n",
       "      <th>text</th>\n",
       "      <th>transformed_text</th>\n",
       "    </tr>\n",
       "  </thead>\n",
       "  <tbody>\n",
       "    <tr>\n",
       "      <th>0</th>\n",
       "      <td>male</td>\n",
       "      <td>15</td>\n",
       "      <td>Student</td>\n",
       "      <td>Leo</td>\n",
       "      <td>Info has been found (+/- 100 pages,...</td>\n",
       "      <td>info has been found  100 pages and ...</td>\n",
       "    </tr>\n",
       "    <tr>\n",
       "      <th>1</th>\n",
       "      <td>male</td>\n",
       "      <td>15</td>\n",
       "      <td>Student</td>\n",
       "      <td>Leo</td>\n",
       "      <td>These are the team members:   Drewe...</td>\n",
       "      <td>these are the team members   drewes...</td>\n",
       "    </tr>\n",
       "    <tr>\n",
       "      <th>2</th>\n",
       "      <td>male</td>\n",
       "      <td>15</td>\n",
       "      <td>Student</td>\n",
       "      <td>Leo</td>\n",
       "      <td>In het kader van kernfusie op aarde...</td>\n",
       "      <td>in het kader van kernfusie op aarde...</td>\n",
       "    </tr>\n",
       "    <tr>\n",
       "      <th>3</th>\n",
       "      <td>male</td>\n",
       "      <td>15</td>\n",
       "      <td>Student</td>\n",
       "      <td>Leo</td>\n",
       "      <td>testing!!!  testing!!!</td>\n",
       "      <td>testing  testing</td>\n",
       "    </tr>\n",
       "    <tr>\n",
       "      <th>4</th>\n",
       "      <td>male</td>\n",
       "      <td>33</td>\n",
       "      <td>InvestmentBanking</td>\n",
       "      <td>Aquarius</td>\n",
       "      <td>Thanks to Yahoo!'s Toolbar I can ...</td>\n",
       "      <td>thanks to yahoos toolbar i can no...</td>\n",
       "    </tr>\n",
       "  </tbody>\n",
       "</table>\n",
       "</div>"
      ],
      "text/plain": [
       "  gender  ...                                   transformed_text\n",
       "0   male  ...             info has been found  100 pages and ...\n",
       "1   male  ...             these are the team members   drewes...\n",
       "2   male  ...             in het kader van kernfusie op aarde...\n",
       "3   male  ...                         testing  testing          \n",
       "4   male  ...               thanks to yahoos toolbar i can no...\n",
       "\n",
       "[5 rows x 6 columns]"
      ]
     },
     "execution_count": 126,
     "metadata": {
      "tags": []
     },
     "output_type": "execute_result"
    }
   ],
   "source": [
    "blog_data[\"transformed_text\"]=blog_data[\"transformed_text\"].str.replace('[^\\w\\s]','')\n",
    "blog_data.head()"
   ]
  },
  {
   "cell_type": "code",
   "execution_count": 127,
   "metadata": {
    "colab": {
     "base_uri": "https://localhost:8080/"
    },
    "id": "SFEI7t5E_Rov",
    "outputId": "2ed8bd35-e442-45fc-e00a-c0a0e6a33847"
   },
   "outputs": [
    {
     "name": "stdout",
     "output_type": "stream",
     "text": [
      "[nltk_data] Downloading package stopwords to /root/nltk_data...\n",
      "[nltk_data]   Package stopwords is already up-to-date!\n"
     ]
    },
    {
     "data": {
      "text/plain": [
       "{'a',\n",
       " 'about',\n",
       " 'above',\n",
       " 'after',\n",
       " 'again',\n",
       " 'against',\n",
       " 'ain',\n",
       " 'all',\n",
       " 'am',\n",
       " 'an',\n",
       " 'and',\n",
       " 'any',\n",
       " 'are',\n",
       " 'aren',\n",
       " \"aren't\",\n",
       " 'as',\n",
       " 'at',\n",
       " 'be',\n",
       " 'because',\n",
       " 'been',\n",
       " 'before',\n",
       " 'being',\n",
       " 'below',\n",
       " 'between',\n",
       " 'both',\n",
       " 'but',\n",
       " 'by',\n",
       " 'can',\n",
       " 'couldn',\n",
       " \"couldn't\",\n",
       " 'd',\n",
       " 'did',\n",
       " 'didn',\n",
       " \"didn't\",\n",
       " 'do',\n",
       " 'does',\n",
       " 'doesn',\n",
       " \"doesn't\",\n",
       " 'doing',\n",
       " 'don',\n",
       " \"don't\",\n",
       " 'down',\n",
       " 'during',\n",
       " 'each',\n",
       " 'few',\n",
       " 'for',\n",
       " 'from',\n",
       " 'further',\n",
       " 'had',\n",
       " 'hadn',\n",
       " \"hadn't\",\n",
       " 'has',\n",
       " 'hasn',\n",
       " \"hasn't\",\n",
       " 'have',\n",
       " 'haven',\n",
       " \"haven't\",\n",
       " 'having',\n",
       " 'he',\n",
       " 'her',\n",
       " 'here',\n",
       " 'hers',\n",
       " 'herself',\n",
       " 'him',\n",
       " 'himself',\n",
       " 'his',\n",
       " 'how',\n",
       " 'i',\n",
       " 'if',\n",
       " 'in',\n",
       " 'into',\n",
       " 'is',\n",
       " 'isn',\n",
       " \"isn't\",\n",
       " 'it',\n",
       " \"it's\",\n",
       " 'its',\n",
       " 'itself',\n",
       " 'just',\n",
       " 'll',\n",
       " 'm',\n",
       " 'ma',\n",
       " 'me',\n",
       " 'mightn',\n",
       " \"mightn't\",\n",
       " 'more',\n",
       " 'most',\n",
       " 'mustn',\n",
       " \"mustn't\",\n",
       " 'my',\n",
       " 'myself',\n",
       " 'needn',\n",
       " \"needn't\",\n",
       " 'no',\n",
       " 'nor',\n",
       " 'not',\n",
       " 'now',\n",
       " 'o',\n",
       " 'of',\n",
       " 'off',\n",
       " 'on',\n",
       " 'once',\n",
       " 'only',\n",
       " 'or',\n",
       " 'other',\n",
       " 'our',\n",
       " 'ours',\n",
       " 'ourselves',\n",
       " 'out',\n",
       " 'over',\n",
       " 'own',\n",
       " 're',\n",
       " 's',\n",
       " 'same',\n",
       " 'shan',\n",
       " \"shan't\",\n",
       " 'she',\n",
       " \"she's\",\n",
       " 'should',\n",
       " \"should've\",\n",
       " 'shouldn',\n",
       " \"shouldn't\",\n",
       " 'so',\n",
       " 'some',\n",
       " 'such',\n",
       " 't',\n",
       " 'than',\n",
       " 'that',\n",
       " \"that'll\",\n",
       " 'the',\n",
       " 'their',\n",
       " 'theirs',\n",
       " 'them',\n",
       " 'themselves',\n",
       " 'then',\n",
       " 'there',\n",
       " 'these',\n",
       " 'they',\n",
       " 'this',\n",
       " 'those',\n",
       " 'through',\n",
       " 'to',\n",
       " 'too',\n",
       " 'under',\n",
       " 'until',\n",
       " 'up',\n",
       " 've',\n",
       " 'very',\n",
       " 'was',\n",
       " 'wasn',\n",
       " \"wasn't\",\n",
       " 'we',\n",
       " 'were',\n",
       " 'weren',\n",
       " \"weren't\",\n",
       " 'what',\n",
       " 'when',\n",
       " 'where',\n",
       " 'which',\n",
       " 'while',\n",
       " 'who',\n",
       " 'whom',\n",
       " 'why',\n",
       " 'will',\n",
       " 'with',\n",
       " 'won',\n",
       " \"won't\",\n",
       " 'wouldn',\n",
       " \"wouldn't\",\n",
       " 'y',\n",
       " 'you',\n",
       " \"you'd\",\n",
       " \"you'll\",\n",
       " \"you're\",\n",
       " \"you've\",\n",
       " 'your',\n",
       " 'yours',\n",
       " 'yourself',\n",
       " 'yourselves'}"
      ]
     },
     "execution_count": 127,
     "metadata": {
      "tags": []
     },
     "output_type": "execute_result"
    }
   ],
   "source": [
    "import nltk\n",
    "nltk.download('stopwords')\n",
    "from nltk.corpus import stopwords\n",
    "stop=set(stopwords.words('english'))\n",
    "stop"
   ]
  },
  {
   "cell_type": "code",
   "execution_count": 128,
   "metadata": {
    "id": "Xtau39I2_Zdt"
   },
   "outputs": [],
   "source": [
    "blog_data['transformed_text'] = blog_data['transformed_text'].apply(lambda words: ' '.join(word for word in words.split() if word not in stop))"
   ]
  },
  {
   "cell_type": "code",
   "execution_count": 129,
   "metadata": {
    "colab": {
     "base_uri": "https://localhost:8080/",
     "height": 200
    },
    "id": "bFymxCAD_pFW",
    "outputId": "4388bbb1-ae41-404f-d72d-eb17efa16694"
   },
   "outputs": [
    {
     "data": {
      "text/html": [
       "<div>\n",
       "<style scoped>\n",
       "    .dataframe tbody tr th:only-of-type {\n",
       "        vertical-align: middle;\n",
       "    }\n",
       "\n",
       "    .dataframe tbody tr th {\n",
       "        vertical-align: top;\n",
       "    }\n",
       "\n",
       "    .dataframe thead th {\n",
       "        text-align: right;\n",
       "    }\n",
       "</style>\n",
       "<table border=\"1\" class=\"dataframe\">\n",
       "  <thead>\n",
       "    <tr style=\"text-align: right;\">\n",
       "      <th></th>\n",
       "      <th>gender</th>\n",
       "      <th>age</th>\n",
       "      <th>topic</th>\n",
       "      <th>sign</th>\n",
       "      <th>text</th>\n",
       "      <th>transformed_text</th>\n",
       "    </tr>\n",
       "  </thead>\n",
       "  <tbody>\n",
       "    <tr>\n",
       "      <th>0</th>\n",
       "      <td>male</td>\n",
       "      <td>15</td>\n",
       "      <td>Student</td>\n",
       "      <td>Leo</td>\n",
       "      <td>Info has been found (+/- 100 pages,...</td>\n",
       "      <td>info found 100 pages 45 mb pdf files wait unti...</td>\n",
       "    </tr>\n",
       "    <tr>\n",
       "      <th>1</th>\n",
       "      <td>male</td>\n",
       "      <td>15</td>\n",
       "      <td>Student</td>\n",
       "      <td>Leo</td>\n",
       "      <td>These are the team members:   Drewe...</td>\n",
       "      <td>team members drewes van der laag urllink mail ...</td>\n",
       "    </tr>\n",
       "    <tr>\n",
       "      <th>2</th>\n",
       "      <td>male</td>\n",
       "      <td>15</td>\n",
       "      <td>Student</td>\n",
       "      <td>Leo</td>\n",
       "      <td>In het kader van kernfusie op aarde...</td>\n",
       "      <td>het kader van kernfusie op aarde maak je eigen...</td>\n",
       "    </tr>\n",
       "    <tr>\n",
       "      <th>3</th>\n",
       "      <td>male</td>\n",
       "      <td>15</td>\n",
       "      <td>Student</td>\n",
       "      <td>Leo</td>\n",
       "      <td>testing!!!  testing!!!</td>\n",
       "      <td>testing testing</td>\n",
       "    </tr>\n",
       "    <tr>\n",
       "      <th>4</th>\n",
       "      <td>male</td>\n",
       "      <td>33</td>\n",
       "      <td>InvestmentBanking</td>\n",
       "      <td>Aquarius</td>\n",
       "      <td>Thanks to Yahoo!'s Toolbar I can ...</td>\n",
       "      <td>thanks yahoos toolbar capture urls popupswhich...</td>\n",
       "    </tr>\n",
       "  </tbody>\n",
       "</table>\n",
       "</div>"
      ],
      "text/plain": [
       "  gender  ...                                   transformed_text\n",
       "0   male  ...  info found 100 pages 45 mb pdf files wait unti...\n",
       "1   male  ...  team members drewes van der laag urllink mail ...\n",
       "2   male  ...  het kader van kernfusie op aarde maak je eigen...\n",
       "3   male  ...                                    testing testing\n",
       "4   male  ...  thanks yahoos toolbar capture urls popupswhich...\n",
       "\n",
       "[5 rows x 6 columns]"
      ]
     },
     "execution_count": 129,
     "metadata": {
      "tags": []
     },
     "output_type": "execute_result"
    }
   ],
   "source": [
    "blog_data.head()"
   ]
  },
  {
   "cell_type": "code",
   "execution_count": 130,
   "metadata": {
    "colab": {
     "base_uri": "https://localhost:8080/"
    },
    "id": "7j9pm2zF_3Od",
    "outputId": "31cbe0cc-5e90-4dbf-f16c-9d9cae103780"
   },
   "outputs": [
    {
     "name": "stdout",
     "output_type": "stream",
     "text": [
      "[nltk_data] Downloading package wordnet to /root/nltk_data...\n",
      "[nltk_data]   Package wordnet is already up-to-date!\n"
     ]
    }
   ],
   "source": [
    "import nltk\n",
    "nltk.download('wordnet')\n",
    "w_tokenizer=nltk.tokenize.WhitespaceTokenizer()\n",
    "lemmatizer=nltk.stem.WordNetLemmatizer()"
   ]
  },
  {
   "cell_type": "code",
   "execution_count": 131,
   "metadata": {
    "id": "ccByNpxA_8bd"
   },
   "outputs": [],
   "source": [
    "def lemmatize_text(text):\n",
    "  return \" \".join([lemmatizer.lemmatize(w) for w in w_tokenizer.tokenize(text)])"
   ]
  },
  {
   "cell_type": "code",
   "execution_count": 132,
   "metadata": {
    "colab": {
     "base_uri": "https://localhost:8080/",
     "height": 200
    },
    "id": "QQ2xuFEG_-n1",
    "outputId": "5dc167a0-7cc3-4e6d-9f8d-374bba548fc1"
   },
   "outputs": [
    {
     "data": {
      "text/html": [
       "<div>\n",
       "<style scoped>\n",
       "    .dataframe tbody tr th:only-of-type {\n",
       "        vertical-align: middle;\n",
       "    }\n",
       "\n",
       "    .dataframe tbody tr th {\n",
       "        vertical-align: top;\n",
       "    }\n",
       "\n",
       "    .dataframe thead th {\n",
       "        text-align: right;\n",
       "    }\n",
       "</style>\n",
       "<table border=\"1\" class=\"dataframe\">\n",
       "  <thead>\n",
       "    <tr style=\"text-align: right;\">\n",
       "      <th></th>\n",
       "      <th>gender</th>\n",
       "      <th>age</th>\n",
       "      <th>topic</th>\n",
       "      <th>sign</th>\n",
       "      <th>text</th>\n",
       "      <th>transformed_text</th>\n",
       "    </tr>\n",
       "  </thead>\n",
       "  <tbody>\n",
       "    <tr>\n",
       "      <th>0</th>\n",
       "      <td>male</td>\n",
       "      <td>15</td>\n",
       "      <td>Student</td>\n",
       "      <td>Leo</td>\n",
       "      <td>Info has been found (+/- 100 pages,...</td>\n",
       "      <td>info found 100 page 45 mb pdf file wait untill...</td>\n",
       "    </tr>\n",
       "    <tr>\n",
       "      <th>1</th>\n",
       "      <td>male</td>\n",
       "      <td>15</td>\n",
       "      <td>Student</td>\n",
       "      <td>Leo</td>\n",
       "      <td>These are the team members:   Drewe...</td>\n",
       "      <td>team member drewes van der laag urllink mail r...</td>\n",
       "    </tr>\n",
       "    <tr>\n",
       "      <th>2</th>\n",
       "      <td>male</td>\n",
       "      <td>15</td>\n",
       "      <td>Student</td>\n",
       "      <td>Leo</td>\n",
       "      <td>In het kader van kernfusie op aarde...</td>\n",
       "      <td>het kader van kernfusie op aarde maak je eigen...</td>\n",
       "    </tr>\n",
       "    <tr>\n",
       "      <th>3</th>\n",
       "      <td>male</td>\n",
       "      <td>15</td>\n",
       "      <td>Student</td>\n",
       "      <td>Leo</td>\n",
       "      <td>testing!!!  testing!!!</td>\n",
       "      <td>testing testing</td>\n",
       "    </tr>\n",
       "    <tr>\n",
       "      <th>4</th>\n",
       "      <td>male</td>\n",
       "      <td>33</td>\n",
       "      <td>InvestmentBanking</td>\n",
       "      <td>Aquarius</td>\n",
       "      <td>Thanks to Yahoo!'s Toolbar I can ...</td>\n",
       "      <td>thanks yahoo toolbar capture url popupswhich m...</td>\n",
       "    </tr>\n",
       "  </tbody>\n",
       "</table>\n",
       "</div>"
      ],
      "text/plain": [
       "  gender  ...                                   transformed_text\n",
       "0   male  ...  info found 100 page 45 mb pdf file wait untill...\n",
       "1   male  ...  team member drewes van der laag urllink mail r...\n",
       "2   male  ...  het kader van kernfusie op aarde maak je eigen...\n",
       "3   male  ...                                    testing testing\n",
       "4   male  ...  thanks yahoo toolbar capture url popupswhich m...\n",
       "\n",
       "[5 rows x 6 columns]"
      ]
     },
     "execution_count": 132,
     "metadata": {
      "tags": []
     },
     "output_type": "execute_result"
    }
   ],
   "source": [
    "blog_data['transformed_text'] = blog_data['transformed_text'].apply(lemmatize_text)\n",
    "blog_data.head()"
   ]
  },
  {
   "cell_type": "code",
   "execution_count": null,
   "metadata": {
    "id": "so_tb8pQdRRC"
   },
   "outputs": [],
   "source": []
  },
  {
   "cell_type": "code",
   "execution_count": 133,
   "metadata": {
    "id": "Rp97d2fbBIzW"
   },
   "outputs": [],
   "source": [
    "# from sklearn.preprocessing import LabelEncoder\n",
    "# encode=LabelEncoder()\n",
    "# columns=[\"gender\",\"topic\",\"sign\"]\n",
    "# for i in columns:\n",
    "#   blog_data[i]=encode.fit_transform(pd.DataFrame(blog_data[i]))\n",
    "# blog_data.head()"
   ]
  },
  {
   "cell_type": "code",
   "execution_count": 134,
   "metadata": {
    "colab": {
     "base_uri": "https://localhost:8080/",
     "height": 200
    },
    "id": "_SEXp1WaCNCA",
    "outputId": "d6594610-d9b7-4f05-b1cc-5f37d9f09dbe"
   },
   "outputs": [
    {
     "data": {
      "text/html": [
       "<div>\n",
       "<style scoped>\n",
       "    .dataframe tbody tr th:only-of-type {\n",
       "        vertical-align: middle;\n",
       "    }\n",
       "\n",
       "    .dataframe tbody tr th {\n",
       "        vertical-align: top;\n",
       "    }\n",
       "\n",
       "    .dataframe thead th {\n",
       "        text-align: right;\n",
       "    }\n",
       "</style>\n",
       "<table border=\"1\" class=\"dataframe\">\n",
       "  <thead>\n",
       "    <tr style=\"text-align: right;\">\n",
       "      <th></th>\n",
       "      <th>gender</th>\n",
       "      <th>age</th>\n",
       "      <th>topic</th>\n",
       "      <th>sign</th>\n",
       "      <th>text</th>\n",
       "      <th>transformed_text</th>\n",
       "      <th>labels</th>\n",
       "    </tr>\n",
       "  </thead>\n",
       "  <tbody>\n",
       "    <tr>\n",
       "      <th>0</th>\n",
       "      <td>male</td>\n",
       "      <td>15</td>\n",
       "      <td>Student</td>\n",
       "      <td>Leo</td>\n",
       "      <td>Info has been found (+/- 100 pages,...</td>\n",
       "      <td>info found 100 page 45 mb pdf file wait untill...</td>\n",
       "      <td>[male, 15, Student, Leo]</td>\n",
       "    </tr>\n",
       "    <tr>\n",
       "      <th>1</th>\n",
       "      <td>male</td>\n",
       "      <td>15</td>\n",
       "      <td>Student</td>\n",
       "      <td>Leo</td>\n",
       "      <td>These are the team members:   Drewe...</td>\n",
       "      <td>team member drewes van der laag urllink mail r...</td>\n",
       "      <td>[male, 15, Student, Leo]</td>\n",
       "    </tr>\n",
       "    <tr>\n",
       "      <th>2</th>\n",
       "      <td>male</td>\n",
       "      <td>15</td>\n",
       "      <td>Student</td>\n",
       "      <td>Leo</td>\n",
       "      <td>In het kader van kernfusie op aarde...</td>\n",
       "      <td>het kader van kernfusie op aarde maak je eigen...</td>\n",
       "      <td>[male, 15, Student, Leo]</td>\n",
       "    </tr>\n",
       "    <tr>\n",
       "      <th>3</th>\n",
       "      <td>male</td>\n",
       "      <td>15</td>\n",
       "      <td>Student</td>\n",
       "      <td>Leo</td>\n",
       "      <td>testing!!!  testing!!!</td>\n",
       "      <td>testing testing</td>\n",
       "      <td>[male, 15, Student, Leo]</td>\n",
       "    </tr>\n",
       "    <tr>\n",
       "      <th>4</th>\n",
       "      <td>male</td>\n",
       "      <td>33</td>\n",
       "      <td>InvestmentBanking</td>\n",
       "      <td>Aquarius</td>\n",
       "      <td>Thanks to Yahoo!'s Toolbar I can ...</td>\n",
       "      <td>thanks yahoo toolbar capture url popupswhich m...</td>\n",
       "      <td>[male, 33, InvestmentBanking, Aquarius]</td>\n",
       "    </tr>\n",
       "  </tbody>\n",
       "</table>\n",
       "</div>"
      ],
      "text/plain": [
       "  gender  ...                                   labels\n",
       "0   male  ...                 [male, 15, Student, Leo]\n",
       "1   male  ...                 [male, 15, Student, Leo]\n",
       "2   male  ...                 [male, 15, Student, Leo]\n",
       "3   male  ...                 [male, 15, Student, Leo]\n",
       "4   male  ...  [male, 33, InvestmentBanking, Aquarius]\n",
       "\n",
       "[5 rows x 7 columns]"
      ]
     },
     "execution_count": 134,
     "metadata": {
      "tags": []
     },
     "output_type": "execute_result"
    }
   ],
   "source": [
    "blog_data['labels']=blog_data.apply(lambda col: [col['gender'],str(col['age']),col['topic'],col['sign']], axis=1)\n",
    "blog_data.head()"
   ]
  },
  {
   "cell_type": "code",
   "execution_count": 135,
   "metadata": {
    "colab": {
     "base_uri": "https://localhost:8080/",
     "height": 200
    },
    "id": "Hs_bWx8ICsDU",
    "outputId": "47a239b9-f8ce-47e7-a2b9-2c75e06dfb0b"
   },
   "outputs": [
    {
     "data": {
      "text/html": [
       "<div>\n",
       "<style scoped>\n",
       "    .dataframe tbody tr th:only-of-type {\n",
       "        vertical-align: middle;\n",
       "    }\n",
       "\n",
       "    .dataframe tbody tr th {\n",
       "        vertical-align: top;\n",
       "    }\n",
       "\n",
       "    .dataframe thead th {\n",
       "        text-align: right;\n",
       "    }\n",
       "</style>\n",
       "<table border=\"1\" class=\"dataframe\">\n",
       "  <thead>\n",
       "    <tr style=\"text-align: right;\">\n",
       "      <th></th>\n",
       "      <th>transformed_text</th>\n",
       "      <th>labels</th>\n",
       "    </tr>\n",
       "  </thead>\n",
       "  <tbody>\n",
       "    <tr>\n",
       "      <th>0</th>\n",
       "      <td>info found 100 page 45 mb pdf file wait untill...</td>\n",
       "      <td>[male, 15, Student, Leo]</td>\n",
       "    </tr>\n",
       "    <tr>\n",
       "      <th>1</th>\n",
       "      <td>team member drewes van der laag urllink mail r...</td>\n",
       "      <td>[male, 15, Student, Leo]</td>\n",
       "    </tr>\n",
       "    <tr>\n",
       "      <th>2</th>\n",
       "      <td>het kader van kernfusie op aarde maak je eigen...</td>\n",
       "      <td>[male, 15, Student, Leo]</td>\n",
       "    </tr>\n",
       "    <tr>\n",
       "      <th>3</th>\n",
       "      <td>testing testing</td>\n",
       "      <td>[male, 15, Student, Leo]</td>\n",
       "    </tr>\n",
       "    <tr>\n",
       "      <th>4</th>\n",
       "      <td>thanks yahoo toolbar capture url popupswhich m...</td>\n",
       "      <td>[male, 33, InvestmentBanking, Aquarius]</td>\n",
       "    </tr>\n",
       "  </tbody>\n",
       "</table>\n",
       "</div>"
      ],
      "text/plain": [
       "                                    transformed_text                                   labels\n",
       "0  info found 100 page 45 mb pdf file wait untill...                 [male, 15, Student, Leo]\n",
       "1  team member drewes van der laag urllink mail r...                 [male, 15, Student, Leo]\n",
       "2  het kader van kernfusie op aarde maak je eigen...                 [male, 15, Student, Leo]\n",
       "3                                    testing testing                 [male, 15, Student, Leo]\n",
       "4  thanks yahoo toolbar capture url popupswhich m...  [male, 33, InvestmentBanking, Aquarius]"
      ]
     },
     "execution_count": 135,
     "metadata": {
      "tags": []
     },
     "output_type": "execute_result"
    }
   ],
   "source": [
    "data=blog_data[['transformed_text','labels']]\n",
    "data.head()"
   ]
  },
  {
   "cell_type": "code",
   "execution_count": 170,
   "metadata": {
    "colab": {
     "base_uri": "https://localhost:8080/",
     "height": 411
    },
    "id": "W7EOw0XodEec",
    "outputId": "68203427-fe8f-4461-f782-b090459d1aff"
   },
   "outputs": [
    {
     "data": {
      "text/html": [
       "<div>\n",
       "<style scoped>\n",
       "    .dataframe tbody tr th:only-of-type {\n",
       "        vertical-align: middle;\n",
       "    }\n",
       "\n",
       "    .dataframe tbody tr th {\n",
       "        vertical-align: top;\n",
       "    }\n",
       "\n",
       "    .dataframe thead th {\n",
       "        text-align: right;\n",
       "    }\n",
       "</style>\n",
       "<table border=\"1\" class=\"dataframe\">\n",
       "  <thead>\n",
       "    <tr style=\"text-align: right;\">\n",
       "      <th></th>\n",
       "      <th>transformed_text</th>\n",
       "      <th>labels</th>\n",
       "    </tr>\n",
       "  </thead>\n",
       "  <tbody>\n",
       "    <tr>\n",
       "      <th>0</th>\n",
       "      <td>info found 100 page 45 mb pdf file wait untill...</td>\n",
       "      <td>[male, 15, Student, Leo]</td>\n",
       "    </tr>\n",
       "    <tr>\n",
       "      <th>1</th>\n",
       "      <td>team member drewes van der laag urllink mail r...</td>\n",
       "      <td>[male, 15, Student, Leo]</td>\n",
       "    </tr>\n",
       "    <tr>\n",
       "      <th>2</th>\n",
       "      <td>het kader van kernfusie op aarde maak je eigen...</td>\n",
       "      <td>[male, 15, Student, Leo]</td>\n",
       "    </tr>\n",
       "    <tr>\n",
       "      <th>3</th>\n",
       "      <td>testing testing</td>\n",
       "      <td>[male, 15, Student, Leo]</td>\n",
       "    </tr>\n",
       "    <tr>\n",
       "      <th>4</th>\n",
       "      <td>thanks yahoo toolbar capture url popupswhich m...</td>\n",
       "      <td>[male, 33, InvestmentBanking, Aquarius]</td>\n",
       "    </tr>\n",
       "    <tr>\n",
       "      <th>...</th>\n",
       "      <td>...</td>\n",
       "      <td>...</td>\n",
       "    </tr>\n",
       "    <tr>\n",
       "      <th>4995</th>\n",
       "      <td>another one dream last night except time least...</td>\n",
       "      <td>[female, 17, indUnk, Scorpio]</td>\n",
       "    </tr>\n",
       "    <tr>\n",
       "      <th>4996</th>\n",
       "      <td>mmm strawberry tea breakfast tomorrow think de...</td>\n",
       "      <td>[female, 17, indUnk, Scorpio]</td>\n",
       "    </tr>\n",
       "    <tr>\n",
       "      <th>4997</th>\n",
       "      <td>yay new layout yeah know need get complicated ...</td>\n",
       "      <td>[female, 17, indUnk, Scorpio]</td>\n",
       "    </tr>\n",
       "    <tr>\n",
       "      <th>4998</th>\n",
       "      <td>ok lied fed isnt playing friday night underdog...</td>\n",
       "      <td>[female, 17, indUnk, Scorpio]</td>\n",
       "    </tr>\n",
       "    <tr>\n",
       "      <th>4999</th>\n",
       "      <td>well today went church talked music director t...</td>\n",
       "      <td>[female, 17, indUnk, Scorpio]</td>\n",
       "    </tr>\n",
       "  </tbody>\n",
       "</table>\n",
       "<p>5000 rows × 2 columns</p>\n",
       "</div>"
      ],
      "text/plain": [
       "                                       transformed_text                                   labels\n",
       "0     info found 100 page 45 mb pdf file wait untill...                 [male, 15, Student, Leo]\n",
       "1     team member drewes van der laag urllink mail r...                 [male, 15, Student, Leo]\n",
       "2     het kader van kernfusie op aarde maak je eigen...                 [male, 15, Student, Leo]\n",
       "3                                       testing testing                 [male, 15, Student, Leo]\n",
       "4     thanks yahoo toolbar capture url popupswhich m...  [male, 33, InvestmentBanking, Aquarius]\n",
       "...                                                 ...                                      ...\n",
       "4995  another one dream last night except time least...            [female, 17, indUnk, Scorpio]\n",
       "4996  mmm strawberry tea breakfast tomorrow think de...            [female, 17, indUnk, Scorpio]\n",
       "4997  yay new layout yeah know need get complicated ...            [female, 17, indUnk, Scorpio]\n",
       "4998  ok lied fed isnt playing friday night underdog...            [female, 17, indUnk, Scorpio]\n",
       "4999  well today went church talked music director t...            [female, 17, indUnk, Scorpio]\n",
       "\n",
       "[5000 rows x 2 columns]"
      ]
     },
     "execution_count": 170,
     "metadata": {
      "tags": []
     },
     "output_type": "execute_result"
    }
   ],
   "source": [
    "data = data.iloc[:5000]\n",
    "data"
   ]
  },
  {
   "cell_type": "code",
   "execution_count": 239,
   "metadata": {
    "id": "esXN3jvjDA0l"
   },
   "outputs": [],
   "source": [
    "from sklearn.feature_extraction.text import TfidfVectorizer\n",
    "tfidf_vectorizer = TfidfVectorizer(ngram_range=(1,2))"
   ]
  },
  {
   "cell_type": "code",
   "execution_count": 240,
   "metadata": {
    "id": "dGRAl1F0DFpV"
   },
   "outputs": [],
   "source": [
    "transformed_text = tfidf_vectorizer.fit_transform(data['transformed_text'])"
   ]
  },
  {
   "cell_type": "code",
   "execution_count": 241,
   "metadata": {
    "colab": {
     "base_uri": "https://localhost:8080/"
    },
    "id": "Mb2BNrevDMHs",
    "outputId": "35c18678-ab39-4375-f030-f9fb81d053ae"
   },
   "outputs": [
    {
     "data": {
      "text/plain": [
       "<5000x336322 sparse matrix of type '<class 'numpy.float64'>'\n",
       "\twith 672374 stored elements in Compressed Sparse Row format>"
      ]
     },
     "execution_count": 241,
     "metadata": {
      "tags": []
     },
     "output_type": "execute_result"
    }
   ],
   "source": [
    "transformed_text"
   ]
  },
  {
   "cell_type": "code",
   "execution_count": 242,
   "metadata": {
    "colab": {
     "base_uri": "https://localhost:8080/"
    },
    "id": "SoJJjL76DoBV",
    "outputId": "63514e32-a2cb-4d0a-e94e-b35afc039cde"
   },
   "outputs": [
    {
     "data": {
      "text/plain": [
       "0                      [male, 15, Student, Leo]\n",
       "1                      [male, 15, Student, Leo]\n",
       "2                      [male, 15, Student, Leo]\n",
       "3                      [male, 15, Student, Leo]\n",
       "4       [male, 33, InvestmentBanking, Aquarius]\n",
       "                         ...                   \n",
       "4995              [female, 17, indUnk, Scorpio]\n",
       "4996              [female, 17, indUnk, Scorpio]\n",
       "4997              [female, 17, indUnk, Scorpio]\n",
       "4998              [female, 17, indUnk, Scorpio]\n",
       "4999              [female, 17, indUnk, Scorpio]\n",
       "Name: labels, Length: 5000, dtype: object"
      ]
     },
     "execution_count": 242,
     "metadata": {
      "tags": []
     },
     "output_type": "execute_result"
    }
   ],
   "source": [
    "y=data[\"labels\"]\n",
    "y"
   ]
  },
  {
   "cell_type": "code",
   "execution_count": 243,
   "metadata": {
    "colab": {
     "base_uri": "https://localhost:8080/"
    },
    "id": "-zpsgwHmEYNf",
    "outputId": "996dc0d3-4e36-47cd-e562-12f4ac47c1f7"
   },
   "outputs": [
    {
     "data": {
      "text/plain": [
       "{'14': 170,\n",
       " '15': 339,\n",
       " '16': 67,\n",
       " '17': 331,\n",
       " '23': 137,\n",
       " '24': 353,\n",
       " '25': 268,\n",
       " '26': 96,\n",
       " '27': 86,\n",
       " '33': 101,\n",
       " '34': 540,\n",
       " '35': 2307,\n",
       " '36': 60,\n",
       " '37': 19,\n",
       " '39': 79,\n",
       " '41': 14,\n",
       " '42': 9,\n",
       " '44': 3,\n",
       " '45': 14,\n",
       " '46': 7,\n",
       " 'Accounting': 2,\n",
       " 'Aquarius': 329,\n",
       " 'Aries': 2483,\n",
       " 'Arts': 31,\n",
       " 'Automotive': 14,\n",
       " 'Banking': 16,\n",
       " 'BusinessServices': 87,\n",
       " 'Cancer': 94,\n",
       " 'Capricorn': 84,\n",
       " 'Communications-Media': 61,\n",
       " 'Consulting': 16,\n",
       " 'Education': 118,\n",
       " 'Engineering': 119,\n",
       " 'Gemini': 86,\n",
       " 'Internet': 20,\n",
       " 'InvestmentBanking': 70,\n",
       " 'Law': 3,\n",
       " 'Leo': 190,\n",
       " 'Libra': 414,\n",
       " 'Museums-Libraries': 2,\n",
       " 'Non-Profit': 47,\n",
       " 'Pisces': 67,\n",
       " 'Religion': 4,\n",
       " 'Sagittarius': 704,\n",
       " 'Science': 33,\n",
       " 'Scorpio': 408,\n",
       " 'Sports-Recreation': 75,\n",
       " 'Student': 569,\n",
       " 'Taurus': 100,\n",
       " 'Technology': 2332,\n",
       " 'Virgo': 41,\n",
       " 'female': 1706,\n",
       " 'indUnk': 1381,\n",
       " 'male': 3294}"
      ]
     },
     "execution_count": 243,
     "metadata": {
      "tags": []
     },
     "output_type": "execute_result"
    }
   ],
   "source": [
    "label_counts=dict()\n",
    "\n",
    "for labels in data.labels.values:\n",
    "    for label in labels:\n",
    "        if label in label_counts:\n",
    "            label_counts[label]+=1\n",
    "        else:\n",
    "            label_counts[label]=1\n",
    "\n",
    "label_counts"
   ]
  },
  {
   "cell_type": "code",
   "execution_count": 244,
   "metadata": {
    "id": "n1rbMod6EQZ1"
   },
   "outputs": [],
   "source": [
    "from sklearn.preprocessing import MultiLabelBinarizer\n",
    "binarizer=MultiLabelBinarizer(classes=sorted(label_counts.keys()))"
   ]
  },
  {
   "cell_type": "code",
   "execution_count": 245,
   "metadata": {
    "colab": {
     "base_uri": "https://localhost:8080/"
    },
    "id": "irkBNNkaGlMM",
    "outputId": "990029a9-6f9e-4f3a-99f9-c1b6cd8a379d"
   },
   "outputs": [
    {
     "data": {
      "text/plain": [
       "MultiLabelBinarizer(classes=['14', '15', '16', '17', '23', '24', '25', '26',\n",
       "                             '27', '33', '34', '35', '36', '37', '39', '41',\n",
       "                             '42', '44', '45', '46', 'Accounting', 'Aquarius',\n",
       "                             'Aries', 'Arts', 'Automotive', 'Banking',\n",
       "                             'BusinessServices', 'Cancer', 'Capricorn',\n",
       "                             'Communications-Media', ...],\n",
       "                    sparse_output=False)"
      ]
     },
     "execution_count": 245,
     "metadata": {
      "tags": []
     },
     "output_type": "execute_result"
    }
   ],
   "source": [
    "binarizer"
   ]
  },
  {
   "cell_type": "code",
   "execution_count": 246,
   "metadata": {
    "colab": {
     "base_uri": "https://localhost:8080/"
    },
    "id": "4DXbTSJEGxVT",
    "outputId": "dbce312d-7ad2-4090-93b3-2b81ff01b6f2"
   },
   "outputs": [
    {
     "data": {
      "text/plain": [
       "array([[0, 1, 0, ..., 0, 0, 1],\n",
       "       [0, 1, 0, ..., 0, 0, 1],\n",
       "       [0, 1, 0, ..., 0, 0, 1],\n",
       "       ...,\n",
       "       [0, 0, 0, ..., 1, 1, 0],\n",
       "       [0, 0, 0, ..., 1, 1, 0],\n",
       "       [0, 0, 0, ..., 1, 1, 0]])"
      ]
     },
     "execution_count": 246,
     "metadata": {
      "tags": []
     },
     "output_type": "execute_result"
    }
   ],
   "source": [
    "Y=binarizer.fit_transform(data.labels)\n",
    "Y"
   ]
  },
  {
   "cell_type": "code",
   "execution_count": 247,
   "metadata": {
    "id": "bBcNHAJaG3Pz"
   },
   "outputs": [],
   "source": [
    "from sklearn.model_selection import train_test_split\n",
    "Xtrain,Xtest,Ytrain,Ytest=train_test_split(transformed_text,Y,test_size=0.2)"
   ]
  },
  {
   "cell_type": "code",
   "execution_count": 248,
   "metadata": {
    "colab": {
     "base_uri": "https://localhost:8080/"
    },
    "id": "y_pxDiE_HBIL",
    "outputId": "a333c297-1536-467f-b39d-bb25ab173696"
   },
   "outputs": [
    {
     "data": {
      "text/plain": [
       "(4000, 336322)"
      ]
     },
     "execution_count": 248,
     "metadata": {
      "tags": []
     },
     "output_type": "execute_result"
    }
   ],
   "source": [
    "Xtrain.shape"
   ]
  },
  {
   "cell_type": "code",
   "execution_count": 249,
   "metadata": {
    "colab": {
     "base_uri": "https://localhost:8080/"
    },
    "id": "8W7rMWm7HEt8",
    "outputId": "1f29d3a9-a704-49ad-d50e-6b858f2177ae"
   },
   "outputs": [
    {
     "data": {
      "text/plain": [
       "(4000, 54)"
      ]
     },
     "execution_count": 249,
     "metadata": {
      "tags": []
     },
     "output_type": "execute_result"
    }
   ],
   "source": [
    "Ytrain.shape"
   ]
  },
  {
   "cell_type": "code",
   "execution_count": 250,
   "metadata": {
    "id": "ofTgTfstHLk0"
   },
   "outputs": [],
   "source": [
    "from sklearn.multiclass import OneVsRestClassifier\n",
    "from sklearn.linear_model import LogisticRegression"
   ]
  },
  {
   "cell_type": "code",
   "execution_count": 251,
   "metadata": {
    "id": "2-v3nvtCHNyr"
   },
   "outputs": [],
   "source": [
    "model=LogisticRegression(solver='lbfgs')"
   ]
  },
  {
   "cell_type": "code",
   "execution_count": 252,
   "metadata": {
    "id": "LOQg1ZQrHRLV"
   },
   "outputs": [],
   "source": [
    "model=OneVsRestClassifier(model)"
   ]
  },
  {
   "cell_type": "code",
   "execution_count": 253,
   "metadata": {
    "colab": {
     "base_uri": "https://localhost:8080/"
    },
    "id": "NAZzD7DxHUuN",
    "outputId": "cd42e2e6-e24e-4538-8618-bb8c2b97af5c"
   },
   "outputs": [
    {
     "data": {
      "text/plain": [
       "OneVsRestClassifier(estimator=LogisticRegression(C=1.0, class_weight=None,\n",
       "                                                 dual=False, fit_intercept=True,\n",
       "                                                 intercept_scaling=1,\n",
       "                                                 l1_ratio=None, max_iter=100,\n",
       "                                                 multi_class='auto',\n",
       "                                                 n_jobs=None, penalty='l2',\n",
       "                                                 random_state=None,\n",
       "                                                 solver='lbfgs', tol=0.0001,\n",
       "                                                 verbose=0, warm_start=False),\n",
       "                    n_jobs=None)"
      ]
     },
     "execution_count": 253,
     "metadata": {
      "tags": []
     },
     "output_type": "execute_result"
    }
   ],
   "source": [
    "model.fit(Xtrain,Ytrain)"
   ]
  },
  {
   "cell_type": "code",
   "execution_count": 254,
   "metadata": {
    "id": "4bgaMGBGHcWa"
   },
   "outputs": [],
   "source": [
    "Ypred=model.predict(Xtest)"
   ]
  },
  {
   "cell_type": "code",
   "execution_count": 255,
   "metadata": {
    "colab": {
     "base_uri": "https://localhost:8080/"
    },
    "id": "vvrIEV_AWcte",
    "outputId": "97ea6e16-e292-4666-df47-08eaab7df289"
   },
   "outputs": [
    {
     "data": {
      "text/plain": [
       "array([[0, 0, 0, ..., 0, 0, 1],\n",
       "       [0, 0, 0, ..., 0, 0, 1],\n",
       "       [0, 0, 0, ..., 0, 0, 1],\n",
       "       ...,\n",
       "       [0, 0, 0, ..., 0, 0, 1],\n",
       "       [0, 0, 0, ..., 0, 0, 1],\n",
       "       [0, 0, 0, ..., 0, 0, 1]])"
      ]
     },
     "execution_count": 255,
     "metadata": {
      "tags": []
     },
     "output_type": "execute_result"
    }
   ],
   "source": [
    "Ypred"
   ]
  },
  {
   "cell_type": "code",
   "execution_count": 256,
   "metadata": {
    "colab": {
     "base_uri": "https://localhost:8080/"
    },
    "id": "Qba87vZEXCrF",
    "outputId": "63dc0c05-6a12-4a96-e5b7-639beec379ad"
   },
   "outputs": [
    {
     "data": {
      "text/plain": [
       "array([0, 0, 0, 0, 0, 0, 0, 0, 0, 0, 0, 0, 0, 0, 0, 0, 0, 0, 0, 0, 0, 0,\n",
       "       0, 0, 0, 0, 0, 0, 0, 0, 0, 0, 0, 0, 0, 0, 0, 0, 0, 0, 0, 0, 0, 0,\n",
       "       0, 0, 0, 0, 0, 0, 0, 0, 0, 1])"
      ]
     },
     "execution_count": 256,
     "metadata": {
      "tags": []
     },
     "output_type": "execute_result"
    }
   ],
   "source": [
    "Ypred[0]"
   ]
  },
  {
   "cell_type": "code",
   "execution_count": 257,
   "metadata": {
    "colab": {
     "base_uri": "https://localhost:8080/"
    },
    "id": "HOQJwHCBXE2b",
    "outputId": "0525c027-440c-471d-d217-458332fea3aa"
   },
   "outputs": [
    {
     "data": {
      "text/plain": [
       "array([0, 0, 0, 0, 1, 0, 0, 0, 0, 0, 0, 0, 0, 0, 0, 0, 0, 0, 0, 0, 0, 0,\n",
       "       1, 0, 0, 0, 0, 0, 0, 0, 0, 0, 0, 0, 0, 0, 0, 0, 0, 0, 0, 0, 0, 0,\n",
       "       0, 0, 0, 0, 0, 0, 0, 1, 1, 0])"
      ]
     },
     "execution_count": 257,
     "metadata": {
      "tags": []
     },
     "output_type": "execute_result"
    }
   ],
   "source": [
    "Ytest[0]"
   ]
  },
  {
   "cell_type": "code",
   "execution_count": 258,
   "metadata": {
    "id": "B4eOlsgHWy2x"
   },
   "outputs": [],
   "source": [
    "from sklearn.metrics import accuracy_score,f1_score,average_precision_score,recall_score,hamming_loss,confusion_matrix,classification_report\n",
    "\n",
    "def print_evaluation_scores(Ytest, Ypred):\n",
    "    print('Accuracy score: ', accuracy_score(Ytest, Ypred))\n",
    "    print('F1 score: ', f1_score(Ytest, Ypred, average='micro'))\n",
    "    print('Average precision score: ', average_precision_score(Ytest, Ypred, average='micro'))\n",
    "    print('Average recall score: ', recall_score(Ytest, Ypred, average='micro'))\n",
    "    print('Hamming Loss: ', hamming_loss(Ytest, Ypred))\n",
    "    "
   ]
  },
  {
   "cell_type": "code",
   "execution_count": 259,
   "metadata": {
    "colab": {
     "base_uri": "https://localhost:8080/"
    },
    "id": "pgeuvuWEW3Cf",
    "outputId": "1824ccc7-51f5-4594-fc68-4be75d6d8de9"
   },
   "outputs": [
    {
     "name": "stdout",
     "output_type": "stream",
     "text": [
      "Accuracy score:  0.398\n",
      "F1 score:  0.630921553693831\n",
      "Average precision score:  0.45375740740740744\n",
      "Average recall score:  0.51775\n",
      "Hamming Loss:  0.04487037037037037\n"
     ]
    }
   ],
   "source": [
    "print_evaluation_scores(Ytest, Ypred)"
   ]
  },
  {
   "cell_type": "code",
   "execution_count": 260,
   "metadata": {
    "colab": {
     "base_uri": "https://localhost:8080/"
    },
    "id": "fJrSVAUExj2b",
    "outputId": "4eda9d91-6d6f-48b7-f7be-5b9bd121125a"
   },
   "outputs": [
    {
     "name": "stdout",
     "output_type": "stream",
     "text": [
      "              precision    recall  f1-score   support\n",
      "\n",
      "           0       0.00      0.00      0.00        35\n",
      "           1       0.00      0.00      0.00        60\n",
      "           2       0.00      0.00      0.00        18\n",
      "           3       0.00      0.00      0.00        73\n",
      "           4       0.00      0.00      0.00        32\n",
      "           5       0.00      0.00      0.00        60\n",
      "           6       0.00      0.00      0.00        57\n",
      "           7       0.00      0.00      0.00        20\n",
      "           8       0.00      0.00      0.00        18\n",
      "           9       0.00      0.00      0.00        21\n",
      "          10       0.88      0.06      0.12       110\n",
      "          11       0.82      0.85      0.83       463\n",
      "          12       0.00      0.00      0.00         9\n",
      "          13       0.00      0.00      0.00         3\n",
      "          14       0.00      0.00      0.00        14\n",
      "          15       0.00      0.00      0.00         2\n",
      "          16       0.00      0.00      0.00         1\n",
      "          17       0.00      0.00      0.00         0\n",
      "          18       0.00      0.00      0.00         3\n",
      "          19       0.00      0.00      0.00         1\n",
      "          20       0.00      0.00      0.00         1\n",
      "          21       0.00      0.00      0.00        56\n",
      "          22       0.80      0.84      0.82       508\n",
      "          23       0.00      0.00      0.00         6\n",
      "          24       0.00      0.00      0.00         1\n",
      "          25       0.00      0.00      0.00         4\n",
      "          26       0.00      0.00      0.00        21\n",
      "          27       0.00      0.00      0.00        18\n",
      "          28       0.00      0.00      0.00        17\n",
      "          29       0.00      0.00      0.00         9\n",
      "          30       0.00      0.00      0.00         2\n",
      "          31       0.00      0.00      0.00        25\n",
      "          32       0.00      0.00      0.00        20\n",
      "          33       0.00      0.00      0.00        13\n",
      "          34       0.00      0.00      0.00         4\n",
      "          35       0.00      0.00      0.00        15\n",
      "          36       0.00      0.00      0.00         0\n",
      "          37       0.00      0.00      0.00        42\n",
      "          38       0.00      0.00      0.00        75\n",
      "          39       0.00      0.00      0.00         0\n",
      "          40       0.00      0.00      0.00         9\n",
      "          41       0.00      0.00      0.00         9\n",
      "          42       0.00      0.00      0.00         2\n",
      "          43       0.88      0.04      0.08       159\n",
      "          44       0.00      0.00      0.00         5\n",
      "          45       0.00      0.00      0.00        73\n",
      "          46       0.00      0.00      0.00        13\n",
      "          47       0.00      0.00      0.00       115\n",
      "          48       0.00      0.00      0.00        23\n",
      "          49       0.83      0.85      0.84       472\n",
      "          50       0.00      0.00      0.00         7\n",
      "          51       0.88      0.45      0.59       335\n",
      "          52       0.85      0.15      0.25       276\n",
      "          53       0.78      0.97      0.86       665\n",
      "\n",
      "   micro avg       0.81      0.52      0.63      4000\n",
      "   macro avg       0.12      0.08      0.08      4000\n",
      "weighted avg       0.61      0.52      0.52      4000\n",
      " samples avg       0.76      0.52      0.57      4000\n",
      "\n"
     ]
    }
   ],
   "source": [
    "print(classification_report(Ytest, Ypred))"
   ]
  },
  {
   "cell_type": "code",
   "execution_count": 261,
   "metadata": {
    "colab": {
     "base_uri": "https://localhost:8080/"
    },
    "id": "NBfHrp9Iz7sJ",
    "outputId": "541578d9-93ac-46d3-f838-f69d75daedd8"
   },
   "outputs": [
    {
     "data": {
      "text/plain": [
       "array([ 0,  1,  2,  3,  4,  5,  6,  7,  8,  9, 10, 11, 12, 13, 14, 15, 16,\n",
       "       17, 18, 19, 20, 21, 22, 23, 24, 25, 26, 27, 28, 29, 30, 31, 32, 33,\n",
       "       34, 35, 36, 37, 38, 39, 40, 41, 42, 43, 44, 45, 46, 47, 48, 49, 50,\n",
       "       51, 52, 53])"
      ]
     },
     "execution_count": 261,
     "metadata": {
      "tags": []
     },
     "output_type": "execute_result"
    }
   ],
   "source": [
    "model.classes_"
   ]
  },
  {
   "cell_type": "code",
   "execution_count": 262,
   "metadata": {
    "id": "8JPkYUtV0UMq"
   },
   "outputs": [],
   "source": [
    "def getPredictedClasses(x):\n",
    "  label = []\n",
    "  i = 0\n",
    "  for val in Ypred[x]:\n",
    "    #print(val)\n",
    "    if val == 1:\n",
    "      label.append(binarizer.classes_[i])\n",
    "      #print(model.classes_[i])\n",
    "    i = i + 1\n",
    "  return label"
   ]
  },
  {
   "cell_type": "code",
   "execution_count": 263,
   "metadata": {
    "id": "k7PchE3h71jo"
   },
   "outputs": [],
   "source": [
    "def getActualClasses(x):\n",
    "  label = []\n",
    "  i = 0\n",
    "  for val in Ytest[x]:\n",
    "    #print(val)\n",
    "    if val == 1:\n",
    "      label.append(binarizer.classes_[i])\n",
    "      #print(model.classes_[i])\n",
    "    i = i + 1\n",
    "  return label"
   ]
  },
  {
   "cell_type": "code",
   "execution_count": 264,
   "metadata": {
    "colab": {
     "base_uri": "https://localhost:8080/"
    },
    "id": "JgytIqUJ0X6_",
    "outputId": "6e6a7ff0-0f2b-4c15-80ca-7310c6f3d8e6"
   },
   "outputs": [
    {
     "data": {
      "text/plain": [
       "['male']"
      ]
     },
     "execution_count": 264,
     "metadata": {
      "tags": []
     },
     "output_type": "execute_result"
    }
   ],
   "source": [
    "getPredictedClasses(0)"
   ]
  },
  {
   "cell_type": "code",
   "execution_count": 265,
   "metadata": {
    "colab": {
     "base_uri": "https://localhost:8080/"
    },
    "id": "KgmJA1uEfg3v",
    "outputId": "4f2caf29-ee72-4cc4-fb01-bb4e0ad243cd"
   },
   "outputs": [
    {
     "name": "stdout",
     "output_type": "stream",
     "text": [
      "Actual:: ['16', 'Libra', 'Student', 'female']\n",
      "Predicted:: ['male'] \n",
      "\n",
      "Actual:: ['35', 'Aries', 'Technology', 'male']\n",
      "Predicted:: ['35', 'Aries', 'Technology', 'male'] \n",
      "\n",
      "Actual:: ['35', 'Aries', 'Technology', 'male']\n",
      "Predicted:: ['35', 'Aries', 'Technology', 'male'] \n",
      "\n",
      "Actual:: ['35', 'Aries', 'Technology', 'male']\n",
      "Predicted:: ['35', 'Aries', 'Technology', 'male'] \n",
      "\n",
      "Actual:: ['25', 'Taurus', 'indUnk', 'male']\n",
      "Predicted:: ['female', 'indUnk'] \n",
      "\n",
      "Actual:: ['35', 'Aries', 'Technology', 'male']\n",
      "Predicted:: ['35', 'Aries', 'Technology', 'male'] \n",
      "\n",
      "Actual:: ['35', 'Aries', 'Technology', 'male']\n",
      "Predicted:: ['35', 'Aries', 'Technology', 'male'] \n",
      "\n",
      "Actual:: ['26', 'Gemini', 'indUnk', 'male']\n",
      "Predicted:: ['Aries', 'Technology', 'male'] \n",
      "\n",
      "Actual:: ['35', 'Aries', 'Technology', 'male']\n",
      "Predicted:: ['35', 'Aries', 'Technology', 'male'] \n",
      "\n",
      "Actual:: ['35', 'Aries', 'Technology', 'male']\n",
      "Predicted:: ['35', 'Aries', 'Technology', 'male'] \n",
      "\n",
      "Actual:: ['35', 'Aries', 'Technology', 'male']\n",
      "Predicted:: ['35', 'Aries', 'Technology', 'male'] \n",
      "\n",
      "Actual:: ['15', 'Aquarius', 'Student', 'female']\n",
      "Predicted:: ['male'] \n",
      "\n",
      "Actual:: ['25', 'BusinessServices', 'Sagittarius', 'male']\n",
      "Predicted:: ['male'] \n",
      "\n",
      "Actual:: ['35', 'Aries', 'Technology', 'male']\n",
      "Predicted:: ['35', 'Aries', 'Technology', 'male'] \n",
      "\n",
      "Actual:: ['35', 'Aries', 'Technology', 'male']\n",
      "Predicted:: ['35', 'Aries', 'Technology', 'male'] \n",
      "\n"
     ]
    }
   ],
   "source": [
    "for i in range(20,35):\n",
    "  print(\"Actual::\",getActualClasses(i))\n",
    "  print(\"Predicted::\",getPredictedClasses(i),\"\\n\")"
   ]
  },
  {
   "cell_type": "code",
   "execution_count": 266,
   "metadata": {
    "id": "lFsBo6GM88CD"
   },
   "outputs": [],
   "source": [
    "from xgboost import XGBClassifier"
   ]
  },
  {
   "cell_type": "code",
   "execution_count": 267,
   "metadata": {
    "id": "_be43rh1-BH7"
   },
   "outputs": [],
   "source": [
    "xgbmodel=XGBClassifier()"
   ]
  },
  {
   "cell_type": "code",
   "execution_count": 270,
   "metadata": {
    "id": "gR_r6LAl99hq"
   },
   "outputs": [],
   "source": [
    "xgbmodel=OneVsRestClassifier(xgbmodel)"
   ]
  },
  {
   "cell_type": "code",
   "execution_count": 271,
   "metadata": {
    "colab": {
     "base_uri": "https://localhost:8080/"
    },
    "id": "KhZSFzPp-HTb",
    "outputId": "4f58c672-8184-4f00-9383-dc5ee8357d6e"
   },
   "outputs": [
    {
     "data": {
      "text/plain": [
       "OneVsRestClassifier(estimator=XGBClassifier(base_score=0.5, booster='gbtree',\n",
       "                                            colsample_bylevel=1,\n",
       "                                            colsample_bynode=1,\n",
       "                                            colsample_bytree=1, gamma=0,\n",
       "                                            learning_rate=0.1, max_delta_step=0,\n",
       "                                            max_depth=3, min_child_weight=1,\n",
       "                                            missing=None, n_estimators=100,\n",
       "                                            n_jobs=1, nthread=None,\n",
       "                                            objective='binary:logistic',\n",
       "                                            random_state=0, reg_alpha=0,\n",
       "                                            reg_lambda=1, scale_pos_weight=1,\n",
       "                                            seed=None, silent=None, subsample=1,\n",
       "                                            verbosity=1),\n",
       "                    n_jobs=None)"
      ]
     },
     "execution_count": 271,
     "metadata": {
      "tags": []
     },
     "output_type": "execute_result"
    }
   ],
   "source": [
    "xgbmodel.fit(Xtrain,Ytrain)"
   ]
  },
  {
   "cell_type": "code",
   "execution_count": 275,
   "metadata": {
    "id": "dSA6GrOaiIPW"
   },
   "outputs": [],
   "source": [
    "Ypred=xgbmodel.predict(Xtest)"
   ]
  },
  {
   "cell_type": "code",
   "execution_count": 276,
   "metadata": {
    "colab": {
     "base_uri": "https://localhost:8080/"
    },
    "id": "UYbw5Ei2iMhJ",
    "outputId": "bfdcfe24-d84d-4195-b576-6ab9d52680ec"
   },
   "outputs": [
    {
     "name": "stdout",
     "output_type": "stream",
     "text": [
      "Accuracy score:  0.52\n",
      "F1 score:  0.7185258123505416\n",
      "Average precision score:  0.5512965941174368\n",
      "Average recall score:  0.6385\n",
      "Hamming Loss:  0.03705555555555556\n"
     ]
    }
   ],
   "source": [
    "print_evaluation_scores(Ytest, Ypred)"
   ]
  },
  {
   "cell_type": "code",
   "execution_count": 277,
   "metadata": {
    "colab": {
     "base_uri": "https://localhost:8080/"
    },
    "id": "ntxPG0tbiQ8x",
    "outputId": "0709bfed-0789-4945-fa29-94ffde2de3ec"
   },
   "outputs": [
    {
     "name": "stdout",
     "output_type": "stream",
     "text": [
      "Actual:: ['16', 'Libra', 'Student', 'female']\n",
      "Predicted:: ['male'] \n",
      "\n",
      "Actual:: ['35', 'Aries', 'Technology', 'male']\n",
      "Predicted:: ['35', 'Aries', 'Technology', 'male'] \n",
      "\n",
      "Actual:: ['35', 'Aries', 'Technology', 'male']\n",
      "Predicted:: ['male'] \n",
      "\n",
      "Actual:: ['35', 'Aries', 'Technology', 'male']\n",
      "Predicted:: ['35', 'Aries', 'Technology', 'male'] \n",
      "\n",
      "Actual:: ['25', 'Taurus', 'indUnk', 'male']\n",
      "Predicted:: ['Taurus', 'male'] \n",
      "\n",
      "Actual:: ['35', 'Aries', 'Technology', 'male']\n",
      "Predicted:: ['35', 'Aries', 'Technology', 'male'] \n",
      "\n",
      "Actual:: ['35', 'Aries', 'Technology', 'male']\n",
      "Predicted:: ['35', 'Aries', 'Technology', 'male'] \n",
      "\n",
      "Actual:: ['26', 'Gemini', 'indUnk', 'male']\n",
      "Predicted:: ['35', 'Aries', 'Technology', 'male'] \n",
      "\n",
      "Actual:: ['35', 'Aries', 'Technology', 'male']\n",
      "Predicted:: ['35', 'Aries', 'Technology', 'male'] \n",
      "\n",
      "Actual:: ['35', 'Aries', 'Technology', 'male']\n",
      "Predicted:: ['35', 'Aries', 'Technology', 'male'] \n",
      "\n",
      "Actual:: ['35', 'Aries', 'Technology', 'male']\n",
      "Predicted:: ['35', 'Aries', 'Technology', 'male'] \n",
      "\n",
      "Actual:: ['15', 'Aquarius', 'Student', 'female']\n",
      "Predicted:: ['male'] \n",
      "\n",
      "Actual:: ['25', 'BusinessServices', 'Sagittarius', 'male']\n",
      "Predicted:: ['male'] \n",
      "\n",
      "Actual:: ['35', 'Aries', 'Technology', 'male']\n",
      "Predicted:: ['35', 'Aries', 'Technology', 'male'] \n",
      "\n",
      "Actual:: ['35', 'Aries', 'Technology', 'male']\n",
      "Predicted:: ['35', 'Aries', 'Technology', 'male'] \n",
      "\n"
     ]
    }
   ],
   "source": [
    "for i in range(20,35):\n",
    "  print(\"Actual::\",getActualClasses(i))\n",
    "  print(\"Predicted::\",getPredictedClasses(i),\"\\n\")"
   ]
  }
 ],
 "metadata": {
  "colab": {
   "collapsed_sections": [],
   "name": "Statistical NLP Assignment.ipynb",
   "provenance": []
  },
  "kernelspec": {
   "display_name": "Python 3",
   "language": "python",
   "name": "python3"
  },
  "language_info": {
   "codemirror_mode": {
    "name": "ipython",
    "version": 3
   },
   "file_extension": ".py",
   "mimetype": "text/x-python",
   "name": "python",
   "nbconvert_exporter": "python",
   "pygments_lexer": "ipython3",
   "version": "3.8.3"
  }
 },
 "nbformat": 4,
 "nbformat_minor": 1
}

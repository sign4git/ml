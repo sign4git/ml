{
 "cells": [
  {
   "cell_type": "markdown",
   "metadata": {
    "id": "Hbln1O8gBEih"
   },
   "source": [
    "![alt text](https://drive.google.com/uc?export=view&id=1UXScsVx_Wni_JuDdB8LeTnM6jsPfIwkW)\n",
    "\n",
    "Proprietary content. © Great Learning. All Rights Reserved. Unauthorized use or distribution prohibited."
   ]
  },
  {
   "cell_type": "markdown",
   "metadata": {
    "id": "Q91KqmCRu64D"
   },
   "source": [
    "# Mobile Phone Detection in an Image\n",
    "\n",
    "## Domain\n",
    "Mobile Phones, Computer Vision\n",
    "\n",
    "## Business Context\n",
    "The ability to process visual information using machine learning algorithms can be very useful. Electronics companies can use it to identify the presence of a mobile in an image (location), mobile brand just by looking at the image, and minor damages if there are any. The computer vision field has multiple applications and based on the available data it can be used to meet business objectives.\n",
    "Here, we will use a simple convolutional neural network to classify images with and without mobile phones. \n",
    " \n",
    "## Objective\n",
    "\n",
    "Given the images and label whether an image has a mobile phone or not, can you train a model that allows you to map and find the presence of mobile phones within the selected images.\n"
   ]
  },
  {
   "cell_type": "markdown",
   "metadata": {
    "id": "b0Qw0vEHBUvm"
   },
   "source": [
    "### Package version\n",
    "- tensorflow==2.3.0\n",
    "- matplotlib==3.2.1\n",
    "- h5py==2.10.0\n",
    "- google==2.0.3"
   ]
  },
  {
   "cell_type": "markdown",
   "metadata": {
    "id": "yapdCjMwFl02"
   },
   "source": [
    "## Table of Content\n",
    "\n",
    "1. Import Libraries\n",
    "\n",
    "2. Setting options\n",
    "\n",
    "3. Data loading and Data Analysis \n",
    "\n",
    "4. Visualize and Standardize the data\n",
    "\n",
    "5. Model Building\n",
    "\n",
    "6. Evaluate Model\n",
    "\n",
    "7. Conclusion and Interpretation"
   ]
  },
  {
   "cell_type": "markdown",
   "metadata": {
    "id": "mSnjdKmpG82x"
   },
   "source": [
    "## 1. Import Libraries"
   ]
  },
  {
   "cell_type": "markdown",
   "metadata": {
    "id": "8z2Z7-OAs8QG"
   },
   "source": [
    "Let us start by mounting the drive"
   ]
  },
  {
   "cell_type": "code",
   "execution_count": 2,
   "metadata": {
    "colab": {
     "base_uri": "https://localhost:8080/"
    },
    "id": "REFUdThmpz_d",
    "outputId": "9ad1edc4-6b3a-4b99-8031-abe333326f69"
   },
   "outputs": [
    {
     "name": "stdout",
     "output_type": "stream",
     "text": [
      "Mounted at /content/drive\n"
     ]
    }
   ],
   "source": [
    "from google.colab import drive\n",
    "drive.mount('/content/drive')"
   ]
  },
  {
   "cell_type": "markdown",
   "metadata": {
    "id": "ucnevGLoyKf_"
   },
   "source": [
    "Let us check for the version of installed tensorflow."
   ]
  },
  {
   "cell_type": "code",
   "execution_count": 3,
   "metadata": {
    "colab": {
     "base_uri": "https://localhost:8080/"
    },
    "id": "W5as47YxyJVk",
    "outputId": "66291049-67bd-4b11-c95c-a48889f192e5"
   },
   "outputs": [
    {
     "name": "stdout",
     "output_type": "stream",
     "text": [
      "2.5.0\n"
     ]
    }
   ],
   "source": [
    "# used to supress display of warnings\n",
    "import warnings\n",
    "\n",
    "# os is used to provide a way of using operating system dependent functionality\n",
    "# We use it for setting working folder\n",
    "import os\n",
    "\n",
    "# Pandas is used for data manipulation and analysis\n",
    "import pandas as pd \n",
    "\n",
    "# Numpy is used for large, multi-dimensional arrays and matrices, along with mathematical operators on these arrays\n",
    "import numpy as np\n",
    "\n",
    "# Matplotlib is a data visualization library for 2D plots of arrays, built on NumPy arrays \n",
    "# and designed to work with the broader SciPy stack\n",
    "import matplotlib.pyplot as plt\n",
    "%matplotlib inline\n",
    "from matplotlib import pyplot\n",
    "\n",
    "# Seaborn is based on matplotlib, which aids in drawing attractive and informative statistical graphics.\n",
    "import seaborn as sns\n",
    "import tensorflow \n",
    "print(tensorflow.__version__)\n",
    "\n",
    "\n",
    "from tensorflow.keras.models import Sequential\n",
    "from tensorflow.keras.layers import Dense, Dropout, Activation, Flatten\n",
    "from tensorflow.keras.layers import Conv2D, MaxPooling2D\n",
    "from tensorflow.keras.optimizers import SGD\n",
    "from PIL import Image\n",
    "from PIL import ImageMath"
   ]
  },
  {
   "cell_type": "markdown",
   "metadata": {
    "id": "MRj03V7AHAYe"
   },
   "source": [
    "## 2. Setting Options"
   ]
  },
  {
   "cell_type": "code",
   "execution_count": 4,
   "metadata": {
    "id": "7I9dogoKHn6w"
   },
   "outputs": [],
   "source": [
    "# suppress display of warnings\n",
    "warnings.filterwarnings('ignore')\n",
    "\n",
    "# display all dataframe columns\n",
    "pd.options.display.max_columns = None\n",
    "\n",
    "# display all dataframe rows\n",
    "pd.options.display.max_rows = None"
   ]
  },
  {
   "cell_type": "markdown",
   "metadata": {
    "id": "ufAqcNVCHIut"
   },
   "source": [
    "## 3. Data loading and Data Analysis "
   ]
  },
  {
   "cell_type": "markdown",
   "metadata": {
    "id": "LDYN63hu2s97"
   },
   "source": [
    "### Read images and save the pixel information to an array. Also, save their corresponding label to a list ( YES-Mobile - 1, NO-Mobile - 0). Resize the images to shape (128, 128, 3)."
   ]
  },
  {
   "cell_type": "code",
   "execution_count": 5,
   "metadata": {
    "id": "zWPOVY3gDOQo"
   },
   "outputs": [],
   "source": [
    "import cv2\n",
    "from google.colab.patches import cv2_imshow"
   ]
  },
  {
   "cell_type": "code",
   "execution_count": 6,
   "metadata": {
    "id": "XRqmoVQCapyB"
   },
   "outputs": [],
   "source": [
    "yes_path=\"/content/drive/MyDrive/mobile-images/mobile-images/yes-mobile\"\n",
    "no_path=\"/content/drive/MyDrive/mobile-images/mobile-images/no-mobile\""
   ]
  },
  {
   "cell_type": "code",
   "execution_count": 7,
   "metadata": {
    "id": "2tAwUbWrbE2C"
   },
   "outputs": [],
   "source": [
    "yes_list=os.listdir(yes_path)\n",
    "no_list=os.listdir(no_path)"
   ]
  },
  {
   "cell_type": "code",
   "execution_count": 8,
   "metadata": {
    "colab": {
     "base_uri": "https://localhost:8080/",
     "height": 107
    },
    "id": "8TDApCoVa3oO",
    "outputId": "90ce2eca-7a2d-41e3-add3-23e771d1063b"
   },
   "outputs": [
    {
     "data": {
      "image/png": "[encoded data removed]",
      "text/plain": [
       "<PIL.Image.Image image mode=RGB size=90x90 at 0x7F665692B490>"
      ]
     },
     "metadata": {
      "tags": []
     },
     "output_type": "display_data"
    }
   ],
   "source": [
    "yes_image=cv2.imread(os.path.join(yes_path,yes_list[5]))\n",
    "cv2_imshow(yes_image)"
   ]
  },
  {
   "cell_type": "code",
   "execution_count": 9,
   "metadata": {
    "colab": {
     "base_uri": "https://localhost:8080/",
     "height": 107
    },
    "id": "GtT14zHJcUve",
    "outputId": "8355047b-377d-4fce-f7a8-6fedae6362fe"
   },
   "outputs": [
    {
     "data": {
      "image/png": "[encoded data removed]",
      "text/plain": [
       "<PIL.Image.Image image mode=RGB size=90x90 at 0x7F6656932B10>"
      ]
     },
     "metadata": {
      "tags": []
     },
     "output_type": "display_data"
    }
   ],
   "source": [
    "no_image=cv2.imread(os.path.join(no_path,no_list[7]))\n",
    "cv2_imshow(no_image)"
   ]
  },
  {
   "cell_type": "code",
   "execution_count": 10,
   "metadata": {
    "colab": {
     "base_uri": "https://localhost:8080/"
    },
    "id": "WAFt1B_zitfI",
    "outputId": "93d84e2d-7abd-4c36-9d23-665b3390a796"
   },
   "outputs": [
    {
     "data": {
      "text/plain": [
       "(90, 90, 3)"
      ]
     },
     "execution_count": 10,
     "metadata": {
      "tags": []
     },
     "output_type": "execute_result"
    }
   ],
   "source": [
    "no_image.shape"
   ]
  },
  {
   "cell_type": "code",
   "execution_count": 11,
   "metadata": {
    "id": "aFCElAp7FtAS"
   },
   "outputs": [],
   "source": [
    "yes_img_list=[]\n",
    "yes_labels=[]\n",
    "\n",
    "for i in yes_list:\n",
    "  current_image=os.path.join(yes_path,i)\n",
    "  img=cv2.imread(current_image)\n",
    "  img=cv2.resize(img,(128,128))\n",
    "  yes_img_list.append(img)\n",
    "  yes_labels.append(1)"
   ]
  },
  {
   "cell_type": "code",
   "execution_count": 12,
   "metadata": {
    "colab": {
     "base_uri": "https://localhost:8080/"
    },
    "id": "O3y1clwGkT-i",
    "outputId": "215054ee-49f5-4eed-b500-a289bea99ec2"
   },
   "outputs": [
    {
     "data": {
      "text/plain": [
       "(128, 128, 3)"
      ]
     },
     "execution_count": 12,
     "metadata": {
      "tags": []
     },
     "output_type": "execute_result"
    }
   ],
   "source": [
    "yes_img_list[3].shape"
   ]
  },
  {
   "cell_type": "code",
   "execution_count": 13,
   "metadata": {
    "colab": {
     "base_uri": "https://localhost:8080/"
    },
    "id": "_YBwzTQdkdGh",
    "outputId": "9c3fb925-dc8e-4a16-d44b-45fa1a450f69"
   },
   "outputs": [
    {
     "data": {
      "text/plain": [
       "array([[[116, 116, 116],\n",
       "        [119, 119, 119],\n",
       "        [124, 124, 124],\n",
       "        ...,\n",
       "        [129, 129, 129],\n",
       "        [130, 130, 130],\n",
       "        [128, 128, 128]],\n",
       "\n",
       "       [[118, 118, 118],\n",
       "        [121, 121, 121],\n",
       "        [126, 126, 126],\n",
       "        ...,\n",
       "        [132, 132, 132],\n",
       "        [131, 131, 131],\n",
       "        [127, 127, 127]],\n",
       "\n",
       "       [[120, 120, 120],\n",
       "        [124, 124, 124],\n",
       "        [127, 127, 127],\n",
       "        ...,\n",
       "        [133, 133, 133],\n",
       "        [130, 130, 130],\n",
       "        [125, 125, 125]],\n",
       "\n",
       "       ...,\n",
       "\n",
       "       [[153, 153, 153],\n",
       "        [161, 161, 161],\n",
       "        [164, 164, 164],\n",
       "        ...,\n",
       "        [151, 151, 151],\n",
       "        [151, 151, 151],\n",
       "        [154, 154, 154]],\n",
       "\n",
       "       [[151, 151, 151],\n",
       "        [162, 162, 162],\n",
       "        [166, 166, 166],\n",
       "        ...,\n",
       "        [149, 149, 149],\n",
       "        [150, 150, 150],\n",
       "        [152, 152, 152]],\n",
       "\n",
       "       [[150, 150, 150],\n",
       "        [161, 161, 161],\n",
       "        [166, 166, 166],\n",
       "        ...,\n",
       "        [148, 148, 148],\n",
       "        [148, 148, 148],\n",
       "        [151, 151, 151]]], dtype=uint8)"
      ]
     },
     "execution_count": 13,
     "metadata": {
      "tags": []
     },
     "output_type": "execute_result"
    }
   ],
   "source": [
    "yes_img_list[3]"
   ]
  },
  {
   "cell_type": "code",
   "execution_count": 14,
   "metadata": {
    "id": "URrhwMwTlD3c"
   },
   "outputs": [],
   "source": [
    "no_img_list=[]\n",
    "no_labels=[]\n",
    "\n",
    "for i in no_list:\n",
    "  current_image=os.path.join(no_path,i)\n",
    "  img=cv2.imread(current_image)\n",
    "  img=cv2.resize(img,(128,128))\n",
    "  no_img_list.append(img)\n",
    "  no_labels.append(0)"
   ]
  },
  {
   "cell_type": "code",
   "execution_count": 15,
   "metadata": {
    "colab": {
     "base_uri": "https://localhost:8080/"
    },
    "id": "FFkl7HtHlYox",
    "outputId": "c7181565-9d05-4e4c-925c-f368efd5e746"
   },
   "outputs": [
    {
     "data": {
      "text/plain": [
       "(128, 128, 3)"
      ]
     },
     "execution_count": 15,
     "metadata": {
      "tags": []
     },
     "output_type": "execute_result"
    }
   ],
   "source": [
    "no_img_list[7].shape"
   ]
  },
  {
   "cell_type": "markdown",
   "metadata": {
    "id": "FrfveOqeFtfz"
   },
   "source": [
    "### Check shape and size of the images"
   ]
  },
  {
   "cell_type": "code",
   "execution_count": 16,
   "metadata": {
    "colab": {
     "base_uri": "https://localhost:8080/"
    },
    "id": "Yqx2mDOpmlAY",
    "outputId": "dbeff0b6-9239-4c3c-99a2-a4305825ea27"
   },
   "outputs": [
    {
     "name": "stdout",
     "output_type": "stream",
     "text": [
      "(128, 128, 3)\n",
      "(128, 128, 3)\n",
      "121\n",
      "124\n"
     ]
    }
   ],
   "source": [
    "print(no_img_list[7].shape)\n",
    "print(yes_img_list[7].shape)\n",
    "print(len(no_img_list))\n",
    "print(len(yes_img_list))"
   ]
  },
  {
   "cell_type": "markdown",
   "metadata": {
    "id": "t3NWL9_NIdwK"
   },
   "source": [
    "###  What is the percentage of images with and without mobile phone in the data"
   ]
  },
  {
   "cell_type": "code",
   "execution_count": 17,
   "metadata": {
    "colab": {
     "base_uri": "https://localhost:8080/"
    },
    "id": "NKy7Lw5mFVTi",
    "outputId": "a898a566-1bb8-4b33-bde5-5186feca6da2"
   },
   "outputs": [
    {
     "name": "stdout",
     "output_type": "stream",
     "text": [
      "Mobile Img yes percentage: 50.61224489795919\n",
      "Mobile Img no percentage: 49.38775510204081\n"
     ]
    }
   ],
   "source": [
    "print(\"Mobile Img yes percentage:\",len(yes_img_list)*100/(len(no_img_list)+len(yes_img_list)))\n",
    "print(\"Mobile Img no percentage:\",len(no_img_list)*100/(len(no_img_list)+len(yes_img_list)))"
   ]
  },
  {
   "cell_type": "markdown",
   "metadata": {
    "id": "JVZ2zlPNDOmi"
   },
   "source": [
    "### Concatenate above two arrays (array having image details of with and without mobile) into one variable and check the final size of the data\n",
    "### Concatenate lists having label data into one list"
   ]
  },
  {
   "cell_type": "code",
   "execution_count": 18,
   "metadata": {
    "id": "88u5BB9NDs2N"
   },
   "outputs": [],
   "source": [
    "X_img=np.concatenate((yes_img_list,no_img_list))\n",
    "y=np.concatenate((yes_labels,no_labels))"
   ]
  },
  {
   "cell_type": "code",
   "execution_count": 19,
   "metadata": {
    "colab": {
     "base_uri": "https://localhost:8080/"
    },
    "id": "bI4dPXGQpUIo",
    "outputId": "a7bd9b16-5bc6-494d-cf64-202711e43f06"
   },
   "outputs": [
    {
     "data": {
      "text/plain": [
       "245"
      ]
     },
     "execution_count": 19,
     "metadata": {
      "tags": []
     },
     "output_type": "execute_result"
    }
   ],
   "source": [
    "len(X_img)"
   ]
  },
  {
   "cell_type": "code",
   "execution_count": 20,
   "metadata": {
    "colab": {
     "base_uri": "https://localhost:8080/"
    },
    "id": "C_5tnDjxpf01",
    "outputId": "a6646c14-bdc4-43a7-8943-47644d96c7a4"
   },
   "outputs": [
    {
     "data": {
      "text/plain": [
       "245"
      ]
     },
     "execution_count": 20,
     "metadata": {
      "tags": []
     },
     "output_type": "execute_result"
    }
   ],
   "source": [
    "len(y)"
   ]
  },
  {
   "cell_type": "markdown",
   "metadata": {
    "id": "rVv66DvSDvY0"
   },
   "source": [
    "### Shuffle the above data and labels ( Data and label should be in sync)"
   ]
  },
  {
   "cell_type": "code",
   "execution_count": 21,
   "metadata": {
    "id": "JC2Uu4r0EFDX"
   },
   "outputs": [],
   "source": [
    "from sklearn.utils import shuffle\n",
    "\n",
    "data,label=shuffle(X_img,y)"
   ]
  },
  {
   "cell_type": "markdown",
   "metadata": {
    "id": "IERuYS1BHuCq"
   },
   "source": [
    "## 4. Visualize and Standardize the data"
   ]
  },
  {
   "cell_type": "markdown",
   "metadata": {
    "id": "kxODV6HKykuc"
   },
   "source": [
    "### Visualise the first 10 images in the data and print their corresponding labels."
   ]
  },
  {
   "cell_type": "code",
   "execution_count": 22,
   "metadata": {
    "colab": {
     "base_uri": "https://localhost:8080/",
     "height": 95
    },
    "id": "__YELlwqE8Cl",
    "outputId": "c2132845-af41-4f1d-da80-64afaf435f44"
   },
   "outputs": [
    {
     "data": {
      "image/png": "[encoded data removed]",
      "text/plain": [
       "<Figure size 720x720 with 10 Axes>"
      ]
     },
     "metadata": {
      "needs_background": "light",
      "tags": []
     },
     "output_type": "display_data"
    },
    {
     "name": "stdout",
     "output_type": "stream",
     "text": [
      "[0 0 1 0 0 1 1 0 0 0]\n"
     ]
    }
   ],
   "source": [
    "import matplotlib.pyplot as plt\n",
    "plt.figure(figsize=(10,10))\n",
    "for i in range(10):\n",
    "  plt.subplot(1,10,i+1)\n",
    "  plt.imshow(data[i])\n",
    "  plt.axis('off')\n",
    "\n",
    "plt.show()\n",
    "print(label[:10])"
   ]
  },
  {
   "cell_type": "markdown",
   "metadata": {
    "id": "LUvm8AMvEFaA"
   },
   "source": [
    "### Split the data into train and test"
   ]
  },
  {
   "cell_type": "code",
   "execution_count": 23,
   "metadata": {
    "id": "kKVEf3zWF0Qq"
   },
   "outputs": [],
   "source": [
    "from sklearn.model_selection import train_test_split\n",
    "x_train,x_test,y_train,y_test=train_test_split(data,label,random_state=2)"
   ]
  },
  {
   "cell_type": "markdown",
   "metadata": {
    "id": "y1ZC0x0I3-jo"
   },
   "source": [
    "### Print shape of the X train and X test data"
   ]
  },
  {
   "cell_type": "code",
   "execution_count": 24,
   "metadata": {
    "colab": {
     "base_uri": "https://localhost:8080/"
    },
    "id": "Dm8gmQt2FEUd",
    "outputId": "6055d840-724d-449f-d922-d5b5b5a7fdcf"
   },
   "outputs": [
    {
     "name": "stdout",
     "output_type": "stream",
     "text": [
      "183\n",
      "62\n"
     ]
    }
   ],
   "source": [
    "print(len(x_train))\n",
    "print(len(x_test))"
   ]
  },
  {
   "cell_type": "code",
   "execution_count": 25,
   "metadata": {
    "colab": {
     "base_uri": "https://localhost:8080/"
    },
    "id": "QPdFkb4pNGIv",
    "outputId": "8b18ffcf-dd6f-42eb-bfa0-62f17d7af36b"
   },
   "outputs": [
    {
     "name": "stdout",
     "output_type": "stream",
     "text": [
      "(183, 128, 128, 3)\n",
      "(62, 128, 128, 3)\n"
     ]
    }
   ],
   "source": [
    "print(x_train.shape)\n",
    "print(x_test.shape)"
   ]
  },
  {
   "cell_type": "markdown",
   "metadata": {
    "id": "W1Zgo_3LFSWE"
   },
   "source": [
    "### Normalize the data by dividing by 255"
   ]
  },
  {
   "cell_type": "code",
   "execution_count": 26,
   "metadata": {
    "id": "AMDN2gK0FZ22"
   },
   "outputs": [],
   "source": [
    "x_train=x_train/255.0\n",
    "x_test=x_test/255.0"
   ]
  },
  {
   "cell_type": "code",
   "execution_count": 27,
   "metadata": {
    "colab": {
     "base_uri": "https://localhost:8080/"
    },
    "id": "nat3yNIoMlQg",
    "outputId": "3bb36abf-1e74-4d98-ec04-8028df2c9d9a"
   },
   "outputs": [
    {
     "data": {
      "text/plain": [
       "array([[[0.57647059, 0.57647059, 0.57647059],\n",
       "        [0.56862745, 0.56862745, 0.56862745],\n",
       "        [0.57647059, 0.57647059, 0.57647059],\n",
       "        ...,\n",
       "        [0.61960784, 0.61960784, 0.61960784],\n",
       "        [0.62745098, 0.62745098, 0.62745098],\n",
       "        [0.61176471, 0.61176471, 0.61176471]],\n",
       "\n",
       "       [[0.59215686, 0.59215686, 0.59215686],\n",
       "        [0.58039216, 0.58039216, 0.58039216],\n",
       "        [0.58823529, 0.58823529, 0.58823529],\n",
       "        ...,\n",
       "        [0.63137255, 0.63137255, 0.63137255],\n",
       "        [0.63137255, 0.63137255, 0.63137255],\n",
       "        [0.61960784, 0.61960784, 0.61960784]],\n",
       "\n",
       "       [[0.60392157, 0.60392157, 0.60392157],\n",
       "        [0.59607843, 0.59607843, 0.59607843],\n",
       "        [0.60392157, 0.60392157, 0.60392157],\n",
       "        ...,\n",
       "        [0.63137255, 0.63137255, 0.63137255],\n",
       "        [0.62745098, 0.62745098, 0.62745098],\n",
       "        [0.61960784, 0.61960784, 0.61960784]],\n",
       "\n",
       "       ...,\n",
       "\n",
       "       [[0.49019608, 0.49019608, 0.49019608],\n",
       "        [0.50588235, 0.50588235, 0.50588235],\n",
       "        [0.50588235, 0.50588235, 0.50588235],\n",
       "        ...,\n",
       "        [0.48627451, 0.48627451, 0.48627451],\n",
       "        [0.47843137, 0.47843137, 0.47843137],\n",
       "        [0.47058824, 0.47058824, 0.47058824]],\n",
       "\n",
       "       [[0.49803922, 0.49803922, 0.49803922],\n",
       "        [0.50980392, 0.50980392, 0.50980392],\n",
       "        [0.51372549, 0.51372549, 0.51372549],\n",
       "        ...,\n",
       "        [0.48627451, 0.48627451, 0.48627451],\n",
       "        [0.4745098 , 0.4745098 , 0.4745098 ],\n",
       "        [0.46666667, 0.46666667, 0.46666667]],\n",
       "\n",
       "       [[0.50196078, 0.50196078, 0.50196078],\n",
       "        [0.51372549, 0.51372549, 0.51372549],\n",
       "        [0.51372549, 0.51372549, 0.51372549],\n",
       "        ...,\n",
       "        [0.49019608, 0.49019608, 0.49019608],\n",
       "        [0.47843137, 0.47843137, 0.47843137],\n",
       "        [0.4745098 , 0.4745098 , 0.4745098 ]]])"
      ]
     },
     "execution_count": 27,
     "metadata": {
      "tags": []
     },
     "output_type": "execute_result"
    }
   ],
   "source": [
    "x_train[0]"
   ]
  },
  {
   "cell_type": "markdown",
   "metadata": {
    "id": "bogxx3cezol1"
   },
   "source": [
    "###  One hot encode the labels for train and test data \n",
    "Hint:- We need to one hot encode the labels for the model to understand the labels better. We will be using categorical cross entropy as our loss function and for this purpose we need our labels to be in one hot encoded format."
   ]
  },
  {
   "cell_type": "code",
   "execution_count": 28,
   "metadata": {
    "id": "4R0pPQFBFjp1"
   },
   "outputs": [],
   "source": [
    "from tensorflow.keras.utils import to_categorical\n",
    "y_train=to_categorical(y_train)\n",
    "y_test=to_categorical(y_test)"
   ]
  },
  {
   "cell_type": "code",
   "execution_count": 29,
   "metadata": {
    "colab": {
     "base_uri": "https://localhost:8080/"
    },
    "id": "WqYOdcyEON8x",
    "outputId": "5478c30f-9b9d-4ec3-96db-49272778a270"
   },
   "outputs": [
    {
     "data": {
      "text/plain": [
       "array([[0., 1.],\n",
       "       [0., 1.],\n",
       "       [1., 0.],\n",
       "       [0., 1.],\n",
       "       [1., 0.],\n",
       "       [1., 0.],\n",
       "       [1., 0.],\n",
       "       [0., 1.],\n",
       "       [0., 1.],\n",
       "       [1., 0.],\n",
       "       [0., 1.],\n",
       "       [1., 0.],\n",
       "       [1., 0.],\n",
       "       [0., 1.],\n",
       "       [0., 1.],\n",
       "       [1., 0.],\n",
       "       [1., 0.],\n",
       "       [1., 0.],\n",
       "       [1., 0.],\n",
       "       [0., 1.],\n",
       "       [0., 1.],\n",
       "       [1., 0.],\n",
       "       [1., 0.],\n",
       "       [1., 0.],\n",
       "       [1., 0.],\n",
       "       [1., 0.],\n",
       "       [0., 1.],\n",
       "       [0., 1.],\n",
       "       [0., 1.],\n",
       "       [0., 1.],\n",
       "       [0., 1.],\n",
       "       [1., 0.],\n",
       "       [0., 1.],\n",
       "       [0., 1.],\n",
       "       [0., 1.],\n",
       "       [1., 0.],\n",
       "       [1., 0.],\n",
       "       [0., 1.],\n",
       "       [1., 0.],\n",
       "       [1., 0.],\n",
       "       [1., 0.],\n",
       "       [0., 1.],\n",
       "       [1., 0.],\n",
       "       [1., 0.],\n",
       "       [1., 0.],\n",
       "       [0., 1.],\n",
       "       [1., 0.],\n",
       "       [0., 1.],\n",
       "       [1., 0.],\n",
       "       [0., 1.],\n",
       "       [0., 1.],\n",
       "       [1., 0.],\n",
       "       [1., 0.],\n",
       "       [0., 1.],\n",
       "       [0., 1.],\n",
       "       [1., 0.],\n",
       "       [0., 1.],\n",
       "       [1., 0.],\n",
       "       [0., 1.],\n",
       "       [1., 0.],\n",
       "       [1., 0.],\n",
       "       [0., 1.],\n",
       "       [1., 0.],\n",
       "       [1., 0.],\n",
       "       [1., 0.],\n",
       "       [0., 1.],\n",
       "       [0., 1.],\n",
       "       [1., 0.],\n",
       "       [0., 1.],\n",
       "       [0., 1.],\n",
       "       [0., 1.],\n",
       "       [1., 0.],\n",
       "       [0., 1.],\n",
       "       [0., 1.],\n",
       "       [1., 0.],\n",
       "       [0., 1.],\n",
       "       [0., 1.],\n",
       "       [1., 0.],\n",
       "       [1., 0.],\n",
       "       [0., 1.],\n",
       "       [1., 0.],\n",
       "       [0., 1.],\n",
       "       [0., 1.],\n",
       "       [0., 1.],\n",
       "       [0., 1.],\n",
       "       [1., 0.],\n",
       "       [1., 0.],\n",
       "       [1., 0.],\n",
       "       [0., 1.],\n",
       "       [0., 1.],\n",
       "       [0., 1.],\n",
       "       [0., 1.],\n",
       "       [0., 1.],\n",
       "       [1., 0.],\n",
       "       [1., 0.],\n",
       "       [0., 1.],\n",
       "       [1., 0.],\n",
       "       [1., 0.],\n",
       "       [1., 0.],\n",
       "       [0., 1.],\n",
       "       [1., 0.],\n",
       "       [1., 0.],\n",
       "       [1., 0.],\n",
       "       [0., 1.],\n",
       "       [1., 0.],\n",
       "       [0., 1.],\n",
       "       [0., 1.],\n",
       "       [0., 1.],\n",
       "       [1., 0.],\n",
       "       [0., 1.],\n",
       "       [1., 0.],\n",
       "       [1., 0.],\n",
       "       [1., 0.],\n",
       "       [1., 0.],\n",
       "       [1., 0.],\n",
       "       [0., 1.],\n",
       "       [1., 0.],\n",
       "       [0., 1.],\n",
       "       [1., 0.],\n",
       "       [0., 1.],\n",
       "       [0., 1.],\n",
       "       [1., 0.],\n",
       "       [0., 1.],\n",
       "       [1., 0.],\n",
       "       [0., 1.],\n",
       "       [1., 0.],\n",
       "       [0., 1.],\n",
       "       [0., 1.],\n",
       "       [0., 1.],\n",
       "       [0., 1.],\n",
       "       [0., 1.],\n",
       "       [1., 0.],\n",
       "       [0., 1.],\n",
       "       [1., 0.],\n",
       "       [1., 0.],\n",
       "       [1., 0.],\n",
       "       [1., 0.],\n",
       "       [1., 0.],\n",
       "       [0., 1.],\n",
       "       [0., 1.],\n",
       "       [1., 0.],\n",
       "       [1., 0.],\n",
       "       [1., 0.],\n",
       "       [0., 1.],\n",
       "       [1., 0.],\n",
       "       [1., 0.],\n",
       "       [0., 1.],\n",
       "       [0., 1.],\n",
       "       [1., 0.],\n",
       "       [1., 0.],\n",
       "       [0., 1.],\n",
       "       [1., 0.],\n",
       "       [1., 0.],\n",
       "       [0., 1.],\n",
       "       [0., 1.],\n",
       "       [0., 1.],\n",
       "       [1., 0.],\n",
       "       [1., 0.],\n",
       "       [0., 1.],\n",
       "       [0., 1.],\n",
       "       [1., 0.],\n",
       "       [1., 0.],\n",
       "       [0., 1.],\n",
       "       [1., 0.],\n",
       "       [0., 1.],\n",
       "       [1., 0.],\n",
       "       [1., 0.],\n",
       "       [1., 0.],\n",
       "       [0., 1.],\n",
       "       [0., 1.],\n",
       "       [1., 0.],\n",
       "       [0., 1.],\n",
       "       [1., 0.],\n",
       "       [1., 0.],\n",
       "       [0., 1.],\n",
       "       [1., 0.],\n",
       "       [0., 1.],\n",
       "       [0., 1.],\n",
       "       [0., 1.],\n",
       "       [1., 0.],\n",
       "       [1., 0.],\n",
       "       [1., 0.],\n",
       "       [1., 0.]], dtype=float32)"
      ]
     },
     "execution_count": 29,
     "metadata": {
      "tags": []
     },
     "output_type": "execute_result"
    }
   ],
   "source": [
    "y_train"
   ]
  },
  {
   "cell_type": "markdown",
   "metadata": {
    "id": "xztigzzfITt-"
   },
   "source": [
    "## 5. Model building"
   ]
  },
  {
   "cell_type": "markdown",
   "metadata": {
    "id": "UJDUoaEj1d6e"
   },
   "source": [
    "### Define the model architecture using TensorFlow with a Conv2D layer followed by dense layers with activation as ReLu and softmax respectively. "
   ]
  },
  {
   "cell_type": "code",
   "execution_count": 30,
   "metadata": {
    "colab": {
     "base_uri": "https://localhost:8080/"
    },
    "id": "RhT_PLicFuDu",
    "outputId": "5c083c7a-c44e-4f5c-afdf-0d2fe5e9c367"
   },
   "outputs": [
    {
     "name": "stdout",
     "output_type": "stream",
     "text": [
      "Model: \"sequential\"\n",
      "_________________________________________________________________\n",
      "Layer (type)                 Output Shape              Param #   \n",
      "=================================================================\n",
      "conv2d (Conv2D)              (None, 126, 126, 128)     3584      \n",
      "_________________________________________________________________\n",
      "max_pooling2d (MaxPooling2D) (None, 63, 63, 128)       0         \n",
      "_________________________________________________________________\n",
      "dropout (Dropout)            (None, 63, 63, 128)       0         \n",
      "_________________________________________________________________\n",
      "conv2d_1 (Conv2D)            (None, 61, 61, 256)       295168    \n",
      "_________________________________________________________________\n",
      "max_pooling2d_1 (MaxPooling2 (None, 30, 30, 256)       0         \n",
      "_________________________________________________________________\n",
      "dropout_1 (Dropout)          (None, 30, 30, 256)       0         \n",
      "_________________________________________________________________\n",
      "conv2d_2 (Conv2D)            (None, 28, 28, 256)       590080    \n",
      "_________________________________________________________________\n",
      "max_pooling2d_2 (MaxPooling2 (None, 14, 14, 256)       0         \n",
      "_________________________________________________________________\n",
      "dropout_2 (Dropout)          (None, 14, 14, 256)       0         \n",
      "_________________________________________________________________\n",
      "flatten (Flatten)            (None, 50176)             0         \n",
      "_________________________________________________________________\n",
      "dense (Dense)                (None, 512)               25690624  \n",
      "_________________________________________________________________\n",
      "dense_1 (Dense)              (None, 256)               131328    \n",
      "_________________________________________________________________\n",
      "dense_2 (Dense)              (None, 128)               32896     \n",
      "_________________________________________________________________\n",
      "dense_3 (Dense)              (None, 2)                 258       \n",
      "=================================================================\n",
      "Total params: 26,743,938\n",
      "Trainable params: 26,743,938\n",
      "Non-trainable params: 0\n",
      "_________________________________________________________________\n"
     ]
    }
   ],
   "source": [
    "tensorflow.keras.backend.clear_session()\n",
    "model=Sequential()\n",
    "\n",
    "model.add(Conv2D(128,(3,3),input_shape=(128,128,3),activation='relu'))\n",
    "model.add(MaxPooling2D((2,2)))\n",
    "model.add(Dropout(0.20))\n",
    "\n",
    "model.add(Conv2D(256,(3,3),activation='relu'))\n",
    "model.add(MaxPooling2D((2,2)))\n",
    "model.add(Dropout(0.20))\n",
    "\n",
    "model.add(Conv2D(256,(3,3),activation='relu'))\n",
    "model.add(MaxPooling2D((2,2)))\n",
    "model.add(Dropout(0.20))\n",
    "\n",
    "model.add(Flatten())\n",
    "\n",
    "model.add(Dense(512,activation=\"relu\"))\n",
    "model.add(Dense(256,activation=\"relu\"))\n",
    "model.add(Dense(128,activation=\"relu\"))\n",
    "model.add(Dense(2,activation=\"softmax\"))\n",
    "\n",
    "model.summary()"
   ]
  },
  {
   "cell_type": "markdown",
   "metadata": {
    "id": "DAJbHWAbF1Ko"
   },
   "source": [
    "### Compile the above model using appropriate loss metric. Try with sgd, adam optimizer and \"accuracy\" as metrics. "
   ]
  },
  {
   "cell_type": "code",
   "execution_count": 31,
   "metadata": {
    "id": "wBcO5lBmGMCW"
   },
   "outputs": [],
   "source": [
    "model.compile(optimizer=\"adam\",metrics=[\"accuracy\"],loss='categorical_crossentropy')"
   ]
  },
  {
   "cell_type": "code",
   "execution_count": 32,
   "metadata": {
    "id": "5DSsGzMwSNRn"
   },
   "outputs": [],
   "source": [
    "#model.compile(optimizer=\"sgd\",metrics=[\"accuracy\"],loss='categorical_crossentropy')"
   ]
  },
  {
   "cell_type": "markdown",
   "metadata": {
    "id": "5t90ufg46jLl"
   },
   "source": [
    "### Fit the model on the training dataset along with it's equivalent one hot encoded labels"
   ]
  },
  {
   "cell_type": "code",
   "execution_count": 33,
   "metadata": {
    "colab": {
     "base_uri": "https://localhost:8080/"
    },
    "id": "1OSrPoT9GPKs",
    "outputId": "1c6b594b-cfee-4bb8-9c62-52709f7d5199"
   },
   "outputs": [
    {
     "name": "stdout",
     "output_type": "stream",
     "text": [
      "Epoch 1/20\n",
      "6/6 [==============================] - 34s 506ms/step - loss: 1.4374 - accuracy: 0.5246 - val_loss: 0.6966 - val_accuracy: 0.4032\n",
      "Epoch 2/20\n",
      "6/6 [==============================] - 1s 112ms/step - loss: 0.6939 - accuracy: 0.5082 - val_loss: 0.7000 - val_accuracy: 0.4032\n",
      "Epoch 3/20\n",
      "6/6 [==============================] - 1s 111ms/step - loss: 0.6856 - accuracy: 0.5410 - val_loss: 0.6827 - val_accuracy: 0.7258\n",
      "Epoch 4/20\n",
      "6/6 [==============================] - 1s 112ms/step - loss: 0.6510 - accuracy: 0.6776 - val_loss: 0.6296 - val_accuracy: 0.7419\n",
      "Epoch 5/20\n",
      "6/6 [==============================] - 1s 112ms/step - loss: 0.5475 - accuracy: 0.7869 - val_loss: 0.4909 - val_accuracy: 0.8065\n",
      "Epoch 6/20\n",
      "6/6 [==============================] - 1s 109ms/step - loss: 0.4129 - accuracy: 0.8634 - val_loss: 0.4345 - val_accuracy: 0.8387\n",
      "Epoch 7/20\n",
      "6/6 [==============================] - 1s 111ms/step - loss: 0.4516 - accuracy: 0.8415 - val_loss: 0.4627 - val_accuracy: 0.7903\n",
      "Epoch 8/20\n",
      "6/6 [==============================] - 1s 110ms/step - loss: 0.4206 - accuracy: 0.8251 - val_loss: 0.4387 - val_accuracy: 0.7903\n",
      "Epoch 9/20\n",
      "6/6 [==============================] - 1s 113ms/step - loss: 0.3831 - accuracy: 0.8415 - val_loss: 0.4396 - val_accuracy: 0.8065\n",
      "Epoch 10/20\n",
      "6/6 [==============================] - 1s 114ms/step - loss: 0.3321 - accuracy: 0.8852 - val_loss: 0.3725 - val_accuracy: 0.8548\n",
      "Epoch 11/20\n",
      "6/6 [==============================] - 1s 112ms/step - loss: 0.2572 - accuracy: 0.9235 - val_loss: 0.4472 - val_accuracy: 0.8548\n",
      "Epoch 12/20\n",
      "6/6 [==============================] - 1s 111ms/step - loss: 0.2095 - accuracy: 0.9344 - val_loss: 0.5518 - val_accuracy: 0.8226\n",
      "Epoch 13/20\n",
      "6/6 [==============================] - 1s 112ms/step - loss: 0.2071 - accuracy: 0.9399 - val_loss: 0.5847 - val_accuracy: 0.7903\n",
      "Epoch 14/20\n",
      "6/6 [==============================] - 1s 113ms/step - loss: 0.2180 - accuracy: 0.9235 - val_loss: 0.7074 - val_accuracy: 0.7742\n",
      "Epoch 15/20\n",
      "6/6 [==============================] - 1s 110ms/step - loss: 0.3218 - accuracy: 0.8743 - val_loss: 0.5391 - val_accuracy: 0.8065\n",
      "Epoch 16/20\n",
      "6/6 [==============================] - 1s 111ms/step - loss: 0.1829 - accuracy: 0.9508 - val_loss: 0.6587 - val_accuracy: 0.8226\n",
      "Epoch 17/20\n",
      "6/6 [==============================] - 1s 111ms/step - loss: 0.1346 - accuracy: 0.9508 - val_loss: 0.7157 - val_accuracy: 0.8226\n",
      "Epoch 18/20\n",
      "6/6 [==============================] - 1s 112ms/step - loss: 0.1229 - accuracy: 0.9508 - val_loss: 0.9260 - val_accuracy: 0.8387\n",
      "Epoch 19/20\n",
      "6/6 [==============================] - 1s 112ms/step - loss: 0.1047 - accuracy: 0.9727 - val_loss: 0.8272 - val_accuracy: 0.8226\n",
      "Epoch 20/20\n",
      "6/6 [==============================] - 1s 111ms/step - loss: 0.0729 - accuracy: 0.9781 - val_loss: 0.8569 - val_accuracy: 0.8387\n"
     ]
    }
   ],
   "source": [
    "train_hist=model.fit(x_train,y_train,validation_data=(x_test,y_test),epochs=20,batch_size=32)"
   ]
  },
  {
   "cell_type": "markdown",
   "metadata": {
    "id": "algw3-VGIj-N"
   },
   "source": [
    "## 6. Evaluate the model\n"
   ]
  },
  {
   "cell_type": "markdown",
   "metadata": {
    "id": "PJ44TJ4gGQUC"
   },
   "source": [
    "### Evaluate the model on test data and print loss and accuracy"
   ]
  },
  {
   "cell_type": "code",
   "execution_count": 34,
   "metadata": {
    "colab": {
     "base_uri": "https://localhost:8080/"
    },
    "id": "ThluFnGNGWh7",
    "outputId": "f485736f-8e53-4941-a748-2123e5d8d2f6"
   },
   "outputs": [
    {
     "name": "stdout",
     "output_type": "stream",
     "text": [
      "2/2 [==============================] - 0s 31ms/step - loss: 0.8569 - accuracy: 0.8387\n"
     ]
    },
    {
     "data": {
      "text/plain": [
       "[0.856947660446167, 0.8387096524238586]"
      ]
     },
     "execution_count": 34,
     "metadata": {
      "tags": []
     },
     "output_type": "execute_result"
    }
   ],
   "source": [
    "model.evaluate(x_test,y_test)"
   ]
  },
  {
   "cell_type": "markdown",
   "metadata": {
    "id": "hyzKGfaKGapH"
   },
   "source": [
    "### Predict label data of the test data and check confusion matrix"
   ]
  },
  {
   "cell_type": "code",
   "execution_count": 35,
   "metadata": {
    "colab": {
     "base_uri": "https://localhost:8080/"
    },
    "id": "jqlmsPhxGh-K",
    "outputId": "3ee6bcd3-c02d-4fa2-87f3-10a8f482a456"
   },
   "outputs": [
    {
     "data": {
      "text/plain": [
       "array([[4.92535492e-06, 9.99995112e-01],\n",
       "       [9.80710328e-01, 1.92896891e-02],\n",
       "       [1.84240980e-06, 9.99998212e-01],\n",
       "       [9.80595589e-01, 1.94044262e-02],\n",
       "       [9.64496732e-01, 3.55032422e-02],\n",
       "       [6.00161201e-08, 9.99999881e-01],\n",
       "       [5.56231372e-09, 1.00000000e+00],\n",
       "       [9.98731434e-01, 1.26856193e-03],\n",
       "       [9.07840431e-01, 9.21595916e-02],\n",
       "       [9.15169179e-01, 8.48308131e-02],\n",
       "       [3.50211859e-01, 6.49788141e-01],\n",
       "       [1.47919749e-07, 9.99999881e-01],\n",
       "       [9.08204092e-05, 9.99909163e-01],\n",
       "       [9.35762882e-01, 6.42370880e-02],\n",
       "       [7.19720125e-01, 2.80279905e-01],\n",
       "       [9.64330733e-01, 3.56692150e-02],\n",
       "       [7.60185063e-01, 2.39814907e-01],\n",
       "       [9.57257926e-01, 4.27421369e-02],\n",
       "       [2.26656627e-11, 1.00000000e+00],\n",
       "       [3.23668878e-08, 1.00000000e+00],\n",
       "       [3.52686971e-01, 6.47313058e-01],\n",
       "       [1.16311661e-07, 9.99999881e-01],\n",
       "       [9.94166294e-06, 9.99990106e-01],\n",
       "       [3.85697786e-06, 9.99996185e-01],\n",
       "       [1.22621001e-04, 9.99877334e-01],\n",
       "       [2.90413136e-05, 9.99970913e-01],\n",
       "       [9.40932631e-01, 5.90673462e-02],\n",
       "       [8.38631749e-01, 1.61368206e-01],\n",
       "       [2.39654873e-02, 9.76034522e-01],\n",
       "       [9.71024752e-01, 2.89752781e-02],\n",
       "       [8.78685713e-01, 1.21314265e-01],\n",
       "       [4.87915269e-04, 9.99512076e-01],\n",
       "       [3.65761757e-01, 6.34238303e-01],\n",
       "       [4.63980143e-08, 1.00000000e+00],\n",
       "       [8.06470496e-07, 9.99999166e-01],\n",
       "       [4.31442260e-07, 9.99999523e-01],\n",
       "       [4.88775231e-06, 9.99995112e-01],\n",
       "       [9.83821154e-01, 1.61788631e-02],\n",
       "       [2.54565293e-07, 9.99999762e-01],\n",
       "       [9.91090417e-01, 8.90956074e-03],\n",
       "       [6.61697090e-01, 3.38302881e-01],\n",
       "       [9.35238123e-01, 6.47619143e-02],\n",
       "       [4.07364307e-04, 9.99592602e-01],\n",
       "       [6.84675694e-01, 3.15324336e-01],\n",
       "       [4.68281449e-08, 1.00000000e+00],\n",
       "       [3.98473821e-05, 9.99960184e-01],\n",
       "       [9.68167722e-01, 3.18322368e-02],\n",
       "       [9.60070670e-01, 3.99293453e-02],\n",
       "       [6.87162638e-01, 3.12837332e-01],\n",
       "       [2.53560302e-07, 9.99999762e-01],\n",
       "       [4.96625900e-03, 9.95033741e-01],\n",
       "       [8.96106720e-01, 1.03893280e-01],\n",
       "       [1.14085069e-05, 9.99988556e-01],\n",
       "       [5.14696403e-05, 9.99948502e-01],\n",
       "       [6.96997106e-01, 3.03002894e-01],\n",
       "       [9.65854406e-01, 3.41455303e-02],\n",
       "       [8.09262812e-01, 1.90737173e-01],\n",
       "       [9.65854406e-01, 3.41455303e-02],\n",
       "       [2.61550781e-07, 9.99999762e-01],\n",
       "       [7.74390996e-01, 2.25609049e-01],\n",
       "       [5.98117893e-08, 9.99999881e-01],\n",
       "       [2.91118809e-08, 1.00000000e+00]], dtype=float32)"
      ]
     },
     "execution_count": 35,
     "metadata": {
      "tags": []
     },
     "output_type": "execute_result"
    }
   ],
   "source": [
    "model.predict(x_test)"
   ]
  },
  {
   "cell_type": "code",
   "execution_count": 36,
   "metadata": {
    "id": "gHdu9ULbWxjR"
   },
   "outputs": [],
   "source": [
    "pred=np.argmax(model.predict(x_test),axis=1)"
   ]
  },
  {
   "cell_type": "code",
   "execution_count": 37,
   "metadata": {
    "id": "mpt_u9d5X_Pg"
   },
   "outputs": [],
   "source": [
    "y_test1=np.argmax(y_test,axis=1)"
   ]
  },
  {
   "cell_type": "code",
   "execution_count": 38,
   "metadata": {
    "colab": {
     "base_uri": "https://localhost:8080/"
    },
    "id": "Slcr2G2MXBmA",
    "outputId": "ae1da0d7-2378-4a4b-fb86-e0f97033319e"
   },
   "outputs": [
    {
     "data": {
      "text/plain": [
       "array([[22,  3],\n",
       "       [ 7, 30]])"
      ]
     },
     "execution_count": 38,
     "metadata": {
      "tags": []
     },
     "output_type": "execute_result"
    }
   ],
   "source": [
    "from sklearn.metrics import confusion_matrix\n",
    "confusion_matrix(y_true=y_test1,y_pred=pred)"
   ]
  },
  {
   "cell_type": "markdown",
   "metadata": {
    "id": "C3cctwoeGwHa"
   },
   "source": [
    "### Display test images and their predicted label for a few samples"
   ]
  },
  {
   "cell_type": "code",
   "execution_count": 49,
   "metadata": {
    "colab": {
     "base_uri": "https://localhost:8080/",
     "height": 95
    },
    "id": "FvbAyNElHH_G",
    "outputId": "5db43948-6688-47f9-8886-2258e9c708a2"
   },
   "outputs": [
    {
     "data": {
      "image/png": "[encoded data removed]",
      "text/plain": [
       "<Figure size 720x720 with 10 Axes>"
      ]
     },
     "metadata": {
      "needs_background": "light",
      "tags": []
     },
     "output_type": "display_data"
    },
    {
     "name": "stdout",
     "output_type": "stream",
     "text": [
      "[1 0 1 0 0 1 1 0 0 0]\n"
     ]
    }
   ],
   "source": [
    "import matplotlib.pyplot as plt\n",
    "plt.figure(figsize=(10,10))\n",
    "for i in range(10):\n",
    "  plt.subplot(1,10,i+1)\n",
    "  plt.imshow(x_test[i])\n",
    "  plt.axis('off')\n",
    "\n",
    "plt.show()\n",
    "print(pred[:10])"
   ]
  },
  {
   "cell_type": "markdown",
   "metadata": {
    "id": "ZruCtc4GGkVr"
   },
   "source": [
    "### Print following plots\n",
    "1. Plot training accuracy vs validation accuracy\n",
    "2. Plot training loss vs validation loss"
   ]
  },
  {
   "cell_type": "code",
   "execution_count": 39,
   "metadata": {
    "id": "2nf532Q_HWWM"
   },
   "outputs": [],
   "source": [
    "train_accuracy=train_hist.history['accuracy']\n",
    "val_accuracy=train_hist.history['val_accuracy']"
   ]
  },
  {
   "cell_type": "code",
   "execution_count": 40,
   "metadata": {
    "id": "XmSIE7qRZEOv"
   },
   "outputs": [],
   "source": [
    "loss=train_hist.history['loss']\n",
    "val_loss=train_hist.history['val_loss']"
   ]
  },
  {
   "cell_type": "code",
   "execution_count": 41,
   "metadata": {
    "id": "OaPQHdpCZaMc"
   },
   "outputs": [],
   "source": [
    "epochs=range(len(train_accuracy))"
   ]
  },
  {
   "cell_type": "code",
   "execution_count": 44,
   "metadata": {
    "colab": {
     "base_uri": "https://localhost:8080/",
     "height": 285
    },
    "id": "4EKQscV7Zfhb",
    "outputId": "90a44ffe-c123-4c5b-c27a-c5dff9b185f5"
   },
   "outputs": [
    {
     "data": {
      "text/plain": [
       "<matplotlib.legend.Legend at 0x7f6640381190>"
      ]
     },
     "execution_count": 44,
     "metadata": {
      "tags": []
     },
     "output_type": "execute_result"
    },
    {
     "data": {
      "image/png": "[encoded data removed]",
      "text/plain": [
       "<Figure size 432x288 with 1 Axes>"
      ]
     },
     "metadata": {
      "needs_background": "light",
      "tags": []
     },
     "output_type": "display_data"
    }
   ],
   "source": [
    "plt.plot(epochs,train_accuracy,label=\"Train Accuracy\")\n",
    "plt.plot(epochs,val_accuracy,label=\"Validation Accuracy\")\n",
    "plt.legend()"
   ]
  },
  {
   "cell_type": "code",
   "execution_count": 45,
   "metadata": {
    "colab": {
     "base_uri": "https://localhost:8080/",
     "height": 283
    },
    "id": "d1BE8fQUZmd-",
    "outputId": "7f52f5f8-6f08-4d32-9d73-d10025c53604"
   },
   "outputs": [
    {
     "data": {
      "text/plain": [
       "<matplotlib.legend.Legend at 0x7f6608063d10>"
      ]
     },
     "execution_count": 45,
     "metadata": {
      "tags": []
     },
     "output_type": "execute_result"
    },
    {
     "data": {
      "image/png": "[encoded data removed]",
      "text/plain": [
       "<Figure size 432x288 with 1 Axes>"
      ]
     },
     "metadata": {
      "needs_background": "light",
      "tags": []
     },
     "output_type": "display_data"
    }
   ],
   "source": [
    "plt.plot(epochs,loss,label=\"Train Loss\")\n",
    "plt.plot(epochs,val_loss,label=\"Test Loss\")\n",
    "plt.legend()"
   ]
  },
  {
   "cell_type": "markdown",
   "metadata": {
    "id": "hH63EB-xGHJq"
   },
   "source": [
    "## 7.  Conclusion and Interpretation"
   ]
  },
  {
   "cell_type": "markdown",
   "metadata": {
    "id": "5ixHI0FcHIMo"
   },
   "source": [
    "### Write your observations and findings"
   ]
  },
  {
   "cell_type": "markdown",
   "metadata": {
    "id": "jDW_xV5j0oed"
   },
   "source": [
    "1.   Convolutional Neural networks are very effective in Image classification and recognition\n",
    "2.   The convolutions identifies pattern or edges in the data which is useful in identifying the image.\n",
    "3.   Convolutions is used in feature extraction where initial layers learn the basic features and then it is passed on to the next layers to learn more complex features by combining simpler features."
   ]
  },
  {
   "cell_type": "markdown",
   "metadata": {
    "id": "WnoWVy0GGPs5"
   },
   "source": [
    "## 8. Further Explore"
   ]
  },
  {
   "cell_type": "markdown",
   "metadata": {
    "id": "NKEwRyW9JnCd"
   },
   "source": [
    "### Try changing a few hyperparameters such as number of layers in the network or number of units in a hidden layer or try different activation functions in the hidden layers and see if you get better results than the previous network"
   ]
  },
  {
   "cell_type": "code",
   "execution_count": 51,
   "metadata": {
    "colab": {
     "base_uri": "https://localhost:8080/"
    },
    "id": "HMKFW7Eb6KlP",
    "outputId": "39a2b51e-b7ac-475e-d33e-2d9dccef82ee"
   },
   "outputs": [
    {
     "name": "stdout",
     "output_type": "stream",
     "text": [
      "Model: \"sequential\"\n",
      "_________________________________________________________________\n",
      "Layer (type)                 Output Shape              Param #   \n",
      "=================================================================\n",
      "conv2d (Conv2D)              (None, 126, 126, 128)     3584      \n",
      "_________________________________________________________________\n",
      "max_pooling2d (MaxPooling2D) (None, 63, 63, 128)       0         \n",
      "_________________________________________________________________\n",
      "dropout (Dropout)            (None, 63, 63, 128)       0         \n",
      "_________________________________________________________________\n",
      "conv2d_1 (Conv2D)            (None, 61, 61, 256)       295168    \n",
      "_________________________________________________________________\n",
      "max_pooling2d_1 (MaxPooling2 (None, 30, 30, 256)       0         \n",
      "_________________________________________________________________\n",
      "dropout_1 (Dropout)          (None, 30, 30, 256)       0         \n",
      "_________________________________________________________________\n",
      "conv2d_2 (Conv2D)            (None, 28, 28, 256)       590080    \n",
      "_________________________________________________________________\n",
      "max_pooling2d_2 (MaxPooling2 (None, 14, 14, 256)       0         \n",
      "_________________________________________________________________\n",
      "dropout_2 (Dropout)          (None, 14, 14, 256)       0         \n",
      "_________________________________________________________________\n",
      "flatten (Flatten)            (None, 50176)             0         \n",
      "_________________________________________________________________\n",
      "dense (Dense)                (None, 512)               25690624  \n",
      "_________________________________________________________________\n",
      "dense_1 (Dense)              (None, 256)               131328    \n",
      "_________________________________________________________________\n",
      "dense_2 (Dense)              (None, 128)               32896     \n",
      "_________________________________________________________________\n",
      "dense_3 (Dense)              (None, 2)                 258       \n",
      "=================================================================\n",
      "Total params: 26,743,938\n",
      "Trainable params: 26,743,938\n",
      "Non-trainable params: 0\n",
      "_________________________________________________________________\n"
     ]
    }
   ],
   "source": [
    "tensorflow.keras.backend.clear_session()\n",
    "model1=Sequential()\n",
    "\n",
    "model1.add(Conv2D(128,(3,3),input_shape=(128,128,3),activation='relu'))\n",
    "model1.add(MaxPooling2D((2,2)))\n",
    "model1.add(Dropout(0.20))\n",
    "\n",
    "model1.add(Conv2D(256,(3,3),activation='relu'))\n",
    "model1.add(MaxPooling2D((2,2)))\n",
    "model1.add(Dropout(0.20))\n",
    "\n",
    "model1.add(Conv2D(256,(3,3),activation='relu'))\n",
    "model1.add(MaxPooling2D((2,2)))\n",
    "model1.add(Dropout(0.20))\n",
    "\n",
    "model1.add(Flatten())\n",
    "\n",
    "model1.add(Dense(512,activation=\"relu\"))\n",
    "model1.add(Dense(256,activation=\"relu\"))\n",
    "model1.add(Dense(128,activation=\"relu\"))\n",
    "model1.add(Dense(2,activation=\"softmax\"))\n",
    "\n",
    "model1.summary()"
   ]
  },
  {
   "cell_type": "code",
   "execution_count": 53,
   "metadata": {
    "id": "UwqA1Bmc6acr"
   },
   "outputs": [],
   "source": [
    "model1.compile(optimizer=\"adam\",metrics=[\"accuracy\"],loss='categorical_crossentropy')"
   ]
  },
  {
   "cell_type": "code",
   "execution_count": 54,
   "metadata": {
    "colab": {
     "base_uri": "https://localhost:8080/"
    },
    "id": "OFRVkBdnHbW4",
    "outputId": "9112d7ba-f7d2-4b90-cb3d-2114a4094faf"
   },
   "outputs": [
    {
     "name": "stdout",
     "output_type": "stream",
     "text": [
      "Epoch 1/30\n",
      "6/6 [==============================] - 1s 148ms/step - loss: 1.1231 - accuracy: 0.4317 - val_loss: 0.6926 - val_accuracy: 0.5645\n",
      "Epoch 2/30\n",
      "6/6 [==============================] - 1s 110ms/step - loss: 0.6932 - accuracy: 0.5191 - val_loss: 0.6923 - val_accuracy: 0.6129\n",
      "Epoch 3/30\n",
      "6/6 [==============================] - 1s 112ms/step - loss: 0.6906 - accuracy: 0.6503 - val_loss: 0.6785 - val_accuracy: 0.7419\n",
      "Epoch 4/30\n",
      "6/6 [==============================] - 1s 111ms/step - loss: 0.6905 - accuracy: 0.6667 - val_loss: 0.6786 - val_accuracy: 0.7419\n",
      "Epoch 5/30\n",
      "6/6 [==============================] - 1s 112ms/step - loss: 0.6557 - accuracy: 0.6230 - val_loss: 0.6024 - val_accuracy: 0.8710\n",
      "Epoch 6/30\n",
      "6/6 [==============================] - 1s 112ms/step - loss: 0.5014 - accuracy: 0.7705 - val_loss: 0.4010 - val_accuracy: 0.8065\n",
      "Epoch 7/30\n",
      "6/6 [==============================] - 1s 112ms/step - loss: 0.4694 - accuracy: 0.8634 - val_loss: 0.3476 - val_accuracy: 0.8548\n",
      "Epoch 8/30\n",
      "6/6 [==============================] - 1s 110ms/step - loss: 0.3282 - accuracy: 0.8962 - val_loss: 0.3663 - val_accuracy: 0.8226\n",
      "Epoch 9/30\n",
      "6/6 [==============================] - 1s 111ms/step - loss: 0.3149 - accuracy: 0.9126 - val_loss: 0.3931 - val_accuracy: 0.8226\n",
      "Epoch 10/30\n",
      "6/6 [==============================] - 1s 112ms/step - loss: 0.2443 - accuracy: 0.9126 - val_loss: 0.3829 - val_accuracy: 0.8387\n",
      "Epoch 11/30\n",
      "6/6 [==============================] - 1s 110ms/step - loss: 0.2223 - accuracy: 0.9180 - val_loss: 0.4491 - val_accuracy: 0.8548\n",
      "Epoch 12/30\n",
      "6/6 [==============================] - 1s 112ms/step - loss: 0.1885 - accuracy: 0.9290 - val_loss: 0.4306 - val_accuracy: 0.8226\n",
      "Epoch 13/30\n",
      "6/6 [==============================] - 1s 111ms/step - loss: 0.1575 - accuracy: 0.9508 - val_loss: 0.4299 - val_accuracy: 0.8065\n",
      "Epoch 14/30\n",
      "6/6 [==============================] - 1s 112ms/step - loss: 0.1123 - accuracy: 0.9563 - val_loss: 0.5375 - val_accuracy: 0.8387\n",
      "Epoch 15/30\n",
      "6/6 [==============================] - 1s 110ms/step - loss: 0.1138 - accuracy: 0.9563 - val_loss: 0.5586 - val_accuracy: 0.8548\n",
      "Epoch 16/30\n",
      "6/6 [==============================] - 1s 110ms/step - loss: 0.0737 - accuracy: 0.9781 - val_loss: 0.7110 - val_accuracy: 0.8387\n",
      "Epoch 17/30\n",
      "6/6 [==============================] - 1s 110ms/step - loss: 0.0676 - accuracy: 0.9891 - val_loss: 0.7102 - val_accuracy: 0.8065\n",
      "Epoch 18/30\n",
      "6/6 [==============================] - 1s 112ms/step - loss: 0.0524 - accuracy: 0.9836 - val_loss: 0.9957 - val_accuracy: 0.8548\n",
      "Epoch 19/30\n",
      "6/6 [==============================] - 1s 114ms/step - loss: 0.0413 - accuracy: 0.9891 - val_loss: 1.1298 - val_accuracy: 0.8548\n",
      "Epoch 20/30\n",
      "6/6 [==============================] - 1s 111ms/step - loss: 0.0408 - accuracy: 0.9891 - val_loss: 1.1372 - val_accuracy: 0.8387\n",
      "Epoch 21/30\n",
      "6/6 [==============================] - 1s 112ms/step - loss: 0.0356 - accuracy: 0.9945 - val_loss: 1.1459 - val_accuracy: 0.8387\n",
      "Epoch 22/30\n",
      "6/6 [==============================] - 1s 113ms/step - loss: 0.0264 - accuracy: 0.9945 - val_loss: 1.2726 - val_accuracy: 0.8387\n",
      "Epoch 23/30\n",
      "6/6 [==============================] - 1s 112ms/step - loss: 0.0213 - accuracy: 0.9945 - val_loss: 1.5031 - val_accuracy: 0.8710\n",
      "Epoch 24/30\n",
      "6/6 [==============================] - 1s 111ms/step - loss: 0.1314 - accuracy: 0.9781 - val_loss: 0.9708 - val_accuracy: 0.8226\n",
      "Epoch 25/30\n",
      "6/6 [==============================] - 1s 109ms/step - loss: 0.2717 - accuracy: 0.9454 - val_loss: 1.2962 - val_accuracy: 0.8226\n",
      "Epoch 26/30\n",
      "6/6 [==============================] - 1s 112ms/step - loss: 0.2060 - accuracy: 0.9727 - val_loss: 0.7569 - val_accuracy: 0.7742\n",
      "Epoch 27/30\n",
      "6/6 [==============================] - 1s 112ms/step - loss: 0.1344 - accuracy: 0.9617 - val_loss: 0.8903 - val_accuracy: 0.8065\n",
      "Epoch 28/30\n",
      "6/6 [==============================] - 1s 112ms/step - loss: 0.1233 - accuracy: 0.9563 - val_loss: 1.0288 - val_accuracy: 0.8065\n",
      "Epoch 29/30\n",
      "6/6 [==============================] - 1s 110ms/step - loss: 0.0928 - accuracy: 0.9727 - val_loss: 0.6646 - val_accuracy: 0.8065\n",
      "Epoch 30/30\n",
      "6/6 [==============================] - 1s 109ms/step - loss: 0.0670 - accuracy: 0.9836 - val_loss: 0.7317 - val_accuracy: 0.8226\n"
     ]
    }
   ],
   "source": [
    "train_hist=model1.fit(x_train,y_train,validation_data=(x_test,y_test),epochs=30,batch_size=32)"
   ]
  },
  {
   "cell_type": "code",
   "execution_count": 55,
   "metadata": {
    "colab": {
     "base_uri": "https://localhost:8080/"
    },
    "id": "OHwdU8qq6pNe",
    "outputId": "519fdee4-8675-4965-8242-49bfe3f05b65"
   },
   "outputs": [
    {
     "name": "stdout",
     "output_type": "stream",
     "text": [
      "2/2 [==============================] - 0s 30ms/step - loss: 0.7317 - accuracy: 0.8226\n"
     ]
    },
    {
     "data": {
      "text/plain": [
       "[0.7316803336143494, 0.8225806355476379]"
      ]
     },
     "execution_count": 55,
     "metadata": {
      "tags": []
     },
     "output_type": "execute_result"
    }
   ],
   "source": [
    "model1.evaluate(x_test,y_test)"
   ]
  },
  {
   "cell_type": "code",
   "execution_count": 56,
   "metadata": {
    "colab": {
     "base_uri": "https://localhost:8080/"
    },
    "id": "GYPagogx6zir",
    "outputId": "17f550dc-2b48-4391-fa77-cef262e2ec3b"
   },
   "outputs": [
    {
     "name": "stdout",
     "output_type": "stream",
     "text": [
      "Model: \"sequential\"\n",
      "_________________________________________________________________\n",
      "Layer (type)                 Output Shape              Param #   \n",
      "=================================================================\n",
      "conv2d (Conv2D)              (None, 126, 126, 128)     3584      \n",
      "_________________________________________________________________\n",
      "max_pooling2d (MaxPooling2D) (None, 63, 63, 128)       0         \n",
      "_________________________________________________________________\n",
      "dropout (Dropout)            (None, 63, 63, 128)       0         \n",
      "_________________________________________________________________\n",
      "conv2d_1 (Conv2D)            (None, 61, 61, 256)       295168    \n",
      "_________________________________________________________________\n",
      "max_pooling2d_1 (MaxPooling2 (None, 30, 30, 256)       0         \n",
      "_________________________________________________________________\n",
      "dropout_1 (Dropout)          (None, 30, 30, 256)       0         \n",
      "_________________________________________________________________\n",
      "conv2d_2 (Conv2D)            (None, 28, 28, 256)       590080    \n",
      "_________________________________________________________________\n",
      "max_pooling2d_2 (MaxPooling2 (None, 14, 14, 256)       0         \n",
      "_________________________________________________________________\n",
      "dropout_2 (Dropout)          (None, 14, 14, 256)       0         \n",
      "_________________________________________________________________\n",
      "conv2d_3 (Conv2D)            (None, 12, 12, 128)       295040    \n",
      "_________________________________________________________________\n",
      "max_pooling2d_3 (MaxPooling2 (None, 6, 6, 128)         0         \n",
      "_________________________________________________________________\n",
      "dropout_3 (Dropout)          (None, 6, 6, 128)         0         \n",
      "_________________________________________________________________\n",
      "flatten (Flatten)            (None, 4608)              0         \n",
      "_________________________________________________________________\n",
      "dense (Dense)                (None, 256)               1179904   \n",
      "_________________________________________________________________\n",
      "dense_1 (Dense)              (None, 128)               32896     \n",
      "_________________________________________________________________\n",
      "dense_2 (Dense)              (None, 2)                 258       \n",
      "=================================================================\n",
      "Total params: 2,396,930\n",
      "Trainable params: 2,396,930\n",
      "Non-trainable params: 0\n",
      "_________________________________________________________________\n"
     ]
    }
   ],
   "source": [
    "tensorflow.keras.backend.clear_session()\n",
    "model2=Sequential()\n",
    "\n",
    "model2.add(Conv2D(128,(3,3),input_shape=(128,128,3),activation='relu'))\n",
    "model2.add(MaxPooling2D((2,2)))\n",
    "model2.add(Dropout(0.20))\n",
    "\n",
    "model2.add(Conv2D(256,(3,3),activation='relu'))\n",
    "model2.add(MaxPooling2D((2,2)))\n",
    "model2.add(Dropout(0.20))\n",
    "\n",
    "model2.add(Conv2D(256,(3,3),activation='relu'))\n",
    "model2.add(MaxPooling2D((2,2)))\n",
    "model2.add(Dropout(0.20))\n",
    "\n",
    "model2.add(Conv2D(128,(3,3),activation='relu'))\n",
    "model2.add(MaxPooling2D((2,2)))\n",
    "model2.add(Dropout(0.20))\n",
    "\n",
    "model2.add(Flatten())\n",
    "\n",
    "model2.add(Dense(256,activation=\"relu\"))\n",
    "model2.add(Dense(128,activation=\"relu\"))\n",
    "model2.add(Dense(2,activation=\"softmax\"))\n",
    "\n",
    "model2.summary()"
   ]
  },
  {
   "cell_type": "code",
   "execution_count": 57,
   "metadata": {
    "id": "hPtvkN9E7KJ5"
   },
   "outputs": [],
   "source": [
    "model2.compile(optimizer=\"adam\",metrics=[\"accuracy\"],loss='categorical_crossentropy')"
   ]
  },
  {
   "cell_type": "code",
   "execution_count": 58,
   "metadata": {
    "colab": {
     "base_uri": "https://localhost:8080/"
    },
    "id": "oXEt7Zw67OSE",
    "outputId": "45876664-2102-438a-e00c-8910fbb58ff6"
   },
   "outputs": [
    {
     "name": "stdout",
     "output_type": "stream",
     "text": [
      "Epoch 1/30\n",
      "6/6 [==============================] - 2s 163ms/step - loss: 0.7630 - accuracy: 0.5246 - val_loss: 0.6989 - val_accuracy: 0.4032\n",
      "Epoch 2/30\n",
      "6/6 [==============================] - 1s 104ms/step - loss: 0.6919 - accuracy: 0.5246 - val_loss: 0.7044 - val_accuracy: 0.4032\n",
      "Epoch 3/30\n",
      "6/6 [==============================] - 1s 103ms/step - loss: 0.6967 - accuracy: 0.4372 - val_loss: 0.6919 - val_accuracy: 0.5323\n",
      "Epoch 4/30\n",
      "6/6 [==============================] - 1s 104ms/step - loss: 0.6894 - accuracy: 0.6066 - val_loss: 0.6969 - val_accuracy: 0.4032\n",
      "Epoch 5/30\n",
      "6/6 [==============================] - 1s 104ms/step - loss: 0.6767 - accuracy: 0.5738 - val_loss: 0.6832 - val_accuracy: 0.5806\n",
      "Epoch 6/30\n",
      "6/6 [==============================] - 1s 104ms/step - loss: 0.6053 - accuracy: 0.7486 - val_loss: 0.5330 - val_accuracy: 0.8065\n",
      "Epoch 7/30\n",
      "6/6 [==============================] - 1s 103ms/step - loss: 0.4925 - accuracy: 0.8197 - val_loss: 0.4562 - val_accuracy: 0.8226\n",
      "Epoch 8/30\n",
      "6/6 [==============================] - 1s 104ms/step - loss: 0.4167 - accuracy: 0.8306 - val_loss: 0.4733 - val_accuracy: 0.8065\n",
      "Epoch 9/30\n",
      "6/6 [==============================] - 1s 106ms/step - loss: 0.4003 - accuracy: 0.8689 - val_loss: 0.4434 - val_accuracy: 0.7742\n",
      "Epoch 10/30\n",
      "6/6 [==============================] - 1s 103ms/step - loss: 0.4125 - accuracy: 0.8415 - val_loss: 0.4323 - val_accuracy: 0.8065\n",
      "Epoch 11/30\n",
      "6/6 [==============================] - 1s 104ms/step - loss: 0.3544 - accuracy: 0.9071 - val_loss: 0.4296 - val_accuracy: 0.8226\n",
      "Epoch 12/30\n",
      "6/6 [==============================] - 1s 102ms/step - loss: 0.3440 - accuracy: 0.8907 - val_loss: 0.4395 - val_accuracy: 0.8387\n",
      "Epoch 13/30\n",
      "6/6 [==============================] - 1s 105ms/step - loss: 0.2358 - accuracy: 0.9235 - val_loss: 0.3755 - val_accuracy: 0.8710\n",
      "Epoch 14/30\n",
      "6/6 [==============================] - 1s 103ms/step - loss: 0.2247 - accuracy: 0.9235 - val_loss: 0.4605 - val_accuracy: 0.8548\n",
      "Epoch 15/30\n",
      "6/6 [==============================] - 1s 106ms/step - loss: 0.1976 - accuracy: 0.9290 - val_loss: 0.4195 - val_accuracy: 0.8710\n",
      "Epoch 16/30\n",
      "6/6 [==============================] - 1s 104ms/step - loss: 0.1633 - accuracy: 0.9454 - val_loss: 0.4908 - val_accuracy: 0.8548\n",
      "Epoch 17/30\n",
      "6/6 [==============================] - 1s 104ms/step - loss: 0.1633 - accuracy: 0.9617 - val_loss: 0.6830 - val_accuracy: 0.7903\n",
      "Epoch 18/30\n",
      "6/6 [==============================] - 1s 104ms/step - loss: 0.3654 - accuracy: 0.8798 - val_loss: 0.5616 - val_accuracy: 0.8387\n",
      "Epoch 19/30\n",
      "6/6 [==============================] - 1s 103ms/step - loss: 0.2074 - accuracy: 0.9344 - val_loss: 0.6969 - val_accuracy: 0.8871\n",
      "Epoch 20/30\n",
      "6/6 [==============================] - 1s 104ms/step - loss: 0.2147 - accuracy: 0.9071 - val_loss: 0.6088 - val_accuracy: 0.8065\n",
      "Epoch 21/30\n",
      "6/6 [==============================] - 1s 103ms/step - loss: 0.1557 - accuracy: 0.9454 - val_loss: 0.6774 - val_accuracy: 0.8710\n",
      "Epoch 22/30\n",
      "6/6 [==============================] - 1s 107ms/step - loss: 0.1056 - accuracy: 0.9672 - val_loss: 0.5573 - val_accuracy: 0.8065\n",
      "Epoch 23/30\n",
      "6/6 [==============================] - 1s 103ms/step - loss: 0.0834 - accuracy: 0.9672 - val_loss: 0.6847 - val_accuracy: 0.8226\n",
      "Epoch 24/30\n",
      "6/6 [==============================] - 1s 103ms/step - loss: 0.0913 - accuracy: 0.9836 - val_loss: 0.8020 - val_accuracy: 0.8226\n",
      "Epoch 25/30\n",
      "6/6 [==============================] - 1s 105ms/step - loss: 0.0595 - accuracy: 0.9781 - val_loss: 1.1156 - val_accuracy: 0.8226\n",
      "Epoch 26/30\n",
      "6/6 [==============================] - 1s 102ms/step - loss: 0.0942 - accuracy: 0.9781 - val_loss: 0.6813 - val_accuracy: 0.7581\n",
      "Epoch 27/30\n",
      "6/6 [==============================] - 1s 103ms/step - loss: 0.1294 - accuracy: 0.9781 - val_loss: 0.9176 - val_accuracy: 0.8548\n",
      "Epoch 28/30\n",
      "6/6 [==============================] - 1s 103ms/step - loss: 0.0933 - accuracy: 0.9727 - val_loss: 1.0021 - val_accuracy: 0.8065\n",
      "Epoch 29/30\n",
      "6/6 [==============================] - 1s 104ms/step - loss: 0.0900 - accuracy: 0.9781 - val_loss: 1.0026 - val_accuracy: 0.8710\n",
      "Epoch 30/30\n",
      "6/6 [==============================] - 1s 103ms/step - loss: 0.0487 - accuracy: 0.9891 - val_loss: 0.8872 - val_accuracy: 0.8226\n"
     ]
    }
   ],
   "source": [
    "train_hist=model2.fit(x_train,y_train,validation_data=(x_test,y_test),epochs=30,batch_size=32)"
   ]
  },
  {
   "cell_type": "code",
   "execution_count": 59,
   "metadata": {
    "colab": {
     "base_uri": "https://localhost:8080/"
    },
    "id": "j37lrEIh7XBV",
    "outputId": "39be1929-da68-43a3-bc18-accb5b0e5056"
   },
   "outputs": [
    {
     "name": "stdout",
     "output_type": "stream",
     "text": [
      "2/2 [==============================] - 0s 30ms/step - loss: 0.8872 - accuracy: 0.8226\n"
     ]
    },
    {
     "data": {
      "text/plain": [
       "[0.8871797323226929, 0.8225806355476379]"
      ]
     },
     "execution_count": 59,
     "metadata": {
      "tags": []
     },
     "output_type": "execute_result"
    }
   ],
   "source": [
    "model2.evaluate(x_test,y_test)"
   ]
  }
 ],
 "metadata": {
  "accelerator": "GPU",
  "colab": {
   "collapsed_sections": [],
   "name": "R7 CV with CNN Lab Question Notebook.ipynb",
   "provenance": []
  },
  "kernelspec": {
   "display_name": "Python 3",
   "language": "python",
   "name": "python3"
  },
  "language_info": {
   "codemirror_mode": {
    "name": "ipython",
    "version": 3
   },
   "file_extension": ".py",
   "mimetype": "text/x-python",
   "name": "python",
   "nbconvert_exporter": "python",
   "pygments_lexer": "ipython3",
   "version": "3.8.3"
  }
 },
 "nbformat": 4,
 "nbformat_minor": 1
}

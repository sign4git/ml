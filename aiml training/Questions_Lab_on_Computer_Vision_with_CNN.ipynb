{
 "cells": [
  {
   "cell_type": "markdown",
   "metadata": {
    "id": "MyfMmMnPJjvn"
   },
   "source": [
    "## Train a simple convnet on the Fashion MNIST dataset"
   ]
  },
  {
   "cell_type": "markdown",
   "metadata": {
    "id": "zjcGOJhcJjvp"
   },
   "source": [
    "In this, we will see how to deal with image data and train a convnet for image classification task."
   ]
  },
  {
   "cell_type": "markdown",
   "metadata": {
    "id": "jR0Pl2XjJjvq"
   },
   "source": [
    "### Load the  `fashion_mnist`  dataset\n",
    "\n",
    "** Use keras.datasets to load the dataset **"
   ]
  },
  {
   "cell_type": "code",
   "execution_count": 1,
   "metadata": {
    "colab": {
     "base_uri": "https://localhost:8080/"
    },
    "id": "Qr75v_UYJjvs",
    "outputId": "75f9b449-83a9-40b8-c5b2-b6aaa71d5d55"
   },
   "outputs": [
    {
     "name": "stdout",
     "output_type": "stream",
     "text": [
      "Downloading data from https://storage.googleapis.com/tensorflow/tf-keras-datasets/train-labels-idx1-ubyte.gz\n",
      "32768/29515 [=================================] - 0s 0us/step\n",
      "Downloading data from https://storage.googleapis.com/tensorflow/tf-keras-datasets/train-images-idx3-ubyte.gz\n",
      "26427392/26421880 [==============================] - 1s 0us/step\n",
      "Downloading data from https://storage.googleapis.com/tensorflow/tf-keras-datasets/t10k-labels-idx1-ubyte.gz\n",
      "8192/5148 [===============================================] - 0s 0us/step\n",
      "Downloading data from https://storage.googleapis.com/tensorflow/tf-keras-datasets/t10k-images-idx3-ubyte.gz\n",
      "4423680/4422102 [==============================] - 0s 0us/step\n"
     ]
    }
   ],
   "source": [
    "from keras.datasets import fashion_mnist\n",
    "(x_train, y_train), (x_test, y_test) = fashion_mnist.load_data()"
   ]
  },
  {
   "cell_type": "code",
   "execution_count": 1,
   "metadata": {
    "id": "72mmB_74WjOq"
   },
   "outputs": [],
   "source": []
  },
  {
   "cell_type": "code",
   "execution_count": 2,
   "metadata": {
    "colab": {
     "base_uri": "https://localhost:8080/",
     "height": 300
    },
    "id": "8FWHTQRPWjQs",
    "outputId": "66156804-2876-44b0-e59e-bdc6dd2601a4"
   },
   "outputs": [
    {
     "name": "stdout",
     "output_type": "stream",
     "text": [
      "Label: 9\n"
     ]
    },
    {
     "data": {
      "text/plain": [
       "<matplotlib.image.AxesImage at 0x7f205f55c0b8>"
      ]
     },
     "execution_count": 2,
     "metadata": {
      "tags": []
     },
     "output_type": "execute_result"
    },
    {
     "data": {
      "image/png": "[encoded data removed]",
      "text/plain": [
       "<Figure size 432x288 with 1 Axes>"
      ]
     },
     "metadata": {
      "needs_background": "light",
      "tags": []
     },
     "output_type": "display_data"
    }
   ],
   "source": [
    "import matplotlib.pyplot as plt\n",
    "%matplotlib inline\n",
    "print(\"Label: {}\".format(y_train[0]))\n",
    "plt.imshow(x_train[0], cmap='gray')"
   ]
  },
  {
   "cell_type": "markdown",
   "metadata": {
    "id": "hTI42-0qJjvw"
   },
   "source": [
    "### Find no.of samples are there in training and test datasets"
   ]
  },
  {
   "cell_type": "code",
   "execution_count": 3,
   "metadata": {
    "colab": {
     "base_uri": "https://localhost:8080/"
    },
    "id": "g2sf67VoJjvx",
    "outputId": "e2a27ffc-59b5-455e-fc12-b9105e1b6d5a"
   },
   "outputs": [
    {
     "data": {
      "text/plain": [
       "60000"
      ]
     },
     "execution_count": 3,
     "metadata": {
      "tags": []
     },
     "output_type": "execute_result"
    }
   ],
   "source": [
    "x_train.shape[0]"
   ]
  },
  {
   "cell_type": "code",
   "execution_count": 4,
   "metadata": {
    "colab": {
     "base_uri": "https://localhost:8080/"
    },
    "id": "zewyDcBlJjv1",
    "outputId": "fb4a708e-0389-4158-817c-3a64dfd4a8e7"
   },
   "outputs": [
    {
     "data": {
      "text/plain": [
       "10000"
      ]
     },
     "execution_count": 4,
     "metadata": {
      "tags": []
     },
     "output_type": "execute_result"
    }
   ],
   "source": [
    "x_test.shape[0]"
   ]
  },
  {
   "cell_type": "markdown",
   "metadata": {
    "id": "WytT2eRnJjv4"
   },
   "source": [
    "### Find dimensions of an image in the dataset"
   ]
  },
  {
   "cell_type": "code",
   "execution_count": 5,
   "metadata": {
    "colab": {
     "base_uri": "https://localhost:8080/"
    },
    "id": "XycQGBSGJjv5",
    "outputId": "fe7bdaff-1a67-4208-af9c-19bf062420bd"
   },
   "outputs": [
    {
     "data": {
      "text/plain": [
       "(60000, 28, 28)"
      ]
     },
     "execution_count": 5,
     "metadata": {
      "tags": []
     },
     "output_type": "execute_result"
    }
   ],
   "source": [
    "x_train.shape"
   ]
  },
  {
   "cell_type": "code",
   "execution_count": 6,
   "metadata": {
    "colab": {
     "base_uri": "https://localhost:8080/"
    },
    "id": "xnsmHO6rQxOX",
    "outputId": "8e3def24-65da-49dc-a175-54a7cd0a0fd3"
   },
   "outputs": [
    {
     "data": {
      "text/plain": [
       "(28, 28)"
      ]
     },
     "execution_count": 6,
     "metadata": {
      "tags": []
     },
     "output_type": "execute_result"
    }
   ],
   "source": [
    "x_train.shape[-2:]"
   ]
  },
  {
   "cell_type": "code",
   "execution_count": 7,
   "metadata": {
    "colab": {
     "base_uri": "https://localhost:8080/"
    },
    "id": "a8vXTOhmQFLz",
    "outputId": "5eb32908-6838-40b8-8692-b895a805ac73"
   },
   "outputs": [
    {
     "data": {
      "text/plain": [
       "(10000, 28, 28)"
      ]
     },
     "execution_count": 7,
     "metadata": {
      "tags": []
     },
     "output_type": "execute_result"
    }
   ],
   "source": [
    "x_test.shape"
   ]
  },
  {
   "cell_type": "code",
   "execution_count": 8,
   "metadata": {
    "colab": {
     "base_uri": "https://localhost:8080/"
    },
    "id": "MSlKm4y_RBF5",
    "outputId": "5d39a079-aed2-4d5b-f450-d0160f2c39b0"
   },
   "outputs": [
    {
     "data": {
      "text/plain": [
       "(28, 28)"
      ]
     },
     "execution_count": 8,
     "metadata": {
      "tags": []
     },
     "output_type": "execute_result"
    }
   ],
   "source": [
    "x_train.shape[-2:]"
   ]
  },
  {
   "cell_type": "code",
   "execution_count": 9,
   "metadata": {
    "id": "yDApAKqNQHIw"
   },
   "outputs": [],
   "source": [
    "#The dimension of an image in the dataset is 28x28"
   ]
  },
  {
   "cell_type": "markdown",
   "metadata": {
    "id": "5jtdZ7RqJjv8"
   },
   "source": [
    "### Convert train and test labels to one hot vectors\n",
    "\n",
    "** check `keras.utils.to_categorical()` **"
   ]
  },
  {
   "cell_type": "code",
   "execution_count": 10,
   "metadata": {
    "colab": {
     "base_uri": "https://localhost:8080/"
    },
    "id": "sAD3q5I6Jjv9",
    "outputId": "cfe92e2c-7394-4bc9-cca3-afec7ca33ea3"
   },
   "outputs": [
    {
     "name": "stdout",
     "output_type": "stream",
     "text": [
      "Shape of y_train: (60000, 10)\n",
      "One value of y_train: [0. 0. 0. 0. 0. 0. 0. 0. 0. 1.]\n"
     ]
    }
   ],
   "source": [
    "from tensorflow.keras.utils import to_categorical\n",
    "\n",
    "y_train = to_categorical(y_train, num_classes=10)\n",
    "y_test = to_categorical(y_test, num_classes=10)\n",
    "\n",
    "print(\"Shape of y_train:\", y_train.shape)\n",
    "print(\"One value of y_train:\", y_train[0])"
   ]
  },
  {
   "cell_type": "code",
   "execution_count": 11,
   "metadata": {
    "colab": {
     "base_uri": "https://localhost:8080/"
    },
    "id": "mgHSCXy3JjwA",
    "outputId": "7f4dc359-78a8-4f23-c82a-dd0a8a41164e"
   },
   "outputs": [
    {
     "data": {
      "text/plain": [
       "array([[0., 0., 0., ..., 0., 0., 1.],\n",
       "       [1., 0., 0., ..., 0., 0., 0.],\n",
       "       [1., 0., 0., ..., 0., 0., 0.],\n",
       "       ...,\n",
       "       [0., 0., 0., ..., 0., 0., 0.],\n",
       "       [1., 0., 0., ..., 0., 0., 0.],\n",
       "       [0., 0., 0., ..., 0., 0., 0.]], dtype=float32)"
      ]
     },
     "execution_count": 11,
     "metadata": {
      "tags": []
     },
     "output_type": "execute_result"
    }
   ],
   "source": [
    "y_train"
   ]
  },
  {
   "cell_type": "markdown",
   "metadata": {
    "id": "xO5BRBzBJjwD"
   },
   "source": [
    "### Normalize both the train and test image data from 0-255 to 0-1"
   ]
  },
  {
   "cell_type": "code",
   "execution_count": 12,
   "metadata": {
    "id": "3fUQpMHxJjwE"
   },
   "outputs": [],
   "source": [
    "x_train = x_train.astype('float32')\n",
    "x_test = x_test.astype('float32')\n",
    "\n",
    "x_train = x_train/255\n",
    "x_test = x_test/255"
   ]
  },
  {
   "cell_type": "code",
   "execution_count": 13,
   "metadata": {
    "colab": {
     "base_uri": "https://localhost:8080/"
    },
    "id": "Okwo_SB5JjwI",
    "outputId": "3ebb5139-fe26-4e61-e262-ad10e0e07297"
   },
   "outputs": [
    {
     "data": {
      "text/plain": [
       "array([[[0., 0., 0., ..., 0., 0., 0.],\n",
       "        [0., 0., 0., ..., 0., 0., 0.],\n",
       "        [0., 0., 0., ..., 0., 0., 0.],\n",
       "        ...,\n",
       "        [0., 0., 0., ..., 0., 0., 0.],\n",
       "        [0., 0., 0., ..., 0., 0., 0.],\n",
       "        [0., 0., 0., ..., 0., 0., 0.]],\n",
       "\n",
       "       [[0., 0., 0., ..., 0., 0., 0.],\n",
       "        [0., 0., 0., ..., 0., 0., 0.],\n",
       "        [0., 0., 0., ..., 0., 0., 0.],\n",
       "        ...,\n",
       "        [0., 0., 0., ..., 0., 0., 0.],\n",
       "        [0., 0., 0., ..., 0., 0., 0.],\n",
       "        [0., 0., 0., ..., 0., 0., 0.]],\n",
       "\n",
       "       [[0., 0., 0., ..., 0., 0., 0.],\n",
       "        [0., 0., 0., ..., 0., 0., 0.],\n",
       "        [0., 0., 0., ..., 0., 0., 0.],\n",
       "        ...,\n",
       "        [0., 0., 0., ..., 0., 0., 0.],\n",
       "        [0., 0., 0., ..., 0., 0., 0.],\n",
       "        [0., 0., 0., ..., 0., 0., 0.]],\n",
       "\n",
       "       ...,\n",
       "\n",
       "       [[0., 0., 0., ..., 0., 0., 0.],\n",
       "        [0., 0., 0., ..., 0., 0., 0.],\n",
       "        [0., 0., 0., ..., 0., 0., 0.],\n",
       "        ...,\n",
       "        [0., 0., 0., ..., 0., 0., 0.],\n",
       "        [0., 0., 0., ..., 0., 0., 0.],\n",
       "        [0., 0., 0., ..., 0., 0., 0.]],\n",
       "\n",
       "       [[0., 0., 0., ..., 0., 0., 0.],\n",
       "        [0., 0., 0., ..., 0., 0., 0.],\n",
       "        [0., 0., 0., ..., 0., 0., 0.],\n",
       "        ...,\n",
       "        [0., 0., 0., ..., 0., 0., 0.],\n",
       "        [0., 0., 0., ..., 0., 0., 0.],\n",
       "        [0., 0., 0., ..., 0., 0., 0.]],\n",
       "\n",
       "       [[0., 0., 0., ..., 0., 0., 0.],\n",
       "        [0., 0., 0., ..., 0., 0., 0.],\n",
       "        [0., 0., 0., ..., 0., 0., 0.],\n",
       "        ...,\n",
       "        [0., 0., 0., ..., 0., 0., 0.],\n",
       "        [0., 0., 0., ..., 0., 0., 0.],\n",
       "        [0., 0., 0., ..., 0., 0., 0.]]], dtype=float32)"
      ]
     },
     "execution_count": 13,
     "metadata": {
      "tags": []
     },
     "output_type": "execute_result"
    }
   ],
   "source": [
    "x_train"
   ]
  },
  {
   "cell_type": "markdown",
   "metadata": {
    "id": "da5-DwgrJjwM"
   },
   "source": [
    "### Reshape the data from 28x28 to 28x28x1 to match input dimensions in Conv2D layer in keras"
   ]
  },
  {
   "cell_type": "code",
   "execution_count": 14,
   "metadata": {
    "id": "LPGVQ-JJJjwN"
   },
   "outputs": [],
   "source": [
    "x_train=x_train.reshape(x_train.shape[0],28,28,1)\n",
    "x_test=x_test.reshape(x_test.shape[0],28,28,1)"
   ]
  },
  {
   "cell_type": "markdown",
   "metadata": {
    "id": "OFRRTJq8JjwQ"
   },
   "source": [
    "### Import the necessary layers from keras to build the model"
   ]
  },
  {
   "cell_type": "code",
   "execution_count": 15,
   "metadata": {
    "id": "dWTZYnKSJjwR"
   },
   "outputs": [],
   "source": [
    "from tensorflow import keras\n",
    "from keras.models import Sequential\n",
    "from keras.layers import Activation,Dense,Flatten,MaxPooling2D,Convolution2D,Dropout\n",
    "from keras.utils import np_utils"
   ]
  },
  {
   "cell_type": "markdown",
   "metadata": {
    "id": "C18AoS7eJjwU"
   },
   "source": [
    "### Build a model \n",
    "\n",
    "** with 2 Conv layers having `32 3x3 filters` in both convolutions with `relu activations` and `flatten` before passing the feature map into 2 fully connected layers (or Dense Layers) having 128 and 10 neurons with `relu` and `softmax` activations respectively. Now, using `categorical_crossentropy` loss with `adam` optimizer train the model with early stopping `patience=5` and no.of `epochs=10`. **"
   ]
  },
  {
   "cell_type": "code",
   "execution_count": 17,
   "metadata": {
    "colab": {
     "base_uri": "https://localhost:8080/"
    },
    "id": "DORCLgSwJjwV",
    "outputId": "9585e87a-3af6-4f0e-939f-7d628fdd0af3"
   },
   "outputs": [
    {
     "name": "stdout",
     "output_type": "stream",
     "text": [
      "Epoch 1/10\n",
      "120/120 [==============================] - 11s 40ms/step - loss: 0.7890 - accuracy: 0.7248 - val_loss: 0.3773 - val_accuracy: 0.8652\n",
      "Epoch 2/10\n",
      "120/120 [==============================] - 5s 39ms/step - loss: 0.3462 - accuracy: 0.8761 - val_loss: 0.3389 - val_accuracy: 0.8751\n",
      "Epoch 3/10\n",
      "120/120 [==============================] - 5s 39ms/step - loss: 0.2774 - accuracy: 0.9010 - val_loss: 0.3056 - val_accuracy: 0.8923\n",
      "Epoch 4/10\n",
      "120/120 [==============================] - 5s 38ms/step - loss: 0.2501 - accuracy: 0.9095 - val_loss: 0.2784 - val_accuracy: 0.8980\n",
      "Epoch 5/10\n",
      "120/120 [==============================] - 5s 38ms/step - loss: 0.2118 - accuracy: 0.9242 - val_loss: 0.2637 - val_accuracy: 0.9051\n",
      "Epoch 6/10\n",
      "120/120 [==============================] - 5s 39ms/step - loss: 0.1904 - accuracy: 0.9323 - val_loss: 0.2659 - val_accuracy: 0.9103\n",
      "Epoch 7/10\n",
      "120/120 [==============================] - 5s 39ms/step - loss: 0.1644 - accuracy: 0.9403 - val_loss: 0.2727 - val_accuracy: 0.9043\n",
      "Epoch 8/10\n",
      "120/120 [==============================] - 5s 39ms/step - loss: 0.1513 - accuracy: 0.9455 - val_loss: 0.2591 - val_accuracy: 0.9130\n",
      "Epoch 9/10\n",
      "120/120 [==============================] - 5s 39ms/step - loss: 0.1247 - accuracy: 0.9549 - val_loss: 0.2837 - val_accuracy: 0.9039\n",
      "Epoch 10/10\n",
      "120/120 [==============================] - 5s 39ms/step - loss: 0.1170 - accuracy: 0.9587 - val_loss: 0.2765 - val_accuracy: 0.9093\n"
     ]
    },
    {
     "data": {
      "text/plain": [
       "<tensorflow.python.keras.callbacks.History at 0x7f20500de160>"
      ]
     },
     "execution_count": 17,
     "metadata": {
      "tags": []
     },
     "output_type": "execute_result"
    }
   ],
   "source": [
    "model=Sequential()\n",
    "model.add(Convolution2D(filters=32, kernel_size=3, activation=\"relu\",input_shape=(28,28,1)))\n",
    "model.add(Convolution2D(filters=32, kernel_size=3, activation=\"relu\"))\n",
    "model.add(Flatten())\n",
    "model.add(Dense(128, activation=\"relu\"))\n",
    "model.add(Dense(10, activation=\"softmax\"))\n",
    "model.compile(loss=\"categorical_crossentropy\", metrics=[\"accuracy\"], optimizer=\"adam\")\n",
    "early_stopping = keras.callbacks.EarlyStopping(monitor='val_accuracy',patience=5,mode='auto',verbose=1)\n",
    "callback_list=[early_stopping]\n",
    "model.fit( x=x_train, y=y_train, batch_size=500, epochs=10, validation_data=(x_test,y_test),callbacks=callback_list)"
   ]
  },
  {
   "cell_type": "markdown",
   "metadata": {
    "id": "ju69vKdIJjwX"
   },
   "source": [
    "### Now, to the above model add `max` pooling layer of `filter size 2x2` and `dropout` layer with `p=0.25` after the 2 conv layers and run the model"
   ]
  },
  {
   "cell_type": "code",
   "execution_count": 18,
   "metadata": {
    "colab": {
     "base_uri": "https://localhost:8080/"
    },
    "id": "L2hAP94vJjwY",
    "outputId": "57c85c7a-ad3d-4e9f-c953-9357d5e4ad63"
   },
   "outputs": [
    {
     "name": "stdout",
     "output_type": "stream",
     "text": [
      "Epoch 1/10\n",
      "120/120 [==============================] - 5s 35ms/step - loss: 0.9445 - accuracy: 0.6774 - val_loss: 0.4382 - val_accuracy: 0.8468\n",
      "Epoch 2/10\n",
      "120/120 [==============================] - 4s 34ms/step - loss: 0.4060 - accuracy: 0.8563 - val_loss: 0.3753 - val_accuracy: 0.8652\n",
      "Epoch 3/10\n",
      "120/120 [==============================] - 4s 34ms/step - loss: 0.3378 - accuracy: 0.8799 - val_loss: 0.3213 - val_accuracy: 0.8859\n",
      "Epoch 4/10\n",
      "120/120 [==============================] - 4s 33ms/step - loss: 0.2992 - accuracy: 0.8914 - val_loss: 0.2944 - val_accuracy: 0.8924\n",
      "Epoch 5/10\n",
      "120/120 [==============================] - 4s 34ms/step - loss: 0.2712 - accuracy: 0.9023 - val_loss: 0.2810 - val_accuracy: 0.8984\n",
      "Epoch 6/10\n",
      "120/120 [==============================] - 4s 34ms/step - loss: 0.2532 - accuracy: 0.9081 - val_loss: 0.2648 - val_accuracy: 0.9041\n",
      "Epoch 7/10\n",
      "120/120 [==============================] - 4s 34ms/step - loss: 0.2406 - accuracy: 0.9127 - val_loss: 0.2669 - val_accuracy: 0.9034\n",
      "Epoch 8/10\n",
      "120/120 [==============================] - 4s 34ms/step - loss: 0.2214 - accuracy: 0.9192 - val_loss: 0.2440 - val_accuracy: 0.9117\n",
      "Epoch 9/10\n",
      "120/120 [==============================] - 4s 34ms/step - loss: 0.2019 - accuracy: 0.9267 - val_loss: 0.2449 - val_accuracy: 0.9114\n",
      "Epoch 10/10\n",
      "120/120 [==============================] - 4s 34ms/step - loss: 0.1950 - accuracy: 0.9296 - val_loss: 0.2327 - val_accuracy: 0.9163\n"
     ]
    },
    {
     "data": {
      "text/plain": [
       "<tensorflow.python.keras.callbacks.History at 0x7f2006ebe550>"
      ]
     },
     "execution_count": 18,
     "metadata": {
      "tags": []
     },
     "output_type": "execute_result"
    }
   ],
   "source": [
    "model2=Sequential()\n",
    "model2.add(Convolution2D(filters=32, kernel_size=3, activation=\"relu\",input_shape=(28,28,1)))\n",
    "model2.add(Convolution2D(filters=32, kernel_size=3, activation=\"relu\"))\n",
    "model2.add(MaxPooling2D(2,2))\n",
    "model2.add(Dropout(0.25))\n",
    "model2.add(Flatten())\n",
    "model2.add(Dense(128, activation=\"relu\"))\n",
    "model2.add(Dense(10, activation=\"softmax\"))\n",
    "model2.compile(loss=\"categorical_crossentropy\", metrics=[\"accuracy\"], optimizer=\"adam\")\n",
    "early_stopping = keras.callbacks.EarlyStopping(monitor='val_accuracy',patience=5,mode='auto',verbose=1)\n",
    "callback_list=[early_stopping]\n",
    "model2.fit( x=x_train, y=y_train, batch_size=500, epochs=10, validation_data=(x_test,y_test),callbacks=callback_list)"
   ]
  },
  {
   "cell_type": "markdown",
   "metadata": {
    "id": "lGTA3bfEJjwa"
   },
   "source": [
    "### Now, to the above model, lets add Data Augmentation "
   ]
  },
  {
   "cell_type": "markdown",
   "metadata": {
    "id": "F6gX8n5SJjwb"
   },
   "source": [
    "### Import the ImageDataGenrator from keras and fit the training images"
   ]
  },
  {
   "cell_type": "code",
   "execution_count": 19,
   "metadata": {
    "id": "Cbz4uHBuJjwc"
   },
   "outputs": [],
   "source": [
    "from keras.preprocessing.image import ImageDataGenerator\n",
    "datagen = ImageDataGenerator(\n",
    "    featurewise_center=False, # set input mean to be 0 over the dataset\n",
    "    samplewise_center=False, # set each sample mean to 0\n",
    "    featurewise_std_normalization=False, # divide inputs by std of the dataset\n",
    "    samplewise_std_normalization=False, # divide each input by its std\n",
    "    zca_whitening=False, # apply ZCA whitening\n",
    "    rotation_range=50, # randomly rotate images in the range (0 to 180 degrees)\n",
    "    width_shift_range=0.1, # randomly shift images horizontally (fraction of total width)\n",
    "    height_shift_range=0.1, # randomly shift images vertically (fraction of total height)\n",
    "    horizontal_flip=False, # randomly flip images horizontally\n",
    "    vertical_flip=False # randomly flip images vertically\n",
    ")\n",
    "\n",
    "# prepare the generator\n",
    "datagen.fit(x_train)\n"
   ]
  },
  {
   "cell_type": "code",
   "execution_count": 20,
   "metadata": {
    "colab": {
     "base_uri": "https://localhost:8080/"
    },
    "id": "LsTW3GQ4wDI3",
    "outputId": "e09153fb-65eb-4ba5-ca5f-43b9ac8e4aeb"
   },
   "outputs": [
    {
     "data": {
      "text/plain": [
       "(60000, 28, 28, 1)"
      ]
     },
     "execution_count": 20,
     "metadata": {
      "tags": []
     },
     "output_type": "execute_result"
    }
   ],
   "source": [
    "x_train.shape"
   ]
  },
  {
   "cell_type": "markdown",
   "metadata": {
    "id": "pl-8dOo7Jjwf"
   },
   "source": [
    "#### Showing 5 versions of the first image in training dataset using image datagenerator.flow()"
   ]
  },
  {
   "cell_type": "code",
   "execution_count": 21,
   "metadata": {
    "colab": {
     "base_uri": "https://localhost:8080/",
     "height": 89
    },
    "id": "DpI1_McYJjwg",
    "outputId": "32a11eef-1c37-4dfa-ac39-4692bc520820",
    "scrolled": true
   },
   "outputs": [
    {
     "data": {
      "image/png": "[encoded data removed]",
      "text/plain": [
       "<Figure size 432x288 with 5 Axes>"
      ]
     },
     "metadata": {
      "needs_background": "light",
      "tags": []
     },
     "output_type": "display_data"
    }
   ],
   "source": [
    "from matplotlib import pyplot as plt\n",
    "gen = datagen.flow(x_train[0:1], batch_size=1)\n",
    "for i in range(1, 6):\n",
    "    plt.subplot(1,5,i)\n",
    "    plt.axis(\"off\")\n",
    "    plt.imshow(gen.next().squeeze(), cmap='gray')\n",
    "    plt.plot()\n",
    "plt.show()"
   ]
  },
  {
   "cell_type": "markdown",
   "metadata": {
    "id": "dmPl5yE8Jjwm"
   },
   "source": [
    "### Run the above model using fit_generator()"
   ]
  },
  {
   "cell_type": "code",
   "execution_count": 22,
   "metadata": {
    "colab": {
     "base_uri": "https://localhost:8080/"
    },
    "id": "44ZnDdJYJjwn",
    "outputId": "1f76bb5d-af25-4368-c1fa-0b0335c8b022"
   },
   "outputs": [
    {
     "name": "stderr",
     "output_type": "stream",
     "text": [
      "/usr/local/lib/python3.6/dist-packages/tensorflow/python/keras/engine/training.py:1844: UserWarning: `Model.fit_generator` is deprecated and will be removed in a future version. Please use `Model.fit`, which supports generators.\n",
      "  warnings.warn('`Model.fit_generator` is deprecated and '\n"
     ]
    },
    {
     "name": "stdout",
     "output_type": "stream",
     "text": [
      "Epoch 1/20\n",
      "1875/1875 [==============================] - 30s 15ms/step - loss: 1.0019 - accuracy: 0.6318 - val_loss: 0.5427 - val_accuracy: 0.7970\n",
      "Epoch 2/20\n",
      "1875/1875 [==============================] - 28s 15ms/step - loss: 0.5995 - accuracy: 0.7732 - val_loss: 0.5256 - val_accuracy: 0.7975\n",
      "Epoch 3/20\n",
      "1875/1875 [==============================] - 29s 15ms/step - loss: 0.5191 - accuracy: 0.8071 - val_loss: 0.4586 - val_accuracy: 0.8348\n",
      "Epoch 4/20\n",
      "1875/1875 [==============================] - 28s 15ms/step - loss: 0.4844 - accuracy: 0.8174 - val_loss: 0.4123 - val_accuracy: 0.8519\n",
      "Epoch 5/20\n",
      "1875/1875 [==============================] - 28s 15ms/step - loss: 0.4585 - accuracy: 0.8293 - val_loss: 0.4091 - val_accuracy: 0.8458\n",
      "Epoch 6/20\n",
      "1875/1875 [==============================] - 28s 15ms/step - loss: 0.4376 - accuracy: 0.8374 - val_loss: 0.3767 - val_accuracy: 0.8666\n",
      "Epoch 7/20\n",
      "1875/1875 [==============================] - 28s 15ms/step - loss: 0.4322 - accuracy: 0.8390 - val_loss: 0.3827 - val_accuracy: 0.8630\n",
      "Epoch 8/20\n",
      "1875/1875 [==============================] - 28s 15ms/step - loss: 0.4084 - accuracy: 0.8474 - val_loss: 0.3838 - val_accuracy: 0.8642\n",
      "Epoch 9/20\n",
      "1875/1875 [==============================] - 29s 15ms/step - loss: 0.4032 - accuracy: 0.8486 - val_loss: 0.3753 - val_accuracy: 0.8680\n",
      "Epoch 10/20\n",
      "1875/1875 [==============================] - 28s 15ms/step - loss: 0.3902 - accuracy: 0.8557 - val_loss: 0.3757 - val_accuracy: 0.8586\n",
      "Epoch 11/20\n",
      "1875/1875 [==============================] - 28s 15ms/step - loss: 0.3877 - accuracy: 0.8556 - val_loss: 0.3536 - val_accuracy: 0.8728\n",
      "Epoch 12/20\n",
      "1875/1875 [==============================] - 28s 15ms/step - loss: 0.3771 - accuracy: 0.8597 - val_loss: 0.3337 - val_accuracy: 0.8807\n",
      "Epoch 13/20\n",
      "1875/1875 [==============================] - 28s 15ms/step - loss: 0.3741 - accuracy: 0.8617 - val_loss: 0.3333 - val_accuracy: 0.8847\n",
      "Epoch 14/20\n",
      "1875/1875 [==============================] - 28s 15ms/step - loss: 0.3633 - accuracy: 0.8667 - val_loss: 0.3448 - val_accuracy: 0.8738\n",
      "Epoch 15/20\n",
      "1875/1875 [==============================] - 28s 15ms/step - loss: 0.3638 - accuracy: 0.8639 - val_loss: 0.3818 - val_accuracy: 0.8649\n",
      "Epoch 16/20\n",
      "1875/1875 [==============================] - 28s 15ms/step - loss: 0.3597 - accuracy: 0.8660 - val_loss: 0.3365 - val_accuracy: 0.8796\n",
      "Epoch 17/20\n",
      "1875/1875 [==============================] - 28s 15ms/step - loss: 0.3575 - accuracy: 0.8643 - val_loss: 0.3266 - val_accuracy: 0.8861\n",
      "Epoch 18/20\n",
      "1875/1875 [==============================] - 28s 15ms/step - loss: 0.3491 - accuracy: 0.8713 - val_loss: 0.3068 - val_accuracy: 0.8888\n",
      "Epoch 19/20\n",
      "1875/1875 [==============================] - 28s 15ms/step - loss: 0.3524 - accuracy: 0.8696 - val_loss: 0.3135 - val_accuracy: 0.8882\n",
      "Epoch 20/20\n",
      "1875/1875 [==============================] - 29s 15ms/step - loss: 0.3406 - accuracy: 0.8751 - val_loss: 0.3305 - val_accuracy: 0.8872\n"
     ]
    },
    {
     "data": {
      "text/plain": [
       "<tensorflow.python.keras.callbacks.History at 0x7f20064d3048>"
      ]
     },
     "execution_count": 22,
     "metadata": {
      "tags": []
     },
     "output_type": "execute_result"
    }
   ],
   "source": [
    "model3=Sequential()\n",
    "model3.add(Convolution2D(filters=32, kernel_size=3, activation=\"relu\",input_shape=(28,28,1)))\n",
    "model3.add(Convolution2D(filters=32, kernel_size=3, activation=\"relu\"))\n",
    "model3.add(MaxPooling2D(2,2))\n",
    "model3.add(Dropout(0.25))\n",
    "model3.add(Flatten())\n",
    "model3.add(Dense(128, activation=\"relu\"))\n",
    "model3.add(Dense(10, activation=\"softmax\"))\n",
    "model3.compile(loss=\"categorical_crossentropy\", metrics=[\"accuracy\"], optimizer=\"adam\")\n",
    "early_stopping = keras.callbacks.EarlyStopping(monitor='val_accuracy',patience=5,mode='auto',verbose=1)\n",
    "callback_list=[early_stopping]\n",
    "model3.fit_generator(datagen.flow(x_train,y_train,batch_size=32),steps_per_epoch=x_train.shape[0]/32,\n",
    "                    epochs=20,validation_data=(x_test,y_test),callbacks=callback_list)"
   ]
  },
  {
   "cell_type": "markdown",
   "metadata": {
    "id": "MwQQW5iOJjwq"
   },
   "source": [
    "###  Report the final train and validation accuracy"
   ]
  },
  {
   "cell_type": "code",
   "execution_count": 23,
   "metadata": {
    "colab": {
     "base_uri": "https://localhost:8080/"
    },
    "id": "c1SrtBEPJjwq",
    "outputId": "cc6304c9-fe2d-4ec4-b174-9f485ef2a270"
   },
   "outputs": [
    {
     "name": "stdout",
     "output_type": "stream",
     "text": [
      "313/313 [==============================] - 1s 4ms/step - loss: 0.3305 - accuracy: 0.8872\n"
     ]
    },
    {
     "data": {
      "text/plain": [
       "[0.3304853141307831, 0.8871999979019165]"
      ]
     },
     "execution_count": 23,
     "metadata": {
      "tags": []
     },
     "output_type": "execute_result"
    }
   ],
   "source": [
    "model3.evaluate(x_test,y_test)"
   ]
  },
  {
   "cell_type": "code",
   "execution_count": null,
   "metadata": {
    "id": "ZBwVWNQC2qZD"
   },
   "outputs": [],
   "source": []
  },
  {
   "cell_type": "markdown",
   "metadata": {
    "id": "8KXqmUDW2rM1"
   },
   "source": [
    "## **DATA AUGMENTATION ON CIFAR10 DATASET**"
   ]
  },
  {
   "cell_type": "markdown",
   "metadata": {
    "id": "8mja6OgQ3L18"
   },
   "source": [
    "One of the best ways to improve the performance of a Deep Learning model is to add more data to the training set. Aside from gathering more instances from the wild that are representative of the distinction task, we want to develop a set of methods that enhance the data we already have. There are many ways to augment existing datasets and produce more robust models. In the image domain, these are done to utilize the full power of the convolutional neural network, which is able to capture translational invariance. This translational invariance is what makes image recognition such a difficult task in the first place. You want the dataset to be representative of the many different positions, angles, lightings, and miscellaneous distortions that are of interest to the vision task."
   ]
  },
  {
   "cell_type": "markdown",
   "metadata": {
    "id": "6HzVTPUM3WZJ"
   },
   "source": [
    "### **Import neessary libraries for data augmentation**"
   ]
  },
  {
   "cell_type": "code",
   "execution_count": 24,
   "metadata": {
    "id": "PPM558TX4KMb"
   },
   "outputs": [],
   "source": [
    "from keras.datasets import cifar10"
   ]
  },
  {
   "cell_type": "markdown",
   "metadata": {
    "id": "W6hicLwP4SqY"
   },
   "source": [
    "### **Load CIFAR10 dataset**"
   ]
  },
  {
   "cell_type": "code",
   "execution_count": 25,
   "metadata": {
    "colab": {
     "base_uri": "https://localhost:8080/"
    },
    "id": "NQ1WzrXd4WNk",
    "outputId": "75262f82-0eb2-47c0-8fc2-cad3b634222b"
   },
   "outputs": [
    {
     "name": "stdout",
     "output_type": "stream",
     "text": [
      "Downloading data from https://www.cs.toronto.edu/~kriz/cifar-10-python.tar.gz\n",
      "170500096/170498071 [==============================] - 6s 0us/step\n"
     ]
    }
   ],
   "source": [
    "(X_train,Y_train),(X_test,Y_test)=cifar10.load_data()"
   ]
  },
  {
   "cell_type": "code",
   "execution_count": null,
   "metadata": {
    "id": "R9Pht1ggHuiT"
   },
   "outputs": [],
   "source": []
  },
  {
   "cell_type": "code",
   "execution_count": null,
   "metadata": {
    "id": "3n28ccU6Hp6s"
   },
   "outputs": [],
   "source": []
  },
  {
   "cell_type": "markdown",
   "metadata": {
    "id": "JN3vYYhK4W0u"
   },
   "source": [
    "### **Create a data_gen funtion to genererator with image rotation,shifting image horizontally and vertically with random flip horizontally.**"
   ]
  },
  {
   "cell_type": "code",
   "execution_count": 26,
   "metadata": {
    "id": "JJbekTKi4cmM"
   },
   "outputs": [],
   "source": [
    "datagen = ImageDataGenerator(\n",
    "    featurewise_center=False, # set input mean to be 0 over the dataset\n",
    "    samplewise_center=False, # set each sample mean to 0\n",
    "    featurewise_std_normalization=False, # divide inputs by std of the dataset\n",
    "    samplewise_std_normalization=False, # divide each input by its std\n",
    "    zca_whitening=False, # apply ZCA whitening\n",
    "    rotation_range=50, # randomly rotate images in the range (0 to 180 degrees)\n",
    "    width_shift_range=0.1, # randomly shift images horizontally (fraction of total width)\n",
    "    height_shift_range=0.1, # randomly shift images vertically (fraction of total height)\n",
    "    horizontal_flip=True, # randomly flip images horizontally\n",
    "    vertical_flip=True # randomly flip images vertically\n",
    ")"
   ]
  },
  {
   "cell_type": "markdown",
   "metadata": {
    "id": "e-SLtUhC4dK2"
   },
   "source": [
    "### **Prepare/fit the generator.**"
   ]
  },
  {
   "cell_type": "code",
   "execution_count": 27,
   "metadata": {
    "id": "CSw8Bv2_4hb0"
   },
   "outputs": [],
   "source": [
    "datagen.fit(X_train)"
   ]
  },
  {
   "cell_type": "markdown",
   "metadata": {
    "id": "gYyF-P8O4jQ8"
   },
   "source": [
    "### **Generate 5 images for 1 of the image of CIFAR10 train dataset.**"
   ]
  },
  {
   "cell_type": "code",
   "execution_count": 28,
   "metadata": {
    "colab": {
     "base_uri": "https://localhost:8080/",
     "height": 89
    },
    "id": "mXug4z234mwQ",
    "outputId": "4c2723b6-a8f1-4829-a2a3-9ad52cf009ea"
   },
   "outputs": [
    {
     "data": {
      "image/png": "[encoded data removed]",
      "text/plain": [
       "<Figure size 432x288 with 5 Axes>"
      ]
     },
     "metadata": {
      "needs_background": "light",
      "tags": []
     },
     "output_type": "display_data"
    }
   ],
   "source": [
    "from matplotlib import pyplot as plt\n",
    "gen = datagen.flow(X_train[1:2], batch_size=1)\n",
    "for i in range(1, 6):\n",
    "    plt.subplot(1,5,i)\n",
    "    plt.axis(\"off\")\n",
    "    plt.imshow(gen.next().astype('uint8').squeeze())\n",
    "    plt.plot()\n",
    "plt.show()"
   ]
  }
 ],
 "metadata": {
  "accelerator": "GPU",
  "colab": {
   "collapsed_sections": [],
   "name": "Questions - Lab on Computer Vision with CNN.ipynb",
   "provenance": [],
   "toc_visible": true
  },
  "kernelspec": {
   "display_name": "Python 3",
   "language": "python",
   "name": "python3"
  },
  "language_info": {
   "codemirror_mode": {
    "name": "ipython",
    "version": 3
   },
   "file_extension": ".py",
   "mimetype": "text/x-python",
   "name": "python",
   "nbconvert_exporter": "python",
   "pygments_lexer": "ipython3",
   "version": "3.7.4"
  }
 },
 "nbformat": 4,
 "nbformat_minor": 1
}

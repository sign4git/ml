{
 "cells": [
  {
   "cell_type": "markdown",
   "metadata": {
    "colab_type": "text",
    "id": "zfsiaKcDho8W"
   },
   "source": [
    "### The data set has information about features of silhouette extracted from the images of different cars\n",
    "\n",
    "Four \"Corgie\" model vehicles were used for the experiment: a double decker bus, Cheverolet van, Saab 9000 and an Opel Manta 400 cars. This particular combination of vehicles was chosen with the expectation that the bus, van and either one of the cars would be readily distinguishable, but it would be more difficult to distinguish between the cars.\n",
    "\n"
   ]
  },
  {
   "cell_type": "markdown",
   "metadata": {
    "colab_type": "text",
    "id": "kVtZqLhGho8c"
   },
   "source": [
    "### 1. Read the dataset using function .dropna() - to avoid dealing with NAs as of now"
   ]
  },
  {
   "cell_type": "code",
   "execution_count": 271,
   "metadata": {
    "colab": {},
    "colab_type": "code",
    "id": "VbKTspg4ho8g"
   },
   "outputs": [],
   "source": [
    "import numpy as np\n",
    "import pandas as pd\n",
    "vehicle=pd.read_csv(\"vehicle.csv\")\n",
    "vehicle.dropna(inplace=True)"
   ]
  },
  {
   "cell_type": "code",
   "execution_count": 272,
   "metadata": {},
   "outputs": [
    {
     "data": {
      "text/html": [
       "<div>\n",
       "<style scoped>\n",
       "    .dataframe tbody tr th:only-of-type {\n",
       "        vertical-align: middle;\n",
       "    }\n",
       "\n",
       "    .dataframe tbody tr th {\n",
       "        vertical-align: top;\n",
       "    }\n",
       "\n",
       "    .dataframe thead th {\n",
       "        text-align: right;\n",
       "    }\n",
       "</style>\n",
       "<table border=\"1\" class=\"dataframe\">\n",
       "  <thead>\n",
       "    <tr style=\"text-align: right;\">\n",
       "      <th></th>\n",
       "      <th>compactness</th>\n",
       "      <th>circularity</th>\n",
       "      <th>distance_circularity</th>\n",
       "      <th>radius_ratio</th>\n",
       "      <th>pr.axis_aspect_ratio</th>\n",
       "      <th>max.length_aspect_ratio</th>\n",
       "      <th>scatter_ratio</th>\n",
       "      <th>elongatedness</th>\n",
       "      <th>pr.axis_rectangularity</th>\n",
       "      <th>max.length_rectangularity</th>\n",
       "      <th>scaled_variance</th>\n",
       "      <th>scaled_variance.1</th>\n",
       "      <th>scaled_radius_of_gyration</th>\n",
       "      <th>scaled_radius_of_gyration.1</th>\n",
       "      <th>skewness_about</th>\n",
       "      <th>skewness_about.1</th>\n",
       "      <th>skewness_about.2</th>\n",
       "      <th>hollows_ratio</th>\n",
       "      <th>class</th>\n",
       "    </tr>\n",
       "  </thead>\n",
       "  <tbody>\n",
       "    <tr>\n",
       "      <td>0</td>\n",
       "      <td>95</td>\n",
       "      <td>48.0</td>\n",
       "      <td>83.0</td>\n",
       "      <td>178.0</td>\n",
       "      <td>72.0</td>\n",
       "      <td>10</td>\n",
       "      <td>162.0</td>\n",
       "      <td>42.0</td>\n",
       "      <td>20.0</td>\n",
       "      <td>159</td>\n",
       "      <td>176.0</td>\n",
       "      <td>379.0</td>\n",
       "      <td>184.0</td>\n",
       "      <td>70.0</td>\n",
       "      <td>6.0</td>\n",
       "      <td>16.0</td>\n",
       "      <td>187.0</td>\n",
       "      <td>197</td>\n",
       "      <td>van</td>\n",
       "    </tr>\n",
       "    <tr>\n",
       "      <td>1</td>\n",
       "      <td>91</td>\n",
       "      <td>41.0</td>\n",
       "      <td>84.0</td>\n",
       "      <td>141.0</td>\n",
       "      <td>57.0</td>\n",
       "      <td>9</td>\n",
       "      <td>149.0</td>\n",
       "      <td>45.0</td>\n",
       "      <td>19.0</td>\n",
       "      <td>143</td>\n",
       "      <td>170.0</td>\n",
       "      <td>330.0</td>\n",
       "      <td>158.0</td>\n",
       "      <td>72.0</td>\n",
       "      <td>9.0</td>\n",
       "      <td>14.0</td>\n",
       "      <td>189.0</td>\n",
       "      <td>199</td>\n",
       "      <td>van</td>\n",
       "    </tr>\n",
       "    <tr>\n",
       "      <td>2</td>\n",
       "      <td>104</td>\n",
       "      <td>50.0</td>\n",
       "      <td>106.0</td>\n",
       "      <td>209.0</td>\n",
       "      <td>66.0</td>\n",
       "      <td>10</td>\n",
       "      <td>207.0</td>\n",
       "      <td>32.0</td>\n",
       "      <td>23.0</td>\n",
       "      <td>158</td>\n",
       "      <td>223.0</td>\n",
       "      <td>635.0</td>\n",
       "      <td>220.0</td>\n",
       "      <td>73.0</td>\n",
       "      <td>14.0</td>\n",
       "      <td>9.0</td>\n",
       "      <td>188.0</td>\n",
       "      <td>196</td>\n",
       "      <td>car</td>\n",
       "    </tr>\n",
       "    <tr>\n",
       "      <td>3</td>\n",
       "      <td>93</td>\n",
       "      <td>41.0</td>\n",
       "      <td>82.0</td>\n",
       "      <td>159.0</td>\n",
       "      <td>63.0</td>\n",
       "      <td>9</td>\n",
       "      <td>144.0</td>\n",
       "      <td>46.0</td>\n",
       "      <td>19.0</td>\n",
       "      <td>143</td>\n",
       "      <td>160.0</td>\n",
       "      <td>309.0</td>\n",
       "      <td>127.0</td>\n",
       "      <td>63.0</td>\n",
       "      <td>6.0</td>\n",
       "      <td>10.0</td>\n",
       "      <td>199.0</td>\n",
       "      <td>207</td>\n",
       "      <td>van</td>\n",
       "    </tr>\n",
       "    <tr>\n",
       "      <td>4</td>\n",
       "      <td>85</td>\n",
       "      <td>44.0</td>\n",
       "      <td>70.0</td>\n",
       "      <td>205.0</td>\n",
       "      <td>103.0</td>\n",
       "      <td>52</td>\n",
       "      <td>149.0</td>\n",
       "      <td>45.0</td>\n",
       "      <td>19.0</td>\n",
       "      <td>144</td>\n",
       "      <td>241.0</td>\n",
       "      <td>325.0</td>\n",
       "      <td>188.0</td>\n",
       "      <td>127.0</td>\n",
       "      <td>9.0</td>\n",
       "      <td>11.0</td>\n",
       "      <td>180.0</td>\n",
       "      <td>183</td>\n",
       "      <td>bus</td>\n",
       "    </tr>\n",
       "  </tbody>\n",
       "</table>\n",
       "</div>"
      ],
      "text/plain": [
       "   compactness  circularity  distance_circularity  radius_ratio  \\\n",
       "0           95         48.0                  83.0         178.0   \n",
       "1           91         41.0                  84.0         141.0   \n",
       "2          104         50.0                 106.0         209.0   \n",
       "3           93         41.0                  82.0         159.0   \n",
       "4           85         44.0                  70.0         205.0   \n",
       "\n",
       "   pr.axis_aspect_ratio  max.length_aspect_ratio  scatter_ratio  \\\n",
       "0                  72.0                       10          162.0   \n",
       "1                  57.0                        9          149.0   \n",
       "2                  66.0                       10          207.0   \n",
       "3                  63.0                        9          144.0   \n",
       "4                 103.0                       52          149.0   \n",
       "\n",
       "   elongatedness  pr.axis_rectangularity  max.length_rectangularity  \\\n",
       "0           42.0                    20.0                        159   \n",
       "1           45.0                    19.0                        143   \n",
       "2           32.0                    23.0                        158   \n",
       "3           46.0                    19.0                        143   \n",
       "4           45.0                    19.0                        144   \n",
       "\n",
       "   scaled_variance  scaled_variance.1  scaled_radius_of_gyration  \\\n",
       "0            176.0              379.0                      184.0   \n",
       "1            170.0              330.0                      158.0   \n",
       "2            223.0              635.0                      220.0   \n",
       "3            160.0              309.0                      127.0   \n",
       "4            241.0              325.0                      188.0   \n",
       "\n",
       "   scaled_radius_of_gyration.1  skewness_about  skewness_about.1  \\\n",
       "0                         70.0             6.0              16.0   \n",
       "1                         72.0             9.0              14.0   \n",
       "2                         73.0            14.0               9.0   \n",
       "3                         63.0             6.0              10.0   \n",
       "4                        127.0             9.0              11.0   \n",
       "\n",
       "   skewness_about.2  hollows_ratio class  \n",
       "0             187.0            197   van  \n",
       "1             189.0            199   van  \n",
       "2             188.0            196   car  \n",
       "3             199.0            207   van  \n",
       "4             180.0            183   bus  "
      ]
     },
     "execution_count": 272,
     "metadata": {},
     "output_type": "execute_result"
    }
   ],
   "source": [
    "vehicle.head()"
   ]
  },
  {
   "cell_type": "markdown",
   "metadata": {
    "colab_type": "text",
    "id": "Ku4eS0ZAho8s"
   },
   "source": [
    "### 2. Print/ Plot the dependent (categorical variable) - Class column"
   ]
  },
  {
   "cell_type": "markdown",
   "metadata": {
    "colab_type": "text",
    "id": "R1mfF_hiho8v"
   },
   "source": [
    "Since the variable is categorical, you can use value_counts function"
   ]
  },
  {
   "cell_type": "code",
   "execution_count": 273,
   "metadata": {
    "colab": {},
    "colab_type": "code",
    "id": "_dP5-zpUho81"
   },
   "outputs": [
    {
     "name": "stdout",
     "output_type": "stream",
     "text": [
      "car    413\n",
      "bus    205\n",
      "van    195\n",
      "Name: class, dtype: int64\n"
     ]
    }
   ],
   "source": [
    "print(vehicle[\"class\"].value_counts())"
   ]
  },
  {
   "cell_type": "code",
   "execution_count": 274,
   "metadata": {},
   "outputs": [
    {
     "data": {
      "text/plain": [
       "<matplotlib.axes._subplots.AxesSubplot at 0x240d5d8e288>"
      ]
     },
     "execution_count": 274,
     "metadata": {},
     "output_type": "execute_result"
    },
    {
     "data": {
      "image/png": "[encoded data removed]",
      "text/plain": [
       "<Figure size 432x288 with 1 Axes>"
      ]
     },
     "metadata": {
      "needs_background": "light"
     },
     "output_type": "display_data"
    }
   ],
   "source": [
    "import seaborn as sns\n",
    "sns.countplot(data=vehicle,x='class')"
   ]
  },
  {
   "cell_type": "markdown",
   "metadata": {
    "colab_type": "text",
    "id": "ZFsXYI5qho9E"
   },
   "source": [
    "### Check for any missing values in the data "
   ]
  },
  {
   "cell_type": "code",
   "execution_count": 275,
   "metadata": {
    "colab": {},
    "colab_type": "code",
    "id": "qb77DNfwho9J"
   },
   "outputs": [
    {
     "data": {
      "text/plain": [
       "compactness                    0\n",
       "circularity                    0\n",
       "distance_circularity           0\n",
       "radius_ratio                   0\n",
       "pr.axis_aspect_ratio           0\n",
       "max.length_aspect_ratio        0\n",
       "scatter_ratio                  0\n",
       "elongatedness                  0\n",
       "pr.axis_rectangularity         0\n",
       "max.length_rectangularity      0\n",
       "scaled_variance                0\n",
       "scaled_variance.1              0\n",
       "scaled_radius_of_gyration      0\n",
       "scaled_radius_of_gyration.1    0\n",
       "skewness_about                 0\n",
       "skewness_about.1               0\n",
       "skewness_about.2               0\n",
       "hollows_ratio                  0\n",
       "class                          0\n",
       "dtype: int64"
      ]
     },
     "execution_count": 275,
     "metadata": {},
     "output_type": "execute_result"
    }
   ],
   "source": [
    "vehicle.isna().sum()"
   ]
  },
  {
   "cell_type": "code",
   "execution_count": 276,
   "metadata": {},
   "outputs": [
    {
     "data": {
      "text/plain": [
       "compactness                    0\n",
       "circularity                    0\n",
       "distance_circularity           0\n",
       "radius_ratio                   0\n",
       "pr.axis_aspect_ratio           0\n",
       "max.length_aspect_ratio        0\n",
       "scatter_ratio                  0\n",
       "elongatedness                  0\n",
       "pr.axis_rectangularity         0\n",
       "max.length_rectangularity      0\n",
       "scaled_variance                0\n",
       "scaled_variance.1              0\n",
       "scaled_radius_of_gyration      0\n",
       "scaled_radius_of_gyration.1    0\n",
       "skewness_about                 0\n",
       "skewness_about.1               0\n",
       "skewness_about.2               0\n",
       "hollows_ratio                  0\n",
       "class                          0\n",
       "dtype: int64"
      ]
     },
     "execution_count": 276,
     "metadata": {},
     "output_type": "execute_result"
    }
   ],
   "source": [
    "vehicle.isnull().sum()"
   ]
  },
  {
   "cell_type": "markdown",
   "metadata": {
    "colab_type": "text",
    "id": "AwUdJm9qho9U"
   },
   "source": [
    "### 3. Standardize the data "
   ]
  },
  {
   "cell_type": "markdown",
   "metadata": {
    "colab_type": "text",
    "id": "x6z10bgjho9j"
   },
   "source": [
    "Since the dimensions of the data are not really known to us, it would be wise to standardize the data using z scores before we go for any clustering methods.\n",
    "You can use zscore function to do this"
   ]
  },
  {
   "cell_type": "code",
   "execution_count": 277,
   "metadata": {},
   "outputs": [
    {
     "data": {
      "text/html": [
       "<div>\n",
       "<style scoped>\n",
       "    .dataframe tbody tr th:only-of-type {\n",
       "        vertical-align: middle;\n",
       "    }\n",
       "\n",
       "    .dataframe tbody tr th {\n",
       "        vertical-align: top;\n",
       "    }\n",
       "\n",
       "    .dataframe thead th {\n",
       "        text-align: right;\n",
       "    }\n",
       "</style>\n",
       "<table border=\"1\" class=\"dataframe\">\n",
       "  <thead>\n",
       "    <tr style=\"text-align: right;\">\n",
       "      <th></th>\n",
       "      <th>compactness</th>\n",
       "      <th>circularity</th>\n",
       "      <th>distance_circularity</th>\n",
       "      <th>radius_ratio</th>\n",
       "      <th>pr.axis_aspect_ratio</th>\n",
       "      <th>max.length_aspect_ratio</th>\n",
       "      <th>scatter_ratio</th>\n",
       "      <th>elongatedness</th>\n",
       "      <th>pr.axis_rectangularity</th>\n",
       "      <th>max.length_rectangularity</th>\n",
       "      <th>scaled_variance</th>\n",
       "      <th>scaled_variance.1</th>\n",
       "      <th>scaled_radius_of_gyration</th>\n",
       "      <th>scaled_radius_of_gyration.1</th>\n",
       "      <th>skewness_about</th>\n",
       "      <th>skewness_about.1</th>\n",
       "      <th>skewness_about.2</th>\n",
       "      <th>hollows_ratio</th>\n",
       "    </tr>\n",
       "  </thead>\n",
       "  <tbody>\n",
       "    <tr>\n",
       "      <td>0</td>\n",
       "      <td>95</td>\n",
       "      <td>48.0</td>\n",
       "      <td>83.0</td>\n",
       "      <td>178.0</td>\n",
       "      <td>72.0</td>\n",
       "      <td>10</td>\n",
       "      <td>162.0</td>\n",
       "      <td>42.0</td>\n",
       "      <td>20.0</td>\n",
       "      <td>159</td>\n",
       "      <td>176.0</td>\n",
       "      <td>379.0</td>\n",
       "      <td>184.0</td>\n",
       "      <td>70.0</td>\n",
       "      <td>6.0</td>\n",
       "      <td>16.0</td>\n",
       "      <td>187.0</td>\n",
       "      <td>197</td>\n",
       "    </tr>\n",
       "    <tr>\n",
       "      <td>1</td>\n",
       "      <td>91</td>\n",
       "      <td>41.0</td>\n",
       "      <td>84.0</td>\n",
       "      <td>141.0</td>\n",
       "      <td>57.0</td>\n",
       "      <td>9</td>\n",
       "      <td>149.0</td>\n",
       "      <td>45.0</td>\n",
       "      <td>19.0</td>\n",
       "      <td>143</td>\n",
       "      <td>170.0</td>\n",
       "      <td>330.0</td>\n",
       "      <td>158.0</td>\n",
       "      <td>72.0</td>\n",
       "      <td>9.0</td>\n",
       "      <td>14.0</td>\n",
       "      <td>189.0</td>\n",
       "      <td>199</td>\n",
       "    </tr>\n",
       "    <tr>\n",
       "      <td>2</td>\n",
       "      <td>104</td>\n",
       "      <td>50.0</td>\n",
       "      <td>106.0</td>\n",
       "      <td>209.0</td>\n",
       "      <td>66.0</td>\n",
       "      <td>10</td>\n",
       "      <td>207.0</td>\n",
       "      <td>32.0</td>\n",
       "      <td>23.0</td>\n",
       "      <td>158</td>\n",
       "      <td>223.0</td>\n",
       "      <td>635.0</td>\n",
       "      <td>220.0</td>\n",
       "      <td>73.0</td>\n",
       "      <td>14.0</td>\n",
       "      <td>9.0</td>\n",
       "      <td>188.0</td>\n",
       "      <td>196</td>\n",
       "    </tr>\n",
       "    <tr>\n",
       "      <td>3</td>\n",
       "      <td>93</td>\n",
       "      <td>41.0</td>\n",
       "      <td>82.0</td>\n",
       "      <td>159.0</td>\n",
       "      <td>63.0</td>\n",
       "      <td>9</td>\n",
       "      <td>144.0</td>\n",
       "      <td>46.0</td>\n",
       "      <td>19.0</td>\n",
       "      <td>143</td>\n",
       "      <td>160.0</td>\n",
       "      <td>309.0</td>\n",
       "      <td>127.0</td>\n",
       "      <td>63.0</td>\n",
       "      <td>6.0</td>\n",
       "      <td>10.0</td>\n",
       "      <td>199.0</td>\n",
       "      <td>207</td>\n",
       "    </tr>\n",
       "    <tr>\n",
       "      <td>4</td>\n",
       "      <td>85</td>\n",
       "      <td>44.0</td>\n",
       "      <td>70.0</td>\n",
       "      <td>205.0</td>\n",
       "      <td>103.0</td>\n",
       "      <td>52</td>\n",
       "      <td>149.0</td>\n",
       "      <td>45.0</td>\n",
       "      <td>19.0</td>\n",
       "      <td>144</td>\n",
       "      <td>241.0</td>\n",
       "      <td>325.0</td>\n",
       "      <td>188.0</td>\n",
       "      <td>127.0</td>\n",
       "      <td>9.0</td>\n",
       "      <td>11.0</td>\n",
       "      <td>180.0</td>\n",
       "      <td>183</td>\n",
       "    </tr>\n",
       "    <tr>\n",
       "      <td>...</td>\n",
       "      <td>...</td>\n",
       "      <td>...</td>\n",
       "      <td>...</td>\n",
       "      <td>...</td>\n",
       "      <td>...</td>\n",
       "      <td>...</td>\n",
       "      <td>...</td>\n",
       "      <td>...</td>\n",
       "      <td>...</td>\n",
       "      <td>...</td>\n",
       "      <td>...</td>\n",
       "      <td>...</td>\n",
       "      <td>...</td>\n",
       "      <td>...</td>\n",
       "      <td>...</td>\n",
       "      <td>...</td>\n",
       "      <td>...</td>\n",
       "      <td>...</td>\n",
       "    </tr>\n",
       "    <tr>\n",
       "      <td>841</td>\n",
       "      <td>93</td>\n",
       "      <td>39.0</td>\n",
       "      <td>87.0</td>\n",
       "      <td>183.0</td>\n",
       "      <td>64.0</td>\n",
       "      <td>8</td>\n",
       "      <td>169.0</td>\n",
       "      <td>40.0</td>\n",
       "      <td>20.0</td>\n",
       "      <td>134</td>\n",
       "      <td>200.0</td>\n",
       "      <td>422.0</td>\n",
       "      <td>149.0</td>\n",
       "      <td>72.0</td>\n",
       "      <td>7.0</td>\n",
       "      <td>25.0</td>\n",
       "      <td>188.0</td>\n",
       "      <td>195</td>\n",
       "    </tr>\n",
       "    <tr>\n",
       "      <td>842</td>\n",
       "      <td>89</td>\n",
       "      <td>46.0</td>\n",
       "      <td>84.0</td>\n",
       "      <td>163.0</td>\n",
       "      <td>66.0</td>\n",
       "      <td>11</td>\n",
       "      <td>159.0</td>\n",
       "      <td>43.0</td>\n",
       "      <td>20.0</td>\n",
       "      <td>159</td>\n",
       "      <td>173.0</td>\n",
       "      <td>368.0</td>\n",
       "      <td>176.0</td>\n",
       "      <td>72.0</td>\n",
       "      <td>1.0</td>\n",
       "      <td>20.0</td>\n",
       "      <td>186.0</td>\n",
       "      <td>197</td>\n",
       "    </tr>\n",
       "    <tr>\n",
       "      <td>843</td>\n",
       "      <td>106</td>\n",
       "      <td>54.0</td>\n",
       "      <td>101.0</td>\n",
       "      <td>222.0</td>\n",
       "      <td>67.0</td>\n",
       "      <td>12</td>\n",
       "      <td>222.0</td>\n",
       "      <td>30.0</td>\n",
       "      <td>25.0</td>\n",
       "      <td>173</td>\n",
       "      <td>228.0</td>\n",
       "      <td>721.0</td>\n",
       "      <td>200.0</td>\n",
       "      <td>70.0</td>\n",
       "      <td>3.0</td>\n",
       "      <td>4.0</td>\n",
       "      <td>187.0</td>\n",
       "      <td>201</td>\n",
       "    </tr>\n",
       "    <tr>\n",
       "      <td>844</td>\n",
       "      <td>86</td>\n",
       "      <td>36.0</td>\n",
       "      <td>78.0</td>\n",
       "      <td>146.0</td>\n",
       "      <td>58.0</td>\n",
       "      <td>7</td>\n",
       "      <td>135.0</td>\n",
       "      <td>50.0</td>\n",
       "      <td>18.0</td>\n",
       "      <td>124</td>\n",
       "      <td>155.0</td>\n",
       "      <td>270.0</td>\n",
       "      <td>148.0</td>\n",
       "      <td>66.0</td>\n",
       "      <td>0.0</td>\n",
       "      <td>25.0</td>\n",
       "      <td>190.0</td>\n",
       "      <td>195</td>\n",
       "    </tr>\n",
       "    <tr>\n",
       "      <td>845</td>\n",
       "      <td>85</td>\n",
       "      <td>36.0</td>\n",
       "      <td>66.0</td>\n",
       "      <td>123.0</td>\n",
       "      <td>55.0</td>\n",
       "      <td>5</td>\n",
       "      <td>120.0</td>\n",
       "      <td>56.0</td>\n",
       "      <td>17.0</td>\n",
       "      <td>128</td>\n",
       "      <td>140.0</td>\n",
       "      <td>212.0</td>\n",
       "      <td>131.0</td>\n",
       "      <td>73.0</td>\n",
       "      <td>1.0</td>\n",
       "      <td>18.0</td>\n",
       "      <td>186.0</td>\n",
       "      <td>190</td>\n",
       "    </tr>\n",
       "  </tbody>\n",
       "</table>\n",
       "<p>813 rows × 18 columns</p>\n",
       "</div>"
      ],
      "text/plain": [
       "     compactness  circularity  distance_circularity  radius_ratio  \\\n",
       "0             95         48.0                  83.0         178.0   \n",
       "1             91         41.0                  84.0         141.0   \n",
       "2            104         50.0                 106.0         209.0   \n",
       "3             93         41.0                  82.0         159.0   \n",
       "4             85         44.0                  70.0         205.0   \n",
       "..           ...          ...                   ...           ...   \n",
       "841           93         39.0                  87.0         183.0   \n",
       "842           89         46.0                  84.0         163.0   \n",
       "843          106         54.0                 101.0         222.0   \n",
       "844           86         36.0                  78.0         146.0   \n",
       "845           85         36.0                  66.0         123.0   \n",
       "\n",
       "     pr.axis_aspect_ratio  max.length_aspect_ratio  scatter_ratio  \\\n",
       "0                    72.0                       10          162.0   \n",
       "1                    57.0                        9          149.0   \n",
       "2                    66.0                       10          207.0   \n",
       "3                    63.0                        9          144.0   \n",
       "4                   103.0                       52          149.0   \n",
       "..                    ...                      ...            ...   \n",
       "841                  64.0                        8          169.0   \n",
       "842                  66.0                       11          159.0   \n",
       "843                  67.0                       12          222.0   \n",
       "844                  58.0                        7          135.0   \n",
       "845                  55.0                        5          120.0   \n",
       "\n",
       "     elongatedness  pr.axis_rectangularity  max.length_rectangularity  \\\n",
       "0             42.0                    20.0                        159   \n",
       "1             45.0                    19.0                        143   \n",
       "2             32.0                    23.0                        158   \n",
       "3             46.0                    19.0                        143   \n",
       "4             45.0                    19.0                        144   \n",
       "..             ...                     ...                        ...   \n",
       "841           40.0                    20.0                        134   \n",
       "842           43.0                    20.0                        159   \n",
       "843           30.0                    25.0                        173   \n",
       "844           50.0                    18.0                        124   \n",
       "845           56.0                    17.0                        128   \n",
       "\n",
       "     scaled_variance  scaled_variance.1  scaled_radius_of_gyration  \\\n",
       "0              176.0              379.0                      184.0   \n",
       "1              170.0              330.0                      158.0   \n",
       "2              223.0              635.0                      220.0   \n",
       "3              160.0              309.0                      127.0   \n",
       "4              241.0              325.0                      188.0   \n",
       "..               ...                ...                        ...   \n",
       "841            200.0              422.0                      149.0   \n",
       "842            173.0              368.0                      176.0   \n",
       "843            228.0              721.0                      200.0   \n",
       "844            155.0              270.0                      148.0   \n",
       "845            140.0              212.0                      131.0   \n",
       "\n",
       "     scaled_radius_of_gyration.1  skewness_about  skewness_about.1  \\\n",
       "0                           70.0             6.0              16.0   \n",
       "1                           72.0             9.0              14.0   \n",
       "2                           73.0            14.0               9.0   \n",
       "3                           63.0             6.0              10.0   \n",
       "4                          127.0             9.0              11.0   \n",
       "..                           ...             ...               ...   \n",
       "841                         72.0             7.0              25.0   \n",
       "842                         72.0             1.0              20.0   \n",
       "843                         70.0             3.0               4.0   \n",
       "844                         66.0             0.0              25.0   \n",
       "845                         73.0             1.0              18.0   \n",
       "\n",
       "     skewness_about.2  hollows_ratio  \n",
       "0               187.0            197  \n",
       "1               189.0            199  \n",
       "2               188.0            196  \n",
       "3               199.0            207  \n",
       "4               180.0            183  \n",
       "..                ...            ...  \n",
       "841             188.0            195  \n",
       "842             186.0            197  \n",
       "843             187.0            201  \n",
       "844             190.0            195  \n",
       "845             186.0            190  \n",
       "\n",
       "[813 rows x 18 columns]"
      ]
     },
     "execution_count": 277,
     "metadata": {},
     "output_type": "execute_result"
    }
   ],
   "source": [
    "vehicle_df=vehicle.drop(\"class\",axis=1)\n",
    "vehicle_df"
   ]
  },
  {
   "cell_type": "code",
   "execution_count": 278,
   "metadata": {
    "colab": {},
    "colab_type": "code",
    "id": "qed3MlPjho9n"
   },
   "outputs": [
    {
     "data": {
      "text/plain": [
       "array([[ 0.16323063,  0.52040788,  0.06066872, ...,  0.37128716,\n",
       "        -0.3218087 ,  0.17183708],\n",
       "       [-0.32287376, -0.61912319,  0.12406675, ...,  0.14710858,\n",
       "         0.00340009,  0.44231829],\n",
       "       [ 1.2569655 ,  0.84598818,  1.51882349, ..., -0.41333788,\n",
       "        -0.1592043 ,  0.03659647],\n",
       "       ...,\n",
       "       [ 1.5000177 ,  1.49714879,  1.20183332, ..., -0.97378433,\n",
       "        -0.3218087 ,  0.7127995 ],\n",
       "       [-0.93050425, -1.43307395, -0.25632145, ...,  1.38009078,\n",
       "         0.16600449, -0.09864413],\n",
       "       [-1.05203035, -1.43307395, -1.01709784, ...,  0.59546574,\n",
       "        -0.4844131 , -0.77484716]])"
      ]
     },
     "execution_count": 278,
     "metadata": {},
     "output_type": "execute_result"
    }
   ],
   "source": [
    "from sklearn.preprocessing import StandardScaler\n",
    "scale=StandardScaler()\n",
    "vehicle_df=scale.fit_transform(vehicle_df)\n",
    "vehicle_df"
   ]
  },
  {
   "cell_type": "code",
   "execution_count": null,
   "metadata": {},
   "outputs": [],
   "source": []
  },
  {
   "cell_type": "code",
   "execution_count": 34,
   "metadata": {
    "colab": {},
    "colab_type": "code",
    "id": "pbGN_7mhho9y"
   },
   "outputs": [
    {
     "data": {
      "text/plain": [
       "StandardScaler(copy=True, with_mean=True, with_std=True)"
      ]
     },
     "execution_count": 34,
     "metadata": {},
     "output_type": "execute_result"
    }
   ],
   "source": []
  },
  {
   "cell_type": "markdown",
   "metadata": {
    "colab_type": "text",
    "id": "weIwi8cxho-C"
   },
   "source": [
    "### K - Means Clustering"
   ]
  },
  {
   "cell_type": "markdown",
   "metadata": {
    "colab_type": "text",
    "id": "YdA5yJ1m61-L"
   },
   "source": [
    "### Assign a dummy array called Cluster_error"
   ]
  },
  {
   "cell_type": "code",
   "execution_count": 292,
   "metadata": {
    "colab": {},
    "colab_type": "code",
    "id": "PRcbAApuho-g"
   },
   "outputs": [
    {
     "data": {
      "text/plain": [
       "list"
      ]
     },
     "execution_count": 292,
     "metadata": {},
     "output_type": "execute_result"
    }
   ],
   "source": [
    "Cluster_error=[]\n",
    "type(Cluster_error)"
   ]
  },
  {
   "cell_type": "markdown",
   "metadata": {
    "colab_type": "text",
    "id": "ywuVdFe2ho-t"
   },
   "source": [
    "### 5. Calculate errorrs for each K"
   ]
  },
  {
   "cell_type": "markdown",
   "metadata": {
    "colab_type": "text",
    "id": "PJznnrkc68nf"
   },
   "source": [
    "Iterating values of k from 1 to 10 fit K means model\n",
    "Using inertia"
   ]
  },
  {
   "cell_type": "code",
   "execution_count": 293,
   "metadata": {
    "colab": {},
    "colab_type": "code",
    "id": "uc49grvmho-2"
   },
   "outputs": [
    {
     "data": {
      "text/plain": [
       "array([ 1,  2,  3,  4,  5,  6,  7,  8,  9, 10])"
      ]
     },
     "execution_count": 293,
     "metadata": {},
     "output_type": "execute_result"
    }
   ],
   "source": [
    "iterate=np.arange(1,11)\n",
    "iterate"
   ]
  },
  {
   "cell_type": "code",
   "execution_count": 294,
   "metadata": {
    "colab": {},
    "colab_type": "code",
    "id": "NRJo1wzqho_Q"
   },
   "outputs": [
    {
     "name": "stdout",
     "output_type": "stream",
     "text": [
      "3.939299196727955\n",
      "2.966824380205441\n",
      "2.6428664657321073\n",
      "2.548617081764424\n",
      "2.4285148227827458\n",
      "2.315019488970958\n",
      "2.2421006157090035\n",
      "2.1924887890428737\n",
      "2.1033220246379893\n",
      "2.037599934291557\n"
     ]
    }
   ],
   "source": [
    "from sklearn.cluster import KMeans\n",
    "from scipy.spatial.distance import cdist\n",
    "for k in iterate:\n",
    "    model=KMeans(n_clusters=k)\n",
    "    model.fit(vehicle_df)\n",
    "    print((sum(np.min(cdist(vehicle_df, model.cluster_centers_, 'euclidean'), axis=1)) / vehicle_df.shape[0]))\n",
    "    prediction=model.predict(vehicle_df)\n",
    "    Cluster_error.append(sum(np.min(cdist(vehicle_df, model.cluster_centers_, 'euclidean'), axis=1)) / vehicle_df.shape[0])"
   ]
  },
  {
   "cell_type": "markdown",
   "metadata": {
    "colab_type": "text",
    "id": "JIcSiPyoho_a"
   },
   "source": [
    "### 6. Plotting Elbow/ Scree Plot"
   ]
  },
  {
   "cell_type": "markdown",
   "metadata": {
    "colab_type": "text",
    "id": "Z8Yw5XEsho_r"
   },
   "source": [
    "Use Matplotlib to plot the scree plot - Note: Scree plot plots Errors vs the no of clusters"
   ]
  },
  {
   "cell_type": "code",
   "execution_count": 295,
   "metadata": {
    "colab": {},
    "colab_type": "code",
    "id": "sJ5oE4Csho_v"
   },
   "outputs": [
    {
     "data": {
      "text/plain": [
       "Text(0.5, 1.0, 'Selecting k with the Elbow Method')"
      ]
     },
     "execution_count": 295,
     "metadata": {},
     "output_type": "execute_result"
    },
    {
     "data": {
      "image/png": "[encoded data removed]",
      "text/plain": [
       "<Figure size 432x288 with 1 Axes>"
      ]
     },
     "metadata": {
      "needs_background": "light"
     },
     "output_type": "display_data"
    }
   ],
   "source": [
    "plt.plot(iterate, Cluster_error)\n",
    "plt.xlabel('k')\n",
    "plt.ylabel('Average distortion')\n",
    "plt.title('Selecting k with the Elbow Method')"
   ]
  },
  {
   "cell_type": "markdown",
   "metadata": {
    "colab_type": "text",
    "id": "sGx_Q_4Iho_7"
   },
   "source": [
    "### Find out the optimal value of K"
   ]
  },
  {
   "cell_type": "markdown",
   "metadata": {
    "colab": {},
    "colab_type": "code",
    "id": "i2JjEPrcho__"
   },
   "source": [
    "Clearly,The elbow is sharp at k=3 or when the number of clusters is 3. Beyond k=3, the drop in error is very minimal."
   ]
  },
  {
   "cell_type": "markdown",
   "metadata": {
    "colab_type": "text",
    "id": "5EoRD5PHhpAT"
   },
   "source": [
    "### Using optimal value of K - Cluster the data. \n",
    "Note: Since the data has more than 2 dimension we cannot visualize the data. As an alternative, we can observe the centroids and note how they are distributed across different dimensions"
   ]
  },
  {
   "cell_type": "code",
   "execution_count": 296,
   "metadata": {
    "colab": {},
    "colab_type": "code",
    "id": "68oQ0c2ThpAZ"
   },
   "outputs": [
    {
     "data": {
      "text/plain": [
       "array([1, 1, 2, 1, 0, 1, 1, 1, 1, 1, 1, 1, 1, 2, 0, 1, 2, 0, 0, 1, 1, 2,\n",
       "       1, 0, 2, 2, 0, 1, 1, 1, 2, 1, 0, 2, 2, 0, 2, 0, 0, 1, 2, 0, 0, 0,\n",
       "       0, 1, 0, 1, 2, 1, 2, 1, 1, 0, 2, 0, 2, 0, 0, 0, 1, 0, 2, 1, 2, 2,\n",
       "       1, 0, 1, 2, 1, 0, 0, 2, 1, 0, 1, 2, 1, 0, 1, 0, 2, 1, 2, 1, 0, 2,\n",
       "       0, 0, 2, 0, 0, 1, 1, 0, 2, 2, 0, 0, 2, 1, 1, 0, 0, 0, 1, 2, 2, 1,\n",
       "       0, 0, 1, 0, 0, 0, 0, 0, 1, 2, 2, 1, 1, 0, 2, 2, 0, 1, 0, 1, 1, 2,\n",
       "       0, 1, 2, 1, 1, 1, 1, 2, 1, 1, 2, 1, 2, 1, 0, 1, 0, 2, 1, 1, 2, 2,\n",
       "       1, 2, 0, 0, 2, 2, 1, 2, 1, 1, 1, 1, 0, 2, 0, 1, 0, 2, 1, 1, 1, 2,\n",
       "       1, 2, 1, 2, 1, 0, 2, 0, 0, 0, 1, 1, 2, 2, 1, 1, 1, 0, 2, 1, 1, 1,\n",
       "       2, 0, 0, 2, 0, 1, 2, 0, 0, 0, 1, 2, 1, 2, 0, 0, 0, 0, 2, 1, 0, 1,\n",
       "       2, 0, 1, 1, 0, 2, 0, 0, 1, 1, 2, 0, 2, 0, 1, 1, 2, 1, 1, 2, 2, 0,\n",
       "       1, 1, 1, 2, 0, 1, 1, 0, 0, 1, 1, 2, 1, 0, 0, 2, 1, 1, 0, 0, 2, 0,\n",
       "       1, 2, 0, 1, 2, 1, 1, 2, 1, 2, 0, 1, 1, 2, 1, 1, 1, 0, 1, 2, 2, 2,\n",
       "       2, 0, 1, 2, 0, 0, 0, 1, 0, 2, 2, 0, 2, 1, 0, 2, 0, 1, 1, 2, 2, 0,\n",
       "       2, 2, 0, 2, 1, 1, 1, 0, 0, 2, 2, 2, 1, 1, 1, 2, 0, 1, 0, 2, 1, 1,\n",
       "       2, 1, 2, 2, 2, 1, 0, 0, 2, 0, 0, 0, 1, 1, 1, 1, 0, 2, 2, 0, 0, 2,\n",
       "       0, 2, 0, 2, 1, 0, 1, 0, 2, 2, 0, 1, 1, 1, 2, 1, 1, 1, 1, 2, 1, 2,\n",
       "       1, 2, 1, 0, 0, 1, 1, 1, 0, 0, 1, 0, 2, 1, 1, 0, 0, 2, 1, 0, 1, 1,\n",
       "       2, 1, 2, 1, 2, 2, 0, 0, 2, 1, 0, 0, 1, 2, 2, 0, 1, 2, 2, 0, 2, 2,\n",
       "       2, 1, 1, 1, 1, 1, 2, 0, 0, 1, 2, 1, 1, 2, 1, 0, 2, 0, 0, 2, 1, 0,\n",
       "       2, 2, 2, 0, 2, 2, 0, 1, 0, 2, 2, 1, 1, 0, 0, 2, 1, 0, 2, 2, 1, 0,\n",
       "       2, 2, 1, 0, 0, 2, 2, 2, 0, 0, 2, 2, 2, 1, 1, 2, 0, 1, 2, 1, 0, 0,\n",
       "       1, 2, 0, 1, 1, 0, 1, 2, 1, 2, 2, 1, 0, 1, 2, 2, 0, 0, 1, 2, 1, 2,\n",
       "       2, 1, 1, 1, 1, 0, 0, 0, 1, 1, 2, 0, 0, 1, 0, 2, 1, 2, 0, 0, 2, 2,\n",
       "       1, 2, 1, 1, 1, 2, 1, 0, 1, 2, 1, 1, 0, 2, 2, 2, 2, 1, 0, 0, 0, 2,\n",
       "       2, 2, 1, 2, 0, 1, 2, 0, 0, 0, 1, 0, 2, 1, 1, 1, 1, 1, 1, 2, 1, 1,\n",
       "       2, 1, 1, 1, 0, 2, 0, 0, 1, 0, 1, 1, 0, 0, 2, 2, 0, 1, 2, 1, 2, 1,\n",
       "       1, 2, 1, 0, 2, 0, 2, 0, 0, 1, 0, 1, 2, 2, 0, 2, 1, 1, 0, 1, 0, 2,\n",
       "       1, 2, 0, 1, 1, 1, 0, 0, 0, 1, 2, 1, 2, 0, 1, 1, 1, 1, 2, 1, 0, 2,\n",
       "       1, 2, 1, 1, 2, 0, 2, 0, 1, 0, 1, 0, 2, 1, 0, 1, 2, 0, 2, 1, 0, 2,\n",
       "       0, 1, 0, 1, 1, 0, 1, 2, 2, 1, 1, 2, 2, 1, 1, 0, 1, 2, 2, 2, 2, 1,\n",
       "       2, 1, 1, 2, 2, 1, 2, 1, 2, 1, 0, 2, 1, 0, 2, 2, 2, 1, 2, 0, 0, 2,\n",
       "       2, 2, 1, 2, 1, 1, 2, 1, 0, 1, 0, 1, 2, 1, 0, 1, 1, 1, 0, 2, 0, 0,\n",
       "       0, 2, 2, 0, 2, 2, 0, 1, 1, 2, 1, 0, 2, 2, 0, 1, 1, 2, 2, 2, 0, 2,\n",
       "       1, 2, 2, 0, 0, 2, 0, 2, 1, 0, 1, 2, 2, 1, 0, 1, 2, 2, 1, 1, 0, 1,\n",
       "       1, 2, 0, 1, 2, 0, 0, 2, 0, 1, 0, 0, 0, 1, 2, 2, 1, 0, 2, 1, 2, 2,\n",
       "       0, 1, 2, 0, 0, 1, 1, 2, 0, 0, 2, 0, 1, 1, 1, 1, 1, 1, 2, 1, 0])"
      ]
     },
     "execution_count": 296,
     "metadata": {},
     "output_type": "execute_result"
    }
   ],
   "source": [
    "final_model=KMeans(3)\n",
    "final_model.fit(vehicle_df)\n",
    "prediction=final_model.predict(vehicle_df)\n",
    "prediction"
   ]
  },
  {
   "cell_type": "markdown",
   "metadata": {
    "colab_type": "text",
    "id": "fY5IjhFihpAm"
   },
   "source": [
    "You can use kmeans.cluster_centers_ function to pull the centroid information from the instance"
   ]
  },
  {
   "cell_type": "code",
   "execution_count": 297,
   "metadata": {
    "colab": {},
    "colab_type": "code",
    "id": "vS3GhD4UhpAx"
   },
   "outputs": [
    {
     "data": {
      "text/plain": [
       "array([[-0.91400071, -0.51327609, -0.88664922, -1.05602904, -0.49182906,\n",
       "        -0.21883169, -0.775563  ,  0.85996991, -0.74203582, -0.47827281,\n",
       "        -0.77910348, -0.78034412, -0.37943428,  0.82611912, -0.08658373,\n",
       "        -0.30355495, -1.04650237, -1.10265258],\n",
       "       [-0.2319252 , -0.57973847, -0.30724438, -0.02693437,  0.20516443,\n",
       "        -0.11572895, -0.45873352,  0.32447256, -0.48810058, -0.54152679,\n",
       "        -0.41282893, -0.46297248, -0.60799507, -0.62342017, -0.06824398,\n",
       "         0.01513248,  0.82481456,  0.71018194],\n",
       "       [ 1.13076532,  1.17094237,  1.19500584,  1.01909505,  0.21505188,\n",
       "         0.34250798,  1.27180461, -1.19061224,  1.27548416,  1.09266768,\n",
       "         1.22038121,  1.28132727,  1.07954232, -0.02879497,  0.16229031,\n",
       "         0.26566456, -0.00535553,  0.18380067]])"
      ]
     },
     "execution_count": 297,
     "metadata": {},
     "output_type": "execute_result"
    }
   ],
   "source": [
    "final_model.cluster_centers_"
   ]
  },
  {
   "cell_type": "markdown",
   "metadata": {
    "colab_type": "text",
    "id": "A2T8SxBdhpBL"
   },
   "source": [
    "### 7. Store the centroids in a dataframe with column names from the original dataset given "
   ]
  },
  {
   "cell_type": "code",
   "execution_count": 298,
   "metadata": {
    "colab": {},
    "colab_type": "code",
    "id": "xpjTngRNhpBP"
   },
   "outputs": [
    {
     "data": {
      "text/html": [
       "<div>\n",
       "<style scoped>\n",
       "    .dataframe tbody tr th:only-of-type {\n",
       "        vertical-align: middle;\n",
       "    }\n",
       "\n",
       "    .dataframe tbody tr th {\n",
       "        vertical-align: top;\n",
       "    }\n",
       "\n",
       "    .dataframe thead th {\n",
       "        text-align: right;\n",
       "    }\n",
       "</style>\n",
       "<table border=\"1\" class=\"dataframe\">\n",
       "  <thead>\n",
       "    <tr style=\"text-align: right;\">\n",
       "      <th></th>\n",
       "      <th>compactness</th>\n",
       "      <th>circularity</th>\n",
       "      <th>distance_circularity</th>\n",
       "      <th>radius_ratio</th>\n",
       "      <th>pr.axis_aspect_ratio</th>\n",
       "      <th>max.length_aspect_ratio</th>\n",
       "      <th>scatter_ratio</th>\n",
       "      <th>elongatedness</th>\n",
       "      <th>pr.axis_rectangularity</th>\n",
       "      <th>max.length_rectangularity</th>\n",
       "      <th>scaled_variance</th>\n",
       "      <th>scaled_variance.1</th>\n",
       "      <th>scaled_radius_of_gyration</th>\n",
       "      <th>scaled_radius_of_gyration.1</th>\n",
       "      <th>skewness_about</th>\n",
       "      <th>skewness_about.1</th>\n",
       "      <th>skewness_about.2</th>\n",
       "      <th>hollows_ratio</th>\n",
       "    </tr>\n",
       "  </thead>\n",
       "  <tbody>\n",
       "    <tr>\n",
       "      <td>0</td>\n",
       "      <td>-0.914001</td>\n",
       "      <td>-0.513276</td>\n",
       "      <td>-0.886649</td>\n",
       "      <td>-1.056029</td>\n",
       "      <td>-0.491829</td>\n",
       "      <td>-0.218832</td>\n",
       "      <td>-0.775563</td>\n",
       "      <td>0.859970</td>\n",
       "      <td>-0.742036</td>\n",
       "      <td>-0.478273</td>\n",
       "      <td>-0.779103</td>\n",
       "      <td>-0.780344</td>\n",
       "      <td>-0.379434</td>\n",
       "      <td>0.826119</td>\n",
       "      <td>-0.086584</td>\n",
       "      <td>-0.303555</td>\n",
       "      <td>-1.046502</td>\n",
       "      <td>-1.102653</td>\n",
       "    </tr>\n",
       "    <tr>\n",
       "      <td>1</td>\n",
       "      <td>-0.231925</td>\n",
       "      <td>-0.579738</td>\n",
       "      <td>-0.307244</td>\n",
       "      <td>-0.026934</td>\n",
       "      <td>0.205164</td>\n",
       "      <td>-0.115729</td>\n",
       "      <td>-0.458734</td>\n",
       "      <td>0.324473</td>\n",
       "      <td>-0.488101</td>\n",
       "      <td>-0.541527</td>\n",
       "      <td>-0.412829</td>\n",
       "      <td>-0.462972</td>\n",
       "      <td>-0.607995</td>\n",
       "      <td>-0.623420</td>\n",
       "      <td>-0.068244</td>\n",
       "      <td>0.015132</td>\n",
       "      <td>0.824815</td>\n",
       "      <td>0.710182</td>\n",
       "    </tr>\n",
       "    <tr>\n",
       "      <td>2</td>\n",
       "      <td>1.130765</td>\n",
       "      <td>1.170942</td>\n",
       "      <td>1.195006</td>\n",
       "      <td>1.019095</td>\n",
       "      <td>0.215052</td>\n",
       "      <td>0.342508</td>\n",
       "      <td>1.271805</td>\n",
       "      <td>-1.190612</td>\n",
       "      <td>1.275484</td>\n",
       "      <td>1.092668</td>\n",
       "      <td>1.220381</td>\n",
       "      <td>1.281327</td>\n",
       "      <td>1.079542</td>\n",
       "      <td>-0.028795</td>\n",
       "      <td>0.162290</td>\n",
       "      <td>0.265665</td>\n",
       "      <td>-0.005356</td>\n",
       "      <td>0.183801</td>\n",
       "    </tr>\n",
       "  </tbody>\n",
       "</table>\n",
       "</div>"
      ],
      "text/plain": [
       "   compactness  circularity  distance_circularity  radius_ratio  \\\n",
       "0    -0.914001    -0.513276             -0.886649     -1.056029   \n",
       "1    -0.231925    -0.579738             -0.307244     -0.026934   \n",
       "2     1.130765     1.170942              1.195006      1.019095   \n",
       "\n",
       "   pr.axis_aspect_ratio  max.length_aspect_ratio  scatter_ratio  \\\n",
       "0             -0.491829                -0.218832      -0.775563   \n",
       "1              0.205164                -0.115729      -0.458734   \n",
       "2              0.215052                 0.342508       1.271805   \n",
       "\n",
       "   elongatedness  pr.axis_rectangularity  max.length_rectangularity  \\\n",
       "0       0.859970               -0.742036                  -0.478273   \n",
       "1       0.324473               -0.488101                  -0.541527   \n",
       "2      -1.190612                1.275484                   1.092668   \n",
       "\n",
       "   scaled_variance  scaled_variance.1  scaled_radius_of_gyration  \\\n",
       "0        -0.779103          -0.780344                  -0.379434   \n",
       "1        -0.412829          -0.462972                  -0.607995   \n",
       "2         1.220381           1.281327                   1.079542   \n",
       "\n",
       "   scaled_radius_of_gyration.1  skewness_about  skewness_about.1  \\\n",
       "0                     0.826119       -0.086584         -0.303555   \n",
       "1                    -0.623420       -0.068244          0.015132   \n",
       "2                    -0.028795        0.162290          0.265665   \n",
       "\n",
       "   skewness_about.2  hollows_ratio  \n",
       "0         -1.046502      -1.102653  \n",
       "1          0.824815       0.710182  \n",
       "2         -0.005356       0.183801  "
      ]
     },
     "execution_count": 298,
     "metadata": {},
     "output_type": "execute_result"
    }
   ],
   "source": [
    "vehicle_centroid=pd.DataFrame(final_model.cluster_centers_,columns=vehicle.drop(\"class\",axis=1).columns)\n",
    "vehicle_centroid"
   ]
  },
  {
   "cell_type": "markdown",
   "metadata": {
    "colab_type": "text",
    "id": "SvWlZ_FzhpBY"
   },
   "source": [
    "Hint: Use pd.Dataframe function "
   ]
  },
  {
   "cell_type": "code",
   "execution_count": 299,
   "metadata": {
    "colab": {},
    "colab_type": "code",
    "id": "HPey2b-DhpBh"
   },
   "outputs": [
    {
     "data": {
      "text/html": [
       "<div>\n",
       "<style scoped>\n",
       "    .dataframe tbody tr th:only-of-type {\n",
       "        vertical-align: middle;\n",
       "    }\n",
       "\n",
       "    .dataframe tbody tr th {\n",
       "        vertical-align: top;\n",
       "    }\n",
       "\n",
       "    .dataframe thead th {\n",
       "        text-align: right;\n",
       "    }\n",
       "</style>\n",
       "<table border=\"1\" class=\"dataframe\">\n",
       "  <thead>\n",
       "    <tr style=\"text-align: right;\">\n",
       "      <th></th>\n",
       "      <th>compactness</th>\n",
       "      <th>circularity</th>\n",
       "      <th>distance_circularity</th>\n",
       "      <th>radius_ratio</th>\n",
       "      <th>pr.axis_aspect_ratio</th>\n",
       "      <th>max.length_aspect_ratio</th>\n",
       "      <th>scatter_ratio</th>\n",
       "      <th>elongatedness</th>\n",
       "      <th>pr.axis_rectangularity</th>\n",
       "      <th>max.length_rectangularity</th>\n",
       "      <th>scaled_variance</th>\n",
       "      <th>scaled_variance.1</th>\n",
       "      <th>scaled_radius_of_gyration</th>\n",
       "      <th>scaled_radius_of_gyration.1</th>\n",
       "      <th>skewness_about</th>\n",
       "      <th>skewness_about.1</th>\n",
       "      <th>skewness_about.2</th>\n",
       "      <th>hollows_ratio</th>\n",
       "      <th>class</th>\n",
       "    </tr>\n",
       "  </thead>\n",
       "  <tbody>\n",
       "    <tr>\n",
       "      <td>0</td>\n",
       "      <td>95</td>\n",
       "      <td>48.0</td>\n",
       "      <td>83.0</td>\n",
       "      <td>178.0</td>\n",
       "      <td>72.0</td>\n",
       "      <td>10</td>\n",
       "      <td>162.0</td>\n",
       "      <td>42.0</td>\n",
       "      <td>20.0</td>\n",
       "      <td>159</td>\n",
       "      <td>176.0</td>\n",
       "      <td>379.0</td>\n",
       "      <td>184.0</td>\n",
       "      <td>70.0</td>\n",
       "      <td>6.0</td>\n",
       "      <td>16.0</td>\n",
       "      <td>187.0</td>\n",
       "      <td>197</td>\n",
       "      <td>van</td>\n",
       "    </tr>\n",
       "    <tr>\n",
       "      <td>1</td>\n",
       "      <td>91</td>\n",
       "      <td>41.0</td>\n",
       "      <td>84.0</td>\n",
       "      <td>141.0</td>\n",
       "      <td>57.0</td>\n",
       "      <td>9</td>\n",
       "      <td>149.0</td>\n",
       "      <td>45.0</td>\n",
       "      <td>19.0</td>\n",
       "      <td>143</td>\n",
       "      <td>170.0</td>\n",
       "      <td>330.0</td>\n",
       "      <td>158.0</td>\n",
       "      <td>72.0</td>\n",
       "      <td>9.0</td>\n",
       "      <td>14.0</td>\n",
       "      <td>189.0</td>\n",
       "      <td>199</td>\n",
       "      <td>van</td>\n",
       "    </tr>\n",
       "    <tr>\n",
       "      <td>2</td>\n",
       "      <td>104</td>\n",
       "      <td>50.0</td>\n",
       "      <td>106.0</td>\n",
       "      <td>209.0</td>\n",
       "      <td>66.0</td>\n",
       "      <td>10</td>\n",
       "      <td>207.0</td>\n",
       "      <td>32.0</td>\n",
       "      <td>23.0</td>\n",
       "      <td>158</td>\n",
       "      <td>223.0</td>\n",
       "      <td>635.0</td>\n",
       "      <td>220.0</td>\n",
       "      <td>73.0</td>\n",
       "      <td>14.0</td>\n",
       "      <td>9.0</td>\n",
       "      <td>188.0</td>\n",
       "      <td>196</td>\n",
       "      <td>car</td>\n",
       "    </tr>\n",
       "    <tr>\n",
       "      <td>3</td>\n",
       "      <td>93</td>\n",
       "      <td>41.0</td>\n",
       "      <td>82.0</td>\n",
       "      <td>159.0</td>\n",
       "      <td>63.0</td>\n",
       "      <td>9</td>\n",
       "      <td>144.0</td>\n",
       "      <td>46.0</td>\n",
       "      <td>19.0</td>\n",
       "      <td>143</td>\n",
       "      <td>160.0</td>\n",
       "      <td>309.0</td>\n",
       "      <td>127.0</td>\n",
       "      <td>63.0</td>\n",
       "      <td>6.0</td>\n",
       "      <td>10.0</td>\n",
       "      <td>199.0</td>\n",
       "      <td>207</td>\n",
       "      <td>van</td>\n",
       "    </tr>\n",
       "    <tr>\n",
       "      <td>4</td>\n",
       "      <td>85</td>\n",
       "      <td>44.0</td>\n",
       "      <td>70.0</td>\n",
       "      <td>205.0</td>\n",
       "      <td>103.0</td>\n",
       "      <td>52</td>\n",
       "      <td>149.0</td>\n",
       "      <td>45.0</td>\n",
       "      <td>19.0</td>\n",
       "      <td>144</td>\n",
       "      <td>241.0</td>\n",
       "      <td>325.0</td>\n",
       "      <td>188.0</td>\n",
       "      <td>127.0</td>\n",
       "      <td>9.0</td>\n",
       "      <td>11.0</td>\n",
       "      <td>180.0</td>\n",
       "      <td>183</td>\n",
       "      <td>bus</td>\n",
       "    </tr>\n",
       "    <tr>\n",
       "      <td>...</td>\n",
       "      <td>...</td>\n",
       "      <td>...</td>\n",
       "      <td>...</td>\n",
       "      <td>...</td>\n",
       "      <td>...</td>\n",
       "      <td>...</td>\n",
       "      <td>...</td>\n",
       "      <td>...</td>\n",
       "      <td>...</td>\n",
       "      <td>...</td>\n",
       "      <td>...</td>\n",
       "      <td>...</td>\n",
       "      <td>...</td>\n",
       "      <td>...</td>\n",
       "      <td>...</td>\n",
       "      <td>...</td>\n",
       "      <td>...</td>\n",
       "      <td>...</td>\n",
       "      <td>...</td>\n",
       "    </tr>\n",
       "    <tr>\n",
       "      <td>841</td>\n",
       "      <td>93</td>\n",
       "      <td>39.0</td>\n",
       "      <td>87.0</td>\n",
       "      <td>183.0</td>\n",
       "      <td>64.0</td>\n",
       "      <td>8</td>\n",
       "      <td>169.0</td>\n",
       "      <td>40.0</td>\n",
       "      <td>20.0</td>\n",
       "      <td>134</td>\n",
       "      <td>200.0</td>\n",
       "      <td>422.0</td>\n",
       "      <td>149.0</td>\n",
       "      <td>72.0</td>\n",
       "      <td>7.0</td>\n",
       "      <td>25.0</td>\n",
       "      <td>188.0</td>\n",
       "      <td>195</td>\n",
       "      <td>car</td>\n",
       "    </tr>\n",
       "    <tr>\n",
       "      <td>842</td>\n",
       "      <td>89</td>\n",
       "      <td>46.0</td>\n",
       "      <td>84.0</td>\n",
       "      <td>163.0</td>\n",
       "      <td>66.0</td>\n",
       "      <td>11</td>\n",
       "      <td>159.0</td>\n",
       "      <td>43.0</td>\n",
       "      <td>20.0</td>\n",
       "      <td>159</td>\n",
       "      <td>173.0</td>\n",
       "      <td>368.0</td>\n",
       "      <td>176.0</td>\n",
       "      <td>72.0</td>\n",
       "      <td>1.0</td>\n",
       "      <td>20.0</td>\n",
       "      <td>186.0</td>\n",
       "      <td>197</td>\n",
       "      <td>van</td>\n",
       "    </tr>\n",
       "    <tr>\n",
       "      <td>843</td>\n",
       "      <td>106</td>\n",
       "      <td>54.0</td>\n",
       "      <td>101.0</td>\n",
       "      <td>222.0</td>\n",
       "      <td>67.0</td>\n",
       "      <td>12</td>\n",
       "      <td>222.0</td>\n",
       "      <td>30.0</td>\n",
       "      <td>25.0</td>\n",
       "      <td>173</td>\n",
       "      <td>228.0</td>\n",
       "      <td>721.0</td>\n",
       "      <td>200.0</td>\n",
       "      <td>70.0</td>\n",
       "      <td>3.0</td>\n",
       "      <td>4.0</td>\n",
       "      <td>187.0</td>\n",
       "      <td>201</td>\n",
       "      <td>car</td>\n",
       "    </tr>\n",
       "    <tr>\n",
       "      <td>844</td>\n",
       "      <td>86</td>\n",
       "      <td>36.0</td>\n",
       "      <td>78.0</td>\n",
       "      <td>146.0</td>\n",
       "      <td>58.0</td>\n",
       "      <td>7</td>\n",
       "      <td>135.0</td>\n",
       "      <td>50.0</td>\n",
       "      <td>18.0</td>\n",
       "      <td>124</td>\n",
       "      <td>155.0</td>\n",
       "      <td>270.0</td>\n",
       "      <td>148.0</td>\n",
       "      <td>66.0</td>\n",
       "      <td>0.0</td>\n",
       "      <td>25.0</td>\n",
       "      <td>190.0</td>\n",
       "      <td>195</td>\n",
       "      <td>car</td>\n",
       "    </tr>\n",
       "    <tr>\n",
       "      <td>845</td>\n",
       "      <td>85</td>\n",
       "      <td>36.0</td>\n",
       "      <td>66.0</td>\n",
       "      <td>123.0</td>\n",
       "      <td>55.0</td>\n",
       "      <td>5</td>\n",
       "      <td>120.0</td>\n",
       "      <td>56.0</td>\n",
       "      <td>17.0</td>\n",
       "      <td>128</td>\n",
       "      <td>140.0</td>\n",
       "      <td>212.0</td>\n",
       "      <td>131.0</td>\n",
       "      <td>73.0</td>\n",
       "      <td>1.0</td>\n",
       "      <td>18.0</td>\n",
       "      <td>186.0</td>\n",
       "      <td>190</td>\n",
       "      <td>van</td>\n",
       "    </tr>\n",
       "  </tbody>\n",
       "</table>\n",
       "<p>813 rows × 19 columns</p>\n",
       "</div>"
      ],
      "text/plain": [
       "     compactness  circularity  distance_circularity  radius_ratio  \\\n",
       "0             95         48.0                  83.0         178.0   \n",
       "1             91         41.0                  84.0         141.0   \n",
       "2            104         50.0                 106.0         209.0   \n",
       "3             93         41.0                  82.0         159.0   \n",
       "4             85         44.0                  70.0         205.0   \n",
       "..           ...          ...                   ...           ...   \n",
       "841           93         39.0                  87.0         183.0   \n",
       "842           89         46.0                  84.0         163.0   \n",
       "843          106         54.0                 101.0         222.0   \n",
       "844           86         36.0                  78.0         146.0   \n",
       "845           85         36.0                  66.0         123.0   \n",
       "\n",
       "     pr.axis_aspect_ratio  max.length_aspect_ratio  scatter_ratio  \\\n",
       "0                    72.0                       10          162.0   \n",
       "1                    57.0                        9          149.0   \n",
       "2                    66.0                       10          207.0   \n",
       "3                    63.0                        9          144.0   \n",
       "4                   103.0                       52          149.0   \n",
       "..                    ...                      ...            ...   \n",
       "841                  64.0                        8          169.0   \n",
       "842                  66.0                       11          159.0   \n",
       "843                  67.0                       12          222.0   \n",
       "844                  58.0                        7          135.0   \n",
       "845                  55.0                        5          120.0   \n",
       "\n",
       "     elongatedness  pr.axis_rectangularity  max.length_rectangularity  \\\n",
       "0             42.0                    20.0                        159   \n",
       "1             45.0                    19.0                        143   \n",
       "2             32.0                    23.0                        158   \n",
       "3             46.0                    19.0                        143   \n",
       "4             45.0                    19.0                        144   \n",
       "..             ...                     ...                        ...   \n",
       "841           40.0                    20.0                        134   \n",
       "842           43.0                    20.0                        159   \n",
       "843           30.0                    25.0                        173   \n",
       "844           50.0                    18.0                        124   \n",
       "845           56.0                    17.0                        128   \n",
       "\n",
       "     scaled_variance  scaled_variance.1  scaled_radius_of_gyration  \\\n",
       "0              176.0              379.0                      184.0   \n",
       "1              170.0              330.0                      158.0   \n",
       "2              223.0              635.0                      220.0   \n",
       "3              160.0              309.0                      127.0   \n",
       "4              241.0              325.0                      188.0   \n",
       "..               ...                ...                        ...   \n",
       "841            200.0              422.0                      149.0   \n",
       "842            173.0              368.0                      176.0   \n",
       "843            228.0              721.0                      200.0   \n",
       "844            155.0              270.0                      148.0   \n",
       "845            140.0              212.0                      131.0   \n",
       "\n",
       "     scaled_radius_of_gyration.1  skewness_about  skewness_about.1  \\\n",
       "0                           70.0             6.0              16.0   \n",
       "1                           72.0             9.0              14.0   \n",
       "2                           73.0            14.0               9.0   \n",
       "3                           63.0             6.0              10.0   \n",
       "4                          127.0             9.0              11.0   \n",
       "..                           ...             ...               ...   \n",
       "841                         72.0             7.0              25.0   \n",
       "842                         72.0             1.0              20.0   \n",
       "843                         70.0             3.0               4.0   \n",
       "844                         66.0             0.0              25.0   \n",
       "845                         73.0             1.0              18.0   \n",
       "\n",
       "     skewness_about.2  hollows_ratio class  \n",
       "0               187.0            197   van  \n",
       "1               189.0            199   van  \n",
       "2               188.0            196   car  \n",
       "3               199.0            207   van  \n",
       "4               180.0            183   bus  \n",
       "..                ...            ...   ...  \n",
       "841             188.0            195   car  \n",
       "842             186.0            197   van  \n",
       "843             187.0            201   car  \n",
       "844             190.0            195   car  \n",
       "845             186.0            190   van  \n",
       "\n",
       "[813 rows x 19 columns]"
      ]
     },
     "execution_count": 299,
     "metadata": {},
     "output_type": "execute_result"
    }
   ],
   "source": [
    "vehicle"
   ]
  },
  {
   "cell_type": "markdown",
   "metadata": {
    "colab_type": "text",
    "id": "n2kFVi2GhpBn"
   },
   "source": [
    "### Use kmeans.labels_ function to print out the labels of the classes"
   ]
  },
  {
   "cell_type": "code",
   "execution_count": 300,
   "metadata": {
    "colab": {},
    "colab_type": "code",
    "id": "Ahx91q_ghpBp"
   },
   "outputs": [
    {
     "data": {
      "text/plain": [
       "array([1, 1, 2, 1, 0, 1, 1, 1, 1, 1, 1, 1, 1, 2, 0, 1, 2, 0, 0, 1, 1, 2,\n",
       "       1, 0, 2, 2, 0, 1, 1, 1, 2, 1, 0, 2, 2, 0, 2, 0, 0, 1, 2, 0, 0, 0,\n",
       "       0, 1, 0, 1, 2, 1, 2, 1, 1, 0, 2, 0, 2, 0, 0, 0, 1, 0, 2, 1, 2, 2,\n",
       "       1, 0, 1, 2, 1, 0, 0, 2, 1, 0, 1, 2, 1, 0, 1, 0, 2, 1, 2, 1, 0, 2,\n",
       "       0, 0, 2, 0, 0, 1, 1, 0, 2, 2, 0, 0, 2, 1, 1, 0, 0, 0, 1, 2, 2, 1,\n",
       "       0, 0, 1, 0, 0, 0, 0, 0, 1, 2, 2, 1, 1, 0, 2, 2, 0, 1, 0, 1, 1, 2,\n",
       "       0, 1, 2, 1, 1, 1, 1, 2, 1, 1, 2, 1, 2, 1, 0, 1, 0, 2, 1, 1, 2, 2,\n",
       "       1, 2, 0, 0, 2, 2, 1, 2, 1, 1, 1, 1, 0, 2, 0, 1, 0, 2, 1, 1, 1, 2,\n",
       "       1, 2, 1, 2, 1, 0, 2, 0, 0, 0, 1, 1, 2, 2, 1, 1, 1, 0, 2, 1, 1, 1,\n",
       "       2, 0, 0, 2, 0, 1, 2, 0, 0, 0, 1, 2, 1, 2, 0, 0, 0, 0, 2, 1, 0, 1,\n",
       "       2, 0, 1, 1, 0, 2, 0, 0, 1, 1, 2, 0, 2, 0, 1, 1, 2, 1, 1, 2, 2, 0,\n",
       "       1, 1, 1, 2, 0, 1, 1, 0, 0, 1, 1, 2, 1, 0, 0, 2, 1, 1, 0, 0, 2, 0,\n",
       "       1, 2, 0, 1, 2, 1, 1, 2, 1, 2, 0, 1, 1, 2, 1, 1, 1, 0, 1, 2, 2, 2,\n",
       "       2, 0, 1, 2, 0, 0, 0, 1, 0, 2, 2, 0, 2, 1, 0, 2, 0, 1, 1, 2, 2, 0,\n",
       "       2, 2, 0, 2, 1, 1, 1, 0, 0, 2, 2, 2, 1, 1, 1, 2, 0, 1, 0, 2, 1, 1,\n",
       "       2, 1, 2, 2, 2, 1, 0, 0, 2, 0, 0, 0, 1, 1, 1, 1, 0, 2, 2, 0, 0, 2,\n",
       "       0, 2, 0, 2, 1, 0, 1, 0, 2, 2, 0, 1, 1, 1, 2, 1, 1, 1, 1, 2, 1, 2,\n",
       "       1, 2, 1, 0, 0, 1, 1, 1, 0, 0, 1, 0, 2, 1, 1, 0, 0, 2, 1, 0, 1, 1,\n",
       "       2, 1, 2, 1, 2, 2, 0, 0, 2, 1, 0, 0, 1, 2, 2, 0, 1, 2, 2, 0, 2, 2,\n",
       "       2, 1, 1, 1, 1, 1, 2, 0, 0, 1, 2, 1, 1, 2, 1, 0, 2, 0, 0, 2, 1, 0,\n",
       "       2, 2, 2, 0, 2, 2, 0, 1, 0, 2, 2, 1, 1, 0, 0, 2, 1, 0, 2, 2, 1, 0,\n",
       "       2, 2, 1, 0, 0, 2, 2, 2, 0, 0, 2, 2, 2, 1, 1, 2, 0, 1, 2, 1, 0, 0,\n",
       "       1, 2, 0, 1, 1, 0, 1, 2, 1, 2, 2, 1, 0, 1, 2, 2, 0, 0, 1, 2, 1, 2,\n",
       "       2, 1, 1, 1, 1, 0, 0, 0, 1, 1, 2, 0, 0, 1, 0, 2, 1, 2, 0, 0, 2, 2,\n",
       "       1, 2, 1, 1, 1, 2, 1, 0, 1, 2, 1, 1, 0, 2, 2, 2, 2, 1, 0, 0, 0, 2,\n",
       "       2, 2, 1, 2, 0, 1, 2, 0, 0, 0, 1, 0, 2, 1, 1, 1, 1, 1, 1, 2, 1, 1,\n",
       "       2, 1, 1, 1, 0, 2, 0, 0, 1, 0, 1, 1, 0, 0, 2, 2, 0, 1, 2, 1, 2, 1,\n",
       "       1, 2, 1, 0, 2, 0, 2, 0, 0, 1, 0, 1, 2, 2, 0, 2, 1, 1, 0, 1, 0, 2,\n",
       "       1, 2, 0, 1, 1, 1, 0, 0, 0, 1, 2, 1, 2, 0, 1, 1, 1, 1, 2, 1, 0, 2,\n",
       "       1, 2, 1, 1, 2, 0, 2, 0, 1, 0, 1, 0, 2, 1, 0, 1, 2, 0, 2, 1, 0, 2,\n",
       "       0, 1, 0, 1, 1, 0, 1, 2, 2, 1, 1, 2, 2, 1, 1, 0, 1, 2, 2, 2, 2, 1,\n",
       "       2, 1, 1, 2, 2, 1, 2, 1, 2, 1, 0, 2, 1, 0, 2, 2, 2, 1, 2, 0, 0, 2,\n",
       "       2, 2, 1, 2, 1, 1, 2, 1, 0, 1, 0, 1, 2, 1, 0, 1, 1, 1, 0, 2, 0, 0,\n",
       "       0, 2, 2, 0, 2, 2, 0, 1, 1, 2, 1, 0, 2, 2, 0, 1, 1, 2, 2, 2, 0, 2,\n",
       "       1, 2, 2, 0, 0, 2, 0, 2, 1, 0, 1, 2, 2, 1, 0, 1, 2, 2, 1, 1, 0, 1,\n",
       "       1, 2, 0, 1, 2, 0, 0, 2, 0, 1, 0, 0, 0, 1, 2, 2, 1, 0, 2, 1, 2, 2,\n",
       "       0, 1, 2, 0, 0, 1, 1, 2, 0, 0, 2, 0, 1, 1, 1, 1, 1, 1, 2, 1, 0])"
      ]
     },
     "execution_count": 300,
     "metadata": {},
     "output_type": "execute_result"
    }
   ],
   "source": [
    "final_model.labels_"
   ]
  },
  {
   "cell_type": "code",
   "execution_count": 301,
   "metadata": {
    "colab": {},
    "colab_type": "code",
    "id": "hm0AtttihpBv"
   },
   "outputs": [
    {
     "data": {
      "text/html": [
       "<div>\n",
       "<style scoped>\n",
       "    .dataframe tbody tr th:only-of-type {\n",
       "        vertical-align: middle;\n",
       "    }\n",
       "\n",
       "    .dataframe tbody tr th {\n",
       "        vertical-align: top;\n",
       "    }\n",
       "\n",
       "    .dataframe thead th {\n",
       "        text-align: right;\n",
       "    }\n",
       "</style>\n",
       "<table border=\"1\" class=\"dataframe\">\n",
       "  <thead>\n",
       "    <tr style=\"text-align: right;\">\n",
       "      <th></th>\n",
       "      <th>class</th>\n",
       "      <th>Cluster Class</th>\n",
       "    </tr>\n",
       "  </thead>\n",
       "  <tbody>\n",
       "    <tr>\n",
       "      <td>0</td>\n",
       "      <td>van</td>\n",
       "      <td>1</td>\n",
       "    </tr>\n",
       "    <tr>\n",
       "      <td>1</td>\n",
       "      <td>van</td>\n",
       "      <td>1</td>\n",
       "    </tr>\n",
       "    <tr>\n",
       "      <td>2</td>\n",
       "      <td>car</td>\n",
       "      <td>2</td>\n",
       "    </tr>\n",
       "    <tr>\n",
       "      <td>3</td>\n",
       "      <td>van</td>\n",
       "      <td>1</td>\n",
       "    </tr>\n",
       "    <tr>\n",
       "      <td>4</td>\n",
       "      <td>bus</td>\n",
       "      <td>0</td>\n",
       "    </tr>\n",
       "    <tr>\n",
       "      <td>...</td>\n",
       "      <td>...</td>\n",
       "      <td>...</td>\n",
       "    </tr>\n",
       "    <tr>\n",
       "      <td>841</td>\n",
       "      <td>car</td>\n",
       "      <td>1</td>\n",
       "    </tr>\n",
       "    <tr>\n",
       "      <td>842</td>\n",
       "      <td>van</td>\n",
       "      <td>1</td>\n",
       "    </tr>\n",
       "    <tr>\n",
       "      <td>843</td>\n",
       "      <td>car</td>\n",
       "      <td>2</td>\n",
       "    </tr>\n",
       "    <tr>\n",
       "      <td>844</td>\n",
       "      <td>car</td>\n",
       "      <td>1</td>\n",
       "    </tr>\n",
       "    <tr>\n",
       "      <td>845</td>\n",
       "      <td>van</td>\n",
       "      <td>0</td>\n",
       "    </tr>\n",
       "  </tbody>\n",
       "</table>\n",
       "<p>813 rows × 2 columns</p>\n",
       "</div>"
      ],
      "text/plain": [
       "    class  Cluster Class\n",
       "0     van              1\n",
       "1     van              1\n",
       "2     car              2\n",
       "3     van              1\n",
       "4     bus              0\n",
       "..    ...            ...\n",
       "841   car              1\n",
       "842   van              1\n",
       "843   car              2\n",
       "844   car              1\n",
       "845   van              0\n",
       "\n",
       "[813 rows x 2 columns]"
      ]
     },
     "execution_count": 301,
     "metadata": {},
     "output_type": "execute_result"
    }
   ],
   "source": [
    "vehicle[\"Cluster Class\"]=prediction\n",
    "vehicle[[\"class\",\"Cluster Class\"]]"
   ]
  },
  {
   "cell_type": "markdown",
   "metadata": {
    "colab_type": "text",
    "id": "SmQyHhmFhpB3"
   },
   "source": [
    "## Hierarchical Clustering "
   ]
  },
  {
   "cell_type": "markdown",
   "metadata": {
    "colab_type": "text",
    "id": "_zAMRDe_hpB5"
   },
   "source": [
    "### 8. Variable creation"
   ]
  },
  {
   "cell_type": "markdown",
   "metadata": {
    "colab_type": "text",
    "id": "VESIKt49hpB6"
   },
   "source": [
    "For Hierarchical clustering, we will create datasets using multivariate normal distribution to visually observe how the clusters are formed at the end"
   ]
  },
  {
   "cell_type": "code",
   "execution_count": 224,
   "metadata": {
    "colab": {},
    "colab_type": "code",
    "id": "qpUh49bKhpB8"
   },
   "outputs": [],
   "source": [
    "np.random.seed(101)  # for repeatability of this dataset\n",
    "a = np.random.multivariate_normal([10, 0], [[3, 1], [1, 4]], size=[100,])\n",
    "b = np.random.multivariate_normal([0, 20], [[3, 1], [1, 4]], size=[50,])\n",
    "c = np.random.multivariate_normal([10, 20], [[3, 1], [1, 4]], size=[100,])"
   ]
  },
  {
   "cell_type": "markdown",
   "metadata": {
    "colab_type": "raw",
    "id": "cu8DfP8shpCA"
   },
   "source": [
    "a = np.random.multivariate_normal([10, 0], [[3, 1], [1, 4]], size=[100,])\n",
    "b = np.random.multivariate_normal([0, 20], [[3, 1], [1, 4]], size=[50,])\n",
    "c = np.random.multivariate_normal([10, 20], [[3, 1], [1, 4]], size=[100,])"
   ]
  },
  {
   "cell_type": "markdown",
   "metadata": {},
   "source": [
    "https://docs.scipy.org/doc/numpy-1.15.1/reference/generated/numpy.random.multivariate_normal.html"
   ]
  },
  {
   "cell_type": "markdown",
   "metadata": {
    "colab_type": "text",
    "id": "Eui7Qgc8hpCH"
   },
   "source": [
    "### 9. Combine all three arrays a,b,c into a dataframe"
   ]
  },
  {
   "cell_type": "code",
   "execution_count": 269,
   "metadata": {
    "colab": {},
    "colab_type": "code",
    "id": "Nle34XhhhpCI"
   },
   "outputs": [],
   "source": [
    "X = np.concatenate((a, b,c))\n",
    "df=pd.DataFrame(X)"
   ]
  },
  {
   "cell_type": "code",
   "execution_count": 270,
   "metadata": {
    "colab": {},
    "colab_type": "code",
    "id": "lov1nQqAhpCa"
   },
   "outputs": [
    {
     "data": {
      "text/html": [
       "<div>\n",
       "<style scoped>\n",
       "    .dataframe tbody tr th:only-of-type {\n",
       "        vertical-align: middle;\n",
       "    }\n",
       "\n",
       "    .dataframe tbody tr th {\n",
       "        vertical-align: top;\n",
       "    }\n",
       "\n",
       "    .dataframe thead th {\n",
       "        text-align: right;\n",
       "    }\n",
       "</style>\n",
       "<table border=\"1\" class=\"dataframe\">\n",
       "  <thead>\n",
       "    <tr style=\"text-align: right;\">\n",
       "      <th></th>\n",
       "      <th>0</th>\n",
       "      <th>1</th>\n",
       "    </tr>\n",
       "  </thead>\n",
       "  <tbody>\n",
       "    <tr>\n",
       "      <td>0</td>\n",
       "      <td>13.882785</td>\n",
       "      <td>4.438501</td>\n",
       "    </tr>\n",
       "    <tr>\n",
       "      <td>1</td>\n",
       "      <td>11.687256</td>\n",
       "      <td>1.250981</td>\n",
       "    </tr>\n",
       "    <tr>\n",
       "      <td>2</td>\n",
       "      <td>10.316397</td>\n",
       "      <td>1.449346</td>\n",
       "    </tr>\n",
       "    <tr>\n",
       "      <td>3</td>\n",
       "      <td>9.837412</td>\n",
       "      <td>-2.041974</td>\n",
       "    </tr>\n",
       "    <tr>\n",
       "      <td>4</td>\n",
       "      <td>8.691601</td>\n",
       "      <td>-4.289773</td>\n",
       "    </tr>\n",
       "    <tr>\n",
       "      <td>...</td>\n",
       "      <td>...</td>\n",
       "      <td>...</td>\n",
       "    </tr>\n",
       "    <tr>\n",
       "      <td>245</td>\n",
       "      <td>9.248848</td>\n",
       "      <td>24.346291</td>\n",
       "    </tr>\n",
       "    <tr>\n",
       "      <td>246</td>\n",
       "      <td>6.958291</td>\n",
       "      <td>16.448655</td>\n",
       "    </tr>\n",
       "    <tr>\n",
       "      <td>247</td>\n",
       "      <td>11.260042</td>\n",
       "      <td>20.333577</td>\n",
       "    </tr>\n",
       "    <tr>\n",
       "      <td>248</td>\n",
       "      <td>6.889835</td>\n",
       "      <td>21.238297</td>\n",
       "    </tr>\n",
       "    <tr>\n",
       "      <td>249</td>\n",
       "      <td>11.221498</td>\n",
       "      <td>24.025093</td>\n",
       "    </tr>\n",
       "  </tbody>\n",
       "</table>\n",
       "<p>250 rows × 2 columns</p>\n",
       "</div>"
      ],
      "text/plain": [
       "             0          1\n",
       "0    13.882785   4.438501\n",
       "1    11.687256   1.250981\n",
       "2    10.316397   1.449346\n",
       "3     9.837412  -2.041974\n",
       "4     8.691601  -4.289773\n",
       "..         ...        ...\n",
       "245   9.248848  24.346291\n",
       "246   6.958291  16.448655\n",
       "247  11.260042  20.333577\n",
       "248   6.889835  21.238297\n",
       "249  11.221498  24.025093\n",
       "\n",
       "[250 rows x 2 columns]"
      ]
     },
     "execution_count": 270,
     "metadata": {},
     "output_type": "execute_result"
    }
   ],
   "source": [
    "df"
   ]
  },
  {
   "cell_type": "markdown",
   "metadata": {
    "colab_type": "text",
    "id": "v6JlILlihpCe"
   },
   "source": [
    "### 10. Use scatter matrix to print all the 3 distributions"
   ]
  },
  {
   "cell_type": "code",
   "execution_count": 268,
   "metadata": {
    "colab": {},
    "colab_type": "code",
    "id": "hILsbwkOhpCk"
   },
   "outputs": [
    {
     "data": {
      "image/png": "[encoded data removed]",
      "text/plain": [
       "<Figure size 432x288 with 1 Axes>"
      ]
     },
     "metadata": {
      "needs_background": "light"
     },
     "output_type": "display_data"
    }
   ],
   "source": [
    "plt.scatter(X[:,0], X[:,1])\n",
    "plt.show()"
   ]
  },
  {
   "cell_type": "markdown",
   "metadata": {
    "colab_type": "text",
    "id": "Ufj36K5NhpCo"
   },
   "source": [
    "### 11. Find out the linkage matrix"
   ]
  },
  {
   "cell_type": "markdown",
   "metadata": {
    "colab": {},
    "colab_type": "code",
    "id": "rXJAOAilhpCp"
   },
   "source": [
    "https://docs.scipy.org/doc/scipy-0.14.0/reference/generated/scipy.cluster.hierarchy.linkage.html"
   ]
  },
  {
   "cell_type": "markdown",
   "metadata": {
    "colab_type": "text",
    "id": "EOxwi5gshpCt"
   },
   "source": [
    "Use ward as linkage metric and distance as Eucledian"
   ]
  },
  {
   "cell_type": "code",
   "execution_count": 267,
   "metadata": {
    "colab": {},
    "colab_type": "code",
    "id": "xJsL16lqhpCu"
   },
   "outputs": [
    {
     "data": {
      "text/plain": [
       "array([[6.00000000e+00, 3.50000000e+01, 4.03105214e-02, 2.00000000e+00],\n",
       "       [1.59000000e+02, 2.47000000e+02, 4.15336058e-02, 2.00000000e+00],\n",
       "       [1.90000000e+02, 2.14000000e+02, 4.23431904e-02, 2.00000000e+00],\n",
       "       [1.50000000e+01, 5.50000000e+01, 5.03965285e-02, 2.00000000e+00],\n",
       "       [2.30000000e+01, 9.70000000e+01, 5.98615830e-02, 2.00000000e+00],\n",
       "       [1.83000000e+02, 2.30000000e+02, 7.14307127e-02, 2.00000000e+00],\n",
       "       [1.60000000e+02, 1.84000000e+02, 8.10640748e-02, 2.00000000e+00],\n",
       "       [5.20000000e+01, 9.80000000e+01, 8.63310058e-02, 2.00000000e+00],\n",
       "       [1.75000000e+02, 2.33000000e+02, 9.07935743e-02, 2.00000000e+00],\n",
       "       [8.00000000e+00, 1.90000000e+01, 1.05398862e-01, 2.00000000e+00],\n",
       "       [6.60000000e+01, 7.30000000e+01, 1.08977001e-01, 2.00000000e+00],\n",
       "       [5.90000000e+01, 9.60000000e+01, 1.15828291e-01, 2.00000000e+00],\n",
       "       [9.20000000e+01, 2.53000000e+02, 1.34937651e-01, 3.00000000e+00],\n",
       "       [2.10000000e+02, 2.31000000e+02, 1.37055098e-01, 2.00000000e+00],\n",
       "       [1.54000000e+02, 2.11000000e+02, 1.37824764e-01, 2.00000000e+00],\n",
       "       [1.30000000e+01, 6.90000000e+01, 1.52703764e-01, 2.00000000e+00],\n",
       "       [1.20000000e+01, 4.10000000e+01, 1.58639203e-01, 2.00000000e+00],\n",
       "       [2.04000000e+02, 2.32000000e+02, 1.59543686e-01, 2.00000000e+00],\n",
       "       [4.20000000e+01, 2.60000000e+02, 1.68525429e-01, 3.00000000e+00],\n",
       "       [2.20000000e+02, 2.21000000e+02, 1.79795753e-01, 2.00000000e+00],\n",
       "       [1.80000000e+01, 3.30000000e+01, 1.93183631e-01, 2.00000000e+00],\n",
       "       [1.81000000e+02, 1.85000000e+02, 1.94440990e-01, 2.00000000e+00],\n",
       "       [1.92000000e+02, 2.56000000e+02, 1.97898027e-01, 3.00000000e+00],\n",
       "       [4.60000000e+01, 6.50000000e+01, 1.98325448e-01, 2.00000000e+00],\n",
       "       [1.73000000e+02, 2.19000000e+02, 2.08748079e-01, 2.00000000e+00],\n",
       "       [6.70000000e+01, 9.10000000e+01, 2.11760204e-01, 2.00000000e+00],\n",
       "       [8.40000000e+01, 2.50000000e+02, 2.13584875e-01, 3.00000000e+00],\n",
       "       [1.22000000e+02, 1.43000000e+02, 2.17113807e-01, 2.00000000e+00],\n",
       "       [5.30000000e+01, 5.40000000e+01, 2.32131193e-01, 2.00000000e+00],\n",
       "       [0.00000000e+00, 9.00000000e+00, 2.33030950e-01, 2.00000000e+00],\n",
       "       [1.16000000e+02, 1.42000000e+02, 2.35797417e-01, 2.00000000e+00],\n",
       "       [2.60000000e+01, 2.57000000e+02, 2.42940144e-01, 3.00000000e+00],\n",
       "       [1.36000000e+02, 1.44000000e+02, 2.49226556e-01, 2.00000000e+00],\n",
       "       [2.23000000e+02, 2.44000000e+02, 2.50539353e-01, 2.00000000e+00],\n",
       "       [1.70000000e+02, 1.82000000e+02, 2.58283158e-01, 2.00000000e+00],\n",
       "       [2.70000000e+01, 3.20000000e+01, 2.63599705e-01, 2.00000000e+00],\n",
       "       [3.00000000e+00, 1.70000000e+01, 2.77425591e-01, 2.00000000e+00],\n",
       "       [1.62000000e+02, 1.65000000e+02, 2.81732739e-01, 2.00000000e+00],\n",
       "       [1.58000000e+02, 1.79000000e+02, 2.87512937e-01, 2.00000000e+00],\n",
       "       [1.40000000e+01, 6.10000000e+01, 2.88927594e-01, 2.00000000e+00],\n",
       "       [2.18000000e+02, 2.37000000e+02, 2.94274223e-01, 2.00000000e+00],\n",
       "       [1.95000000e+02, 2.22000000e+02, 2.95138509e-01, 2.00000000e+00],\n",
       "       [5.00000000e+00, 7.70000000e+01, 2.97838218e-01, 2.00000000e+00],\n",
       "       [1.67000000e+02, 2.51000000e+02, 3.11247463e-01, 3.00000000e+00],\n",
       "       [1.69000000e+02, 1.89000000e+02, 3.13546479e-01, 2.00000000e+00],\n",
       "       [2.12000000e+02, 2.13000000e+02, 3.18076018e-01, 2.00000000e+00],\n",
       "       [1.74000000e+02, 2.67000000e+02, 3.21295470e-01, 3.00000000e+00],\n",
       "       [7.00000000e+00, 5.60000000e+01, 3.26671770e-01, 2.00000000e+00],\n",
       "       [2.00000000e+00, 4.40000000e+01, 3.39443074e-01, 2.00000000e+00],\n",
       "       [1.68000000e+02, 2.69000000e+02, 3.66454864e-01, 3.00000000e+00],\n",
       "       [2.20000000e+01, 5.80000000e+01, 3.73467246e-01, 2.00000000e+00],\n",
       "       [6.80000000e+01, 7.20000000e+01, 3.84134764e-01, 2.00000000e+00],\n",
       "       [1.03000000e+02, 1.09000000e+02, 3.91568077e-01, 2.00000000e+00],\n",
       "       [1.51000000e+02, 2.01000000e+02, 3.95721747e-01, 2.00000000e+00],\n",
       "       [2.08000000e+02, 2.63000000e+02, 3.96174957e-01, 3.00000000e+00],\n",
       "       [1.72000000e+02, 1.91000000e+02, 4.01180283e-01, 2.00000000e+00],\n",
       "       [7.10000000e+01, 2.54000000e+02, 4.02057884e-01, 3.00000000e+00],\n",
       "       [2.61000000e+02, 2.73000000e+02, 4.02900800e-01, 4.00000000e+00],\n",
       "       [1.55000000e+02, 2.88000000e+02, 4.04012254e-01, 3.00000000e+00],\n",
       "       [2.02000000e+02, 2.42000000e+02, 4.08776476e-01, 2.00000000e+00],\n",
       "       [1.46000000e+02, 2.77000000e+02, 4.15034935e-01, 3.00000000e+00],\n",
       "       [2.52000000e+02, 2.87000000e+02, 4.25113018e-01, 4.00000000e+00],\n",
       "       [2.00000000e+01, 2.10000000e+01, 4.32259832e-01, 2.00000000e+00],\n",
       "       [5.70000000e+01, 7.00000000e+01, 4.32695826e-01, 2.00000000e+00],\n",
       "       [2.43000000e+02, 2.55000000e+02, 4.34964847e-01, 3.00000000e+00],\n",
       "       [1.10000000e+02, 1.34000000e+02, 4.40539426e-01, 2.00000000e+00],\n",
       "       [1.98000000e+02, 2.35000000e+02, 4.43003354e-01, 2.00000000e+00],\n",
       "       [1.99000000e+02, 2.17000000e+02, 4.45570590e-01, 2.00000000e+00],\n",
       "       [1.02000000e+02, 1.07000000e+02, 4.48781091e-01, 2.00000000e+00],\n",
       "       [4.00000000e+01, 7.80000000e+01, 4.49426097e-01, 2.00000000e+00],\n",
       "       [3.00000000e+01, 2.59000000e+02, 4.59032407e-01, 3.00000000e+00],\n",
       "       [1.35000000e+02, 1.41000000e+02, 4.76434734e-01, 2.00000000e+00],\n",
       "       [1.00000000e+00, 7.60000000e+01, 4.86547470e-01, 2.00000000e+00],\n",
       "       [2.65000000e+02, 2.68000000e+02, 4.88130741e-01, 5.00000000e+00],\n",
       "       [5.10000000e+01, 9.00000000e+01, 4.97807765e-01, 2.00000000e+00],\n",
       "       [1.18000000e+02, 1.39000000e+02, 4.99284335e-01, 2.00000000e+00],\n",
       "       [2.64000000e+02, 2.71000000e+02, 4.99903557e-01, 4.00000000e+00],\n",
       "       [3.40000000e+01, 9.50000000e+01, 5.02835695e-01, 2.00000000e+00],\n",
       "       [2.36000000e+02, 2.41000000e+02, 5.03308447e-01, 2.00000000e+00],\n",
       "       [1.80000000e+02, 2.72000000e+02, 5.05194290e-01, 4.00000000e+00],\n",
       "       [1.01000000e+02, 1.21000000e+02, 5.08050498e-01, 2.00000000e+00],\n",
       "       [2.80000000e+01, 4.30000000e+01, 5.17992354e-01, 2.00000000e+00],\n",
       "       [1.56000000e+02, 3.16000000e+02, 5.20352199e-01, 3.00000000e+00],\n",
       "       [2.24000000e+02, 2.26000000e+02, 5.23194253e-01, 2.00000000e+00],\n",
       "       [3.80000000e+01, 8.60000000e+01, 5.41986872e-01, 2.00000000e+00],\n",
       "       [1.52000000e+02, 2.09000000e+02, 5.49478407e-01, 2.00000000e+00],\n",
       "       [3.10000000e+01, 9.40000000e+01, 5.51054676e-01, 2.00000000e+00],\n",
       "       [2.00000000e+02, 2.28000000e+02, 5.55882984e-01, 2.00000000e+00],\n",
       "       [1.05000000e+02, 1.29000000e+02, 5.59245984e-01, 2.00000000e+00],\n",
       "       [6.40000000e+01, 3.20000000e+02, 5.69715841e-01, 4.00000000e+00],\n",
       "       [1.08000000e+02, 1.28000000e+02, 5.76149908e-01, 2.00000000e+00],\n",
       "       [1.06000000e+02, 1.14000000e+02, 5.88428762e-01, 2.00000000e+00],\n",
       "       [2.90000000e+01, 2.86000000e+02, 6.02052769e-01, 3.00000000e+00],\n",
       "       [6.00000000e+01, 2.75000000e+02, 6.11301488e-01, 3.00000000e+00],\n",
       "       [1.96000000e+02, 2.48000000e+02, 6.11619747e-01, 2.00000000e+00],\n",
       "       [1.60000000e+01, 3.01000000e+02, 6.43214051e-01, 3.00000000e+00],\n",
       "       [4.50000000e+01, 8.50000000e+01, 6.43910675e-01, 2.00000000e+00],\n",
       "       [1.87000000e+02, 2.38000000e+02, 6.45841251e-01, 2.00000000e+00],\n",
       "       [1.37000000e+02, 2.82000000e+02, 6.49113147e-01, 3.00000000e+00],\n",
       "       [7.50000000e+01, 8.10000000e+01, 6.54197023e-01, 2.00000000e+00],\n",
       "       [2.40000000e+02, 2.90000000e+02, 6.54304698e-01, 3.00000000e+00],\n",
       "       [3.90000000e+01, 2.97000000e+02, 6.56279562e-01, 3.00000000e+00],\n",
       "       [1.04000000e+02, 3.21000000e+02, 6.60588318e-01, 3.00000000e+00],\n",
       "       [2.29000000e+02, 2.45000000e+02, 6.68663595e-01, 2.00000000e+00],\n",
       "       [1.27000000e+02, 1.32000000e+02, 6.77833260e-01, 2.00000000e+00],\n",
       "       [1.97000000e+02, 3.04000000e+02, 6.79247821e-01, 4.00000000e+00],\n",
       "       [2.66000000e+02, 3.06000000e+02, 6.80235770e-01, 5.00000000e+00],\n",
       "       [1.00000000e+02, 1.13000000e+02, 6.84864572e-01, 2.00000000e+00],\n",
       "       [1.76000000e+02, 2.27000000e+02, 6.98755453e-01, 2.00000000e+00],\n",
       "       [1.63000000e+02, 3.09000000e+02, 7.02176777e-01, 3.00000000e+00],\n",
       "       [1.25000000e+02, 1.33000000e+02, 7.14299740e-01, 2.00000000e+00],\n",
       "       [2.92000000e+02, 2.98000000e+02, 7.18744558e-01, 4.00000000e+00],\n",
       "       [2.40000000e+01, 8.90000000e+01, 7.24924223e-01, 2.00000000e+00],\n",
       "       [1.10000000e+01, 4.80000000e+01, 7.29007873e-01, 2.00000000e+00],\n",
       "       [1.15000000e+02, 1.23000000e+02, 7.34688639e-01, 2.00000000e+00],\n",
       "       [2.06000000e+02, 3.11000000e+02, 7.40277490e-01, 5.00000000e+00],\n",
       "       [2.49000000e+02, 3.37000000e+02, 7.44497177e-01, 3.00000000e+00],\n",
       "       [4.90000000e+01, 3.43000000e+02, 7.48098739e-01, 4.00000000e+00],\n",
       "       [2.62000000e+02, 2.89000000e+02, 7.54214102e-01, 5.00000000e+00],\n",
       "       [3.10000000e+02, 3.57000000e+02, 7.58385564e-01, 5.00000000e+00],\n",
       "       [8.70000000e+01, 2.76000000e+02, 7.76675223e-01, 4.00000000e+00],\n",
       "       [1.00000000e+01, 3.39000000e+02, 7.86415406e-01, 5.00000000e+00],\n",
       "       [2.94000000e+02, 3.32000000e+02, 8.07880737e-01, 5.00000000e+00],\n",
       "       [2.07000000e+02, 2.25000000e+02, 8.30958852e-01, 2.00000000e+00],\n",
       "       [1.50000000e+02, 2.91000000e+02, 8.36783815e-01, 3.00000000e+00],\n",
       "       [2.95000000e+02, 3.08000000e+02, 8.45612422e-01, 5.00000000e+00],\n",
       "       [2.78000000e+02, 3.12000000e+02, 8.61190720e-01, 4.00000000e+00],\n",
       "       [1.88000000e+02, 3.26000000e+02, 8.64564900e-01, 5.00000000e+00],\n",
       "       [1.17000000e+02, 3.25000000e+02, 8.77397888e-01, 3.00000000e+00],\n",
       "       [1.19000000e+02, 3.48000000e+02, 8.98994033e-01, 4.00000000e+00],\n",
       "       [6.30000000e+01, 9.30000000e+01, 9.11073078e-01, 2.00000000e+00],\n",
       "       [7.90000000e+01, 2.81000000e+02, 9.18429832e-01, 4.00000000e+00],\n",
       "       [1.53000000e+02, 2.15000000e+02, 9.20661792e-01, 2.00000000e+00],\n",
       "       [2.93000000e+02, 3.05000000e+02, 9.29450685e-01, 5.00000000e+00],\n",
       "       [1.93000000e+02, 2.99000000e+02, 9.36178872e-01, 4.00000000e+00],\n",
       "       [2.03000000e+02, 3.44000000e+02, 9.40337348e-01, 3.00000000e+00],\n",
       "       [8.00000000e+01, 3.13000000e+02, 9.45593900e-01, 3.00000000e+00],\n",
       "       [1.49000000e+02, 3.18000000e+02, 9.45687653e-01, 3.00000000e+00],\n",
       "       [2.74000000e+02, 3.03000000e+02, 9.53710655e-01, 4.00000000e+00],\n",
       "       [8.80000000e+01, 3.45000000e+02, 9.57214676e-01, 4.00000000e+00],\n",
       "       [4.00000000e+00, 6.20000000e+01, 9.62498970e-01, 2.00000000e+00],\n",
       "       [7.40000000e+01, 3.31000000e+02, 9.70351311e-01, 3.00000000e+00],\n",
       "       [2.16000000e+02, 2.46000000e+02, 9.98413613e-01, 2.00000000e+00],\n",
       "       [4.70000000e+01, 3.46000000e+02, 9.99546287e-01, 3.00000000e+00],\n",
       "       [1.86000000e+02, 3.28000000e+02, 1.01962383e+00, 3.00000000e+00],\n",
       "       [1.11000000e+02, 1.48000000e+02, 1.02647039e+00, 2.00000000e+00],\n",
       "       [1.78000000e+02, 3.53000000e+02, 1.03173163e+00, 3.00000000e+00],\n",
       "       [1.71000000e+02, 1.94000000e+02, 1.04334629e+00, 2.00000000e+00],\n",
       "       [1.20000000e+02, 3.38000000e+02, 1.04400807e+00, 3.00000000e+00],\n",
       "       [2.50000000e+01, 3.76000000e+02, 1.05795152e+00, 5.00000000e+00],\n",
       "       [3.24000000e+02, 3.49000000e+02, 1.07523662e+00, 4.00000000e+00],\n",
       "       [1.77000000e+02, 3.72000000e+02, 1.09184436e+00, 6.00000000e+00],\n",
       "       [2.84000000e+02, 3.50000000e+02, 1.09276861e+00, 5.00000000e+00],\n",
       "       [3.07000000e+02, 3.61000000e+02, 1.15505810e+00, 8.00000000e+00],\n",
       "       [3.22000000e+02, 3.34000000e+02, 1.16117369e+00, 4.00000000e+00],\n",
       "       [8.20000000e+01, 9.90000000e+01, 1.16155697e+00, 2.00000000e+00],\n",
       "       [1.12000000e+02, 3.95000000e+02, 1.17944956e+00, 3.00000000e+00],\n",
       "       [1.30000000e+02, 3.60000000e+02, 1.18136724e+00, 3.00000000e+00],\n",
       "       [2.96000000e+02, 3.33000000e+02, 1.19054224e+00, 5.00000000e+00],\n",
       "       [2.70000000e+02, 3.80000000e+02, 1.22916851e+00, 4.00000000e+00],\n",
       "       [2.39000000e+02, 3.65000000e+02, 1.23353917e+00, 6.00000000e+00],\n",
       "       [1.26000000e+02, 3.79000000e+02, 1.23569624e+00, 5.00000000e+00],\n",
       "       [3.60000000e+01, 3.51000000e+02, 1.25684280e+00, 4.00000000e+00],\n",
       "       [5.00000000e+01, 3.62000000e+02, 1.30888662e+00, 3.00000000e+00],\n",
       "       [3.19000000e+02, 3.27000000e+02, 1.31001670e+00, 4.00000000e+00],\n",
       "       [3.70000000e+01, 3.67000000e+02, 1.35285928e+00, 5.00000000e+00],\n",
       "       [2.83000000e+02, 3.82000000e+02, 1.35689911e+00, 4.00000000e+00],\n",
       "       [3.02000000e+02, 3.69000000e+02, 1.39302259e+00, 7.00000000e+00],\n",
       "       [3.36000000e+02, 3.56000000e+02, 1.42631242e+00, 7.00000000e+00],\n",
       "       [2.85000000e+02, 3.86000000e+02, 1.44271082e+00, 5.00000000e+00],\n",
       "       [3.35000000e+02, 3.97000000e+02, 1.46598833e+00, 4.00000000e+00],\n",
       "       [1.57000000e+02, 4.10000000e+02, 1.48286660e+00, 7.00000000e+00],\n",
       "       [3.14000000e+02, 3.83000000e+02, 1.52778453e+00, 8.00000000e+00],\n",
       "       [1.61000000e+02, 3.92000000e+02, 1.56603746e+00, 3.00000000e+00],\n",
       "       [3.15000000e+02, 3.87000000e+02, 1.57060620e+00, 5.00000000e+00],\n",
       "       [1.64000000e+02, 2.58000000e+02, 1.57100185e+00, 3.00000000e+00],\n",
       "       [3.41000000e+02, 3.52000000e+02, 1.60232516e+00, 5.00000000e+00],\n",
       "       [3.42000000e+02, 3.99000000e+02, 1.60391405e+00, 8.00000000e+00],\n",
       "       [3.55000000e+02, 3.77000000e+02, 1.60948460e+00, 9.00000000e+00],\n",
       "       [3.70000000e+02, 3.81000000e+02, 1.62073433e+00, 8.00000000e+00],\n",
       "       [3.29000000e+02, 3.75000000e+02, 1.63091313e+00, 9.00000000e+00],\n",
       "       [1.31000000e+02, 2.80000000e+02, 1.68971853e+00, 3.00000000e+00],\n",
       "       [3.40000000e+02, 3.54000000e+02, 1.72912979e+00, 4.00000000e+00],\n",
       "       [3.00000000e+02, 3.68000000e+02, 1.73337763e+00, 7.00000000e+00],\n",
       "       [3.59000000e+02, 3.73000000e+02, 1.80017589e+00, 5.00000000e+00],\n",
       "       [1.66000000e+02, 3.85000000e+02, 1.82995164e+00, 4.00000000e+00],\n",
       "       [1.38000000e+02, 1.45000000e+02, 1.93797801e+00, 2.00000000e+00],\n",
       "       [2.05000000e+02, 3.58000000e+02, 2.15131595e+00, 3.00000000e+00],\n",
       "       [3.91000000e+02, 3.93000000e+02, 2.18167539e+00, 6.00000000e+00],\n",
       "       [3.71000000e+02, 4.09000000e+02, 2.22033700e+00, 9.00000000e+00],\n",
       "       [3.47000000e+02, 4.01000000e+02, 2.27240750e+00, 8.00000000e+00],\n",
       "       [3.63000000e+02, 4.14000000e+02, 2.27664517e+00, 6.00000000e+00],\n",
       "       [3.89000000e+02, 4.29000000e+02, 2.28377033e+00, 1.20000000e+01],\n",
       "       [1.40000000e+02, 3.64000000e+02, 2.28713688e+00, 3.00000000e+00],\n",
       "       [3.88000000e+02, 4.21000000e+02, 2.32018944e+00, 1.10000000e+01],\n",
       "       [3.94000000e+02, 4.30000000e+02, 2.39672617e+00, 1.20000000e+01],\n",
       "       [4.11000000e+02, 4.24000000e+02, 2.46054134e+00, 1.00000000e+01],\n",
       "       [3.23000000e+02, 4.33000000e+02, 2.54058922e+00, 1.20000000e+01],\n",
       "       [4.12000000e+02, 4.38000000e+02, 2.57191431e+00, 1.00000000e+01],\n",
       "       [4.08000000e+02, 4.22000000e+02, 2.65365342e+00, 1.30000000e+01],\n",
       "       [2.34000000e+02, 4.35000000e+02, 2.68013467e+00, 5.00000000e+00],\n",
       "       [3.84000000e+02, 3.96000000e+02, 2.69855220e+00, 7.00000000e+00],\n",
       "       [3.30000000e+02, 4.32000000e+02, 2.73452091e+00, 6.00000000e+00],\n",
       "       [4.17000000e+02, 4.31000000e+02, 2.78172164e+00, 1.00000000e+01],\n",
       "       [3.17000000e+02, 4.20000000e+02, 2.79255618e+00, 6.00000000e+00],\n",
       "       [8.30000000e+01, 3.90000000e+02, 2.81928783e+00, 3.00000000e+00],\n",
       "       [3.66000000e+02, 4.37000000e+02, 2.86162492e+00, 6.00000000e+00],\n",
       "       [3.74000000e+02, 4.28000000e+02, 2.99433252e+00, 1.20000000e+01],\n",
       "       [4.06000000e+02, 4.26000000e+02, 3.02014259e+00, 8.00000000e+00],\n",
       "       [4.25000000e+02, 4.34000000e+02, 3.04701879e+00, 8.00000000e+00],\n",
       "       [3.98000000e+02, 4.07000000e+02, 3.05335798e+00, 6.00000000e+00],\n",
       "       [4.04000000e+02, 4.19000000e+02, 3.12061742e+00, 9.00000000e+00],\n",
       "       [4.00000000e+02, 4.41000000e+02, 3.25853831e+00, 1.00000000e+01],\n",
       "       [1.24000000e+02, 4.58000000e+02, 3.48978166e+00, 9.00000000e+00],\n",
       "       [4.05000000e+02, 4.15000000e+02, 3.51186433e+00, 7.00000000e+00],\n",
       "       [4.02000000e+02, 4.44000000e+02, 3.55208275e+00, 1.60000000e+01],\n",
       "       [4.47000000e+02, 4.61000000e+02, 3.77031475e+00, 2.10000000e+01],\n",
       "       [1.47000000e+02, 4.50000000e+02, 3.85881778e+00, 6.00000000e+00],\n",
       "       [3.78000000e+02, 4.43000000e+02, 4.04415488e+00, 6.00000000e+00],\n",
       "       [4.18000000e+02, 4.27000000e+02, 4.37319313e+00, 1.50000000e+01],\n",
       "       [4.03000000e+02, 4.42000000e+02, 4.37949452e+00, 2.00000000e+01],\n",
       "       [2.79000000e+02, 4.13000000e+02, 4.48463786e+00, 5.00000000e+00],\n",
       "       [4.23000000e+02, 4.59000000e+02, 4.66808907e+00, 1.10000000e+01],\n",
       "       [4.36000000e+02, 4.60000000e+02, 4.91593094e+00, 8.00000000e+00],\n",
       "       [4.16000000e+02, 4.49000000e+02, 5.04812583e+00, 1.70000000e+01],\n",
       "       [4.54000000e+02, 4.65000000e+02, 5.40398451e+00, 2.20000000e+01],\n",
       "       [4.64000000e+02, 4.70000000e+02, 5.71695828e+00, 2.70000000e+01],\n",
       "       [4.46000000e+02, 4.53000000e+02, 5.89467906e+00, 2.00000000e+01],\n",
       "       [4.48000000e+02, 4.69000000e+02, 6.04834290e+00, 2.50000000e+01],\n",
       "       [4.51000000e+02, 4.56000000e+02, 6.30381537e+00, 1.30000000e+01],\n",
       "       [4.40000000e+02, 4.57000000e+02, 6.44268504e+00, 2.00000000e+01],\n",
       "       [4.52000000e+02, 4.63000000e+02, 6.98644817e+00, 1.50000000e+01],\n",
       "       [4.55000000e+02, 4.78000000e+02, 7.20683345e+00, 2.80000000e+01],\n",
       "       [4.68000000e+02, 4.73000000e+02, 7.53135979e+00, 1.40000000e+01],\n",
       "       [4.45000000e+02, 4.74000000e+02, 7.66359065e+00, 2.90000000e+01],\n",
       "       [4.72000000e+02, 4.80000000e+02, 8.81130936e+00, 3.10000000e+01],\n",
       "       [4.39000000e+02, 4.66000000e+02, 9.77930066e+00, 3.00000000e+01],\n",
       "       [4.75000000e+02, 4.79000000e+02, 1.03392397e+01, 3.50000000e+01],\n",
       "       [4.77000000e+02, 4.83000000e+02, 1.16988837e+01, 3.40000000e+01],\n",
       "       [4.62000000e+02, 4.82000000e+02, 1.18722795e+01, 3.80000000e+01],\n",
       "       [4.71000000e+02, 4.76000000e+02, 1.21880062e+01, 3.20000000e+01],\n",
       "       [4.67000000e+02, 4.84000000e+02, 1.25194299e+01, 3.50000000e+01],\n",
       "       [4.86000000e+02, 4.90000000e+02, 1.51282733e+01, 6.20000000e+01],\n",
       "       [4.85000000e+02, 4.91000000e+02, 1.53899022e+01, 6.60000000e+01],\n",
       "       [4.81000000e+02, 4.88000000e+02, 1.71731144e+01, 4.90000000e+01],\n",
       "       [4.89000000e+02, 4.92000000e+02, 2.25539862e+01, 1.00000000e+02],\n",
       "       [4.87000000e+02, 4.93000000e+02, 2.82133291e+01, 1.01000000e+02],\n",
       "       [4.94000000e+02, 4.96000000e+02, 8.00943490e+01, 1.50000000e+02],\n",
       "       [4.95000000e+02, 4.97000000e+02, 2.26036308e+02, 2.50000000e+02]])"
      ]
     },
     "execution_count": 267,
     "metadata": {},
     "output_type": "execute_result"
    }
   ],
   "source": [
    "from scipy.cluster.hierarchy import dendrogram, linkage\n",
    "Z = linkage(X, method='ward',metric='euclidean')\n",
    "Z"
   ]
  },
  {
   "cell_type": "code",
   "execution_count": 0,
   "metadata": {
    "colab": {},
    "colab_type": "code",
    "id": "A6YN_sjhhpC4"
   },
   "outputs": [],
   "source": []
  },
  {
   "cell_type": "markdown",
   "metadata": {
    "colab_type": "text",
    "id": "UnVS8VYMhpC9"
   },
   "source": [
    "### 12. Plot the dendrogram for the consolidated dataframe"
   ]
  },
  {
   "cell_type": "code",
   "execution_count": 266,
   "metadata": {
    "colab": {},
    "colab_type": "code",
    "id": "oeLtemVqhpC_"
   },
   "outputs": [
    {
     "data": {
      "image/png": "[encoded data removed]",
      "text/plain": [
       "<Figure size 720x720 with 1 Axes>"
      ]
     },
     "metadata": {
      "needs_background": "light"
     },
     "output_type": "display_data"
    }
   ],
   "source": [
    "plt.figure(figsize=(10, 10))\n",
    "plt.title('Dendogram')\n",
    "plt.xlabel('Index')\n",
    "plt.ylabel('Distance')\n",
    "dendrogram(Z, leaf_rotation=90)\n",
    "plt.tight_layout()"
   ]
  },
  {
   "cell_type": "code",
   "execution_count": 0,
   "metadata": {
    "colab": {},
    "colab_type": "code",
    "id": "TMfqcHfuhpDH"
   },
   "outputs": [],
   "source": []
  },
  {
   "cell_type": "code",
   "execution_count": 0,
   "metadata": {
    "colab": {},
    "colab_type": "code",
    "id": "PJhBRBIwhpDM"
   },
   "outputs": [],
   "source": []
  },
  {
   "cell_type": "markdown",
   "metadata": {
    "colab_type": "text",
    "id": "QXE-T9cHhpDS"
   },
   "source": [
    "### 13. Recreate the dendrogram for last 12 merged clusters "
   ]
  },
  {
   "cell_type": "markdown",
   "metadata": {},
   "source": [
    "https://docs.scipy.org/doc/scipy-0.14.0/reference/generated/scipy.cluster.hierarchy.dendrogram.html"
   ]
  },
  {
   "cell_type": "markdown",
   "metadata": {
    "colab_type": "text",
    "id": "4PKR3o5QhpDX"
   },
   "source": [
    "Hint: Use truncate_mode='lastp' attribute in dendrogram function to arrive at dendrogram "
   ]
  },
  {
   "cell_type": "code",
   "execution_count": 265,
   "metadata": {
    "colab": {},
    "colab_type": "code",
    "id": "GDri9xtAhpDY"
   },
   "outputs": [
    {
     "data": {
      "image/png": "[encoded data removed]",
      "text/plain": [
       "<Figure size 720x720 with 1 Axes>"
      ]
     },
     "metadata": {
      "needs_background": "light"
     },
     "output_type": "display_data"
    }
   ],
   "source": [
    "plt.figure(figsize=(10, 10))\n",
    "plt.title('Dendogram')\n",
    "plt.xlabel('Index')\n",
    "plt.ylabel('Distance')\n",
    "dendrogram(Z, leaf_rotation=90,truncate_mode='lastp',p=12)\n",
    "plt.tight_layout()"
   ]
  },
  {
   "cell_type": "code",
   "execution_count": 0,
   "metadata": {
    "colab": {},
    "colab_type": "code",
    "id": "k4GVCz44hpDg"
   },
   "outputs": [],
   "source": []
  },
  {
   "cell_type": "markdown",
   "metadata": {
    "colab_type": "text",
    "id": "zjFjCWL5hpDr"
   },
   "source": [
    "### 14. From the truncated dendrogram, find out the optimal distance between clusters which u want to use an input for clustering data"
   ]
  },
  {
   "cell_type": "markdown",
   "metadata": {
    "colab": {},
    "colab_type": "code",
    "id": "DQ5m6orQhpDt"
   },
   "source": [
    "https://docs.scipy.org/doc/scipy-0.15.1/reference/generated/scipy.cluster.hierarchy.fcluster.html"
   ]
  },
  {
   "cell_type": "markdown",
   "metadata": {
    "colab": {},
    "colab_type": "code",
    "id": "5-yUhkgMhpDx"
   },
   "source": [
    "The optimal Distance between clusters is around 50. Let us take the optimal distance as 50"
   ]
  },
  {
   "cell_type": "markdown",
   "metadata": {
    "colab_type": "text",
    "id": "owSZBbSUhpEC"
   },
   "source": [
    "### 15. Using this distance measure and fcluster function to cluster the data into 3 different groups"
   ]
  },
  {
   "cell_type": "code",
   "execution_count": 260,
   "metadata": {
    "colab": {},
    "colab_type": "code",
    "id": "HLVorGUEhpEE"
   },
   "outputs": [
    {
     "data": {
      "text/plain": [
       "array([1, 1, 1, 1, 1, 1, 1, 1, 1, 1, 1, 1, 1, 1, 1, 1, 1, 1, 1, 1, 1, 1,\n",
       "       1, 1, 1, 1, 1, 1, 1, 1, 1, 1, 1, 1, 1, 1, 1, 1, 1, 1, 1, 1, 1, 1,\n",
       "       1, 1, 1, 1, 1, 1, 1, 1, 1, 1, 1, 1, 1, 1, 1, 1, 1, 1, 1, 1, 1, 1,\n",
       "       1, 1, 1, 1, 1, 1, 1, 1, 1, 1, 1, 1, 1, 1, 1, 1, 1, 1, 1, 1, 1, 1,\n",
       "       1, 1, 1, 1, 1, 1, 1, 1, 1, 1, 1, 1, 2, 2, 2, 2, 2, 2, 2, 2, 2, 2,\n",
       "       2, 2, 2, 2, 2, 2, 2, 2, 2, 2, 2, 2, 2, 2, 2, 2, 2, 2, 2, 2, 2, 2,\n",
       "       2, 2, 2, 2, 2, 2, 2, 2, 2, 2, 2, 2, 2, 2, 2, 3, 2, 2, 3, 3, 3, 3,\n",
       "       3, 3, 3, 3, 3, 3, 3, 3, 3, 3, 3, 3, 3, 3, 3, 3, 3, 3, 3, 3, 3, 3,\n",
       "       3, 3, 3, 3, 3, 3, 3, 3, 3, 3, 3, 3, 3, 3, 3, 3, 3, 3, 3, 3, 3, 3,\n",
       "       3, 3, 3, 3, 3, 3, 3, 3, 3, 3, 3, 3, 3, 3, 3, 3, 3, 3, 3, 3, 3, 3,\n",
       "       3, 3, 3, 3, 3, 3, 3, 3, 3, 3, 3, 3, 3, 3, 3, 3, 3, 3, 3, 3, 3, 3,\n",
       "       3, 3, 3, 3, 3, 3, 3, 3], dtype=int32)"
      ]
     },
     "execution_count": 260,
     "metadata": {},
     "output_type": "execute_result"
    }
   ],
   "source": [
    "from scipy.cluster.hierarchy import fcluster\n",
    "clusters = fcluster(Z, t=50, criterion='distance')\n",
    "clusters"
   ]
  },
  {
   "cell_type": "code",
   "execution_count": 0,
   "metadata": {
    "colab": {},
    "colab_type": "code",
    "id": "Rgty9iOlhpEL"
   },
   "outputs": [],
   "source": []
  },
  {
   "cell_type": "markdown",
   "metadata": {
    "colab_type": "text",
    "id": "642Ur5TWhpEX"
   },
   "source": [
    "### Use matplotlib to visually observe the clusters in 2D space "
   ]
  },
  {
   "cell_type": "code",
   "execution_count": 264,
   "metadata": {
    "colab": {},
    "colab_type": "code",
    "id": "YHHSylfQhpEX"
   },
   "outputs": [
    {
     "data": {
      "image/png": "[encoded data removed]",
      "text/plain": [
       "<Figure size 432x288 with 1 Axes>"
      ]
     },
     "metadata": {
      "needs_background": "light"
     },
     "output_type": "display_data"
    }
   ],
   "source": [
    "plt.scatter(X[:,0], X[:,1], c=clusters) \n",
    "plt.show()"
   ]
  }
 ],
 "metadata": {
  "colab": {
   "collapsed_sections": [
    "n2kFVi2GhpBn",
    "Ufj36K5NhpCo",
    "zjFjCWL5hpDr",
    "owSZBbSUhpEC",
    "642Ur5TWhpEX"
   ],
   "name": "R4_Internal_Lab_Clustering.ipynb",
   "provenance": [],
   "version": "0.3.2"
  },
  "kernelspec": {
   "display_name": "Python 3",
   "language": "python",
   "name": "python3"
  },
  "language_info": {
   "codemirror_mode": {
    "name": "ipython",
    "version": 3
   },
   "file_extension": ".py",
   "mimetype": "text/x-python",
   "name": "python",
   "nbconvert_exporter": "python",
   "pygments_lexer": "ipython3",
   "version": "3.7.4"
  }
 },
 "nbformat": 4,
 "nbformat_minor": 1
}
